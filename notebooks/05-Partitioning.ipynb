{
 "cells": [
  {
   "cell_type": "markdown",
   "id": "380d222d-b0a6-440b-95c4-bb6a3c8370e5",
   "metadata": {},
   "source": [
    "# Partitioning\n",
    "\n",
    "Iceberg (and other lakehouses) don't provide indexes that you may be used to from a more traditional datawarehouse, but they do provide a concept of partitioning, which serves a similar purpose. \n",
    "\n",
    "Partitioning refers to structuring the way the files are saved to disk in order to co-locate ranges of values. This makes it more likely that the query engine only has to read a few files to get all the requested data instead of all of them.\n",
    "\n",
    "If you haven't noticed the theme yet, it's all about eliminating as much disk I/O as possible. The less files we have to scan, the more performant our query is!\n",
    "\n",
    "Iceberg implements what they call *Hidden Partitioning*, and let's digress a little bit to the past to understand what that means.\n",
    "\n",
    "Hive implemented *Explicit partitioning*, where the user needs to be aware of the partitioning and explicitly use when reading and writing.\n",
    "\n",
    "```{figure} images/hive_partitioning.png\n",
    ":alt: Hive-style partitioning\n",
    ":align: center\n",
    ":figwidth: image\n",
    "\n",
    "Hive-style partitioning\n",
    "```\n",
    "\n",
    "The main issue with Hive-style partitioning is that it is explicit.\n",
    "Given this partitioning scheme, if I wanted to query a range 2024-01-01 <=> 2024-02-28 I might want to write this query\n",
    "\n",
    "```sql\n",
    "SELECT * FROM reviews WHERE review_date between '2024-01-01' AND '2024-02-28'\n",
    "```\n",
    "\n",
    "This query would not use the index, as Hive is explicitly expecting a year, month and date filter.\n",
    "\n",
    "```sql\n",
    "SELECT * from reviews where year = 2024 AND (month = 1 OR month = 2) AND DAY BETWEEN 1 and 31\n",
    "```\n",
    "\n",
    "Iceberg hides this complexity away from the user, hence **Hidden Partitioning**\n",
    "\n",
    "We could have defined our partitioning when we created the table, but like much of data engineering, we realized later we needed it."
   ]
  },
  {
   "cell_type": "code",
   "execution_count": 1,
   "id": "7c357fbc-7589-4d8f-a236-b45fbc597be3",
   "metadata": {},
   "outputs": [],
   "source": [
    "from schema import house_prices_schema\n",
    "from utils import read_house_prices, query, catalog, engine"
   ]
  },
  {
   "cell_type": "code",
   "execution_count": 2,
   "id": "daa1c8c2-5960-4509-bd5f-b370c6c6a9f7",
   "metadata": {},
   "outputs": [],
   "source": [
    "catalog.drop_table(\"house_prices.raw\", purge_requested=True)"
   ]
  },
  {
   "cell_type": "code",
   "execution_count": 3,
   "id": "d43647f8-c558-4173-b976-b75e7de75c13",
   "metadata": {},
   "outputs": [],
   "source": [
    "house_prices_t = catalog.create_table_if_not_exists(\"house_prices.raw\", schema=house_prices_schema, location=\"s3://warehouse/raw\")"
   ]
  },
  {
   "cell_type": "code",
   "execution_count": 4,
   "id": "b1865955-b012-47f2-8806-d5b3ad74168b",
   "metadata": {},
   "outputs": [],
   "source": [
    "from pyiceberg.transforms import MonthTransform, YearTransform\n",
    "with house_prices_t.update_spec() as spec:\n",
    "    spec.add_field(\"date_of_transfer\", MonthTransform(), \"month_date_of_transfer\")\n",
    "\n",
    "# Show adding new field"
   ]
  },
  {
   "cell_type": "code",
   "execution_count": 6,
   "id": "026e0d61-102e-47e3-bed0-19020af8eba4",
   "metadata": {},
   "outputs": [
    {
     "data": {
      "text/plain": [
       "[PosixPath('data/house_prices/pp-1995.csv'),\n",
       " PosixPath('data/house_prices/pp-1996.csv'),\n",
       " PosixPath('data/house_prices/pp-1997.csv'),\n",
       " PosixPath('data/house_prices/pp-1998.csv'),\n",
       " PosixPath('data/house_prices/pp-1999.csv'),\n",
       " PosixPath('data/house_prices/pp-2000.csv'),\n",
       " PosixPath('data/house_prices/pp-2001.csv'),\n",
       " PosixPath('data/house_prices/pp-2002.csv'),\n",
       " PosixPath('data/house_prices/pp-2003.csv'),\n",
       " PosixPath('data/house_prices/pp-2004.csv'),\n",
       " PosixPath('data/house_prices/pp-2005.csv'),\n",
       " PosixPath('data/house_prices/pp-2006.csv'),\n",
       " PosixPath('data/house_prices/pp-2007.csv'),\n",
       " PosixPath('data/house_prices/pp-2008.csv'),\n",
       " PosixPath('data/house_prices/pp-2009.csv'),\n",
       " PosixPath('data/house_prices/pp-2010.csv'),\n",
       " PosixPath('data/house_prices/pp-2011.csv'),\n",
       " PosixPath('data/house_prices/pp-2012.csv'),\n",
       " PosixPath('data/house_prices/pp-2013.csv'),\n",
       " PosixPath('data/house_prices/pp-2014.csv'),\n",
       " PosixPath('data/house_prices/pp-2015.csv'),\n",
       " PosixPath('data/house_prices/pp-2016.csv'),\n",
       " PosixPath('data/house_prices/pp-2017.csv'),\n",
       " PosixPath('data/house_prices/pp-2018.csv'),\n",
       " PosixPath('data/house_prices/pp-2019.csv'),\n",
       " PosixPath('data/house_prices/pp-2020.csv'),\n",
       " PosixPath('data/house_prices/pp-2021.csv'),\n",
       " PosixPath('data/house_prices/pp-2022.csv'),\n",
       " PosixPath('data/house_prices/pp-2023.csv'),\n",
       " PosixPath('data/house_prices/pp-2024.csv')]"
      ]
     },
     "execution_count": 6,
     "metadata": {},
     "output_type": "execute_result"
    }
   ],
   "source": [
    "import pathlib\n",
    "files_to_load = sorted(list(pathlib.Path(\"data/house_prices/\").glob(\"*.csv\")))\n",
    "files_to_load"
   ]
  },
  {
   "cell_type": "code",
   "execution_count": 7,
   "id": "09d6ece1-365c-4bac-b5a2-e7797acab681",
   "metadata": {},
   "outputs": [
    {
     "name": "stdout",
     "output_type": "stream",
     "text": [
      "Appending pp-1995.csv - 797,040 rows\n",
      "Tagged: 1995_load\n",
      "Appending pp-1996.csv - 965,283 rows\n",
      "Tagged: 1996_load\n",
      "Appending pp-1997.csv - 1,094,498 rows\n",
      "Tagged: 1997_load\n",
      "Appending pp-1998.csv - 1,050,541 rows\n",
      "Tagged: 1998_load\n",
      "Appending pp-1999.csv - 1,194,921 rows\n",
      "Tagged: 1999_load\n",
      "Appending pp-2000.csv - 1,129,409 rows\n",
      "Tagged: 2000_load\n",
      "Appending pp-2001.csv - 1,245,876 rows\n",
      "Tagged: 2001_load\n",
      "Appending pp-2002.csv - 1,351,810 rows\n",
      "Tagged: 2002_load\n",
      "Appending pp-2003.csv - 1,235,493 rows\n",
      "Tagged: 2003_load\n",
      "Appending pp-2004.csv - 1,231,987 rows\n",
      "Tagged: 2004_load\n",
      "Appending pp-2005.csv - 1,061,437 rows\n",
      "Tagged: 2005_load\n",
      "Appending pp-2006.csv - 1,326,106 rows\n",
      "Tagged: 2006_load\n",
      "Appending pp-2007.csv - 1,272,356 rows\n",
      "Tagged: 2007_load\n",
      "Appending pp-2008.csv - 649,649 rows\n",
      "Tagged: 2008_load\n",
      "Appending pp-2009.csv - 625,307 rows\n",
      "Tagged: 2009_load\n",
      "Appending pp-2010.csv - 663,286 rows\n",
      "Tagged: 2010_load\n",
      "Appending pp-2011.csv - 661,203 rows\n",
      "Tagged: 2011_load\n",
      "Appending pp-2012.csv - 668,918 rows\n",
      "Tagged: 2012_load\n",
      "Appending pp-2013.csv - 811,059 rows\n",
      "Tagged: 2013_load\n",
      "Appending pp-2014.csv - 984,980 rows\n",
      "Tagged: 2014_load\n",
      "Appending pp-2015.csv - 1,010,755 rows\n",
      "Tagged: 2015_load\n",
      "Appending pp-2016.csv - 1,046,018 rows\n",
      "Tagged: 2016_load\n",
      "Appending pp-2017.csv - 1,067,118 rows\n",
      "Tagged: 2017_load\n",
      "Appending pp-2018.csv - 1,037,085 rows\n",
      "Tagged: 2018_load\n",
      "Appending pp-2019.csv - 1,011,237 rows\n",
      "Tagged: 2019_load\n",
      "Appending pp-2020.csv - 895,168 rows\n",
      "Tagged: 2020_load\n",
      "Appending pp-2021.csv - 1,276,537 rows\n",
      "Tagged: 2021_load\n",
      "Appending pp-2022.csv - 1,067,299 rows\n",
      "Tagged: 2022_load\n",
      "Appending pp-2023.csv - 841,772 rows\n",
      "Tagged: 2023_load\n",
      "Appending pp-2024.csv - 704,344 rows\n",
      "Tagged: 2024_load\n"
     ]
    }
   ],
   "source": [
    "for filename in files_to_load:\n",
    "    year = filename.name[3:7]\n",
    "    df = read_house_prices(filename).to_arrow().cast(house_prices_schema.as_arrow())\n",
    "    print(f\"Appending {filename.name} - {len(df):,} rows\")\n",
    "    house_prices_t.append(df)\n",
    "    current_snapshot = house_prices_t.current_snapshot().snapshot_id\n",
    "    house_prices_t.manage_snapshots().create_tag(current_snapshot, f'{year}_load').commit()\n",
    "    print(f\"Tagged: {year}_load\")"
   ]
  },
  {
   "cell_type": "code",
   "execution_count": 8,
   "id": "20e605ae-6989-44a1-81fb-fe50abe6f0b2",
   "metadata": {},
   "outputs": [
    {
     "data": {
      "text/plain": [
       "{'2016_load': SnapshotRef(snapshot_id=2885797485783118428, snapshot_ref_type=SnapshotRefType.TAG, min_snapshots_to_keep=None, max_snapshot_age_ms=None, max_ref_age_ms=None),\n",
       " 'main': SnapshotRef(snapshot_id=7191227797506811923, snapshot_ref_type=SnapshotRefType.BRANCH, min_snapshots_to_keep=None, max_snapshot_age_ms=None, max_ref_age_ms=None),\n",
       " '2011_load': SnapshotRef(snapshot_id=1276191452546819040, snapshot_ref_type=SnapshotRefType.TAG, min_snapshots_to_keep=None, max_snapshot_age_ms=None, max_ref_age_ms=None),\n",
       " '2018_load': SnapshotRef(snapshot_id=8321004510563170038, snapshot_ref_type=SnapshotRefType.TAG, min_snapshots_to_keep=None, max_snapshot_age_ms=None, max_ref_age_ms=None),\n",
       " '2014_load': SnapshotRef(snapshot_id=5557644292704981373, snapshot_ref_type=SnapshotRefType.TAG, min_snapshots_to_keep=None, max_snapshot_age_ms=None, max_ref_age_ms=None),\n",
       " '2000_load': SnapshotRef(snapshot_id=5142863807827331626, snapshot_ref_type=SnapshotRefType.TAG, min_snapshots_to_keep=None, max_snapshot_age_ms=None, max_ref_age_ms=None),\n",
       " '1996_load': SnapshotRef(snapshot_id=501090558427044669, snapshot_ref_type=SnapshotRefType.TAG, min_snapshots_to_keep=None, max_snapshot_age_ms=None, max_ref_age_ms=None),\n",
       " '1998_load': SnapshotRef(snapshot_id=229768937981183045, snapshot_ref_type=SnapshotRefType.TAG, min_snapshots_to_keep=None, max_snapshot_age_ms=None, max_ref_age_ms=None),\n",
       " '2013_load': SnapshotRef(snapshot_id=8404483585831233449, snapshot_ref_type=SnapshotRefType.TAG, min_snapshots_to_keep=None, max_snapshot_age_ms=None, max_ref_age_ms=None),\n",
       " '2001_load': SnapshotRef(snapshot_id=3551043583760534361, snapshot_ref_type=SnapshotRefType.TAG, min_snapshots_to_keep=None, max_snapshot_age_ms=None, max_ref_age_ms=None),\n",
       " '2019_load': SnapshotRef(snapshot_id=4152042721913187938, snapshot_ref_type=SnapshotRefType.TAG, min_snapshots_to_keep=None, max_snapshot_age_ms=None, max_ref_age_ms=None),\n",
       " '2022_load': SnapshotRef(snapshot_id=7659246798209390625, snapshot_ref_type=SnapshotRefType.TAG, min_snapshots_to_keep=None, max_snapshot_age_ms=None, max_ref_age_ms=None),\n",
       " '2006_load': SnapshotRef(snapshot_id=6212294131034248481, snapshot_ref_type=SnapshotRefType.TAG, min_snapshots_to_keep=None, max_snapshot_age_ms=None, max_ref_age_ms=None),\n",
       " '2004_load': SnapshotRef(snapshot_id=4449259637344159304, snapshot_ref_type=SnapshotRefType.TAG, min_snapshots_to_keep=None, max_snapshot_age_ms=None, max_ref_age_ms=None),\n",
       " '2023_load': SnapshotRef(snapshot_id=7453587369189888096, snapshot_ref_type=SnapshotRefType.TAG, min_snapshots_to_keep=None, max_snapshot_age_ms=None, max_ref_age_ms=None),\n",
       " '2008_load': SnapshotRef(snapshot_id=1789981881794925879, snapshot_ref_type=SnapshotRefType.TAG, min_snapshots_to_keep=None, max_snapshot_age_ms=None, max_ref_age_ms=None),\n",
       " '2021_load': SnapshotRef(snapshot_id=2291044725513686867, snapshot_ref_type=SnapshotRefType.TAG, min_snapshots_to_keep=None, max_snapshot_age_ms=None, max_ref_age_ms=None),\n",
       " '2003_load': SnapshotRef(snapshot_id=8438081045419526853, snapshot_ref_type=SnapshotRefType.TAG, min_snapshots_to_keep=None, max_snapshot_age_ms=None, max_ref_age_ms=None),\n",
       " '2002_load': SnapshotRef(snapshot_id=6237753176552299902, snapshot_ref_type=SnapshotRefType.TAG, min_snapshots_to_keep=None, max_snapshot_age_ms=None, max_ref_age_ms=None),\n",
       " '2007_load': SnapshotRef(snapshot_id=6985846226304174043, snapshot_ref_type=SnapshotRefType.TAG, min_snapshots_to_keep=None, max_snapshot_age_ms=None, max_ref_age_ms=None),\n",
       " '2012_load': SnapshotRef(snapshot_id=7298961313168950206, snapshot_ref_type=SnapshotRefType.TAG, min_snapshots_to_keep=None, max_snapshot_age_ms=None, max_ref_age_ms=None),\n",
       " '2009_load': SnapshotRef(snapshot_id=137423185961604646, snapshot_ref_type=SnapshotRefType.TAG, min_snapshots_to_keep=None, max_snapshot_age_ms=None, max_ref_age_ms=None),\n",
       " '2015_load': SnapshotRef(snapshot_id=6038955041580215533, snapshot_ref_type=SnapshotRefType.TAG, min_snapshots_to_keep=None, max_snapshot_age_ms=None, max_ref_age_ms=None),\n",
       " '2005_load': SnapshotRef(snapshot_id=6482018845090584537, snapshot_ref_type=SnapshotRefType.TAG, min_snapshots_to_keep=None, max_snapshot_age_ms=None, max_ref_age_ms=None),\n",
       " '1997_load': SnapshotRef(snapshot_id=7984594900772236497, snapshot_ref_type=SnapshotRefType.TAG, min_snapshots_to_keep=None, max_snapshot_age_ms=None, max_ref_age_ms=None),\n",
       " '2010_load': SnapshotRef(snapshot_id=7440341678412736741, snapshot_ref_type=SnapshotRefType.TAG, min_snapshots_to_keep=None, max_snapshot_age_ms=None, max_ref_age_ms=None),\n",
       " '2024_load': SnapshotRef(snapshot_id=7191227797506811923, snapshot_ref_type=SnapshotRefType.TAG, min_snapshots_to_keep=None, max_snapshot_age_ms=None, max_ref_age_ms=None),\n",
       " '1995_load': SnapshotRef(snapshot_id=4671431483435765568, snapshot_ref_type=SnapshotRefType.TAG, min_snapshots_to_keep=None, max_snapshot_age_ms=None, max_ref_age_ms=None),\n",
       " '2017_load': SnapshotRef(snapshot_id=2080987724239862805, snapshot_ref_type=SnapshotRefType.TAG, min_snapshots_to_keep=None, max_snapshot_age_ms=None, max_ref_age_ms=None),\n",
       " '1999_load': SnapshotRef(snapshot_id=7125507173664284799, snapshot_ref_type=SnapshotRefType.TAG, min_snapshots_to_keep=None, max_snapshot_age_ms=None, max_ref_age_ms=None),\n",
       " '2020_load': SnapshotRef(snapshot_id=6754120942317966933, snapshot_ref_type=SnapshotRefType.TAG, min_snapshots_to_keep=None, max_snapshot_age_ms=None, max_ref_age_ms=None)}"
      ]
     },
     "execution_count": 8,
     "metadata": {},
     "output_type": "execute_result"
    }
   ],
   "source": [
    "house_prices_t.refs()"
   ]
  },
  {
   "cell_type": "code",
   "execution_count": 9,
   "id": "855930bd-48a7-4795-8325-44b6f9b22a4c",
   "metadata": {},
   "outputs": [
    {
     "data": {
      "text/html": [
       "<div><style>\n",
       ".dataframe > thead > tr,\n",
       ".dataframe > tbody > tr {\n",
       "  text-align: right;\n",
       "  white-space: pre-wrap;\n",
       "}\n",
       "</style>\n",
       "<small>shape: (1, 1)</small><table border=\"1\" class=\"dataframe\"><thead><tr><th>num_rows</th></tr><tr><td>i64</td></tr></thead><tbody><tr><td>29978492</td></tr></tbody></table></div>"
      ],
      "text/plain": [
       "shape: (1, 1)\n",
       "┌──────────┐\n",
       "│ num_rows │\n",
       "│ ---      │\n",
       "│ i64      │\n",
       "╞══════════╡\n",
       "│ 29978492 │\n",
       "└──────────┘"
      ]
     },
     "execution_count": 9,
     "metadata": {},
     "output_type": "execute_result"
    }
   ],
   "source": [
    "query(\"select count(*) as num_rows from house_prices.raw for version as of '2024_load'\")"
   ]
  },
  {
   "cell_type": "code",
   "execution_count": 28,
   "id": "48251ed8-596c-40ae-911e-a0ac2a293144",
   "metadata": {},
   "outputs": [],
   "source": [
    "import polars as pl"
   ]
  },
  {
   "cell_type": "code",
   "execution_count": null,
   "id": "bf65b66d-cac8-49fb-9063-1a0cd86d3853",
   "metadata": {},
   "outputs": [],
   "source": [
    "pl.scan_iceberg(house_prices_t).select(\n",
    "    pl\n",
    "    pl.col(\"paon\"),\n",
    "    pl.col(\"saon\"),\n",
    "    pl.col(\"street\"),\n",
    "    pl.col(\"locality\"),\n",
    "    pl.col(\"town\"),\n",
    "    pl.col(\"district\"),\n",
    "    pl.col(\"county\"),\n",
    "    pl.col(\"postcode\"),\n",
    ").unique()"
   ]
  }
 ],
 "metadata": {
  "kernelspec": {
   "display_name": "Python 3 (ipykernel)",
   "language": "python",
   "name": "python3"
  },
  "language_info": {
   "codemirror_mode": {
    "name": "ipython",
    "version": 3
   },
   "file_extension": ".py",
   "mimetype": "text/x-python",
   "name": "python",
   "nbconvert_exporter": "python",
   "pygments_lexer": "ipython3",
   "version": "3.12.10"
  }
 },
 "nbformat": 4,
 "nbformat_minor": 5
}
