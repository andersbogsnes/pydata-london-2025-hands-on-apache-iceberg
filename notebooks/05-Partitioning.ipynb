{
 "cells": [
  {
   "cell_type": "markdown",
   "id": "380d222d-b0a6-440b-95c4-bb6a3c8370e5",
   "metadata": {},
   "source": [
    "# Partitioning\n",
    "\n",
    "Iceberg (and other lakehouses) don't provide indexes that you may be used to from a more traditional datawarehouse, but they do provide a concept of partitioning, which serves a similar purpose. \n",
    "\n",
    "Partitioning refers to structuring the way the files are saved to disk in order to co-locate ranges of values. This makes it more likely that the query engine only has to read a few files to get all the requested data instead of all of them.\n",
    "\n",
    "If you haven't noticed the theme yet, it's all about eliminating as much disk I/O as possible. The less files we have to scan, the more performant our query is!\n",
    "\n",
    "Iceberg implements what they call *Hidden Partitioning*, and let's digress a little bit to the past to understand what that means.\n",
    "\n",
    "Hive implemented *Explicit partitioning*, where the user needs to be aware of the partitioning and explicitly use when reading and writing.\n",
    "\n",
    "```{figure} images/hive_partitioning.png\n",
    ":alt: Hive-style partitioning\n",
    ":align: center\n",
    ":figwidth: image\n",
    "\n",
    "Hive-style partitioning\n",
    "```\n",
    "\n",
    "The main issue with Hive-style partitioning is that it is explicit.\n",
    "Given this partitioning scheme, if I wanted to query a range 2024-01-01 <=> 2024-02-28 I might want to write this query\n",
    "\n",
    "```sql\n",
    "SELECT * FROM reviews WHERE review_date between '2024-01-01' AND '2024-02-28'\n",
    "```\n",
    "\n",
    "This query would not use the index, as Hive is explicitly expecting a year, month and date filter.\n",
    "\n",
    "```sql\n",
    "SELECT * from reviews where year = 2024 AND (month = 1 OR month = 2) AND DAY BETWEEN 1 and 31\n",
    "```\n",
    "\n",
    "Iceberg hides this complexity away from the user, hence **Hidden Partitioning**\n",
    "\n",
    "We could have defined our partitioning when we created the table, but like much of data engineering, we realized later we needed it."
   ]
  },
  {
   "cell_type": "code",
   "execution_count": 22,
   "id": "7c357fbc-7589-4d8f-a236-b45fbc597be3",
   "metadata": {},
   "outputs": [],
   "source": [
    "from schema import house_prices_schema\n",
    "from utils import read_house_prices, query, catalog, engine"
   ]
  },
  {
   "cell_type": "code",
   "execution_count": 4,
   "id": "daa1c8c2-5960-4509-bd5f-b370c6c6a9f7",
   "metadata": {},
   "outputs": [],
   "source": [
    "catalog.drop_table(\"house_prices.raw\", purge_requested=True)"
   ]
  },
  {
   "cell_type": "code",
   "execution_count": 7,
   "id": "d43647f8-c558-4173-b976-b75e7de75c13",
   "metadata": {},
   "outputs": [],
   "source": [
    "house_prices_t = catalog.create_table_if_not_exists(\"house_prices.raw\", schema=house_prices_schema, location=\"s3://warehouse/raw\")"
   ]
  },
  {
   "cell_type": "code",
   "execution_count": 21,
   "id": "b1865955-b012-47f2-8806-d5b3ad74168b",
   "metadata": {},
   "outputs": [
    {
     "ename": "ValueError",
     "evalue": "Duplicate partition field for $date_of_transfer=$Reference(name='date_of_transfer'), $1000: month_date_of_transfer: month(3) already exists",
     "output_type": "error",
     "traceback": [
      "\u001b[31m---------------------------------------------------------------------------\u001b[39m",
      "\u001b[31mValueError\u001b[39m                                Traceback (most recent call last)",
      "\u001b[36mCell\u001b[39m\u001b[36m \u001b[39m\u001b[32mIn[21]\u001b[39m\u001b[32m, line 3\u001b[39m\n\u001b[32m      1\u001b[39m \u001b[38;5;28;01mfrom\u001b[39;00m\u001b[38;5;250m \u001b[39m\u001b[34;01mpyiceberg\u001b[39;00m\u001b[34;01m.\u001b[39;00m\u001b[34;01mtransforms\u001b[39;00m\u001b[38;5;250m \u001b[39m\u001b[38;5;28;01mimport\u001b[39;00m MonthTransform, YearTransform\n\u001b[32m      2\u001b[39m \u001b[38;5;28;01mwith\u001b[39;00m house_prices_t.update_spec() \u001b[38;5;28;01mas\u001b[39;00m spec:\n\u001b[32m----> \u001b[39m\u001b[32m3\u001b[39m     \u001b[43mspec\u001b[49m\u001b[43m.\u001b[49m\u001b[43madd_field\u001b[49m\u001b[43m(\u001b[49m\u001b[33;43m\"\u001b[39;49m\u001b[33;43mdate_of_transfer\u001b[39;49m\u001b[33;43m\"\u001b[39;49m\u001b[43m,\u001b[49m\u001b[43m \u001b[49m\u001b[43mMonthTransform\u001b[49m\u001b[43m(\u001b[49m\u001b[43m)\u001b[49m\u001b[43m,\u001b[49m\u001b[43m \u001b[49m\u001b[33;43m\"\u001b[39;49m\u001b[33;43mmonth_date_of_transfer\u001b[39;49m\u001b[33;43m\"\u001b[39;49m\u001b[43m)\u001b[49m\n\u001b[32m      5\u001b[39m \u001b[38;5;66;03m# Show adding new field\u001b[39;00m\n",
      "\u001b[36mFile \u001b[39m\u001b[32m/usr/local/lib/python3.12/site-packages/pyiceberg/table/update/spec.py:101\u001b[39m, in \u001b[36mUpdateSpec.add_field\u001b[39m\u001b[34m(self, source_column_name, transform, partition_field_name)\u001b[39m\n\u001b[32m     99\u001b[39m existing_partition_field = \u001b[38;5;28mself\u001b[39m._transform_to_field.get(transform_key)\n\u001b[32m    100\u001b[39m \u001b[38;5;28;01mif\u001b[39;00m existing_partition_field \u001b[38;5;129;01mand\u001b[39;00m \u001b[38;5;28mself\u001b[39m._is_duplicate_partition(transform, existing_partition_field):\n\u001b[32m--> \u001b[39m\u001b[32m101\u001b[39m     \u001b[38;5;28;01mraise\u001b[39;00m \u001b[38;5;167;01mValueError\u001b[39;00m(\u001b[33mf\u001b[39m\u001b[33m\"\u001b[39m\u001b[33mDuplicate partition field for $\u001b[39m\u001b[38;5;132;01m{\u001b[39;00mref.name\u001b[38;5;132;01m}\u001b[39;00m\u001b[33m=$\u001b[39m\u001b[38;5;132;01m{\u001b[39;00mref\u001b[38;5;132;01m}\u001b[39;00m\u001b[33m, $\u001b[39m\u001b[38;5;132;01m{\u001b[39;00mexisting_partition_field\u001b[38;5;132;01m}\u001b[39;00m\u001b[33m already exists\u001b[39m\u001b[33m\"\u001b[39m)\n\u001b[32m    103\u001b[39m added = \u001b[38;5;28mself\u001b[39m._transform_to_added_field.get(transform_key)\n\u001b[32m    104\u001b[39m \u001b[38;5;28;01mif\u001b[39;00m added:\n",
      "\u001b[31mValueError\u001b[39m: Duplicate partition field for $date_of_transfer=$Reference(name='date_of_transfer'), $1000: month_date_of_transfer: month(3) already exists"
     ]
    }
   ],
   "source": [
    "from pyiceberg.transforms import MonthTransform, YearTransform\n",
    "with house_prices_t.update_spec() as spec:\n",
    "    spec.add_field(\"date_of_transfer\", MonthTransform(), \"month_date_of_transfer\")\n",
    "\n",
    "# Show adding new field"
   ]
  },
  {
   "cell_type": "code",
   "execution_count": 9,
   "id": "026e0d61-102e-47e3-bed0-19020af8eba4",
   "metadata": {},
   "outputs": [
    {
     "data": {
      "text/plain": [
       "[PosixPath('data/pp-2015.csv'),\n",
       " PosixPath('data/pp-2016.csv'),\n",
       " PosixPath('data/pp-2017.csv'),\n",
       " PosixPath('data/pp-2018.csv'),\n",
       " PosixPath('data/pp-2019.csv'),\n",
       " PosixPath('data/pp-2020.csv'),\n",
       " PosixPath('data/pp-2021.csv'),\n",
       " PosixPath('data/pp-2022.csv'),\n",
       " PosixPath('data/pp-2023.csv'),\n",
       " PosixPath('data/pp-2024.csv')]"
      ]
     },
     "execution_count": 9,
     "metadata": {},
     "output_type": "execute_result"
    }
   ],
   "source": [
    "import pathlib\n",
    "files_to_load = sorted(list(pathlib.Path(\"data\").glob(\"*.csv\")))\n",
    "files_to_load"
   ]
  },
  {
   "cell_type": "code",
   "execution_count": 10,
   "id": "09d6ece1-365c-4bac-b5a2-e7797acab681",
   "metadata": {},
   "outputs": [
    {
     "name": "stdout",
     "output_type": "stream",
     "text": [
      "Appending pp-2015.csv - 1,010,755 rows\n",
      "Tagged: 2015_load\n",
      "Appending pp-2016.csv - 1,046,018 rows\n"
     ]
    },
    {
     "name": "stderr",
     "output_type": "stream",
     "text": [
      "/usr/local/lib/python3.12/site-packages/pyiceberg/avro/decoder.py:185: UserWarning: Falling back to pure Python Avro decoder, missing Cython implementation\n",
      "  warnings.warn(\"Falling back to pure Python Avro decoder, missing Cython implementation\")\n"
     ]
    },
    {
     "name": "stdout",
     "output_type": "stream",
     "text": [
      "Tagged: 2016_load\n",
      "Appending pp-2017.csv - 1,067,118 rows\n",
      "Tagged: 2017_load\n",
      "Appending pp-2018.csv - 1,037,085 rows\n",
      "Tagged: 2018_load\n",
      "Appending pp-2019.csv - 1,011,237 rows\n",
      "Tagged: 2019_load\n",
      "Appending pp-2020.csv - 895,168 rows\n",
      "Tagged: 2020_load\n",
      "Appending pp-2021.csv - 1,276,537 rows\n",
      "Tagged: 2021_load\n",
      "Appending pp-2022.csv - 841,772 rows\n",
      "Tagged: 2022_load\n",
      "Appending pp-2023.csv - 841,772 rows\n",
      "Tagged: 2023_load\n",
      "Appending pp-2024.csv - 704,344 rows\n",
      "Tagged: 2024_load\n"
     ]
    }
   ],
   "source": [
    "for filename in files_to_load:\n",
    "    year = filename.name[3:7]\n",
    "    df = read_house_prices(filename).to_arrow().cast(house_prices_schema.as_arrow())\n",
    "    print(f\"Appending {filename.name} - {len(df):,} rows\")\n",
    "    house_prices_t.append(df)\n",
    "    current_snapshot = house_prices_t.current_snapshot().snapshot_id\n",
    "    house_prices_t.manage_snapshots().create_tag(current_snapshot, f'{year}_load').commit()\n",
    "    print(f\"Tagged: {year}_load\")"
   ]
  },
  {
   "cell_type": "code",
   "execution_count": 11,
   "id": "20e605ae-6989-44a1-81fb-fe50abe6f0b2",
   "metadata": {},
   "outputs": [
    {
     "data": {
      "text/plain": [
       "{'2020_load': SnapshotRef(snapshot_id=5245330294268174244, snapshot_ref_type=SnapshotRefType.TAG, min_snapshots_to_keep=None, max_snapshot_age_ms=None, max_ref_age_ms=None),\n",
       " '2016_load': SnapshotRef(snapshot_id=1738779038844655692, snapshot_ref_type=SnapshotRefType.TAG, min_snapshots_to_keep=None, max_snapshot_age_ms=None, max_ref_age_ms=None),\n",
       " '2019_load': SnapshotRef(snapshot_id=5890171336967504561, snapshot_ref_type=SnapshotRefType.TAG, min_snapshots_to_keep=None, max_snapshot_age_ms=None, max_ref_age_ms=None),\n",
       " '2023_load': SnapshotRef(snapshot_id=2420041366645628972, snapshot_ref_type=SnapshotRefType.TAG, min_snapshots_to_keep=None, max_snapshot_age_ms=None, max_ref_age_ms=None),\n",
       " '2015_load': SnapshotRef(snapshot_id=913501148215003094, snapshot_ref_type=SnapshotRefType.TAG, min_snapshots_to_keep=None, max_snapshot_age_ms=None, max_ref_age_ms=None),\n",
       " '2017_load': SnapshotRef(snapshot_id=8685362870842111241, snapshot_ref_type=SnapshotRefType.TAG, min_snapshots_to_keep=None, max_snapshot_age_ms=None, max_ref_age_ms=None),\n",
       " '2018_load': SnapshotRef(snapshot_id=368931684614815340, snapshot_ref_type=SnapshotRefType.TAG, min_snapshots_to_keep=None, max_snapshot_age_ms=None, max_ref_age_ms=None),\n",
       " '2021_load': SnapshotRef(snapshot_id=8307568023691471419, snapshot_ref_type=SnapshotRefType.TAG, min_snapshots_to_keep=None, max_snapshot_age_ms=None, max_ref_age_ms=None),\n",
       " 'main': SnapshotRef(snapshot_id=4788900070215432638, snapshot_ref_type=SnapshotRefType.BRANCH, min_snapshots_to_keep=None, max_snapshot_age_ms=None, max_ref_age_ms=None),\n",
       " '2024_load': SnapshotRef(snapshot_id=4788900070215432638, snapshot_ref_type=SnapshotRefType.TAG, min_snapshots_to_keep=None, max_snapshot_age_ms=None, max_ref_age_ms=None),\n",
       " '2022_load': SnapshotRef(snapshot_id=6387939746820579877, snapshot_ref_type=SnapshotRefType.TAG, min_snapshots_to_keep=None, max_snapshot_age_ms=None, max_ref_age_ms=None)}"
      ]
     },
     "execution_count": 11,
     "metadata": {},
     "output_type": "execute_result"
    }
   ],
   "source": [
    "house_prices_t.refs()"
   ]
  },
  {
   "cell_type": "code",
   "execution_count": 20,
   "id": "855930bd-48a7-4795-8325-44b6f9b22a4c",
   "metadata": {},
   "outputs": [
    {
     "data": {
      "text/html": [
       "<div><style>\n",
       ".dataframe > thead > tr,\n",
       ".dataframe > tbody > tr {\n",
       "  text-align: right;\n",
       "  white-space: pre-wrap;\n",
       "}\n",
       "</style>\n",
       "<small>shape: (1, 1)</small><table border=\"1\" class=\"dataframe\"><thead><tr><th>num_rows</th></tr><tr><td>i64</td></tr></thead><tbody><tr><td>9731806</td></tr></tbody></table></div>"
      ],
      "text/plain": [
       "shape: (1, 1)\n",
       "┌──────────┐\n",
       "│ num_rows │\n",
       "│ ---      │\n",
       "│ i64      │\n",
       "╞══════════╡\n",
       "│ 9731806  │\n",
       "└──────────┘"
      ]
     },
     "execution_count": 20,
     "metadata": {},
     "output_type": "execute_result"
    }
   ],
   "source": [
    "query(\"select count(*) as num_rows from house_prices.raw for version as of '2024_load'\")"
   ]
  },
  {
   "cell_type": "code",
   "execution_count": 28,
   "id": "48251ed8-596c-40ae-911e-a0ac2a293144",
   "metadata": {},
   "outputs": [],
   "source": [
    "import polars as pl"
   ]
  },
  {
   "cell_type": "code",
   "execution_count": null,
   "id": "bf65b66d-cac8-49fb-9063-1a0cd86d3853",
   "metadata": {},
   "outputs": [],
   "source": [
    "pl.scan_iceberg(house_prices_t).select(\n",
    "    pl\n",
    "    pl.col(\"paon\"),\n",
    "    pl.col(\"saon\"),\n",
    "    pl.col(\"street\"),\n",
    "    pl.col(\"locality\"),\n",
    "    pl.col(\"town\"),\n",
    "    pl.col(\"district\"),\n",
    "    pl.col(\"county\"),\n",
    "    pl.col(\"postcode\"),\n",
    ").unique()"
   ]
  }
 ],
 "metadata": {
  "kernelspec": {
   "display_name": "Python 3 (ipykernel)",
   "language": "python",
   "name": "python3"
  },
  "language_info": {
   "codemirror_mode": {
    "name": "ipython",
    "version": 3
   },
   "file_extension": ".py",
   "mimetype": "text/x-python",
   "name": "python",
   "nbconvert_exporter": "python",
   "pygments_lexer": "ipython3",
   "version": "3.12.10"
  }
 },
 "nbformat": 4,
 "nbformat_minor": 5
}
