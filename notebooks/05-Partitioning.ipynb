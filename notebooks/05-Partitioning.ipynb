{
 "cells": [
  {
   "cell_type": "markdown",
   "id": "380d222d-b0a6-440b-95c4-bb6a3c8370e5",
   "metadata": {},
   "source": [
    "# Partitioning\n",
    "\n",
    "Iceberg (and other lakehouses) don't provide indexes that you may be used to from a more traditional datawarehouse, but they do provide a concept of partitioning, which serves a similar purpose. \n",
    "\n",
    "Partitioning refers to structuring the way the files are saved to disk in order to co-locate ranges of values. This makes it more likely that the query engine only has to read a few files to get all the requested data instead of all of them.\n",
    "\n",
    "If you haven't noticed the theme yet, it's all about eliminating as much disk I/O as possible. The less files we have to scan, the more performant our query is!\n",
    "\n",
    "Iceberg implements what they call *Hidden Partitioning*, and let's digress a little bit to the past to understand what that means.\n",
    "\n",
    "Hive implemented *Explicit partitioning*, where the user needs to be aware of the partitioning and explicitly use when reading and writing.\n",
    "\n",
    "```{figure} images/hive_partitioning.png\n",
    ":alt: Hive-style partitioning\n",
    ":align: center\n",
    ":figwidth: image\n",
    "\n",
    "Hive-style partitioning\n",
    "```\n",
    "\n",
    "The main issue with Hive-style partitioning is that it is explicit.\n",
    "Given this partitioning scheme, if I wanted to query a range 2024-01-01 <=> 2024-02-28 I might want to write this query\n",
    "\n",
    "```sql\n",
    "SELECT * FROM reviews WHERE review_date between '2024-01-01' AND '2024-02-28'\n",
    "```\n",
    "\n",
    "This query would not use the index, as Hive is explicitly expecting a year, month and date filter.\n",
    "\n",
    "```sql\n",
    "SELECT * from reviews where year = 2024 AND (month = 1 OR month = 2) AND DAY BETWEEN 1 and 31\n",
    "```\n",
    "\n",
    "Iceberg hides this complexity away from the user, hence **Hidden Partitioning**\n",
    "\n",
    "We could have defined our partitioning when we created the table, but like much of data engineering, we often realize later that we needed it. Predicting query patterns up-front is a big ask. "
   ]
  },
  {
   "cell_type": "code",
   "execution_count": null,
   "id": "7c357fbc-7589-4d8f-a236-b45fbc597be3",
   "metadata": {},
   "outputs": [],
   "source": [
    "from schema import house_prices_schema\n",
    "from utils import read_house_prices, catalog, engine, get_iceberg_metadata, fs\n",
    "from IPython.display import JSON\n",
    "import polars as pl"
   ]
  },
  {
   "cell_type": "markdown",
   "id": "4f640d26-9258-41e6-b4f3-6e0ecb98273d",
   "metadata": {},
   "source": [
    "Let's reset everything to start from a clean slate"
   ]
  },
  {
   "cell_type": "code",
   "execution_count": null,
   "id": "daa1c8c2-5960-4509-bd5f-b370c6c6a9f7",
   "metadata": {},
   "outputs": [],
   "source": [
    "catalog.drop_table(\"housing.staging_prices\", purge_requested=True)"
   ]
  },
  {
   "cell_type": "code",
   "execution_count": null,
   "id": "d43647f8-c558-4173-b976-b75e7de75c13",
   "metadata": {},
   "outputs": [],
   "source": [
    "house_prices_t = catalog.create_table_if_not_exists(\n",
    "    \"housing.staging_prices\",\n",
    "    schema=house_prices_schema,\n",
    "    location=\"s3://warehouse/staging\",\n",
    ")"
   ]
  },
  {
   "cell_type": "markdown",
   "id": "676b5bca-91f7-45f9-b013-acc1c4309958",
   "metadata": {},
   "source": [
    "## Hidden Partitioning\n",
    "\n",
    "Iceberg defines a number of supported `transforms` - functions that Iceberg will use to map a query onto a partition. Dates are pretty common in warehouses, so Year, Month, Day transfomrs enable intelligent date-based partitioning. For keys and identifiers, Bucket and Truncate are used to ensure a distributed write pattern. \n",
    "\n",
    "In this case, we know we're interested in date-based queries, and since we don't have a lot of daily activity, partitioning by month sounds like a good starting point."
   ]
  },
  {
   "cell_type": "code",
   "execution_count": null,
   "id": "b1865955-b012-47f2-8806-d5b3ad74168b",
   "metadata": {},
   "outputs": [],
   "source": [
    "from pyiceberg.transforms import MonthTransform, YearTransform\n",
    "\n",
    "with house_prices_t.update_spec() as spec:\n",
    "    spec.add_field(\"date_of_transfer\", MonthTransform(), \"month_date_of_transfer\")"
   ]
  },
  {
   "cell_type": "markdown",
   "id": "fc91ea48-357f-4079-acd6-a080055e07be",
   "metadata": {},
   "source": [
    "Let's have a look at the metadata file after the update"
   ]
  },
  {
   "cell_type": "code",
   "execution_count": null,
   "id": "99f0b003-2538-4f8e-9038-693b4fd53bf1",
   "metadata": {},
   "outputs": [],
   "source": [
    "JSON(get_iceberg_metadata(fs, house_prices_t))"
   ]
  },
  {
   "cell_type": "markdown",
   "id": "ba5b6134-a7b3-4dcf-8d63-c15db2281ef1",
   "metadata": {},
   "source": [
    "Now that we've setup some partitioning - let's load in our data to see what that looks like. "
   ]
  },
  {
   "cell_type": "code",
   "execution_count": null,
   "id": "026e0d61-102e-47e3-bed0-19020af8eba4",
   "metadata": {},
   "outputs": [],
   "source": [
    "import pathlib\n",
    "\n",
    "files_to_load = sorted(list(pathlib.Path(\"data/house_prices/\").glob(\"*.csv\")))\n",
    "files_to_load"
   ]
  },
  {
   "cell_type": "markdown",
   "id": "71a5c26e-f742-41da-bc7d-d6e5bc6f56e4",
   "metadata": {},
   "source": [
    "We could imagine that for each monthly load, we would want to generate a tag to be easily able to roll back to a given load, so let's do that for fun :).\n",
    "\n",
    "Let's start by reading in the first file and loading it to our Iceberg table"
   ]
  },
  {
   "cell_type": "code",
   "execution_count": null,
   "id": "3c547e30-3521-4fef-ac51-d24be8ae2f68",
   "metadata": {},
   "outputs": [],
   "source": [
    "# Load the data into Iceberg\n",
    "df = read_house_prices(files_to_load[0]).to_arrow().cast(house_prices_schema.as_arrow())\n",
    "house_prices_t.append(df)\n",
    "\n",
    "year = files_to_load[0].name[3:7]\n",
    "# Tag the new snapshot - retain it for a month\n",
    "current_snapshot = house_prices_t.current_snapshot().snapshot_id\n",
    "house_prices_t.manage_snapshots().create_tag(\n",
    "    current_snapshot, f\"{year}_load\", max_ref_age_ms=2629746000\n",
    ").commit()"
   ]
  },
  {
   "cell_type": "markdown",
   "id": "7f782290-f1ac-4779-9607-c35c4fa4a8b2",
   "metadata": {},
   "source": [
    "Let's have a look at what is happening in the physical storage"
   ]
  },
  {
   "cell_type": "code",
   "execution_count": null,
   "id": "7e494e1f-3c03-4156-98eb-d74b56854153",
   "metadata": {},
   "outputs": [],
   "source": [
    "fs.ls(f\"{house_prices_t.location()}/data\")"
   ]
  },
  {
   "cell_type": "markdown",
   "id": "58c2eb2c-bd81-4456-a408-4aaee48a4e06",
   "metadata": {},
   "source": [
    "The data is now physically partitioned by year-month, and we can now use it without having to know anything about the partitioning. To show how query engines can take advantage of this, let's compare two SQL statements in Trino. \n",
    "\n",
    "Looking at the Trino query plan, we can see that the first query is scanning twice the number of rows compared to the second"
   ]
  },
  {
   "cell_type": "code",
   "execution_count": null,
   "id": "46cec883-9d1f-4145-8855-2b455c980219",
   "metadata": {},
   "outputs": [],
   "source": [
    "# No partition on 'county'\n",
    "print(\n",
    "    pl.read_database(\n",
    "        \"EXPLAIN ANALYZE SELECT max(price) as max_price from housing.staging_prices where county = 'WORCESTERSHIRE'\",\n",
    "        engine,\n",
    "    ).item(0, 0)\n",
    ")"
   ]
  },
  {
   "cell_type": "code",
   "execution_count": null,
   "id": "6e47ea77-de1e-4e80-92e5-64e54f63d8cb",
   "metadata": {},
   "outputs": [],
   "source": [
    "# Partition on 'date_of_transfer'\n",
    "print(\n",
    "    pl.read_database(\n",
    "        \"EXPLAIN ANALYZE SELECT max(price) as max_price from housing.staging_prices where date_of_transfer between DATE '2015-01-01' AND DATE '2015-06-30'\",\n",
    "        engine,\n",
    "    ).item(0, 0)\n",
    ")"
   ]
  },
  {
   "cell_type": "markdown",
   "id": "09d6e6a6-36e6-43a5-b645-6e8972026d2b",
   "metadata": {},
   "source": [
    "But how big were the files we're scanning?"
   ]
  },
  {
   "cell_type": "code",
   "execution_count": null,
   "id": "07b92b8d-a222-4d6f-9a9f-f527b0ae3b0a",
   "metadata": {},
   "outputs": [],
   "source": [
    "fs.ls(\"warehouse/staging/data/month_date_of_transfer=2015-01\", detail=True)"
   ]
  },
  {
   "cell_type": "markdown",
   "id": "ecad7ddc-dad6-4f37-8924-a3cf14eba09f",
   "metadata": {},
   "source": [
    "Around 2.7 Mb - that's not very big at all - while there is no strict guidelines, consensus is that the Parquet files should be somewhere between 128 MB and 1 GB **uncompressed**, depending on use case, as the overhead of reading many small files adds up quick. \n",
    "\n",
    "Luckily, we can quickly change our partitioning, without having to rewrite our existing files"
   ]
  },
  {
   "cell_type": "code",
   "execution_count": null,
   "id": "11ab2ebc-3ff1-4938-8b7d-bb62533bb7a8",
   "metadata": {},
   "outputs": [],
   "source": [
    "with house_prices_t.update_spec() as spec:\n",
    "    spec.remove_field(\"month_date_of_transfer\")\n",
    "    spec.add_field(\"date_of_transfer\", YearTransform(), \"year_date_of_transfer\")"
   ]
  },
  {
   "cell_type": "markdown",
   "id": "1d478f97-3f5d-4a77-9cb7-9ce50647ad73",
   "metadata": {},
   "source": [
    "Changing partitioning doesn't alter existing files, it only affects future files. To demonstrate let's load the next file to see the effect"
   ]
  },
  {
   "cell_type": "code",
   "execution_count": null,
   "id": "9b8edb58-9c36-498c-8df4-7d6795b88a2b",
   "metadata": {},
   "outputs": [],
   "source": [
    "# Load the data into Iceberg\n",
    "df = read_house_prices(files_to_load[1]).to_arrow().cast(house_prices_schema.as_arrow())\n",
    "house_prices_t.append(df)\n",
    "\n",
    "year = files_to_load[1].name[3:7]\n",
    "# Tag the new snapshot - retain it for a month\n",
    "current_snapshot = house_prices_t.current_snapshot().snapshot_id\n",
    "house_prices_t.manage_snapshots().create_tag(\n",
    "    current_snapshot, f\"{year}_load\", max_ref_age_ms=2629746000\n",
    ").commit()"
   ]
  },
  {
   "cell_type": "markdown",
   "id": "232d4de9-5ecc-438d-b69b-ba1f20376102",
   "metadata": {},
   "source": [
    "Let's look at the file structure now"
   ]
  },
  {
   "cell_type": "code",
   "execution_count": null,
   "id": "e04fd134-d979-488a-872d-b468261359d3",
   "metadata": {},
   "outputs": [],
   "source": [
    "fs.ls(f\"{house_prices_t.location()}/data\", refresh=True)"
   ]
  },
  {
   "cell_type": "code",
   "execution_count": null,
   "id": "b5122be8-3769-4586-a627-2278aca84fff",
   "metadata": {},
   "outputs": [],
   "source": [
    "fs.ls(\"warehouse/staging/data/year_date_of_transfer=2016\", detail=True)"
   ]
  },
  {
   "cell_type": "markdown",
   "id": "9dcf12d6-e3d0-46b4-96b6-ee60257b2059",
   "metadata": {},
   "source": [
    "Around 23 Mb - better, parquet compresses well after all so this is closer to optimal size. We'll keep this and load the rest"
   ]
  },
  {
   "cell_type": "code",
   "execution_count": null,
   "id": "09d6ece1-365c-4bac-b5a2-e7797acab681",
   "metadata": {
    "scrolled": true
   },
   "outputs": [],
   "source": [
    "for filename in files_to_load[2:]:\n",
    "    # Grab the year from the filename\n",
    "    year = filename.name[3:7]\n",
    "    # Read in the CSV\n",
    "    df = read_house_prices(filename).to_arrow().cast(house_prices_schema.as_arrow())\n",
    "    print(f\"Appending {filename.name} - {len(df):,} rows\")\n",
    "    # Write to Iceberg\n",
    "    house_prices_t.append(df)\n",
    "    # Get the new snapshot id\n",
    "    current_snapshot = house_prices_t.current_snapshot().snapshot_id\n",
    "    # Tag the new snapshot - retain it for a month\n",
    "    house_prices_t.manage_snapshots().create_tag(\n",
    "        current_snapshot, f\"{year}_load\", max_ref_age_ms=2629746000\n",
    "    ).commit()\n",
    "    print(f\"Tagged: {year}_load\")"
   ]
  },
  {
   "cell_type": "code",
   "execution_count": null,
   "id": "12620a83-f926-47b9-9634-5571b0e91fb5",
   "metadata": {},
   "outputs": [],
   "source": [
    "fs.ls(f\"{house_prices_t.location()}/data\", refresh=True)"
   ]
  },
  {
   "attachments": {},
   "cell_type": "markdown",
   "id": "99f036ba-cd7e-431a-9124-ee55767ecfc1",
   "metadata": {},
   "source": [
    "Now Iceberg has two different partitions to keep track of, so it will split the partition planning across the two partitions\n",
    "\n",
    "![Partition Spec Evolution](images/partition_spec_evolution.png)"
   ]
  },
  {
   "cell_type": "markdown",
   "id": "773f64ac-ef7e-43ef-9a15-0440f5cd19ab",
   "metadata": {},
   "source": [
    "Let's re-examine our query plans to see if we can spot the difference"
   ]
  },
  {
   "cell_type": "code",
   "execution_count": null,
   "id": "233f373c-6624-498f-bc69-2924c3905cdb",
   "metadata": {},
   "outputs": [],
   "source": [
    "# No partition on 'county'\n",
    "print(\n",
    "    pl.read_database(\n",
    "        \"EXPLAIN ANALYZE SELECT max(price) as max_price from housing.staging_prices where county = 'WORCESTERSHIRE'\",\n",
    "        engine,\n",
    "    ).item(0, 0)\n",
    ")"
   ]
  },
  {
   "cell_type": "code",
   "execution_count": null,
   "id": "75a852e4-7f76-4921-b90f-edc0dab51eb5",
   "metadata": {},
   "outputs": [],
   "source": [
    "# Partition on 'date_of_transfer'\n",
    "print(\n",
    "    pl.read_database(\n",
    "        \"EXPLAIN ANALYZE SELECT max(price) as max_price from housing.staging_prices where date_of_transfer between DATE '2015-01-01' AND DATE '2022-12-31'\",\n",
    "        engine,\n",
    "    ).item(0, 0)\n",
    ")"
   ]
  },
  {
   "cell_type": "code",
   "execution_count": null,
   "id": "eec8bc93-3978-4622-a4e2-95f44896212d",
   "metadata": {},
   "outputs": [],
   "source": []
  }
 ],
 "metadata": {
  "kernelspec": {
   "display_name": "Python 3 (ipykernel)",
   "language": "python",
   "name": "python3"
  },
  "language_info": {
   "codemirror_mode": {
    "name": "ipython",
    "version": 3
   },
   "file_extension": ".py",
   "mimetype": "text/x-python",
   "name": "python",
   "nbconvert_exporter": "python",
   "pygments_lexer": "ipython3",
   "version": "3.12.11"
  }
 },
 "nbformat": 4,
 "nbformat_minor": 5
}
