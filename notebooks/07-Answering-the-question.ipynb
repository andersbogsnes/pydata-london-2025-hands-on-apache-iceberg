{
 "cells": [
  {
   "cell_type": "markdown",
   "id": "2fcaffdc-97d8-4ac5-bc9b-1ae0799aed30",
   "metadata": {},
   "source": [
    "# Is your house worth it's weight in gold?\n",
    "\n",
    "Now we've calculated how much a given house rose in value over time - the question is, would you have been better off buying gold?\n",
    "\n",
    "In the `data` folder, we have the daily price of one ounce of gold in USD, called `XAUUSD` in trading terms (e`X`change rate of `AU` aka Gold to `USD`)\n",
    "\n",
    "We want to find out what would have happened if instead of buying a house, we would have bought an equivalent sum of gold. Finally we want to compare what the average profit would be if everyone had invested in gold instead of buying a house.\n",
    "\n",
    "For simplicity, use the daily Closing price.\n",
    "\n",
    "```{note}\n",
    "Since gold is priced in USD, and our houseprices are in GBP, there is also a USD/GBP daily prices in the `data/fx` folder to convert between currencies.\n",
    "```\n",
    "\n",
    "Breaking it down:\n",
    "\n",
    "1. Load daily gold prices into Iceberg - for bonus points, apply a yearly partitioning scheme\n",
    "2. Load exchange rates into Iceberg - for bonus points, apply a yearly partitioning scheme\n",
    "3. Convert daily gold prices from USD to GBP\n",
    "4. For each row in our `profits` table, calculate the equivalent amount of gold they would have been able to purchase on that date\n",
    "5. Calculate the total value of that amount of gold on the sell date\n",
    "6. Calculate the profit of our gold trade\n",
    "7. Compare to Gold profit with Housing profit"
   ]
  },
  {
   "cell_type": "code",
   "execution_count": 30,
   "id": "975d72e1-ffec-4413-9c3f-706ad5039b82",
   "metadata": {},
   "outputs": [
    {
     "data": {
      "text/plain": [
       "polars.config.Config"
      ]
     },
     "execution_count": 30,
     "metadata": {},
     "output_type": "execute_result"
    }
   ],
   "source": [
    "import polars as pl\n",
    "from utils import catalog, engine\n",
    "from pyiceberg.schema import Schema, NestedField\n",
    "from pyiceberg.types import DecimalType, DateType, StringType\n",
    "from pyiceberg.partitioning import PartitionSpec, YearTransform, PartitionField\n",
    "from IPython.display import display\n",
    "pl.Config.set_thousands_separator(\",\")"
   ]
  },
  {
   "cell_type": "markdown",
   "id": "aa4248b3-920d-4d37-b430-9c002a95df54",
   "metadata": {},
   "source": [
    "## 1. Load daily gold prices into Iceberg\n",
    "Start by creating the table in Iceberg. To organize things a bit better, I'm creating a new namespace `commodities` - we could imagine putting a table for oil prices or silver in here"
   ]
  },
  {
   "cell_type": "code",
   "execution_count": 2,
   "id": "897c8c05-f4a2-4040-942d-1b47b9f6abc4",
   "metadata": {},
   "outputs": [],
   "source": [
    "catalog.create_namespace_if_not_exists(\"commodities\")\n",
    "\n",
    "gold_schema = Schema(\n",
    "    NestedField(1, \"date\", DateType(), required=True, doc=\"Day of recorded price\"),\n",
    "    NestedField(\n",
    "        2,\n",
    "        \"price\",\n",
    "        DecimalType(precision=38, scale=2),\n",
    "        required=True,\n",
    "        doc=\"Price in USD of one ounce of gold\",\n",
    "    ),\n",
    "    identifier_field_ids=[1],\n",
    ")\n",
    "\n",
    "gold_prices_t = catalog.create_table_if_not_exists(\n",
    "    \"commodities.gold\",\n",
    "    schema=gold_schema,\n",
    "    partition_spec=PartitionSpec(\n",
    "        PartitionField(\n",
    "            source_id=1, field_id=1, transform=YearTransform(), name=\"date_year\"\n",
    "        )\n",
    "    ),\n",
    ")"
   ]
  },
  {
   "cell_type": "markdown",
   "id": "4096bcaf-81cb-4a70-8181-2eef647522f0",
   "metadata": {},
   "source": [
    "Next, read in the CSV, picking out the two columns we care about, remembering to convert to the correct schema, "
   ]
  },
  {
   "cell_type": "code",
   "execution_count": 3,
   "id": "f1f58d6d-679e-40f1-ae18-0d2f3d0f869d",
   "metadata": {},
   "outputs": [],
   "source": [
    "gold_prices = (\n",
    "    pl.scan_csv(\"data/gold/daily_gold_prices.csv\", separator=\";\", try_parse_dates=True)\n",
    "    .select(pl.col(\"Date\").alias(\"date\"), pl.col(\"Close\").alias(\"price\"))\n",
    "    .collect()\n",
    ")"
   ]
  },
  {
   "cell_type": "code",
   "execution_count": 27,
   "id": "4aacd1df-879a-47cd-8977-761e5d4012be",
   "metadata": {},
   "outputs": [
    {
     "data": {
      "text/html": [
       "<div><style>\n",
       ".dataframe > thead > tr,\n",
       ".dataframe > tbody > tr {\n",
       "  text-align: right;\n",
       "  white-space: pre-wrap;\n",
       "}\n",
       "</style>\n",
       "<small>shape: (5_295, 2)</small><table border=\"1\" class=\"dataframe\"><thead><tr><th>date</th><th>price</th></tr><tr><td>datetime[μs]</td><td>f64</td></tr></thead><tbody><tr><td>2004-06-11 00:00:00</td><td>384.1</td></tr><tr><td>2004-06-14 00:00:00</td><td>382.8</td></tr><tr><td>2004-06-15 00:00:00</td><td>388.6</td></tr><tr><td>2004-06-16 00:00:00</td><td>383.8</td></tr><tr><td>2004-06-17 00:00:00</td><td>387.6</td></tr><tr><td>&hellip;</td><td>&hellip;</td></tr><tr><td>2025-01-28 00:00:00</td><td>2,763.17</td></tr><tr><td>2025-01-29 00:00:00</td><td>2,759.68</td></tr><tr><td>2025-01-30 00:00:00</td><td>2,794.06</td></tr><tr><td>2025-01-31 00:00:00</td><td>2,799.23</td></tr><tr><td>2025-02-03 00:00:00</td><td>2,794.41</td></tr></tbody></table></div>"
      ],
      "text/plain": [
       "shape: (5_295, 2)\n",
       "┌─────────────────────┬──────────┐\n",
       "│ date                ┆ price    │\n",
       "│ ---                 ┆ ---      │\n",
       "│ datetime[μs]        ┆ f64      │\n",
       "╞═════════════════════╪══════════╡\n",
       "│ 2004-06-11 00:00:00 ┆ 384.1    │\n",
       "│ 2004-06-14 00:00:00 ┆ 382.8    │\n",
       "│ 2004-06-15 00:00:00 ┆ 388.6    │\n",
       "│ 2004-06-16 00:00:00 ┆ 383.8    │\n",
       "│ 2004-06-17 00:00:00 ┆ 387.6    │\n",
       "│ …                   ┆ …        │\n",
       "│ 2025-01-28 00:00:00 ┆ 2,763.17 │\n",
       "│ 2025-01-29 00:00:00 ┆ 2,759.68 │\n",
       "│ 2025-01-30 00:00:00 ┆ 2,794.06 │\n",
       "│ 2025-01-31 00:00:00 ┆ 2,799.23 │\n",
       "│ 2025-02-03 00:00:00 ┆ 2,794.41 │\n",
       "└─────────────────────┴──────────┘"
      ]
     },
     "execution_count": 27,
     "metadata": {},
     "output_type": "execute_result"
    }
   ],
   "source": [
    "gold_prices"
   ]
  },
  {
   "cell_type": "code",
   "execution_count": 5,
   "id": "12bcce48-92d6-42d2-a837-8b78da4d8437",
   "metadata": {},
   "outputs": [],
   "source": [
    "gold_prices_t.append(gold_prices.to_arrow().cast(gold_schema.as_arrow()))"
   ]
  },
  {
   "cell_type": "markdown",
   "id": "38819543-4c4c-4716-baf5-d652a06e026c",
   "metadata": {},
   "source": [
    "# 2. Load daily exchange rates into Iceberg\n",
    "\n",
    "Similar process - create a new namespace and load the fx rates. Since this is technically a table of currency pairs, we can make the schema a bit more future-proof"
   ]
  },
  {
   "cell_type": "code",
   "execution_count": 6,
   "id": "722910bc-b691-4c9e-9644-1f0b4b0d3362",
   "metadata": {},
   "outputs": [],
   "source": [
    "catalog.create_namespace_if_not_exists(\"fx\")\n",
    "\n",
    "fx_schema = Schema(\n",
    "    NestedField(1, \"date\", DateType(), required=True, doc=\"Day of recorded price\"),\n",
    "    NestedField(\n",
    "        2,\n",
    "        \"from\",\n",
    "        StringType(),\n",
    "        required=True,\n",
    "        doc=\"From currency code of the currency pair\",\n",
    "    ),\n",
    "    NestedField(\n",
    "        3,\n",
    "        \"to\",\n",
    "        StringType(),\n",
    "        required=True,\n",
    "        doc=\"To currency code of the currency pair\",\n",
    "    ),\n",
    "    NestedField(\n",
    "        4,\n",
    "        \"exchange_rate\",\n",
    "        DecimalType(precision=38, scale=4),\n",
    "        required=True,\n",
    "        doc=\"Exchange rate of the currency pair\",\n",
    "    ),\n",
    "    identifier_field_ids=[1, 2, 3],\n",
    ")"
   ]
  },
  {
   "cell_type": "markdown",
   "id": "16c2a0c5-6023-4c84-933d-7aef488b3c84",
   "metadata": {},
   "source": [
    "Next, reading in the CSV file and transforming slightly to conform to our schema"
   ]
  },
  {
   "cell_type": "code",
   "execution_count": 7,
   "id": "8ef2afff-e077-460f-a34e-6f64196abf51",
   "metadata": {},
   "outputs": [],
   "source": [
    "fx_table = catalog.create_table_if_not_exists(\"fx.rates\", schema=fx_schema)"
   ]
  },
  {
   "cell_type": "code",
   "execution_count": 9,
   "id": "027e46a2-ea61-47f1-8fc5-47c6bd0bc16c",
   "metadata": {},
   "outputs": [
    {
     "data": {
      "text/html": [
       "<div><style>\n",
       ".dataframe > thead > tr,\n",
       ".dataframe > tbody > tr {\n",
       "  text-align: right;\n",
       "  white-space: pre-wrap;\n",
       "}\n",
       "</style>\n",
       "<small>shape: (5_013, 4)</small><table border=\"1\" class=\"dataframe\"><thead><tr><th>date</th><th>from</th><th>to</th><th>exchange_rate</th></tr><tr><td>date</td><td>str</td><td>str</td><td>f64</td></tr></thead><tbody><tr><td>2025-05-16</td><td>&quot;USD&quot;</td><td>&quot;GBP&quot;</td><td>0.7529</td></tr><tr><td>2025-05-15</td><td>&quot;USD&quot;</td><td>&quot;GBP&quot;</td><td>0.7516</td></tr><tr><td>2025-05-14</td><td>&quot;USD&quot;</td><td>&quot;GBP&quot;</td><td>0.754</td></tr><tr><td>2025-05-13</td><td>&quot;USD&quot;</td><td>&quot;GBP&quot;</td><td>0.7516</td></tr><tr><td>2025-05-12</td><td>&quot;USD&quot;</td><td>&quot;GBP&quot;</td><td>0.759</td></tr><tr><td>&hellip;</td><td>&hellip;</td><td>&hellip;</td><td>&hellip;</td></tr><tr><td>2006-03-07</td><td>&quot;USD&quot;</td><td>&quot;GBP&quot;</td><td>0.576</td></tr><tr><td>2006-03-06</td><td>&quot;USD&quot;</td><td>&quot;GBP&quot;</td><td>0.5713</td></tr><tr><td>2006-03-03</td><td>&quot;USD&quot;</td><td>&quot;GBP&quot;</td><td>0.5696</td></tr><tr><td>2006-03-02</td><td>&quot;USD&quot;</td><td>&quot;GBP&quot;</td><td>0.5703</td></tr><tr><td>2006-03-01</td><td>&quot;USD&quot;</td><td>&quot;GBP&quot;</td><td>0.5714</td></tr></tbody></table></div>"
      ],
      "text/plain": [
       "shape: (5_013, 4)\n",
       "┌────────────┬──────┬─────┬───────────────┐\n",
       "│ date       ┆ from ┆ to  ┆ exchange_rate │\n",
       "│ ---        ┆ ---  ┆ --- ┆ ---           │\n",
       "│ date       ┆ str  ┆ str ┆ f64           │\n",
       "╞════════════╪══════╪═════╪═══════════════╡\n",
       "│ 2025-05-16 ┆ USD  ┆ GBP ┆ 0.7529        │\n",
       "│ 2025-05-15 ┆ USD  ┆ GBP ┆ 0.7516        │\n",
       "│ 2025-05-14 ┆ USD  ┆ GBP ┆ 0.754         │\n",
       "│ 2025-05-13 ┆ USD  ┆ GBP ┆ 0.7516        │\n",
       "│ 2025-05-12 ┆ USD  ┆ GBP ┆ 0.759         │\n",
       "│ …          ┆ …    ┆ …   ┆ …             │\n",
       "│ 2006-03-07 ┆ USD  ┆ GBP ┆ 0.576         │\n",
       "│ 2006-03-06 ┆ USD  ┆ GBP ┆ 0.5713        │\n",
       "│ 2006-03-03 ┆ USD  ┆ GBP ┆ 0.5696        │\n",
       "│ 2006-03-02 ┆ USD  ┆ GBP ┆ 0.5703        │\n",
       "│ 2006-03-01 ┆ USD  ┆ GBP ┆ 0.5714        │\n",
       "└────────────┴──────┴─────┴───────────────┘"
      ]
     },
     "execution_count": 9,
     "metadata": {},
     "output_type": "execute_result"
    }
   ],
   "source": [
    "fx_rates = (\n",
    "    pl.scan_csv(\"data/fx/USD_GBP.csv\", try_parse_dates=True)\n",
    "    .with_columns(pl.lit(\"USD\").alias(\"from\"), pl.lit(\"GBP\").alias(\"to\"))\n",
    "    .select(\n",
    "        pl.col(\"date\"),\n",
    "        pl.col(\"from\"),\n",
    "        pl.col(\"to\"),\n",
    "        pl.col(\"close\").alias(\"exchange_rate\"),\n",
    "    )\n",
    "    .collect()\n",
    ")\n",
    "fx_rates"
   ]
  },
  {
   "cell_type": "code",
   "execution_count": 10,
   "id": "08792eaf-4277-4fe3-9f99-6c255dc5263b",
   "metadata": {},
   "outputs": [],
   "source": [
    "fx_table.append(fx_rates.to_arrow().cast(fx_schema.as_arrow()))"
   ]
  },
  {
   "cell_type": "markdown",
   "id": "98d98e64-df99-4703-b2e2-c6c1fcc532dc",
   "metadata": {},
   "source": [
    "Next comes the business logic - the actual work of figuring out how much gold we could have bought and how much that would have sold for"
   ]
  },
  {
   "cell_type": "code",
   "execution_count": 23,
   "id": "40b258b9-8af8-47f5-a4a2-5ca5de7f0c67",
   "metadata": {},
   "outputs": [],
   "source": [
    "sql = \"\"\"\n",
    "-- Convert USD gold prices into GBP denominated prices\n",
    "with gold_prices as (\n",
    "    select commodities.gold.date as gold_date, commodities.gold.price * fx.rates.exchange_rate as gold_price\n",
    "    from commodities.gold\n",
    "    join fx.rates on fx.rates.date = commodities.gold.date\n",
    "), gold_purchase as (\n",
    "-- Calculate how much gold (in ounces) the house owner could have bought at the time of purchase\n",
    "    select address_id, \n",
    "    first_price / gold_price as purchased_gold\n",
    "    from housing.profits\n",
    "    join gold_prices on gold_date = housing.profits.first_day\n",
    "), gold_sell as (\n",
    "-- Calculate how much that amount of gold is worth at the time of sale, as well as the profit\n",
    "    select housing.profits.address_id,\n",
    "    cast((purchased_gold * gold_price) - first_price as DECIMAL(38, 2)) as gold_profit,\n",
    "    cast(profit as DECIMAL(38, 2)) as house_profit\n",
    "    from housing.profits\n",
    "    join gold_purchase on gold_purchase.address_id = housing.profits.address_id\n",
    "    join gold_prices on gold_prices.gold_date = last_day\n",
    ")\n",
    "select * from gold_sell\n",
    "\"\"\""
   ]
  },
  {
   "cell_type": "code",
   "execution_count": 24,
   "id": "b26767aa-ac11-4192-bce1-b61a4a602073",
   "metadata": {},
   "outputs": [
    {
     "data": {
      "text/html": [
       "<div><style>\n",
       ".dataframe > thead > tr,\n",
       ".dataframe > tbody > tr {\n",
       "  text-align: right;\n",
       "  white-space: pre-wrap;\n",
       "}\n",
       "</style>\n",
       "<small>shape: (1_156_815, 3)</small><table border=\"1\" class=\"dataframe\"><thead><tr><th>address_id</th><th>gold_profit</th><th>house_profit</th></tr><tr><td>str</td><td>decimal[38,2]</td><td>decimal[38,2]</td></tr></thead><tbody><tr><td>&quot;E7212FC4DD4DE6EEACEF3A2E069ACC…</td><td>40230.82</td><td>-22500.00</td></tr><tr><td>&quot;C93F0B6F6F82401AFF1C511FF7ACEF…</td><td>15498.03</td><td>39500.00</td></tr><tr><td>&quot;CE92C6E47E7B015B3A80A50C31AC79…</td><td>111327.95</td><td>85000.00</td></tr><tr><td>&quot;97F1F1EB870F31583D8E6D74053B4C…</td><td>39107.51</td><td>100500.00</td></tr><tr><td>&quot;996AD2EF5EFB730D42202B131BEB84…</td><td>77923.33</td><td>200000.00</td></tr><tr><td>&hellip;</td><td>&hellip;</td><td>&hellip;</td></tr><tr><td>&quot;A74FFC2E0A9FEEE17E5C4657D3B1E0…</td><td>251123.75</td><td>125005.00</td></tr><tr><td>&quot;315834E5DF9EEFA910006FADC8FFBD…</td><td>98100.73</td><td>230000.00</td></tr><tr><td>&quot;4470A4BEBFF547332D4749230B61DB…</td><td>108148.39</td><td>25000.00</td></tr><tr><td>&quot;BB40D404870B079C13B6B16B61E260…</td><td>56358.35</td><td>48000.00</td></tr><tr><td>&quot;BC65886F624D2BFA4E4905101FBD64…</td><td>289601.16</td><td>140299.00</td></tr></tbody></table></div>"
      ],
      "text/plain": [
       "shape: (1_156_815, 3)\n",
       "┌─────────────────────────────────┬───────────────┬───────────────┐\n",
       "│ address_id                      ┆ gold_profit   ┆ house_profit  │\n",
       "│ ---                             ┆ ---           ┆ ---           │\n",
       "│ str                             ┆ decimal[38,2] ┆ decimal[38,2] │\n",
       "╞═════════════════════════════════╪═══════════════╪═══════════════╡\n",
       "│ E7212FC4DD4DE6EEACEF3A2E069ACC… ┆ 40230.82      ┆ -22500.00     │\n",
       "│ C93F0B6F6F82401AFF1C511FF7ACEF… ┆ 15498.03      ┆ 39500.00      │\n",
       "│ CE92C6E47E7B015B3A80A50C31AC79… ┆ 111327.95     ┆ 85000.00      │\n",
       "│ 97F1F1EB870F31583D8E6D74053B4C… ┆ 39107.51      ┆ 100500.00     │\n",
       "│ 996AD2EF5EFB730D42202B131BEB84… ┆ 77923.33      ┆ 200000.00     │\n",
       "│ …                               ┆ …             ┆ …             │\n",
       "│ A74FFC2E0A9FEEE17E5C4657D3B1E0… ┆ 251123.75     ┆ 125005.00     │\n",
       "│ 315834E5DF9EEFA910006FADC8FFBD… ┆ 98100.73      ┆ 230000.00     │\n",
       "│ 4470A4BEBFF547332D4749230B61DB… ┆ 108148.39     ┆ 25000.00      │\n",
       "│ BB40D404870B079C13B6B16B61E260… ┆ 56358.35      ┆ 48000.00      │\n",
       "│ BC65886F624D2BFA4E4905101FBD64… ┆ 289601.16     ┆ 140299.00     │\n",
       "└─────────────────────────────────┴───────────────┴───────────────┘"
      ]
     },
     "execution_count": 24,
     "metadata": {},
     "output_type": "execute_result"
    }
   ],
   "source": [
    "gold_vs_house_profits = pl.read_database(sql, engine)\n",
    "gold_vs_house_profits"
   ]
  },
  {
   "cell_type": "markdown",
   "id": "254dfe2d-963f-4cd6-b3b7-700828fd00c1",
   "metadata": {},
   "source": [
    "Now we have a per-address calculation, let's summarize the results"
   ]
  },
  {
   "cell_type": "code",
   "execution_count": 28,
   "id": "3c43ccc3-7cff-4e28-885d-0c6fe32020d8",
   "metadata": {},
   "outputs": [
    {
     "data": {
      "text/html": [
       "<div><style>\n",
       ".dataframe > thead > tr,\n",
       ".dataframe > tbody > tr {\n",
       "  text-align: right;\n",
       "  white-space: pre-wrap;\n",
       "}\n",
       "</style>\n",
       "<small>shape: (9, 3)</small><table border=\"1\" class=\"dataframe\"><thead><tr><th>statistic</th><th>gold_profit</th><th>house_profit</th></tr><tr><td>str</td><td>f64</td><td>f64</td></tr></thead><tbody><tr><td>&quot;count&quot;</td><td>1.156815e6</td><td>1.156815e6</td></tr><tr><td>&quot;null_count&quot;</td><td>0.0</td><td>0.0</td></tr><tr><td>&quot;mean&quot;</td><td>131,763.818885</td><td>62,487.478001</td></tr><tr><td>&quot;std&quot;</td><td>174,111.621751</td><td>235,601.719894</td></tr><tr><td>&quot;min&quot;</td><td>-917,359.06</td><td>-1.198e7</td></tr><tr><td>&quot;25%&quot;</td><td>44,106.93</td><td>20,000.0</td></tr><tr><td>&quot;50%&quot;</td><td>90,281.03</td><td>44,500.0</td></tr><tr><td>&quot;75%&quot;</td><td>166,059.71</td><td>80,000.0</td></tr><tr><td>&quot;max&quot;</td><td>21,050,917.48</td><td>2.23847e8</td></tr></tbody></table></div>"
      ],
      "text/plain": [
       "shape: (9, 3)\n",
       "┌────────────┬────────────────┬────────────────┐\n",
       "│ statistic  ┆ gold_profit    ┆ house_profit   │\n",
       "│ ---        ┆ ---            ┆ ---            │\n",
       "│ str        ┆ f64            ┆ f64            │\n",
       "╞════════════╪════════════════╪════════════════╡\n",
       "│ count      ┆ 1.156815e6     ┆ 1.156815e6     │\n",
       "│ null_count ┆ 0.0            ┆ 0.0            │\n",
       "│ mean       ┆ 131,763.818885 ┆ 62,487.478001  │\n",
       "│ std        ┆ 174,111.621751 ┆ 235,601.719894 │\n",
       "│ min        ┆ -917,359.06    ┆ -1.198e7       │\n",
       "│ 25%        ┆ 44,106.93      ┆ 20,000.0       │\n",
       "│ 50%        ┆ 90,281.03      ┆ 44,500.0       │\n",
       "│ 75%        ┆ 166,059.71     ┆ 80,000.0       │\n",
       "│ max        ┆ 21,050,917.48  ┆ 2.23847e8      │\n",
       "└────────────┴────────────────┴────────────────┘"
      ]
     },
     "execution_count": 28,
     "metadata": {},
     "output_type": "execute_result"
    }
   ],
   "source": [
    "gold_vs_house_profits.select(pl.all().exclude(\"address_id\")).describe()"
   ]
  },
  {
   "cell_type": "markdown",
   "id": "5b82a881-2939-4b3d-b9ac-16ceb180a9ba",
   "metadata": {},
   "source": [
    "How many percent would have done better buying gold than a house?"
   ]
  },
  {
   "cell_type": "code",
   "execution_count": 31,
   "id": "84f3f313-9e09-46cc-a250-522b28f12796",
   "metadata": {},
   "outputs": [
    {
     "data": {
      "text/html": [
       "<div><style>\n",
       ".dataframe > thead > tr,\n",
       ".dataframe > tbody > tr {\n",
       "  text-align: right;\n",
       "  white-space: pre-wrap;\n",
       "}\n",
       "</style>\n",
       "<small>shape: (100, 2)</small><table border=\"1\" class=\"dataframe\"><thead><tr><th>breakpoint</th><th>category</th></tr><tr><td>f64</td><td>cat</td></tr></thead><tbody><tr><td>-590,355.966</td><td>&quot;Q1&quot;</td></tr><tr><td>-445,956.9788</td><td>&quot;Q2&quot;</td></tr><tr><td>-374,034.1702</td><td>&quot;Q3&quot;</td></tr><tr><td>-327,544.9948</td><td>&quot;Q4&quot;</td></tr><tr><td>-293,984.913</td><td>&quot;Q5&quot;</td></tr><tr><td>-268,339.6008</td><td>&quot;Q6&quot;</td></tr><tr><td>-247,603.4614</td><td>&quot;Q7&quot;</td></tr><tr><td>-230,286.2124</td><td>&quot;Q8&quot;</td></tr><tr><td>-215,625.6432</td><td>&quot;Q9&quot;</td></tr><tr><td>-202,887.666</td><td>&quot;Q10&quot;</td></tr><tr><td>-191,732.387</td><td>&quot;Q11&quot;</td></tr><tr><td>-181,715.9652</td><td>&quot;Q12&quot;</td></tr><tr><td>-172,757.0066</td><td>&quot;Q13&quot;</td></tr><tr><td>-164,615.5456</td><td>&quot;Q14&quot;</td></tr><tr><td>-157,170.14</td><td>&quot;Q15&quot;</td></tr><tr><td>-150,333.5704</td><td>&quot;Q16&quot;</td></tr><tr><td>-144,054.362</td><td>&quot;Q17&quot;</td></tr><tr><td>-138,186.6536</td><td>&quot;Q18&quot;</td></tr><tr><td>-132,698.7832</td><td>&quot;Q19&quot;</td></tr><tr><td>-127,516.99</td><td>&quot;Q20&quot;</td></tr><tr><td>-122,642.6796</td><td>&quot;Q21&quot;</td></tr><tr><td>-118,090.9904</td><td>&quot;Q22&quot;</td></tr><tr><td>-113,787.1864</td><td>&quot;Q23&quot;</td></tr><tr><td>-109,686.5928</td><td>&quot;Q24&quot;</td></tr><tr><td>-105,808.095</td><td>&quot;Q25&quot;</td></tr><tr><td>-102,092.546</td><td>&quot;Q26&quot;</td></tr><tr><td>-98,560.6576</td><td>&quot;Q27&quot;</td></tr><tr><td>-95,202.0344</td><td>&quot;Q28&quot;</td></tr><tr><td>-91,956.6228</td><td>&quot;Q29&quot;</td></tr><tr><td>-88,865.386</td><td>&quot;Q30&quot;</td></tr><tr><td>-85,865.4932</td><td>&quot;Q31&quot;</td></tr><tr><td>-82,965.04</td><td>&quot;Q32&quot;</td></tr><tr><td>-80,168.4222</td><td>&quot;Q33&quot;</td></tr><tr><td>-77,467.4676</td><td>&quot;Q34&quot;</td></tr><tr><td>-74,862.559</td><td>&quot;Q35&quot;</td></tr><tr><td>-72,358.2792</td><td>&quot;Q36&quot;</td></tr><tr><td>-69,919.4522</td><td>&quot;Q37&quot;</td></tr><tr><td>-67,518.3388</td><td>&quot;Q38&quot;</td></tr><tr><td>-65,158.4332</td><td>&quot;Q39&quot;</td></tr><tr><td>-62,906.0</td><td>&quot;Q40&quot;</td></tr><tr><td>-60,671.79</td><td>&quot;Q41&quot;</td></tr><tr><td>-58,517.0548</td><td>&quot;Q42&quot;</td></tr><tr><td>-56,370.5678</td><td>&quot;Q43&quot;</td></tr><tr><td>-54,294.23</td><td>&quot;Q44&quot;</td></tr><tr><td>-52,300.971</td><td>&quot;Q45&quot;</td></tr><tr><td>-50,327.908</td><td>&quot;Q46&quot;</td></tr><tr><td>-48,378.4784</td><td>&quot;Q47&quot;</td></tr><tr><td>-46,420.8496</td><td>&quot;Q48&quot;</td></tr><tr><td>-44,569.5624</td><td>&quot;Q49&quot;</td></tr><tr><td>-42,735.09</td><td>&quot;Q50&quot;</td></tr><tr><td>-40,943.1412</td><td>&quot;Q51&quot;</td></tr><tr><td>-39,160.6272</td><td>&quot;Q52&quot;</td></tr><tr><td>-37,451.7862</td><td>&quot;Q53&quot;</td></tr><tr><td>-35,718.2872</td><td>&quot;Q54&quot;</td></tr><tr><td>-34,007.275</td><td>&quot;Q55&quot;</td></tr><tr><td>-32,328.8664</td><td>&quot;Q56&quot;</td></tr><tr><td>-30,672.1614</td><td>&quot;Q57&quot;</td></tr><tr><td>-29,019.5444</td><td>&quot;Q58&quot;</td></tr><tr><td>-27,397.5244</td><td>&quot;Q59&quot;</td></tr><tr><td>-25,758.622</td><td>&quot;Q60&quot;</td></tr><tr><td>-24,138.32</td><td>&quot;Q61&quot;</td></tr><tr><td>-22,517.9656</td><td>&quot;Q62&quot;</td></tr><tr><td>-20,886.1316</td><td>&quot;Q63&quot;</td></tr><tr><td>-19,271.0632</td><td>&quot;Q64&quot;</td></tr><tr><td>-17,637.828</td><td>&quot;Q65&quot;</td></tr><tr><td>-16,046.4308</td><td>&quot;Q66&quot;</td></tr><tr><td>-14,410.3896</td><td>&quot;Q67&quot;</td></tr><tr><td>-12,781.8316</td><td>&quot;Q68&quot;</td></tr><tr><td>-11,115.3134</td><td>&quot;Q69&quot;</td></tr><tr><td>-9,445.042</td><td>&quot;Q70&quot;</td></tr><tr><td>-7,743.0448</td><td>&quot;Q71&quot;</td></tr><tr><td>-6,042.89</td><td>&quot;Q72&quot;</td></tr><tr><td>-4,331.3512</td><td>&quot;Q73&quot;</td></tr><tr><td>-2,564.1472</td><td>&quot;Q74&quot;</td></tr><tr><td>-753.4</td><td>&quot;Q75&quot;</td></tr><tr><td>1,088.534</td><td>&quot;Q76&quot;</td></tr><tr><td>2,988.229</td><td>&quot;Q77&quot;</td></tr><tr><td>4,931.7916</td><td>&quot;Q78&quot;</td></tr><tr><td>6,958.459</td><td>&quot;Q79&quot;</td></tr><tr><td>9,044.992</td><td>&quot;Q80&quot;</td></tr><tr><td>11,212.3986</td><td>&quot;Q81&quot;</td></tr><tr><td>13,485.344</td><td>&quot;Q82&quot;</td></tr><tr><td>15,858.4088</td><td>&quot;Q83&quot;</td></tr><tr><td>18,385.5532</td><td>&quot;Q84&quot;</td></tr><tr><td>21,067.04</td><td>&quot;Q85&quot;</td></tr><tr><td>23,900.29</td><td>&quot;Q86&quot;</td></tr><tr><td>26,955.209</td><td>&quot;Q87&quot;</td></tr><tr><td>30,229.5828</td><td>&quot;Q88&quot;</td></tr><tr><td>33,923.4944</td><td>&quot;Q89&quot;</td></tr><tr><td>37,915.832</td><td>&quot;Q90&quot;</td></tr><tr><td>42,374.464</td><td>&quot;Q91&quot;</td></tr><tr><td>47,417.088</td><td>&quot;Q92&quot;</td></tr><tr><td>53,272.1706</td><td>&quot;Q93&quot;</td></tr><tr><td>60,222.8188</td><td>&quot;Q94&quot;</td></tr><tr><td>69,061.372</td><td>&quot;Q95&quot;</td></tr><tr><td>80,635.9584</td><td>&quot;Q96&quot;</td></tr><tr><td>97,556.2456</td><td>&quot;Q97&quot;</td></tr><tr><td>125,619.2648</td><td>&quot;Q98&quot;</td></tr><tr><td>188,351.5028</td><td>&quot;Q99&quot;</td></tr><tr><td>inf</td><td>&quot;Q100&quot;</td></tr></tbody></table></div>"
      ],
      "text/plain": [
       "shape: (100, 2)\n",
       "┌───────────────┬──────────┐\n",
       "│ breakpoint    ┆ category │\n",
       "│ ---           ┆ ---      │\n",
       "│ f64           ┆ cat      │\n",
       "╞═══════════════╪══════════╡\n",
       "│ -590,355.966  ┆ Q1       │\n",
       "│ -445,956.9788 ┆ Q2       │\n",
       "│ -374,034.1702 ┆ Q3       │\n",
       "│ -327,544.9948 ┆ Q4       │\n",
       "│ -293,984.913  ┆ Q5       │\n",
       "│ -268,339.6008 ┆ Q6       │\n",
       "│ -247,603.4614 ┆ Q7       │\n",
       "│ -230,286.2124 ┆ Q8       │\n",
       "│ -215,625.6432 ┆ Q9       │\n",
       "│ -202,887.666  ┆ Q10      │\n",
       "│ -191,732.387  ┆ Q11      │\n",
       "│ -181,715.9652 ┆ Q12      │\n",
       "│ -172,757.0066 ┆ Q13      │\n",
       "│ -164,615.5456 ┆ Q14      │\n",
       "│ -157,170.14   ┆ Q15      │\n",
       "│ -150,333.5704 ┆ Q16      │\n",
       "│ -144,054.362  ┆ Q17      │\n",
       "│ -138,186.6536 ┆ Q18      │\n",
       "│ -132,698.7832 ┆ Q19      │\n",
       "│ -127,516.99   ┆ Q20      │\n",
       "│ -122,642.6796 ┆ Q21      │\n",
       "│ -118,090.9904 ┆ Q22      │\n",
       "│ -113,787.1864 ┆ Q23      │\n",
       "│ -109,686.5928 ┆ Q24      │\n",
       "│ -105,808.095  ┆ Q25      │\n",
       "│ -102,092.546  ┆ Q26      │\n",
       "│ -98,560.6576  ┆ Q27      │\n",
       "│ -95,202.0344  ┆ Q28      │\n",
       "│ -91,956.6228  ┆ Q29      │\n",
       "│ -88,865.386   ┆ Q30      │\n",
       "│ -85,865.4932  ┆ Q31      │\n",
       "│ -82,965.04    ┆ Q32      │\n",
       "│ -80,168.4222  ┆ Q33      │\n",
       "│ -77,467.4676  ┆ Q34      │\n",
       "│ -74,862.559   ┆ Q35      │\n",
       "│ -72,358.2792  ┆ Q36      │\n",
       "│ -69,919.4522  ┆ Q37      │\n",
       "│ -67,518.3388  ┆ Q38      │\n",
       "│ -65,158.4332  ┆ Q39      │\n",
       "│ -62,906.0     ┆ Q40      │\n",
       "│ -60,671.79    ┆ Q41      │\n",
       "│ -58,517.0548  ┆ Q42      │\n",
       "│ -56,370.5678  ┆ Q43      │\n",
       "│ -54,294.23    ┆ Q44      │\n",
       "│ -52,300.971   ┆ Q45      │\n",
       "│ -50,327.908   ┆ Q46      │\n",
       "│ -48,378.4784  ┆ Q47      │\n",
       "│ -46,420.8496  ┆ Q48      │\n",
       "│ -44,569.5624  ┆ Q49      │\n",
       "│ -42,735.09    ┆ Q50      │\n",
       "│ -40,943.1412  ┆ Q51      │\n",
       "│ -39,160.6272  ┆ Q52      │\n",
       "│ -37,451.7862  ┆ Q53      │\n",
       "│ -35,718.2872  ┆ Q54      │\n",
       "│ -34,007.275   ┆ Q55      │\n",
       "│ -32,328.8664  ┆ Q56      │\n",
       "│ -30,672.1614  ┆ Q57      │\n",
       "│ -29,019.5444  ┆ Q58      │\n",
       "│ -27,397.5244  ┆ Q59      │\n",
       "│ -25,758.622   ┆ Q60      │\n",
       "│ -24,138.32    ┆ Q61      │\n",
       "│ -22,517.9656  ┆ Q62      │\n",
       "│ -20,886.1316  ┆ Q63      │\n",
       "│ -19,271.0632  ┆ Q64      │\n",
       "│ -17,637.828   ┆ Q65      │\n",
       "│ -16,046.4308  ┆ Q66      │\n",
       "│ -14,410.3896  ┆ Q67      │\n",
       "│ -12,781.8316  ┆ Q68      │\n",
       "│ -11,115.3134  ┆ Q69      │\n",
       "│ -9,445.042    ┆ Q70      │\n",
       "│ -7,743.0448   ┆ Q71      │\n",
       "│ -6,042.89     ┆ Q72      │\n",
       "│ -4,331.3512   ┆ Q73      │\n",
       "│ -2,564.1472   ┆ Q74      │\n",
       "│ -753.4        ┆ Q75      │\n",
       "│ 1,088.534     ┆ Q76      │\n",
       "│ 2,988.229     ┆ Q77      │\n",
       "│ 4,931.7916    ┆ Q78      │\n",
       "│ 6,958.459     ┆ Q79      │\n",
       "│ 9,044.992     ┆ Q80      │\n",
       "│ 11,212.3986   ┆ Q81      │\n",
       "│ 13,485.344    ┆ Q82      │\n",
       "│ 15,858.4088   ┆ Q83      │\n",
       "│ 18,385.5532   ┆ Q84      │\n",
       "│ 21,067.04     ┆ Q85      │\n",
       "│ 23,900.29     ┆ Q86      │\n",
       "│ 26,955.209    ┆ Q87      │\n",
       "│ 30,229.5828   ┆ Q88      │\n",
       "│ 33,923.4944   ┆ Q89      │\n",
       "│ 37,915.832    ┆ Q90      │\n",
       "│ 42,374.464    ┆ Q91      │\n",
       "│ 47,417.088    ┆ Q92      │\n",
       "│ 53,272.1706   ┆ Q93      │\n",
       "│ 60,222.8188   ┆ Q94      │\n",
       "│ 69,061.372    ┆ Q95      │\n",
       "│ 80,635.9584   ┆ Q96      │\n",
       "│ 97,556.2456   ┆ Q97      │\n",
       "│ 125,619.2648  ┆ Q98      │\n",
       "│ 188,351.5028  ┆ Q99      │\n",
       "│ inf           ┆ Q100     │\n",
       "└───────────────┴──────────┘"
      ]
     },
     "metadata": {},
     "output_type": "display_data"
    }
   ],
   "source": [
    "with pl.Config(set_tbl_rows=100):\n",
    "    summary_df = (\n",
    "        gold_vs_house_profits.select(\n",
    "            pl.col(\"house_profit\")\n",
    "            .sub(pl.col(\"gold_profit\"))\n",
    "            .qcut(100, labels=[f\"Q{i + 1}\" for i in range(100)], include_breaks=True)\n",
    "        )\n",
    "        .unnest(\"house_profit\")\n",
    "        .unique()\n",
    "        .sort(\"breakpoint\")\n",
    "    )\n",
    "    display(summary_df)"
   ]
  },
  {
   "cell_type": "markdown",
   "id": "49692599-1622-4487-a83b-d73b75cd9a30",
   "metadata": {},
   "source": [
    "# Exercise: What does it look like in your region?\n",
    "\n",
    "This is the picture for all of the UK - what does it look like for your region?"
   ]
  },
  {
   "cell_type": "code",
   "execution_count": null,
   "id": "1a476ce4-31a9-4900-9a48-62dee94c84a4",
   "metadata": {},
   "outputs": [],
   "source": []
  }
 ],
 "metadata": {
  "kernelspec": {
   "display_name": "Python 3 (ipykernel)",
   "language": "python",
   "name": "python3"
  },
  "language_info": {
   "codemirror_mode": {
    "name": "ipython",
    "version": 3
   },
   "file_extension": ".py",
   "mimetype": "text/x-python",
   "name": "python",
   "nbconvert_exporter": "python",
   "pygments_lexer": "ipython3",
   "version": "3.12.10"
  }
 },
 "nbformat": 4,
 "nbformat_minor": 5
}
