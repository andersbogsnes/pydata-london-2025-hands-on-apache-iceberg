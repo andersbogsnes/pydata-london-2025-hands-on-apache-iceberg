{
 "cells": [
  {
   "cell_type": "markdown",
   "id": "2fcaffdc-97d8-4ac5-bc9b-1ae0799aed30",
   "metadata": {},
   "source": [
    "# Is your house worth it's weight in gold?\n",
    "\n",
    "Now we've calculated how much a given house rose in value over time - the question is, would you have been better off buying gold?\n",
    "\n",
    "In the `data` folder, we have the daily price of one ounce of gold in USD, called `XAUUSD` in trading terms (e`X`change rate of `AU` aka Gold to `USD`)\n",
    "\n",
    "We want to find out what would have happened if instead of buying a house, we would have bought an equivalent sum of gold. Finally we want to compare what the average profit would be if everyone had invested in gold instead of buying a house.\n",
    "\n",
    "For simplicity, use the daily Closing price.\n",
    "\n",
    "```{note}\n",
    "Since gold is priced in USD, and our houseprices are in GBP, there is also a USD/GBP daily prices in the `data/fx` folder to convert between currencies.\n",
    "```\n",
    "\n",
    "Breaking it down:\n",
    "\n",
    "1. Load daily gold prices into Iceberg - for bonus points, apply a yearly partitioning scheme\n",
    "2. Load exchange rates into Iceberg - for bonus points, apply a yearly partitioning scheme\n",
    "3. Convert daily gold prices from USD to GBP\n",
    "4. For each row in our `profits` table, calculate the equivalent amount of gold they would have been able to purchase on that date\n",
    "5. Calculate the total value of that amount of gold on the sell date\n",
    "6. Calculate the profit of our gold trade\n",
    "7. Compare to Gold profit with Housing profit"
   ]
  },
  {
   "cell_type": "code",
   "execution_count": null,
   "id": "975d72e1-ffec-4413-9c3f-706ad5039b82",
   "metadata": {},
   "outputs": [],
   "source": [
    "import polars as pl\n",
    "from utils import catalog, engine\n",
    "from pyiceberg.schema import Schema, NestedField\n",
    "from pyiceberg.types import DecimalType, DateType, StringType\n",
    "from pyiceberg.partitioning import PartitionSpec, YearTransform, PartitionField\n",
    "from IPython.display import display\n",
    "pl.Config.set_thousands_separator(\",\")"
   ]
  },
  {
   "cell_type": "markdown",
   "id": "aa4248b3-920d-4d37-b430-9c002a95df54",
   "metadata": {},
   "source": [
    "## 1. Load daily gold prices into Iceberg\n",
    "Start by creating the table in Iceberg. To organize things a bit better, I'm creating a new namespace `commodities` - we could imagine putting a table for oil prices or silver in here"
   ]
  },
  {
   "cell_type": "code",
   "execution_count": null,
   "id": "3c5f2e30-c1b4-4b3e-8b8c-6566c380bb89",
   "metadata": {},
   "outputs": [],
   "source": [
    "catalog.create_namespace_if_not_exists(\"commodities\")\n",
    "\n",
    "gold_schema = Schema(\n",
    "    NestedField(1, \"date\", DateType(), required=True, doc=\"Day of recorded price\"),\n",
    "    NestedField(\n",
    "        2,\n",
    "        \"price\",\n",
    "        DecimalType(precision=38, scale=2),\n",
    "        required=True,\n",
    "        doc=\"Price in USD of one ounce of gold\",\n",
    "    ),\n",
    "    identifier_field_ids=[1],\n",
    ")"
   ]
  },
  {
   "cell_type": "code",
   "execution_count": null,
   "id": "500b5ae3-fa08-46d5-aca2-e408801fcdfc",
   "metadata": {},
   "outputs": [],
   "source": [
    "gold_prices_t = catalog.create_table_if_not_exists(\n",
    "    \"commodities.gold\",\n",
    "    schema=gold_schema,\n",
    "    partition_spec=PartitionSpec(\n",
    "        PartitionField(\n",
    "            source_id=1, field_id=1, transform=YearTransform(), name=\"date_year\"\n",
    "        )\n",
    "    ),\n",
    ")"
   ]
  },
  {
   "cell_type": "markdown",
   "id": "4096bcaf-81cb-4a70-8181-2eef647522f0",
   "metadata": {},
   "source": [
    "Next, read in the CSV, picking out the two columns we care about, remembering to convert to the correct schema, "
   ]
  },
  {
   "cell_type": "code",
   "execution_count": null,
   "id": "57297f6b-8c1e-43d9-89bc-da0a7a20022c",
   "metadata": {},
   "outputs": [],
   "source": [
    "gold_prices = (\n",
    "    pl.scan_csv(\"data/gold/daily_gold_prices.csv\", separator=\";\", try_parse_dates=True)\n",
    "    .select(pl.col(\"Date\").alias(\"date\"), pl.col(\"Close\").alias(\"price\"))\n",
    "    .collect()\n",
    ")\n",
    "gold_prices"
   ]
  },
  {
   "cell_type": "code",
   "execution_count": null,
   "id": "12bcce48-92d6-42d2-a837-8b78da4d8437",
   "metadata": {},
   "outputs": [],
   "source": [
    "gold_prices_t.append(gold_prices.to_arrow().cast(gold_schema.as_arrow()))"
   ]
  },
  {
   "cell_type": "markdown",
   "id": "38819543-4c4c-4716-baf5-d652a06e026c",
   "metadata": {},
   "source": [
    "# 2. Load daily exchange rates into Iceberg\n",
    "\n",
    "Similar process - create a new namespace and load the fx rates. Since this is technically a table of currency pairs, we can make the schema a bit more future-proof"
   ]
  },
  {
   "cell_type": "code",
   "execution_count": null,
   "id": "722910bc-b691-4c9e-9644-1f0b4b0d3362",
   "metadata": {},
   "outputs": [],
   "source": [
    "catalog.create_namespace_if_not_exists(\"fx\")\n",
    "\n",
    "fx_schema = Schema(\n",
    "    NestedField(1, \"date\", DateType(), required=True, doc=\"Day of recorded price\"),\n",
    "    NestedField(\n",
    "        2,\n",
    "        \"from\",\n",
    "        StringType(),\n",
    "        required=True,\n",
    "        doc=\"From currency code of the currency pair\",\n",
    "    ),\n",
    "    NestedField(\n",
    "        3,\n",
    "        \"to\",\n",
    "        StringType(),\n",
    "        required=True,\n",
    "        doc=\"To currency code of the currency pair\",\n",
    "    ),\n",
    "    NestedField(\n",
    "        4,\n",
    "        \"exchange_rate\",\n",
    "        DecimalType(precision=38, scale=4),\n",
    "        required=True,\n",
    "        doc=\"Exchange rate of the currency pair\",\n",
    "    ),\n",
    "    identifier_field_ids=[1, 2, 3],\n",
    ")"
   ]
  },
  {
   "cell_type": "markdown",
   "id": "16c2a0c5-6023-4c84-933d-7aef488b3c84",
   "metadata": {},
   "source": [
    "Next, reading in the CSV file and transforming slightly to conform to our schema"
   ]
  },
  {
   "cell_type": "code",
   "execution_count": null,
   "id": "8ef2afff-e077-460f-a34e-6f64196abf51",
   "metadata": {},
   "outputs": [],
   "source": [
    "fx_table = catalog.create_table_if_not_exists(\"fx.rates\", schema=fx_schema)"
   ]
  },
  {
   "cell_type": "code",
   "execution_count": null,
   "id": "027e46a2-ea61-47f1-8fc5-47c6bd0bc16c",
   "metadata": {},
   "outputs": [],
   "source": [
    "fx_rates = (\n",
    "    pl.scan_csv(\"data/fx/USD_GBP.csv\", try_parse_dates=True)\n",
    "    .with_columns(pl.lit(\"USD\").alias(\"from\"), pl.lit(\"GBP\").alias(\"to\"))\n",
    "    .select(\n",
    "        pl.col(\"date\"),\n",
    "        pl.col(\"from\"),\n",
    "        pl.col(\"to\"),\n",
    "        pl.col(\"close\").cast(pl.Decimal(38, 4)).alias(\"exchange_rate\"),\n",
    "    )\n",
    "    .collect()\n",
    ")\n",
    "fx_rates"
   ]
  },
  {
   "cell_type": "code",
   "execution_count": null,
   "id": "08792eaf-4277-4fe3-9f99-6c255dc5263b",
   "metadata": {},
   "outputs": [],
   "source": [
    "fx_table.append(fx_rates.to_arrow().cast(fx_schema.as_arrow()))"
   ]
  },
  {
   "cell_type": "markdown",
   "id": "98d98e64-df99-4703-b2e2-c6c1fcc532dc",
   "metadata": {},
   "source": [
    "## Business Logic\n",
    "Next comes the business logic - the actual work of figuring out how much gold we could have bought and how much that would have sold for"
   ]
  },
  {
   "cell_type": "code",
   "execution_count": null,
   "id": "40b258b9-8af8-47f5-a4a2-5ca5de7f0c67",
   "metadata": {},
   "outputs": [],
   "source": [
    "sql = \"\"\"\n",
    "-- Convert USD gold prices into GBP denominated prices\n",
    "with gold_prices as (\n",
    "    select commodities.gold.date as gold_date, commodities.gold.price * fx.rates.exchange_rate as gold_price\n",
    "    from commodities.gold\n",
    "    join fx.rates on fx.rates.date = commodities.gold.date\n",
    "), gold_purchase as (\n",
    "-- Calculate how much gold (in ounces) the house owner could have bought at the time of purchase\n",
    "    select address_id, \n",
    "    first_price / gold_price as purchased_gold\n",
    "    from housing.profits\n",
    "    join gold_prices on gold_date = housing.profits.first_day\n",
    "), gold_sell as (\n",
    "-- Calculate how much that amount of gold is worth at the time of sale, as well as the profit\n",
    "    select housing.profits.address_id,\n",
    "    cast((purchased_gold * gold_price) - first_price as DECIMAL(38, 2)) as gold_profit,\n",
    "    cast(profit as DECIMAL(38, 2)) as house_profit\n",
    "    from housing.profits\n",
    "    join gold_purchase on gold_purchase.address_id = housing.profits.address_id\n",
    "    join gold_prices on gold_prices.gold_date = last_day\n",
    ")\n",
    "select * from gold_sell\n",
    "\"\"\""
   ]
  },
  {
   "cell_type": "code",
   "execution_count": null,
   "id": "b26767aa-ac11-4192-bce1-b61a4a602073",
   "metadata": {},
   "outputs": [],
   "source": [
    "gold_vs_house_profits = pl.read_database(sql, engine)\n",
    "gold_vs_house_profits"
   ]
  },
  {
   "cell_type": "markdown",
   "id": "254dfe2d-963f-4cd6-b3b7-700828fd00c1",
   "metadata": {},
   "source": [
    "Now we have a per-address calculation, let's summarize the results"
   ]
  },
  {
   "cell_type": "code",
   "execution_count": null,
   "id": "3c43ccc3-7cff-4e28-885d-0c6fe32020d8",
   "metadata": {},
   "outputs": [],
   "source": [
    "gold_vs_house_profits.select(pl.all().exclude(\"address_id\")).describe()"
   ]
  },
  {
   "cell_type": "markdown",
   "id": "5b82a881-2939-4b3d-b9ac-16ceb180a9ba",
   "metadata": {},
   "source": [
    "How many percent would have done better buying gold than a house?"
   ]
  },
  {
   "cell_type": "code",
   "execution_count": null,
   "id": "84f3f313-9e09-46cc-a250-522b28f12796",
   "metadata": {},
   "outputs": [],
   "source": [
    "with pl.Config(set_tbl_rows=100):\n",
    "    summary_df = (\n",
    "        gold_vs_house_profits.select(\n",
    "            pl.col(\"gold_profit\")\n",
    "            .sub(pl.col(\"house_profit\"))\n",
    "            .qcut(100, labels=[f\"Q{i + 1}\" for i in range(100)], include_breaks=True)\n",
    "        )\n",
    "        .unnest(\"gold_profit\")\n",
    "        .unique()\n",
    "        .sort(\"breakpoint\")\n",
    "    )\n",
    "    display(summary_df)"
   ]
  },
  {
   "cell_type": "markdown",
   "id": "49692599-1622-4487-a83b-d73b75cd9a30",
   "metadata": {},
   "source": [
    "# Exercise: What does it look like in your region?\n",
    "\n",
    "This is the picture for all of the UK - what does it look like for your region?"
   ]
  }
 ],
 "metadata": {
  "kernelspec": {
   "display_name": "Python 3 (ipykernel)",
   "language": "python",
   "name": "python3"
  },
  "language_info": {
   "codemirror_mode": {
    "name": "ipython",
    "version": 3
   },
   "file_extension": ".py",
   "mimetype": "text/x-python",
   "name": "python",
   "nbconvert_exporter": "python",
   "pygments_lexer": "ipython3",
   "version": "3.12.11"
  }
 },
 "nbformat": 4,
 "nbformat_minor": 5
}
