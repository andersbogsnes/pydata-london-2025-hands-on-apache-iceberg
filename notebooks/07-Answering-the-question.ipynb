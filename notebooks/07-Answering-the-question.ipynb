{
 "cells": [
  {
   "cell_type": "markdown",
   "id": "2fcaffdc-97d8-4ac5-bc9b-1ae0799aed30",
   "metadata": {},
   "source": [
    "# Is your house worth it's weight in gold?\n",
    "\n",
    "Now we've calculated how much a given house rose in value over time - the question is, would you have been better off buying gold?\n",
    "\n",
    "In the `data` folder, we have the daily price of one ounce of gold in USD, called `XAUUSD` in trading terms (e`X`change rate of `AU` aka Gold to `USD`)\n",
    "\n",
    "We want to find out what would have happened if instead of buying a house, we would have bought an equivalent sum of gold. Finally we want to compare what the average profit would be if everyone had invested in gold instead of buying a house.\n",
    "\n",
    "For simplicity, use the daily Closing price.\n",
    "\n",
    "```{note}\n",
    "Since gold is priced in USD, and our houseprices are in GBP, there is also a USD/GBP daily prices in the `data/fx` folder to convert between currencies.\n",
    "```\n",
    "\n",
    "Breaking it down:\n",
    "\n",
    "1. Load daily gold prices into Iceberg - for bonus points, apply a yearly partitioning scheme\n",
    "2. Load exchange rates into Iceberg - for bonus points, apply a yearly partitioning scheme\n",
    "3. Convert daily gold prices from USD to GBP\n",
    "4. For each row in our `profits` table, calculate the equivalent amount of gold they would have been able to purchase on that date\n",
    "5. Calculate the total value of that amount of gold on the sell date\n",
    "6. Calculate the profit of our gold trade\n",
    "7. Compare to Gold profit with Housing profit"
   ]
  },
  {
   "cell_type": "code",
   "execution_count": 1,
   "id": "975d72e1-ffec-4413-9c3f-706ad5039b82",
   "metadata": {},
   "outputs": [
    {
     "data": {
      "text/plain": [
       "polars.config.Config"
      ]
     },
     "execution_count": 1,
     "metadata": {},
     "output_type": "execute_result"
    }
   ],
   "source": [
    "import polars as pl\n",
    "from utils import catalog, engine\n",
    "from pyiceberg.schema import Schema, NestedField\n",
    "from pyiceberg.types import DecimalType, DateType, StringType\n",
    "from pyiceberg.partitioning import PartitionSpec, YearTransform, PartitionField\n",
    "from IPython.display import display\n",
    "pl.Config.set_thousands_separator(\",\")"
   ]
  },
  {
   "cell_type": "markdown",
   "id": "aa4248b3-920d-4d37-b430-9c002a95df54",
   "metadata": {},
   "source": [
    "## 1. Load daily gold prices into Iceberg\n",
    "Start by creating the table in Iceberg. To organize things a bit better, I'm creating a new namespace `commodities` - we could imagine putting a table for oil prices or silver in here"
   ]
  },
  {
   "cell_type": "code",
   "execution_count": 2,
   "id": "3c5f2e30-c1b4-4b3e-8b8c-6566c380bb89",
   "metadata": {},
   "outputs": [],
   "source": [
    "catalog.create_namespace_if_not_exists(\"commodities\")\n",
    "\n",
    "gold_schema = Schema(\n",
    "    NestedField(1, \"date\", DateType(), required=True, doc=\"Day of recorded price\"),\n",
    "    NestedField(\n",
    "        2,\n",
    "        \"price\",\n",
    "        DecimalType(precision=38, scale=2),\n",
    "        required=True,\n",
    "        doc=\"Price in USD of one ounce of gold\",\n",
    "    ),\n",
    "    identifier_field_ids=[1],\n",
    ")"
   ]
  },
  {
   "cell_type": "code",
   "execution_count": 3,
   "id": "500b5ae3-fa08-46d5-aca2-e408801fcdfc",
   "metadata": {},
   "outputs": [],
   "source": [
    "gold_prices_t = catalog.create_table_if_not_exists(\n",
    "    \"commodities.gold\",\n",
    "    schema=gold_schema,\n",
    "    partition_spec=PartitionSpec(\n",
    "        PartitionField(\n",
    "            source_id=1, field_id=1, transform=YearTransform(), name=\"date_year\"\n",
    "        )\n",
    "    ),\n",
    ")"
   ]
  },
  {
   "cell_type": "markdown",
   "id": "4096bcaf-81cb-4a70-8181-2eef647522f0",
   "metadata": {},
   "source": [
    "Next, read in the CSV, picking out the two columns we care about, remembering to convert to the correct schema, "
   ]
  },
  {
   "cell_type": "code",
   "execution_count": 4,
   "id": "57297f6b-8c1e-43d9-89bc-da0a7a20022c",
   "metadata": {},
   "outputs": [
    {
     "data": {
      "text/html": [
       "<div><style>\n",
       ".dataframe > thead > tr,\n",
       ".dataframe > tbody > tr {\n",
       "  text-align: right;\n",
       "  white-space: pre-wrap;\n",
       "}\n",
       "</style>\n",
       "<small>shape: (5_295, 2)</small><table border=\"1\" class=\"dataframe\"><thead><tr><th>date</th><th>price</th></tr><tr><td>datetime[μs]</td><td>f64</td></tr></thead><tbody><tr><td>2004-06-11 00:00:00</td><td>384.1</td></tr><tr><td>2004-06-14 00:00:00</td><td>382.8</td></tr><tr><td>2004-06-15 00:00:00</td><td>388.6</td></tr><tr><td>2004-06-16 00:00:00</td><td>383.8</td></tr><tr><td>2004-06-17 00:00:00</td><td>387.6</td></tr><tr><td>&hellip;</td><td>&hellip;</td></tr><tr><td>2025-01-28 00:00:00</td><td>2,763.17</td></tr><tr><td>2025-01-29 00:00:00</td><td>2,759.68</td></tr><tr><td>2025-01-30 00:00:00</td><td>2,794.06</td></tr><tr><td>2025-01-31 00:00:00</td><td>2,799.23</td></tr><tr><td>2025-02-03 00:00:00</td><td>2,794.41</td></tr></tbody></table></div>"
      ],
      "text/plain": [
       "shape: (5_295, 2)\n",
       "┌─────────────────────┬──────────┐\n",
       "│ date                ┆ price    │\n",
       "│ ---                 ┆ ---      │\n",
       "│ datetime[μs]        ┆ f64      │\n",
       "╞═════════════════════╪══════════╡\n",
       "│ 2004-06-11 00:00:00 ┆ 384.1    │\n",
       "│ 2004-06-14 00:00:00 ┆ 382.8    │\n",
       "│ 2004-06-15 00:00:00 ┆ 388.6    │\n",
       "│ 2004-06-16 00:00:00 ┆ 383.8    │\n",
       "│ 2004-06-17 00:00:00 ┆ 387.6    │\n",
       "│ …                   ┆ …        │\n",
       "│ 2025-01-28 00:00:00 ┆ 2,763.17 │\n",
       "│ 2025-01-29 00:00:00 ┆ 2,759.68 │\n",
       "│ 2025-01-30 00:00:00 ┆ 2,794.06 │\n",
       "│ 2025-01-31 00:00:00 ┆ 2,799.23 │\n",
       "│ 2025-02-03 00:00:00 ┆ 2,794.41 │\n",
       "└─────────────────────┴──────────┘"
      ]
     },
     "execution_count": 4,
     "metadata": {},
     "output_type": "execute_result"
    }
   ],
   "source": [
    "gold_prices = (\n",
    "    pl.scan_csv(\"data/gold/daily_gold_prices.csv\", separator=\";\", try_parse_dates=True)\n",
    "    .select(pl.col(\"Date\").alias(\"date\"), pl.col(\"Close\").alias(\"price\"))\n",
    "    .collect()\n",
    ")\n",
    "gold_prices"
   ]
  },
  {
   "cell_type": "code",
   "execution_count": 5,
   "id": "12bcce48-92d6-42d2-a837-8b78da4d8437",
   "metadata": {},
   "outputs": [],
   "source": [
    "gold_prices_t.append(gold_prices.to_arrow().cast(gold_schema.as_arrow()))"
   ]
  },
  {
   "cell_type": "markdown",
   "id": "38819543-4c4c-4716-baf5-d652a06e026c",
   "metadata": {},
   "source": [
    "# 2. Load daily exchange rates into Iceberg\n",
    "\n",
    "Similar process - create a new namespace and load the fx rates. Since this is technically a table of currency pairs, we can make the schema a bit more future-proof"
   ]
  },
  {
   "cell_type": "code",
   "execution_count": 6,
   "id": "722910bc-b691-4c9e-9644-1f0b4b0d3362",
   "metadata": {},
   "outputs": [],
   "source": [
    "catalog.create_namespace_if_not_exists(\"fx\")\n",
    "\n",
    "fx_schema = Schema(\n",
    "    NestedField(1, \"date\", DateType(), required=True, doc=\"Day of recorded price\"),\n",
    "    NestedField(\n",
    "        2,\n",
    "        \"from\",\n",
    "        StringType(),\n",
    "        required=True,\n",
    "        doc=\"From currency code of the currency pair\",\n",
    "    ),\n",
    "    NestedField(\n",
    "        3,\n",
    "        \"to\",\n",
    "        StringType(),\n",
    "        required=True,\n",
    "        doc=\"To currency code of the currency pair\",\n",
    "    ),\n",
    "    NestedField(\n",
    "        4,\n",
    "        \"exchange_rate\",\n",
    "        DecimalType(precision=38, scale=4),\n",
    "        required=True,\n",
    "        doc=\"Exchange rate of the currency pair\",\n",
    "    ),\n",
    "    identifier_field_ids=[1, 2, 3],\n",
    ")"
   ]
  },
  {
   "cell_type": "markdown",
   "id": "16c2a0c5-6023-4c84-933d-7aef488b3c84",
   "metadata": {},
   "source": [
    "Next, reading in the CSV file and transforming slightly to conform to our schema"
   ]
  },
  {
   "cell_type": "code",
   "execution_count": 7,
   "id": "8ef2afff-e077-460f-a34e-6f64196abf51",
   "metadata": {},
   "outputs": [],
   "source": [
    "fx_table = catalog.create_table_if_not_exists(\"fx.rates\", schema=fx_schema)"
   ]
  },
  {
   "cell_type": "code",
   "execution_count": 8,
   "id": "027e46a2-ea61-47f1-8fc5-47c6bd0bc16c",
   "metadata": {},
   "outputs": [
    {
     "data": {
      "text/html": [
       "<div><style>\n",
       ".dataframe > thead > tr,\n",
       ".dataframe > tbody > tr {\n",
       "  text-align: right;\n",
       "  white-space: pre-wrap;\n",
       "}\n",
       "</style>\n",
       "<small>shape: (5_013, 4)</small><table border=\"1\" class=\"dataframe\"><thead><tr><th>date</th><th>from</th><th>to</th><th>exchange_rate</th></tr><tr><td>date</td><td>str</td><td>str</td><td>decimal[38,4]</td></tr></thead><tbody><tr><td>2025-05-16</td><td>&quot;USD&quot;</td><td>&quot;GBP&quot;</td><td>0.7529</td></tr><tr><td>2025-05-15</td><td>&quot;USD&quot;</td><td>&quot;GBP&quot;</td><td>0.7516</td></tr><tr><td>2025-05-14</td><td>&quot;USD&quot;</td><td>&quot;GBP&quot;</td><td>0.7540</td></tr><tr><td>2025-05-13</td><td>&quot;USD&quot;</td><td>&quot;GBP&quot;</td><td>0.7516</td></tr><tr><td>2025-05-12</td><td>&quot;USD&quot;</td><td>&quot;GBP&quot;</td><td>0.7590</td></tr><tr><td>&hellip;</td><td>&hellip;</td><td>&hellip;</td><td>&hellip;</td></tr><tr><td>2006-03-07</td><td>&quot;USD&quot;</td><td>&quot;GBP&quot;</td><td>0.5760</td></tr><tr><td>2006-03-06</td><td>&quot;USD&quot;</td><td>&quot;GBP&quot;</td><td>0.5713</td></tr><tr><td>2006-03-03</td><td>&quot;USD&quot;</td><td>&quot;GBP&quot;</td><td>0.5696</td></tr><tr><td>2006-03-02</td><td>&quot;USD&quot;</td><td>&quot;GBP&quot;</td><td>0.5703</td></tr><tr><td>2006-03-01</td><td>&quot;USD&quot;</td><td>&quot;GBP&quot;</td><td>0.5714</td></tr></tbody></table></div>"
      ],
      "text/plain": [
       "shape: (5_013, 4)\n",
       "┌────────────┬──────┬─────┬───────────────┐\n",
       "│ date       ┆ from ┆ to  ┆ exchange_rate │\n",
       "│ ---        ┆ ---  ┆ --- ┆ ---           │\n",
       "│ date       ┆ str  ┆ str ┆ decimal[38,4] │\n",
       "╞════════════╪══════╪═════╪═══════════════╡\n",
       "│ 2025-05-16 ┆ USD  ┆ GBP ┆ 0.7529        │\n",
       "│ 2025-05-15 ┆ USD  ┆ GBP ┆ 0.7516        │\n",
       "│ 2025-05-14 ┆ USD  ┆ GBP ┆ 0.7540        │\n",
       "│ 2025-05-13 ┆ USD  ┆ GBP ┆ 0.7516        │\n",
       "│ 2025-05-12 ┆ USD  ┆ GBP ┆ 0.7590        │\n",
       "│ …          ┆ …    ┆ …   ┆ …             │\n",
       "│ 2006-03-07 ┆ USD  ┆ GBP ┆ 0.5760        │\n",
       "│ 2006-03-06 ┆ USD  ┆ GBP ┆ 0.5713        │\n",
       "│ 2006-03-03 ┆ USD  ┆ GBP ┆ 0.5696        │\n",
       "│ 2006-03-02 ┆ USD  ┆ GBP ┆ 0.5703        │\n",
       "│ 2006-03-01 ┆ USD  ┆ GBP ┆ 0.5714        │\n",
       "└────────────┴──────┴─────┴───────────────┘"
      ]
     },
     "execution_count": 8,
     "metadata": {},
     "output_type": "execute_result"
    }
   ],
   "source": [
    "fx_rates = (\n",
    "    pl.scan_csv(\"data/fx/USD_GBP.csv\", try_parse_dates=True)\n",
    "    .with_columns(pl.lit(\"USD\").alias(\"from\"), pl.lit(\"GBP\").alias(\"to\"))\n",
    "    .select(\n",
    "        pl.col(\"date\"),\n",
    "        pl.col(\"from\"),\n",
    "        pl.col(\"to\"),\n",
    "        pl.col(\"close\").cast(pl.Decimal(38, 4)).alias(\"exchange_rate\"),\n",
    "    )\n",
    "    .collect()\n",
    ")\n",
    "fx_rates"
   ]
  },
  {
   "cell_type": "code",
   "execution_count": 9,
   "id": "08792eaf-4277-4fe3-9f99-6c255dc5263b",
   "metadata": {},
   "outputs": [],
   "source": [
    "fx_table.append(fx_rates.to_arrow().cast(fx_schema.as_arrow()))"
   ]
  },
  {
   "cell_type": "markdown",
   "id": "98d98e64-df99-4703-b2e2-c6c1fcc532dc",
   "metadata": {},
   "source": [
    "## Business Logic\n",
    "Next comes the business logic - the actual work of figuring out how much gold we could have bought and how much that would have sold for"
   ]
  },
  {
   "cell_type": "code",
   "execution_count": 10,
   "id": "40b258b9-8af8-47f5-a4a2-5ca5de7f0c67",
   "metadata": {},
   "outputs": [],
   "source": [
    "sql = \"\"\"\n",
    "-- Convert USD gold prices into GBP denominated prices\n",
    "with gold_prices as (\n",
    "    select commodities.gold.date as gold_date, commodities.gold.price * fx.rates.exchange_rate as gold_price\n",
    "    from commodities.gold\n",
    "    join fx.rates on fx.rates.date = commodities.gold.date\n",
    "), gold_purchase as (\n",
    "-- Calculate how much gold (in ounces) the house owner could have bought at the time of purchase\n",
    "    select address_id, \n",
    "    first_price / gold_price as purchased_gold\n",
    "    from housing.profits\n",
    "    join gold_prices on gold_date = housing.profits.first_day\n",
    "), gold_sell as (\n",
    "-- Calculate how much that amount of gold is worth at the time of sale, as well as the profit\n",
    "    select housing.profits.address_id,\n",
    "    cast((purchased_gold * gold_price) - first_price as DECIMAL(38, 2)) as gold_profit,\n",
    "    cast(profit as DECIMAL(38, 2)) as house_profit\n",
    "    from housing.profits\n",
    "    join gold_purchase on gold_purchase.address_id = housing.profits.address_id\n",
    "    join gold_prices on gold_prices.gold_date = last_day\n",
    ")\n",
    "select * from gold_sell\n",
    "\"\"\""
   ]
  },
  {
   "cell_type": "code",
   "execution_count": 11,
   "id": "b26767aa-ac11-4192-bce1-b61a4a602073",
   "metadata": {},
   "outputs": [
    {
     "data": {
      "text/html": [
       "<div><style>\n",
       ".dataframe > thead > tr,\n",
       ".dataframe > tbody > tr {\n",
       "  text-align: right;\n",
       "  white-space: pre-wrap;\n",
       "}\n",
       "</style>\n",
       "<small>shape: (1_164_999, 3)</small><table border=\"1\" class=\"dataframe\"><thead><tr><th>address_id</th><th>gold_profit</th><th>house_profit</th></tr><tr><td>str</td><td>decimal[38,2]</td><td>decimal[38,2]</td></tr></thead><tbody><tr><td>&quot;E7212FC4DD4DE6EEACEF3A2E069ACC…</td><td>40,230.82</td><td>-22,500.00</td></tr><tr><td>&quot;C93F0B6F6F82401AFF1C511FF7ACEF…</td><td>15,498.03</td><td>39,500.00</td></tr><tr><td>&quot;CE92C6E47E7B015B3A80A50C31AC79…</td><td>111,327.95</td><td>85,000.00</td></tr><tr><td>&quot;996AD2EF5EFB730D42202B131BEB84…</td><td>77,923.33</td><td>200,000.00</td></tr><tr><td>&quot;970B72DCDC9B719CDDD531E88D0692…</td><td>112,377.28</td><td>0.00</td></tr><tr><td>&hellip;</td><td>&hellip;</td><td>&hellip;</td></tr><tr><td>&quot;B62B37D0BB8169956985F389FDBCB3…</td><td>978,363.27</td><td>21,005.00</td></tr><tr><td>&quot;C3A799B599BBF3E2C748FFE4F5BDE4…</td><td>3,201,682.77</td><td>9,754,579.00</td></tr><tr><td>&quot;A8ABDF6D094837170D9C8C89D7CE6E…</td><td>83,729.77</td><td>2,050.00</td></tr><tr><td>&quot;8EF9CF8623B6DFAAB83AA63C124A90…</td><td>88,163.13</td><td>-30,000.00</td></tr><tr><td>&quot;D49541E2F701E462276818D63C5F30…</td><td>475,293.37</td><td>52,250.00</td></tr></tbody></table></div>"
      ],
      "text/plain": [
       "shape: (1_164_999, 3)\n",
       "┌─────────────────────────────────┬───────────────┬───────────────┐\n",
       "│ address_id                      ┆ gold_profit   ┆ house_profit  │\n",
       "│ ---                             ┆ ---           ┆ ---           │\n",
       "│ str                             ┆ decimal[38,2] ┆ decimal[38,2] │\n",
       "╞═════════════════════════════════╪═══════════════╪═══════════════╡\n",
       "│ E7212FC4DD4DE6EEACEF3A2E069ACC… ┆ 40,230.82     ┆ -22,500.00    │\n",
       "│ C93F0B6F6F82401AFF1C511FF7ACEF… ┆ 15,498.03     ┆ 39,500.00     │\n",
       "│ CE92C6E47E7B015B3A80A50C31AC79… ┆ 111,327.95    ┆ 85,000.00     │\n",
       "│ 996AD2EF5EFB730D42202B131BEB84… ┆ 77,923.33     ┆ 200,000.00    │\n",
       "│ 970B72DCDC9B719CDDD531E88D0692… ┆ 112,377.28    ┆ 0.00          │\n",
       "│ …                               ┆ …             ┆ …             │\n",
       "│ B62B37D0BB8169956985F389FDBCB3… ┆ 978,363.27    ┆ 21,005.00     │\n",
       "│ C3A799B599BBF3E2C748FFE4F5BDE4… ┆ 3,201,682.77  ┆ 9,754,579.00  │\n",
       "│ A8ABDF6D094837170D9C8C89D7CE6E… ┆ 83,729.77     ┆ 2,050.00      │\n",
       "│ 8EF9CF8623B6DFAAB83AA63C124A90… ┆ 88,163.13     ┆ -30,000.00    │\n",
       "│ D49541E2F701E462276818D63C5F30… ┆ 475,293.37    ┆ 52,250.00     │\n",
       "└─────────────────────────────────┴───────────────┴───────────────┘"
      ]
     },
     "execution_count": 11,
     "metadata": {},
     "output_type": "execute_result"
    }
   ],
   "source": [
    "gold_vs_house_profits = pl.read_database(sql, engine)\n",
    "gold_vs_house_profits"
   ]
  },
  {
   "cell_type": "markdown",
   "id": "254dfe2d-963f-4cd6-b3b7-700828fd00c1",
   "metadata": {},
   "source": [
    "Now we have a per-address calculation, let's summarize the results"
   ]
  },
  {
   "cell_type": "code",
   "execution_count": 12,
   "id": "3c43ccc3-7cff-4e28-885d-0c6fe32020d8",
   "metadata": {},
   "outputs": [
    {
     "data": {
      "text/html": [
       "<div><style>\n",
       ".dataframe > thead > tr,\n",
       ".dataframe > tbody > tr {\n",
       "  text-align: right;\n",
       "  white-space: pre-wrap;\n",
       "}\n",
       "</style>\n",
       "<small>shape: (9, 3)</small><table border=\"1\" class=\"dataframe\"><thead><tr><th>statistic</th><th>gold_profit</th><th>house_profit</th></tr><tr><td>str</td><td>f64</td><td>f64</td></tr></thead><tbody><tr><td>&quot;count&quot;</td><td>1.164999e6</td><td>1.164999e6</td></tr><tr><td>&quot;null_count&quot;</td><td>0.0</td><td>0.0</td></tr><tr><td>&quot;mean&quot;</td><td>137,382.087434</td><td>63,217.298158</td></tr><tr><td>&quot;std&quot;</td><td>187,251.512417</td><td>112,895.232608</td></tr><tr><td>&quot;min&quot;</td><td>-918,104.38</td><td>-1.198e7</td></tr><tr><td>&quot;25%&quot;</td><td>45,381.74</td><td>20,000.0</td></tr><tr><td>&quot;50%&quot;</td><td>92,987.92</td><td>45,000.0</td></tr><tr><td>&quot;75%&quot;</td><td>171,926.4</td><td>80,000.0</td></tr><tr><td>&quot;max&quot;</td><td>21,050,917.48</td><td>2.4992e7</td></tr></tbody></table></div>"
      ],
      "text/plain": [
       "shape: (9, 3)\n",
       "┌────────────┬────────────────┬────────────────┐\n",
       "│ statistic  ┆ gold_profit    ┆ house_profit   │\n",
       "│ ---        ┆ ---            ┆ ---            │\n",
       "│ str        ┆ f64            ┆ f64            │\n",
       "╞════════════╪════════════════╪════════════════╡\n",
       "│ count      ┆ 1.164999e6     ┆ 1.164999e6     │\n",
       "│ null_count ┆ 0.0            ┆ 0.0            │\n",
       "│ mean       ┆ 137,382.087434 ┆ 63,217.298158  │\n",
       "│ std        ┆ 187,251.512417 ┆ 112,895.232608 │\n",
       "│ min        ┆ -918,104.38    ┆ -1.198e7       │\n",
       "│ 25%        ┆ 45,381.74      ┆ 20,000.0       │\n",
       "│ 50%        ┆ 92,987.92      ┆ 45,000.0       │\n",
       "│ 75%        ┆ 171,926.4      ┆ 80,000.0       │\n",
       "│ max        ┆ 21,050,917.48  ┆ 2.4992e7       │\n",
       "└────────────┴────────────────┴────────────────┘"
      ]
     },
     "execution_count": 12,
     "metadata": {},
     "output_type": "execute_result"
    }
   ],
   "source": [
    "gold_vs_house_profits.select(pl.all().exclude(\"address_id\")).describe()"
   ]
  },
  {
   "cell_type": "markdown",
   "id": "5b82a881-2939-4b3d-b9ac-16ceb180a9ba",
   "metadata": {},
   "source": [
    "How many percent would have done better buying gold than a house?"
   ]
  },
  {
   "cell_type": "code",
   "execution_count": 13,
   "id": "84f3f313-9e09-46cc-a250-522b28f12796",
   "metadata": {},
   "outputs": [
    {
     "data": {
      "text/html": [
       "<div><style>\n",
       ".dataframe > thead > tr,\n",
       ".dataframe > tbody > tr {\n",
       "  text-align: right;\n",
       "  white-space: pre-wrap;\n",
       "}\n",
       "</style>\n",
       "<small>shape: (100, 2)</small><table border=\"1\" class=\"dataframe\"><thead><tr><th>breakpoint</th><th>category</th></tr><tr><td>f64</td><td>cat</td></tr></thead><tbody><tr><td>-187,710.8238</td><td>&quot;Q1&quot;</td></tr><tr><td>-124,899.5792</td><td>&quot;Q2&quot;</td></tr><tr><td>-96,878.7716</td><td>&quot;Q3&quot;</td></tr><tr><td>-79,911.3604</td><td>&quot;Q4&quot;</td></tr><tr><td>-68,322.479</td><td>&quot;Q5&quot;</td></tr><tr><td>-59,485.292</td><td>&quot;Q6&quot;</td></tr><tr><td>-52,535.4192</td><td>&quot;Q7&quot;</td></tr><tr><td>-46,643.1372</td><td>&quot;Q8&quot;</td></tr><tr><td>-41,579.8236</td><td>&quot;Q9&quot;</td></tr><tr><td>-37,113.074</td><td>&quot;Q10&quot;</td></tr><tr><td>-33,057.5128</td><td>&quot;Q11&quot;</td></tr><tr><td>-29,383.146</td><td>&quot;Q12&quot;</td></tr><tr><td>-26,090.2594</td><td>&quot;Q13&quot;</td></tr><tr><td>-23,029.1952</td><td>&quot;Q14&quot;</td></tr><tr><td>-20,175.341</td><td>&quot;Q15&quot;</td></tr><tr><td>-17,513.6876</td><td>&quot;Q16&quot;</td></tr><tr><td>-14,978.1274</td><td>&quot;Q17&quot;</td></tr><tr><td>-12,570.6572</td><td>&quot;Q18&quot;</td></tr><tr><td>-10,291.2338</td><td>&quot;Q19&quot;</td></tr><tr><td>-8,090.066</td><td>&quot;Q20&quot;</td></tr><tr><td>-5,979.9572</td><td>&quot;Q21&quot;</td></tr><tr><td>-3,941.792</td><td>&quot;Q22&quot;</td></tr><tr><td>-1,973.3146</td><td>&quot;Q23&quot;</td></tr><tr><td>-72.8784</td><td>&quot;Q24&quot;</td></tr><tr><td>1,794.515</td><td>&quot;Q25&quot;</td></tr><tr><td>3,644.3516</td><td>&quot;Q26&quot;</td></tr><tr><td>5,415.5422</td><td>&quot;Q27&quot;</td></tr><tr><td>7,156.8536</td><td>&quot;Q28&quot;</td></tr><tr><td>8,911.6762</td><td>&quot;Q29&quot;</td></tr><tr><td>10,626.134</td><td>&quot;Q30&quot;</td></tr><tr><td>12,336.809</td><td>&quot;Q31&quot;</td></tr><tr><td>14,013.044</td><td>&quot;Q32&quot;</td></tr><tr><td>15,698.8934</td><td>&quot;Q33&quot;</td></tr><tr><td>17,323.6384</td><td>&quot;Q34&quot;</td></tr><tr><td>18,996.509</td><td>&quot;Q35&quot;</td></tr><tr><td>20,651.3628</td><td>&quot;Q36&quot;</td></tr><tr><td>22,318.7456</td><td>&quot;Q37&quot;</td></tr><tr><td>23,976.6576</td><td>&quot;Q38&quot;</td></tr><tr><td>25,635.1332</td><td>&quot;Q39&quot;</td></tr><tr><td>27,318.696</td><td>&quot;Q40&quot;</td></tr><tr><td>28,966.8334</td><td>&quot;Q41&quot;</td></tr><tr><td>30,649.2444</td><td>&quot;Q42&quot;</td></tr><tr><td>32,331.93</td><td>&quot;Q43&quot;</td></tr><tr><td>34,052.1648</td><td>&quot;Q44&quot;</td></tr><tr><td>35,795.416</td><td>&quot;Q45&quot;</td></tr><tr><td>37,561.92</td><td>&quot;Q46&quot;</td></tr><tr><td>39,307.04</td><td>&quot;Q47&quot;</td></tr><tr><td>41,118.0116</td><td>&quot;Q48&quot;</td></tr><tr><td>42,939.2206</td><td>&quot;Q49&quot;</td></tr><tr><td>44,810.89</td><td>&quot;Q50&quot;</td></tr><tr><td>46,708.0388</td><td>&quot;Q51&quot;</td></tr><tr><td>48,705.7008</td><td>&quot;Q52&quot;</td></tr><tr><td>50,675.6768</td><td>&quot;Q53&quot;</td></tr><tr><td>52,672.8584</td><td>&quot;Q54&quot;</td></tr><tr><td>54,719.522</td><td>&quot;Q55&quot;</td></tr><tr><td>56,817.5596</td><td>&quot;Q56&quot;</td></tr><tr><td>58,992.1602</td><td>&quot;Q57&quot;</td></tr><tr><td>61,192.9408</td><td>&quot;Q58&quot;</td></tr><tr><td>63,440.7198</td><td>&quot;Q59&quot;</td></tr><tr><td>65,748.782</td><td>&quot;Q60&quot;</td></tr><tr><td>68,132.8168</td><td>&quot;Q61&quot;</td></tr><tr><td>70,562.94</td><td>&quot;Q62&quot;</td></tr><tr><td>73,031.8236</td><td>&quot;Q63&quot;</td></tr><tr><td>75,587.22</td><td>&quot;Q64&quot;</td></tr><tr><td>78,226.686</td><td>&quot;Q65&quot;</td></tr><tr><td>80,966.3872</td><td>&quot;Q66&quot;</td></tr><tr><td>83,804.8108</td><td>&quot;Q67&quot;</td></tr><tr><td>86,691.564</td><td>&quot;Q68&quot;</td></tr><tr><td>89,711.0022</td><td>&quot;Q69&quot;</td></tr><tr><td>92,865.956</td><td>&quot;Q70&quot;</td></tr><tr><td>96,126.4748</td><td>&quot;Q71&quot;</td></tr><tr><td>99,497.2664</td><td>&quot;Q72&quot;</td></tr><tr><td>103,061.3444</td><td>&quot;Q73&quot;</td></tr><tr><td>106,796.3204</td><td>&quot;Q74&quot;</td></tr><tr><td>110,651.815</td><td>&quot;Q75&quot;</td></tr><tr><td>114,763.98</td><td>&quot;Q76&quot;</td></tr><tr><td>119,055.6196</td><td>&quot;Q77&quot;</td></tr><tr><td>123,613.1584</td><td>&quot;Q78&quot;</td></tr><tr><td>128,443.6142</td><td>&quot;Q79&quot;</td></tr><tr><td>133,532.394</td><td>&quot;Q80&quot;</td></tr><tr><td>138,946.4274</td><td>&quot;Q81&quot;</td></tr><tr><td>144,701.6016</td><td>&quot;Q82&quot;</td></tr><tr><td>150,890.2338</td><td>&quot;Q83&quot;</td></tr><tr><td>157,542.9868</td><td>&quot;Q84&quot;</td></tr><tr><td>164,764.806</td><td>&quot;Q85&quot;</td></tr><tr><td>172,606.1452</td><td>&quot;Q86&quot;</td></tr><tr><td>181,191.7116</td><td>&quot;Q87&quot;</td></tr><tr><td>190,734.4224</td><td>&quot;Q88&quot;</td></tr><tr><td>201,334.3174</td><td>&quot;Q89&quot;</td></tr><tr><td>213,258.91</td><td>&quot;Q90&quot;</td></tr><tr><td>226,664.242</td><td>&quot;Q91&quot;</td></tr><tr><td>242,263.7736</td><td>&quot;Q92&quot;</td></tr><tr><td>260,671.2574</td><td>&quot;Q93&quot;</td></tr><tr><td>282,442.8512</td><td>&quot;Q94&quot;</td></tr><tr><td>309,960.628</td><td>&quot;Q95&quot;</td></tr><tr><td>345,340.0656</td><td>&quot;Q96&quot;</td></tr><tr><td>394,711.9088</td><td>&quot;Q97&quot;</td></tr><tr><td>471,595.2612</td><td>&quot;Q98&quot;</td></tr><tr><td>625,684.0988</td><td>&quot;Q99&quot;</td></tr><tr><td>inf</td><td>&quot;Q100&quot;</td></tr></tbody></table></div>"
      ],
      "text/plain": [
       "shape: (100, 2)\n",
       "┌───────────────┬──────────┐\n",
       "│ breakpoint    ┆ category │\n",
       "│ ---           ┆ ---      │\n",
       "│ f64           ┆ cat      │\n",
       "╞═══════════════╪══════════╡\n",
       "│ -187,710.8238 ┆ Q1       │\n",
       "│ -124,899.5792 ┆ Q2       │\n",
       "│ -96,878.7716  ┆ Q3       │\n",
       "│ -79,911.3604  ┆ Q4       │\n",
       "│ -68,322.479   ┆ Q5       │\n",
       "│ -59,485.292   ┆ Q6       │\n",
       "│ -52,535.4192  ┆ Q7       │\n",
       "│ -46,643.1372  ┆ Q8       │\n",
       "│ -41,579.8236  ┆ Q9       │\n",
       "│ -37,113.074   ┆ Q10      │\n",
       "│ -33,057.5128  ┆ Q11      │\n",
       "│ -29,383.146   ┆ Q12      │\n",
       "│ -26,090.2594  ┆ Q13      │\n",
       "│ -23,029.1952  ┆ Q14      │\n",
       "│ -20,175.341   ┆ Q15      │\n",
       "│ -17,513.6876  ┆ Q16      │\n",
       "│ -14,978.1274  ┆ Q17      │\n",
       "│ -12,570.6572  ┆ Q18      │\n",
       "│ -10,291.2338  ┆ Q19      │\n",
       "│ -8,090.066    ┆ Q20      │\n",
       "│ -5,979.9572   ┆ Q21      │\n",
       "│ -3,941.792    ┆ Q22      │\n",
       "│ -1,973.3146   ┆ Q23      │\n",
       "│ -72.8784      ┆ Q24      │\n",
       "│ 1,794.515     ┆ Q25      │\n",
       "│ 3,644.3516    ┆ Q26      │\n",
       "│ 5,415.5422    ┆ Q27      │\n",
       "│ 7,156.8536    ┆ Q28      │\n",
       "│ 8,911.6762    ┆ Q29      │\n",
       "│ 10,626.134    ┆ Q30      │\n",
       "│ 12,336.809    ┆ Q31      │\n",
       "│ 14,013.044    ┆ Q32      │\n",
       "│ 15,698.8934   ┆ Q33      │\n",
       "│ 17,323.6384   ┆ Q34      │\n",
       "│ 18,996.509    ┆ Q35      │\n",
       "│ 20,651.3628   ┆ Q36      │\n",
       "│ 22,318.7456   ┆ Q37      │\n",
       "│ 23,976.6576   ┆ Q38      │\n",
       "│ 25,635.1332   ┆ Q39      │\n",
       "│ 27,318.696    ┆ Q40      │\n",
       "│ 28,966.8334   ┆ Q41      │\n",
       "│ 30,649.2444   ┆ Q42      │\n",
       "│ 32,331.93     ┆ Q43      │\n",
       "│ 34,052.1648   ┆ Q44      │\n",
       "│ 35,795.416    ┆ Q45      │\n",
       "│ 37,561.92     ┆ Q46      │\n",
       "│ 39,307.04     ┆ Q47      │\n",
       "│ 41,118.0116   ┆ Q48      │\n",
       "│ 42,939.2206   ┆ Q49      │\n",
       "│ 44,810.89     ┆ Q50      │\n",
       "│ 46,708.0388   ┆ Q51      │\n",
       "│ 48,705.7008   ┆ Q52      │\n",
       "│ 50,675.6768   ┆ Q53      │\n",
       "│ 52,672.8584   ┆ Q54      │\n",
       "│ 54,719.522    ┆ Q55      │\n",
       "│ 56,817.5596   ┆ Q56      │\n",
       "│ 58,992.1602   ┆ Q57      │\n",
       "│ 61,192.9408   ┆ Q58      │\n",
       "│ 63,440.7198   ┆ Q59      │\n",
       "│ 65,748.782    ┆ Q60      │\n",
       "│ 68,132.8168   ┆ Q61      │\n",
       "│ 70,562.94     ┆ Q62      │\n",
       "│ 73,031.8236   ┆ Q63      │\n",
       "│ 75,587.22     ┆ Q64      │\n",
       "│ 78,226.686    ┆ Q65      │\n",
       "│ 80,966.3872   ┆ Q66      │\n",
       "│ 83,804.8108   ┆ Q67      │\n",
       "│ 86,691.564    ┆ Q68      │\n",
       "│ 89,711.0022   ┆ Q69      │\n",
       "│ 92,865.956    ┆ Q70      │\n",
       "│ 96,126.4748   ┆ Q71      │\n",
       "│ 99,497.2664   ┆ Q72      │\n",
       "│ 103,061.3444  ┆ Q73      │\n",
       "│ 106,796.3204  ┆ Q74      │\n",
       "│ 110,651.815   ┆ Q75      │\n",
       "│ 114,763.98    ┆ Q76      │\n",
       "│ 119,055.6196  ┆ Q77      │\n",
       "│ 123,613.1584  ┆ Q78      │\n",
       "│ 128,443.6142  ┆ Q79      │\n",
       "│ 133,532.394   ┆ Q80      │\n",
       "│ 138,946.4274  ┆ Q81      │\n",
       "│ 144,701.6016  ┆ Q82      │\n",
       "│ 150,890.2338  ┆ Q83      │\n",
       "│ 157,542.9868  ┆ Q84      │\n",
       "│ 164,764.806   ┆ Q85      │\n",
       "│ 172,606.1452  ┆ Q86      │\n",
       "│ 181,191.7116  ┆ Q87      │\n",
       "│ 190,734.4224  ┆ Q88      │\n",
       "│ 201,334.3174  ┆ Q89      │\n",
       "│ 213,258.91    ┆ Q90      │\n",
       "│ 226,664.242   ┆ Q91      │\n",
       "│ 242,263.7736  ┆ Q92      │\n",
       "│ 260,671.2574  ┆ Q93      │\n",
       "│ 282,442.8512  ┆ Q94      │\n",
       "│ 309,960.628   ┆ Q95      │\n",
       "│ 345,340.0656  ┆ Q96      │\n",
       "│ 394,711.9088  ┆ Q97      │\n",
       "│ 471,595.2612  ┆ Q98      │\n",
       "│ 625,684.0988  ┆ Q99      │\n",
       "│ inf           ┆ Q100     │\n",
       "└───────────────┴──────────┘"
      ]
     },
     "metadata": {},
     "output_type": "display_data"
    }
   ],
   "source": [
    "with pl.Config(set_tbl_rows=100):\n",
    "    summary_df = (\n",
    "        gold_vs_house_profits.select(\n",
    "            pl.col(\"gold_profit\")\n",
    "            .sub(pl.col(\"house_profit\"))\n",
    "            .qcut(100, labels=[f\"Q{i + 1}\" for i in range(100)], include_breaks=True)\n",
    "        )\n",
    "        .unnest(\"gold_profit\")\n",
    "        .unique()\n",
    "        .sort(\"breakpoint\")\n",
    "    )\n",
    "    display(summary_df)"
   ]
  },
  {
   "cell_type": "markdown",
   "id": "49692599-1622-4487-a83b-d73b75cd9a30",
   "metadata": {},
   "source": [
    "# Exercise: What does it look like in your region?\n",
    "\n",
    "This is the picture for all of the UK - what does it look like for your region?"
   ]
  }
 ],
 "metadata": {
  "kernelspec": {
   "display_name": "Python 3 (ipykernel)",
   "language": "python",
   "name": "python3"
  },
  "language_info": {
   "codemirror_mode": {
    "name": "ipython",
    "version": 3
   },
   "file_extension": ".py",
   "mimetype": "text/x-python",
   "name": "python",
   "nbconvert_exporter": "python",
   "pygments_lexer": "ipython3",
   "version": "3.12.11"
  }
 },
 "nbformat": 4,
 "nbformat_minor": 5
}
