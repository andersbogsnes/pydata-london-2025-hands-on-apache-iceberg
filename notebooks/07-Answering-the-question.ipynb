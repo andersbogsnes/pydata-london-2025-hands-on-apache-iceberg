{
 "cells": [
  {
   "cell_type": "markdown",
   "id": "2fcaffdc-97d8-4ac5-bc9b-1ae0799aed30",
   "metadata": {},
   "source": [
    "# Is your house worth it's weight in gold?\n",
    "\n",
    "Now we've calculated how much a given house rose in value over time - the question is, would you have been better off buying gold?\n",
    "\n",
    "In the `data` folder, we have the daily price of one ounce of gold in USD, called `XAUUSD` in trading terms (e`X`change rate of `AU` aka Gold to `USD`)\n",
    "\n",
    "We want to find out what would have happened if instead of buying a house, we would have bought an equivalent sum of gold. Finally we want to compare what the average profit would be if everyone had invested in gold instead of buying a house.\n",
    "\n",
    "For simplicity, use the daily Closing price.\n",
    "\n",
    "```{note}\n",
    "Since gold is priced in USD, and our houseprices are in GBP, there is also a USD/GBP daily prices in the `data/fx` folder to convert between currencies.\n",
    "```\n",
    "\n",
    "Breaking it down:\n",
    "\n",
    "1. Load daily gold prices into Iceberg - for bonus points, apply a yearly partitioning scheme\n",
    "2. Load exchange rates into Iceberg - for bonus points, apply a yearly partitioning scheme\n",
    "3. Convert daily gold prices from USD to GBP\n",
    "4. For each row in our `profits` table, calculate the equivalent amount of gold they would have been able to purchase on that date\n",
    "5. Calculate the total value of that amount of gold on the sell date\n",
    "6. Calculate the profit of our gold trade\n",
    "7. Compare to Gold profit with Housing profit"
   ]
  },
  {
   "cell_type": "code",
   "execution_count": 27,
   "id": "975d72e1-ffec-4413-9c3f-706ad5039b82",
   "metadata": {},
   "outputs": [],
   "source": [
    "import polars as pl\n",
    "from utils import catalog, engine\n",
    "from pyiceberg.schema import Schema, NestedField\n",
    "from pyiceberg.types import DecimalType, DateType, StringType\n",
    "from pyiceberg.partitioning import PartitionSpec, YearTransform, PartitionField"
   ]
  },
  {
   "cell_type": "markdown",
   "id": "aa4248b3-920d-4d37-b430-9c002a95df54",
   "metadata": {},
   "source": [
    "## 1. Load daily gold prices into Iceberg\n",
    "Start by creating the table in Iceberg. To organize things a bit better, I'm creating a new namespace `commodities` - we could imagine putting a table for oil prices or silver in here"
   ]
  },
  {
   "cell_type": "code",
   "execution_count": 2,
   "id": "897c8c05-f4a2-4040-942d-1b47b9f6abc4",
   "metadata": {},
   "outputs": [],
   "source": [
    "catalog.create_namespace_if_not_exists(\"commodities\")\n",
    "\n",
    "gold_schema = Schema(\n",
    "    NestedField(1, \"date\", DateType(), required=True, doc=\"Day of recorded price\"),\n",
    "    NestedField(\n",
    "        2,\n",
    "        \"price\",\n",
    "        DecimalType(precision=38, scale=2),\n",
    "        required=True,\n",
    "        doc=\"Price in USD of one ounce of gold\",\n",
    "    ),\n",
    "    identifier_field_ids=[1],\n",
    ")\n",
    "\n",
    "gold_prices_t = catalog.create_table_if_not_exists(\n",
    "    \"commodities.gold\",\n",
    "    schema=gold_schema,\n",
    "    partition_spec=PartitionSpec(\n",
    "        PartitionField(\n",
    "            source_id=1, field_id=1, transform=YearTransform(), name=\"date_year\"\n",
    "        )\n",
    "    ),\n",
    ")"
   ]
  },
  {
   "cell_type": "markdown",
   "id": "4096bcaf-81cb-4a70-8181-2eef647522f0",
   "metadata": {},
   "source": [
    "Next, read in the CSV, picking out the two columns we care about, remembering to convert to the correct schema, "
   ]
  },
  {
   "cell_type": "code",
   "execution_count": 3,
   "id": "f1f58d6d-679e-40f1-ae18-0d2f3d0f869d",
   "metadata": {},
   "outputs": [],
   "source": [
    "gold_prices = (\n",
    "    pl.scan_csv(\"data/gold/daily_gold_prices.csv\", separator=\";\", try_parse_dates=True)\n",
    "    .select(pl.col(\"Date\").alias(\"date\"), pl.col(\"Close\").alias(\"price\"))\n",
    "    .collect()\n",
    ")"
   ]
  },
  {
   "cell_type": "code",
   "execution_count": 4,
   "id": "4aacd1df-879a-47cd-8977-761e5d4012be",
   "metadata": {},
   "outputs": [
    {
     "data": {
      "text/html": [
       "<div><style>\n",
       ".dataframe > thead > tr,\n",
       ".dataframe > tbody > tr {\n",
       "  text-align: right;\n",
       "  white-space: pre-wrap;\n",
       "}\n",
       "</style>\n",
       "<small>shape: (5_295, 2)</small><table border=\"1\" class=\"dataframe\"><thead><tr><th>date</th><th>price</th></tr><tr><td>datetime[μs]</td><td>f64</td></tr></thead><tbody><tr><td>2004-06-11 00:00:00</td><td>384.1</td></tr><tr><td>2004-06-14 00:00:00</td><td>382.8</td></tr><tr><td>2004-06-15 00:00:00</td><td>388.6</td></tr><tr><td>2004-06-16 00:00:00</td><td>383.8</td></tr><tr><td>2004-06-17 00:00:00</td><td>387.6</td></tr><tr><td>&hellip;</td><td>&hellip;</td></tr><tr><td>2025-01-28 00:00:00</td><td>2763.17</td></tr><tr><td>2025-01-29 00:00:00</td><td>2759.68</td></tr><tr><td>2025-01-30 00:00:00</td><td>2794.06</td></tr><tr><td>2025-01-31 00:00:00</td><td>2799.23</td></tr><tr><td>2025-02-03 00:00:00</td><td>2794.41</td></tr></tbody></table></div>"
      ],
      "text/plain": [
       "shape: (5_295, 2)\n",
       "┌─────────────────────┬─────────┐\n",
       "│ date                ┆ price   │\n",
       "│ ---                 ┆ ---     │\n",
       "│ datetime[μs]        ┆ f64     │\n",
       "╞═════════════════════╪═════════╡\n",
       "│ 2004-06-11 00:00:00 ┆ 384.1   │\n",
       "│ 2004-06-14 00:00:00 ┆ 382.8   │\n",
       "│ 2004-06-15 00:00:00 ┆ 388.6   │\n",
       "│ 2004-06-16 00:00:00 ┆ 383.8   │\n",
       "│ 2004-06-17 00:00:00 ┆ 387.6   │\n",
       "│ …                   ┆ …       │\n",
       "│ 2025-01-28 00:00:00 ┆ 2763.17 │\n",
       "│ 2025-01-29 00:00:00 ┆ 2759.68 │\n",
       "│ 2025-01-30 00:00:00 ┆ 2794.06 │\n",
       "│ 2025-01-31 00:00:00 ┆ 2799.23 │\n",
       "│ 2025-02-03 00:00:00 ┆ 2794.41 │\n",
       "└─────────────────────┴─────────┘"
      ]
     },
     "execution_count": 4,
     "metadata": {},
     "output_type": "execute_result"
    }
   ],
   "source": [
    "gold_prices"
   ]
  },
  {
   "cell_type": "code",
   "execution_count": 5,
   "id": "12bcce48-92d6-42d2-a837-8b78da4d8437",
   "metadata": {},
   "outputs": [],
   "source": [
    "gold_prices_t.append(gold_prices.to_arrow().cast(gold_schema.as_arrow()))"
   ]
  },
  {
   "cell_type": "markdown",
   "id": "38819543-4c4c-4716-baf5-d652a06e026c",
   "metadata": {},
   "source": [
    "# 2. Load daily exchange rates into Iceberg\n",
    "\n",
    "Similar process - create a new namespace and load the fx rates. Since this is technically a table of currency pairs, we can make the schema a bit more future-proof"
   ]
  },
  {
   "cell_type": "code",
   "execution_count": 8,
   "id": "722910bc-b691-4c9e-9644-1f0b4b0d3362",
   "metadata": {},
   "outputs": [],
   "source": [
    "catalog.create_namespace_if_not_exists(\"fx\")\n",
    "\n",
    "fx_schema = Schema(\n",
    "    NestedField(1, \"date\", DateType(), required=True, doc=\"Day of recorded price\"),\n",
    "    NestedField(\n",
    "        2,\n",
    "        \"from\",\n",
    "        StringType(),\n",
    "        required=True,\n",
    "        doc=\"From currency code of the currency pair\",\n",
    "    ),\n",
    "    NestedField(\n",
    "        3,\n",
    "        \"to\",\n",
    "        StringType(),\n",
    "        required=True,\n",
    "        doc=\"To currency code of the currency pair\",\n",
    "    ),\n",
    "    NestedField(\n",
    "        4,\n",
    "        \"exchange_rate\",\n",
    "        DecimalType(precision=38, scale=4),\n",
    "        required=True,\n",
    "        doc=\"Exchange rate of the currency pair\",\n",
    "    ),\n",
    "    identifier_field_ids=[1, 2, 3],\n",
    ")"
   ]
  },
  {
   "cell_type": "markdown",
   "id": "16c2a0c5-6023-4c84-933d-7aef488b3c84",
   "metadata": {},
   "source": [
    "Next, reading in the CSV file and transforming slightly to conform to our schema"
   ]
  },
  {
   "cell_type": "code",
   "execution_count": 9,
   "id": "8ef2afff-e077-460f-a34e-6f64196abf51",
   "metadata": {},
   "outputs": [],
   "source": [
    "fx_table = catalog.create_table_if_not_exists(\"fx.rates\", schema=fx_schema)"
   ]
  },
  {
   "cell_type": "code",
   "execution_count": 11,
   "id": "027e46a2-ea61-47f1-8fc5-47c6bd0bc16c",
   "metadata": {},
   "outputs": [
    {
     "data": {
      "text/html": [
       "<div><style>\n",
       ".dataframe > thead > tr,\n",
       ".dataframe > tbody > tr {\n",
       "  text-align: right;\n",
       "  white-space: pre-wrap;\n",
       "}\n",
       "</style>\n",
       "<small>shape: (5_013, 4)</small><table border=\"1\" class=\"dataframe\"><thead><tr><th>date</th><th>from</th><th>to</th><th>exchange_rate</th></tr><tr><td>date</td><td>str</td><td>str</td><td>f64</td></tr></thead><tbody><tr><td>2025-05-16</td><td>&quot;USD&quot;</td><td>&quot;GBP&quot;</td><td>0.7529</td></tr><tr><td>2025-05-15</td><td>&quot;USD&quot;</td><td>&quot;GBP&quot;</td><td>0.7516</td></tr><tr><td>2025-05-14</td><td>&quot;USD&quot;</td><td>&quot;GBP&quot;</td><td>0.754</td></tr><tr><td>2025-05-13</td><td>&quot;USD&quot;</td><td>&quot;GBP&quot;</td><td>0.7516</td></tr><tr><td>2025-05-12</td><td>&quot;USD&quot;</td><td>&quot;GBP&quot;</td><td>0.759</td></tr><tr><td>&hellip;</td><td>&hellip;</td><td>&hellip;</td><td>&hellip;</td></tr><tr><td>2006-03-07</td><td>&quot;USD&quot;</td><td>&quot;GBP&quot;</td><td>0.576</td></tr><tr><td>2006-03-06</td><td>&quot;USD&quot;</td><td>&quot;GBP&quot;</td><td>0.5713</td></tr><tr><td>2006-03-03</td><td>&quot;USD&quot;</td><td>&quot;GBP&quot;</td><td>0.5696</td></tr><tr><td>2006-03-02</td><td>&quot;USD&quot;</td><td>&quot;GBP&quot;</td><td>0.5703</td></tr><tr><td>2006-03-01</td><td>&quot;USD&quot;</td><td>&quot;GBP&quot;</td><td>0.5714</td></tr></tbody></table></div>"
      ],
      "text/plain": [
       "shape: (5_013, 4)\n",
       "┌────────────┬──────┬─────┬───────────────┐\n",
       "│ date       ┆ from ┆ to  ┆ exchange_rate │\n",
       "│ ---        ┆ ---  ┆ --- ┆ ---           │\n",
       "│ date       ┆ str  ┆ str ┆ f64           │\n",
       "╞════════════╪══════╪═════╪═══════════════╡\n",
       "│ 2025-05-16 ┆ USD  ┆ GBP ┆ 0.7529        │\n",
       "│ 2025-05-15 ┆ USD  ┆ GBP ┆ 0.7516        │\n",
       "│ 2025-05-14 ┆ USD  ┆ GBP ┆ 0.754         │\n",
       "│ 2025-05-13 ┆ USD  ┆ GBP ┆ 0.7516        │\n",
       "│ 2025-05-12 ┆ USD  ┆ GBP ┆ 0.759         │\n",
       "│ …          ┆ …    ┆ …   ┆ …             │\n",
       "│ 2006-03-07 ┆ USD  ┆ GBP ┆ 0.576         │\n",
       "│ 2006-03-06 ┆ USD  ┆ GBP ┆ 0.5713        │\n",
       "│ 2006-03-03 ┆ USD  ┆ GBP ┆ 0.5696        │\n",
       "│ 2006-03-02 ┆ USD  ┆ GBP ┆ 0.5703        │\n",
       "│ 2006-03-01 ┆ USD  ┆ GBP ┆ 0.5714        │\n",
       "└────────────┴──────┴─────┴───────────────┘"
      ]
     },
     "execution_count": 11,
     "metadata": {},
     "output_type": "execute_result"
    }
   ],
   "source": [
    "fx_rates = (\n",
    "    pl.scan_csv(\"data/fx/USD_GBP_clean.csv\", try_parse_dates=True)\n",
    "    .with_columns(pl.lit(\"USD\").alias(\"from\"), pl.lit(\"GBP\").alias(\"to\"))\n",
    "    .select(\n",
    "        pl.col(\"date\"),\n",
    "        pl.col(\"from\"),\n",
    "        pl.col(\"to\"),\n",
    "        pl.col(\"close\").alias(\"exchange_rate\"),\n",
    "    )\n",
    "    .collect()\n",
    ")\n",
    "fx_rates"
   ]
  },
  {
   "cell_type": "code",
   "execution_count": 12,
   "id": "08792eaf-4277-4fe3-9f99-6c255dc5263b",
   "metadata": {},
   "outputs": [],
   "source": [
    "fx_table.append(fx_rates.to_arrow().cast(fx_schema.as_arrow()))"
   ]
  },
  {
   "cell_type": "markdown",
   "id": "98d98e64-df99-4703-b2e2-c6c1fcc532dc",
   "metadata": {},
   "source": [
    "Next comes the business logic - the actual work of figuring out how much gold we could have bought and how much that would have sold for"
   ]
  },
  {
   "cell_type": "code",
   "execution_count": 19,
   "id": "40b258b9-8af8-47f5-a4a2-5ca5de7f0c67",
   "metadata": {},
   "outputs": [],
   "source": [
    "sql = \"\"\"\n",
    "-- Convert USD gold prices into GBP denominated prices\n",
    "with gold_prices as (\n",
    "    select commodities.gold.date as gold_date, commodities.gold.price * fx.rates.exchange_rate as gold_price\n",
    "    from commodities.gold\n",
    "    join fx.rates on fx.rates.date = commodities.gold.date\n",
    "), gold_purchase as (\n",
    "-- Calculate how much gold (in ounces) the house owner could have bought at the time of purchase\n",
    "    select address_id, \n",
    "    first_price / gold_price as purchased_gold\n",
    "    from house_prices.profits\n",
    "    join gold_prices on gold_date = house_prices.profits.first_day\n",
    "), gold_sell as (\n",
    "-- Calculate how much that amount of gold is worth at the time of sale, as well as the profit\n",
    "    select house_prices.profits.address_id,\n",
    "    (purchased_gold * gold_price) - first_price as gold_profit,\n",
    "    profit as house_profit\n",
    "    from house_prices.profits\n",
    "    join gold_purchase on gold_purchase.address_id = house_prices.profits.address_id\n",
    "    join gold_prices on gold_prices.gold_date = last_day\n",
    ")\n",
    "select * from gold_sell\n",
    "\"\"\""
   ]
  },
  {
   "cell_type": "code",
   "execution_count": 20,
   "id": "b26767aa-ac11-4192-bce1-b61a4a602073",
   "metadata": {},
   "outputs": [
    {
     "data": {
      "text/html": [
       "<div><style>\n",
       ".dataframe > thead > tr,\n",
       ".dataframe > tbody > tr {\n",
       "  text-align: right;\n",
       "  white-space: pre-wrap;\n",
       "}\n",
       "</style>\n",
       "<small>shape: (942_451, 3)</small><table border=\"1\" class=\"dataframe\"><thead><tr><th>address_id</th><th>gold_profit</th><th>house_profit</th></tr><tr><td>str</td><td>decimal[38,12]</td><td>i64</td></tr></thead><tbody><tr><td>&quot;B1A3B4C54D4107EF29FBBD07BCBFAB…</td><td>29957.807806591744</td><td>5000</td></tr><tr><td>&quot;25455878C4728CC6284BD562A6181F…</td><td>110589.802268945110</td><td>46000</td></tr><tr><td>&quot;163D431B2AB454A98E15523629E1F2…</td><td>52955.744848463500</td><td>22000</td></tr><tr><td>&quot;949C688FC0E597FA9DFD678D2445F2…</td><td>70198.655947728248</td><td>115500</td></tr><tr><td>&quot;194BF7F0AEEA28D545C4A7534E7968…</td><td>167795.721945924350</td><td>75000</td></tr><tr><td>&hellip;</td><td>&hellip;</td><td>&hellip;</td></tr><tr><td>&quot;E10C90FCE21B3743A4F5077CE0C7CA…</td><td>260047.809414650717</td><td>85050</td></tr><tr><td>&quot;51F34D87CE575649A66069A2C0526A…</td><td>179841.650165830420</td><td>30005</td></tr><tr><td>&quot;A61CB99678109208C51EA48416DB6F…</td><td>542255.890232491500</td><td>575000</td></tr><tr><td>&quot;FFABDAF57B6364D6D0BD775C090C59…</td><td>177320.817845495228</td><td>50</td></tr><tr><td>&quot;E02CE186FCB44B6FDC0096ACD7839C…</td><td>118865.552725151700</td><td>43000</td></tr></tbody></table></div>"
      ],
      "text/plain": [
       "shape: (942_451, 3)\n",
       "┌─────────────────────────────────┬─────────────────────┬──────────────┐\n",
       "│ address_id                      ┆ gold_profit         ┆ house_profit │\n",
       "│ ---                             ┆ ---                 ┆ ---          │\n",
       "│ str                             ┆ decimal[38,12]      ┆ i64          │\n",
       "╞═════════════════════════════════╪═════════════════════╪══════════════╡\n",
       "│ B1A3B4C54D4107EF29FBBD07BCBFAB… ┆ 29957.807806591744  ┆ 5000         │\n",
       "│ 25455878C4728CC6284BD562A6181F… ┆ 110589.802268945110 ┆ 46000        │\n",
       "│ 163D431B2AB454A98E15523629E1F2… ┆ 52955.744848463500  ┆ 22000        │\n",
       "│ 949C688FC0E597FA9DFD678D2445F2… ┆ 70198.655947728248  ┆ 115500       │\n",
       "│ 194BF7F0AEEA28D545C4A7534E7968… ┆ 167795.721945924350 ┆ 75000        │\n",
       "│ …                               ┆ …                   ┆ …            │\n",
       "│ E10C90FCE21B3743A4F5077CE0C7CA… ┆ 260047.809414650717 ┆ 85050        │\n",
       "│ 51F34D87CE575649A66069A2C0526A… ┆ 179841.650165830420 ┆ 30005        │\n",
       "│ A61CB99678109208C51EA48416DB6F… ┆ 542255.890232491500 ┆ 575000       │\n",
       "│ FFABDAF57B6364D6D0BD775C090C59… ┆ 177320.817845495228 ┆ 50           │\n",
       "│ E02CE186FCB44B6FDC0096ACD7839C… ┆ 118865.552725151700 ┆ 43000        │\n",
       "└─────────────────────────────────┴─────────────────────┴──────────────┘"
      ]
     },
     "execution_count": 20,
     "metadata": {},
     "output_type": "execute_result"
    }
   ],
   "source": [
    "gold_vs_house_profits = pl.read_database(sql, engine)\n",
    "gold_vs_house_profits"
   ]
  },
  {
   "cell_type": "markdown",
   "id": "254dfe2d-963f-4cd6-b3b7-700828fd00c1",
   "metadata": {},
   "source": [
    "Now we have a per-address calculation, let's summarize the results"
   ]
  },
  {
   "cell_type": "code",
   "execution_count": 21,
   "id": "3c43ccc3-7cff-4e28-885d-0c6fe32020d8",
   "metadata": {},
   "outputs": [
    {
     "data": {
      "text/html": [
       "<div><style>\n",
       ".dataframe > thead > tr,\n",
       ".dataframe > tbody > tr {\n",
       "  text-align: right;\n",
       "  white-space: pre-wrap;\n",
       "}\n",
       "</style>\n",
       "<small>shape: (9, 3)</small><table border=\"1\" class=\"dataframe\"><thead><tr><th>statistic</th><th>gold_profit</th><th>house_profit</th></tr><tr><td>str</td><td>f64</td><td>f64</td></tr></thead><tbody><tr><td>&quot;count&quot;</td><td>942451.0</td><td>942451.0</td></tr><tr><td>&quot;null_count&quot;</td><td>0.0</td><td>0.0</td></tr><tr><td>&quot;mean&quot;</td><td>130688.660492</td><td>58374.959046</td></tr><tr><td>&quot;std&quot;</td><td>174714.233629</td><td>255202.899074</td></tr><tr><td>&quot;min&quot;</td><td>-917359.064101</td><td>-1.198e7</td></tr><tr><td>&quot;25%&quot;</td><td>42116.252771</td><td>17500.0</td></tr><tr><td>&quot;50%&quot;</td><td>87485.305817</td><td>40000.0</td></tr><tr><td>&quot;75%&quot;</td><td>164702.335904</td><td>75000.0</td></tr><tr><td>&quot;max&quot;</td><td>2.1051e7</td><td>2.23847e8</td></tr></tbody></table></div>"
      ],
      "text/plain": [
       "shape: (9, 3)\n",
       "┌────────────┬────────────────┬───────────────┐\n",
       "│ statistic  ┆ gold_profit    ┆ house_profit  │\n",
       "│ ---        ┆ ---            ┆ ---           │\n",
       "│ str        ┆ f64            ┆ f64           │\n",
       "╞════════════╪════════════════╪═══════════════╡\n",
       "│ count      ┆ 942451.0       ┆ 942451.0      │\n",
       "│ null_count ┆ 0.0            ┆ 0.0           │\n",
       "│ mean       ┆ 130688.660492  ┆ 58374.959046  │\n",
       "│ std        ┆ 174714.233629  ┆ 255202.899074 │\n",
       "│ min        ┆ -917359.064101 ┆ -1.198e7      │\n",
       "│ 25%        ┆ 42116.252771   ┆ 17500.0       │\n",
       "│ 50%        ┆ 87485.305817   ┆ 40000.0       │\n",
       "│ 75%        ┆ 164702.335904  ┆ 75000.0       │\n",
       "│ max        ┆ 2.1051e7       ┆ 2.23847e8     │\n",
       "└────────────┴────────────────┴───────────────┘"
      ]
     },
     "execution_count": 21,
     "metadata": {},
     "output_type": "execute_result"
    }
   ],
   "source": [
    "gold_vs_house_profits.select(pl.all().exclude(\"address_id\")).describe()"
   ]
  },
  {
   "cell_type": "markdown",
   "id": "5b82a881-2939-4b3d-b9ac-16ceb180a9ba",
   "metadata": {},
   "source": [
    "How many percent would have done better buying gold than a house?"
   ]
  },
  {
   "cell_type": "code",
   "execution_count": 33,
   "id": "84f3f313-9e09-46cc-a250-522b28f12796",
   "metadata": {},
   "outputs": [
    {
     "data": {
      "text/html": [
       "<div><style>\n",
       ".dataframe > thead > tr,\n",
       ".dataframe > tbody > tr {\n",
       "  text-align: right;\n",
       "  white-space: pre-wrap;\n",
       "}\n",
       "</style>\n",
       "<small>shape: (100, 2)</small><table border=\"1\" class=\"dataframe\"><thead><tr><th>breakpoint</th><th>category</th></tr><tr><td>f64</td><td>cat</td></tr></thead><tbody><tr><td>-604653.458806</td><td>&quot;Q1&quot;</td></tr><tr><td>-458657.896119</td><td>&quot;Q2&quot;</td></tr><tr><td>-385252.579736</td><td>&quot;Q3&quot;</td></tr><tr><td>-337413.912006</td><td>&quot;Q4&quot;</td></tr><tr><td>-303126.111512</td><td>&quot;Q5&quot;</td></tr><tr><td>-276526.137361</td><td>&quot;Q6&quot;</td></tr><tr><td>-255043.848988</td><td>&quot;Q7&quot;</td></tr><tr><td>-237040.490934</td><td>&quot;Q8&quot;</td></tr><tr><td>-221923.972903</td><td>&quot;Q9&quot;</td></tr><tr><td>-208674.680384</td><td>&quot;Q10&quot;</td></tr><tr><td>-197088.497084</td><td>&quot;Q11&quot;</td></tr><tr><td>-186803.31072</td><td>&quot;Q12&quot;</td></tr><tr><td>-177480.449559</td><td>&quot;Q13&quot;</td></tr><tr><td>-169052.049684</td><td>&quot;Q14&quot;</td></tr><tr><td>-161448.297812</td><td>&quot;Q15&quot;</td></tr><tr><td>-154324.406706</td><td>&quot;Q16&quot;</td></tr><tr><td>-147747.965139</td><td>&quot;Q17&quot;</td></tr><tr><td>-141713.44169</td><td>&quot;Q18&quot;</td></tr><tr><td>-135974.45285</td><td>&quot;Q19&quot;</td></tr><tr><td>-130696.973877</td><td>&quot;Q20&quot;</td></tr><tr><td>-125712.268241</td><td>&quot;Q21&quot;</td></tr><tr><td>-120936.139323</td><td>&quot;Q22&quot;</td></tr><tr><td>-116493.130409</td><td>&quot;Q23&quot;</td></tr><tr><td>-112294.078474</td><td>&quot;Q24&quot;</td></tr><tr><td>-108293.494493</td><td>&quot;Q25&quot;</td></tr><tr><td>-104431.59507</td><td>&quot;Q26&quot;</td></tr><tr><td>-100756.036316</td><td>&quot;Q27&quot;</td></tr><tr><td>-97302.919278</td><td>&quot;Q28&quot;</td></tr><tr><td>-94008.282333</td><td>&quot;Q29&quot;</td></tr><tr><td>-90780.10515</td><td>&quot;Q30&quot;</td></tr><tr><td>-87756.032116</td><td>&quot;Q31&quot;</td></tr><tr><td>-84795.128374</td><td>&quot;Q32&quot;</td></tr><tr><td>-81918.625806</td><td>&quot;Q33&quot;</td></tr><tr><td>-79173.884814</td><td>&quot;Q34&quot;</td></tr><tr><td>-76492.326187</td><td>&quot;Q35&quot;</td></tr><tr><td>-73915.227423</td><td>&quot;Q36&quot;</td></tr><tr><td>-71431.257382</td><td>&quot;Q37&quot;</td></tr><tr><td>-68999.742706</td><td>&quot;Q38&quot;</td></tr><tr><td>-66604.78412</td><td>&quot;Q39&quot;</td></tr><tr><td>-64278.608191</td><td>&quot;Q40&quot;</td></tr><tr><td>-62044.597406</td><td>&quot;Q41&quot;</td></tr><tr><td>-59832.836951</td><td>&quot;Q42&quot;</td></tr><tr><td>-57662.154034</td><td>&quot;Q43&quot;</td></tr><tr><td>-55555.363879</td><td>&quot;Q44&quot;</td></tr><tr><td>-53531.665926</td><td>&quot;Q45&quot;</td></tr><tr><td>-51548.400293</td><td>&quot;Q46&quot;</td></tr><tr><td>-49583.64295</td><td>&quot;Q47&quot;</td></tr><tr><td>-47624.70642</td><td>&quot;Q48&quot;</td></tr><tr><td>-45721.158499</td><td>&quot;Q49&quot;</td></tr><tr><td>-43841.606583</td><td>&quot;Q50&quot;</td></tr><tr><td>-42020.20827</td><td>&quot;Q51&quot;</td></tr><tr><td>-40233.500165</td><td>&quot;Q52&quot;</td></tr><tr><td>-38490.820858</td><td>&quot;Q53&quot;</td></tr><tr><td>-36776.552919</td><td>&quot;Q54&quot;</td></tr><tr><td>-35048.972546</td><td>&quot;Q55&quot;</td></tr><tr><td>-33332.9093</td><td>&quot;Q56&quot;</td></tr><tr><td>-31684.825766</td><td>&quot;Q57&quot;</td></tr><tr><td>-30050.621903</td><td>&quot;Q58&quot;</td></tr><tr><td>-28398.538559</td><td>&quot;Q59&quot;</td></tr><tr><td>-26782.027659</td><td>&quot;Q60&quot;</td></tr><tr><td>-25166.617287</td><td>&quot;Q61&quot;</td></tr><tr><td>-23564.201687</td><td>&quot;Q62&quot;</td></tr><tr><td>-21970.050772</td><td>&quot;Q63&quot;</td></tr><tr><td>-20349.062293</td><td>&quot;Q64&quot;</td></tr><tr><td>-18749.923196</td><td>&quot;Q65&quot;</td></tr><tr><td>-17139.164309</td><td>&quot;Q66&quot;</td></tr><tr><td>-15567.136072</td><td>&quot;Q67&quot;</td></tr><tr><td>-13920.695068</td><td>&quot;Q68&quot;</td></tr><tr><td>-12299.911663</td><td>&quot;Q69&quot;</td></tr><tr><td>-10627.634285</td><td>&quot;Q70&quot;</td></tr><tr><td>-8970.697853</td><td>&quot;Q71&quot;</td></tr><tr><td>-7277.337099</td><td>&quot;Q72&quot;</td></tr><tr><td>-5588.334683</td><td>&quot;Q73&quot;</td></tr><tr><td>-3878.037204</td><td>&quot;Q74&quot;</td></tr><tr><td>-2083.449552</td><td>&quot;Q75&quot;</td></tr><tr><td>-294.626307</td><td>&quot;Q76&quot;</td></tr><tr><td>1552.045071</td><td>&quot;Q77&quot;</td></tr><tr><td>3435.332046</td><td>&quot;Q78&quot;</td></tr><tr><td>5404.678279</td><td>&quot;Q79&quot;</td></tr><tr><td>7428.472268</td><td>&quot;Q80&quot;</td></tr><tr><td>9555.429847</td><td>&quot;Q81&quot;</td></tr><tr><td>11726.150159</td><td>&quot;Q82&quot;</td></tr><tr><td>14022.554505</td><td>&quot;Q83&quot;</td></tr><tr><td>16422.330384</td><td>&quot;Q84&quot;</td></tr><tr><td>18982.131314</td><td>&quot;Q85&quot;</td></tr><tr><td>21691.65523</td><td>&quot;Q86&quot;</td></tr><tr><td>24625.81227</td><td>&quot;Q87&quot;</td></tr><tr><td>27763.985939</td><td>&quot;Q88&quot;</td></tr><tr><td>31222.287479</td><td>&quot;Q89&quot;</td></tr><tr><td>35150.379496</td><td>&quot;Q90&quot;</td></tr><tr><td>39395.721043</td><td>&quot;Q91&quot;</td></tr><tr><td>44229.209062</td><td>&quot;Q92&quot;</td></tr><tr><td>49787.233201</td><td>&quot;Q93&quot;</td></tr><tr><td>56535.244914</td><td>&quot;Q94&quot;</td></tr><tr><td>64771.980048</td><td>&quot;Q95&quot;</td></tr><tr><td>75932.577896</td><td>&quot;Q96&quot;</td></tr><tr><td>92061.115551</td><td>&quot;Q97&quot;</td></tr><tr><td>118803.356957</td><td>&quot;Q98&quot;</td></tr><tr><td>179566.691009</td><td>&quot;Q99&quot;</td></tr><tr><td>inf</td><td>&quot;Q100&quot;</td></tr></tbody></table></div>"
      ],
      "text/plain": [
       "shape: (100, 2)\n",
       "┌────────────────┬──────────┐\n",
       "│ breakpoint     ┆ category │\n",
       "│ ---            ┆ ---      │\n",
       "│ f64            ┆ cat      │\n",
       "╞════════════════╪══════════╡\n",
       "│ -604653.458806 ┆ Q1       │\n",
       "│ -458657.896119 ┆ Q2       │\n",
       "│ -385252.579736 ┆ Q3       │\n",
       "│ -337413.912006 ┆ Q4       │\n",
       "│ -303126.111512 ┆ Q5       │\n",
       "│ -276526.137361 ┆ Q6       │\n",
       "│ -255043.848988 ┆ Q7       │\n",
       "│ -237040.490934 ┆ Q8       │\n",
       "│ -221923.972903 ┆ Q9       │\n",
       "│ -208674.680384 ┆ Q10      │\n",
       "│ -197088.497084 ┆ Q11      │\n",
       "│ -186803.31072  ┆ Q12      │\n",
       "│ -177480.449559 ┆ Q13      │\n",
       "│ -169052.049684 ┆ Q14      │\n",
       "│ -161448.297812 ┆ Q15      │\n",
       "│ -154324.406706 ┆ Q16      │\n",
       "│ -147747.965139 ┆ Q17      │\n",
       "│ -141713.44169  ┆ Q18      │\n",
       "│ -135974.45285  ┆ Q19      │\n",
       "│ -130696.973877 ┆ Q20      │\n",
       "│ -125712.268241 ┆ Q21      │\n",
       "│ -120936.139323 ┆ Q22      │\n",
       "│ -116493.130409 ┆ Q23      │\n",
       "│ -112294.078474 ┆ Q24      │\n",
       "│ -108293.494493 ┆ Q25      │\n",
       "│ -104431.59507  ┆ Q26      │\n",
       "│ -100756.036316 ┆ Q27      │\n",
       "│ -97302.919278  ┆ Q28      │\n",
       "│ -94008.282333  ┆ Q29      │\n",
       "│ -90780.10515   ┆ Q30      │\n",
       "│ -87756.032116  ┆ Q31      │\n",
       "│ -84795.128374  ┆ Q32      │\n",
       "│ -81918.625806  ┆ Q33      │\n",
       "│ -79173.884814  ┆ Q34      │\n",
       "│ -76492.326187  ┆ Q35      │\n",
       "│ -73915.227423  ┆ Q36      │\n",
       "│ -71431.257382  ┆ Q37      │\n",
       "│ -68999.742706  ┆ Q38      │\n",
       "│ -66604.78412   ┆ Q39      │\n",
       "│ -64278.608191  ┆ Q40      │\n",
       "│ -62044.597406  ┆ Q41      │\n",
       "│ -59832.836951  ┆ Q42      │\n",
       "│ -57662.154034  ┆ Q43      │\n",
       "│ -55555.363879  ┆ Q44      │\n",
       "│ -53531.665926  ┆ Q45      │\n",
       "│ -51548.400293  ┆ Q46      │\n",
       "│ -49583.64295   ┆ Q47      │\n",
       "│ -47624.70642   ┆ Q48      │\n",
       "│ -45721.158499  ┆ Q49      │\n",
       "│ -43841.606583  ┆ Q50      │\n",
       "│ -42020.20827   ┆ Q51      │\n",
       "│ -40233.500165  ┆ Q52      │\n",
       "│ -38490.820858  ┆ Q53      │\n",
       "│ -36776.552919  ┆ Q54      │\n",
       "│ -35048.972546  ┆ Q55      │\n",
       "│ -33332.9093    ┆ Q56      │\n",
       "│ -31684.825766  ┆ Q57      │\n",
       "│ -30050.621903  ┆ Q58      │\n",
       "│ -28398.538559  ┆ Q59      │\n",
       "│ -26782.027659  ┆ Q60      │\n",
       "│ -25166.617287  ┆ Q61      │\n",
       "│ -23564.201687  ┆ Q62      │\n",
       "│ -21970.050772  ┆ Q63      │\n",
       "│ -20349.062293  ┆ Q64      │\n",
       "│ -18749.923196  ┆ Q65      │\n",
       "│ -17139.164309  ┆ Q66      │\n",
       "│ -15567.136072  ┆ Q67      │\n",
       "│ -13920.695068  ┆ Q68      │\n",
       "│ -12299.911663  ┆ Q69      │\n",
       "│ -10627.634285  ┆ Q70      │\n",
       "│ -8970.697853   ┆ Q71      │\n",
       "│ -7277.337099   ┆ Q72      │\n",
       "│ -5588.334683   ┆ Q73      │\n",
       "│ -3878.037204   ┆ Q74      │\n",
       "│ -2083.449552   ┆ Q75      │\n",
       "│ -294.626307    ┆ Q76      │\n",
       "│ 1552.045071    ┆ Q77      │\n",
       "│ 3435.332046    ┆ Q78      │\n",
       "│ 5404.678279    ┆ Q79      │\n",
       "│ 7428.472268    ┆ Q80      │\n",
       "│ 9555.429847    ┆ Q81      │\n",
       "│ 11726.150159   ┆ Q82      │\n",
       "│ 14022.554505   ┆ Q83      │\n",
       "│ 16422.330384   ┆ Q84      │\n",
       "│ 18982.131314   ┆ Q85      │\n",
       "│ 21691.65523    ┆ Q86      │\n",
       "│ 24625.81227    ┆ Q87      │\n",
       "│ 27763.985939   ┆ Q88      │\n",
       "│ 31222.287479   ┆ Q89      │\n",
       "│ 35150.379496   ┆ Q90      │\n",
       "│ 39395.721043   ┆ Q91      │\n",
       "│ 44229.209062   ┆ Q92      │\n",
       "│ 49787.233201   ┆ Q93      │\n",
       "│ 56535.244914   ┆ Q94      │\n",
       "│ 64771.980048   ┆ Q95      │\n",
       "│ 75932.577896   ┆ Q96      │\n",
       "│ 92061.115551   ┆ Q97      │\n",
       "│ 118803.356957  ┆ Q98      │\n",
       "│ 179566.691009  ┆ Q99      │\n",
       "│ inf            ┆ Q100     │\n",
       "└────────────────┴──────────┘"
      ]
     },
     "execution_count": 33,
     "metadata": {},
     "output_type": "execute_result"
    }
   ],
   "source": [
    "with pl.Config(set_tbl_rows=100):\n",
    "    summary_df = (\n",
    "        gold_vs_house_profits.select(\n",
    "            pl.col(\"house_profit\")\n",
    "            .sub(pl.col(\"gold_profit\"))\n",
    "            .qcut(100, labels=[f\"Q{i + 1}\" for i in range(100)], include_breaks=True)\n",
    "        )\n",
    "        .unnest(\"house_profit\")\n",
    "        .unique()\n",
    "        .sort(\"breakpoint\")\n",
    "    )\n",
    "summary_df"
   ]
  },
  {
   "cell_type": "markdown",
   "id": "49692599-1622-4487-a83b-d73b75cd9a30",
   "metadata": {},
   "source": [
    "# Exercise: What does it look like in your region?\n",
    "\n",
    "This is the picture for all of the UK - what does it look like for your region?"
   ]
  },
  {
   "cell_type": "code",
   "execution_count": null,
   "id": "1a476ce4-31a9-4900-9a48-62dee94c84a4",
   "metadata": {},
   "outputs": [],
   "source": []
  }
 ],
 "metadata": {
  "kernelspec": {
   "display_name": "Python 3 (ipykernel)",
   "language": "python",
   "name": "python3"
  },
  "language_info": {
   "codemirror_mode": {
    "name": "ipython",
    "version": 3
   },
   "file_extension": ".py",
   "mimetype": "text/x-python",
   "name": "python",
   "nbconvert_exporter": "python",
   "pygments_lexer": "ipython3",
   "version": "3.12.10"
  }
 },
 "nbformat": 4,
 "nbformat_minor": 5
}
