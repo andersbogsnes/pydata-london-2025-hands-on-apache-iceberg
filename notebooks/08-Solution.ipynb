{
 "cells": [
  {
   "cell_type": "markdown",
   "id": "2fcaffdc-97d8-4ac5-bc9b-1ae0799aed30",
   "metadata": {},
   "source": [
    "# Exercise: Is your house worth it's weight in gold?\n",
    "\n",
    "Now we've calculated how much a given house rose in value over time - the question is, would you have been better off buying gold?\n",
    "\n",
    "In the `data` folder, you will find the daily price of one ounce of gold in USD, called `XAUUSD` in trading terms (e`X`change rate of `AU` aka Gold to `USD`)\n",
    "\n",
    "Your task is to load the data into Iceberg and then we want to find out what would have happened if instead of buying a house, we would have bought an equivalent sum of gold. Finally we want to compare what the average profit would be if everyone had invested in gold instead of buying a house.\n",
    "\n",
    "For simplicity, use the daily Closing price.\n",
    "\n",
    "```{note}\n",
    "Since gold is priced in USD, and our houseprices are in GBP, there is also a USD/GBP daily prices in the `data/fx` folder to convert between currencies.\n",
    "```\n",
    "\n",
    "Breaking it down:\n",
    "\n",
    "1. Load daily gold prices into Iceberg - for bonus points, apply a yearly partitioning scheme\n",
    "2. Load exchange rates into Iceberg - for bonus points, apply a yearly partitioning scheme\n",
    "3. Convert daily gold prices from USD to GBP\n",
    "4. For each row in our `profits` table, calculate the equivalent amount of gold they would have been able to purchase on that date\n",
    "5. Calculate the total value of that amount of gold on the sell date\n",
    "6. Calculate the profit of our gold trade\n",
    "7. Compare to Gold profit with Housing profit"
   ]
  },
  {
   "cell_type": "code",
   "execution_count": 52,
   "id": "975d72e1-ffec-4413-9c3f-706ad5039b82",
   "metadata": {},
   "outputs": [],
   "source": [
    "import polars as pl\n",
    "from utils import catalog, engine\n",
    "from pyiceberg.schema import Schema, NestedField\n",
    "from pyiceberg.types import DecimalType, DateType, StringType\n",
    "from pyiceberg.partitioning import PartitionSpec, YearTransform, PartitionField"
   ]
  },
  {
   "cell_type": "markdown",
   "id": "aa4248b3-920d-4d37-b430-9c002a95df54",
   "metadata": {},
   "source": [
    "## 1. Load daily gold prices into Iceberg\n",
    "Start by creating the table in Iceberg. To organize things a bit better, I'm creating a new namespace `commodities` - we could imagine putting a table for oil prices or silver in here"
   ]
  },
  {
   "cell_type": "code",
   "execution_count": 62,
   "id": "897c8c05-f4a2-4040-942d-1b47b9f6abc4",
   "metadata": {},
   "outputs": [],
   "source": [
    "catalog.create_namespace_if_not_exists(\"commodities\")\n",
    "\n",
    "gold_schema = Schema(\n",
    "    NestedField(1, \"date\", DateType(), required=True, doc=\"Day of recorded price\"),\n",
    "    NestedField(2, \"price\", DecimalType(precision=38, scale=2), required=True, doc=\"Price in USD of one ounce of gold\"),\n",
    "    identifier_field_ids=[1],\n",
    "    \n",
    ")\n",
    "\n",
    "gold_prices_t = catalog.create_table_if_not_exists(\"commodities.gold\", \n",
    "                                                   schema=gold_schema, \n",
    "                                                   partition_spec=PartitionSpec(PartitionField(source_id=1, field_id=1, transform=YearTransform(), name=\"date_year\")))"
   ]
  },
  {
   "cell_type": "markdown",
   "id": "4096bcaf-81cb-4a70-8181-2eef647522f0",
   "metadata": {},
   "source": [
    "Next, read in the CSV, picking out the two columns we care about, remembering to convert to the correct schema, "
   ]
  },
  {
   "cell_type": "code",
   "execution_count": 59,
   "id": "f1f58d6d-679e-40f1-ae18-0d2f3d0f869d",
   "metadata": {},
   "outputs": [],
   "source": [
    "gold_prices = pl.scan_csv(\"data/gold/daily_gold_prices.csv\", separator=\";\", try_parse_dates=True).select(pl.col(\"Date\").alias(\"date\"), pl.col(\"Close\").alias(\"price\")).collect()"
   ]
  },
  {
   "cell_type": "code",
   "execution_count": 60,
   "id": "4aacd1df-879a-47cd-8977-761e5d4012be",
   "metadata": {},
   "outputs": [
    {
     "data": {
      "text/html": [
       "<div><style>\n",
       ".dataframe > thead > tr,\n",
       ".dataframe > tbody > tr {\n",
       "  text-align: right;\n",
       "  white-space: pre-wrap;\n",
       "}\n",
       "</style>\n",
       "<small>shape: (5_295, 2)</small><table border=\"1\" class=\"dataframe\"><thead><tr><th>date</th><th>price</th></tr><tr><td>datetime[μs]</td><td>f64</td></tr></thead><tbody><tr><td>2004-06-11 00:00:00</td><td>384.1</td></tr><tr><td>2004-06-14 00:00:00</td><td>382.8</td></tr><tr><td>2004-06-15 00:00:00</td><td>388.6</td></tr><tr><td>2004-06-16 00:00:00</td><td>383.8</td></tr><tr><td>2004-06-17 00:00:00</td><td>387.6</td></tr><tr><td>&hellip;</td><td>&hellip;</td></tr><tr><td>2025-01-28 00:00:00</td><td>2763.17</td></tr><tr><td>2025-01-29 00:00:00</td><td>2759.68</td></tr><tr><td>2025-01-30 00:00:00</td><td>2794.06</td></tr><tr><td>2025-01-31 00:00:00</td><td>2799.23</td></tr><tr><td>2025-02-03 00:00:00</td><td>2794.41</td></tr></tbody></table></div>"
      ],
      "text/plain": [
       "shape: (5_295, 2)\n",
       "┌─────────────────────┬─────────┐\n",
       "│ date                ┆ price   │\n",
       "│ ---                 ┆ ---     │\n",
       "│ datetime[μs]        ┆ f64     │\n",
       "╞═════════════════════╪═════════╡\n",
       "│ 2004-06-11 00:00:00 ┆ 384.1   │\n",
       "│ 2004-06-14 00:00:00 ┆ 382.8   │\n",
       "│ 2004-06-15 00:00:00 ┆ 388.6   │\n",
       "│ 2004-06-16 00:00:00 ┆ 383.8   │\n",
       "│ 2004-06-17 00:00:00 ┆ 387.6   │\n",
       "│ …                   ┆ …       │\n",
       "│ 2025-01-28 00:00:00 ┆ 2763.17 │\n",
       "│ 2025-01-29 00:00:00 ┆ 2759.68 │\n",
       "│ 2025-01-30 00:00:00 ┆ 2794.06 │\n",
       "│ 2025-01-31 00:00:00 ┆ 2799.23 │\n",
       "│ 2025-02-03 00:00:00 ┆ 2794.41 │\n",
       "└─────────────────────┴─────────┘"
      ]
     },
     "execution_count": 60,
     "metadata": {},
     "output_type": "execute_result"
    }
   ],
   "source": [
    "gold_prices"
   ]
  },
  {
   "cell_type": "code",
   "execution_count": 63,
   "id": "12bcce48-92d6-42d2-a837-8b78da4d8437",
   "metadata": {},
   "outputs": [],
   "source": [
    "gold_prices_t.append(gold_prices.to_arrow().cast(gold_schema.as_arrow()))"
   ]
  },
  {
   "cell_type": "markdown",
   "id": "38819543-4c4c-4716-baf5-d652a06e026c",
   "metadata": {},
   "source": [
    "# 2. Load daily exchange rates into Iceberg\n",
    "\n",
    "Similar process - create a new namespace and load the fx rates"
   ]
  },
  {
   "cell_type": "code",
   "execution_count": 8,
   "id": "722910bc-b691-4c9e-9644-1f0b4b0d3362",
   "metadata": {},
   "outputs": [],
   "source": [
    "catalog.create_namespace_if_not_exists(\"fx\")\n",
    "\n",
    "fx_schema = Schema(\n",
    "    NestedField(1, \"date\", DateType(), required=True, doc=\"Day of recorded price\"),\n",
    "    NestedField(2, \"from\", StringType(), required=True, doc=\"From currency code of the currency pair\"),\n",
    "    NestedField(3, \"to\", StringType(), required=True, doc=\"To currency code of the currency pair\"),\n",
    "    NestedField(4, \"exchange_rate\", DecimalType(precision=38, scale=4), required=True, doc=\"Exchange rate of the currency pair\"),\n",
    "    identifier_field_ids=[1, 2, 3]\n",
    ")"
   ]
  },
  {
   "cell_type": "markdown",
   "id": "16c2a0c5-6023-4c84-933d-7aef488b3c84",
   "metadata": {},
   "source": [
    "Reading in the CSV file"
   ]
  },
  {
   "cell_type": "code",
   "execution_count": 44,
   "id": "8ef2afff-e077-460f-a34e-6f64196abf51",
   "metadata": {},
   "outputs": [],
   "source": [
    "fx_table = catalog.create_table_if_not_exists(\"fx.rates\", schema=fx_schema)"
   ]
  },
  {
   "cell_type": "code",
   "execution_count": 49,
   "id": "027e46a2-ea61-47f1-8fc5-47c6bd0bc16c",
   "metadata": {},
   "outputs": [],
   "source": [
    "fx_rates = (\n",
    "    pl.scan_csv(\"data/fx/USD_GBP_clean.csv\", try_parse_dates=True)\n",
    "    .with_columns(pl.lit(\"USD\").alias(\"from\"), pl.lit(\"GBP\").alias(\"to\"))\n",
    "    .select(\n",
    "        pl.col(\"date\"),\n",
    "        pl.col(\"from\"),\n",
    "        pl.col(\"to\"),\n",
    "        pl.col(\"close\").alias(\"exchange_rate\"),\n",
    "    )\n",
    "    .collect()\n",
    ")"
   ]
  },
  {
   "cell_type": "code",
   "execution_count": 50,
   "id": "08792eaf-4277-4fe3-9f99-6c255dc5263b",
   "metadata": {},
   "outputs": [],
   "source": [
    "fx_table.append(fx_rates.to_arrow().cast(fx_schema.as_arrow()))"
   ]
  },
  {
   "cell_type": "code",
   "execution_count": 86,
   "id": "40b258b9-8af8-47f5-a4a2-5ca5de7f0c67",
   "metadata": {},
   "outputs": [],
   "source": [
    "sql = \"\"\"\n",
    "with gold_prices as (\n",
    "    select commodities.gold.date as gold_date, commodities.gold.price * fx.rates.exchange_rate as gold_price\n",
    "    from commodities.gold\n",
    "    join fx.rates on fx.rates.date = commodities.gold.date\n",
    "), gold_purchase as (\n",
    "    select address_id, \n",
    "    first_price / gold_price as purchased_gold\n",
    "    from house_prices.profits\n",
    "    join gold_prices on gold_date = house_prices.profits.first_day\n",
    "), gold_sell as (\n",
    "    select house_prices.profits.address_id,\n",
    "    last_day \n",
    "    from house_prices.profits\n",
    "    join gold_purchase on gold_purchase.address_id = house_prices.profits.address_id\n",
    ")\n",
    "select * from gold_purchase\n",
    "\"\"\""
   ]
  },
  {
   "cell_type": "code",
   "execution_count": 87,
   "id": "b26767aa-ac11-4192-bce1-b61a4a602073",
   "metadata": {},
   "outputs": [],
   "source": [
    "df = pl.read_database(sql, engine)"
   ]
  },
  {
   "cell_type": "code",
   "execution_count": 88,
   "id": "84f3f313-9e09-46cc-a250-522b28f12796",
   "metadata": {},
   "outputs": [
    {
     "data": {
      "text/html": [
       "<div><style>\n",
       ".dataframe > thead > tr,\n",
       ".dataframe > tbody > tr {\n",
       "  text-align: right;\n",
       "  white-space: pre-wrap;\n",
       "}\n",
       "</style>\n",
       "<small>shape: (2_172_357, 2)</small><table border=\"1\" class=\"dataframe\"><thead><tr><th>address_id</th><th>purchased_gold</th></tr><tr><td>str</td><td>decimal[22,6]</td></tr></thead><tbody><tr><td>&quot;6E6E9B8DA9B1CCEDE22F1AB67F2138…</td><td>282.259665</td></tr><tr><td>&quot;0A008F19F5BEAD3966443466ED737E…</td><td>238.834266</td></tr><tr><td>&quot;93382E6D31CD68DF4D0D6416F24AF9…</td><td>166.096723</td></tr><tr><td>&quot;F6A93916522C8ED8696752BEDB7BDB…</td><td>173.701596</td></tr><tr><td>&quot;F642071EBA79D04CE93DBFAD79EA3C…</td><td>118.334212</td></tr><tr><td>&hellip;</td><td>&hellip;</td></tr><tr><td>&quot;7C92344ACB2328F36012ADFEDDF279…</td><td>145.891912</td></tr><tr><td>&quot;6AB2072A06719D01B394D5E6D22662…</td><td>137.030691</td></tr><tr><td>&quot;B0216E3C1905E42D38316C2024BEDC…</td><td>298.637806</td></tr><tr><td>&quot;8DFE0A964CC58CEEB0A3A8E0F22DB4…</td><td>543.422892</td></tr><tr><td>&quot;6AEFC151158D314CCDE3553DDA75EA…</td><td>132.183947</td></tr></tbody></table></div>"
      ],
      "text/plain": [
       "shape: (2_172_357, 2)\n",
       "┌─────────────────────────────────┬────────────────┐\n",
       "│ address_id                      ┆ purchased_gold │\n",
       "│ ---                             ┆ ---            │\n",
       "│ str                             ┆ decimal[22,6]  │\n",
       "╞═════════════════════════════════╪════════════════╡\n",
       "│ 6E6E9B8DA9B1CCEDE22F1AB67F2138… ┆ 282.259665     │\n",
       "│ 0A008F19F5BEAD3966443466ED737E… ┆ 238.834266     │\n",
       "│ 93382E6D31CD68DF4D0D6416F24AF9… ┆ 166.096723     │\n",
       "│ F6A93916522C8ED8696752BEDB7BDB… ┆ 173.701596     │\n",
       "│ F642071EBA79D04CE93DBFAD79EA3C… ┆ 118.334212     │\n",
       "│ …                               ┆ …              │\n",
       "│ 7C92344ACB2328F36012ADFEDDF279… ┆ 145.891912     │\n",
       "│ 6AB2072A06719D01B394D5E6D22662… ┆ 137.030691     │\n",
       "│ B0216E3C1905E42D38316C2024BEDC… ┆ 298.637806     │\n",
       "│ 8DFE0A964CC58CEEB0A3A8E0F22DB4… ┆ 543.422892     │\n",
       "│ 6AEFC151158D314CCDE3553DDA75EA… ┆ 132.183947     │\n",
       "└─────────────────────────────────┴────────────────┘"
      ]
     },
     "execution_count": 88,
     "metadata": {},
     "output_type": "execute_result"
    }
   ],
   "source": [
    "df"
   ]
  }
 ],
 "metadata": {
  "kernelspec": {
   "display_name": "Python 3 (ipykernel)",
   "language": "python",
   "name": "python3"
  },
  "language_info": {
   "codemirror_mode": {
    "name": "ipython",
    "version": 3
   },
   "file_extension": ".py",
   "mimetype": "text/x-python",
   "name": "python",
   "nbconvert_exporter": "python",
   "pygments_lexer": "ipython3",
   "version": "3.12.10"
  }
 },
 "nbformat": 4,
 "nbformat_minor": 5
}
