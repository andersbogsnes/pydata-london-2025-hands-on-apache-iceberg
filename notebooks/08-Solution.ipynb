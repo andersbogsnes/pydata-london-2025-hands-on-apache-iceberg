{
 "cells": [
  {
   "cell_type": "markdown",
   "id": "2fcaffdc-97d8-4ac5-bc9b-1ae0799aed30",
   "metadata": {},
   "source": [
    "# Exercise: Is your house worth it's weight in gold?\n",
    "\n",
    "Now we've calculated how much a given house rose in value over time - the question is, would you have been better off buying gold?\n",
    "\n",
    "In the `data` folder, you will find the daily price of one ounce of gold in USD, called `XAUUSD` in trading terms (e`X`change rate of `AU` aka Gold to `USD`)\n",
    "\n",
    "Your task is to load the data into Iceberg and then we want to find out what would have happened if instead of buying a house, we would have bought an equivalent sum of gold. Finally we want to compare what the average profit would be if everyone had invested in gold instead of buying a house.\n",
    "\n",
    "For simplicity, use the daily Closing price.\n",
    "\n",
    "```{note}\n",
    "Since gold is priced in USD, and our houseprices are in GBP, there is also a USD/GBP daily prices in the `data/fx` folder to convert between currencies.\n",
    "```\n",
    "\n",
    "Breaking it down:\n",
    "\n",
    "1. Load daily gold prices into Iceberg - for bonus points, apply a yearly partitioning scheme\n",
    "2. Load exchange rates into Iceberg - for bonus points, apply a yearly partitioning scheme\n",
    "3. Convert daily gold prices from USD to GBP\n",
    "4. For each row in our `profits` table, calculate the equivalent amount of gold they would have been able to purchase on that date\n",
    "5. Calculate the total value of that amount of gold on the sell date\n",
    "6. Calculate the profit of our gold trade\n",
    "7. Compare to Gold profit with Housing profit"
   ]
  },
  {
   "cell_type": "code",
   "execution_count": 29,
   "id": "975d72e1-ffec-4413-9c3f-706ad5039b82",
   "metadata": {},
   "outputs": [],
   "source": [
    "import polars as pl\n",
    "from utils import catalog\n",
    "from pyiceberg.schema import Schema, NestedField\n",
    "from pyiceberg.types import DecimalType, DateType\n",
    "from pyiceberg.partitioning import PartitionSpec, YearTransform, PartitionField"
   ]
  },
  {
   "cell_type": "code",
   "execution_count": null,
   "id": "b4788195-b092-47bd-b4c3-838a0555d91e",
   "metadata": {},
   "outputs": [],
   "source": []
  },
  {
   "cell_type": "markdown",
   "id": "aa4248b3-920d-4d37-b430-9c002a95df54",
   "metadata": {},
   "source": [
    "## 1. Load daily gold prices into Iceberg\n",
    "Start by creating the table in Iceberg. To organize things a bit better, I'm creating a new namespace `commodities` - we could imagine putting a table for oil prices or silver in here"
   ]
  },
  {
   "cell_type": "code",
   "execution_count": 32,
   "id": "897c8c05-f4a2-4040-942d-1b47b9f6abc4",
   "metadata": {},
   "outputs": [],
   "source": [
    "catalog.create_namespace_if_not_exists(\"commodities\")\n",
    "\n",
    "gold_schema = Schema(\n",
    "    NestedField(1, \"date\", DateType(), required=True, doc=\"Day of recorded price\"),\n",
    "    NestedField(2, \"price\", DecimalType(precision=38, scale=2), required=True, doc=\"Price in USD of one ounce of gold\"),\n",
    "    identifier_field_ids=[1],\n",
    "    \n",
    ")\n",
    "\n",
    "gold_prices_t = catalog.create_table_if_not_exists(\"commodities.gold\", \n",
    "                                                   schema=gold_schema, \n",
    "                                                   partition_spec=PartitionSpec(PartitionField(source_id=1, field_id=1, transform=YearTransform(), name=\"date_year\")))"
   ]
  },
  {
   "cell_type": "markdown",
   "id": "4096bcaf-81cb-4a70-8181-2eef647522f0",
   "metadata": {},
   "source": [
    "Next, read in the CSV, picking out the two columns we care about, remembering to convert to the correct schema, "
   ]
  },
  {
   "cell_type": "code",
   "execution_count": 27,
   "id": "f1f58d6d-679e-40f1-ae18-0d2f3d0f869d",
   "metadata": {},
   "outputs": [],
   "source": [
    "gold_prices = pl.scan_csv(\"data/gold/daily_gold_prices.csv\", separator=\";\", try_parse_dates=True).select(pl.col(\"Date\").alias(\"date\"), pl.col(\"Close\").alias(\"price\")).collect()"
   ]
  },
  {
   "cell_type": "code",
   "execution_count": 21,
   "id": "12bcce48-92d6-42d2-a837-8b78da4d8437",
   "metadata": {},
   "outputs": [],
   "source": [
    "gold_prices_t.append(gold_prices.to_arrow().cast(gold_schema.as_arrow()))"
   ]
  },
  {
   "cell_type": "code",
   "execution_count": null,
   "id": "e1b01edc-23b8-4940-8efd-85d1ebcb179e",
   "metadata": {},
   "outputs": [],
   "source": []
  }
 ],
 "metadata": {
  "kernelspec": {
   "display_name": "Python 3 (ipykernel)",
   "language": "python",
   "name": "python3"
  },
  "language_info": {
   "codemirror_mode": {
    "name": "ipython",
    "version": 3
   },
   "file_extension": ".py",
   "mimetype": "text/x-python",
   "name": "python",
   "nbconvert_exporter": "python",
   "pygments_lexer": "ipython3",
   "version": "3.12.10"
  }
 },
 "nbformat": 4,
 "nbformat_minor": 5
}
