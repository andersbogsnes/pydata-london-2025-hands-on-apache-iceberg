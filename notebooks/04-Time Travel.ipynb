{
 "cells": [
  {
   "cell_type": "markdown",
   "id": "4aadea8d-df49-495f-94fe-ce919f3753b8",
   "metadata": {},
   "source": [
    "# Time Travelling\n",
    "\n",
    "Another advantage of Iceberg's metadata structure is that it gives us Time Travel for free. Since all we're doing is storing snapshots and moving pointers, time travelling is essentially just asking to see the data at a previous pointer. "
   ]
  },
  {
   "cell_type": "code",
   "execution_count": 1,
   "id": "0e252b1d-8515-442c-940c-8de1ce7aa0e0",
   "metadata": {},
   "outputs": [],
   "source": [
    "import sqlalchemy as sa\n",
    "import polars as pl"
   ]
  },
  {
   "cell_type": "code",
   "execution_count": 2,
   "id": "8e1ff278-8fc0-4342-862d-3092c5919612",
   "metadata": {},
   "outputs": [],
   "source": [
    "engine = sa.create_engine(\"trino://trino:@trino:8080/lakekeeper\")"
   ]
  },
  {
   "cell_type": "code",
   "execution_count": 6,
   "id": "9204e65f-0872-4563-85a1-283ef6076b31",
   "metadata": {},
   "outputs": [
    {
     "data": {
      "text/html": [
       "<div><style>\n",
       ".dataframe > thead > tr,\n",
       ".dataframe > tbody > tr {\n",
       "  text-align: right;\n",
       "  white-space: pre-wrap;\n",
       "}\n",
       "</style>\n",
       "<small>shape: (9, 6)</small><table border=\"1\" class=\"dataframe\"><thead><tr><th>committed_at</th><th>snapshot_id</th><th>parent_id</th><th>operation</th><th>manifest_list</th><th>summary</th></tr><tr><td>datetime[μs, UTC]</td><td>i64</td><td>i64</td><td>str</td><td>str</td><td>struct[21]</td></tr></thead><tbody><tr><td>2025-04-30 20:26:57.891 UTC</td><td>1092067571415845178</td><td>7243334300264100548</td><td>&quot;overwrite&quot;</td><td>&quot;s3://warehouse/house_prices/ra…</td><td>{null,&quot;841772&quot;,&quot;0&quot;,null,&quot;0&quot;,&quot;1&quot;,null,null,null,null,null,null,null,null,&quot;19093353&quot;,null,null,&quot;0&quot;,&quot;15838359&quot;,&quot;1&quot;,&quot;704344&quot;}</td></tr><tr><td>2025-04-30 19:43:41.559 UTC</td><td>3870307059191542653</td><td>null</td><td>&quot;append&quot;</td><td>&quot;s3://warehouse/house_prices/ra…</td><td>{&quot;15838359&quot;,&quot;704344&quot;,&quot;0&quot;,null,&quot;0&quot;,&quot;1&quot;,&quot;1&quot;,&quot;704344&quot;,null,null,null,null,null,null,&quot;15838359&quot;,null,null,&quot;0&quot;,null,null,null}</td></tr><tr><td>2025-04-30 20:18:01.857 UTC</td><td>7243334300264100548</td><td>4996382859333512033</td><td>&quot;append&quot;</td><td>&quot;s3://warehouse/house_prices/ra…</td><td>{null,&quot;1546116&quot;,&quot;0&quot;,null,&quot;0&quot;,&quot;2&quot;,null,null,null,null,null,null,null,null,&quot;34931712&quot;,null,null,&quot;0&quot;,null,null,null}</td></tr><tr><td>2025-04-30 20:09:37.002 UTC</td><td>122416445074455388</td><td>6160762292259832203</td><td>&quot;append&quot;</td><td>&quot;s3://warehouse/house_prices/ra…</td><td>{null,&quot;1546116&quot;,&quot;0&quot;,null,&quot;0&quot;,&quot;2&quot;,null,null,null,null,null,null,null,null,&quot;34931712&quot;,null,null,&quot;0&quot;,null,null,null}</td></tr><tr><td>2025-05-01 19:17:21.296 UTC</td><td>6910125867099050337</td><td>5618685459824118337</td><td>&quot;overwrite&quot;</td><td>&quot;s3://warehouse/house_prices/ra…</td><td>{&quot;19156388&quot;,&quot;2387888&quot;,&quot;841772&quot;,&quot;1&quot;,&quot;1&quot;,&quot;3&quot;,&quot;1&quot;,&quot;841772&quot;,&quot;Apache Iceberg 1.8.1 (commit 9ce0fcf0af7becf25ad9fc996c3bad2afdcfd33d)&quot;,&quot;trino&quot;,&quot;20250501_191715_00006_hpuqw&quot;,&quot;841772&quot;,&quot;475&quot;,&quot;trino&quot;,&quot;54192605&quot;,&quot;1&quot;,&quot;1&quot;,&quot;0&quot;,null,null,null}</td></tr><tr><td>2025-04-30 20:26:58.422 UTC</td><td>5618685459824118337</td><td>1092067571415845178</td><td>&quot;append&quot;</td><td>&quot;s3://warehouse/house_prices/ra…</td><td>{&quot;15942864&quot;,&quot;1546116&quot;,&quot;0&quot;,null,&quot;0&quot;,&quot;2&quot;,&quot;1&quot;,&quot;704344&quot;,null,null,null,null,null,null,&quot;35036217&quot;,null,null,&quot;0&quot;,null,null,null}</td></tr><tr><td>2025-04-30 20:09:42.346 UTC</td><td>4389943633381866277</td><td>122416445074455388</td><td>&quot;append&quot;</td><td>&quot;s3://warehouse/house_prices/ra…</td><td>{null,&quot;1546116&quot;,&quot;0&quot;,null,&quot;0&quot;,&quot;2&quot;,null,null,null,null,null,null,null,null,&quot;34931712&quot;,null,null,&quot;0&quot;,null,null,null}</td></tr><tr><td>2025-04-30 20:17:56.555 UTC</td><td>4996382859333512033</td><td>4389943633381866277</td><td>&quot;append&quot;</td><td>&quot;s3://warehouse/house_prices/ra…</td><td>{null,&quot;1546116&quot;,&quot;0&quot;,null,&quot;0&quot;,&quot;2&quot;,null,null,null,null,null,null,null,null,&quot;34931712&quot;,null,null,&quot;0&quot;,null,null,null}</td></tr><tr><td>2025-04-30 19:46:09.052 UTC</td><td>6160762292259832203</td><td>3870307059191542653</td><td>&quot;append&quot;</td><td>&quot;s3://warehouse/house_prices/ra…</td><td>{&quot;19093353&quot;,&quot;1546116&quot;,&quot;0&quot;,null,&quot;0&quot;,&quot;2&quot;,&quot;1&quot;,&quot;841772&quot;,null,null,null,null,null,null,&quot;34931712&quot;,null,null,&quot;0&quot;,null,null,null}</td></tr></tbody></table></div>"
      ],
      "text/plain": [
       "shape: (9, 6)\n",
       "┌─────────────────┬─────────────────┬────────────────┬───────────┬────────────────┬────────────────┐\n",
       "│ committed_at    ┆ snapshot_id     ┆ parent_id      ┆ operation ┆ manifest_list  ┆ summary        │\n",
       "│ ---             ┆ ---             ┆ ---            ┆ ---       ┆ ---            ┆ ---            │\n",
       "│ datetime[μs,    ┆ i64             ┆ i64            ┆ str       ┆ str            ┆ struct[21]     │\n",
       "│ UTC]            ┆                 ┆                ┆           ┆                ┆                │\n",
       "╞═════════════════╪═════════════════╪════════════════╪═══════════╪════════════════╪════════════════╡\n",
       "│ 2025-04-30      ┆ 109206757141584 ┆ 72433343002641 ┆ overwrite ┆ s3://warehouse ┆ {null,\"841772\" │\n",
       "│ 20:26:57.891    ┆ 5178            ┆ 00548          ┆           ┆ /house_prices/ ┆ ,\"0\",null,\"0\", │\n",
       "│ UTC             ┆                 ┆                ┆           ┆ ra…            ┆ \"1…            │\n",
       "│ 2025-04-30      ┆ 387030705919154 ┆ null           ┆ append    ┆ s3://warehouse ┆ {\"15838359\",\"7 │\n",
       "│ 19:43:41.559    ┆ 2653            ┆                ┆           ┆ /house_prices/ ┆ 04344\",\"0\",nul │\n",
       "│ UTC             ┆                 ┆                ┆           ┆ ra…            ┆ l,…            │\n",
       "│ 2025-04-30      ┆ 724333430026410 ┆ 49963828593335 ┆ append    ┆ s3://warehouse ┆ {null,\"1546116 │\n",
       "│ 20:18:01.857    ┆ 0548            ┆ 12033          ┆           ┆ /house_prices/ ┆ \",\"0\",null,\"0\" │\n",
       "│ UTC             ┆                 ┆                ┆           ┆ ra…            ┆ ,\"…            │\n",
       "│ 2025-04-30      ┆ 122416445074455 ┆ 61607622922598 ┆ append    ┆ s3://warehouse ┆ {null,\"1546116 │\n",
       "│ 20:09:37.002    ┆ 388             ┆ 32203          ┆           ┆ /house_prices/ ┆ \",\"0\",null,\"0\" │\n",
       "│ UTC             ┆                 ┆                ┆           ┆ ra…            ┆ ,\"…            │\n",
       "│ 2025-05-01      ┆ 691012586709905 ┆ 56186854598241 ┆ overwrite ┆ s3://warehouse ┆ {\"19156388\",\"2 │\n",
       "│ 19:17:21.296    ┆ 0337            ┆ 18337          ┆           ┆ /house_prices/ ┆ 387888\",\"84177 │\n",
       "│ UTC             ┆                 ┆                ┆           ┆ ra…            ┆ 2\"…            │\n",
       "│ 2025-04-30      ┆ 561868545982411 ┆ 10920675714158 ┆ append    ┆ s3://warehouse ┆ {\"15942864\",\"1 │\n",
       "│ 20:26:58.422    ┆ 8337            ┆ 45178          ┆           ┆ /house_prices/ ┆ 546116\",\"0\",nu │\n",
       "│ UTC             ┆                 ┆                ┆           ┆ ra…            ┆ ll…            │\n",
       "│ 2025-04-30      ┆ 438994363338186 ┆ 12241644507445 ┆ append    ┆ s3://warehouse ┆ {null,\"1546116 │\n",
       "│ 20:09:42.346    ┆ 6277            ┆ 5388           ┆           ┆ /house_prices/ ┆ \",\"0\",null,\"0\" │\n",
       "│ UTC             ┆                 ┆                ┆           ┆ ra…            ┆ ,\"…            │\n",
       "│ 2025-04-30      ┆ 499638285933351 ┆ 43899436333818 ┆ append    ┆ s3://warehouse ┆ {null,\"1546116 │\n",
       "│ 20:17:56.555    ┆ 2033            ┆ 66277          ┆           ┆ /house_prices/ ┆ \",\"0\",null,\"0\" │\n",
       "│ UTC             ┆                 ┆                ┆           ┆ ra…            ┆ ,\"…            │\n",
       "│ 2025-04-30      ┆ 616076229225983 ┆ 38703070591915 ┆ append    ┆ s3://warehouse ┆ {\"19093353\",\"1 │\n",
       "│ 19:46:09.052    ┆ 2203            ┆ 42653          ┆           ┆ /house_prices/ ┆ 546116\",\"0\",nu │\n",
       "│ UTC             ┆                 ┆                ┆           ┆ ra…            ┆ ll…            │\n",
       "└─────────────────┴─────────────────┴────────────────┴───────────┴────────────────┴────────────────┘"
      ]
     },
     "execution_count": 6,
     "metadata": {},
     "output_type": "execute_result"
    }
   ],
   "source": [
    "with engine.connect() as conn:\n",
    "    df = pl.read_database('SELECT * FROM house_prices.\"raw$snapshots\"', conn)\n",
    "df    "
   ]
  }
 ],
 "metadata": {
  "kernelspec": {
   "display_name": "Python 3 (ipykernel)",
   "language": "python",
   "name": "python3"
  },
  "language_info": {
   "codemirror_mode": {
    "name": "ipython",
    "version": 3
   },
   "file_extension": ".py",
   "mimetype": "text/x-python",
   "name": "python",
   "nbconvert_exporter": "python",
   "pygments_lexer": "ipython3",
   "version": "3.12.10"
  }
 },
 "nbformat": 4,
 "nbformat_minor": 5
}
