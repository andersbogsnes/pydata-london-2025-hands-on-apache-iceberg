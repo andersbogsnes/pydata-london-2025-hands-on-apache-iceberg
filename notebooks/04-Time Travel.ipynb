{
 "cells": [
  {
   "cell_type": "markdown",
   "id": "4aadea8d-df49-495f-94fe-ce919f3753b8",
   "metadata": {},
   "source": [
    "# Time Travelling\n",
    "\n",
    "Another advantage of Iceberg's metadata structure is that it gives us Time Travel for free. Since all we're doing is storing snapshots and moving pointers, time travelling is essentially just asking to see the data at a previous pointer."
   ]
  },
  {
   "cell_type": "code",
   "execution_count": 31,
   "id": "0e252b1d-8515-442c-940c-8de1ce7aa0e0",
   "metadata": {},
   "outputs": [
    {
     "data": {
      "text/plain": [
       "polars.config.Config"
      ]
     },
     "execution_count": 31,
     "metadata": {},
     "output_type": "execute_result"
    }
   ],
   "source": [
    "import sqlalchemy as sa\n",
    "import polars as pl\n",
    "from pyiceberg.catalog.rest import RestCatalog\n",
    "import pyarrow.csv as pc"
   ]
  },
  {
   "cell_type": "code",
   "execution_count": 6,
   "id": "8e1ff278-8fc0-4342-862d-3092c5919612",
   "metadata": {},
   "outputs": [],
   "source": [
    "engine = sa.create_engine(\"trino://trino:@trino:8080/lakekeeper\")\n",
    "catalog = RestCatalog(\"lakekeeper\", uri=\"http://lakekeeper:8181/catalog\", warehouse=\"lakehouse\")\n",
    "house_prices_t = catalog.load_table(\"housing.staging_prices\")"
   ]
  },
  {
   "cell_type": "markdown",
   "id": "3a36a225-b2f7-42bf-9095-f85157410b14",
   "metadata": {},
   "source": [
    "## Python API vs SQL\n",
    "Pyiceberg offers us some APIs that let us inspect the table metadata - it's all Pyarrow under the hood in Pyiceberg, so we can use polars to pretty-print the dataframes"
   ]
  },
  {
   "cell_type": "code",
   "execution_count": 33,
   "id": "5a97c1ed-f26b-4f62-8846-48494bc06201",
   "metadata": {},
   "outputs": [
    {
     "data": {
      "text/html": [
       "<div><style>\n",
       ".dataframe > thead > tr,\n",
       ".dataframe > tbody > tr {\n",
       "  text-align: right;\n",
       "  white-space: pre-wrap;\n",
       "}\n",
       "</style>\n",
       "<small>shape: (4, 4)</small><table border=\"1\" class=\"dataframe\"><thead><tr><th>made_current_at</th><th>snapshot_id</th><th>parent_id</th><th>is_current_ancestor</th></tr><tr><td>datetime[ms]</td><td>i64</td><td>i64</td><td>bool</td></tr></thead><tbody><tr><td>2025-05-19 20:22:34.277</td><td>8580268702316458514</td><td>null</td><td>true</td></tr><tr><td>2025-05-19 20:43:24.155</td><td>5967660870361116733</td><td>8580268702316458514</td><td>true</td></tr><tr><td>2025-05-19 21:10:37.844</td><td>3231086783972264595</td><td>5967660870361116733</td><td>true</td></tr><tr><td>2025-05-19 21:11:53.418</td><td>1606895426754472649</td><td>3231086783972264595</td><td>true</td></tr></tbody></table></div>"
      ],
      "text/plain": [
       "shape: (4, 4)\n",
       "┌─────────────────────────┬─────────────────────┬─────────────────────┬─────────────────────┐\n",
       "│ made_current_at         ┆ snapshot_id         ┆ parent_id           ┆ is_current_ancestor │\n",
       "│ ---                     ┆ ---                 ┆ ---                 ┆ ---                 │\n",
       "│ datetime[ms]            ┆ i64                 ┆ i64                 ┆ bool                │\n",
       "╞═════════════════════════╪═════════════════════╪═════════════════════╪═════════════════════╡\n",
       "│ 2025-05-19 20:22:34.277 ┆ 8580268702316458514 ┆ null                ┆ true                │\n",
       "│ 2025-05-19 20:43:24.155 ┆ 5967660870361116733 ┆ 8580268702316458514 ┆ true                │\n",
       "│ 2025-05-19 21:10:37.844 ┆ 3231086783972264595 ┆ 5967660870361116733 ┆ true                │\n",
       "│ 2025-05-19 21:11:53.418 ┆ 1606895426754472649 ┆ 3231086783972264595 ┆ true                │\n",
       "└─────────────────────────┴─────────────────────┴─────────────────────┴─────────────────────┘"
      ]
     },
     "execution_count": 33,
     "metadata": {},
     "output_type": "execute_result"
    }
   ],
   "source": [
    "pl.from_arrow(house_prices_t.inspect.history())"
   ]
  },
  {
   "cell_type": "markdown",
   "id": "f06b1b39-03bc-45a8-8d5f-5eac42bb276f",
   "metadata": {},
   "source": [
    "The SQL equivalent will depend on the query engine - Trino uses `$` as the metadata table identifier"
   ]
  },
  {
   "cell_type": "code",
   "execution_count": 34,
   "id": "9204e65f-0872-4563-85a1-283ef6076b31",
   "metadata": {},
   "outputs": [
    {
     "data": {
      "text/html": [
       "<div><style>\n",
       ".dataframe > thead > tr,\n",
       ".dataframe > tbody > tr {\n",
       "  text-align: right;\n",
       "  white-space: pre-wrap;\n",
       "}\n",
       "</style>\n",
       "<small>shape: (4, 4)</small><table border=\"1\" class=\"dataframe\"><thead><tr><th>made_current_at</th><th>snapshot_id</th><th>parent_id</th><th>is_current_ancestor</th></tr><tr><td>datetime[μs, UTC]</td><td>i64</td><td>i64</td><td>bool</td></tr></thead><tbody><tr><td>2025-05-19 20:22:34.277 UTC</td><td>8580268702316458514</td><td>null</td><td>true</td></tr><tr><td>2025-05-19 20:43:24.155 UTC</td><td>5967660870361116733</td><td>8580268702316458514</td><td>true</td></tr><tr><td>2025-05-19 21:10:37.844 UTC</td><td>3231086783972264595</td><td>5967660870361116733</td><td>true</td></tr><tr><td>2025-05-19 21:11:53.418 UTC</td><td>1606895426754472649</td><td>3231086783972264595</td><td>true</td></tr></tbody></table></div>"
      ],
      "text/plain": [
       "shape: (4, 4)\n",
       "┌─────────────────────────────┬─────────────────────┬─────────────────────┬─────────────────────┐\n",
       "│ made_current_at             ┆ snapshot_id         ┆ parent_id           ┆ is_current_ancestor │\n",
       "│ ---                         ┆ ---                 ┆ ---                 ┆ ---                 │\n",
       "│ datetime[μs, UTC]           ┆ i64                 ┆ i64                 ┆ bool                │\n",
       "╞═════════════════════════════╪═════════════════════╪═════════════════════╪═════════════════════╡\n",
       "│ 2025-05-19 20:22:34.277 UTC ┆ 8580268702316458514 ┆ null                ┆ true                │\n",
       "│ 2025-05-19 20:43:24.155 UTC ┆ 5967660870361116733 ┆ 8580268702316458514 ┆ true                │\n",
       "│ 2025-05-19 21:10:37.844 UTC ┆ 3231086783972264595 ┆ 5967660870361116733 ┆ true                │\n",
       "│ 2025-05-19 21:11:53.418 UTC ┆ 1606895426754472649 ┆ 3231086783972264595 ┆ true                │\n",
       "└─────────────────────────────┴─────────────────────┴─────────────────────┴─────────────────────┘"
      ]
     },
     "execution_count": 34,
     "metadata": {},
     "output_type": "execute_result"
    }
   ],
   "source": [
    "pl.read_database('SELECT * FROM housing.\"staging_prices$history\" order by made_current_at', engine)"
   ]
  },
  {
   "cell_type": "markdown",
   "id": "2a64f77f-663e-4f4c-9aa5-dc52b6cfe455",
   "metadata": {},
   "source": [
    "Now that we have a list of snapshots, we can demonstrate timetravelling. We loaded 2024, 2023 and 2022 data into our table, so we should see different counts in each snapshot"
   ]
  },
  {
   "cell_type": "code",
   "execution_count": 16,
   "id": "62432454-395c-4e2b-a963-351160e32950",
   "metadata": {},
   "outputs": [
    {
     "data": {
      "text/html": [
       "<div><style>\n",
       ".dataframe > thead > tr,\n",
       ".dataframe > tbody > tr {\n",
       "  text-align: right;\n",
       "  white-space: pre-wrap;\n",
       "}\n",
       "</style>\n",
       "<small>shape: (1, 1)</small><table border=\"1\" class=\"dataframe\"><thead><tr><th>num_rows</th></tr><tr><td>i64</td></tr></thead><tbody><tr><td>2,387,888</td></tr></tbody></table></div>"
      ],
      "text/plain": [
       "shape: (1, 1)\n",
       "┌───────────┐\n",
       "│ num_rows  │\n",
       "│ ---       │\n",
       "│ i64       │\n",
       "╞═══════════╡\n",
       "│ 2,387,888 │\n",
       "└───────────┘"
      ]
     },
     "execution_count": 16,
     "metadata": {},
     "output_type": "execute_result"
    }
   ],
   "source": [
    "pl.Config.set_thousands_separator(',')\n",
    "pl.read_database('SELECT count(transaction_id) as num_rows FROM housing.staging_prices', engine)"
   ]
  },
  {
   "cell_type": "markdown",
   "id": "4cb75aa1-91a5-4256-8246-a671f1f3a8b5",
   "metadata": {},
   "source": [
    "The time travel syntax also varies by query engine, but Trino uses the `FOR VERSION AS OF` syntax"
   ]
  },
  {
   "cell_type": "code",
   "execution_count": 18,
   "id": "c00f564f-a46d-4c73-8200-df30d4412016",
   "metadata": {},
   "outputs": [
    {
     "data": {
      "text/html": [
       "<div><style>\n",
       ".dataframe > thead > tr,\n",
       ".dataframe > tbody > tr {\n",
       "  text-align: right;\n",
       "  white-space: pre-wrap;\n",
       "}\n",
       "</style>\n",
       "<small>shape: (1, 1)</small><table border=\"1\" class=\"dataframe\"><thead><tr><th>num_rows</th></tr><tr><td>i64</td></tr></thead><tbody><tr><td>1,546,116</td></tr></tbody></table></div>"
      ],
      "text/plain": [
       "shape: (1, 1)\n",
       "┌───────────┐\n",
       "│ num_rows  │\n",
       "│ ---       │\n",
       "│ i64       │\n",
       "╞═══════════╡\n",
       "│ 1,546,116 │\n",
       "└───────────┘"
      ]
     },
     "execution_count": 18,
     "metadata": {},
     "output_type": "execute_result"
    }
   ],
   "source": [
    "pl.read_database('SELECT count(transaction_id) as num_rows from housing.staging_prices for version as of 5967660870361116733', engine)"
   ]
  },
  {
   "cell_type": "markdown",
   "id": "b181bb6d-f154-45c3-bd38-a7cb322aeea9",
   "metadata": {},
   "source": [
    "Pyiceberg exposes a similar API, where we can specify the `snapshot_id` we want to read"
   ]
  },
  {
   "cell_type": "code",
   "execution_count": 19,
   "id": "9fde1b49-8ec0-49a5-8279-a7035c9593d3",
   "metadata": {},
   "outputs": [
    {
     "name": "stderr",
     "output_type": "stream",
     "text": [
      "/usr/local/lib/python3.12/site-packages/pyiceberg/avro/decoder.py:185: UserWarning: Falling back to pure Python Avro decoder, missing Cython implementation\n",
      "  warnings.warn(\"Falling back to pure Python Avro decoder, missing Cython implementation\")\n"
     ]
    },
    {
     "data": {
      "text/plain": [
       "1546116"
      ]
     },
     "execution_count": 19,
     "metadata": {},
     "output_type": "execute_result"
    },
    {
     "name": "stderr",
     "output_type": "stream",
     "text": [
      "/usr/local/lib/python3.12/site-packages/pyiceberg/avro/decoder.py:185: UserWarning: Falling back to pure Python Avro decoder, missing Cython implementation\n",
      "  warnings.warn(\"Falling back to pure Python Avro decoder, missing Cython implementation\")\n"
     ]
    }
   ],
   "source": [
    "house_prices_t.scan(snapshot_id=5967660870361116733, selected_fields=['transaction_id']).to_arrow().num_rows"
   ]
  },
  {
   "cell_type": "markdown",
   "id": "c4ced814-e1c4-4116-ad23-1e6d3cd306b7",
   "metadata": {},
   "source": [
    "Since most libriaries build on Pyiceberg, you'll see similar APIs there"
   ]
  },
  {
   "cell_type": "code",
   "execution_count": 22,
   "id": "89b67865-5d1d-4c94-9972-d764dda6376e",
   "metadata": {},
   "outputs": [
    {
     "data": {
      "text/html": [
       "<div><style>\n",
       ".dataframe > thead > tr,\n",
       ".dataframe > tbody > tr {\n",
       "  text-align: right;\n",
       "  white-space: pre-wrap;\n",
       "}\n",
       "</style>\n",
       "<small>shape: (1, 1)</small><table border=\"1\" class=\"dataframe\"><thead><tr><th>transaction_id</th></tr><tr><td>u32</td></tr></thead><tbody><tr><td>1,546,116</td></tr></tbody></table></div>"
      ],
      "text/plain": [
       "shape: (1, 1)\n",
       "┌────────────────┐\n",
       "│ transaction_id │\n",
       "│ ---            │\n",
       "│ u32            │\n",
       "╞════════════════╡\n",
       "│ 1,546,116      │\n",
       "└────────────────┘"
      ]
     },
     "execution_count": 22,
     "metadata": {},
     "output_type": "execute_result"
    }
   ],
   "source": [
    "pl.scan_iceberg(house_prices_t, snapshot_id=5967660870361116733).select(pl.count(\"transaction_id\")).collect()"
   ]
  },
  {
   "cell_type": "markdown",
   "id": "94dcc04c-8a3d-45f9-b753-42b776272ae9",
   "metadata": {},
   "source": [
    "SQL offers us some niceties here in that we can timetravel via timestamps as well, and Trino will do the work of looking up the snapshot closest in time"
   ]
  },
  {
   "cell_type": "code",
   "execution_count": 26,
   "id": "b22e59c6-4540-4942-942a-396198fb381f",
   "metadata": {
    "scrolled": true
   },
   "outputs": [
    {
     "data": {
      "text/html": [
       "<div><style>\n",
       ".dataframe > thead > tr,\n",
       ".dataframe > tbody > tr {\n",
       "  text-align: right;\n",
       "  white-space: pre-wrap;\n",
       "}\n",
       "</style>\n",
       "<small>shape: (1, 1)</small><table border=\"1\" class=\"dataframe\"><thead><tr><th>num_rows</th></tr><tr><td>i64</td></tr></thead><tbody><tr><td>1,546,116</td></tr></tbody></table></div>"
      ],
      "text/plain": [
       "shape: (1, 1)\n",
       "┌───────────┐\n",
       "│ num_rows  │\n",
       "│ ---       │\n",
       "│ i64       │\n",
       "╞═══════════╡\n",
       "│ 1,546,116 │\n",
       "└───────────┘"
      ]
     },
     "execution_count": 26,
     "metadata": {},
     "output_type": "execute_result"
    }
   ],
   "source": [
    "pl.read_database(\"SELECT count(transaction_id) as num_rows from housing.staging_prices for timestamp as of timestamp '2025-05-19 21:00:00'\", engine)"
   ]
  },
  {
   "cell_type": "markdown",
   "id": "653b6585-4525-4c85-a877-fd1e4282cc39",
   "metadata": {},
   "source": [
    "Remembering these snapshot ids or pinpointing the exact time we're interested in is tricky for our human brains, so Iceberg supports tagging so that we can provide human-readable references to a given snapshot."
   ]
  },
  {
   "cell_type": "code",
   "execution_count": 27,
   "id": "f6704f17-c30e-445b-8155-c48fd80f9bcb",
   "metadata": {},
   "outputs": [],
   "source": [
    "house_prices_t.manage_snapshots().create_tag(5967660870361116733, \"initial commit\").commit()"
   ]
  },
  {
   "cell_type": "code",
   "execution_count": 35,
   "id": "f6c2bbc6-54d3-4bb8-830d-d12c4bd336f0",
   "metadata": {},
   "outputs": [
    {
     "data": {
      "text/html": [
       "<div><style>\n",
       ".dataframe > thead > tr,\n",
       ".dataframe > tbody > tr {\n",
       "  text-align: right;\n",
       "  white-space: pre-wrap;\n",
       "}\n",
       "</style>\n",
       "<small>shape: (2, 6)</small><table border=\"1\" class=\"dataframe\"><thead><tr><th>name</th><th>type</th><th>snapshot_id</th><th>max_reference_age_in_ms</th><th>min_snapshots_to_keep</th><th>max_snapshot_age_in_ms</th></tr><tr><td>str</td><td>cat</td><td>i64</td><td>i64</td><td>i32</td><td>i64</td></tr></thead><tbody><tr><td>&quot;main&quot;</td><td>&quot;BRANCH&quot;</td><td>1606895426754472649</td><td>null</td><td>null</td><td>null</td></tr><tr><td>&quot;initial commit&quot;</td><td>&quot;TAG&quot;</td><td>5967660870361116733</td><td>null</td><td>null</td><td>null</td></tr></tbody></table></div>"
      ],
      "text/plain": [
       "shape: (2, 6)\n",
       "┌────────────────┬────────┬──────────────────┬─────────────────┬─────────────────┬─────────────────┐\n",
       "│ name           ┆ type   ┆ snapshot_id      ┆ max_reference_a ┆ min_snapshots_t ┆ max_snapshot_ag │\n",
       "│ ---            ┆ ---    ┆ ---              ┆ ge_in_ms        ┆ o_keep          ┆ e_in_ms         │\n",
       "│ str            ┆ cat    ┆ i64              ┆ ---             ┆ ---             ┆ ---             │\n",
       "│                ┆        ┆                  ┆ i64             ┆ i32             ┆ i64             │\n",
       "╞════════════════╪════════╪══════════════════╪═════════════════╪═════════════════╪═════════════════╡\n",
       "│ main           ┆ BRANCH ┆ 1606895426754472 ┆ null            ┆ null            ┆ null            │\n",
       "│                ┆        ┆ 649              ┆                 ┆                 ┆                 │\n",
       "│ initial commit ┆ TAG    ┆ 5967660870361116 ┆ null            ┆ null            ┆ null            │\n",
       "│                ┆        ┆ 733              ┆                 ┆                 ┆                 │\n",
       "└────────────────┴────────┴──────────────────┴─────────────────┴─────────────────┴─────────────────┘"
      ]
     },
     "execution_count": 35,
     "metadata": {},
     "output_type": "execute_result"
    }
   ],
   "source": [
    "pl.Config.set_thousands_separator(None)\n",
    "pl.from_arrow(house_prices_t.inspect.refs())"
   ]
  },
  {
   "cell_type": "markdown",
   "id": "3b05dee6-84ee-41db-a446-46795b705a23",
   "metadata": {},
   "source": [
    "Now that we have this tag, we can reference it directly in our SQL statement"
   ]
  },
  {
   "cell_type": "code",
   "execution_count": 37,
   "id": "7e93ecab-c7c6-4965-ac44-ebaff734d2a0",
   "metadata": {},
   "outputs": [
    {
     "data": {
      "text/html": [
       "<div><style>\n",
       ".dataframe > thead > tr,\n",
       ".dataframe > tbody > tr {\n",
       "  text-align: right;\n",
       "  white-space: pre-wrap;\n",
       "}\n",
       "</style>\n",
       "<small>shape: (1, 1)</small><table border=\"1\" class=\"dataframe\"><thead><tr><th>num_rows</th></tr><tr><td>i64</td></tr></thead><tbody><tr><td>1546116</td></tr></tbody></table></div>"
      ],
      "text/plain": [
       "shape: (1, 1)\n",
       "┌──────────┐\n",
       "│ num_rows │\n",
       "│ ---      │\n",
       "│ i64      │\n",
       "╞══════════╡\n",
       "│ 1546116  │\n",
       "└──────────┘"
      ]
     },
     "execution_count": 37,
     "metadata": {},
     "output_type": "execute_result"
    }
   ],
   "source": [
    "pl.read_database(\"SELECT count(transaction_id) as num_rows from housing.staging_prices for version as of 'initial commit'\", engine)"
   ]
  },
  {
   "cell_type": "markdown",
   "id": "489358e2-3922-465a-9f39-c39f9bcd3698",
   "metadata": {},
   "source": [
    "Pyiceberg is a bit more clunky - since we need to pass a snapshot ID, we need to use Pyiceberg to lookup the snapshot_id for our tag"
   ]
  },
  {
   "cell_type": "code",
   "execution_count": 38,
   "id": "5ffbd3de-13c3-4484-8c05-8387c816dfaf",
   "metadata": {},
   "outputs": [
    {
     "data": {
      "text/html": [
       "<div><style>\n",
       ".dataframe > thead > tr,\n",
       ".dataframe > tbody > tr {\n",
       "  text-align: right;\n",
       "  white-space: pre-wrap;\n",
       "}\n",
       "</style>\n",
       "<small>shape: (1, 1)</small><table border=\"1\" class=\"dataframe\"><thead><tr><th>transaction_id</th></tr><tr><td>u32</td></tr></thead><tbody><tr><td>1546116</td></tr></tbody></table></div>"
      ],
      "text/plain": [
       "shape: (1, 1)\n",
       "┌────────────────┐\n",
       "│ transaction_id │\n",
       "│ ---            │\n",
       "│ u32            │\n",
       "╞════════════════╡\n",
       "│ 1546116        │\n",
       "└────────────────┘"
      ]
     },
     "execution_count": 38,
     "metadata": {},
     "output_type": "execute_result"
    }
   ],
   "source": [
    "pl.scan_iceberg(house_prices_t, snapshot_id=house_prices_t.snapshot_by_name('initial commit').snapshot_id).select(pl.count('transaction_id')).collect()"
   ]
  },
  {
   "cell_type": "markdown",
   "id": "74b446a5-0b14-42fe-bd01-0f31b42a8f20",
   "metadata": {},
   "source": [
    "We can permanently rollback a change, though this is not available through Pyiceberg"
   ]
  },
  {
   "cell_type": "code",
   "execution_count": 41,
   "id": "79b845ec-64f1-4c74-83d4-1712c9e4061b",
   "metadata": {},
   "outputs": [],
   "source": [
    "with engine.connect() as conn:\n",
    "    conn.execute(sa.text(\"ALTER TABLE housing.staging_prices EXECUTE rollback_to_snapshot(8580268702316458514)\")).fetchone()"
   ]
  },
  {
   "cell_type": "markdown",
   "id": "1d54ff6c-cb39-4166-9742-227381f2a6c7",
   "metadata": {},
   "source": [
    "```{warning}\n",
    "The current schema of the table remains unchanged even if we rollback. Current schema is set to include the `_loaded_at` column we added earlier\n",
    "```"
   ]
  },
  {
   "cell_type": "markdown",
   "id": "46ac6091-f2a7-42ac-8ec0-84558580be3c",
   "metadata": {},
   "source": [
    "When making metadata changes in a different query engine it's important to refresh our Pyiceberg metadata, since metadata is cached"
   ]
  },
  {
   "cell_type": "code",
   "execution_count": 45,
   "id": "3266c0e9-2ccc-4472-8333-b40cbe1cf74c",
   "metadata": {},
   "outputs": [
    {
     "data": {
      "text/plain": [
       "staging_prices(\n",
       "  2: price: required int (Sale price stated on the transfer deed.),\n",
       "  3: date_transfer: required date (Date when the sale was completed, as stated on the transfer deed.),\n",
       "  1: transaction_id: required string (A reference number which is generated automatically recording each published sale. The number is unique and will change each time a sale is recorded.),\n",
       "  4: postcode: required string (This is the postcode used at the time of the original transaction. Note that postcodes can be reallocated and these changes are not reflected in the Price Paid Dataset.),\n",
       "  5: property_type: required string (D = Detached, S = Semi-Detached, T = Terraced, F = Flats/Maisonettes, O = Other),\n",
       "  6: new_property: required string (Indicates the age of the property and applies to all price paid transactions, residential and non-residential. Y = a newly built property, N = an established residential building),\n",
       "  7: duration: required string (Relates to the tenure: F = Freehold, L= Leasehold etc. Note that HM Land Registry does not record leases of 7 years or less in the Price Paid Dataset.),\n",
       "  8: paon: optional string (Primary Addressable Object Name. Typically the house number or name),\n",
       "  9: saon: optional string (Secondary Addressable Object Name. Where a property has been divided into separate units (for example, flats), the PAON (above) will identify the building and a SAON will be specified that identifies the separate unit/flat.),\n",
       "  10: street: optional string,\n",
       "  11: locality: optional string,\n",
       "  12: town: optional string,\n",
       "  13: district: optional string,\n",
       "  14: county: optional string,\n",
       "  15: ppd_category_type: optional string (Indicates the type of Price Paid transaction. A = Standard Price Paid entry, includes single residential property sold for value. B = Additional Price Paid entry including transfers under a power of sale/repossessions, buy-to-lets (where they can be identified by a Mortgage), transfers to non-private individuals and sales where the property type is classed as ‘Other’.),\n",
       "  16: record_status: optional string (Indicates additions, changes and deletions to the records. A = Addition C = Change D = Delete),\n",
       "  17: _dwh_loaded_at: optional timestamptz (The date this row was loaded)\n",
       "),\n",
       "partition by: [],\n",
       "sort order: [],\n",
       "snapshot: Operation.APPEND: id=8580268702316458514, schema_id=0"
      ]
     },
     "execution_count": 45,
     "metadata": {},
     "output_type": "execute_result"
    }
   ],
   "source": [
    "house_prices_t.refresh()"
   ]
  },
  {
   "cell_type": "code",
   "execution_count": null,
   "id": "14ae4791-31c2-4214-947d-1efca6152624",
   "metadata": {},
   "outputs": [],
   "source": [
    "# TODO: verify with Trino\n",
    "pl.read_database(\"SELECT * FROM housing.staging_prices\", engine)"
   ]
  },
  {
   "cell_type": "code",
   "execution_count": 46,
   "id": "41e2514e-4348-4da8-86ba-bd70ca5afc10",
   "metadata": {},
   "outputs": [
    {
     "data": {
      "text/html": [
       "<div><style>\n",
       ".dataframe > thead > tr,\n",
       ".dataframe > tbody > tr {\n",
       "  text-align: right;\n",
       "  white-space: pre-wrap;\n",
       "}\n",
       "</style>\n",
       "<small>shape: (10, 17)</small><table border=\"1\" class=\"dataframe\"><thead><tr><th>price</th><th>date_transfer</th><th>transaction_id</th><th>postcode</th><th>property_type</th><th>new_property</th><th>duration</th><th>paon</th><th>saon</th><th>street</th><th>locality</th><th>town</th><th>district</th><th>county</th><th>ppd_category_type</th><th>record_status</th><th>_dwh_loaded_at</th></tr><tr><td>i32</td><td>date</td><td>str</td><td>str</td><td>str</td><td>str</td><td>str</td><td>str</td><td>str</td><td>str</td><td>str</td><td>str</td><td>str</td><td>str</td><td>str</td><td>str</td><td>datetime[μs, UTC]</td></tr></thead><tbody><tr><td>225000</td><td>2024-10-02</td><td>&quot;{25E9DA80-AD30-555E-E063-4704A…</td><td>&quot;DE6 1TW&quot;</td><td>&quot;S&quot;</td><td>&quot;N&quot;</td><td>&quot;F&quot;</td><td>&quot;48&quot;</td><td>&quot;&quot;</td><td>&quot;ACORN DRIVE&quot;</td><td>&quot;&quot;</td><td>&quot;ASHBOURNE&quot;</td><td>&quot;DERBYSHIRE DALES&quot;</td><td>&quot;DERBYSHIRE&quot;</td><td>&quot;A&quot;</td><td>&quot;A&quot;</td><td>null</td></tr><tr><td>120000</td><td>2024-10-04</td><td>&quot;{25E9DA80-AD31-555E-E063-4704A…</td><td>&quot;SK22 4AH&quot;</td><td>&quot;F&quot;</td><td>&quot;N&quot;</td><td>&quot;L&quot;</td><td>&quot;8&quot;</td><td>&quot;&quot;</td><td>&quot;MEAL STREET&quot;</td><td>&quot;NEW MILLS&quot;</td><td>&quot;HIGH PEAK&quot;</td><td>&quot;HIGH PEAK&quot;</td><td>&quot;DERBYSHIRE&quot;</td><td>&quot;A&quot;</td><td>&quot;A&quot;</td><td>null</td></tr><tr><td>197500</td><td>2024-08-19</td><td>&quot;{25E9DA80-AD32-555E-E063-4704A…</td><td>&quot;S42 5FN&quot;</td><td>&quot;T&quot;</td><td>&quot;N&quot;</td><td>&quot;F&quot;</td><td>&quot;24&quot;</td><td>&quot;&quot;</td><td>&quot;FARMHOUSE WAY&quot;</td><td>&quot;GRASSMOOR&quot;</td><td>&quot;CHESTERFIELD&quot;</td><td>&quot;NORTH EAST DERBYSHIRE&quot;</td><td>&quot;DERBYSHIRE&quot;</td><td>&quot;A&quot;</td><td>&quot;A&quot;</td><td>null</td></tr><tr><td>275000</td><td>2024-07-17</td><td>&quot;{25E9DA80-AD33-555E-E063-4704A…</td><td>&quot;S40 3HF&quot;</td><td>&quot;D&quot;</td><td>&quot;N&quot;</td><td>&quot;F&quot;</td><td>&quot;22&quot;</td><td>&quot;&quot;</td><td>&quot;GREENWAYS&quot;</td><td>&quot;&quot;</td><td>&quot;CHESTERFIELD&quot;</td><td>&quot;CHESTERFIELD&quot;</td><td>&quot;DERBYSHIRE&quot;</td><td>&quot;A&quot;</td><td>&quot;A&quot;</td><td>null</td></tr><tr><td>216000</td><td>2024-02-09</td><td>&quot;{25E9DA80-AD34-555E-E063-4704A…</td><td>&quot;DE24 3GP&quot;</td><td>&quot;S&quot;</td><td>&quot;N&quot;</td><td>&quot;F&quot;</td><td>&quot;7&quot;</td><td>&quot;&quot;</td><td>&quot;LOWICK CLOSE&quot;</td><td>&quot;&quot;</td><td>&quot;DERBY&quot;</td><td>&quot;CITY OF DERBY&quot;</td><td>&quot;CITY OF DERBY&quot;</td><td>&quot;A&quot;</td><td>&quot;A&quot;</td><td>null</td></tr><tr><td>210000</td><td>2024-09-25</td><td>&quot;{25E9DA80-AD35-555E-E063-4704A…</td><td>&quot;DE6 5PH&quot;</td><td>&quot;S&quot;</td><td>&quot;N&quot;</td><td>&quot;F&quot;</td><td>&quot;8&quot;</td><td>&quot;&quot;</td><td>&quot;GARDNER COURT&quot;</td><td>&quot;DOVERIDGE&quot;</td><td>&quot;ASHBOURNE&quot;</td><td>&quot;DERBYSHIRE DALES&quot;</td><td>&quot;DERBYSHIRE&quot;</td><td>&quot;A&quot;</td><td>&quot;A&quot;</td><td>null</td></tr><tr><td>220000</td><td>2024-08-30</td><td>&quot;{25E9DA80-AD36-555E-E063-4704A…</td><td>&quot;S43 4ZD&quot;</td><td>&quot;S&quot;</td><td>&quot;N&quot;</td><td>&quot;F&quot;</td><td>&quot;2&quot;</td><td>&quot;&quot;</td><td>&quot;HAWTHORNE ROAD&quot;</td><td>&quot;BARLBOROUGH&quot;</td><td>&quot;CHESTERFIELD&quot;</td><td>&quot;BOLSOVER&quot;</td><td>&quot;DERBYSHIRE&quot;</td><td>&quot;A&quot;</td><td>&quot;A&quot;</td><td>null</td></tr><tr><td>230000</td><td>2024-08-30</td><td>&quot;{25E9DA80-AD37-555E-E063-4704A…</td><td>&quot;SK17 7PR&quot;</td><td>&quot;S&quot;</td><td>&quot;N&quot;</td><td>&quot;F&quot;</td><td>&quot;66&quot;</td><td>&quot;&quot;</td><td>&quot;VICTORIA PARK ROAD&quot;</td><td>&quot;&quot;</td><td>&quot;BUXTON&quot;</td><td>&quot;HIGH PEAK&quot;</td><td>&quot;DERBYSHIRE&quot;</td><td>&quot;A&quot;</td><td>&quot;A&quot;</td><td>null</td></tr><tr><td>140000</td><td>2024-05-29</td><td>&quot;{25E9DA80-AD38-555E-E063-4704A…</td><td>&quot;DE65 6AH&quot;</td><td>&quot;D&quot;</td><td>&quot;N&quot;</td><td>&quot;F&quot;</td><td>&quot;4&quot;</td><td>&quot;&quot;</td><td>&quot;LONGLANDS LANE&quot;</td><td>&quot;FINDERN&quot;</td><td>&quot;DERBY&quot;</td><td>&quot;SOUTH DERBYSHIRE&quot;</td><td>&quot;DERBYSHIRE&quot;</td><td>&quot;A&quot;</td><td>&quot;A&quot;</td><td>null</td></tr><tr><td>205000</td><td>2024-09-26</td><td>&quot;{25E9DA80-AD39-555E-E063-4704A…</td><td>&quot;DE6 5PH&quot;</td><td>&quot;S&quot;</td><td>&quot;N&quot;</td><td>&quot;F&quot;</td><td>&quot;5&quot;</td><td>&quot;&quot;</td><td>&quot;GARDNER COURT&quot;</td><td>&quot;DOVERIDGE&quot;</td><td>&quot;ASHBOURNE&quot;</td><td>&quot;DERBYSHIRE DALES&quot;</td><td>&quot;DERBYSHIRE&quot;</td><td>&quot;A&quot;</td><td>&quot;A&quot;</td><td>null</td></tr></tbody></table></div>"
      ],
      "text/plain": [
       "shape: (10, 17)\n",
       "┌────────┬────────────┬────────────┬──────────┬───┬────────────┬───────────┬───────────┬───────────┐\n",
       "│ price  ┆ date_trans ┆ transactio ┆ postcode ┆ … ┆ county     ┆ ppd_categ ┆ record_st ┆ _dwh_load │\n",
       "│ ---    ┆ fer        ┆ n_id       ┆ ---      ┆   ┆ ---        ┆ ory_type  ┆ atus      ┆ ed_at     │\n",
       "│ i32    ┆ ---        ┆ ---        ┆ str      ┆   ┆ str        ┆ ---       ┆ ---       ┆ ---       │\n",
       "│        ┆ date       ┆ str        ┆          ┆   ┆            ┆ str       ┆ str       ┆ datetime[ │\n",
       "│        ┆            ┆            ┆          ┆   ┆            ┆           ┆           ┆ μs, UTC]  │\n",
       "╞════════╪════════════╪════════════╪══════════╪═══╪════════════╪═══════════╪═══════════╪═══════════╡\n",
       "│ 225000 ┆ 2024-10-02 ┆ {25E9DA80- ┆ DE6 1TW  ┆ … ┆ DERBYSHIRE ┆ A         ┆ A         ┆ null      │\n",
       "│        ┆            ┆ AD30-555E- ┆          ┆   ┆            ┆           ┆           ┆           │\n",
       "│        ┆            ┆ E063-4704A ┆          ┆   ┆            ┆           ┆           ┆           │\n",
       "│        ┆            ┆ …          ┆          ┆   ┆            ┆           ┆           ┆           │\n",
       "│ 120000 ┆ 2024-10-04 ┆ {25E9DA80- ┆ SK22 4AH ┆ … ┆ DERBYSHIRE ┆ A         ┆ A         ┆ null      │\n",
       "│        ┆            ┆ AD31-555E- ┆          ┆   ┆            ┆           ┆           ┆           │\n",
       "│        ┆            ┆ E063-4704A ┆          ┆   ┆            ┆           ┆           ┆           │\n",
       "│        ┆            ┆ …          ┆          ┆   ┆            ┆           ┆           ┆           │\n",
       "│ 197500 ┆ 2024-08-19 ┆ {25E9DA80- ┆ S42 5FN  ┆ … ┆ DERBYSHIRE ┆ A         ┆ A         ┆ null      │\n",
       "│        ┆            ┆ AD32-555E- ┆          ┆   ┆            ┆           ┆           ┆           │\n",
       "│        ┆            ┆ E063-4704A ┆          ┆   ┆            ┆           ┆           ┆           │\n",
       "│        ┆            ┆ …          ┆          ┆   ┆            ┆           ┆           ┆           │\n",
       "│ 275000 ┆ 2024-07-17 ┆ {25E9DA80- ┆ S40 3HF  ┆ … ┆ DERBYSHIRE ┆ A         ┆ A         ┆ null      │\n",
       "│        ┆            ┆ AD33-555E- ┆          ┆   ┆            ┆           ┆           ┆           │\n",
       "│        ┆            ┆ E063-4704A ┆          ┆   ┆            ┆           ┆           ┆           │\n",
       "│        ┆            ┆ …          ┆          ┆   ┆            ┆           ┆           ┆           │\n",
       "│ 216000 ┆ 2024-02-09 ┆ {25E9DA80- ┆ DE24 3GP ┆ … ┆ CITY OF    ┆ A         ┆ A         ┆ null      │\n",
       "│        ┆            ┆ AD34-555E- ┆          ┆   ┆ DERBY      ┆           ┆           ┆           │\n",
       "│        ┆            ┆ E063-4704A ┆          ┆   ┆            ┆           ┆           ┆           │\n",
       "│        ┆            ┆ …          ┆          ┆   ┆            ┆           ┆           ┆           │\n",
       "│ 210000 ┆ 2024-09-25 ┆ {25E9DA80- ┆ DE6 5PH  ┆ … ┆ DERBYSHIRE ┆ A         ┆ A         ┆ null      │\n",
       "│        ┆            ┆ AD35-555E- ┆          ┆   ┆            ┆           ┆           ┆           │\n",
       "│        ┆            ┆ E063-4704A ┆          ┆   ┆            ┆           ┆           ┆           │\n",
       "│        ┆            ┆ …          ┆          ┆   ┆            ┆           ┆           ┆           │\n",
       "│ 220000 ┆ 2024-08-30 ┆ {25E9DA80- ┆ S43 4ZD  ┆ … ┆ DERBYSHIRE ┆ A         ┆ A         ┆ null      │\n",
       "│        ┆            ┆ AD36-555E- ┆          ┆   ┆            ┆           ┆           ┆           │\n",
       "│        ┆            ┆ E063-4704A ┆          ┆   ┆            ┆           ┆           ┆           │\n",
       "│        ┆            ┆ …          ┆          ┆   ┆            ┆           ┆           ┆           │\n",
       "│ 230000 ┆ 2024-08-30 ┆ {25E9DA80- ┆ SK17 7PR ┆ … ┆ DERBYSHIRE ┆ A         ┆ A         ┆ null      │\n",
       "│        ┆            ┆ AD37-555E- ┆          ┆   ┆            ┆           ┆           ┆           │\n",
       "│        ┆            ┆ E063-4704A ┆          ┆   ┆            ┆           ┆           ┆           │\n",
       "│        ┆            ┆ …          ┆          ┆   ┆            ┆           ┆           ┆           │\n",
       "│ 140000 ┆ 2024-05-29 ┆ {25E9DA80- ┆ DE65 6AH ┆ … ┆ DERBYSHIRE ┆ A         ┆ A         ┆ null      │\n",
       "│        ┆            ┆ AD38-555E- ┆          ┆   ┆            ┆           ┆           ┆           │\n",
       "│        ┆            ┆ E063-4704A ┆          ┆   ┆            ┆           ┆           ┆           │\n",
       "│        ┆            ┆ …          ┆          ┆   ┆            ┆           ┆           ┆           │\n",
       "│ 205000 ┆ 2024-09-26 ┆ {25E9DA80- ┆ DE6 5PH  ┆ … ┆ DERBYSHIRE ┆ A         ┆ A         ┆ null      │\n",
       "│        ┆            ┆ AD39-555E- ┆          ┆   ┆            ┆           ┆           ┆           │\n",
       "│        ┆            ┆ E063-4704A ┆          ┆   ┆            ┆           ┆           ┆           │\n",
       "│        ┆            ┆ …          ┆          ┆   ┆            ┆           ┆           ┆           │\n",
       "└────────┴────────────┴────────────┴──────────┴───┴────────────┴───────────┴───────────┴───────────┘"
      ]
     },
     "execution_count": 46,
     "metadata": {},
     "output_type": "execute_result"
    }
   ],
   "source": [
    "pl.scan_iceberg(house_prices_t).limit(10).collect()"
   ]
  },
  {
   "cell_type": "code",
   "execution_count": 43,
   "id": "837a2ed3-e5f6-426e-832d-a85d8457a93f",
   "metadata": {},
   "outputs": [
    {
     "data": {
      "text/plain": [
       "8580268702316458514"
      ]
     },
     "execution_count": 43,
     "metadata": {},
     "output_type": "execute_result"
    }
   ],
   "source": [
    "house_prices_t.refresh().current_snapshot().snapshot_id"
   ]
  },
  {
   "cell_type": "code",
   "execution_count": 48,
   "id": "75138187-10d9-46d5-857d-5088bfe663aa",
   "metadata": {},
   "outputs": [
    {
     "data": {
      "text/html": [
       "<div><style>\n",
       ".dataframe > thead > tr,\n",
       ".dataframe > tbody > tr {\n",
       "  text-align: right;\n",
       "  white-space: pre-wrap;\n",
       "}\n",
       "</style>\n",
       "<small>shape: (4, 4)</small><table border=\"1\" class=\"dataframe\"><thead><tr><th>made_current_at</th><th>snapshot_id</th><th>parent_id</th><th>is_current_ancestor</th></tr><tr><td>datetime[μs, UTC]</td><td>i64</td><td>i64</td><td>bool</td></tr></thead><tbody><tr><td>2025-05-19 20:22:34.277 UTC</td><td>8580268702316458514</td><td>null</td><td>true</td></tr><tr><td>2025-05-19 20:43:24.155 UTC</td><td>5967660870361116733</td><td>8580268702316458514</td><td>false</td></tr><tr><td>2025-05-19 21:10:37.844 UTC</td><td>3231086783972264595</td><td>5967660870361116733</td><td>false</td></tr><tr><td>2025-05-19 21:11:53.418 UTC</td><td>1606895426754472649</td><td>3231086783972264595</td><td>false</td></tr></tbody></table></div>"
      ],
      "text/plain": [
       "shape: (4, 4)\n",
       "┌─────────────────────────────┬─────────────────────┬─────────────────────┬─────────────────────┐\n",
       "│ made_current_at             ┆ snapshot_id         ┆ parent_id           ┆ is_current_ancestor │\n",
       "│ ---                         ┆ ---                 ┆ ---                 ┆ ---                 │\n",
       "│ datetime[μs, UTC]           ┆ i64                 ┆ i64                 ┆ bool                │\n",
       "╞═════════════════════════════╪═════════════════════╪═════════════════════╪═════════════════════╡\n",
       "│ 2025-05-19 20:22:34.277 UTC ┆ 8580268702316458514 ┆ null                ┆ true                │\n",
       "│ 2025-05-19 20:43:24.155 UTC ┆ 5967660870361116733 ┆ 8580268702316458514 ┆ false               │\n",
       "│ 2025-05-19 21:10:37.844 UTC ┆ 3231086783972264595 ┆ 5967660870361116733 ┆ false               │\n",
       "│ 2025-05-19 21:11:53.418 UTC ┆ 1606895426754472649 ┆ 3231086783972264595 ┆ false               │\n",
       "└─────────────────────────────┴─────────────────────┴─────────────────────┴─────────────────────┘"
      ]
     },
     "execution_count": 48,
     "metadata": {},
     "output_type": "execute_result"
    }
   ],
   "source": [
    "pl.read_database('SELECT * FROM housing.\"staging_prices$history\" order by made_current_at', engine)"
   ]
  },
  {
   "cell_type": "markdown",
   "id": "32dbd33b-1a41-4a09-9648-523ca7b79d70",
   "metadata": {},
   "source": [
    "## Cleaning up\n",
    "\n",
    "Iceberg provides various routines to clean up files and metadata as orphan files and unused data pile up. Depending on your catalogue, this may be an automated process, but we can manually trigger them via Trino"
   ]
  },
  {
   "cell_type": "code",
   "execution_count": 50,
   "id": "8035e0ca-1cab-4326-b1c5-6779edbe60ba",
   "metadata": {},
   "outputs": [],
   "source": [
    "with engine.connect() as conn:\n",
    "    # Remove snapshots and corresponding metadata\n",
    "    conn.execute(sa.text(\"ALTER TABLE housing.staging_prices EXECUTE expire_snapshots(retention_threshold => '0d')\")).fetchone()\n",
    "    # Remove orphaned files not referenced by metadata\n",
    "    conn.execute(sa.text(\"ALTER table housing.staging_prices execute remove_orphan_files(retention_threshold => '0d')\")).fetchone()\n",
    "    # Co-locate manifests based on partitioning\n",
    "    conn.execute(sa.text(\"ALTER TABLE housing.staging_prices EXECUTE optimize_manifests\")).fetchone()\n",
    "    # Compact small files into larger\n",
    "    conn.execute(sa.text(\"ALTER table housing.staging_prices execute optimize\")).fetchone()"
   ]
  },
  {
   "cell_type": "code",
   "execution_count": 56,
   "id": "0903ab9c-3d68-464a-89ba-7ed1b5568faf",
   "metadata": {},
   "outputs": [
    {
     "data": {
      "text/html": [
       "<div><style>\n",
       ".dataframe > thead > tr,\n",
       ".dataframe > tbody > tr {\n",
       "  text-align: right;\n",
       "  white-space: pre-wrap;\n",
       "}\n",
       "</style>\n",
       "<small>shape: (2, 4)</small><table border=\"1\" class=\"dataframe\"><thead><tr><th>made_current_at</th><th>snapshot_id</th><th>parent_id</th><th>is_current_ancestor</th></tr><tr><td>datetime[μs, UTC]</td><td>i64</td><td>i64</td><td>bool</td></tr></thead><tbody><tr><td>2025-05-19 20:22:34.277 UTC</td><td>8580268702316458514</td><td>null</td><td>true</td></tr><tr><td>2025-05-19 20:43:24.155 UTC</td><td>5967660870361116733</td><td>8580268702316458514</td><td>false</td></tr></tbody></table></div>"
      ],
      "text/plain": [
       "shape: (2, 4)\n",
       "┌─────────────────────────────┬─────────────────────┬─────────────────────┬─────────────────────┐\n",
       "│ made_current_at             ┆ snapshot_id         ┆ parent_id           ┆ is_current_ancestor │\n",
       "│ ---                         ┆ ---                 ┆ ---                 ┆ ---                 │\n",
       "│ datetime[μs, UTC]           ┆ i64                 ┆ i64                 ┆ bool                │\n",
       "╞═════════════════════════════╪═════════════════════╪═════════════════════╪═════════════════════╡\n",
       "│ 2025-05-19 20:22:34.277 UTC ┆ 8580268702316458514 ┆ null                ┆ true                │\n",
       "│ 2025-05-19 20:43:24.155 UTC ┆ 5967660870361116733 ┆ 8580268702316458514 ┆ false               │\n",
       "└─────────────────────────────┴─────────────────────┴─────────────────────┴─────────────────────┘"
      ]
     },
     "execution_count": 56,
     "metadata": {},
     "output_type": "execute_result"
    }
   ],
   "source": [
    "pl.read_database('SELECT * FROM housing.\"staging_prices$history\" order by made_current_at', engine)"
   ]
  },
  {
   "cell_type": "code",
   "execution_count": 54,
   "id": "abfd3ad8-c169-4f0c-8f77-3e41348f02c4",
   "metadata": {},
   "outputs": [
    {
     "data": {
      "text/plain": [
       "Snapshot(snapshot_id=8580268702316458514, parent_snapshot_id=None, sequence_number=1, timestamp_ms=1747686154277, manifest_list='s3://warehouse/housing/staging/metadata/snap-8580268702316458514-0-f9ba0a23-01a5-4b0e-94b4-690ee85e28fd.avro', summary=Summary(Operation.APPEND, **{'total-equality-deletes': '0', 'total-position-deletes': '0', 'total-data-files': '1', 'total-files-size': '15839390', 'total-delete-files': '0', 'total-records': '704344', 'added-data-files': '1', 'added-records': '704344', 'added-files-size': '15839390'}), schema_id=0)"
      ]
     },
     "execution_count": 54,
     "metadata": {},
     "output_type": "execute_result"
    }
   ],
   "source": [
    "house_prices_t.refresh().current_snapshot()"
   ]
  },
  {
   "cell_type": "code",
   "execution_count": 61,
   "id": "43be749c-60de-448c-8d04-9549de6b0b79",
   "metadata": {},
   "outputs": [
    {
     "data": {
      "text/html": [
       "<div><style>\n",
       ".dataframe > thead > tr,\n",
       ".dataframe > tbody > tr {\n",
       "  text-align: right;\n",
       "  white-space: pre-wrap;\n",
       "}\n",
       "</style>\n",
       "<small>shape: (1, 1)</small><table border=\"1\" class=\"dataframe\"><thead><tr><th>transaction_id</th></tr><tr><td>u32</td></tr></thead><tbody><tr><td>1546116</td></tr></tbody></table></div>"
      ],
      "text/plain": [
       "shape: (1, 1)\n",
       "┌────────────────┐\n",
       "│ transaction_id │\n",
       "│ ---            │\n",
       "│ u32            │\n",
       "╞════════════════╡\n",
       "│ 1546116        │\n",
       "└────────────────┘"
      ]
     },
     "execution_count": 61,
     "metadata": {},
     "output_type": "execute_result"
    }
   ],
   "source": [
    "pl.scan_iceberg(house_prices_t, snapshot_id=5967660870361116733).select(pl.col(\"transaction_id\").len()).collect()"
   ]
  },
  {
   "cell_type": "code",
   "execution_count": null,
   "id": "6c0930f7-249a-45a6-a137-a45b0c8c2de4",
   "metadata": {},
   "outputs": [],
   "source": []
  }
 ],
 "metadata": {
  "kernelspec": {
   "display_name": "Python 3 (ipykernel)",
   "language": "python",
   "name": "python3"
  },
  "language_info": {
   "codemirror_mode": {
    "name": "ipython",
    "version": 3
   },
   "file_extension": ".py",
   "mimetype": "text/x-python",
   "name": "python",
   "nbconvert_exporter": "python",
   "pygments_lexer": "ipython3",
   "version": "3.12.10"
  }
 },
 "nbformat": 4,
 "nbformat_minor": 5
}
