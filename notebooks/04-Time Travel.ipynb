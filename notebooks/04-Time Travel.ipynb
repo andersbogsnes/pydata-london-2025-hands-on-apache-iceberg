{
 "cells": [
  {
   "cell_type": "markdown",
   "id": "4aadea8d-df49-495f-94fe-ce919f3753b8",
   "metadata": {},
   "source": [
    "# Time Travelling\n",
    "\n",
    "Another advantage of Iceberg's metadata structure is that it gives us Time Travel for free. Since all we're doing is storing snapshots and moving pointers, time travelling is essentially just asking to see the data at a previous pointer."
   ]
  },
  {
   "cell_type": "code",
   "execution_count": 13,
   "id": "0e252b1d-8515-442c-940c-8de1ce7aa0e0",
   "metadata": {},
   "outputs": [
    {
     "data": {
      "text/plain": [
       "polars.config.Config"
      ]
     },
     "execution_count": 13,
     "metadata": {},
     "output_type": "execute_result"
    }
   ],
   "source": [
    "import sqlalchemy as sa\n",
    "import polars as pl\n",
    "from pyiceberg.catalog.rest import RestCatalog\n",
    "from IPython.display import display\n",
    "pl.Config.set_thousands_separator(',')"
   ]
  },
  {
   "cell_type": "code",
   "execution_count": 2,
   "id": "8e1ff278-8fc0-4342-862d-3092c5919612",
   "metadata": {},
   "outputs": [],
   "source": [
    "engine = sa.create_engine(\"trino://trino:@trino:8080/lakekeeper\")\n",
    "catalog = RestCatalog(\n",
    "    \"lakekeeper\", uri=\"http://lakekeeper:8181/catalog\", warehouse=\"lakehouse\"\n",
    ")\n",
    "house_prices_t = catalog.load_table(\"housing.staging_prices\")"
   ]
  },
  {
   "cell_type": "markdown",
   "id": "3a36a225-b2f7-42bf-9095-f85157410b14",
   "metadata": {},
   "source": [
    "## Python API vs SQL\n",
    "Pyiceberg offers us some APIs that let us inspect the table metadata - it's all Pyarrow under the hood in Pyiceberg, so we can use polars to pretty-print the dataframes"
   ]
  },
  {
   "cell_type": "code",
   "execution_count": 3,
   "id": "5a97c1ed-f26b-4f62-8846-48494bc06201",
   "metadata": {},
   "outputs": [
    {
     "data": {
      "text/html": [
       "<div><style>\n",
       ".dataframe > thead > tr,\n",
       ".dataframe > tbody > tr {\n",
       "  text-align: right;\n",
       "  white-space: pre-wrap;\n",
       "}\n",
       "</style>\n",
       "<small>shape: (4, 4)</small><table border=\"1\" class=\"dataframe\"><thead><tr><th>made_current_at</th><th>snapshot_id</th><th>parent_id</th><th>is_current_ancestor</th></tr><tr><td>datetime[ms]</td><td>i64</td><td>i64</td><td>bool</td></tr></thead><tbody><tr><td>2025-05-25 10:39:28.248</td><td>561444497425091042</td><td>null</td><td>true</td></tr><tr><td>2025-05-25 10:47:03.208</td><td>6216576064814123496</td><td>561444497425091042</td><td>true</td></tr><tr><td>2025-05-25 11:55:21.465</td><td>7207777689682313573</td><td>6216576064814123496</td><td>true</td></tr><tr><td>2025-05-25 11:56:50.468</td><td>6710783448956002675</td><td>7207777689682313573</td><td>true</td></tr></tbody></table></div>"
      ],
      "text/plain": [
       "shape: (4, 4)\n",
       "┌─────────────────────────┬─────────────────────┬─────────────────────┬─────────────────────┐\n",
       "│ made_current_at         ┆ snapshot_id         ┆ parent_id           ┆ is_current_ancestor │\n",
       "│ ---                     ┆ ---                 ┆ ---                 ┆ ---                 │\n",
       "│ datetime[ms]            ┆ i64                 ┆ i64                 ┆ bool                │\n",
       "╞═════════════════════════╪═════════════════════╪═════════════════════╪═════════════════════╡\n",
       "│ 2025-05-25 10:39:28.248 ┆ 561444497425091042  ┆ null                ┆ true                │\n",
       "│ 2025-05-25 10:47:03.208 ┆ 6216576064814123496 ┆ 561444497425091042  ┆ true                │\n",
       "│ 2025-05-25 11:55:21.465 ┆ 7207777689682313573 ┆ 6216576064814123496 ┆ true                │\n",
       "│ 2025-05-25 11:56:50.468 ┆ 6710783448956002675 ┆ 7207777689682313573 ┆ true                │\n",
       "└─────────────────────────┴─────────────────────┴─────────────────────┴─────────────────────┘"
      ]
     },
     "execution_count": 3,
     "metadata": {},
     "output_type": "execute_result"
    }
   ],
   "source": [
    "pl.from_arrow(house_prices_t.inspect.history())"
   ]
  },
  {
   "cell_type": "markdown",
   "id": "f06b1b39-03bc-45a8-8d5f-5eac42bb276f",
   "metadata": {},
   "source": [
    "The SQL equivalent will depend on the query engine - Trino uses `$` as the metadata table identifier"
   ]
  },
  {
   "cell_type": "code",
   "execution_count": 17,
   "id": "9204e65f-0872-4563-85a1-283ef6076b31",
   "metadata": {},
   "outputs": [
    {
     "data": {
      "text/html": [
       "<div><style>\n",
       ".dataframe > thead > tr,\n",
       ".dataframe > tbody > tr {\n",
       "  text-align: right;\n",
       "  white-space: pre-wrap;\n",
       "}\n",
       "</style>\n",
       "<small>shape: (4, 4)</small><table border=\"1\" class=\"dataframe\"><thead><tr><th>made_current_at</th><th>snapshot_id</th><th>parent_id</th><th>is_current_ancestor</th></tr><tr><td>datetime[μs, UTC]</td><td>i64</td><td>i64</td><td>bool</td></tr></thead><tbody><tr><td>2025-05-25 10:39:28.248 UTC</td><td>561444497425091042</td><td>null</td><td>true</td></tr><tr><td>2025-05-25 10:47:03.208 UTC</td><td>6216576064814123496</td><td>561444497425091042</td><td>true</td></tr><tr><td>2025-05-25 11:55:21.465 UTC</td><td>7207777689682313573</td><td>6216576064814123496</td><td>true</td></tr><tr><td>2025-05-25 11:56:50.468 UTC</td><td>6710783448956002675</td><td>7207777689682313573</td><td>true</td></tr></tbody></table></div>"
      ],
      "text/plain": [
       "shape: (4, 4)\n",
       "┌─────────────────────────────┬─────────────────────┬─────────────────────┬─────────────────────┐\n",
       "│ made_current_at             ┆ snapshot_id         ┆ parent_id           ┆ is_current_ancestor │\n",
       "│ ---                         ┆ ---                 ┆ ---                 ┆ ---                 │\n",
       "│ datetime[μs, UTC]           ┆ i64                 ┆ i64                 ┆ bool                │\n",
       "╞═════════════════════════════╪═════════════════════╪═════════════════════╪═════════════════════╡\n",
       "│ 2025-05-25 10:39:28.248 UTC ┆ 561444497425091042  ┆ null                ┆ true                │\n",
       "│ 2025-05-25 10:47:03.208 UTC ┆ 6216576064814123496 ┆ 561444497425091042  ┆ true                │\n",
       "│ 2025-05-25 11:55:21.465 UTC ┆ 7207777689682313573 ┆ 6216576064814123496 ┆ true                │\n",
       "│ 2025-05-25 11:56:50.468 UTC ┆ 6710783448956002675 ┆ 7207777689682313573 ┆ true                │\n",
       "└─────────────────────────────┴─────────────────────┴─────────────────────┴─────────────────────┘"
      ]
     },
     "metadata": {},
     "output_type": "display_data"
    }
   ],
   "source": [
    "history = pl.read_database(\n",
    "    'SELECT * FROM housing.\"staging_prices$history\" order by made_current_at', engine\n",
    ")\n",
    "with pl.Config(thousands_separator=None):\n",
    "    display(history)"
   ]
  },
  {
   "cell_type": "markdown",
   "id": "2a64f77f-663e-4f4c-9aa5-dc52b6cfe455",
   "metadata": {},
   "source": [
    "Now that we have a list of snapshots, we can demonstrate timetravelling. We loaded 2024, 2023 and 2022 data into our table, so we should see different counts in each snapshot"
   ]
  },
  {
   "cell_type": "code",
   "execution_count": 14,
   "id": "62432454-395c-4e2b-a963-351160e32950",
   "metadata": {},
   "outputs": [
    {
     "data": {
      "text/html": [
       "<div><style>\n",
       ".dataframe > thead > tr,\n",
       ".dataframe > tbody > tr {\n",
       "  text-align: right;\n",
       "  white-space: pre-wrap;\n",
       "}\n",
       "</style>\n",
       "<small>shape: (1, 1)</small><table border=\"1\" class=\"dataframe\"><thead><tr><th>num_rows</th></tr><tr><td>i64</td></tr></thead><tbody><tr><td>2,613,415</td></tr></tbody></table></div>"
      ],
      "text/plain": [
       "shape: (1, 1)\n",
       "┌───────────┐\n",
       "│ num_rows  │\n",
       "│ ---       │\n",
       "│ i64       │\n",
       "╞═══════════╡\n",
       "│ 2,613,415 │\n",
       "└───────────┘"
      ]
     },
     "execution_count": 14,
     "metadata": {},
     "output_type": "execute_result"
    }
   ],
   "source": [
    "pl.read_database(\"SELECT count(transaction_id) as num_rows FROM housing.staging_prices\", engine)"
   ]
  },
  {
   "cell_type": "markdown",
   "id": "4cb75aa1-91a5-4256-8246-a671f1f3a8b5",
   "metadata": {},
   "source": [
    "The time travel syntax also varies by query engine, but Trino uses the `FOR VERSION AS OF` syntax"
   ]
  },
  {
   "cell_type": "code",
   "execution_count": 20,
   "id": "c00f564f-a46d-4c73-8200-df30d4412016",
   "metadata": {},
   "outputs": [
    {
     "data": {
      "text/html": [
       "<div><style>\n",
       ".dataframe > thead > tr,\n",
       ".dataframe > tbody > tr {\n",
       "  text-align: right;\n",
       "  white-space: pre-wrap;\n",
       "}\n",
       "</style>\n",
       "<small>shape: (1, 1)</small><table border=\"1\" class=\"dataframe\"><thead><tr><th>num_rows</th></tr><tr><td>i64</td></tr></thead><tbody><tr><td>704,344</td></tr></tbody></table></div>"
      ],
      "text/plain": [
       "shape: (1, 1)\n",
       "┌──────────┐\n",
       "│ num_rows │\n",
       "│ ---      │\n",
       "│ i64      │\n",
       "╞══════════╡\n",
       "│ 704,344  │\n",
       "└──────────┘"
      ]
     },
     "execution_count": 20,
     "metadata": {},
     "output_type": "execute_result"
    }
   ],
   "source": [
    "pl.read_database(\n",
    "    \"SELECT count(transaction_id) as num_rows from housing.staging_prices for version as of 561444497425091042\",\n",
    "    engine,\n",
    ")"
   ]
  },
  {
   "cell_type": "markdown",
   "id": "b181bb6d-f154-45c3-bd38-a7cb322aeea9",
   "metadata": {},
   "source": [
    "Pyiceberg exposes a similar API, where we can specify the `snapshot_id` we want to read"
   ]
  },
  {
   "cell_type": "code",
   "execution_count": 21,
   "id": "9fde1b49-8ec0-49a5-8279-a7035c9593d3",
   "metadata": {},
   "outputs": [
    {
     "data": {
      "text/plain": [
       "704344"
      ]
     },
     "execution_count": 21,
     "metadata": {},
     "output_type": "execute_result"
    }
   ],
   "source": [
    "house_prices_t.scan(\n",
    "    snapshot_id=561444497425091042, selected_fields=[\"transaction_id\"]\n",
    ").to_arrow().num_rows"
   ]
  },
  {
   "cell_type": "markdown",
   "id": "c4ced814-e1c4-4116-ad23-1e6d3cd306b7",
   "metadata": {},
   "source": [
    "Since most libriaries build on Pyiceberg, you'll see similar APIs there"
   ]
  },
  {
   "cell_type": "code",
   "execution_count": 22,
   "id": "89b67865-5d1d-4c94-9972-d764dda6376e",
   "metadata": {},
   "outputs": [
    {
     "data": {
      "text/html": [
       "<div><style>\n",
       ".dataframe > thead > tr,\n",
       ".dataframe > tbody > tr {\n",
       "  text-align: right;\n",
       "  white-space: pre-wrap;\n",
       "}\n",
       "</style>\n",
       "<small>shape: (1, 1)</small><table border=\"1\" class=\"dataframe\"><thead><tr><th>transaction_id</th></tr><tr><td>u32</td></tr></thead><tbody><tr><td>704,344</td></tr></tbody></table></div>"
      ],
      "text/plain": [
       "shape: (1, 1)\n",
       "┌────────────────┐\n",
       "│ transaction_id │\n",
       "│ ---            │\n",
       "│ u32            │\n",
       "╞════════════════╡\n",
       "│ 704,344        │\n",
       "└────────────────┘"
      ]
     },
     "execution_count": 22,
     "metadata": {},
     "output_type": "execute_result"
    }
   ],
   "source": [
    "pl.scan_iceberg(house_prices_t, snapshot_id=561444497425091042).select(\n",
    "    pl.count(\"transaction_id\")\n",
    ").collect()"
   ]
  },
  {
   "cell_type": "markdown",
   "id": "94dcc04c-8a3d-45f9-b753-42b776272ae9",
   "metadata": {},
   "source": [
    "SQL offers us some niceties here in that we can timetravel via timestamps as well, and Trino will do the work of looking up the snapshot closest in time"
   ]
  },
  {
   "cell_type": "code",
   "execution_count": 23,
   "id": "b22e59c6-4540-4942-942a-396198fb381f",
   "metadata": {
    "scrolled": true
   },
   "outputs": [
    {
     "data": {
      "text/html": [
       "<div><style>\n",
       ".dataframe > thead > tr,\n",
       ".dataframe > tbody > tr {\n",
       "  text-align: right;\n",
       "  white-space: pre-wrap;\n",
       "}\n",
       "</style>\n",
       "<small>shape: (1, 1)</small><table border=\"1\" class=\"dataframe\"><thead><tr><th>num_rows</th></tr><tr><td>i64</td></tr></thead><tbody><tr><td>704,344</td></tr></tbody></table></div>"
      ],
      "text/plain": [
       "shape: (1, 1)\n",
       "┌──────────┐\n",
       "│ num_rows │\n",
       "│ ---      │\n",
       "│ i64      │\n",
       "╞══════════╡\n",
       "│ 704,344  │\n",
       "└──────────┘"
      ]
     },
     "execution_count": 23,
     "metadata": {},
     "output_type": "execute_result"
    }
   ],
   "source": [
    "pl.read_database(\n",
    "    \"SELECT count(transaction_id) as num_rows from housing.staging_prices for timestamp as of timestamp '2025-05-25 10:40:00'\",\n",
    "    engine,\n",
    ")"
   ]
  },
  {
   "cell_type": "markdown",
   "id": "653b6585-4525-4c85-a877-fd1e4282cc39",
   "metadata": {},
   "source": [
    "Remembering these snapshot ids or pinpointing the exact time we're interested in is tricky for our human brains, so Iceberg supports tagging so that we can provide human-readable references to a given snapshot."
   ]
  },
  {
   "cell_type": "code",
   "execution_count": 24,
   "id": "f6704f17-c30e-445b-8155-c48fd80f9bcb",
   "metadata": {},
   "outputs": [],
   "source": [
    "house_prices_t.manage_snapshots().create_tag(\n",
    "    561444497425091042, \"initial commit\"\n",
    ").commit()"
   ]
  },
  {
   "cell_type": "code",
   "execution_count": 25,
   "id": "f6c2bbc6-54d3-4bb8-830d-d12c4bd336f0",
   "metadata": {},
   "outputs": [
    {
     "data": {
      "text/html": [
       "<div><style>\n",
       ".dataframe > thead > tr,\n",
       ".dataframe > tbody > tr {\n",
       "  text-align: right;\n",
       "  white-space: pre-wrap;\n",
       "}\n",
       "</style>\n",
       "<small>shape: (2, 6)</small><table border=\"1\" class=\"dataframe\"><thead><tr><th>name</th><th>type</th><th>snapshot_id</th><th>max_reference_age_in_ms</th><th>min_snapshots_to_keep</th><th>max_snapshot_age_in_ms</th></tr><tr><td>str</td><td>cat</td><td>i64</td><td>i64</td><td>i32</td><td>i64</td></tr></thead><tbody><tr><td>&quot;main&quot;</td><td>&quot;BRANCH&quot;</td><td>6710783448956002675</td><td>null</td><td>null</td><td>null</td></tr><tr><td>&quot;initial commit&quot;</td><td>&quot;TAG&quot;</td><td>561444497425091042</td><td>null</td><td>null</td><td>null</td></tr></tbody></table></div>"
      ],
      "text/plain": [
       "shape: (2, 6)\n",
       "┌────────────────┬────────┬──────────────────┬─────────────────┬─────────────────┬─────────────────┐\n",
       "│ name           ┆ type   ┆ snapshot_id      ┆ max_reference_a ┆ min_snapshots_t ┆ max_snapshot_ag │\n",
       "│ ---            ┆ ---    ┆ ---              ┆ ge_in_ms        ┆ o_keep          ┆ e_in_ms         │\n",
       "│ str            ┆ cat    ┆ i64              ┆ ---             ┆ ---             ┆ ---             │\n",
       "│                ┆        ┆                  ┆ i64             ┆ i32             ┆ i64             │\n",
       "╞════════════════╪════════╪══════════════════╪═════════════════╪═════════════════╪═════════════════╡\n",
       "│ main           ┆ BRANCH ┆ 6710783448956002 ┆ null            ┆ null            ┆ null            │\n",
       "│                ┆        ┆ 675              ┆                 ┆                 ┆                 │\n",
       "│ initial commit ┆ TAG    ┆ 5614444974250910 ┆ null            ┆ null            ┆ null            │\n",
       "│                ┆        ┆ 42               ┆                 ┆                 ┆                 │\n",
       "└────────────────┴────────┴──────────────────┴─────────────────┴─────────────────┴─────────────────┘"
      ]
     },
     "metadata": {},
     "output_type": "display_data"
    }
   ],
   "source": [
    "with pl.Config(thousands_separator=None):\n",
    "    display(pl.from_arrow(house_prices_t.inspect.refs()))"
   ]
  },
  {
   "cell_type": "markdown",
   "id": "3b05dee6-84ee-41db-a446-46795b705a23",
   "metadata": {},
   "source": [
    "Now that we have this tag, we can reference it directly in our SQL statement"
   ]
  },
  {
   "cell_type": "code",
   "execution_count": 26,
   "id": "7e93ecab-c7c6-4965-ac44-ebaff734d2a0",
   "metadata": {},
   "outputs": [
    {
     "data": {
      "text/html": [
       "<div><style>\n",
       ".dataframe > thead > tr,\n",
       ".dataframe > tbody > tr {\n",
       "  text-align: right;\n",
       "  white-space: pre-wrap;\n",
       "}\n",
       "</style>\n",
       "<small>shape: (1, 1)</small><table border=\"1\" class=\"dataframe\"><thead><tr><th>num_rows</th></tr><tr><td>i64</td></tr></thead><tbody><tr><td>704,344</td></tr></tbody></table></div>"
      ],
      "text/plain": [
       "shape: (1, 1)\n",
       "┌──────────┐\n",
       "│ num_rows │\n",
       "│ ---      │\n",
       "│ i64      │\n",
       "╞══════════╡\n",
       "│ 704,344  │\n",
       "└──────────┘"
      ]
     },
     "execution_count": 26,
     "metadata": {},
     "output_type": "execute_result"
    }
   ],
   "source": [
    "pl.read_database(\n",
    "    \"SELECT count(transaction_id) as num_rows from housing.staging_prices for version as of 'initial commit'\",\n",
    "    engine,\n",
    ")"
   ]
  },
  {
   "cell_type": "markdown",
   "id": "489358e2-3922-465a-9f39-c39f9bcd3698",
   "metadata": {},
   "source": [
    "Pyiceberg is a bit more clunky - since we need to pass a snapshot ID, we need to use Pyiceberg to lookup the snapshot_id for our tag"
   ]
  },
  {
   "cell_type": "code",
   "execution_count": 27,
   "id": "5ffbd3de-13c3-4484-8c05-8387c816dfaf",
   "metadata": {},
   "outputs": [
    {
     "data": {
      "text/html": [
       "<div><style>\n",
       ".dataframe > thead > tr,\n",
       ".dataframe > tbody > tr {\n",
       "  text-align: right;\n",
       "  white-space: pre-wrap;\n",
       "}\n",
       "</style>\n",
       "<small>shape: (1, 1)</small><table border=\"1\" class=\"dataframe\"><thead><tr><th>transaction_id</th></tr><tr><td>u32</td></tr></thead><tbody><tr><td>704,344</td></tr></tbody></table></div>"
      ],
      "text/plain": [
       "shape: (1, 1)\n",
       "┌────────────────┐\n",
       "│ transaction_id │\n",
       "│ ---            │\n",
       "│ u32            │\n",
       "╞════════════════╡\n",
       "│ 704,344        │\n",
       "└────────────────┘"
      ]
     },
     "execution_count": 27,
     "metadata": {},
     "output_type": "execute_result"
    }
   ],
   "source": [
    "pl.scan_iceberg(\n",
    "    house_prices_t,\n",
    "    snapshot_id=house_prices_t.snapshot_by_name(\"initial commit\").snapshot_id,\n",
    ").select(pl.count(\"transaction_id\")).collect()"
   ]
  },
  {
   "cell_type": "markdown",
   "id": "74b446a5-0b14-42fe-bd01-0f31b42a8f20",
   "metadata": {},
   "source": [
    "We can permanently rollback a change, though this is not available through Pyiceberg"
   ]
  },
  {
   "cell_type": "code",
   "execution_count": 28,
   "id": "79b845ec-64f1-4c74-83d4-1712c9e4061b",
   "metadata": {},
   "outputs": [],
   "source": [
    "with engine.connect() as conn:\n",
    "    conn.execute(\n",
    "        sa.text(\n",
    "            \"ALTER TABLE housing.staging_prices EXECUTE rollback_to_snapshot(561444497425091042)\"\n",
    "        )\n",
    "    ).fetchone()"
   ]
  },
  {
   "cell_type": "markdown",
   "id": "1d54ff6c-cb39-4166-9742-227381f2a6c7",
   "metadata": {},
   "source": [
    "```{warning}\n",
    "The current schema of the table remains unchanged even if we rollback. Current schema is set to include the `_loaded_at` column we added earlier\n",
    "```"
   ]
  },
  {
   "cell_type": "markdown",
   "id": "46ac6091-f2a7-42ac-8ec0-84558580be3c",
   "metadata": {},
   "source": [
    "When making metadata changes in a different query engine it's important to refresh our Pyiceberg metadata, since metadata is cached"
   ]
  },
  {
   "cell_type": "code",
   "execution_count": 30,
   "id": "3266c0e9-2ccc-4472-8333-b40cbe1cf74c",
   "metadata": {},
   "outputs": [],
   "source": [
    "house_prices_t.refresh();"
   ]
  },
  {
   "cell_type": "code",
   "execution_count": 31,
   "id": "14ae4791-31c2-4214-947d-1efca6152624",
   "metadata": {},
   "outputs": [
    {
     "data": {
      "text/html": [
       "<div><style>\n",
       ".dataframe > thead > tr,\n",
       ".dataframe > tbody > tr {\n",
       "  text-align: right;\n",
       "  white-space: pre-wrap;\n",
       "}\n",
       "</style>\n",
       "<small>shape: (704_344, 17)</small><table border=\"1\" class=\"dataframe\"><thead><tr><th>date_of_transfer</th><th>transaction_id</th><th>price</th><th>postcode</th><th>property_type</th><th>new_property</th><th>duration</th><th>paon</th><th>saon</th><th>street</th><th>locality</th><th>town</th><th>district</th><th>county</th><th>ppd_category_type</th><th>record_status</th><th>_dwh_loaded_at</th></tr><tr><td>date</td><td>str</td><td>i64</td><td>str</td><td>str</td><td>str</td><td>str</td><td>str</td><td>str</td><td>str</td><td>str</td><td>str</td><td>str</td><td>str</td><td>str</td><td>str</td><td>null</td></tr></thead><tbody><tr><td>2024-10-02</td><td>&quot;{25E9DA80-AD30-555E-E063-4704A…</td><td>225,000</td><td>&quot;DE6 1TW&quot;</td><td>&quot;S&quot;</td><td>&quot;N&quot;</td><td>&quot;F&quot;</td><td>&quot;48&quot;</td><td>&quot;&quot;</td><td>&quot;ACORN DRIVE&quot;</td><td>&quot;&quot;</td><td>&quot;ASHBOURNE&quot;</td><td>&quot;DERBYSHIRE DALES&quot;</td><td>&quot;DERBYSHIRE&quot;</td><td>&quot;A&quot;</td><td>&quot;A&quot;</td><td>null</td></tr><tr><td>2024-10-04</td><td>&quot;{25E9DA80-AD31-555E-E063-4704A…</td><td>120,000</td><td>&quot;SK22 4AH&quot;</td><td>&quot;F&quot;</td><td>&quot;N&quot;</td><td>&quot;L&quot;</td><td>&quot;8&quot;</td><td>&quot;&quot;</td><td>&quot;MEAL STREET&quot;</td><td>&quot;NEW MILLS&quot;</td><td>&quot;HIGH PEAK&quot;</td><td>&quot;HIGH PEAK&quot;</td><td>&quot;DERBYSHIRE&quot;</td><td>&quot;A&quot;</td><td>&quot;A&quot;</td><td>null</td></tr><tr><td>2024-08-19</td><td>&quot;{25E9DA80-AD32-555E-E063-4704A…</td><td>197,500</td><td>&quot;S42 5FN&quot;</td><td>&quot;T&quot;</td><td>&quot;N&quot;</td><td>&quot;F&quot;</td><td>&quot;24&quot;</td><td>&quot;&quot;</td><td>&quot;FARMHOUSE WAY&quot;</td><td>&quot;GRASSMOOR&quot;</td><td>&quot;CHESTERFIELD&quot;</td><td>&quot;NORTH EAST DERBYSHIRE&quot;</td><td>&quot;DERBYSHIRE&quot;</td><td>&quot;A&quot;</td><td>&quot;A&quot;</td><td>null</td></tr><tr><td>2024-07-17</td><td>&quot;{25E9DA80-AD33-555E-E063-4704A…</td><td>275,000</td><td>&quot;S40 3HF&quot;</td><td>&quot;D&quot;</td><td>&quot;N&quot;</td><td>&quot;F&quot;</td><td>&quot;22&quot;</td><td>&quot;&quot;</td><td>&quot;GREENWAYS&quot;</td><td>&quot;&quot;</td><td>&quot;CHESTERFIELD&quot;</td><td>&quot;CHESTERFIELD&quot;</td><td>&quot;DERBYSHIRE&quot;</td><td>&quot;A&quot;</td><td>&quot;A&quot;</td><td>null</td></tr><tr><td>2024-02-09</td><td>&quot;{25E9DA80-AD34-555E-E063-4704A…</td><td>216,000</td><td>&quot;DE24 3GP&quot;</td><td>&quot;S&quot;</td><td>&quot;N&quot;</td><td>&quot;F&quot;</td><td>&quot;7&quot;</td><td>&quot;&quot;</td><td>&quot;LOWICK CLOSE&quot;</td><td>&quot;&quot;</td><td>&quot;DERBY&quot;</td><td>&quot;CITY OF DERBY&quot;</td><td>&quot;CITY OF DERBY&quot;</td><td>&quot;A&quot;</td><td>&quot;A&quot;</td><td>null</td></tr><tr><td>&hellip;</td><td>&hellip;</td><td>&hellip;</td><td>&hellip;</td><td>&hellip;</td><td>&hellip;</td><td>&hellip;</td><td>&hellip;</td><td>&hellip;</td><td>&hellip;</td><td>&hellip;</td><td>&hellip;</td><td>&hellip;</td><td>&hellip;</td><td>&hellip;</td><td>&hellip;</td><td>&hellip;</td></tr><tr><td>2024-02-02</td><td>&quot;{1EAE3DF6-DFF6-9EB1-E063-4704A…</td><td>300,000</td><td>&quot;OX7 5EB&quot;</td><td>&quot;T&quot;</td><td>&quot;N&quot;</td><td>&quot;F&quot;</td><td>&quot;11A&quot;</td><td>&quot;&quot;</td><td>&quot;BURFORD ROAD&quot;</td><td>&quot;&quot;</td><td>&quot;CHIPPING NORTON&quot;</td><td>&quot;WEST OXFORDSHIRE&quot;</td><td>&quot;OXFORDSHIRE&quot;</td><td>&quot;A&quot;</td><td>&quot;A&quot;</td><td>null</td></tr><tr><td>2024-07-11</td><td>&quot;{1EAE3DF6-DFF7-9EB1-E063-4704A…</td><td>640,000</td><td>&quot;OX4 4XQ&quot;</td><td>&quot;T&quot;</td><td>&quot;N&quot;</td><td>&quot;F&quot;</td><td>&quot;73&quot;</td><td>&quot;&quot;</td><td>&quot;THE CRESCENT&quot;</td><td>&quot;LITTLEMORE&quot;</td><td>&quot;OXFORD&quot;</td><td>&quot;OXFORD&quot;</td><td>&quot;OXFORDSHIRE&quot;</td><td>&quot;A&quot;</td><td>&quot;A&quot;</td><td>null</td></tr><tr><td>2024-07-19</td><td>&quot;{1EAE3DF6-DFF8-9EB1-E063-4704A…</td><td>600,000</td><td>&quot;OX11 9NX&quot;</td><td>&quot;D&quot;</td><td>&quot;N&quot;</td><td>&quot;F&quot;</td><td>&quot;HIGHLANDS&quot;</td><td>&quot;&quot;</td><td>&quot;LONDON ROAD&quot;</td><td>&quot;BLEWBURY&quot;</td><td>&quot;DIDCOT&quot;</td><td>&quot;VALE OF WHITE HORSE&quot;</td><td>&quot;OXFORDSHIRE&quot;</td><td>&quot;A&quot;</td><td>&quot;A&quot;</td><td>null</td></tr><tr><td>2024-06-19</td><td>&quot;{1EAE3DF6-DFF9-9EB1-E063-4704A…</td><td>495,000</td><td>&quot;OX25 4NE&quot;</td><td>&quot;S&quot;</td><td>&quot;N&quot;</td><td>&quot;F&quot;</td><td>&quot;86&quot;</td><td>&quot;&quot;</td><td>&quot;SOUTH STREET&quot;</td><td>&quot;CAULCOTT&quot;</td><td>&quot;BICESTER&quot;</td><td>&quot;CHERWELL&quot;</td><td>&quot;OXFORDSHIRE&quot;</td><td>&quot;A&quot;</td><td>&quot;A&quot;</td><td>null</td></tr><tr><td>2024-05-07</td><td>&quot;{1EAE3DF6-DFFA-9EB1-E063-4704A…</td><td>310,000</td><td>&quot;OX3 8LX&quot;</td><td>&quot;T&quot;</td><td>&quot;N&quot;</td><td>&quot;F&quot;</td><td>&quot;147&quot;</td><td>&quot;&quot;</td><td>&quot;GREEN RIDGES&quot;</td><td>&quot;HEADINGTON&quot;</td><td>&quot;OXFORD&quot;</td><td>&quot;OXFORD&quot;</td><td>&quot;OXFORDSHIRE&quot;</td><td>&quot;A&quot;</td><td>&quot;A&quot;</td><td>null</td></tr></tbody></table></div>"
      ],
      "text/plain": [
       "shape: (704_344, 17)\n",
       "┌────────────┬────────────┬─────────┬──────────┬───┬───────────┬───────────┬───────────┬───────────┐\n",
       "│ date_of_tr ┆ transactio ┆ price   ┆ postcode ┆ … ┆ county    ┆ ppd_categ ┆ record_st ┆ _dwh_load │\n",
       "│ ansfer     ┆ n_id       ┆ ---     ┆ ---      ┆   ┆ ---       ┆ ory_type  ┆ atus      ┆ ed_at     │\n",
       "│ ---        ┆ ---        ┆ i64     ┆ str      ┆   ┆ str       ┆ ---       ┆ ---       ┆ ---       │\n",
       "│ date       ┆ str        ┆         ┆          ┆   ┆           ┆ str       ┆ str       ┆ null      │\n",
       "╞════════════╪════════════╪═════════╪══════════╪═══╪═══════════╪═══════════╪═══════════╪═══════════╡\n",
       "│ 2024-10-02 ┆ {25E9DA80- ┆ 225,000 ┆ DE6 1TW  ┆ … ┆ DERBYSHIR ┆ A         ┆ A         ┆ null      │\n",
       "│            ┆ AD30-555E- ┆         ┆          ┆   ┆ E         ┆           ┆           ┆           │\n",
       "│            ┆ E063-4704A ┆         ┆          ┆   ┆           ┆           ┆           ┆           │\n",
       "│            ┆ …          ┆         ┆          ┆   ┆           ┆           ┆           ┆           │\n",
       "│ 2024-10-04 ┆ {25E9DA80- ┆ 120,000 ┆ SK22 4AH ┆ … ┆ DERBYSHIR ┆ A         ┆ A         ┆ null      │\n",
       "│            ┆ AD31-555E- ┆         ┆          ┆   ┆ E         ┆           ┆           ┆           │\n",
       "│            ┆ E063-4704A ┆         ┆          ┆   ┆           ┆           ┆           ┆           │\n",
       "│            ┆ …          ┆         ┆          ┆   ┆           ┆           ┆           ┆           │\n",
       "│ 2024-08-19 ┆ {25E9DA80- ┆ 197,500 ┆ S42 5FN  ┆ … ┆ DERBYSHIR ┆ A         ┆ A         ┆ null      │\n",
       "│            ┆ AD32-555E- ┆         ┆          ┆   ┆ E         ┆           ┆           ┆           │\n",
       "│            ┆ E063-4704A ┆         ┆          ┆   ┆           ┆           ┆           ┆           │\n",
       "│            ┆ …          ┆         ┆          ┆   ┆           ┆           ┆           ┆           │\n",
       "│ 2024-07-17 ┆ {25E9DA80- ┆ 275,000 ┆ S40 3HF  ┆ … ┆ DERBYSHIR ┆ A         ┆ A         ┆ null      │\n",
       "│            ┆ AD33-555E- ┆         ┆          ┆   ┆ E         ┆           ┆           ┆           │\n",
       "│            ┆ E063-4704A ┆         ┆          ┆   ┆           ┆           ┆           ┆           │\n",
       "│            ┆ …          ┆         ┆          ┆   ┆           ┆           ┆           ┆           │\n",
       "│ 2024-02-09 ┆ {25E9DA80- ┆ 216,000 ┆ DE24 3GP ┆ … ┆ CITY OF   ┆ A         ┆ A         ┆ null      │\n",
       "│            ┆ AD34-555E- ┆         ┆          ┆   ┆ DERBY     ┆           ┆           ┆           │\n",
       "│            ┆ E063-4704A ┆         ┆          ┆   ┆           ┆           ┆           ┆           │\n",
       "│            ┆ …          ┆         ┆          ┆   ┆           ┆           ┆           ┆           │\n",
       "│ …          ┆ …          ┆ …       ┆ …        ┆ … ┆ …         ┆ …         ┆ …         ┆ …         │\n",
       "│ 2024-02-02 ┆ {1EAE3DF6- ┆ 300,000 ┆ OX7 5EB  ┆ … ┆ OXFORDSHI ┆ A         ┆ A         ┆ null      │\n",
       "│            ┆ DFF6-9EB1- ┆         ┆          ┆   ┆ RE        ┆           ┆           ┆           │\n",
       "│            ┆ E063-4704A ┆         ┆          ┆   ┆           ┆           ┆           ┆           │\n",
       "│            ┆ …          ┆         ┆          ┆   ┆           ┆           ┆           ┆           │\n",
       "│ 2024-07-11 ┆ {1EAE3DF6- ┆ 640,000 ┆ OX4 4XQ  ┆ … ┆ OXFORDSHI ┆ A         ┆ A         ┆ null      │\n",
       "│            ┆ DFF7-9EB1- ┆         ┆          ┆   ┆ RE        ┆           ┆           ┆           │\n",
       "│            ┆ E063-4704A ┆         ┆          ┆   ┆           ┆           ┆           ┆           │\n",
       "│            ┆ …          ┆         ┆          ┆   ┆           ┆           ┆           ┆           │\n",
       "│ 2024-07-19 ┆ {1EAE3DF6- ┆ 600,000 ┆ OX11 9NX ┆ … ┆ OXFORDSHI ┆ A         ┆ A         ┆ null      │\n",
       "│            ┆ DFF8-9EB1- ┆         ┆          ┆   ┆ RE        ┆           ┆           ┆           │\n",
       "│            ┆ E063-4704A ┆         ┆          ┆   ┆           ┆           ┆           ┆           │\n",
       "│            ┆ …          ┆         ┆          ┆   ┆           ┆           ┆           ┆           │\n",
       "│ 2024-06-19 ┆ {1EAE3DF6- ┆ 495,000 ┆ OX25 4NE ┆ … ┆ OXFORDSHI ┆ A         ┆ A         ┆ null      │\n",
       "│            ┆ DFF9-9EB1- ┆         ┆          ┆   ┆ RE        ┆           ┆           ┆           │\n",
       "│            ┆ E063-4704A ┆         ┆          ┆   ┆           ┆           ┆           ┆           │\n",
       "│            ┆ …          ┆         ┆          ┆   ┆           ┆           ┆           ┆           │\n",
       "│ 2024-05-07 ┆ {1EAE3DF6- ┆ 310,000 ┆ OX3 8LX  ┆ … ┆ OXFORDSHI ┆ A         ┆ A         ┆ null      │\n",
       "│            ┆ DFFA-9EB1- ┆         ┆          ┆   ┆ RE        ┆           ┆           ┆           │\n",
       "│            ┆ E063-4704A ┆         ┆          ┆   ┆           ┆           ┆           ┆           │\n",
       "│            ┆ …          ┆         ┆          ┆   ┆           ┆           ┆           ┆           │\n",
       "└────────────┴────────────┴─────────┴──────────┴───┴───────────┴───────────┴───────────┴───────────┘"
      ]
     },
     "execution_count": 31,
     "metadata": {},
     "output_type": "execute_result"
    }
   ],
   "source": [
    "# TODO: verify with Trino\n",
    "pl.read_database(\"SELECT * FROM housing.staging_prices\", engine)"
   ]
  },
  {
   "cell_type": "code",
   "execution_count": 32,
   "id": "41e2514e-4348-4da8-86ba-bd70ca5afc10",
   "metadata": {},
   "outputs": [
    {
     "data": {
      "text/html": [
       "<div><style>\n",
       ".dataframe > thead > tr,\n",
       ".dataframe > tbody > tr {\n",
       "  text-align: right;\n",
       "  white-space: pre-wrap;\n",
       "}\n",
       "</style>\n",
       "<small>shape: (10, 17)</small><table border=\"1\" class=\"dataframe\"><thead><tr><th>date_of_transfer</th><th>transaction_id</th><th>price</th><th>postcode</th><th>property_type</th><th>new_property</th><th>duration</th><th>paon</th><th>saon</th><th>street</th><th>locality</th><th>town</th><th>district</th><th>county</th><th>ppd_category_type</th><th>record_status</th><th>_dwh_loaded_at</th></tr><tr><td>date</td><td>str</td><td>i32</td><td>str</td><td>str</td><td>str</td><td>str</td><td>str</td><td>str</td><td>str</td><td>str</td><td>str</td><td>str</td><td>str</td><td>str</td><td>str</td><td>datetime[μs, UTC]</td></tr></thead><tbody><tr><td>2024-10-02</td><td>&quot;{25E9DA80-AD30-555E-E063-4704A…</td><td>225,000</td><td>&quot;DE6 1TW&quot;</td><td>&quot;S&quot;</td><td>&quot;N&quot;</td><td>&quot;F&quot;</td><td>&quot;48&quot;</td><td>&quot;&quot;</td><td>&quot;ACORN DRIVE&quot;</td><td>&quot;&quot;</td><td>&quot;ASHBOURNE&quot;</td><td>&quot;DERBYSHIRE DALES&quot;</td><td>&quot;DERBYSHIRE&quot;</td><td>&quot;A&quot;</td><td>&quot;A&quot;</td><td>null</td></tr><tr><td>2024-10-04</td><td>&quot;{25E9DA80-AD31-555E-E063-4704A…</td><td>120,000</td><td>&quot;SK22 4AH&quot;</td><td>&quot;F&quot;</td><td>&quot;N&quot;</td><td>&quot;L&quot;</td><td>&quot;8&quot;</td><td>&quot;&quot;</td><td>&quot;MEAL STREET&quot;</td><td>&quot;NEW MILLS&quot;</td><td>&quot;HIGH PEAK&quot;</td><td>&quot;HIGH PEAK&quot;</td><td>&quot;DERBYSHIRE&quot;</td><td>&quot;A&quot;</td><td>&quot;A&quot;</td><td>null</td></tr><tr><td>2024-08-19</td><td>&quot;{25E9DA80-AD32-555E-E063-4704A…</td><td>197,500</td><td>&quot;S42 5FN&quot;</td><td>&quot;T&quot;</td><td>&quot;N&quot;</td><td>&quot;F&quot;</td><td>&quot;24&quot;</td><td>&quot;&quot;</td><td>&quot;FARMHOUSE WAY&quot;</td><td>&quot;GRASSMOOR&quot;</td><td>&quot;CHESTERFIELD&quot;</td><td>&quot;NORTH EAST DERBYSHIRE&quot;</td><td>&quot;DERBYSHIRE&quot;</td><td>&quot;A&quot;</td><td>&quot;A&quot;</td><td>null</td></tr><tr><td>2024-07-17</td><td>&quot;{25E9DA80-AD33-555E-E063-4704A…</td><td>275,000</td><td>&quot;S40 3HF&quot;</td><td>&quot;D&quot;</td><td>&quot;N&quot;</td><td>&quot;F&quot;</td><td>&quot;22&quot;</td><td>&quot;&quot;</td><td>&quot;GREENWAYS&quot;</td><td>&quot;&quot;</td><td>&quot;CHESTERFIELD&quot;</td><td>&quot;CHESTERFIELD&quot;</td><td>&quot;DERBYSHIRE&quot;</td><td>&quot;A&quot;</td><td>&quot;A&quot;</td><td>null</td></tr><tr><td>2024-02-09</td><td>&quot;{25E9DA80-AD34-555E-E063-4704A…</td><td>216,000</td><td>&quot;DE24 3GP&quot;</td><td>&quot;S&quot;</td><td>&quot;N&quot;</td><td>&quot;F&quot;</td><td>&quot;7&quot;</td><td>&quot;&quot;</td><td>&quot;LOWICK CLOSE&quot;</td><td>&quot;&quot;</td><td>&quot;DERBY&quot;</td><td>&quot;CITY OF DERBY&quot;</td><td>&quot;CITY OF DERBY&quot;</td><td>&quot;A&quot;</td><td>&quot;A&quot;</td><td>null</td></tr><tr><td>2024-09-25</td><td>&quot;{25E9DA80-AD35-555E-E063-4704A…</td><td>210,000</td><td>&quot;DE6 5PH&quot;</td><td>&quot;S&quot;</td><td>&quot;N&quot;</td><td>&quot;F&quot;</td><td>&quot;8&quot;</td><td>&quot;&quot;</td><td>&quot;GARDNER COURT&quot;</td><td>&quot;DOVERIDGE&quot;</td><td>&quot;ASHBOURNE&quot;</td><td>&quot;DERBYSHIRE DALES&quot;</td><td>&quot;DERBYSHIRE&quot;</td><td>&quot;A&quot;</td><td>&quot;A&quot;</td><td>null</td></tr><tr><td>2024-08-30</td><td>&quot;{25E9DA80-AD36-555E-E063-4704A…</td><td>220,000</td><td>&quot;S43 4ZD&quot;</td><td>&quot;S&quot;</td><td>&quot;N&quot;</td><td>&quot;F&quot;</td><td>&quot;2&quot;</td><td>&quot;&quot;</td><td>&quot;HAWTHORNE ROAD&quot;</td><td>&quot;BARLBOROUGH&quot;</td><td>&quot;CHESTERFIELD&quot;</td><td>&quot;BOLSOVER&quot;</td><td>&quot;DERBYSHIRE&quot;</td><td>&quot;A&quot;</td><td>&quot;A&quot;</td><td>null</td></tr><tr><td>2024-08-30</td><td>&quot;{25E9DA80-AD37-555E-E063-4704A…</td><td>230,000</td><td>&quot;SK17 7PR&quot;</td><td>&quot;S&quot;</td><td>&quot;N&quot;</td><td>&quot;F&quot;</td><td>&quot;66&quot;</td><td>&quot;&quot;</td><td>&quot;VICTORIA PARK ROAD&quot;</td><td>&quot;&quot;</td><td>&quot;BUXTON&quot;</td><td>&quot;HIGH PEAK&quot;</td><td>&quot;DERBYSHIRE&quot;</td><td>&quot;A&quot;</td><td>&quot;A&quot;</td><td>null</td></tr><tr><td>2024-05-29</td><td>&quot;{25E9DA80-AD38-555E-E063-4704A…</td><td>140,000</td><td>&quot;DE65 6AH&quot;</td><td>&quot;D&quot;</td><td>&quot;N&quot;</td><td>&quot;F&quot;</td><td>&quot;4&quot;</td><td>&quot;&quot;</td><td>&quot;LONGLANDS LANE&quot;</td><td>&quot;FINDERN&quot;</td><td>&quot;DERBY&quot;</td><td>&quot;SOUTH DERBYSHIRE&quot;</td><td>&quot;DERBYSHIRE&quot;</td><td>&quot;A&quot;</td><td>&quot;A&quot;</td><td>null</td></tr><tr><td>2024-09-26</td><td>&quot;{25E9DA80-AD39-555E-E063-4704A…</td><td>205,000</td><td>&quot;DE6 5PH&quot;</td><td>&quot;S&quot;</td><td>&quot;N&quot;</td><td>&quot;F&quot;</td><td>&quot;5&quot;</td><td>&quot;&quot;</td><td>&quot;GARDNER COURT&quot;</td><td>&quot;DOVERIDGE&quot;</td><td>&quot;ASHBOURNE&quot;</td><td>&quot;DERBYSHIRE DALES&quot;</td><td>&quot;DERBYSHIRE&quot;</td><td>&quot;A&quot;</td><td>&quot;A&quot;</td><td>null</td></tr></tbody></table></div>"
      ],
      "text/plain": [
       "shape: (10, 17)\n",
       "┌────────────┬────────────┬─────────┬──────────┬───┬───────────┬───────────┬───────────┬───────────┐\n",
       "│ date_of_tr ┆ transactio ┆ price   ┆ postcode ┆ … ┆ county    ┆ ppd_categ ┆ record_st ┆ _dwh_load │\n",
       "│ ansfer     ┆ n_id       ┆ ---     ┆ ---      ┆   ┆ ---       ┆ ory_type  ┆ atus      ┆ ed_at     │\n",
       "│ ---        ┆ ---        ┆ i32     ┆ str      ┆   ┆ str       ┆ ---       ┆ ---       ┆ ---       │\n",
       "│ date       ┆ str        ┆         ┆          ┆   ┆           ┆ str       ┆ str       ┆ datetime[ │\n",
       "│            ┆            ┆         ┆          ┆   ┆           ┆           ┆           ┆ μs, UTC]  │\n",
       "╞════════════╪════════════╪═════════╪══════════╪═══╪═══════════╪═══════════╪═══════════╪═══════════╡\n",
       "│ 2024-10-02 ┆ {25E9DA80- ┆ 225,000 ┆ DE6 1TW  ┆ … ┆ DERBYSHIR ┆ A         ┆ A         ┆ null      │\n",
       "│            ┆ AD30-555E- ┆         ┆          ┆   ┆ E         ┆           ┆           ┆           │\n",
       "│            ┆ E063-4704A ┆         ┆          ┆   ┆           ┆           ┆           ┆           │\n",
       "│            ┆ …          ┆         ┆          ┆   ┆           ┆           ┆           ┆           │\n",
       "│ 2024-10-04 ┆ {25E9DA80- ┆ 120,000 ┆ SK22 4AH ┆ … ┆ DERBYSHIR ┆ A         ┆ A         ┆ null      │\n",
       "│            ┆ AD31-555E- ┆         ┆          ┆   ┆ E         ┆           ┆           ┆           │\n",
       "│            ┆ E063-4704A ┆         ┆          ┆   ┆           ┆           ┆           ┆           │\n",
       "│            ┆ …          ┆         ┆          ┆   ┆           ┆           ┆           ┆           │\n",
       "│ 2024-08-19 ┆ {25E9DA80- ┆ 197,500 ┆ S42 5FN  ┆ … ┆ DERBYSHIR ┆ A         ┆ A         ┆ null      │\n",
       "│            ┆ AD32-555E- ┆         ┆          ┆   ┆ E         ┆           ┆           ┆           │\n",
       "│            ┆ E063-4704A ┆         ┆          ┆   ┆           ┆           ┆           ┆           │\n",
       "│            ┆ …          ┆         ┆          ┆   ┆           ┆           ┆           ┆           │\n",
       "│ 2024-07-17 ┆ {25E9DA80- ┆ 275,000 ┆ S40 3HF  ┆ … ┆ DERBYSHIR ┆ A         ┆ A         ┆ null      │\n",
       "│            ┆ AD33-555E- ┆         ┆          ┆   ┆ E         ┆           ┆           ┆           │\n",
       "│            ┆ E063-4704A ┆         ┆          ┆   ┆           ┆           ┆           ┆           │\n",
       "│            ┆ …          ┆         ┆          ┆   ┆           ┆           ┆           ┆           │\n",
       "│ 2024-02-09 ┆ {25E9DA80- ┆ 216,000 ┆ DE24 3GP ┆ … ┆ CITY OF   ┆ A         ┆ A         ┆ null      │\n",
       "│            ┆ AD34-555E- ┆         ┆          ┆   ┆ DERBY     ┆           ┆           ┆           │\n",
       "│            ┆ E063-4704A ┆         ┆          ┆   ┆           ┆           ┆           ┆           │\n",
       "│            ┆ …          ┆         ┆          ┆   ┆           ┆           ┆           ┆           │\n",
       "│ 2024-09-25 ┆ {25E9DA80- ┆ 210,000 ┆ DE6 5PH  ┆ … ┆ DERBYSHIR ┆ A         ┆ A         ┆ null      │\n",
       "│            ┆ AD35-555E- ┆         ┆          ┆   ┆ E         ┆           ┆           ┆           │\n",
       "│            ┆ E063-4704A ┆         ┆          ┆   ┆           ┆           ┆           ┆           │\n",
       "│            ┆ …          ┆         ┆          ┆   ┆           ┆           ┆           ┆           │\n",
       "│ 2024-08-30 ┆ {25E9DA80- ┆ 220,000 ┆ S43 4ZD  ┆ … ┆ DERBYSHIR ┆ A         ┆ A         ┆ null      │\n",
       "│            ┆ AD36-555E- ┆         ┆          ┆   ┆ E         ┆           ┆           ┆           │\n",
       "│            ┆ E063-4704A ┆         ┆          ┆   ┆           ┆           ┆           ┆           │\n",
       "│            ┆ …          ┆         ┆          ┆   ┆           ┆           ┆           ┆           │\n",
       "│ 2024-08-30 ┆ {25E9DA80- ┆ 230,000 ┆ SK17 7PR ┆ … ┆ DERBYSHIR ┆ A         ┆ A         ┆ null      │\n",
       "│            ┆ AD37-555E- ┆         ┆          ┆   ┆ E         ┆           ┆           ┆           │\n",
       "│            ┆ E063-4704A ┆         ┆          ┆   ┆           ┆           ┆           ┆           │\n",
       "│            ┆ …          ┆         ┆          ┆   ┆           ┆           ┆           ┆           │\n",
       "│ 2024-05-29 ┆ {25E9DA80- ┆ 140,000 ┆ DE65 6AH ┆ … ┆ DERBYSHIR ┆ A         ┆ A         ┆ null      │\n",
       "│            ┆ AD38-555E- ┆         ┆          ┆   ┆ E         ┆           ┆           ┆           │\n",
       "│            ┆ E063-4704A ┆         ┆          ┆   ┆           ┆           ┆           ┆           │\n",
       "│            ┆ …          ┆         ┆          ┆   ┆           ┆           ┆           ┆           │\n",
       "│ 2024-09-26 ┆ {25E9DA80- ┆ 205,000 ┆ DE6 5PH  ┆ … ┆ DERBYSHIR ┆ A         ┆ A         ┆ null      │\n",
       "│            ┆ AD39-555E- ┆         ┆          ┆   ┆ E         ┆           ┆           ┆           │\n",
       "│            ┆ E063-4704A ┆         ┆          ┆   ┆           ┆           ┆           ┆           │\n",
       "│            ┆ …          ┆         ┆          ┆   ┆           ┆           ┆           ┆           │\n",
       "└────────────┴────────────┴─────────┴──────────┴───┴───────────┴───────────┴───────────┴───────────┘"
      ]
     },
     "execution_count": 32,
     "metadata": {},
     "output_type": "execute_result"
    }
   ],
   "source": [
    "pl.scan_iceberg(house_prices_t).limit(10).collect()"
   ]
  },
  {
   "cell_type": "markdown",
   "id": "32dbd33b-1a41-4a09-9648-523ca7b79d70",
   "metadata": {},
   "source": [
    "## Cleaning up\n",
    "\n",
    "Iceberg provides various routines to clean up files and metadata as orphan files and unused data pile up. Depending on your catalogue, this may be an automated process, but we can manually trigger them via Trino"
   ]
  },
  {
   "cell_type": "code",
   "execution_count": 34,
   "id": "8035e0ca-1cab-4326-b1c5-6779edbe60ba",
   "metadata": {},
   "outputs": [],
   "source": [
    "with engine.connect() as conn:\n",
    "    # Remove snapshots and corresponding metadata\n",
    "    conn.execute(\n",
    "        sa.text(\n",
    "            \"ALTER TABLE housing.staging_prices EXECUTE expire_snapshots(retention_threshold => '0d')\"\n",
    "        )\n",
    "    ).fetchone()\n",
    "    # Remove orphaned files not referenced by metadata\n",
    "    conn.execute(\n",
    "        sa.text(\n",
    "            \"ALTER table housing.staging_prices execute remove_orphan_files(retention_threshold => '0d')\"\n",
    "        )\n",
    "    ).fetchone()\n",
    "    # Co-locate manifests based on partitioning\n",
    "    conn.execute(\n",
    "        sa.text(\"ALTER TABLE housing.staging_prices EXECUTE optimize_manifests\")\n",
    "    ).fetchone()\n",
    "    # Compact small files into larger\n",
    "    conn.execute(\n",
    "        sa.text(\"ALTER table housing.staging_prices execute optimize\")\n",
    "    ).fetchone()"
   ]
  },
  {
   "cell_type": "code",
   "execution_count": 36,
   "id": "0903ab9c-3d68-464a-89ba-7ed1b5568faf",
   "metadata": {},
   "outputs": [
    {
     "data": {
      "text/html": [
       "<div><style>\n",
       ".dataframe > thead > tr,\n",
       ".dataframe > tbody > tr {\n",
       "  text-align: right;\n",
       "  white-space: pre-wrap;\n",
       "}\n",
       "</style>\n",
       "<small>shape: (1, 4)</small><table border=\"1\" class=\"dataframe\"><thead><tr><th>made_current_at</th><th>snapshot_id</th><th>parent_id</th><th>is_current_ancestor</th></tr><tr><td>datetime[μs, UTC]</td><td>i64</td><td>i64</td><td>bool</td></tr></thead><tbody><tr><td>2025-05-25 10:39:28.248 UTC</td><td>561444497425091042</td><td>null</td><td>true</td></tr></tbody></table></div>"
      ],
      "text/plain": [
       "shape: (1, 4)\n",
       "┌─────────────────────────────┬────────────────────┬───────────┬─────────────────────┐\n",
       "│ made_current_at             ┆ snapshot_id        ┆ parent_id ┆ is_current_ancestor │\n",
       "│ ---                         ┆ ---                ┆ ---       ┆ ---                 │\n",
       "│ datetime[μs, UTC]           ┆ i64                ┆ i64       ┆ bool                │\n",
       "╞═════════════════════════════╪════════════════════╪═══════════╪═════════════════════╡\n",
       "│ 2025-05-25 10:39:28.248 UTC ┆ 561444497425091042 ┆ null      ┆ true                │\n",
       "└─────────────────────────────┴────────────────────┴───────────┴─────────────────────┘"
      ]
     },
     "metadata": {},
     "output_type": "display_data"
    }
   ],
   "source": [
    "with pl.Config(thousands_separator=None):\n",
    "    display(pl.read_database(\n",
    "        'SELECT * FROM housing.\"staging_prices$history\" order by made_current_at', engine\n",
    "    ))"
   ]
  }
 ],
 "metadata": {
  "kernelspec": {
   "display_name": "Python 3 (ipykernel)",
   "language": "python",
   "name": "python3"
  },
  "language_info": {
   "codemirror_mode": {
    "name": "ipython",
    "version": 3
   },
   "file_extension": ".py",
   "mimetype": "text/x-python",
   "name": "python",
   "nbconvert_exporter": "python",
   "pygments_lexer": "ipython3",
   "version": "3.12.10"
  }
 },
 "nbformat": 4,
 "nbformat_minor": 5
}
