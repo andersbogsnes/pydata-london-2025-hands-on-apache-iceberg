{
 "cells": [
  {
   "cell_type": "markdown",
   "id": "2fcaffdc-97d8-4ac5-bc9b-1ae0799aed30",
   "metadata": {},
   "source": [
    "# Exercise: Is your house worth it's weight in <Blank>?\n",
    "\n",
    "We can use the same approach to compare the profits with any other asset. \n",
    "\n",
    "In the `data` folder, you will find the daily price of various other assets. In the `stocks` folder we have daily stock price data for a few different companies:\n",
    "- AAPL == Apple\n",
    "- GRG == Greggs\n",
    "- JWD == Wetherspoons\n",
    "- NDA == Nordea\n",
    "- NVO == Novo Nordisk\n",
    "- SPY == S&P 500\n",
    "\n",
    "Get creative - as long as you can find daily price data of something, you can run a comparison\n",
    "\n",
    "The steps are similar to our gold question - load the source data into Iceberg and join it with the profits data\n",
    "Your task is to load the data into Iceberg and then we want to find out what would have happened if instead of buying a house, we would have bought an equivalent sum of gold. Finally we want to compare what the average profit would be if everyone had invested in gold instead of buying a house.\n",
    "\n",
    "For simplicity, use the daily Closing price.\n",
    "\n",
    "Breaking it down:\n",
    "\n",
    "1. Load daily asset prices into Iceberg - for bonus points, apply a yearly partitioning scheme\n",
    "2. For each row in our `profits` table, calculate the equivalent amount of the asset they would have been able to purchase on that date\n",
    "3. Calculate the total value of that amount of the asset on the sell date\n",
    "4. Calculate the profit of our asset trade\n",
    "5. Compare asset profit with housing profit\n",
    "\n",
    "Use your favourite query engine!"
   ]
  },
  {
   "cell_type": "code",
   "execution_count": null,
   "id": "f4a785c3-5c1c-4ad3-bfcc-74679eccb353",
   "metadata": {},
   "outputs": [],
   "source": []
  }
 ],
 "metadata": {
  "kernelspec": {
   "display_name": "Python 3 (ipykernel)",
   "language": "python",
   "name": "python3"
  },
  "language_info": {
   "codemirror_mode": {
    "name": "ipython",
    "version": 3
   },
   "file_extension": ".py",
   "mimetype": "text/x-python",
   "name": "python",
   "nbconvert_exporter": "python",
   "pygments_lexer": "ipython3",
   "version": "3.12.11"
  }
 },
 "nbformat": 4,
 "nbformat_minor": 5
}
