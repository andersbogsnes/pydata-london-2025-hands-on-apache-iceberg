{
 "cells": [
  {
   "cell_type": "code",
   "execution_count": 37,
   "id": "Hbol",
   "metadata": {
    "ExecuteTime": {
     "end_time": "2025-05-05T19:19:36.071666Z",
     "start_time": "2025-05-05T19:19:35.247612Z"
    },
    "marimo": {
     "config": {
      "hide_code": true
     }
    }
   },
   "outputs": [],
   "source": [
    "from pyiceberg.catalog.rest import RestCatalog\n",
    "import polars as pl\n",
    "from IPython.display import JSON, Markdown"
   ]
  },
  {
   "cell_type": "markdown",
   "id": "MJUe",
   "metadata": {
    "marimo": {
     "config": {
      "hide_code": true
     }
    }
   },
   "source": [
    "# Hands-on with Apache Iceberg\n",
    "\n",
    "Welcome to this hands-on demo of working with Apache Iceberg. In this demo, our motivating task is to answer the question:\n",
    "\n",
    "**\"Is my house worth its weight in gold?\"**\n",
    "\n",
    "We will go through some fundamentals of working with Iceberg, and then work our way towards answering this important question. There will be some exercises along the way, so you can get some practice. That also means, you need to remember to execute every cell!\n",
    "\n",
    "The data we will be working with today is the **Price Paid Dataset** (aka PPD) which is published on `gov.uk`. The description of the website states\n",
    "\n",
    "> Our Price Paid Data includes information on all property sales in England and Wales that are sold for value and are lodged with us for registration.\n",
    "\n",
    "As per the license terms, we include the proper attribution and a link to OGL [here](https://www.nationalarchives.gov.uk/doc/open-government-licence/version/3/)\n",
    "> Contains HM Land Registry data © Crown copyright and database right 2021. This data is licensed under the Open Government Licence v3.0.\n",
    "\n",
    "\n",
    "```{note}\n",
    "Before we get started, make sure you've run the `iceberg bootstrap` command to setup the infrastructure\n",
    "```"
   ]
  },
  {
   "cell_type": "markdown",
   "id": "vblA",
   "metadata": {
    "marimo": {
     "config": {
      "hide_code": true
     }
    }
   },
   "source": [
    "## The Catalog\n",
    "\n",
    "First we need a catalog - the catalog keeps track of the current version of the metadata as well as mapping a given table name to a given set of metadata. \n",
    "\n",
    "The choice of catalog is the first choice to make when adopting Iceberg. \n",
    "\n",
    "Sometimes it's made for you e.g `AWS Glue` for Athena-based workloads, `Polaris/Open Catalog` for Snowflake based teams or `Unity Catalog` for the Databricks fans. \n",
    "\n",
    "Sometimes you're looking for specific features such as `Nessie`'s focus on branching workflows, or the compatibility of `Hive Meta Store`. \n",
    "\n",
    "Today we will be using `Lakekeeper`, a Rust implementation that is a single binary. Note that while Lakekeeper has full support for AuthN/AuthZ, for the sake of the demo, no protection is being used - don't do this at home kids!"
   ]
  },
  {
   "cell_type": "code",
   "execution_count": 2,
   "id": "bkHC",
   "metadata": {
    "ExecuteTime": {
     "end_time": "2025-05-04T19:15:30.914212Z",
     "start_time": "2025-05-04T19:15:30.871978Z"
    }
   },
   "outputs": [],
   "source": [
    "# The warehouse was created during the bootstrapping process, it's specific to Lakekeeper\n",
    "catalog = RestCatalog(\"lakekeeper\", uri=\"http://lakekeeper:8181/catalog\", warehouse=\"lakehouse\")"
   ]
  },
  {
   "cell_type": "markdown",
   "id": "8a8a5c20-0746-4b2a-9bb5-e24ce5649a3d",
   "metadata": {},
   "source": [
    "In Iceberg, a catalog is responsible for any number of sets of tables, where a set of tables is grouped into a namespace. The catalogue can specify additional layers, such as the `warehouse` abstraction offered by Lakekeeper, though this is not required by the Iceberg spec.\n",
    "\n",
    "Since we're dealing with house prices, let's go with `housing` - you could imagine we would want to add other interesting housing-related datasets at a later point"
   ]
  },
  {
   "cell_type": "code",
   "execution_count": 3,
   "id": "lEQa",
   "metadata": {},
   "outputs": [],
   "source": [
    "catalog.create_namespace_if_not_exists(\"housing\")"
   ]
  },
  {
   "cell_type": "markdown",
   "id": "PKri",
   "metadata": {
    "marimo": {
     "config": {
      "hide_code": true
     }
    }
   },
   "source": [
    "## Schema\n",
    "\n",
    "Next we need a schema. In PyIceberg, we can define the schema using Pyiceberg types, though many query engines also support creating Iceberg tables via SQL."
   ]
  },
  {
   "cell_type": "code",
   "execution_count": 6,
   "id": "Xref",
   "metadata": {},
   "outputs": [],
   "source": [
    "from pyiceberg.schema import Schema, NestedField, StringType, IntegerType, DateType\n",
    "\n",
    "housing_prices_schema = Schema(\n",
    "    NestedField(\n",
    "        1,\n",
    "        \"transaction_id\",\n",
    "        StringType(),\n",
    "        required=True,\n",
    "        doc=\"A reference number which is generated automatically recording each published sale. The number is unique and will change each time a sale is recorded.\",\n",
    "    ),\n",
    "    NestedField(\n",
    "        2, \"price\", IntegerType(), required=True, doc=\"Sale price stated on the transfer deed.\"\n",
    "    ),\n",
    "    NestedField(\n",
    "        3,\n",
    "        \"date_of_transfer\",\n",
    "        DateType(),\n",
    "        required=True,\n",
    "        doc=\"Date when the sale was completed, as stated on the transfer deed.\",\n",
    "    ),\n",
    "    NestedField(\n",
    "        4,\n",
    "        \"postcode\",\n",
    "        StringType(),\n",
    "        required=True,\n",
    "        doc=\"This is the postcode used at the time of the original transaction. Note that postcodes can be reallocated and these changes are not reflected in the Price Paid Dataset.\",\n",
    "    ),\n",
    "    NestedField(\n",
    "        5,\n",
    "        \"property_type\",\n",
    "        StringType(),\n",
    "        required=True,\n",
    "        doc=\"D = Detached, S = Semi-Detached, T = Terraced, F = Flats/Maisonettes, O = Other\",\n",
    "    ),\n",
    "    NestedField(\n",
    "        6,\n",
    "        \"new_property\",\n",
    "        StringType(),\n",
    "        required=True,\n",
    "        doc=\"Indicates the age of the property and applies to all price paid transactions, residential and non-residential. Y = a newly built property, N = an established residential building\",\n",
    "    ),\n",
    "    NestedField(\n",
    "        7,\n",
    "        \"duration\",\n",
    "        StringType(),\n",
    "        required=True,\n",
    "        doc=\"Relates to the tenure: F = Freehold, L= Leasehold etc. Note that HM Land Registry does not record leases of 7 years or less in the Price Paid Dataset.\",\n",
    "    ),\n",
    "    NestedField(\n",
    "        8,\n",
    "        \"paon\",\n",
    "        StringType(),\n",
    "        doc=\"Primary Addressable Object Name. Typically the house number or name\",\n",
    "    ),\n",
    "    NestedField(\n",
    "        9,\n",
    "        \"saon\",\n",
    "        StringType(),\n",
    "        doc=\"Secondary Addressable Object Name. Where a property has been divided into separate units (for example, flats), the PAON (above) will identify the building and a SAON will be specified that identifies the separate unit/flat.\",\n",
    "    ),\n",
    "    NestedField(10, \"street\", StringType()),\n",
    "    NestedField(11, \"locality\", StringType()),\n",
    "    NestedField(12, \"town\", StringType()),\n",
    "    NestedField(13, \"district\", StringType()),\n",
    "    NestedField(14, \"county\", StringType()),\n",
    "    NestedField(\n",
    "        15,\n",
    "        \"ppd_category_type\",\n",
    "        StringType(),\n",
    "        doc=\"Indicates the type of Price Paid transaction. A = Standard Price Paid entry, includes single residential property sold for value. B = Additional Price Paid entry including transfers under a power of sale/repossessions, buy-to-lets (where they can be identified by a Mortgage), transfers to non-private individuals and sales where the property type is classed as ‘Other’.\",\n",
    "    ),\n",
    "    NestedField(16, \"record_status\", StringType(),\n",
    "                doc=\"Indicates additions, changes and deletions to the records. A = Addition C = Change D = Delete\"),\n",
    "    identifier_field_ids=[1],\n",
    ")"
   ]
  },
  {
   "cell_type": "markdown",
   "id": "SFPL",
   "metadata": {
    "marimo": {
     "config": {
      "hide_code": true
     }
    }
   },
   "source": [
    "## The Table\n",
    "\n",
    "With our schema in place, we're now ready to create the table. Here we are directly specifying the location where the table will be stored, though depending on the catalog, it can automatically assign a location."
   ]
  },
  {
   "cell_type": "code",
   "execution_count": 7,
   "id": "BYtC",
   "metadata": {},
   "outputs": [],
   "source": [
    "house_prices_t = catalog.create_table_if_not_exists(\"housing.staging_prices\", schema=housing_prices_schema,\n",
    "                                                    location=\"s3://warehouse/housing/staging\")"
   ]
  },
  {
   "cell_type": "markdown",
   "id": "RGSE",
   "metadata": {
    "marimo": {
     "config": {
      "hide_code": true
     }
    }
   },
   "source": [
    "## The Data\n",
    "Pyiceberg relies on Apache Arrow as its Data Interchange Format, so we need to read in our CSV files and convert them to Arrow. \n",
    "\n",
    "We need to do some light processing of the data, like setting the headers and casting the dtypes properly. "
   ]
  },
  {
   "cell_type": "code",
   "execution_count": 10,
   "id": "Kclp",
   "metadata": {},
   "outputs": [
    {
     "data": {
      "text/html": [
       "<div><style>\n",
       ".dataframe > thead > tr,\n",
       ".dataframe > tbody > tr {\n",
       "  text-align: right;\n",
       "  white-space: pre-wrap;\n",
       "}\n",
       "</style>\n",
       "<small>shape: (704_344, 16)</small><table border=\"1\" class=\"dataframe\"><thead><tr><th>transaction_id</th><th>price</th><th>date_of_transfer</th><th>postcode</th><th>property_type</th><th>new_property</th><th>duration</th><th>paon</th><th>saon</th><th>street</th><th>locality</th><th>town</th><th>district</th><th>county</th><th>ppd_category_type</th><th>record_status</th></tr><tr><td>str</td><td>i64</td><td>date</td><td>str</td><td>str</td><td>str</td><td>str</td><td>str</td><td>str</td><td>str</td><td>str</td><td>str</td><td>str</td><td>str</td><td>str</td><td>str</td></tr></thead><tbody><tr><td>&quot;{25E9DA80-AD30-555E-E063-4704A…</td><td>225000</td><td>2024-10-02</td><td>&quot;DE6 1TW&quot;</td><td>&quot;S&quot;</td><td>&quot;N&quot;</td><td>&quot;F&quot;</td><td>&quot;48&quot;</td><td>&quot;&quot;</td><td>&quot;ACORN DRIVE&quot;</td><td>&quot;&quot;</td><td>&quot;ASHBOURNE&quot;</td><td>&quot;DERBYSHIRE DALES&quot;</td><td>&quot;DERBYSHIRE&quot;</td><td>&quot;A&quot;</td><td>&quot;A&quot;</td></tr><tr><td>&quot;{25E9DA80-AD31-555E-E063-4704A…</td><td>120000</td><td>2024-10-04</td><td>&quot;SK22 4AH&quot;</td><td>&quot;F&quot;</td><td>&quot;N&quot;</td><td>&quot;L&quot;</td><td>&quot;8&quot;</td><td>&quot;&quot;</td><td>&quot;MEAL STREET&quot;</td><td>&quot;NEW MILLS&quot;</td><td>&quot;HIGH PEAK&quot;</td><td>&quot;HIGH PEAK&quot;</td><td>&quot;DERBYSHIRE&quot;</td><td>&quot;A&quot;</td><td>&quot;A&quot;</td></tr><tr><td>&quot;{25E9DA80-AD32-555E-E063-4704A…</td><td>197500</td><td>2024-08-19</td><td>&quot;S42 5FN&quot;</td><td>&quot;T&quot;</td><td>&quot;N&quot;</td><td>&quot;F&quot;</td><td>&quot;24&quot;</td><td>&quot;&quot;</td><td>&quot;FARMHOUSE WAY&quot;</td><td>&quot;GRASSMOOR&quot;</td><td>&quot;CHESTERFIELD&quot;</td><td>&quot;NORTH EAST DERBYSHIRE&quot;</td><td>&quot;DERBYSHIRE&quot;</td><td>&quot;A&quot;</td><td>&quot;A&quot;</td></tr><tr><td>&quot;{25E9DA80-AD33-555E-E063-4704A…</td><td>275000</td><td>2024-07-17</td><td>&quot;S40 3HF&quot;</td><td>&quot;D&quot;</td><td>&quot;N&quot;</td><td>&quot;F&quot;</td><td>&quot;22&quot;</td><td>&quot;&quot;</td><td>&quot;GREENWAYS&quot;</td><td>&quot;&quot;</td><td>&quot;CHESTERFIELD&quot;</td><td>&quot;CHESTERFIELD&quot;</td><td>&quot;DERBYSHIRE&quot;</td><td>&quot;A&quot;</td><td>&quot;A&quot;</td></tr><tr><td>&quot;{25E9DA80-AD34-555E-E063-4704A…</td><td>216000</td><td>2024-02-09</td><td>&quot;DE24 3GP&quot;</td><td>&quot;S&quot;</td><td>&quot;N&quot;</td><td>&quot;F&quot;</td><td>&quot;7&quot;</td><td>&quot;&quot;</td><td>&quot;LOWICK CLOSE&quot;</td><td>&quot;&quot;</td><td>&quot;DERBY&quot;</td><td>&quot;CITY OF DERBY&quot;</td><td>&quot;CITY OF DERBY&quot;</td><td>&quot;A&quot;</td><td>&quot;A&quot;</td></tr><tr><td>&hellip;</td><td>&hellip;</td><td>&hellip;</td><td>&hellip;</td><td>&hellip;</td><td>&hellip;</td><td>&hellip;</td><td>&hellip;</td><td>&hellip;</td><td>&hellip;</td><td>&hellip;</td><td>&hellip;</td><td>&hellip;</td><td>&hellip;</td><td>&hellip;</td><td>&hellip;</td></tr><tr><td>&quot;{1EAE3DF6-DFF6-9EB1-E063-4704A…</td><td>300000</td><td>2024-02-02</td><td>&quot;OX7 5EB&quot;</td><td>&quot;T&quot;</td><td>&quot;N&quot;</td><td>&quot;F&quot;</td><td>&quot;11A&quot;</td><td>&quot;&quot;</td><td>&quot;BURFORD ROAD&quot;</td><td>&quot;&quot;</td><td>&quot;CHIPPING NORTON&quot;</td><td>&quot;WEST OXFORDSHIRE&quot;</td><td>&quot;OXFORDSHIRE&quot;</td><td>&quot;A&quot;</td><td>&quot;A&quot;</td></tr><tr><td>&quot;{1EAE3DF6-DFF7-9EB1-E063-4704A…</td><td>640000</td><td>2024-07-11</td><td>&quot;OX4 4XQ&quot;</td><td>&quot;T&quot;</td><td>&quot;N&quot;</td><td>&quot;F&quot;</td><td>&quot;73&quot;</td><td>&quot;&quot;</td><td>&quot;THE CRESCENT&quot;</td><td>&quot;LITTLEMORE&quot;</td><td>&quot;OXFORD&quot;</td><td>&quot;OXFORD&quot;</td><td>&quot;OXFORDSHIRE&quot;</td><td>&quot;A&quot;</td><td>&quot;A&quot;</td></tr><tr><td>&quot;{1EAE3DF6-DFF8-9EB1-E063-4704A…</td><td>600000</td><td>2024-07-19</td><td>&quot;OX11 9NX&quot;</td><td>&quot;D&quot;</td><td>&quot;N&quot;</td><td>&quot;F&quot;</td><td>&quot;HIGHLANDS&quot;</td><td>&quot;&quot;</td><td>&quot;LONDON ROAD&quot;</td><td>&quot;BLEWBURY&quot;</td><td>&quot;DIDCOT&quot;</td><td>&quot;VALE OF WHITE HORSE&quot;</td><td>&quot;OXFORDSHIRE&quot;</td><td>&quot;A&quot;</td><td>&quot;A&quot;</td></tr><tr><td>&quot;{1EAE3DF6-DFF9-9EB1-E063-4704A…</td><td>495000</td><td>2024-06-19</td><td>&quot;OX25 4NE&quot;</td><td>&quot;S&quot;</td><td>&quot;N&quot;</td><td>&quot;F&quot;</td><td>&quot;86&quot;</td><td>&quot;&quot;</td><td>&quot;SOUTH STREET&quot;</td><td>&quot;CAULCOTT&quot;</td><td>&quot;BICESTER&quot;</td><td>&quot;CHERWELL&quot;</td><td>&quot;OXFORDSHIRE&quot;</td><td>&quot;A&quot;</td><td>&quot;A&quot;</td></tr><tr><td>&quot;{1EAE3DF6-DFFA-9EB1-E063-4704A…</td><td>310000</td><td>2024-05-07</td><td>&quot;OX3 8LX&quot;</td><td>&quot;T&quot;</td><td>&quot;N&quot;</td><td>&quot;F&quot;</td><td>&quot;147&quot;</td><td>&quot;&quot;</td><td>&quot;GREEN RIDGES&quot;</td><td>&quot;HEADINGTON&quot;</td><td>&quot;OXFORD&quot;</td><td>&quot;OXFORD&quot;</td><td>&quot;OXFORDSHIRE&quot;</td><td>&quot;A&quot;</td><td>&quot;A&quot;</td></tr></tbody></table></div>"
      ],
      "text/plain": [
       "shape: (704_344, 16)\n",
       "┌────────────┬────────┬────────────┬──────────┬───┬────────────┬───────────┬───────────┬───────────┐\n",
       "│ transactio ┆ price  ┆ date_of_tr ┆ postcode ┆ … ┆ district   ┆ county    ┆ ppd_categ ┆ record_st │\n",
       "│ n_id       ┆ ---    ┆ ansfer     ┆ ---      ┆   ┆ ---        ┆ ---       ┆ ory_type  ┆ atus      │\n",
       "│ ---        ┆ i64    ┆ ---        ┆ str      ┆   ┆ str        ┆ str       ┆ ---       ┆ ---       │\n",
       "│ str        ┆        ┆ date       ┆          ┆   ┆            ┆           ┆ str       ┆ str       │\n",
       "╞════════════╪════════╪════════════╪══════════╪═══╪════════════╪═══════════╪═══════════╪═══════════╡\n",
       "│ {25E9DA80- ┆ 225000 ┆ 2024-10-02 ┆ DE6 1TW  ┆ … ┆ DERBYSHIRE ┆ DERBYSHIR ┆ A         ┆ A         │\n",
       "│ AD30-555E- ┆        ┆            ┆          ┆   ┆ DALES      ┆ E         ┆           ┆           │\n",
       "│ E063-4704A ┆        ┆            ┆          ┆   ┆            ┆           ┆           ┆           │\n",
       "│ …          ┆        ┆            ┆          ┆   ┆            ┆           ┆           ┆           │\n",
       "│ {25E9DA80- ┆ 120000 ┆ 2024-10-04 ┆ SK22 4AH ┆ … ┆ HIGH PEAK  ┆ DERBYSHIR ┆ A         ┆ A         │\n",
       "│ AD31-555E- ┆        ┆            ┆          ┆   ┆            ┆ E         ┆           ┆           │\n",
       "│ E063-4704A ┆        ┆            ┆          ┆   ┆            ┆           ┆           ┆           │\n",
       "│ …          ┆        ┆            ┆          ┆   ┆            ┆           ┆           ┆           │\n",
       "│ {25E9DA80- ┆ 197500 ┆ 2024-08-19 ┆ S42 5FN  ┆ … ┆ NORTH EAST ┆ DERBYSHIR ┆ A         ┆ A         │\n",
       "│ AD32-555E- ┆        ┆            ┆          ┆   ┆ DERBYSHIRE ┆ E         ┆           ┆           │\n",
       "│ E063-4704A ┆        ┆            ┆          ┆   ┆            ┆           ┆           ┆           │\n",
       "│ …          ┆        ┆            ┆          ┆   ┆            ┆           ┆           ┆           │\n",
       "│ {25E9DA80- ┆ 275000 ┆ 2024-07-17 ┆ S40 3HF  ┆ … ┆ CHESTERFIE ┆ DERBYSHIR ┆ A         ┆ A         │\n",
       "│ AD33-555E- ┆        ┆            ┆          ┆   ┆ LD         ┆ E         ┆           ┆           │\n",
       "│ E063-4704A ┆        ┆            ┆          ┆   ┆            ┆           ┆           ┆           │\n",
       "│ …          ┆        ┆            ┆          ┆   ┆            ┆           ┆           ┆           │\n",
       "│ {25E9DA80- ┆ 216000 ┆ 2024-02-09 ┆ DE24 3GP ┆ … ┆ CITY OF    ┆ CITY OF   ┆ A         ┆ A         │\n",
       "│ AD34-555E- ┆        ┆            ┆          ┆   ┆ DERBY      ┆ DERBY     ┆           ┆           │\n",
       "│ E063-4704A ┆        ┆            ┆          ┆   ┆            ┆           ┆           ┆           │\n",
       "│ …          ┆        ┆            ┆          ┆   ┆            ┆           ┆           ┆           │\n",
       "│ …          ┆ …      ┆ …          ┆ …        ┆ … ┆ …          ┆ …         ┆ …         ┆ …         │\n",
       "│ {1EAE3DF6- ┆ 300000 ┆ 2024-02-02 ┆ OX7 5EB  ┆ … ┆ WEST OXFOR ┆ OXFORDSHI ┆ A         ┆ A         │\n",
       "│ DFF6-9EB1- ┆        ┆            ┆          ┆   ┆ DSHIRE     ┆ RE        ┆           ┆           │\n",
       "│ E063-4704A ┆        ┆            ┆          ┆   ┆            ┆           ┆           ┆           │\n",
       "│ …          ┆        ┆            ┆          ┆   ┆            ┆           ┆           ┆           │\n",
       "│ {1EAE3DF6- ┆ 640000 ┆ 2024-07-11 ┆ OX4 4XQ  ┆ … ┆ OXFORD     ┆ OXFORDSHI ┆ A         ┆ A         │\n",
       "│ DFF7-9EB1- ┆        ┆            ┆          ┆   ┆            ┆ RE        ┆           ┆           │\n",
       "│ E063-4704A ┆        ┆            ┆          ┆   ┆            ┆           ┆           ┆           │\n",
       "│ …          ┆        ┆            ┆          ┆   ┆            ┆           ┆           ┆           │\n",
       "│ {1EAE3DF6- ┆ 600000 ┆ 2024-07-19 ┆ OX11 9NX ┆ … ┆ VALE OF    ┆ OXFORDSHI ┆ A         ┆ A         │\n",
       "│ DFF8-9EB1- ┆        ┆            ┆          ┆   ┆ WHITE      ┆ RE        ┆           ┆           │\n",
       "│ E063-4704A ┆        ┆            ┆          ┆   ┆ HORSE      ┆           ┆           ┆           │\n",
       "│ …          ┆        ┆            ┆          ┆   ┆            ┆           ┆           ┆           │\n",
       "│ {1EAE3DF6- ┆ 495000 ┆ 2024-06-19 ┆ OX25 4NE ┆ … ┆ CHERWELL   ┆ OXFORDSHI ┆ A         ┆ A         │\n",
       "│ DFF9-9EB1- ┆        ┆            ┆          ┆   ┆            ┆ RE        ┆           ┆           │\n",
       "│ E063-4704A ┆        ┆            ┆          ┆   ┆            ┆           ┆           ┆           │\n",
       "│ …          ┆        ┆            ┆          ┆   ┆            ┆           ┆           ┆           │\n",
       "│ {1EAE3DF6- ┆ 310000 ┆ 2024-05-07 ┆ OX3 8LX  ┆ … ┆ OXFORD     ┆ OXFORDSHI ┆ A         ┆ A         │\n",
       "│ DFFA-9EB1- ┆        ┆            ┆          ┆   ┆            ┆ RE        ┆           ┆           │\n",
       "│ E063-4704A ┆        ┆            ┆          ┆   ┆            ┆           ┆           ┆           │\n",
       "│ …          ┆        ┆            ┆          ┆   ┆            ┆           ┆           ┆           │\n",
       "└────────────┴────────┴────────────┴──────────┴───┴────────────┴───────────┴───────────┴───────────┘"
      ]
     },
     "execution_count": 10,
     "metadata": {},
     "output_type": "execute_result"
    }
   ],
   "source": [
    "def read_house_prices(csv_filename: str) -> pl.DataFrame:\n",
    "    \"\"\"Read a CSV file and return a polars Dataframe\"\"\"\n",
    "    # Columns sourced from data dictionary\n",
    "    house_prices_columns = [\n",
    "        \"transaction_id\",\n",
    "        \"price\",\n",
    "        \"date_of_transfer\",\n",
    "        \"postcode\",\n",
    "        \"property_type\",\n",
    "        \"new_property\",\n",
    "        \"duration\",\n",
    "        \"paon\",\n",
    "        \"saon\",\n",
    "        \"street\",\n",
    "        \"locality\",\n",
    "        \"town\",\n",
    "        \"district\",\n",
    "        \"county\",\n",
    "        \"ppd_category_type\",\n",
    "        \"record_status\",\n",
    "    ]\n",
    "\n",
    "    df = (\n",
    "        pl.scan_csv(\n",
    "            csv_filename,\n",
    "            has_header=False,\n",
    "            new_columns=house_prices_columns,\n",
    "        )\n",
    "        .with_columns(pl.col(\"date_of_transfer\").str.to_date(\"%Y-%m-%d %H:%M\"))\n",
    "        .collect()\n",
    "    )\n",
    "    return df\n",
    "\n",
    "\n",
    "house_prices_2024 = read_house_prices(\"data/house_prices/pp-2024.csv\")\n",
    "house_prices_2024"
   ]
  },
  {
   "cell_type": "markdown",
   "id": "Hstk",
   "metadata": {
    "marimo": {
     "config": {
      "hide_code": true
     }
    }
   },
   "source": [
    "## Writing the Data\n",
    "Now that we have the data loaded, we're ready to write it out to our Iceberg table. We have 3 different strategies available to us:\n",
    "\n",
    "- append\n",
    "- overwrite\n",
    "- upsert\n",
    "\n",
    "Append and overwrite should hopefully make sense.\n",
    "Upsert is a recent addition to Pyiceberg, where given a key column, it will compare the keys to existing rows to decide if a given row should be updated or inserted.\n",
    "\n",
    "For now, let's stick to `append`.\n",
    "\n",
    "```{note} Note on schemas\n",
    "PyIceberg is strict on the schema - by default, Polars is a bit looser, so we need to `cast` the exported polars arrow table into the same schema as we've defined - otherwise our write will be rejected.\n",
    "```\n"
   ]
  },
  {
   "cell_type": "code",
   "execution_count": 12,
   "id": "nWHF",
   "metadata": {},
   "outputs": [],
   "source": [
    "# Export to arrow and cast it\n",
    "house_prices_arrow = (\n",
    "    house_prices_2024\n",
    "    .to_arrow()  # Export to an Arrow table\n",
    "    .cast(housing_prices_schema.as_arrow())  # Cast into the Iceberg schema\n",
    ")\n",
    "# Append data to the table\n",
    "house_prices_t.append(house_prices_arrow)"
   ]
  },
  {
   "cell_type": "markdown",
   "id": "iLit",
   "metadata": {
    "marimo": {
     "config": {
      "hide_code": true
     }
    }
   },
   "source": [
    "# Metadata - the secret of Iceberg\n",
    "\n",
    "Now that we've created a schema for our houseprices, let's take a look at the metadata that we've created. In Iceberg, all the metadata is stored in a combination of JSON and Avro, and all the metadata is stored in the S3 buckets directly, which is what makes it accessible from the various query engines.\n",
    "\n",
    "Let's have a look at the different files we've created out of the box. First, we need something that can talk to S3 - in this case our Minio S3 - enter fsspec and s3fs"
   ]
  },
  {
   "cell_type": "code",
   "execution_count": 13,
   "id": "ZHCJ",
   "metadata": {},
   "outputs": [
    {
     "data": {
      "text/plain": [
       "['warehouse/0196de4d-1bc7-74f1-b526-86d2954c9779', 'warehouse/housing']"
      ]
     },
     "execution_count": 13,
     "metadata": {},
     "output_type": "execute_result"
    }
   ],
   "source": [
    "import s3fs\n",
    "\n",
    "fs = s3fs.S3FileSystem(endpoint_url=\"http://minio:9000\", key=\"minio\", secret=\"minio1234\")\n",
    "fs.ls(\"/warehouse\")"
   ]
  },
  {
   "cell_type": "markdown",
   "id": "ROlb",
   "metadata": {
    "marimo": {
     "config": {
      "hide_code": true
     }
    }
   },
   "source": [
    "Now that we have something that can read our S3 bucket in Minio, we need to know where our Iceberg Catalogue put our most recent table update. PyIceberg stores that information in the `metadata_location` of the table"
   ]
  },
  {
   "cell_type": "code",
   "execution_count": 14,
   "id": "qnkX",
   "metadata": {},
   "outputs": [
    {
     "data": {
      "text/plain": [
       "'s3://warehouse/housing/staging/metadata/00001-0196ea36-62b8-7a00-9db8-d80cbb149565.gz.metadata.json'"
      ]
     },
     "execution_count": 14,
     "metadata": {},
     "output_type": "execute_result"
    }
   ],
   "source": [
    "house_prices_t.metadata_location"
   ]
  },
  {
   "cell_type": "markdown",
   "id": "TqIu",
   "metadata": {
    "marimo": {
     "config": {
      "hide_code": true
     }
    }
   },
   "source": [
    "That's a gzipped json file, another implementation choice from our Iceberg Rest Catalog, so we need to do some extra work to read our metadata."
   ]
  },
  {
   "cell_type": "code",
   "execution_count": 15,
   "id": "Vxnm",
   "metadata": {},
   "outputs": [],
   "source": [
    "from fsspec import AbstractFileSystem\n",
    "from pyiceberg.table import Table\n",
    "from typing import Any\n",
    "import gzip\n",
    "import json\n",
    "\n",
    "\n",
    "def get_iceberg_metadata(fs: AbstractFileSystem, table: Table) -> dict[str, Any]:\n",
    "    \"\"\"Unzips the gzipped json and reads it into a dictionary\"\"\"\n",
    "    with fs.open(table.metadata_location) as f, gzip.open(f) as g_f:\n",
    "        return json.load(g_f)"
   ]
  },
  {
   "cell_type": "markdown",
   "id": "DnEU",
   "metadata": {
    "marimo": {
     "config": {
      "hide_code": true
     }
    }
   },
   "source": [
    "Let's have a look at the contents of the current metadata.json to get a better understanding of how Iceberg does what it does"
   ]
  },
  {
   "cell_type": "code",
   "execution_count": 16,
   "id": "ulZA",
   "metadata": {},
   "outputs": [
    {
     "data": {
      "application/json": {
       "current-schema-id": 0,
       "current-snapshot-id": 8580268702316459000,
       "default-sort-order-id": 0,
       "default-spec-id": 0,
       "format-version": 2,
       "last-column-id": 16,
       "last-partition-id": 999,
       "last-sequence-number": 1,
       "last-updated-ms": 1747686154277,
       "location": "s3://warehouse/housing/staging",
       "metadata-log": [
        {
         "metadata-file": "s3://warehouse/housing/staging/metadata/00000-0196ea31-9521-7dd3-91ed-a5cfb483e5da.gz.metadata.json",
         "timestamp-ms": 1747685840162
        }
       ],
       "partition-specs": [
        {
         "fields": [],
         "spec-id": 0
        }
       ],
       "refs": {
        "main": {
         "snapshot-id": 8580268702316459000,
         "type": "branch"
        }
       },
       "schemas": [
        {
         "fields": [
          {
           "doc": "A reference number which is generated automatically recording each published sale. The number is unique and will change each time a sale is recorded.",
           "id": 1,
           "name": "transaction_id",
           "required": true,
           "type": "string"
          },
          {
           "doc": "Sale price stated on the transfer deed.",
           "id": 2,
           "name": "price",
           "required": true,
           "type": "int"
          },
          {
           "doc": "Date when the sale was completed, as stated on the transfer deed.",
           "id": 3,
           "name": "date_of_transfer",
           "required": true,
           "type": "date"
          },
          {
           "doc": "This is the postcode used at the time of the original transaction. Note that postcodes can be reallocated and these changes are not reflected in the Price Paid Dataset.",
           "id": 4,
           "name": "postcode",
           "required": true,
           "type": "string"
          },
          {
           "doc": "D = Detached, S = Semi-Detached, T = Terraced, F = Flats/Maisonettes, O = Other",
           "id": 5,
           "name": "property_type",
           "required": true,
           "type": "string"
          },
          {
           "doc": "Indicates the age of the property and applies to all price paid transactions, residential and non-residential. Y = a newly built property, N = an established residential building",
           "id": 6,
           "name": "new_property",
           "required": true,
           "type": "string"
          },
          {
           "doc": "Relates to the tenure: F = Freehold, L= Leasehold etc. Note that HM Land Registry does not record leases of 7 years or less in the Price Paid Dataset.",
           "id": 7,
           "name": "duration",
           "required": true,
           "type": "string"
          },
          {
           "doc": "Primary Addressable Object Name. Typically the house number or name",
           "id": 8,
           "name": "paon",
           "required": false,
           "type": "string"
          },
          {
           "doc": "Secondary Addressable Object Name. Where a property has been divided into separate units (for example, flats), the PAON (above) will identify the building and a SAON will be specified that identifies the separate unit/flat.",
           "id": 9,
           "name": "saon",
           "required": false,
           "type": "string"
          },
          {
           "id": 10,
           "name": "street",
           "required": false,
           "type": "string"
          },
          {
           "id": 11,
           "name": "locality",
           "required": false,
           "type": "string"
          },
          {
           "id": 12,
           "name": "town",
           "required": false,
           "type": "string"
          },
          {
           "id": 13,
           "name": "district",
           "required": false,
           "type": "string"
          },
          {
           "id": 14,
           "name": "county",
           "required": false,
           "type": "string"
          },
          {
           "doc": "Indicates the type of Price Paid transaction. A = Standard Price Paid entry, includes single residential property sold for value. B = Additional Price Paid entry including transfers under a power of sale/repossessions, buy-to-lets (where they can be identified by a Mortgage), transfers to non-private individuals and sales where the property type is classed as ‘Other’.",
           "id": 15,
           "name": "ppd_category_type",
           "required": false,
           "type": "string"
          },
          {
           "doc": "Indicates additions, changes and deletions to the records. A = Addition C = Change D = Delete",
           "id": 16,
           "name": "record_status",
           "required": false,
           "type": "string"
          }
         ],
         "identifier-field-ids": [
          1
         ],
         "schema-id": 0,
         "type": "struct"
        }
       ],
       "snapshot-log": [
        {
         "snapshot-id": 8580268702316459000,
         "timestamp-ms": 1747686154277
        }
       ],
       "snapshots": [
        {
         "manifest-list": "s3://warehouse/housing/staging/metadata/snap-8580268702316458514-0-f9ba0a23-01a5-4b0e-94b4-690ee85e28fd.avro",
         "schema-id": 0,
         "sequence-number": 1,
         "snapshot-id": 8580268702316459000,
         "summary": {
          "added-data-files": "1",
          "added-files-size": "15839390",
          "added-records": "704344",
          "operation": "append",
          "total-data-files": "1",
          "total-delete-files": "0",
          "total-equality-deletes": "0",
          "total-files-size": "15839390",
          "total-position-deletes": "0",
          "total-records": "704344"
         },
         "timestamp-ms": 1747686154277
        }
       ],
       "sort-orders": [
        {
         "fields": [],
         "order-id": 0
        }
       ],
       "table-uuid": "0196ea31-951e-7670-b90f-431c26f85b9e"
      },
      "text/plain": [
       "<IPython.core.display.JSON object>"
      ]
     },
     "execution_count": 16,
     "metadata": {
      "application/json": {
       "expanded": false,
       "root": "root"
      }
     },
     "output_type": "execute_result"
    }
   ],
   "source": [
    "from IPython.display import JSON\n",
    "JSON(get_iceberg_metadata(fs, house_prices_t))"
   ]
  },
  {
   "cell_type": "markdown",
   "id": "ecfG",
   "metadata": {
    "marimo": {
     "config": {
      "hide_code": true
     }
    }
   },
   "source": [
    "The next layer of the onion is the `manifest list` - we can find that by looking in the `snapshots` array for the current snapshot. The manifest list is stored as Avro for faster scanning so we need to convert it to a dictionary for our simple human brains to understand."
   ]
  },
  {
   "cell_type": "code",
   "execution_count": 24,
   "id": "Pvdt",
   "metadata": {},
   "outputs": [
    {
     "data": {
      "application/json": [
       {
        "added_files_count": 1,
        "added_rows_count": 704344,
        "added_snapshot_id": 8580268702316459000,
        "content": 0,
        "deleted_files_count": 0,
        "deleted_rows_count": 0,
        "existing_files_count": 0,
        "existing_rows_count": 0,
        "key_metadata": null,
        "manifest_length": 7196,
        "manifest_path": "s3://warehouse/housing/staging/metadata/f9ba0a23-01a5-4b0e-94b4-690ee85e28fd-m0.avro",
        "min_sequence_number": 1,
        "partition_spec_id": 0,
        "partitions": [],
        "sequence_number": 1
       }
      ],
      "text/plain": [
       "<IPython.core.display.JSON object>"
      ]
     },
     "execution_count": 24,
     "metadata": {
      "application/json": {
       "expanded": false,
       "root": "root"
      }
     },
     "output_type": "execute_result"
    }
   ],
   "source": [
    "def get_iceberg_manifest_list(fs: AbstractFileSystem, table: Table) -> dict[str, Any]:\n",
    "    \"\"\"Fetch the manifest list for the current snapshot and convert to a list of dicts\"\"\"\n",
    "    manifest_list = table.current_snapshot().manifest_list\n",
    "    with fs.open(manifest_list) as f:\n",
    "        return pl.read_avro(f).to_dicts()\n",
    "\n",
    "\n",
    "JSON(get_iceberg_manifest_list(fs, house_prices_t))"
   ]
  },
  {
   "cell_type": "markdown",
   "id": "ZBYS",
   "metadata": {
    "marimo": {
     "config": {
      "hide_code": true
     }
    }
   },
   "source": [
    "We can see that the manifest list unsurprisingly contains a list of manifests, alongside some metadata for that particular manifest. We've only written one file to our Iceberg table, so we have only one manifest currently. Let's dig one level deeper and open that manifest."
   ]
  },
  {
   "cell_type": "code",
   "execution_count": 27,
   "id": "8bef2319-a5c3-4ad6-bbe2-8c0315aea375",
   "metadata": {},
   "outputs": [
    {
     "data": {
      "text/plain": [
       "[{'manifest_path': 's3://warehouse/housing/staging/metadata/f9ba0a23-01a5-4b0e-94b4-690ee85e28fd-m0.avro',\n",
       "  'manifest_length': 7196,\n",
       "  'partition_spec_id': 0,\n",
       "  'content': 0,\n",
       "  'sequence_number': 1,\n",
       "  'min_sequence_number': 1,\n",
       "  'added_snapshot_id': 8580268702316458514,\n",
       "  'added_files_count': 1,\n",
       "  'existing_files_count': 0,\n",
       "  'deleted_files_count': 0,\n",
       "  'added_rows_count': 704344,\n",
       "  'existing_rows_count': 0,\n",
       "  'deleted_rows_count': 0,\n",
       "  'partitions': [],\n",
       "  'key_metadata': None}]"
      ]
     },
     "execution_count": 27,
     "metadata": {},
     "output_type": "execute_result"
    }
   ],
   "source": [
    "get_iceberg_manifest_list(fs, house_prices_t)"
   ]
  },
  {
   "cell_type": "code",
   "execution_count": 28,
   "id": "aLJB",
   "metadata": {},
   "outputs": [
    {
     "data": {
      "application/json": [
       [
        {
         "data_file": {
          "column_sizes": [
           {
            "key": 1,
            "value": 1857270
           },
           {
            "key": 2,
            "value": 1171650
           },
           {
            "key": 3,
            "value": 786736
           },
           {
            "key": 4,
            "value": 3741052
           },
           {
            "key": 5,
            "value": 217075
           },
           {
            "key": 6,
            "value": 10797
           },
           {
            "key": 7,
            "value": 76793
           },
           {
            "key": 8,
            "value": 1441513
           },
           {
            "key": 9,
            "value": 243825
           },
           {
            "key": 10,
            "value": 3550436
           },
           {
            "key": 11,
            "value": 761585
           },
           {
            "key": 12,
            "value": 930307
           },
           {
            "key": 13,
            "value": 736777
           },
           {
            "key": 14,
            "value": 295337
           },
           {
            "key": 15,
            "value": 11034
           },
           {
            "key": 16,
            "value": 79
           }
          ],
          "content": 0,
          "equality_ids": null,
          "file_format": "PARQUET",
          "file_path": "s3://warehouse/housing/staging/data/00000-0-f9ba0a23-01a5-4b0e-94b4-690ee85e28fd.parquet",
          "file_size_in_bytes": 15839390,
          "key_metadata": null,
          "lower_bounds": [
           {
            "key": 1,
            "value": "ezEwNjE3NDZELTk4QUEtMw=="
           },
           {
            "key": 2,
            "value": "AQAAAA=="
           },
           {
            "key": 3,
            "value": "C00AAA=="
           },
           {
            "key": 4,
            "value": ""
           },
           {
            "key": 5,
            "value": "RA=="
           },
           {
            "key": 6,
            "value": "Tg=="
           },
           {
            "key": 7,
            "value": "Rg=="
           },
           {
            "key": 8,
            "value": "KEkgQlJBSU4p"
           },
           {
            "key": 9,
            "value": ""
           },
           {
            "key": 10,
            "value": ""
           },
           {
            "key": 11,
            "value": ""
           },
           {
            "key": 12,
            "value": "QUJCT1RTIExBTkdMRVk="
           },
           {
            "key": 13,
            "value": "QURVUg=="
           },
           {
            "key": 14,
            "value": "QkFUSCBBTkQgTk9SVEggRQ=="
           },
           {
            "key": 15,
            "value": "QQ=="
           },
           {
            "key": 16,
            "value": "QQ=="
           }
          ],
          "nan_value_counts": [],
          "null_value_counts": [
           {
            "key": 1,
            "value": 0
           },
           {
            "key": 2,
            "value": 0
           },
           {
            "key": 3,
            "value": 0
           },
           {
            "key": 4,
            "value": 0
           },
           {
            "key": 5,
            "value": 0
           },
           {
            "key": 6,
            "value": 0
           },
           {
            "key": 7,
            "value": 0
           },
           {
            "key": 8,
            "value": 0
           },
           {
            "key": 9,
            "value": 0
           },
           {
            "key": 10,
            "value": 0
           },
           {
            "key": 11,
            "value": 0
           },
           {
            "key": 12,
            "value": 0
           },
           {
            "key": 13,
            "value": 0
           },
           {
            "key": 14,
            "value": 0
           },
           {
            "key": 15,
            "value": 0
           },
           {
            "key": 16,
            "value": 0
           }
          ],
          "partition": {},
          "record_count": 704344,
          "sort_order_id": null,
          "split_offsets": [
           4
          ],
          "upper_bounds": [
           {
            "key": 1,
            "value": "ezJGN0YyQjQzLUYxMEYtRg=="
           },
           {
            "key": 2,
            "value": "APhZDQ=="
           },
           {
            "key": 3,
            "value": "eE4AAA=="
           },
           {
            "key": 4,
            "value": "WU85MCAxVVU="
           },
           {
            "key": 5,
            "value": "VA=="
           },
           {
            "key": 6,
            "value": "WQ=="
           },
           {
            "key": 7,
            "value": "TA=="
           },
           {
            "key": 8,
            "value": "WlVSSUNIIEhPVVNF"
           },
           {
            "key": 9,
            "value": "Wk9ORSA1"
           },
           {
            "key": 10,
            "value": "WlVSSUNIIEdBUkRFTlM="
           },
           {
            "key": 11,
            "value": "Wk9VQ0g="
           },
           {
            "key": 12,
            "value": "WVNUUkFEIE1FVVJJRw=="
           },
           {
            "key": 13,
            "value": "WU9SSw=="
           },
           {
            "key": 14,
            "value": "WU9SSw=="
           },
           {
            "key": 15,
            "value": "Qg=="
           },
           {
            "key": 16,
            "value": "QQ=="
           }
          ],
          "value_counts": [
           {
            "key": 1,
            "value": 704344
           },
           {
            "key": 2,
            "value": 704344
           },
           {
            "key": 3,
            "value": 704344
           },
           {
            "key": 4,
            "value": 704344
           },
           {
            "key": 5,
            "value": 704344
           },
           {
            "key": 6,
            "value": 704344
           },
           {
            "key": 7,
            "value": 704344
           },
           {
            "key": 8,
            "value": 704344
           },
           {
            "key": 9,
            "value": 704344
           },
           {
            "key": 10,
            "value": 704344
           },
           {
            "key": 11,
            "value": 704344
           },
           {
            "key": 12,
            "value": 704344
           },
           {
            "key": 13,
            "value": 704344
           },
           {
            "key": 14,
            "value": 704344
           },
           {
            "key": 15,
            "value": 704344
           },
           {
            "key": 16,
            "value": 704344
           }
          ]
         },
         "file_sequence_number": null,
         "sequence_number": null,
         "snapshot_id": 8580268702316459000,
         "status": 1
        }
       ]
      ],
      "text/plain": [
       "<IPython.core.display.JSON object>"
      ]
     },
     "execution_count": 28,
     "metadata": {
      "application/json": {
       "expanded": false,
       "root": "root"
      }
     },
     "output_type": "execute_result"
    }
   ],
   "source": [
    "def get_iceberg_manifest(fs: AbstractFileSystem, table: Table) -> list[list[dict[str, Any]]]:\n",
    "    \"\"\"Get the manifest at the `index` position from the manifest list. \"\"\"\n",
    "    manifest_list = get_iceberg_manifest_list(fs, table)\n",
    "    manifest_lists = []\n",
    "    for manifest_meta in manifest_list:\n",
    "        with fs.open(manifest_meta[\"manifest_path\"]) as m_f:\n",
    "            manifest = pl.read_avro(m_f).to_dicts()\n",
    "            manifest_lists.append(manifest)\n",
    "    return manifest_lists\n",
    "\n",
    "JSON(get_iceberg_manifest(fs, house_prices_t))"
   ]
  },
  {
   "cell_type": "markdown",
   "id": "nHfw",
   "metadata": {
    "marimo": {
     "config": {
      "hide_code": true
     }
    }
   },
   "source": [
    "At the lowest level of metadata, we can see a reference to the actual data files that make up the physical data stored on disk.\n",
    "\n",
    "```{note} Iceberg vs Hive\n",
    "Note that Iceberg keeps track of the physical files of the table, unlike something like Hive, which uses a folder as a logical container for a table.\n",
    "```\n",
    "\n",
    "We can see that the Parquet file is pretty much as we expected, and we can read it directly as any other Parquet files - Iceberg doesn't specify anything about the physical data - it just stores metadata about the files to enable all the features of Iceberg"
   ]
  },
  {
   "cell_type": "code",
   "execution_count": 31,
   "id": "xXTn",
   "metadata": {},
   "outputs": [
    {
     "data": {
      "text/html": [
       "<div><style>\n",
       ".dataframe > thead > tr,\n",
       ".dataframe > tbody > tr {\n",
       "  text-align: right;\n",
       "  white-space: pre-wrap;\n",
       "}\n",
       "</style>\n",
       "<small>shape: (704_344, 16)</small><table border=\"1\" class=\"dataframe\"><thead><tr><th>transaction_id</th><th>price</th><th>date_of_transfer</th><th>postcode</th><th>property_type</th><th>new_property</th><th>duration</th><th>paon</th><th>saon</th><th>street</th><th>locality</th><th>town</th><th>district</th><th>county</th><th>ppd_category_type</th><th>record_status</th></tr><tr><td>str</td><td>i32</td><td>date</td><td>str</td><td>str</td><td>str</td><td>str</td><td>str</td><td>str</td><td>str</td><td>str</td><td>str</td><td>str</td><td>str</td><td>str</td><td>str</td></tr></thead><tbody><tr><td>&quot;{25E9DA80-AD30-555E-E063-4704A…</td><td>225000</td><td>2024-10-02</td><td>&quot;DE6 1TW&quot;</td><td>&quot;S&quot;</td><td>&quot;N&quot;</td><td>&quot;F&quot;</td><td>&quot;48&quot;</td><td>&quot;&quot;</td><td>&quot;ACORN DRIVE&quot;</td><td>&quot;&quot;</td><td>&quot;ASHBOURNE&quot;</td><td>&quot;DERBYSHIRE DALES&quot;</td><td>&quot;DERBYSHIRE&quot;</td><td>&quot;A&quot;</td><td>&quot;A&quot;</td></tr><tr><td>&quot;{25E9DA80-AD31-555E-E063-4704A…</td><td>120000</td><td>2024-10-04</td><td>&quot;SK22 4AH&quot;</td><td>&quot;F&quot;</td><td>&quot;N&quot;</td><td>&quot;L&quot;</td><td>&quot;8&quot;</td><td>&quot;&quot;</td><td>&quot;MEAL STREET&quot;</td><td>&quot;NEW MILLS&quot;</td><td>&quot;HIGH PEAK&quot;</td><td>&quot;HIGH PEAK&quot;</td><td>&quot;DERBYSHIRE&quot;</td><td>&quot;A&quot;</td><td>&quot;A&quot;</td></tr><tr><td>&quot;{25E9DA80-AD32-555E-E063-4704A…</td><td>197500</td><td>2024-08-19</td><td>&quot;S42 5FN&quot;</td><td>&quot;T&quot;</td><td>&quot;N&quot;</td><td>&quot;F&quot;</td><td>&quot;24&quot;</td><td>&quot;&quot;</td><td>&quot;FARMHOUSE WAY&quot;</td><td>&quot;GRASSMOOR&quot;</td><td>&quot;CHESTERFIELD&quot;</td><td>&quot;NORTH EAST DERBYSHIRE&quot;</td><td>&quot;DERBYSHIRE&quot;</td><td>&quot;A&quot;</td><td>&quot;A&quot;</td></tr><tr><td>&quot;{25E9DA80-AD33-555E-E063-4704A…</td><td>275000</td><td>2024-07-17</td><td>&quot;S40 3HF&quot;</td><td>&quot;D&quot;</td><td>&quot;N&quot;</td><td>&quot;F&quot;</td><td>&quot;22&quot;</td><td>&quot;&quot;</td><td>&quot;GREENWAYS&quot;</td><td>&quot;&quot;</td><td>&quot;CHESTERFIELD&quot;</td><td>&quot;CHESTERFIELD&quot;</td><td>&quot;DERBYSHIRE&quot;</td><td>&quot;A&quot;</td><td>&quot;A&quot;</td></tr><tr><td>&quot;{25E9DA80-AD34-555E-E063-4704A…</td><td>216000</td><td>2024-02-09</td><td>&quot;DE24 3GP&quot;</td><td>&quot;S&quot;</td><td>&quot;N&quot;</td><td>&quot;F&quot;</td><td>&quot;7&quot;</td><td>&quot;&quot;</td><td>&quot;LOWICK CLOSE&quot;</td><td>&quot;&quot;</td><td>&quot;DERBY&quot;</td><td>&quot;CITY OF DERBY&quot;</td><td>&quot;CITY OF DERBY&quot;</td><td>&quot;A&quot;</td><td>&quot;A&quot;</td></tr><tr><td>&hellip;</td><td>&hellip;</td><td>&hellip;</td><td>&hellip;</td><td>&hellip;</td><td>&hellip;</td><td>&hellip;</td><td>&hellip;</td><td>&hellip;</td><td>&hellip;</td><td>&hellip;</td><td>&hellip;</td><td>&hellip;</td><td>&hellip;</td><td>&hellip;</td><td>&hellip;</td></tr><tr><td>&quot;{1EAE3DF6-DFF6-9EB1-E063-4704A…</td><td>300000</td><td>2024-02-02</td><td>&quot;OX7 5EB&quot;</td><td>&quot;T&quot;</td><td>&quot;N&quot;</td><td>&quot;F&quot;</td><td>&quot;11A&quot;</td><td>&quot;&quot;</td><td>&quot;BURFORD ROAD&quot;</td><td>&quot;&quot;</td><td>&quot;CHIPPING NORTON&quot;</td><td>&quot;WEST OXFORDSHIRE&quot;</td><td>&quot;OXFORDSHIRE&quot;</td><td>&quot;A&quot;</td><td>&quot;A&quot;</td></tr><tr><td>&quot;{1EAE3DF6-DFF7-9EB1-E063-4704A…</td><td>640000</td><td>2024-07-11</td><td>&quot;OX4 4XQ&quot;</td><td>&quot;T&quot;</td><td>&quot;N&quot;</td><td>&quot;F&quot;</td><td>&quot;73&quot;</td><td>&quot;&quot;</td><td>&quot;THE CRESCENT&quot;</td><td>&quot;LITTLEMORE&quot;</td><td>&quot;OXFORD&quot;</td><td>&quot;OXFORD&quot;</td><td>&quot;OXFORDSHIRE&quot;</td><td>&quot;A&quot;</td><td>&quot;A&quot;</td></tr><tr><td>&quot;{1EAE3DF6-DFF8-9EB1-E063-4704A…</td><td>600000</td><td>2024-07-19</td><td>&quot;OX11 9NX&quot;</td><td>&quot;D&quot;</td><td>&quot;N&quot;</td><td>&quot;F&quot;</td><td>&quot;HIGHLANDS&quot;</td><td>&quot;&quot;</td><td>&quot;LONDON ROAD&quot;</td><td>&quot;BLEWBURY&quot;</td><td>&quot;DIDCOT&quot;</td><td>&quot;VALE OF WHITE HORSE&quot;</td><td>&quot;OXFORDSHIRE&quot;</td><td>&quot;A&quot;</td><td>&quot;A&quot;</td></tr><tr><td>&quot;{1EAE3DF6-DFF9-9EB1-E063-4704A…</td><td>495000</td><td>2024-06-19</td><td>&quot;OX25 4NE&quot;</td><td>&quot;S&quot;</td><td>&quot;N&quot;</td><td>&quot;F&quot;</td><td>&quot;86&quot;</td><td>&quot;&quot;</td><td>&quot;SOUTH STREET&quot;</td><td>&quot;CAULCOTT&quot;</td><td>&quot;BICESTER&quot;</td><td>&quot;CHERWELL&quot;</td><td>&quot;OXFORDSHIRE&quot;</td><td>&quot;A&quot;</td><td>&quot;A&quot;</td></tr><tr><td>&quot;{1EAE3DF6-DFFA-9EB1-E063-4704A…</td><td>310000</td><td>2024-05-07</td><td>&quot;OX3 8LX&quot;</td><td>&quot;T&quot;</td><td>&quot;N&quot;</td><td>&quot;F&quot;</td><td>&quot;147&quot;</td><td>&quot;&quot;</td><td>&quot;GREEN RIDGES&quot;</td><td>&quot;HEADINGTON&quot;</td><td>&quot;OXFORD&quot;</td><td>&quot;OXFORD&quot;</td><td>&quot;OXFORDSHIRE&quot;</td><td>&quot;A&quot;</td><td>&quot;A&quot;</td></tr></tbody></table></div>"
      ],
      "text/plain": [
       "shape: (704_344, 16)\n",
       "┌────────────┬────────┬────────────┬──────────┬───┬────────────┬───────────┬───────────┬───────────┐\n",
       "│ transactio ┆ price  ┆ date_of_tr ┆ postcode ┆ … ┆ district   ┆ county    ┆ ppd_categ ┆ record_st │\n",
       "│ n_id       ┆ ---    ┆ ansfer     ┆ ---      ┆   ┆ ---        ┆ ---       ┆ ory_type  ┆ atus      │\n",
       "│ ---        ┆ i32    ┆ ---        ┆ str      ┆   ┆ str        ┆ str       ┆ ---       ┆ ---       │\n",
       "│ str        ┆        ┆ date       ┆          ┆   ┆            ┆           ┆ str       ┆ str       │\n",
       "╞════════════╪════════╪════════════╪══════════╪═══╪════════════╪═══════════╪═══════════╪═══════════╡\n",
       "│ {25E9DA80- ┆ 225000 ┆ 2024-10-02 ┆ DE6 1TW  ┆ … ┆ DERBYSHIRE ┆ DERBYSHIR ┆ A         ┆ A         │\n",
       "│ AD30-555E- ┆        ┆            ┆          ┆   ┆ DALES      ┆ E         ┆           ┆           │\n",
       "│ E063-4704A ┆        ┆            ┆          ┆   ┆            ┆           ┆           ┆           │\n",
       "│ …          ┆        ┆            ┆          ┆   ┆            ┆           ┆           ┆           │\n",
       "│ {25E9DA80- ┆ 120000 ┆ 2024-10-04 ┆ SK22 4AH ┆ … ┆ HIGH PEAK  ┆ DERBYSHIR ┆ A         ┆ A         │\n",
       "│ AD31-555E- ┆        ┆            ┆          ┆   ┆            ┆ E         ┆           ┆           │\n",
       "│ E063-4704A ┆        ┆            ┆          ┆   ┆            ┆           ┆           ┆           │\n",
       "│ …          ┆        ┆            ┆          ┆   ┆            ┆           ┆           ┆           │\n",
       "│ {25E9DA80- ┆ 197500 ┆ 2024-08-19 ┆ S42 5FN  ┆ … ┆ NORTH EAST ┆ DERBYSHIR ┆ A         ┆ A         │\n",
       "│ AD32-555E- ┆        ┆            ┆          ┆   ┆ DERBYSHIRE ┆ E         ┆           ┆           │\n",
       "│ E063-4704A ┆        ┆            ┆          ┆   ┆            ┆           ┆           ┆           │\n",
       "│ …          ┆        ┆            ┆          ┆   ┆            ┆           ┆           ┆           │\n",
       "│ {25E9DA80- ┆ 275000 ┆ 2024-07-17 ┆ S40 3HF  ┆ … ┆ CHESTERFIE ┆ DERBYSHIR ┆ A         ┆ A         │\n",
       "│ AD33-555E- ┆        ┆            ┆          ┆   ┆ LD         ┆ E         ┆           ┆           │\n",
       "│ E063-4704A ┆        ┆            ┆          ┆   ┆            ┆           ┆           ┆           │\n",
       "│ …          ┆        ┆            ┆          ┆   ┆            ┆           ┆           ┆           │\n",
       "│ {25E9DA80- ┆ 216000 ┆ 2024-02-09 ┆ DE24 3GP ┆ … ┆ CITY OF    ┆ CITY OF   ┆ A         ┆ A         │\n",
       "│ AD34-555E- ┆        ┆            ┆          ┆   ┆ DERBY      ┆ DERBY     ┆           ┆           │\n",
       "│ E063-4704A ┆        ┆            ┆          ┆   ┆            ┆           ┆           ┆           │\n",
       "│ …          ┆        ┆            ┆          ┆   ┆            ┆           ┆           ┆           │\n",
       "│ …          ┆ …      ┆ …          ┆ …        ┆ … ┆ …          ┆ …         ┆ …         ┆ …         │\n",
       "│ {1EAE3DF6- ┆ 300000 ┆ 2024-02-02 ┆ OX7 5EB  ┆ … ┆ WEST OXFOR ┆ OXFORDSHI ┆ A         ┆ A         │\n",
       "│ DFF6-9EB1- ┆        ┆            ┆          ┆   ┆ DSHIRE     ┆ RE        ┆           ┆           │\n",
       "│ E063-4704A ┆        ┆            ┆          ┆   ┆            ┆           ┆           ┆           │\n",
       "│ …          ┆        ┆            ┆          ┆   ┆            ┆           ┆           ┆           │\n",
       "│ {1EAE3DF6- ┆ 640000 ┆ 2024-07-11 ┆ OX4 4XQ  ┆ … ┆ OXFORD     ┆ OXFORDSHI ┆ A         ┆ A         │\n",
       "│ DFF7-9EB1- ┆        ┆            ┆          ┆   ┆            ┆ RE        ┆           ┆           │\n",
       "│ E063-4704A ┆        ┆            ┆          ┆   ┆            ┆           ┆           ┆           │\n",
       "│ …          ┆        ┆            ┆          ┆   ┆            ┆           ┆           ┆           │\n",
       "│ {1EAE3DF6- ┆ 600000 ┆ 2024-07-19 ┆ OX11 9NX ┆ … ┆ VALE OF    ┆ OXFORDSHI ┆ A         ┆ A         │\n",
       "│ DFF8-9EB1- ┆        ┆            ┆          ┆   ┆ WHITE      ┆ RE        ┆           ┆           │\n",
       "│ E063-4704A ┆        ┆            ┆          ┆   ┆ HORSE      ┆           ┆           ┆           │\n",
       "│ …          ┆        ┆            ┆          ┆   ┆            ┆           ┆           ┆           │\n",
       "│ {1EAE3DF6- ┆ 495000 ┆ 2024-06-19 ┆ OX25 4NE ┆ … ┆ CHERWELL   ┆ OXFORDSHI ┆ A         ┆ A         │\n",
       "│ DFF9-9EB1- ┆        ┆            ┆          ┆   ┆            ┆ RE        ┆           ┆           │\n",
       "│ E063-4704A ┆        ┆            ┆          ┆   ┆            ┆           ┆           ┆           │\n",
       "│ …          ┆        ┆            ┆          ┆   ┆            ┆           ┆           ┆           │\n",
       "│ {1EAE3DF6- ┆ 310000 ┆ 2024-05-07 ┆ OX3 8LX  ┆ … ┆ OXFORD     ┆ OXFORDSHI ┆ A         ┆ A         │\n",
       "│ DFFA-9EB1- ┆        ┆            ┆          ┆   ┆            ┆ RE        ┆           ┆           │\n",
       "│ E063-4704A ┆        ┆            ┆          ┆   ┆            ┆           ┆           ┆           │\n",
       "│ …          ┆        ┆            ┆          ┆   ┆            ┆           ┆           ┆           │\n",
       "└────────────┴────────┴────────────┴──────────┴───┴────────────┴───────────┴───────────┴───────────┘"
      ]
     },
     "execution_count": 31,
     "metadata": {},
     "output_type": "execute_result"
    }
   ],
   "source": [
    "def get_iceberg_data_file(fs: AbstractFileSystem, table: Table, index=0) -> pl.DataFrame:\n",
    "    \"\"\"Read the data file from the `index` position in the data_file\"\"\"\n",
    "    manifest = get_iceberg_manifest(fs, table)\n",
    "    with fs.open(manifest[0][index][\"data_file\"][\"file_path\"]) as p_f:\n",
    "        return pl.read_parquet(p_f)\n",
    "\n",
    "\n",
    "get_iceberg_data_file(fs, house_prices_t)"
   ]
  },
  {
   "cell_type": "code",
   "execution_count": 40,
   "id": "AjVT",
   "metadata": {
    "marimo": {
     "config": {
      "hide_code": true
     }
    }
   },
   "outputs": [
    {
     "data": {
      "text/markdown": [
       "\n",
       "In total, on disk, this comes to around \n",
       "15.11 \n",
       "MB, which is pretty small, so we end up only having one data file in our manifest"
      ],
      "text/plain": [
       "<IPython.core.display.Markdown object>"
      ]
     },
     "execution_count": 40,
     "metadata": {},
     "output_type": "execute_result"
    }
   ],
   "source": [
    "Markdown(f\"\"\"\n",
    "In total, on disk, this comes to around \n",
    "{get_iceberg_manifest(fs, house_prices_t)[0][0]['data_file']['file_size_in_bytes'] / 1024 / 1024:0.2f} \n",
    "MB, which is pretty small, so we end up only having one data file in our manifest\"\"\")"
   ]
  },
  {
   "cell_type": "markdown",
   "id": "pHFh",
   "metadata": {
    "marimo": {
     "config": {
      "hide_code": true
     }
    }
   },
   "source": [
    "Let's add some more data. Using PyIceberg, we can easily append more data."
   ]
  },
  {
   "cell_type": "code",
   "execution_count": 42,
   "id": "NCOB",
   "metadata": {},
   "outputs": [
    {
     "name": "stderr",
     "output_type": "stream",
     "text": [
      "/usr/local/lib/python3.12/site-packages/pyiceberg/avro/decoder.py:185: UserWarning: Falling back to pure Python Avro decoder, missing Cython implementation\n",
      "  warnings.warn(\"Falling back to pure Python Avro decoder, missing Cython implementation\")\n"
     ]
    }
   ],
   "source": [
    "house_prices_2023 = read_house_prices(\"data/house_prices/pp-2023.csv\")\n",
    "house_prices_t.append(house_prices_2023.to_arrow().cast(housing_prices_schema.as_arrow()))"
   ]
  },
  {
   "cell_type": "markdown",
   "id": "aqbW",
   "metadata": {
    "marimo": {
     "config": {
      "hide_code": true
     }
    }
   },
   "source": [
    "Now that we have some more data, what do you see that has changed in the metadata?"
   ]
  },
  {
   "cell_type": "code",
   "execution_count": 43,
   "id": "TRpd",
   "metadata": {},
   "outputs": [
    {
     "data": {
      "application/json": {
       "current-schema-id": 0,
       "current-snapshot-id": 5967660870361117000,
       "default-sort-order-id": 0,
       "default-spec-id": 0,
       "format-version": 2,
       "last-column-id": 16,
       "last-partition-id": 999,
       "last-sequence-number": 2,
       "last-updated-ms": 1747687404155,
       "location": "s3://warehouse/housing/staging",
       "metadata-log": [
        {
         "metadata-file": "s3://warehouse/housing/staging/metadata/00000-0196ea31-9521-7dd3-91ed-a5cfb483e5da.gz.metadata.json",
         "timestamp-ms": 1747685840162
        },
        {
         "metadata-file": "s3://warehouse/housing/staging/metadata/00001-0196ea36-62b8-7a00-9db8-d80cbb149565.gz.metadata.json",
         "timestamp-ms": 1747686154277
        }
       ],
       "partition-specs": [
        {
         "fields": [],
         "spec-id": 0
        }
       ],
       "refs": {
        "main": {
         "snapshot-id": 5967660870361117000,
         "type": "branch"
        }
       },
       "schemas": [
        {
         "fields": [
          {
           "doc": "A reference number which is generated automatically recording each published sale. The number is unique and will change each time a sale is recorded.",
           "id": 1,
           "name": "transaction_id",
           "required": true,
           "type": "string"
          },
          {
           "doc": "Sale price stated on the transfer deed.",
           "id": 2,
           "name": "price",
           "required": true,
           "type": "int"
          },
          {
           "doc": "Date when the sale was completed, as stated on the transfer deed.",
           "id": 3,
           "name": "date_of_transfer",
           "required": true,
           "type": "date"
          },
          {
           "doc": "This is the postcode used at the time of the original transaction. Note that postcodes can be reallocated and these changes are not reflected in the Price Paid Dataset.",
           "id": 4,
           "name": "postcode",
           "required": true,
           "type": "string"
          },
          {
           "doc": "D = Detached, S = Semi-Detached, T = Terraced, F = Flats/Maisonettes, O = Other",
           "id": 5,
           "name": "property_type",
           "required": true,
           "type": "string"
          },
          {
           "doc": "Indicates the age of the property and applies to all price paid transactions, residential and non-residential. Y = a newly built property, N = an established residential building",
           "id": 6,
           "name": "new_property",
           "required": true,
           "type": "string"
          },
          {
           "doc": "Relates to the tenure: F = Freehold, L= Leasehold etc. Note that HM Land Registry does not record leases of 7 years or less in the Price Paid Dataset.",
           "id": 7,
           "name": "duration",
           "required": true,
           "type": "string"
          },
          {
           "doc": "Primary Addressable Object Name. Typically the house number or name",
           "id": 8,
           "name": "paon",
           "required": false,
           "type": "string"
          },
          {
           "doc": "Secondary Addressable Object Name. Where a property has been divided into separate units (for example, flats), the PAON (above) will identify the building and a SAON will be specified that identifies the separate unit/flat.",
           "id": 9,
           "name": "saon",
           "required": false,
           "type": "string"
          },
          {
           "id": 10,
           "name": "street",
           "required": false,
           "type": "string"
          },
          {
           "id": 11,
           "name": "locality",
           "required": false,
           "type": "string"
          },
          {
           "id": 12,
           "name": "town",
           "required": false,
           "type": "string"
          },
          {
           "id": 13,
           "name": "district",
           "required": false,
           "type": "string"
          },
          {
           "id": 14,
           "name": "county",
           "required": false,
           "type": "string"
          },
          {
           "doc": "Indicates the type of Price Paid transaction. A = Standard Price Paid entry, includes single residential property sold for value. B = Additional Price Paid entry including transfers under a power of sale/repossessions, buy-to-lets (where they can be identified by a Mortgage), transfers to non-private individuals and sales where the property type is classed as ‘Other’.",
           "id": 15,
           "name": "ppd_category_type",
           "required": false,
           "type": "string"
          },
          {
           "doc": "Indicates additions, changes and deletions to the records. A = Addition C = Change D = Delete",
           "id": 16,
           "name": "record_status",
           "required": false,
           "type": "string"
          }
         ],
         "identifier-field-ids": [
          1
         ],
         "schema-id": 0,
         "type": "struct"
        }
       ],
       "snapshot-log": [
        {
         "snapshot-id": 8580268702316459000,
         "timestamp-ms": 1747686154277
        },
        {
         "snapshot-id": 5967660870361117000,
         "timestamp-ms": 1747687404155
        }
       ],
       "snapshots": [
        {
         "manifest-list": "s3://warehouse/housing/staging/metadata/snap-5967660870361116733-0-560c7210-3dc4-419e-b423-71a2f5cbf61c.avro",
         "parent-snapshot-id": 8580268702316459000,
         "schema-id": 0,
         "sequence-number": 2,
         "snapshot-id": 5967660870361117000,
         "summary": {
          "added-data-files": "1",
          "added-files-size": "19093290",
          "added-records": "841772",
          "operation": "append",
          "total-data-files": "2",
          "total-delete-files": "0",
          "total-equality-deletes": "0",
          "total-files-size": "34932680",
          "total-position-deletes": "0",
          "total-records": "1546116"
         },
         "timestamp-ms": 1747687404155
        },
        {
         "manifest-list": "s3://warehouse/housing/staging/metadata/snap-8580268702316458514-0-f9ba0a23-01a5-4b0e-94b4-690ee85e28fd.avro",
         "schema-id": 0,
         "sequence-number": 1,
         "snapshot-id": 8580268702316459000,
         "summary": {
          "added-data-files": "1",
          "added-files-size": "15839390",
          "added-records": "704344",
          "operation": "append",
          "total-data-files": "1",
          "total-delete-files": "0",
          "total-equality-deletes": "0",
          "total-files-size": "15839390",
          "total-position-deletes": "0",
          "total-records": "704344"
         },
         "timestamp-ms": 1747686154277
        }
       ],
       "sort-orders": [
        {
         "fields": [],
         "order-id": 0
        }
       ],
       "table-uuid": "0196ea31-951e-7670-b90f-431c26f85b9e"
      },
      "text/plain": [
       "<IPython.core.display.JSON object>"
      ]
     },
     "execution_count": 43,
     "metadata": {
      "application/json": {
       "expanded": false,
       "root": "root"
      }
     },
     "output_type": "execute_result"
    }
   ],
   "source": [
    "JSON(get_iceberg_metadata(fs, house_prices_t))"
   ]
  },
  {
   "cell_type": "code",
   "execution_count": 44,
   "id": "TXez",
   "metadata": {},
   "outputs": [
    {
     "data": {
      "application/json": [
       {
        "added_files_count": 1,
        "added_rows_count": 841772,
        "added_snapshot_id": 5967660870361117000,
        "content": 0,
        "deleted_files_count": 0,
        "deleted_rows_count": 0,
        "existing_files_count": 0,
        "existing_rows_count": 0,
        "key_metadata": null,
        "manifest_length": 7197,
        "manifest_path": "s3://warehouse/housing/staging/metadata/560c7210-3dc4-419e-b423-71a2f5cbf61c-m0.avro",
        "min_sequence_number": 2,
        "partition_spec_id": 0,
        "partitions": [],
        "sequence_number": 2
       },
       {
        "added_files_count": 1,
        "added_rows_count": 704344,
        "added_snapshot_id": 8580268702316459000,
        "content": 0,
        "deleted_files_count": 0,
        "deleted_rows_count": 0,
        "existing_files_count": 0,
        "existing_rows_count": 0,
        "key_metadata": null,
        "manifest_length": 7196,
        "manifest_path": "s3://warehouse/housing/staging/metadata/f9ba0a23-01a5-4b0e-94b4-690ee85e28fd-m0.avro",
        "min_sequence_number": 1,
        "partition_spec_id": 0,
        "partitions": [],
        "sequence_number": 1
       }
      ],
      "text/plain": [
       "<IPython.core.display.JSON object>"
      ]
     },
     "execution_count": 44,
     "metadata": {
      "application/json": {
       "expanded": false,
       "root": "root"
      }
     },
     "output_type": "execute_result"
    }
   ],
   "source": [
    "JSON(get_iceberg_manifest_list(fs, house_prices_t))"
   ]
  },
  {
   "cell_type": "code",
   "execution_count": 45,
   "id": "dNNg",
   "metadata": {},
   "outputs": [
    {
     "data": {
      "application/json": [
       [
        {
         "data_file": {
          "column_sizes": [
           {
            "key": 1,
            "value": 2318453
           },
           {
            "key": 2,
            "value": 1445241
           },
           {
            "key": 3,
            "value": 935805
           },
           {
            "key": 4,
            "value": 4333389
           },
           {
            "key": 5,
            "value": 256508
           },
           {
            "key": 6,
            "value": 29713
           },
           {
            "key": 7,
            "value": 93971
           },
           {
            "key": 8,
            "value": 1836338
           },
           {
            "key": 9,
            "value": 327096
           },
           {
            "key": 10,
            "value": 4249613
           },
           {
            "key": 11,
            "value": 897089
           },
           {
            "key": 12,
            "value": 1101399
           },
           {
            "key": 13,
            "value": 881460
           },
           {
            "key": 14,
            "value": 362693
           },
           {
            "key": 15,
            "value": 17316
           },
           {
            "key": 16,
            "value": 79
           }
          ],
          "content": 0,
          "equality_ids": null,
          "file_format": "PARQUET",
          "file_path": "s3://warehouse/housing/staging/data/00000-0-560c7210-3dc4-419e-b423-71a2f5cbf61c.parquet",
          "file_size_in_bytes": 19093290,
          "key_metadata": null,
          "lower_bounds": [
           {
            "key": 1,
            "value": "ezAxRUI0NUVGLTYxMkMtNA=="
           },
           {
            "key": 2,
            "value": "AQAAAA=="
           },
           {
            "key": 3,
            "value": "nksAAA=="
           },
           {
            "key": 4,
            "value": ""
           },
           {
            "key": 5,
            "value": "RA=="
           },
           {
            "key": 6,
            "value": "Tg=="
           },
           {
            "key": 7,
            "value": "Rg=="
           },
           {
            "key": 8,
            "value": "KEFORFJFVyk="
           },
           {
            "key": 9,
            "value": ""
           },
           {
            "key": 10,
            "value": ""
           },
           {
            "key": 11,
            "value": ""
           },
           {
            "key": 12,
            "value": "QUJCT1RTIExBTkdMRVk="
           },
           {
            "key": 13,
            "value": "QURVUg=="
           },
           {
            "key": 14,
            "value": "QkFUSCBBTkQgTk9SVEggRQ=="
           },
           {
            "key": 15,
            "value": "QQ=="
           },
           {
            "key": 16,
            "value": "QQ=="
           }
          ],
          "nan_value_counts": [],
          "null_value_counts": [
           {
            "key": 1,
            "value": 0
           },
           {
            "key": 2,
            "value": 0
           },
           {
            "key": 3,
            "value": 0
           },
           {
            "key": 4,
            "value": 0
           },
           {
            "key": 5,
            "value": 0
           },
           {
            "key": 6,
            "value": 0
           },
           {
            "key": 7,
            "value": 0
           },
           {
            "key": 8,
            "value": 0
           },
           {
            "key": 9,
            "value": 0
           },
           {
            "key": 10,
            "value": 0
           },
           {
            "key": 11,
            "value": 0
           },
           {
            "key": 12,
            "value": 0
           },
           {
            "key": 13,
            "value": 0
           },
           {
            "key": 14,
            "value": 0
           },
           {
            "key": 15,
            "value": 0
           },
           {
            "key": 16,
            "value": 0
           }
          ],
          "partition": {},
          "record_count": 841772,
          "sort_order_id": null,
          "split_offsets": [
           4
          ],
          "upper_bounds": [
           {
            "key": 1,
            "value": "e0ZGQTM2MURCLTlDQ0ItOQ=="
           },
           {
            "key": 2,
            "value": "4LnxDw=="
           },
           {
            "key": 3,
            "value": "Ck0AAA=="
           },
           {
            "key": 4,
            "value": "WU84IDlZRA=="
           },
           {
            "key": 5,
            "value": "VA=="
           },
           {
            "key": 6,
            "value": "WQ=="
           },
           {
            "key": 7,
            "value": "TA=="
           },
           {
            "key": 8,
            "value": "WlVSSUNIIEhPVVNFLCAxMw=="
           },
           {
            "key": 9,
            "value": "Wk9ORSA1"
           },
           {
            "key": 10,
            "value": "WllCVVJOIENPVVJU"
           },
           {
            "key": 11,
            "value": "Wk9VQ0g="
           },
           {
            "key": 12,
            "value": "WVNUUkFEIE1FVVJJRw=="
           },
           {
            "key": 13,
            "value": "WU9SSw=="
           },
           {
            "key": 14,
            "value": "WU9SSw=="
           },
           {
            "key": 15,
            "value": "Qg=="
           },
           {
            "key": 16,
            "value": "QQ=="
           }
          ],
          "value_counts": [
           {
            "key": 1,
            "value": 841772
           },
           {
            "key": 2,
            "value": 841772
           },
           {
            "key": 3,
            "value": 841772
           },
           {
            "key": 4,
            "value": 841772
           },
           {
            "key": 5,
            "value": 841772
           },
           {
            "key": 6,
            "value": 841772
           },
           {
            "key": 7,
            "value": 841772
           },
           {
            "key": 8,
            "value": 841772
           },
           {
            "key": 9,
            "value": 841772
           },
           {
            "key": 10,
            "value": 841772
           },
           {
            "key": 11,
            "value": 841772
           },
           {
            "key": 12,
            "value": 841772
           },
           {
            "key": 13,
            "value": 841772
           },
           {
            "key": 14,
            "value": 841772
           },
           {
            "key": 15,
            "value": 841772
           },
           {
            "key": 16,
            "value": 841772
           }
          ]
         },
         "file_sequence_number": null,
         "sequence_number": null,
         "snapshot_id": 5967660870361117000,
         "status": 1
        }
       ],
       [
        {
         "data_file": {
          "column_sizes": [
           {
            "key": 1,
            "value": 1857270
           },
           {
            "key": 2,
            "value": 1171650
           },
           {
            "key": 3,
            "value": 786736
           },
           {
            "key": 4,
            "value": 3741052
           },
           {
            "key": 5,
            "value": 217075
           },
           {
            "key": 6,
            "value": 10797
           },
           {
            "key": 7,
            "value": 76793
           },
           {
            "key": 8,
            "value": 1441513
           },
           {
            "key": 9,
            "value": 243825
           },
           {
            "key": 10,
            "value": 3550436
           },
           {
            "key": 11,
            "value": 761585
           },
           {
            "key": 12,
            "value": 930307
           },
           {
            "key": 13,
            "value": 736777
           },
           {
            "key": 14,
            "value": 295337
           },
           {
            "key": 15,
            "value": 11034
           },
           {
            "key": 16,
            "value": 79
           }
          ],
          "content": 0,
          "equality_ids": null,
          "file_format": "PARQUET",
          "file_path": "s3://warehouse/housing/staging/data/00000-0-f9ba0a23-01a5-4b0e-94b4-690ee85e28fd.parquet",
          "file_size_in_bytes": 15839390,
          "key_metadata": null,
          "lower_bounds": [
           {
            "key": 1,
            "value": "ezEwNjE3NDZELTk4QUEtMw=="
           },
           {
            "key": 2,
            "value": "AQAAAA=="
           },
           {
            "key": 3,
            "value": "C00AAA=="
           },
           {
            "key": 4,
            "value": ""
           },
           {
            "key": 5,
            "value": "RA=="
           },
           {
            "key": 6,
            "value": "Tg=="
           },
           {
            "key": 7,
            "value": "Rg=="
           },
           {
            "key": 8,
            "value": "KEkgQlJBSU4p"
           },
           {
            "key": 9,
            "value": ""
           },
           {
            "key": 10,
            "value": ""
           },
           {
            "key": 11,
            "value": ""
           },
           {
            "key": 12,
            "value": "QUJCT1RTIExBTkdMRVk="
           },
           {
            "key": 13,
            "value": "QURVUg=="
           },
           {
            "key": 14,
            "value": "QkFUSCBBTkQgTk9SVEggRQ=="
           },
           {
            "key": 15,
            "value": "QQ=="
           },
           {
            "key": 16,
            "value": "QQ=="
           }
          ],
          "nan_value_counts": [],
          "null_value_counts": [
           {
            "key": 1,
            "value": 0
           },
           {
            "key": 2,
            "value": 0
           },
           {
            "key": 3,
            "value": 0
           },
           {
            "key": 4,
            "value": 0
           },
           {
            "key": 5,
            "value": 0
           },
           {
            "key": 6,
            "value": 0
           },
           {
            "key": 7,
            "value": 0
           },
           {
            "key": 8,
            "value": 0
           },
           {
            "key": 9,
            "value": 0
           },
           {
            "key": 10,
            "value": 0
           },
           {
            "key": 11,
            "value": 0
           },
           {
            "key": 12,
            "value": 0
           },
           {
            "key": 13,
            "value": 0
           },
           {
            "key": 14,
            "value": 0
           },
           {
            "key": 15,
            "value": 0
           },
           {
            "key": 16,
            "value": 0
           }
          ],
          "partition": {},
          "record_count": 704344,
          "sort_order_id": null,
          "split_offsets": [
           4
          ],
          "upper_bounds": [
           {
            "key": 1,
            "value": "ezJGN0YyQjQzLUYxMEYtRg=="
           },
           {
            "key": 2,
            "value": "APhZDQ=="
           },
           {
            "key": 3,
            "value": "eE4AAA=="
           },
           {
            "key": 4,
            "value": "WU85MCAxVVU="
           },
           {
            "key": 5,
            "value": "VA=="
           },
           {
            "key": 6,
            "value": "WQ=="
           },
           {
            "key": 7,
            "value": "TA=="
           },
           {
            "key": 8,
            "value": "WlVSSUNIIEhPVVNF"
           },
           {
            "key": 9,
            "value": "Wk9ORSA1"
           },
           {
            "key": 10,
            "value": "WlVSSUNIIEdBUkRFTlM="
           },
           {
            "key": 11,
            "value": "Wk9VQ0g="
           },
           {
            "key": 12,
            "value": "WVNUUkFEIE1FVVJJRw=="
           },
           {
            "key": 13,
            "value": "WU9SSw=="
           },
           {
            "key": 14,
            "value": "WU9SSw=="
           },
           {
            "key": 15,
            "value": "Qg=="
           },
           {
            "key": 16,
            "value": "QQ=="
           }
          ],
          "value_counts": [
           {
            "key": 1,
            "value": 704344
           },
           {
            "key": 2,
            "value": 704344
           },
           {
            "key": 3,
            "value": 704344
           },
           {
            "key": 4,
            "value": 704344
           },
           {
            "key": 5,
            "value": 704344
           },
           {
            "key": 6,
            "value": 704344
           },
           {
            "key": 7,
            "value": 704344
           },
           {
            "key": 8,
            "value": 704344
           },
           {
            "key": 9,
            "value": 704344
           },
           {
            "key": 10,
            "value": 704344
           },
           {
            "key": 11,
            "value": 704344
           },
           {
            "key": 12,
            "value": 704344
           },
           {
            "key": 13,
            "value": 704344
           },
           {
            "key": 14,
            "value": 704344
           },
           {
            "key": 15,
            "value": 704344
           },
           {
            "key": 16,
            "value": 704344
           }
          ]
         },
         "file_sequence_number": null,
         "sequence_number": null,
         "snapshot_id": 8580268702316459000,
         "status": 1
        }
       ]
      ],
      "text/plain": [
       "<IPython.core.display.JSON object>"
      ]
     },
     "execution_count": 45,
     "metadata": {
      "application/json": {
       "expanded": false,
       "root": "root"
      }
     },
     "output_type": "execute_result"
    }
   ],
   "source": [
    "JSON(get_iceberg_manifest(fs, house_prices_t))"
   ]
  },
  {
   "cell_type": "markdown",
   "id": "yCnT",
   "metadata": {
    "marimo": {
     "config": {
      "hide_code": true
     }
    }
   },
   "source": [
    "## Concluding on Metadata\n",
    "\n",
    "All the metadata we've looked at here is stored in object storage. It's this metadata which powers all of Iceberg - if you can understand how this metadata is put together, you understand the inner workings of Iceberg."
   ]
  }
 ],
 "metadata": {
  "kernelspec": {
   "display_name": "Python 3 (ipykernel)",
   "language": "python",
   "name": "python3"
  },
  "language_info": {
   "codemirror_mode": {
    "name": "ipython",
    "version": 3
   },
   "file_extension": ".py",
   "mimetype": "text/x-python",
   "name": "python",
   "nbconvert_exporter": "python",
   "pygments_lexer": "ipython3",
   "version": "3.12.10"
  }
 },
 "nbformat": 4,
 "nbformat_minor": 5
}
