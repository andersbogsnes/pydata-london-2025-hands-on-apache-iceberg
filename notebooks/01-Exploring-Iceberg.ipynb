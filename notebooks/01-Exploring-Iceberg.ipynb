{
 "cells": [
  {
   "cell_type": "code",
   "id": "Hbol",
   "metadata": {
    "marimo": {
     "config": {
      "hide_code": true
     }
    },
    "ExecuteTime": {
     "end_time": "2025-05-05T19:19:36.071666Z",
     "start_time": "2025-05-05T19:19:35.247612Z"
    }
   },
   "source": [
    "from pyiceberg.catalog.rest import RestCatalog\n",
    "import polars as pl\n",
    "from IPython.display import JSON"
   ],
   "outputs": [],
   "execution_count": 1
  },
  {
   "cell_type": "markdown",
   "id": "MJUe",
   "metadata": {
    "marimo": {
     "config": {
      "hide_code": true
     }
    }
   },
   "source": [
    "# Hands-on with Apache Iceberg\n",
    "\n",
    "## The Context\n",
    "- Came out of Netflix\n",
    "- Improved version of Hive\n",
    "- Separation of storage and compute\n",
    "- Big Providers\n",
    "- Iceberg is an implementation standard for the storage layer\n",
    "- Compute now just needs to speak Iceberg"
   ]
  },
  {
   "cell_type": "markdown",
   "id": "vblA",
   "metadata": {
    "marimo": {
     "config": {
      "hide_code": true
     }
    }
   },
   "source": [
    "## The Catalog\n",
    "\n",
    "First we need a catalog - the catalog keeps track of the metadata. Depending on the catalog instance, it can do many more things, but today we will mainly focus on its role as the place to store the location of the metadata."
   ]
  },
  {
   "cell_type": "code",
   "execution_count": 5,
   "id": "bkHC",
   "metadata": {
    "ExecuteTime": {
     "end_time": "2025-05-04T19:15:30.914212Z",
     "start_time": "2025-05-04T19:15:30.871978Z"
    }
   },
   "outputs": [],
   "source": [
    "catalog = RestCatalog(\"lakekeeper\", uri=\"http://lakekeeper:8181/catalog\", warehouse=\"lakehouse\")"
   ]
  },
  {
   "cell_type": "code",
   "execution_count": null,
   "id": "lEQa",
   "metadata": {},
   "outputs": [],
   "source": [
    "catalog.create_namespace_if_not_exists(\"house_prices\")"
   ]
  },
  {
   "cell_type": "markdown",
   "id": "PKri",
   "metadata": {
    "marimo": {
     "config": {
      "hide_code": true
     }
    }
   },
   "source": [
    "Now we have a namespace that will contain all our tables - think of a namespace like a schema in a traditional database.\n",
    "\n",
    "## Schema\n",
    "\n",
    "Next we need another type of schema - the data schema. In Iceberg, we can define the schema using Pyiceberg types, though many query engines also support creating Iceberg tables via SQL."
   ]
  },
  {
   "cell_type": "code",
   "execution_count": 7,
   "id": "Xref",
   "metadata": {},
   "outputs": [],
   "source": [
    "from pyiceberg.schema import Schema, NestedField, StringType, IntegerType, DateType\n",
    "\n",
    "house_prices_schema = Schema(\n",
    "    NestedField(\n",
    "        1,\n",
    "        \"transaction_id\",\n",
    "        StringType(),\n",
    "        required=True,\n",
    "        doc=\"A reference number which is generated automatically recording each published sale. The number is unique and will change each time a sale is recorded.\",\n",
    "    ),\n",
    "    NestedField(\n",
    "        2, \"price\", IntegerType(), required=True, doc=\"Sale price stated on the transfer deed.\"\n",
    "    ),\n",
    "    NestedField(\n",
    "        3,\n",
    "        \"date_of_transfer\",\n",
    "        DateType(),\n",
    "        required=True,\n",
    "        doc=\"Date when the sale was completed, as stated on the transfer deed.\",\n",
    "    ),\n",
    "    NestedField(\n",
    "        4,\n",
    "        \"postcode\",\n",
    "        StringType(),\n",
    "        required=True,\n",
    "        doc=\"This is the postcode used at the time of the original transaction. Note that postcodes can be reallocated and these changes are not reflected in the Price Paid Dataset.\",\n",
    "    ),\n",
    "    NestedField(\n",
    "        5,\n",
    "        \"property_type\",\n",
    "        StringType(),\n",
    "        required=True,\n",
    "        doc=\"D = Detached, S = Semi-Detached, T = Terraced, F = Flats/Maisonettes, O = Other\",\n",
    "    ),\n",
    "    NestedField(\n",
    "        6,\n",
    "        \"new_property\",\n",
    "        StringType(),\n",
    "        required=True,\n",
    "        doc=\"Indicates the age of the property and applies to all price paid transactions, residential and non-residential. Y = a newly built property, N = an established residential building\",\n",
    "    ),\n",
    "    NestedField(\n",
    "        7,\n",
    "        \"duration\",\n",
    "        StringType(),\n",
    "        required=True,\n",
    "        doc=\"Relates to the tenure: F = Freehold, L= Leasehold etc. Note that HM Land Registry does not record leases of 7 years or less in the Price Paid Dataset.\",\n",
    "    ),\n",
    "    NestedField(\n",
    "        8,\n",
    "        \"paon\",\n",
    "        StringType(),\n",
    "        doc=\"Primary Addressable Object Name. Typically the house number or name\",\n",
    "    ),\n",
    "    NestedField(\n",
    "        9,\n",
    "        \"saon\",\n",
    "        StringType(),\n",
    "        doc=\"Secondary Addressable Object Name. Where a property has been divided into separate units (for example, flats), the PAON (above) will identify the building and a SAON will be specified that identifies the separate unit/flat.\",\n",
    "    ),\n",
    "    NestedField(10, \"street\", StringType()),\n",
    "    NestedField(11, \"locality\", StringType()),\n",
    "    NestedField(12, \"town\", StringType()),\n",
    "    NestedField(13, \"district\", StringType()),\n",
    "    NestedField(14, \"county\", StringType()),\n",
    "    NestedField(\n",
    "        15,\n",
    "        \"ppd_category_type\",\n",
    "        StringType(),\n",
    "        doc=\"Indicates the type of Price Paid transaction. A = Standard Price Paid entry, includes single residential property sold for value. B = Additional Price Paid entry including transfers under a power of sale/repossessions, buy-to-lets (where they can be identified by a Mortgage), transfers to non-private individuals and sales where the property type is classed as ‘Other’.\",\n",
    "    ),\n",
    "    NestedField(16, \"record_status\", StringType(),\n",
    "                doc=\"Indicates additions, changes and deletions to the records. A = Addition C = Change D = Delete\"),\n",
    "    identifier_field_ids=[1],\n",
    ")"
   ]
  },
  {
   "cell_type": "markdown",
   "id": "SFPL",
   "metadata": {
    "marimo": {
     "config": {
      "hide_code": true
     }
    }
   },
   "source": [
    "## The Table\n",
    "\n",
    "With our schema in place, we're now ready to create the table. We need to specify the location where the table will be stored, though depending on the catalog, it can automatically assign a location."
   ]
  },
  {
   "cell_type": "code",
   "execution_count": 8,
   "id": "BYtC",
   "metadata": {},
   "outputs": [],
   "source": [
    "house_prices_t = catalog.create_table_if_not_exists(\"house_prices.raw\", schema=house_prices_schema,\n",
    "                                                    location=\"s3://warehouse/house_prices/raw\")"
   ]
  },
  {
   "cell_type": "markdown",
   "id": "RGSE",
   "metadata": {
    "marimo": {
     "config": {
      "hide_code": true
     }
    }
   },
   "source": [
    "## The Data\n",
    "Pyiceberg expects to receive a Pyarrow table, so we need to read in our CSV and convert it to Arrow. In this case, our data does not have headers, so we need to set those as well."
   ]
  },
  {
   "cell_type": "code",
   "execution_count": 9,
   "id": "Kclp",
   "metadata": {},
   "outputs": [
    {
     "ename": "FileNotFoundError",
     "evalue": "No such file or directory (os error 2): data/pp-2024.csv",
     "output_type": "error",
     "traceback": [
      "\u001B[31m---------------------------------------------------------------------------\u001B[39m",
      "\u001B[31mFileNotFoundError\u001B[39m                         Traceback (most recent call last)",
      "\u001B[36mCell\u001B[39m\u001B[36m \u001B[39m\u001B[32mIn[9]\u001B[39m\u001B[32m, line 34\u001B[39m\n\u001B[32m     22\u001B[39m     df = (\n\u001B[32m     23\u001B[39m         pl.scan_csv(\n\u001B[32m     24\u001B[39m             filename,\n\u001B[32m   (...)\u001B[39m\u001B[32m     29\u001B[39m         .collect()\n\u001B[32m     30\u001B[39m     )\n\u001B[32m     31\u001B[39m     \u001B[38;5;28;01mreturn\u001B[39;00m df\n\u001B[32m---> \u001B[39m\u001B[32m34\u001B[39m house_prices_2024 = \u001B[43mread_house_prices\u001B[49m\u001B[43m(\u001B[49m\u001B[33;43m\"\u001B[39;49m\u001B[33;43mdata/pp-2024.csv\u001B[39;49m\u001B[33;43m\"\u001B[39;49m\u001B[43m)\u001B[49m\n\u001B[32m     35\u001B[39m house_prices_2024\n",
      "\u001B[36mCell\u001B[39m\u001B[36m \u001B[39m\u001B[32mIn[9]\u001B[39m\u001B[32m, line 23\u001B[39m, in \u001B[36mread_house_prices\u001B[39m\u001B[34m(filename)\u001B[39m\n\u001B[32m      1\u001B[39m \u001B[38;5;28;01mdef\u001B[39;00m\u001B[38;5;250m \u001B[39m\u001B[34mread_house_prices\u001B[39m(filename: \u001B[38;5;28mstr\u001B[39m) -> pl.DataFrame:\n\u001B[32m      2\u001B[39m     \u001B[38;5;66;03m# Columns sourced from data dictionary\u001B[39;00m\n\u001B[32m      3\u001B[39m     house_prices_columns = [\n\u001B[32m      4\u001B[39m         \u001B[33m\"\u001B[39m\u001B[33mtransaction_id\u001B[39m\u001B[33m\"\u001B[39m,\n\u001B[32m      5\u001B[39m         \u001B[33m\"\u001B[39m\u001B[33mprice\u001B[39m\u001B[33m\"\u001B[39m,\n\u001B[32m   (...)\u001B[39m\u001B[32m     19\u001B[39m         \u001B[33m\"\u001B[39m\u001B[33mrecord_status\u001B[39m\u001B[33m\"\u001B[39m,\n\u001B[32m     20\u001B[39m     ]\n\u001B[32m     22\u001B[39m     df = (\n\u001B[32m---> \u001B[39m\u001B[32m23\u001B[39m         \u001B[43mpl\u001B[49m\u001B[43m.\u001B[49m\u001B[43mscan_csv\u001B[49m\u001B[43m(\u001B[49m\n\u001B[32m     24\u001B[39m \u001B[43m            \u001B[49m\u001B[43mfilename\u001B[49m\u001B[43m,\u001B[49m\n\u001B[32m     25\u001B[39m \u001B[43m            \u001B[49m\u001B[43mhas_header\u001B[49m\u001B[43m=\u001B[49m\u001B[38;5;28;43;01mFalse\u001B[39;49;00m\u001B[43m,\u001B[49m\n\u001B[32m     26\u001B[39m \u001B[43m            \u001B[49m\u001B[43mnew_columns\u001B[49m\u001B[43m=\u001B[49m\u001B[43mhouse_prices_columns\u001B[49m\u001B[43m,\u001B[49m\n\u001B[32m     27\u001B[39m \u001B[43m        \u001B[49m\u001B[43m)\u001B[49m\n\u001B[32m     28\u001B[39m         .with_columns(pl.col(\u001B[33m\"\u001B[39m\u001B[33mdate_of_transfer\u001B[39m\u001B[33m\"\u001B[39m).str.to_date(\u001B[33m\"\u001B[39m\u001B[33m%\u001B[39m\u001B[33mY-\u001B[39m\u001B[33m%\u001B[39m\u001B[33mm-\u001B[39m\u001B[38;5;132;01m%d\u001B[39;00m\u001B[33m \u001B[39m\u001B[33m%\u001B[39m\u001B[33mH:\u001B[39m\u001B[33m%\u001B[39m\u001B[33mM\u001B[39m\u001B[33m\"\u001B[39m))\n\u001B[32m     29\u001B[39m         .collect()\n\u001B[32m     30\u001B[39m     )\n\u001B[32m     31\u001B[39m     \u001B[38;5;28;01mreturn\u001B[39;00m df\n",
      "\u001B[36mFile \u001B[39m\u001B[32m/usr/local/lib/python3.12/site-packages/polars/_utils/deprecation.py:119\u001B[39m, in \u001B[36mdeprecate_renamed_parameter.<locals>.decorate.<locals>.wrapper\u001B[39m\u001B[34m(*args, **kwargs)\u001B[39m\n\u001B[32m    114\u001B[39m \u001B[38;5;129m@wraps\u001B[39m(function)\n\u001B[32m    115\u001B[39m \u001B[38;5;28;01mdef\u001B[39;00m\u001B[38;5;250m \u001B[39m\u001B[34mwrapper\u001B[39m(*args: P.args, **kwargs: P.kwargs) -> T:\n\u001B[32m    116\u001B[39m     _rename_keyword_argument(\n\u001B[32m    117\u001B[39m         old_name, new_name, kwargs, function.\u001B[34m__qualname__\u001B[39m, version\n\u001B[32m    118\u001B[39m     )\n\u001B[32m--> \u001B[39m\u001B[32m119\u001B[39m     \u001B[38;5;28;01mreturn\u001B[39;00m \u001B[43mfunction\u001B[49m\u001B[43m(\u001B[49m\u001B[43m*\u001B[49m\u001B[43margs\u001B[49m\u001B[43m,\u001B[49m\u001B[43m \u001B[49m\u001B[43m*\u001B[49m\u001B[43m*\u001B[49m\u001B[43mkwargs\u001B[49m\u001B[43m)\u001B[49m\n",
      "\u001B[36mFile \u001B[39m\u001B[32m/usr/local/lib/python3.12/site-packages/polars/_utils/deprecation.py:119\u001B[39m, in \u001B[36mdeprecate_renamed_parameter.<locals>.decorate.<locals>.wrapper\u001B[39m\u001B[34m(*args, **kwargs)\u001B[39m\n\u001B[32m    114\u001B[39m \u001B[38;5;129m@wraps\u001B[39m(function)\n\u001B[32m    115\u001B[39m \u001B[38;5;28;01mdef\u001B[39;00m\u001B[38;5;250m \u001B[39m\u001B[34mwrapper\u001B[39m(*args: P.args, **kwargs: P.kwargs) -> T:\n\u001B[32m    116\u001B[39m     _rename_keyword_argument(\n\u001B[32m    117\u001B[39m         old_name, new_name, kwargs, function.\u001B[34m__qualname__\u001B[39m, version\n\u001B[32m    118\u001B[39m     )\n\u001B[32m--> \u001B[39m\u001B[32m119\u001B[39m     \u001B[38;5;28;01mreturn\u001B[39;00m \u001B[43mfunction\u001B[49m\u001B[43m(\u001B[49m\u001B[43m*\u001B[49m\u001B[43margs\u001B[49m\u001B[43m,\u001B[49m\u001B[43m \u001B[49m\u001B[43m*\u001B[49m\u001B[43m*\u001B[49m\u001B[43mkwargs\u001B[49m\u001B[43m)\u001B[49m\n",
      "\u001B[36mFile \u001B[39m\u001B[32m/usr/local/lib/python3.12/site-packages/polars/_utils/deprecation.py:119\u001B[39m, in \u001B[36mdeprecate_renamed_parameter.<locals>.decorate.<locals>.wrapper\u001B[39m\u001B[34m(*args, **kwargs)\u001B[39m\n\u001B[32m    114\u001B[39m \u001B[38;5;129m@wraps\u001B[39m(function)\n\u001B[32m    115\u001B[39m \u001B[38;5;28;01mdef\u001B[39;00m\u001B[38;5;250m \u001B[39m\u001B[34mwrapper\u001B[39m(*args: P.args, **kwargs: P.kwargs) -> T:\n\u001B[32m    116\u001B[39m     _rename_keyword_argument(\n\u001B[32m    117\u001B[39m         old_name, new_name, kwargs, function.\u001B[34m__qualname__\u001B[39m, version\n\u001B[32m    118\u001B[39m     )\n\u001B[32m--> \u001B[39m\u001B[32m119\u001B[39m     \u001B[38;5;28;01mreturn\u001B[39;00m \u001B[43mfunction\u001B[49m\u001B[43m(\u001B[49m\u001B[43m*\u001B[49m\u001B[43margs\u001B[49m\u001B[43m,\u001B[49m\u001B[43m \u001B[49m\u001B[43m*\u001B[49m\u001B[43m*\u001B[49m\u001B[43mkwargs\u001B[49m\u001B[43m)\u001B[49m\n",
      "\u001B[36mFile \u001B[39m\u001B[32m/usr/local/lib/python3.12/site-packages/polars/io/csv/functions.py:1326\u001B[39m, in \u001B[36mscan_csv\u001B[39m\u001B[34m(***failed resolving arguments***)\u001B[39m\n\u001B[32m   1321\u001B[39m credential_provider_builder = _init_credential_provider_builder(\n\u001B[32m   1322\u001B[39m     credential_provider, source, storage_options, \u001B[33m\"\u001B[39m\u001B[33mscan_csv\u001B[39m\u001B[33m\"\u001B[39m\n\u001B[32m   1323\u001B[39m )\n\u001B[32m   1324\u001B[39m \u001B[38;5;28;01mdel\u001B[39;00m credential_provider\n\u001B[32m-> \u001B[39m\u001B[32m1326\u001B[39m \u001B[38;5;28;01mreturn\u001B[39;00m \u001B[43m_scan_csv_impl\u001B[49m\u001B[43m(\u001B[49m\n\u001B[32m   1327\u001B[39m \u001B[43m    \u001B[49m\u001B[43msource\u001B[49m\u001B[43m,\u001B[49m\n\u001B[32m   1328\u001B[39m \u001B[43m    \u001B[49m\u001B[43mhas_header\u001B[49m\u001B[43m=\u001B[49m\u001B[43mhas_header\u001B[49m\u001B[43m,\u001B[49m\n\u001B[32m   1329\u001B[39m \u001B[43m    \u001B[49m\u001B[43mseparator\u001B[49m\u001B[43m=\u001B[49m\u001B[43mseparator\u001B[49m\u001B[43m,\u001B[49m\n\u001B[32m   1330\u001B[39m \u001B[43m    \u001B[49m\u001B[43mcomment_prefix\u001B[49m\u001B[43m=\u001B[49m\u001B[43mcomment_prefix\u001B[49m\u001B[43m,\u001B[49m\n\u001B[32m   1331\u001B[39m \u001B[43m    \u001B[49m\u001B[43mquote_char\u001B[49m\u001B[43m=\u001B[49m\u001B[43mquote_char\u001B[49m\u001B[43m,\u001B[49m\n\u001B[32m   1332\u001B[39m \u001B[43m    \u001B[49m\u001B[43mskip_rows\u001B[49m\u001B[43m=\u001B[49m\u001B[43mskip_rows\u001B[49m\u001B[43m,\u001B[49m\n\u001B[32m   1333\u001B[39m \u001B[43m    \u001B[49m\u001B[43mskip_lines\u001B[49m\u001B[43m=\u001B[49m\u001B[43mskip_lines\u001B[49m\u001B[43m,\u001B[49m\n\u001B[32m   1334\u001B[39m \u001B[43m    \u001B[49m\u001B[43mschema_overrides\u001B[49m\u001B[43m=\u001B[49m\u001B[43mschema_overrides\u001B[49m\u001B[43m,\u001B[49m\u001B[43m  \u001B[49m\u001B[38;5;66;43;03m# type: ignore[arg-type]\u001B[39;49;00m\n\u001B[32m   1335\u001B[39m \u001B[43m    \u001B[49m\u001B[43mschema\u001B[49m\u001B[43m=\u001B[49m\u001B[43mschema\u001B[49m\u001B[43m,\u001B[49m\n\u001B[32m   1336\u001B[39m \u001B[43m    \u001B[49m\u001B[43mnull_values\u001B[49m\u001B[43m=\u001B[49m\u001B[43mnull_values\u001B[49m\u001B[43m,\u001B[49m\n\u001B[32m   1337\u001B[39m \u001B[43m    \u001B[49m\u001B[43mmissing_utf8_is_empty_string\u001B[49m\u001B[43m=\u001B[49m\u001B[43mmissing_utf8_is_empty_string\u001B[49m\u001B[43m,\u001B[49m\n\u001B[32m   1338\u001B[39m \u001B[43m    \u001B[49m\u001B[43mignore_errors\u001B[49m\u001B[43m=\u001B[49m\u001B[43mignore_errors\u001B[49m\u001B[43m,\u001B[49m\n\u001B[32m   1339\u001B[39m \u001B[43m    \u001B[49m\u001B[43mcache\u001B[49m\u001B[43m=\u001B[49m\u001B[43mcache\u001B[49m\u001B[43m,\u001B[49m\n\u001B[32m   1340\u001B[39m \u001B[43m    \u001B[49m\u001B[43mwith_column_names\u001B[49m\u001B[43m=\u001B[49m\u001B[43mwith_column_names\u001B[49m\u001B[43m,\u001B[49m\n\u001B[32m   1341\u001B[39m \u001B[43m    \u001B[49m\u001B[43minfer_schema_length\u001B[49m\u001B[43m=\u001B[49m\u001B[43minfer_schema_length\u001B[49m\u001B[43m,\u001B[49m\n\u001B[32m   1342\u001B[39m \u001B[43m    \u001B[49m\u001B[43mn_rows\u001B[49m\u001B[43m=\u001B[49m\u001B[43mn_rows\u001B[49m\u001B[43m,\u001B[49m\n\u001B[32m   1343\u001B[39m \u001B[43m    \u001B[49m\u001B[43mlow_memory\u001B[49m\u001B[43m=\u001B[49m\u001B[43mlow_memory\u001B[49m\u001B[43m,\u001B[49m\n\u001B[32m   1344\u001B[39m \u001B[43m    \u001B[49m\u001B[43mrechunk\u001B[49m\u001B[43m=\u001B[49m\u001B[43mrechunk\u001B[49m\u001B[43m,\u001B[49m\n\u001B[32m   1345\u001B[39m \u001B[43m    \u001B[49m\u001B[43mskip_rows_after_header\u001B[49m\u001B[43m=\u001B[49m\u001B[43mskip_rows_after_header\u001B[49m\u001B[43m,\u001B[49m\n\u001B[32m   1346\u001B[39m \u001B[43m    \u001B[49m\u001B[43mencoding\u001B[49m\u001B[43m=\u001B[49m\u001B[43mencoding\u001B[49m\u001B[43m,\u001B[49m\n\u001B[32m   1347\u001B[39m \u001B[43m    \u001B[49m\u001B[43mrow_index_name\u001B[49m\u001B[43m=\u001B[49m\u001B[43mrow_index_name\u001B[49m\u001B[43m,\u001B[49m\n\u001B[32m   1348\u001B[39m \u001B[43m    \u001B[49m\u001B[43mrow_index_offset\u001B[49m\u001B[43m=\u001B[49m\u001B[43mrow_index_offset\u001B[49m\u001B[43m,\u001B[49m\n\u001B[32m   1349\u001B[39m \u001B[43m    \u001B[49m\u001B[43mtry_parse_dates\u001B[49m\u001B[43m=\u001B[49m\u001B[43mtry_parse_dates\u001B[49m\u001B[43m,\u001B[49m\n\u001B[32m   1350\u001B[39m \u001B[43m    \u001B[49m\u001B[43meol_char\u001B[49m\u001B[43m=\u001B[49m\u001B[43meol_char\u001B[49m\u001B[43m,\u001B[49m\n\u001B[32m   1351\u001B[39m \u001B[43m    \u001B[49m\u001B[43mraise_if_empty\u001B[49m\u001B[43m=\u001B[49m\u001B[43mraise_if_empty\u001B[49m\u001B[43m,\u001B[49m\n\u001B[32m   1352\u001B[39m \u001B[43m    \u001B[49m\u001B[43mtruncate_ragged_lines\u001B[49m\u001B[43m=\u001B[49m\u001B[43mtruncate_ragged_lines\u001B[49m\u001B[43m,\u001B[49m\n\u001B[32m   1353\u001B[39m \u001B[43m    \u001B[49m\u001B[43mdecimal_comma\u001B[49m\u001B[43m=\u001B[49m\u001B[43mdecimal_comma\u001B[49m\u001B[43m,\u001B[49m\n\u001B[32m   1354\u001B[39m \u001B[43m    \u001B[49m\u001B[43mglob\u001B[49m\u001B[43m=\u001B[49m\u001B[43mglob\u001B[49m\u001B[43m,\u001B[49m\n\u001B[32m   1355\u001B[39m \u001B[43m    \u001B[49m\u001B[43mretries\u001B[49m\u001B[43m=\u001B[49m\u001B[43mretries\u001B[49m\u001B[43m,\u001B[49m\n\u001B[32m   1356\u001B[39m \u001B[43m    \u001B[49m\u001B[43mstorage_options\u001B[49m\u001B[43m=\u001B[49m\u001B[43mstorage_options\u001B[49m\u001B[43m,\u001B[49m\n\u001B[32m   1357\u001B[39m \u001B[43m    \u001B[49m\u001B[43mcredential_provider\u001B[49m\u001B[43m=\u001B[49m\u001B[43mcredential_provider_builder\u001B[49m\u001B[43m,\u001B[49m\n\u001B[32m   1358\u001B[39m \u001B[43m    \u001B[49m\u001B[43mfile_cache_ttl\u001B[49m\u001B[43m=\u001B[49m\u001B[43mfile_cache_ttl\u001B[49m\u001B[43m,\u001B[49m\n\u001B[32m   1359\u001B[39m \u001B[43m    \u001B[49m\u001B[43minclude_file_paths\u001B[49m\u001B[43m=\u001B[49m\u001B[43minclude_file_paths\u001B[49m\u001B[43m,\u001B[49m\n\u001B[32m   1360\u001B[39m \u001B[43m\u001B[49m\u001B[43m)\u001B[49m\n",
      "\u001B[36mFile \u001B[39m\u001B[32m/usr/local/lib/python3.12/site-packages/polars/io/csv/functions.py:1429\u001B[39m, in \u001B[36m_scan_csv_impl\u001B[39m\u001B[34m(source, has_header, separator, comment_prefix, quote_char, skip_rows, skip_lines, schema, schema_overrides, null_values, missing_utf8_is_empty_string, ignore_errors, cache, with_column_names, infer_schema_length, n_rows, encoding, low_memory, rechunk, skip_rows_after_header, row_index_name, row_index_offset, try_parse_dates, eol_char, raise_if_empty, truncate_ragged_lines, decimal_comma, glob, storage_options, credential_provider, retries, file_cache_ttl, include_file_paths)\u001B[39m\n\u001B[32m   1425\u001B[39m \u001B[38;5;28;01melse\u001B[39;00m:\n\u001B[32m   1426\u001B[39m     \u001B[38;5;66;03m# Handle empty dict input\u001B[39;00m\n\u001B[32m   1427\u001B[39m     storage_options = \u001B[38;5;28;01mNone\u001B[39;00m\n\u001B[32m-> \u001B[39m\u001B[32m1429\u001B[39m pylf = \u001B[43mPyLazyFrame\u001B[49m\u001B[43m.\u001B[49m\u001B[43mnew_from_csv\u001B[49m\u001B[43m(\u001B[49m\n\u001B[32m   1430\u001B[39m \u001B[43m    \u001B[49m\u001B[43msource\u001B[49m\u001B[43m,\u001B[49m\n\u001B[32m   1431\u001B[39m \u001B[43m    \u001B[49m\u001B[43msources\u001B[49m\u001B[43m,\u001B[49m\n\u001B[32m   1432\u001B[39m \u001B[43m    \u001B[49m\u001B[43mseparator\u001B[49m\u001B[43m=\u001B[49m\u001B[43mseparator\u001B[49m\u001B[43m,\u001B[49m\n\u001B[32m   1433\u001B[39m \u001B[43m    \u001B[49m\u001B[43mhas_header\u001B[49m\u001B[43m=\u001B[49m\u001B[43mhas_header\u001B[49m\u001B[43m,\u001B[49m\n\u001B[32m   1434\u001B[39m \u001B[43m    \u001B[49m\u001B[43mignore_errors\u001B[49m\u001B[43m=\u001B[49m\u001B[43mignore_errors\u001B[49m\u001B[43m,\u001B[49m\n\u001B[32m   1435\u001B[39m \u001B[43m    \u001B[49m\u001B[43mskip_rows\u001B[49m\u001B[43m=\u001B[49m\u001B[43mskip_rows\u001B[49m\u001B[43m,\u001B[49m\n\u001B[32m   1436\u001B[39m \u001B[43m    \u001B[49m\u001B[43mskip_lines\u001B[49m\u001B[43m=\u001B[49m\u001B[43mskip_lines\u001B[49m\u001B[43m,\u001B[49m\n\u001B[32m   1437\u001B[39m \u001B[43m    \u001B[49m\u001B[43mn_rows\u001B[49m\u001B[43m=\u001B[49m\u001B[43mn_rows\u001B[49m\u001B[43m,\u001B[49m\n\u001B[32m   1438\u001B[39m \u001B[43m    \u001B[49m\u001B[43mcache\u001B[49m\u001B[43m=\u001B[49m\u001B[43mcache\u001B[49m\u001B[43m,\u001B[49m\n\u001B[32m   1439\u001B[39m \u001B[43m    \u001B[49m\u001B[43moverwrite_dtype\u001B[49m\u001B[43m=\u001B[49m\u001B[43mdtype_list\u001B[49m\u001B[43m,\u001B[49m\n\u001B[32m   1440\u001B[39m \u001B[43m    \u001B[49m\u001B[43mlow_memory\u001B[49m\u001B[43m=\u001B[49m\u001B[43mlow_memory\u001B[49m\u001B[43m,\u001B[49m\n\u001B[32m   1441\u001B[39m \u001B[43m    \u001B[49m\u001B[43mcomment_prefix\u001B[49m\u001B[43m=\u001B[49m\u001B[43mcomment_prefix\u001B[49m\u001B[43m,\u001B[49m\n\u001B[32m   1442\u001B[39m \u001B[43m    \u001B[49m\u001B[43mquote_char\u001B[49m\u001B[43m=\u001B[49m\u001B[43mquote_char\u001B[49m\u001B[43m,\u001B[49m\n\u001B[32m   1443\u001B[39m \u001B[43m    \u001B[49m\u001B[43mnull_values\u001B[49m\u001B[43m=\u001B[49m\u001B[43mprocessed_null_values\u001B[49m\u001B[43m,\u001B[49m\n\u001B[32m   1444\u001B[39m \u001B[43m    \u001B[49m\u001B[43mmissing_utf8_is_empty_string\u001B[49m\u001B[43m=\u001B[49m\u001B[43mmissing_utf8_is_empty_string\u001B[49m\u001B[43m,\u001B[49m\n\u001B[32m   1445\u001B[39m \u001B[43m    \u001B[49m\u001B[43minfer_schema_length\u001B[49m\u001B[43m=\u001B[49m\u001B[43minfer_schema_length\u001B[49m\u001B[43m,\u001B[49m\n\u001B[32m   1446\u001B[39m \u001B[43m    \u001B[49m\u001B[43mwith_schema_modify\u001B[49m\u001B[43m=\u001B[49m\u001B[43mwith_column_names\u001B[49m\u001B[43m,\u001B[49m\n\u001B[32m   1447\u001B[39m \u001B[43m    \u001B[49m\u001B[43mrechunk\u001B[49m\u001B[43m=\u001B[49m\u001B[43mrechunk\u001B[49m\u001B[43m,\u001B[49m\n\u001B[32m   1448\u001B[39m \u001B[43m    \u001B[49m\u001B[43mskip_rows_after_header\u001B[49m\u001B[43m=\u001B[49m\u001B[43mskip_rows_after_header\u001B[49m\u001B[43m,\u001B[49m\n\u001B[32m   1449\u001B[39m \u001B[43m    \u001B[49m\u001B[43mencoding\u001B[49m\u001B[43m=\u001B[49m\u001B[43mencoding\u001B[49m\u001B[43m,\u001B[49m\n\u001B[32m   1450\u001B[39m \u001B[43m    \u001B[49m\u001B[43mrow_index\u001B[49m\u001B[43m=\u001B[49m\u001B[43mparse_row_index_args\u001B[49m\u001B[43m(\u001B[49m\u001B[43mrow_index_name\u001B[49m\u001B[43m,\u001B[49m\u001B[43m \u001B[49m\u001B[43mrow_index_offset\u001B[49m\u001B[43m)\u001B[49m\u001B[43m,\u001B[49m\n\u001B[32m   1451\u001B[39m \u001B[43m    \u001B[49m\u001B[43mtry_parse_dates\u001B[49m\u001B[43m=\u001B[49m\u001B[43mtry_parse_dates\u001B[49m\u001B[43m,\u001B[49m\n\u001B[32m   1452\u001B[39m \u001B[43m    \u001B[49m\u001B[43meol_char\u001B[49m\u001B[43m=\u001B[49m\u001B[43meol_char\u001B[49m\u001B[43m,\u001B[49m\n\u001B[32m   1453\u001B[39m \u001B[43m    \u001B[49m\u001B[43mraise_if_empty\u001B[49m\u001B[43m=\u001B[49m\u001B[43mraise_if_empty\u001B[49m\u001B[43m,\u001B[49m\n\u001B[32m   1454\u001B[39m \u001B[43m    \u001B[49m\u001B[43mtruncate_ragged_lines\u001B[49m\u001B[43m=\u001B[49m\u001B[43mtruncate_ragged_lines\u001B[49m\u001B[43m,\u001B[49m\n\u001B[32m   1455\u001B[39m \u001B[43m    \u001B[49m\u001B[43mdecimal_comma\u001B[49m\u001B[43m=\u001B[49m\u001B[43mdecimal_comma\u001B[49m\u001B[43m,\u001B[49m\n\u001B[32m   1456\u001B[39m \u001B[43m    \u001B[49m\u001B[43mglob\u001B[49m\u001B[43m=\u001B[49m\u001B[43mglob\u001B[49m\u001B[43m,\u001B[49m\n\u001B[32m   1457\u001B[39m \u001B[43m    \u001B[49m\u001B[43mschema\u001B[49m\u001B[43m=\u001B[49m\u001B[43mschema\u001B[49m\u001B[43m,\u001B[49m\n\u001B[32m   1458\u001B[39m \u001B[43m    \u001B[49m\u001B[43mcloud_options\u001B[49m\u001B[43m=\u001B[49m\u001B[43mstorage_options\u001B[49m\u001B[43m,\u001B[49m\n\u001B[32m   1459\u001B[39m \u001B[43m    \u001B[49m\u001B[43mcredential_provider\u001B[49m\u001B[43m=\u001B[49m\u001B[43mcredential_provider\u001B[49m\u001B[43m,\u001B[49m\n\u001B[32m   1460\u001B[39m \u001B[43m    \u001B[49m\u001B[43mretries\u001B[49m\u001B[43m=\u001B[49m\u001B[43mretries\u001B[49m\u001B[43m,\u001B[49m\n\u001B[32m   1461\u001B[39m \u001B[43m    \u001B[49m\u001B[43mfile_cache_ttl\u001B[49m\u001B[43m=\u001B[49m\u001B[43mfile_cache_ttl\u001B[49m\u001B[43m,\u001B[49m\n\u001B[32m   1462\u001B[39m \u001B[43m    \u001B[49m\u001B[43minclude_file_paths\u001B[49m\u001B[43m=\u001B[49m\u001B[43minclude_file_paths\u001B[49m\u001B[43m,\u001B[49m\n\u001B[32m   1463\u001B[39m \u001B[43m\u001B[49m\u001B[43m)\u001B[49m\n\u001B[32m   1464\u001B[39m \u001B[38;5;28;01mreturn\u001B[39;00m wrap_ldf(pylf)\n",
      "\u001B[31mFileNotFoundError\u001B[39m: No such file or directory (os error 2): data/pp-2024.csv"
     ]
    }
   ],
   "source": [
    "def read_house_prices(filename: str) -> pl.DataFrame:\n",
    "    # Columns sourced from data dictionary\n",
    "    house_prices_columns = [\n",
    "        \"transaction_id\",\n",
    "        \"price\",\n",
    "        \"date_of_transfer\",\n",
    "        \"postcode\",\n",
    "        \"property_type\",\n",
    "        \"new_property\",\n",
    "        \"duration\",\n",
    "        \"paon\",\n",
    "        \"saon\",\n",
    "        \"street\",\n",
    "        \"locality\",\n",
    "        \"town\",\n",
    "        \"district\",\n",
    "        \"county\",\n",
    "        \"ppd_category_type\",\n",
    "        \"record_status\",\n",
    "    ]\n",
    "\n",
    "    df = (\n",
    "        pl.scan_csv(\n",
    "            filename,\n",
    "            has_header=False,\n",
    "            new_columns=house_prices_columns,\n",
    "        )\n",
    "        .with_columns(pl.col(\"date_of_transfer\").str.to_date(\"%Y-%m-%d %H:%M\"))\n",
    "        .collect()\n",
    "    )\n",
    "    return df\n",
    "\n",
    "\n",
    "house_prices_2024 = read_house_prices(\"data/pp-2024.csv\")\n",
    "house_prices_2024"
   ]
  },
  {
   "cell_type": "code",
   "execution_count": null,
   "id": "emfo",
   "metadata": {},
   "outputs": [],
   "source": [
    "# catalog.drop_table(\"house_prices.raw\", purge_requested=True)"
   ]
  },
  {
   "cell_type": "markdown",
   "id": "Hstk",
   "metadata": {
    "marimo": {
     "config": {
      "hide_code": true
     }
    }
   },
   "source": [
    "## Writing the Data\n",
    "Now that we have the data loaded, we're ready to write it out to our Iceberg table. We have 3 different strategies available to us:\n",
    "\n",
    "- append\n",
    "- overwrite\n",
    "- upsert\n",
    "\n",
    "Append and overwrite should hopefully make sense.\n",
    "Upsert is a recent addition to Pyiceberg. Given a key column, it will compare the keys to decide if data should be updated or inserted.\n",
    "\n",
    "For now, let's stick to `append`.\n",
    "\n",
    "```{note} Note on schemas\n",
    "PyIceberg is strict on the schema - by default, Polars is a bit looser, so we need to `cast` the exported polars arrow table into the same schema as we've defined - otherwise our write will be rejected.```\n"
   ]
  },
  {
   "cell_type": "code",
   "execution_count": null,
   "id": "nWHF",
   "metadata": {},
   "outputs": [],
   "source": [
    "# Export to arrow and cast it\n",
    "house_prices_arrow = (\n",
    "    house_prices_2024\n",
    "    .to_arrow()  # Export to an Arrow table\n",
    "    .cast(house_prices_schema.as_arrow())  # Cast into the Iceberg schema\n",
    ")\n",
    "# Append data to the table\n",
    "house_prices_t.append(house_prices_arrow)"
   ]
  },
  {
   "cell_type": "markdown",
   "id": "iLit",
   "metadata": {
    "marimo": {
     "config": {
      "hide_code": true
     }
    }
   },
   "source": [
    "# Metadata - the secret of Iceberg\n",
    "\n",
    "Now that we've created a schema for our houseprices, let's take a look at the metadata that we've created. In Iceberg, all the metadata is stored in a combination of JSON and Avro, and all the metadata is stored in the S3 buckets directly, which is what makes it accessible from the various query engines.\n",
    "\n",
    "Let's have a look at the different files we've created out of the box. First, we need something that can talk to S3 - in this case our Minio S3 - enter fsspec and s3fs"
   ]
  },
  {
   "cell_type": "code",
   "execution_count": 10,
   "id": "ZHCJ",
   "metadata": {},
   "outputs": [
    {
     "data": {
      "text/plain": [
       "['warehouse/house_prices']"
      ]
     },
     "execution_count": 10,
     "metadata": {},
     "output_type": "execute_result"
    }
   ],
   "source": [
    "import s3fs\n",
    "\n",
    "fs = s3fs.S3FileSystem(endpoint_url=\"http://minio:9000\", key=\"minio\", secret=\"minio1234\")\n",
    "fs.ls(\"/warehouse\")"
   ]
  },
  {
   "cell_type": "markdown",
   "id": "ROlb",
   "metadata": {
    "marimo": {
     "config": {
      "hide_code": true
     }
    }
   },
   "source": [
    "Now that we have something that can read our S3 bucket in Minio, we need to know where our Iceberg Catalogue put our most recent table update. PyIceberg stores that information in the `metadata_location` of the table"
   ]
  },
  {
   "cell_type": "code",
   "execution_count": 11,
   "id": "qnkX",
   "metadata": {},
   "outputs": [
    {
     "data": {
      "text/plain": [
       "'s3://warehouse/house_prices/raw/metadata/00007-01968d48-333d-78c1-8f0f-3ea7dcd532ed.gz.metadata.json'"
      ]
     },
     "execution_count": 11,
     "metadata": {},
     "output_type": "execute_result"
    }
   ],
   "source": [
    "house_prices_t.metadata_location"
   ]
  },
  {
   "cell_type": "markdown",
   "id": "TqIu",
   "metadata": {
    "marimo": {
     "config": {
      "hide_code": true
     }
    }
   },
   "source": [
    "That's a gzipped json file, a choice that our Iceberg Rest Catalog has chosen for us, so we need to do some extra work to read our metadata."
   ]
  },
  {
   "cell_type": "code",
   "execution_count": 12,
   "id": "Vxnm",
   "metadata": {},
   "outputs": [],
   "source": [
    "from fsspec import AbstractFileSystem\n",
    "from pyiceberg.table import Table\n",
    "from typing import Any\n",
    "import gzip\n",
    "import json\n",
    "\n",
    "\n",
    "def get_iceberg_metadata(fs: AbstractFileSystem, table: Table) -> dict[str, Any]:\n",
    "    \"\"\"Unzips the gzipped json and reads it into a dictionary\"\"\"\n",
    "    with fs.open(table.metadata_location) as f, gzip.open(f) as g_f:\n",
    "        return json.load(g_f)"
   ]
  },
  {
   "cell_type": "markdown",
   "id": "DnEU",
   "metadata": {
    "marimo": {
     "config": {
      "hide_code": true
     }
    }
   },
   "source": [
    "Let's have a look at the contents of the current metadata.json to get a better understanding of how Iceberg does what it does"
   ]
  },
  {
   "cell_type": "code",
   "execution_count": 15,
   "id": "ulZA",
   "metadata": {},
   "outputs": [
    {
     "data": {
      "application/json": {
       "current-schema-id": 1,
       "current-snapshot-id": 6910125867099050000,
       "default-sort-order-id": 0,
       "default-spec-id": 0,
       "format-version": 2,
       "last-column-id": 17,
       "last-partition-id": 999,
       "last-sequence-number": 9,
       "last-updated-ms": 1746127041296,
       "location": "s3://warehouse/house_prices/raw",
       "metadata-log": [
        {
         "metadata-file": "s3://warehouse/house_prices/raw/metadata/00000-01968838-cc69-7d11-9c69-2c6a24f44c03.gz.metadata.json",
         "timestamp-ms": 1746042145898
        },
        {
         "metadata-file": "s3://warehouse/house_prices/raw/metadata/00001-01968839-f40c-7d01-aa04-3c311e5c1c4f.gz.metadata.json",
         "timestamp-ms": 1746042221559
        },
        {
         "metadata-file": "s3://warehouse/house_prices/raw/metadata/00002-0196883c-3431-7552-a492-a1f738d30d4f.gz.metadata.json",
         "timestamp-ms": 1746042369052
        },
        {
         "metadata-file": "s3://warehouse/house_prices/raw/metadata/00003-01968851-2572-70b3-b798-49f74555de06.gz.metadata.json",
         "timestamp-ms": 1746043741554
        },
        {
         "metadata-file": "s3://warehouse/house_prices/raw/metadata/00004-01968851-c505-71d1-b92e-a8563f4e905e.gz.metadata.json",
         "timestamp-ms": 1746043782346
        },
        {
         "metadata-file": "s3://warehouse/house_prices/raw/metadata/00005-01968859-6407-7110-9864-62131bf46c7c.gz.metadata.json",
         "timestamp-ms": 1746044281857
        },
        {
         "metadata-file": "s3://warehouse/house_prices/raw/metadata/00006-01968861-a969-7c00-809b-33765f8a70a5.gz.metadata.json",
         "timestamp-ms": 1746044818422
        }
       ],
       "partition-specs": [
        {
         "fields": [],
         "spec-id": 0
        }
       ],
       "refs": {
        "main": {
         "snapshot-id": 6910125867099050000,
         "type": "branch"
        }
       },
       "schemas": [
        {
         "fields": [
          {
           "doc": "A reference number which is generated automatically recording each published sale. The number is unique and will change each time a sale is recorded.",
           "id": 1,
           "name": "transaction_id",
           "required": true,
           "type": "string"
          },
          {
           "doc": "Sale price stated on the transfer deed.",
           "id": 2,
           "name": "price",
           "required": true,
           "type": "int"
          },
          {
           "doc": "Date when the sale was completed, as stated on the transfer deed.",
           "id": 3,
           "name": "date_of_transfer",
           "required": true,
           "type": "date"
          },
          {
           "doc": "This is the postcode used at the time of the original transaction. Note that postcodes can be reallocated and these changes are not reflected in the Price Paid Dataset.",
           "id": 4,
           "name": "postcode",
           "required": true,
           "type": "string"
          },
          {
           "doc": "D = Detached, S = Semi-Detached, T = Terraced, F = Flats/Maisonettes, O = Other",
           "id": 5,
           "name": "property_type",
           "required": true,
           "type": "string"
          },
          {
           "doc": "Indicates the age of the property and applies to all price paid transactions, residential and non-residential. Y = a newly built property, N = an established residential building",
           "id": 6,
           "name": "new_property",
           "required": true,
           "type": "string"
          },
          {
           "doc": "Relates to the tenure: F = Freehold, L= Leasehold etc. Note that HM Land Registry does not record leases of 7 years or less in the Price Paid Dataset.",
           "id": 7,
           "name": "duration",
           "required": true,
           "type": "string"
          },
          {
           "doc": "Primary Addressable Object Name. Typically the house number or name",
           "id": 8,
           "name": "paon",
           "required": false,
           "type": "string"
          },
          {
           "doc": "Secondary Addressable Object Name. Where a property has been divided into separate units (for example, flats), the PAON (above) will identify the building and a SAON will be specified that identifies the separate unit/flat.",
           "id": 9,
           "name": "saon",
           "required": false,
           "type": "string"
          },
          {
           "id": 10,
           "name": "street",
           "required": false,
           "type": "string"
          },
          {
           "id": 11,
           "name": "locality",
           "required": false,
           "type": "string"
          },
          {
           "id": 12,
           "name": "town",
           "required": false,
           "type": "string"
          },
          {
           "id": 13,
           "name": "district",
           "required": false,
           "type": "string"
          },
          {
           "id": 14,
           "name": "county",
           "required": false,
           "type": "string"
          },
          {
           "doc": "Indicates the type of Price Paid transaction. A = Standard Price Paid entry, includes single residential property sold for value. B = Additional Price Paid entry including transfers under a power of sale/repossessions, buy-to-lets (where they can be identified by a Mortgage), transfers to non-private individuals and sales where the property type is classed as ‘Other’.",
           "id": 15,
           "name": "ppd_category_type",
           "required": false,
           "type": "string"
          },
          {
           "doc": "Indicates additions, changes and deletions to the records. A = Addition C = Change D = Delete",
           "id": 16,
           "name": "record_status",
           "required": false,
           "type": "string"
          }
         ],
         "identifier-field-ids": [
          1
         ],
         "schema-id": 0,
         "type": "struct"
        },
        {
         "fields": [
          {
           "doc": "A reference number which is generated automatically recording each published sale. The number is unique and will change each time a sale is recorded.",
           "id": 1,
           "name": "transaction_id",
           "required": true,
           "type": "string"
          },
          {
           "doc": "Sale price stated on the transfer deed.",
           "id": 2,
           "name": "price",
           "required": true,
           "type": "int"
          },
          {
           "doc": "Date when the sale was completed, as stated on the transfer deed.",
           "id": 3,
           "name": "date_of_transfer",
           "required": true,
           "type": "date"
          },
          {
           "doc": "This is the postcode used at the time of the original transaction. Note that postcodes can be reallocated and these changes are not reflected in the Price Paid Dataset.",
           "id": 4,
           "name": "postcode",
           "required": true,
           "type": "string"
          },
          {
           "doc": "D = Detached, S = Semi-Detached, T = Terraced, F = Flats/Maisonettes, O = Other",
           "id": 5,
           "name": "property_type",
           "required": true,
           "type": "string"
          },
          {
           "doc": "Indicates the age of the property and applies to all price paid transactions, residential and non-residential. Y = a newly built property, N = an established residential building",
           "id": 6,
           "name": "new_property",
           "required": true,
           "type": "string"
          },
          {
           "doc": "Relates to the tenure: F = Freehold, L= Leasehold etc. Note that HM Land Registry does not record leases of 7 years or less in the Price Paid Dataset.",
           "id": 7,
           "name": "duration",
           "required": true,
           "type": "string"
          },
          {
           "doc": "Primary Addressable Object Name. Typically the house number or name",
           "id": 8,
           "name": "paon",
           "required": false,
           "type": "string"
          },
          {
           "doc": "Secondary Addressable Object Name. Where a property has been divided into separate units (for example, flats), the PAON (above) will identify the building and a SAON will be specified that identifies the separate unit/flat.",
           "id": 9,
           "name": "saon",
           "required": false,
           "type": "string"
          },
          {
           "id": 10,
           "name": "street",
           "required": false,
           "type": "string"
          },
          {
           "id": 11,
           "name": "locality",
           "required": false,
           "type": "string"
          },
          {
           "id": 12,
           "name": "town",
           "required": false,
           "type": "string"
          },
          {
           "id": 13,
           "name": "district",
           "required": false,
           "type": "string"
          },
          {
           "id": 14,
           "name": "county",
           "required": false,
           "type": "string"
          },
          {
           "doc": "Indicates the type of Price Paid transaction. A = Standard Price Paid entry, includes single residential property sold for value. B = Additional Price Paid entry including transfers under a power of sale/repossessions, buy-to-lets (where they can be identified by a Mortgage), transfers to non-private individuals and sales where the property type is classed as ‘Other’.",
           "id": 15,
           "name": "ppd_category_type",
           "required": false,
           "type": "string"
          },
          {
           "doc": "Indicates additions, changes and deletions to the records. A = Addition C = Change D = Delete",
           "id": 16,
           "name": "record_status",
           "required": false,
           "type": "string"
          },
          {
           "doc": "The date this row was loaded",
           "id": 17,
           "name": "_loaded_at",
           "required": false,
           "type": "timestamptz"
          }
         ],
         "identifier-field-ids": [
          1
         ],
         "schema-id": 1,
         "type": "struct"
        }
       ],
       "snapshot-log": [
        {
         "snapshot-id": 3870307059191543000,
         "timestamp-ms": 1746042221559
        },
        {
         "snapshot-id": 6160762292259832000,
         "timestamp-ms": 1746042369052
        },
        {
         "snapshot-id": 4389943633381866500,
         "timestamp-ms": 1746043782346
        },
        {
         "snapshot-id": 7243334300264101000,
         "timestamp-ms": 1746044281857
        },
        {
         "snapshot-id": 5618685459824119000,
         "timestamp-ms": 1746044818422
        },
        {
         "snapshot-id": 6910125867099050000,
         "timestamp-ms": 1746127041296
        }
       ],
       "snapshots": [
        {
         "manifest-list": "s3://warehouse/house_prices/raw/metadata/snap-6910125867099050337-1-cea3f2bb-02a4-4204-b33a-9caa50de8b30.avro",
         "parent-snapshot-id": 5618685459824119000,
         "schema-id": 1,
         "sequence-number": 9,
         "snapshot-id": 6910125867099050000,
         "summary": {
          "added-data-files": "1",
          "added-delete-files": "1",
          "added-files-size": "19156388",
          "added-position-delete-files": "1",
          "added-position-deletes": "841772",
          "added-records": "841772",
          "changed-partition-count": "1",
          "engine-name": "trino",
          "engine-version": "475",
          "iceberg-version": "Apache Iceberg 1.8.1 (commit 9ce0fcf0af7becf25ad9fc996c3bad2afdcfd33d)",
          "operation": "overwrite",
          "total-data-files": "3",
          "total-delete-files": "1",
          "total-equality-deletes": "0",
          "total-files-size": "54192605",
          "total-position-deletes": "841772",
          "total-records": "2387888",
          "trino_query_id": "20250501_191715_00006_hpuqw",
          "trino_user": "trino"
         },
         "timestamp-ms": 1746127041296
        },
        {
         "manifest-list": "s3://warehouse/house_prices/raw/metadata/snap-122416445074455388-0-93a24c82-35f7-41a6-a086-3f5a5f80f71f.avro",
         "parent-snapshot-id": 6160762292259832000,
         "schema-id": 1,
         "sequence-number": 3,
         "snapshot-id": 122416445074455400,
         "summary": {
          "operation": "append",
          "total-data-files": "2",
          "total-delete-files": "0",
          "total-equality-deletes": "0",
          "total-files-size": "34931712",
          "total-position-deletes": "0",
          "total-records": "1546116"
         },
         "timestamp-ms": 1746043777002
        },
        {
         "manifest-list": "s3://warehouse/house_prices/raw/metadata/snap-6160762292259832203-0-0ab09c23-d71c-4686-968a-f5ebd7b2e32a.avro",
         "parent-snapshot-id": 3870307059191543000,
         "schema-id": 0,
         "sequence-number": 2,
         "snapshot-id": 6160762292259832000,
         "summary": {
          "added-data-files": "1",
          "added-files-size": "19093353",
          "added-records": "841772",
          "operation": "append",
          "total-data-files": "2",
          "total-delete-files": "0",
          "total-equality-deletes": "0",
          "total-files-size": "34931712",
          "total-position-deletes": "0",
          "total-records": "1546116"
         },
         "timestamp-ms": 1746042369052
        },
        {
         "manifest-list": "s3://warehouse/house_prices/raw/metadata/snap-5618685459824118337-0-7bf798c2-eb25-4ed2-bd60-763a05f01b68.avro",
         "parent-snapshot-id": 1092067571415845100,
         "schema-id": 1,
         "sequence-number": 8,
         "snapshot-id": 5618685459824119000,
         "summary": {
          "added-data-files": "1",
          "added-files-size": "15942864",
          "added-records": "704344",
          "operation": "append",
          "total-data-files": "2",
          "total-delete-files": "0",
          "total-equality-deletes": "0",
          "total-files-size": "35036217",
          "total-position-deletes": "0",
          "total-records": "1546116"
         },
         "timestamp-ms": 1746044818422
        },
        {
         "manifest-list": "s3://warehouse/house_prices/raw/metadata/snap-4996382859333512033-0-82452e34-89b7-4a80-9918-10bf35efe7d5.avro",
         "parent-snapshot-id": 4389943633381866500,
         "schema-id": 1,
         "sequence-number": 5,
         "snapshot-id": 4996382859333512000,
         "summary": {
          "operation": "append",
          "total-data-files": "2",
          "total-delete-files": "0",
          "total-equality-deletes": "0",
          "total-files-size": "34931712",
          "total-position-deletes": "0",
          "total-records": "1546116"
         },
         "timestamp-ms": 1746044276555
        },
        {
         "manifest-list": "s3://warehouse/house_prices/raw/metadata/snap-7243334300264100548-0-6b4ec6d0-53cd-468c-a583-7e2ea18ceeea.avro",
         "parent-snapshot-id": 4996382859333512000,
         "schema-id": 1,
         "sequence-number": 6,
         "snapshot-id": 7243334300264101000,
         "summary": {
          "operation": "append",
          "total-data-files": "2",
          "total-delete-files": "0",
          "total-equality-deletes": "0",
          "total-files-size": "34931712",
          "total-position-deletes": "0",
          "total-records": "1546116"
         },
         "timestamp-ms": 1746044281857
        },
        {
         "manifest-list": "s3://warehouse/house_prices/raw/metadata/snap-3870307059191542653-0-7262a90a-be35-49a5-9331-c3fc7ae49ae2.avro",
         "schema-id": 0,
         "sequence-number": 1,
         "snapshot-id": 3870307059191543000,
         "summary": {
          "added-data-files": "1",
          "added-files-size": "15838359",
          "added-records": "704344",
          "operation": "append",
          "total-data-files": "1",
          "total-delete-files": "0",
          "total-equality-deletes": "0",
          "total-files-size": "15838359",
          "total-position-deletes": "0",
          "total-records": "704344"
         },
         "timestamp-ms": 1746042221559
        },
        {
         "manifest-list": "s3://warehouse/house_prices/raw/metadata/snap-1092067571415845178-0-76964b56-f1a2-48f7-9ef5-0df4ffc7d9b3.avro",
         "parent-snapshot-id": 7243334300264101000,
         "schema-id": 1,
         "sequence-number": 7,
         "snapshot-id": 1092067571415845100,
         "summary": {
          "deleted-data-files": "1",
          "deleted-records": "704344",
          "operation": "overwrite",
          "removed-files-size": "15838359",
          "total-data-files": "1",
          "total-delete-files": "0",
          "total-equality-deletes": "0",
          "total-files-size": "19093353",
          "total-position-deletes": "0",
          "total-records": "841772"
         },
         "timestamp-ms": 1746044817891
        },
        {
         "manifest-list": "s3://warehouse/house_prices/raw/metadata/snap-4389943633381866277-0-29107d24-950b-4a91-89be-01cae9c8fb09.avro",
         "parent-snapshot-id": 122416445074455400,
         "schema-id": 1,
         "sequence-number": 4,
         "snapshot-id": 4389943633381866500,
         "summary": {
          "operation": "append",
          "total-data-files": "2",
          "total-delete-files": "0",
          "total-equality-deletes": "0",
          "total-files-size": "34931712",
          "total-position-deletes": "0",
          "total-records": "1546116"
         },
         "timestamp-ms": 1746043782346
        }
       ],
       "sort-orders": [
        {
         "fields": [],
         "order-id": 0
        }
       ],
       "table-uuid": "01968838-cc69-7d11-9c69-2c58aa2bc8bc"
      },
      "text/plain": [
       "<IPython.core.display.JSON object>"
      ]
     },
     "execution_count": 15,
     "metadata": {
      "application/json": {
       "expanded": false,
       "root": "root"
      }
     },
     "output_type": "execute_result"
    }
   ],
   "source": [
    "from IPython.display import JSON\n",
    "JSON(get_iceberg_metadata(fs, house_prices_t))"
   ]
  },
  {
   "cell_type": "markdown",
   "id": "ecfG",
   "metadata": {
    "marimo": {
     "config": {
      "hide_code": true
     }
    }
   },
   "source": [
    "The next layer of the onion is the `manifest list` - we can find that by looking in the `snapshots` array for the current snapshot. Note that the manifest list is stored as Avro for faster scanning. Let's convert it to a dictionary for our simple human brains to understand."
   ]
  },
  {
   "cell_type": "code",
   "execution_count": null,
   "id": "Pvdt",
   "metadata": {},
   "outputs": [],
   "source": [
    "def get_iceberg_manifest_list(fs: AbstractFileSystem, table: Table) -> dict[str, Any]:\n",
    "    \"\"\"Fetch the manifest list for the current snapshot and convert to a list of dicts\"\"\"\n",
    "    manifest_list = table.current_snapshot().manifest_list\n",
    "    with fs.open(manifest_list) as f:\n",
    "        return pl.read_avro(f).to_dicts()\n",
    "\n",
    "\n",
    "get_iceberg_manifest_list(fs, house_prices_t)"
   ]
  },
  {
   "cell_type": "markdown",
   "id": "ZBYS",
   "metadata": {
    "marimo": {
     "config": {
      "hide_code": true
     }
    }
   },
   "source": [
    "We can see that the manifest list unsurprisingly contains a list of manifests, alongside some metadata for that particular manifest. We've only written one file to our Iceberg table, so we have only one manifest currently. Let's dig one level deeper and open that manifest."
   ]
  },
  {
   "cell_type": "code",
   "execution_count": null,
   "id": "aLJB",
   "metadata": {},
   "outputs": [],
   "source": [
    "def get_iceberg_manifest(fs: AbstractFileSystem, table: Table, index=-1):\n",
    "    \"\"\"Get the manifest at the `index` position from the manifest list. \"\"\"\n",
    "    manifest_list = get_iceberg_manifest_list(fs, table)\n",
    "    with fs.open(manifest_list[index][\"manifest_path\"]) as m_f:\n",
    "        return pl.read_avro(m_f).to_dicts()\n",
    "\n",
    "\n",
    "get_iceberg_manifest(fs, house_prices_t)"
   ]
  },
  {
   "cell_type": "markdown",
   "id": "nHfw",
   "metadata": {
    "marimo": {
     "config": {
      "hide_code": true
     }
    }
   },
   "source": [
    "At the lowest level of metadata, we can see a reference to the actual data files that make up the physical data stored on disk.\n",
    "\n",
    "/// admonition\n",
    "\n",
    "Note that Iceberg keeps track of the physical files of the table, unlike something like Hive, which uses a folder as a logical container for a table.\n",
    "\n",
    "///\n",
    "\n",
    "We can see that the Parquet file is pretty much as we expected, and we can read it directly as any other Parquet files - Iceberg doesn't specify anything about the physical data - it just stores metadata about the files to enable all the features of Iceberg"
   ]
  },
  {
   "cell_type": "code",
   "execution_count": null,
   "id": "xXTn",
   "metadata": {},
   "outputs": [],
   "source": [
    "def get_iceberg_data_file(fs: AbstractFileSystem, table: Table, index=-1) -> pl.DataFrame:\n",
    "    \"\"\"Read the data file from the `index` position in the data_file\"\"\"\n",
    "    manifest = get_iceberg_manifest(fs, table, index)\n",
    "    with fs.open(manifest[index][\"data_file\"][\"file_path\"]) as p_f:\n",
    "        return pl.read_parquet(p_f)\n",
    "\n",
    "\n",
    "get_iceberg_data_file(fs, house_prices_t, 0)"
   ]
  },
  {
   "cell_type": "code",
   "execution_count": null,
   "id": "AjVT",
   "metadata": {
    "marimo": {
     "config": {
      "hide_code": true
     }
    }
   },
   "outputs": [],
   "source": [
    "mo.md(\n",
    "    f\"\"\"In total, on disk, this comes to around {get_iceberg_manifest(fs, house_prices_t)[0]['data_file']['file_size_in_bytes'] / 1024 / 1024:0.2f} MB, which is pretty small, so we only have one data file in our manifest\"\"\")"
   ]
  },
  {
   "cell_type": "markdown",
   "id": "pHFh",
   "metadata": {
    "marimo": {
     "config": {
      "hide_code": true
     }
    }
   },
   "source": [
    "Let's add some more data. Using PyIceberg, we can easily append more data."
   ]
  },
  {
   "cell_type": "code",
   "execution_count": null,
   "id": "NCOB",
   "metadata": {},
   "outputs": [],
   "source": [
    "house_prices_2023 = read_house_prices(\"data/pp-2023.csv\")\n",
    "house_prices_t.append(house_prices_2023.to_arrow().cast(house_prices_schema.as_arrow()))"
   ]
  },
  {
   "cell_type": "markdown",
   "id": "aqbW",
   "metadata": {
    "marimo": {
     "config": {
      "hide_code": true
     }
    }
   },
   "source": [
    "Now that we have some more data, what do you see that has changed in the metadata?"
   ]
  },
  {
   "cell_type": "code",
   "execution_count": null,
   "id": "TRpd",
   "metadata": {},
   "outputs": [],
   "source": [
    "get_iceberg_metadata(fs, house_prices_t)"
   ]
  },
  {
   "cell_type": "code",
   "execution_count": null,
   "id": "TXez",
   "metadata": {},
   "outputs": [],
   "source": [
    "get_iceberg_manifest_list(fs, house_prices_t)"
   ]
  },
  {
   "cell_type": "code",
   "execution_count": null,
   "id": "dNNg",
   "metadata": {},
   "outputs": [],
   "source": [
    "get_iceberg_manifest(fs, house_prices_t, index=0)"
   ]
  },
  {
   "cell_type": "markdown",
   "id": "yCnT",
   "metadata": {
    "marimo": {
     "config": {
      "hide_code": true
     }
    }
   },
   "source": [
    "## Concluding on Metadata\n",
    "\n",
    "All the metadata we've looked at here is stored in object storage. It's this metadata which powers all of Iceberg - if you can understand how this metadata is put together, you understand the inner workings of Iceberg."
   ]
  }
 ],
 "metadata": {
  "kernelspec": {
   "display_name": "Python 3 (ipykernel)",
   "language": "python",
   "name": "python3"
  },
  "language_info": {
   "codemirror_mode": {
    "name": "ipython",
    "version": 3
   },
   "file_extension": ".py",
   "mimetype": "text/x-python",
   "name": "python",
   "nbconvert_exporter": "python",
   "pygments_lexer": "ipython3",
   "version": "3.12.10"
  }
 },
 "nbformat": 4,
 "nbformat_minor": 5
}
