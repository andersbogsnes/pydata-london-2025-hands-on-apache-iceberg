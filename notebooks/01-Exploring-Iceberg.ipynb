{
 "cells": [
  {
   "cell_type": "code",
   "execution_count": 2,
   "id": "Hbol",
   "metadata": {
    "ExecuteTime": {
     "end_time": "2025-05-05T19:19:36.071666Z",
     "start_time": "2025-05-05T19:19:35.247612Z"
    },
    "marimo": {
     "config": {
      "hide_code": true
     }
    }
   },
   "outputs": [],
   "source": [
    "from pyiceberg.catalog.rest import RestCatalog\n",
    "import polars as pl\n",
    "from IPython.display import JSON, Markdown"
   ]
  },
  {
   "cell_type": "markdown",
   "id": "MJUe",
   "metadata": {
    "marimo": {
     "config": {
      "hide_code": true
     }
    }
   },
   "source": [
    "# Hands-on with Apache Iceberg\n",
    "\n",
    "Welcome to this hands-on demo of working with Apache Iceberg. In this demo, our motivating task is to answer the question:\n",
    "\n",
    "**\"Is my house worth its weight in gold?\"**\n",
    "\n",
    "We will go through some fundamentals of working with Iceberg, and then work our way towards answering this important question. There will be some exercises along the way, so you can get some practice. That also means, you need to remember to execute every cell!\n",
    "\n",
    "The data we will be working with today is the **Price Paid Dataset** (aka PPD) which is published on `gov.uk`. The description of the website states\n",
    "\n",
    "> Our Price Paid Data includes information on all property sales in England and Wales that are sold for value and are lodged with us for registration.\n",
    "\n",
    "As per the license terms, we include the proper attribution and a link to OGL [here](https://www.nationalarchives.gov.uk/doc/open-government-licence/version/3/)\n",
    "> Contains HM Land Registry data © Crown copyright and database right 2021. This data is licensed under the Open Government Licence v3.0.\n",
    "\n",
    "\n",
    "```{note}\n",
    "Before we get started, make sure you've run the following if you want to follow along:\n",
    "- `docker compose up -d` \n",
    "- `iceberg download housing` \n",
    "- `iceberg bootstrap`\n",
    "```"
   ]
  },
  {
   "attachments": {},
   "cell_type": "markdown",
   "id": "30e30844-02f7-499b-9f19-2a47edfdf9e4",
   "metadata": {},
   "source": [
    "# Intro to Apache Iceberg\n",
    "\n",
    "Apache Iceberg is a specification - it merely defines how the data and metadata should be stored on disk. This is the power of standards specifications, as anyone can read and write Iceberg if they follow the specification.\n",
    "\n",
    "The specification is [fairly long and detailed](https://iceberg.apache.org/spec/), but we will walk through the core concepts to give you an understanding of what Iceberg is doing under the hood.\n",
    "\n",
    "## Iceberg Architecture\n",
    "\n",
    "This is Iceberg - after this demo, you should walk away with a pretty good understanding of what this drawing is showing\n",
    "\n",
    "![Iceberg Architecture](images/iceberg_architecture.svg)\n"
   ]
  },
  {
   "cell_type": "markdown",
   "id": "vblA",
   "metadata": {
    "marimo": {
     "config": {
      "hide_code": true
     }
    }
   },
   "source": [
    "## The Catalog\n",
    "\n",
    "First we need a catalog - the catalog keeps track of the current version of the metadata as well as mapping a given table name to a given set of metadata. \n",
    "\n",
    "![Architecture Catalog](images/iceberg_architecture_catalogue.svg)\n",
    "\n",
    "The choice of catalog is the first choice to make when adopting Iceberg. \n",
    "\n",
    "Sometimes it's made for you e.g `AWS Glue` for Athena-based workloads, `Polaris/Open Catalog` for Snowflake based teams or `Unity Catalog` for the Databricks fans. \n",
    "\n",
    "Sometimes you're looking for specific features such as `Nessie`'s focus on branching workflows, or the compatibility of `Hive Meta Store`. \n",
    "\n",
    "Today we will be using `Lakekeeper`, a Rust implementation that is a single binary. Note that while Lakekeeper has full support for AuthN/AuthZ, for the sake of the demo, no protection is being used - don't do this at home kids!"
   ]
  },
  {
   "cell_type": "code",
   "execution_count": 3,
   "id": "bkHC",
   "metadata": {
    "ExecuteTime": {
     "end_time": "2025-05-04T19:15:30.914212Z",
     "start_time": "2025-05-04T19:15:30.871978Z"
    }
   },
   "outputs": [],
   "source": [
    "# The warehouse was created during the bootstrapping process, it's specific to Lakekeeper\n",
    "catalog = RestCatalog(\n",
    "    \"lakekeeper\", uri=\"http://lakekeeper:8181/catalog\", warehouse=\"lakehouse\"\n",
    ")"
   ]
  },
  {
   "cell_type": "markdown",
   "id": "8a8a5c20-0746-4b2a-9bb5-e24ce5649a3d",
   "metadata": {},
   "source": [
    "In Iceberg, a catalog is responsible for any number of sets of tables, where a set of tables is grouped into a namespace. The catalogue can specify additional layers, such as the `warehouse` abstraction offered by Lakekeeper, though this is not required by the Iceberg spec.\n",
    "\n",
    "Since we're dealing with house prices, let's go with `housing` - you could imagine we would want to add other interesting housing-related datasets at a later point"
   ]
  },
  {
   "cell_type": "code",
   "execution_count": 4,
   "id": "lEQa",
   "metadata": {},
   "outputs": [],
   "source": [
    "catalog.create_namespace_if_not_exists(\"housing\")"
   ]
  },
  {
   "cell_type": "markdown",
   "id": "PKri",
   "metadata": {
    "marimo": {
     "config": {
      "hide_code": true
     }
    }
   },
   "source": [
    "## Schema\n",
    "\n",
    "Next we need a schema. In PyIceberg, we can define the schema using Pyiceberg types, though many query engines also support creating Iceberg tables via SQL."
   ]
  },
  {
   "cell_type": "code",
   "execution_count": 5,
   "id": "Xref",
   "metadata": {},
   "outputs": [],
   "source": [
    "from pyiceberg.schema import Schema, NestedField, StringType, IntegerType, DateType\n",
    "\n",
    "housing_prices_schema = Schema(\n",
    "    NestedField(\n",
    "        1,\n",
    "        \"transaction_id\",\n",
    "        StringType(),\n",
    "        required=True,\n",
    "        doc=\"A reference number which is generated automatically recording each published sale. The number is unique and will change each time a sale is recorded.\",\n",
    "    ),\n",
    "    NestedField(\n",
    "        2,\n",
    "        \"price\",\n",
    "        IntegerType(),\n",
    "        required=True,\n",
    "        doc=\"Sale price stated on the transfer deed.\",\n",
    "    ),\n",
    "    NestedField(\n",
    "        3,\n",
    "        \"date_of_transfer\",\n",
    "        DateType(),\n",
    "        required=True,\n",
    "        doc=\"Date when the sale was completed, as stated on the transfer deed.\",\n",
    "    ),\n",
    "    NestedField(\n",
    "        4,\n",
    "        \"postcode\",\n",
    "        StringType(),\n",
    "        required=True,\n",
    "        doc=\"This is the postcode used at the time of the original transaction. Note that postcodes can be reallocated and these changes are not reflected in the Price Paid Dataset.\",\n",
    "    ),\n",
    "    NestedField(\n",
    "        5,\n",
    "        \"property_type\",\n",
    "        StringType(),\n",
    "        required=True,\n",
    "        doc=\"D = Detached, S = Semi-Detached, T = Terraced, F = Flats/Maisonettes, O = Other\",\n",
    "    ),\n",
    "    NestedField(\n",
    "        6,\n",
    "        \"new_property\",\n",
    "        StringType(),\n",
    "        required=True,\n",
    "        doc=\"Indicates the age of the property and applies to all price paid transactions, residential and non-residential. Y = a newly built property, N = an established residential building\",\n",
    "    ),\n",
    "    NestedField(\n",
    "        7,\n",
    "        \"duration\",\n",
    "        StringType(),\n",
    "        required=True,\n",
    "        doc=\"Relates to the tenure: F = Freehold, L= Leasehold etc. Note that HM Land Registry does not record leases of 7 years or less in the Price Paid Dataset.\",\n",
    "    ),\n",
    "    NestedField(\n",
    "        8,\n",
    "        \"paon\",\n",
    "        StringType(),\n",
    "        doc=\"Primary Addressable Object Name. Typically the house number or name\",\n",
    "    ),\n",
    "    NestedField(\n",
    "        9,\n",
    "        \"saon\",\n",
    "        StringType(),\n",
    "        doc=\"Secondary Addressable Object Name. Where a property has been divided into separate units (for example, flats), the PAON (above) will identify the building and a SAON will be specified that identifies the separate unit/flat.\",\n",
    "    ),\n",
    "    NestedField(10, \"street\", StringType()),\n",
    "    NestedField(11, \"locality\", StringType()),\n",
    "    NestedField(12, \"town\", StringType()),\n",
    "    NestedField(13, \"district\", StringType()),\n",
    "    NestedField(14, \"county\", StringType()),\n",
    "    NestedField(\n",
    "        15,\n",
    "        \"ppd_category_type\",\n",
    "        StringType(),\n",
    "        doc=\"Indicates the type of Price Paid transaction. A = Standard Price Paid entry, includes single residential property sold for value. B = Additional Price Paid entry including transfers under a power of sale/repossessions, buy-to-lets (where they can be identified by a Mortgage), transfers to non-private individuals and sales where the property type is classed as ‘Other’.\",\n",
    "    ),\n",
    "    NestedField(\n",
    "        16,\n",
    "        \"record_status\",\n",
    "        StringType(),\n",
    "        doc=\"Indicates additions, changes and deletions to the records. A = Addition C = Change D = Delete\",\n",
    "    ),\n",
    "    identifier_field_ids=[1],\n",
    ")"
   ]
  },
  {
   "cell_type": "markdown",
   "id": "SFPL",
   "metadata": {
    "marimo": {
     "config": {
      "hide_code": true
     }
    }
   },
   "source": [
    "## The Table\n",
    "\n",
    "With our schema in place, we're now ready to create the table. Here we are directly specifying the location where the table will be stored, though depending on the catalog, it can automatically assign a location."
   ]
  },
  {
   "cell_type": "code",
   "execution_count": 6,
   "id": "BYtC",
   "metadata": {},
   "outputs": [],
   "source": [
    "house_prices_t = catalog.create_table_if_not_exists(\n",
    "    \"housing.staging_prices\",\n",
    "    schema=housing_prices_schema,\n",
    "    location=\"s3://warehouse/housing/staging\",\n",
    ")"
   ]
  },
  {
   "cell_type": "markdown",
   "id": "RGSE",
   "metadata": {
    "marimo": {
     "config": {
      "hide_code": true
     }
    }
   },
   "source": [
    "## The Data\n",
    "Pyiceberg relies on Apache Arrow as its Data Interchange Format, so we need to read in our CSV files and convert them to Arrow. \n",
    "\n",
    "We need to do some light processing of the data, like setting the headers and casting the dtypes properly. "
   ]
  },
  {
   "cell_type": "code",
   "execution_count": 7,
   "id": "Kclp",
   "metadata": {},
   "outputs": [
    {
     "data": {
      "text/html": [
       "<div><style>\n",
       ".dataframe > thead > tr,\n",
       ".dataframe > tbody > tr {\n",
       "  text-align: right;\n",
       "  white-space: pre-wrap;\n",
       "}\n",
       "</style>\n",
       "<small>shape: (737_255, 16)</small><table border=\"1\" class=\"dataframe\"><thead><tr><th>transaction_id</th><th>price</th><th>date_of_transfer</th><th>postcode</th><th>property_type</th><th>new_property</th><th>duration</th><th>paon</th><th>saon</th><th>street</th><th>locality</th><th>town</th><th>district</th><th>county</th><th>ppd_category_type</th><th>record_status</th></tr><tr><td>str</td><td>i64</td><td>date</td><td>str</td><td>str</td><td>str</td><td>str</td><td>str</td><td>str</td><td>str</td><td>str</td><td>str</td><td>str</td><td>str</td><td>str</td><td>str</td></tr></thead><tbody><tr><td>&quot;{2F7F2B43-E776-E08F-E063-4804A…</td><td>185000</td><td>2024-09-03</td><td>&quot;E6 1LP&quot;</td><td>&quot;F&quot;</td><td>&quot;N&quot;</td><td>&quot;L&quot;</td><td>&quot;63A&quot;</td><td>&quot;&quot;</td><td>&quot;STAMFORD ROAD&quot;</td><td>&quot;&quot;</td><td>&quot;LONDON&quot;</td><td>&quot;NEWHAM&quot;</td><td>&quot;GREATER LONDON&quot;</td><td>&quot;B&quot;</td><td>&quot;A&quot;</td></tr><tr><td>&quot;{2F7F2B43-E777-E08F-E063-4804A…</td><td>220000</td><td>2024-09-03</td><td>&quot;E6 1LP&quot;</td><td>&quot;F&quot;</td><td>&quot;N&quot;</td><td>&quot;L&quot;</td><td>&quot;63A&quot;</td><td>&quot;&quot;</td><td>&quot;STAMFORD ROAD&quot;</td><td>&quot;&quot;</td><td>&quot;LONDON&quot;</td><td>&quot;NEWHAM&quot;</td><td>&quot;GREATER LONDON&quot;</td><td>&quot;B&quot;</td><td>&quot;A&quot;</td></tr><tr><td>&quot;{2F7F2B43-E786-E08F-E063-4804A…</td><td>340000</td><td>2024-10-10</td><td>&quot;SE22 8JF&quot;</td><td>&quot;F&quot;</td><td>&quot;N&quot;</td><td>&quot;L&quot;</td><td>&quot;215&quot;</td><td>&quot;GROUND FLOOR FLAT&quot;</td><td>&quot;LORDSHIP LANE&quot;</td><td>&quot;&quot;</td><td>&quot;LONDON&quot;</td><td>&quot;SOUTHWARK&quot;</td><td>&quot;GREATER LONDON&quot;</td><td>&quot;B&quot;</td><td>&quot;A&quot;</td></tr><tr><td>&quot;{2F7F2B43-E78C-E08F-E063-4804A…</td><td>545000</td><td>2024-10-30</td><td>&quot;SE13 6RB&quot;</td><td>&quot;F&quot;</td><td>&quot;N&quot;</td><td>&quot;L&quot;</td><td>&quot;8B&quot;</td><td>&quot;&quot;</td><td>&quot;MOUNT PLEASANT ROAD&quot;</td><td>&quot;&quot;</td><td>&quot;LONDON&quot;</td><td>&quot;LEWISHAM&quot;</td><td>&quot;GREATER LONDON&quot;</td><td>&quot;B&quot;</td><td>&quot;A&quot;</td></tr><tr><td>&quot;{2F7F2B43-E79D-E08F-E063-4804A…</td><td>625000</td><td>2024-01-12</td><td>&quot;SW16 2LS&quot;</td><td>&quot;F&quot;</td><td>&quot;N&quot;</td><td>&quot;L&quot;</td><td>&quot;9&quot;</td><td>&quot;FLAT A&quot;</td><td>&quot;ROSEDENE AVENUE&quot;</td><td>&quot;&quot;</td><td>&quot;LONDON&quot;</td><td>&quot;LAMBETH&quot;</td><td>&quot;GREATER LONDON&quot;</td><td>&quot;B&quot;</td><td>&quot;A&quot;</td></tr><tr><td>&hellip;</td><td>&hellip;</td><td>&hellip;</td><td>&hellip;</td><td>&hellip;</td><td>&hellip;</td><td>&hellip;</td><td>&hellip;</td><td>&hellip;</td><td>&hellip;</td><td>&hellip;</td><td>&hellip;</td><td>&hellip;</td><td>&hellip;</td><td>&hellip;</td><td>&hellip;</td></tr><tr><td>&quot;{1EAE3DF6-DFF6-9EB1-E063-4704A…</td><td>300000</td><td>2024-02-02</td><td>&quot;OX7 5EB&quot;</td><td>&quot;T&quot;</td><td>&quot;N&quot;</td><td>&quot;F&quot;</td><td>&quot;11A&quot;</td><td>&quot;&quot;</td><td>&quot;BURFORD ROAD&quot;</td><td>&quot;&quot;</td><td>&quot;CHIPPING NORTON&quot;</td><td>&quot;WEST OXFORDSHIRE&quot;</td><td>&quot;OXFORDSHIRE&quot;</td><td>&quot;A&quot;</td><td>&quot;A&quot;</td></tr><tr><td>&quot;{1EAE3DF6-DFF7-9EB1-E063-4704A…</td><td>640000</td><td>2024-07-11</td><td>&quot;OX4 4XQ&quot;</td><td>&quot;T&quot;</td><td>&quot;N&quot;</td><td>&quot;F&quot;</td><td>&quot;73&quot;</td><td>&quot;&quot;</td><td>&quot;THE CRESCENT&quot;</td><td>&quot;LITTLEMORE&quot;</td><td>&quot;OXFORD&quot;</td><td>&quot;OXFORD&quot;</td><td>&quot;OXFORDSHIRE&quot;</td><td>&quot;A&quot;</td><td>&quot;A&quot;</td></tr><tr><td>&quot;{1EAE3DF6-DFF8-9EB1-E063-4704A…</td><td>600000</td><td>2024-07-19</td><td>&quot;OX11 9NX&quot;</td><td>&quot;D&quot;</td><td>&quot;N&quot;</td><td>&quot;F&quot;</td><td>&quot;HIGHLANDS&quot;</td><td>&quot;&quot;</td><td>&quot;LONDON ROAD&quot;</td><td>&quot;BLEWBURY&quot;</td><td>&quot;DIDCOT&quot;</td><td>&quot;VALE OF WHITE HORSE&quot;</td><td>&quot;OXFORDSHIRE&quot;</td><td>&quot;A&quot;</td><td>&quot;A&quot;</td></tr><tr><td>&quot;{1EAE3DF6-DFF9-9EB1-E063-4704A…</td><td>495000</td><td>2024-06-19</td><td>&quot;OX25 4NE&quot;</td><td>&quot;S&quot;</td><td>&quot;N&quot;</td><td>&quot;F&quot;</td><td>&quot;86&quot;</td><td>&quot;&quot;</td><td>&quot;SOUTH STREET&quot;</td><td>&quot;CAULCOTT&quot;</td><td>&quot;BICESTER&quot;</td><td>&quot;CHERWELL&quot;</td><td>&quot;OXFORDSHIRE&quot;</td><td>&quot;A&quot;</td><td>&quot;A&quot;</td></tr><tr><td>&quot;{1EAE3DF6-DFFA-9EB1-E063-4704A…</td><td>310000</td><td>2024-05-07</td><td>&quot;OX3 8LX&quot;</td><td>&quot;T&quot;</td><td>&quot;N&quot;</td><td>&quot;F&quot;</td><td>&quot;147&quot;</td><td>&quot;&quot;</td><td>&quot;GREEN RIDGES&quot;</td><td>&quot;HEADINGTON&quot;</td><td>&quot;OXFORD&quot;</td><td>&quot;OXFORD&quot;</td><td>&quot;OXFORDSHIRE&quot;</td><td>&quot;A&quot;</td><td>&quot;A&quot;</td></tr></tbody></table></div>"
      ],
      "text/plain": [
       "shape: (737_255, 16)\n",
       "┌────────────┬────────┬────────────┬──────────┬───┬────────────┬───────────┬───────────┬───────────┐\n",
       "│ transactio ┆ price  ┆ date_of_tr ┆ postcode ┆ … ┆ district   ┆ county    ┆ ppd_categ ┆ record_st │\n",
       "│ n_id       ┆ ---    ┆ ansfer     ┆ ---      ┆   ┆ ---        ┆ ---       ┆ ory_type  ┆ atus      │\n",
       "│ ---        ┆ i64    ┆ ---        ┆ str      ┆   ┆ str        ┆ str       ┆ ---       ┆ ---       │\n",
       "│ str        ┆        ┆ date       ┆          ┆   ┆            ┆           ┆ str       ┆ str       │\n",
       "╞════════════╪════════╪════════════╪══════════╪═══╪════════════╪═══════════╪═══════════╪═══════════╡\n",
       "│ {2F7F2B43- ┆ 185000 ┆ 2024-09-03 ┆ E6 1LP   ┆ … ┆ NEWHAM     ┆ GREATER   ┆ B         ┆ A         │\n",
       "│ E776-E08F- ┆        ┆            ┆          ┆   ┆            ┆ LONDON    ┆           ┆           │\n",
       "│ E063-4804A ┆        ┆            ┆          ┆   ┆            ┆           ┆           ┆           │\n",
       "│ …          ┆        ┆            ┆          ┆   ┆            ┆           ┆           ┆           │\n",
       "│ {2F7F2B43- ┆ 220000 ┆ 2024-09-03 ┆ E6 1LP   ┆ … ┆ NEWHAM     ┆ GREATER   ┆ B         ┆ A         │\n",
       "│ E777-E08F- ┆        ┆            ┆          ┆   ┆            ┆ LONDON    ┆           ┆           │\n",
       "│ E063-4804A ┆        ┆            ┆          ┆   ┆            ┆           ┆           ┆           │\n",
       "│ …          ┆        ┆            ┆          ┆   ┆            ┆           ┆           ┆           │\n",
       "│ {2F7F2B43- ┆ 340000 ┆ 2024-10-10 ┆ SE22 8JF ┆ … ┆ SOUTHWARK  ┆ GREATER   ┆ B         ┆ A         │\n",
       "│ E786-E08F- ┆        ┆            ┆          ┆   ┆            ┆ LONDON    ┆           ┆           │\n",
       "│ E063-4804A ┆        ┆            ┆          ┆   ┆            ┆           ┆           ┆           │\n",
       "│ …          ┆        ┆            ┆          ┆   ┆            ┆           ┆           ┆           │\n",
       "│ {2F7F2B43- ┆ 545000 ┆ 2024-10-30 ┆ SE13 6RB ┆ … ┆ LEWISHAM   ┆ GREATER   ┆ B         ┆ A         │\n",
       "│ E78C-E08F- ┆        ┆            ┆          ┆   ┆            ┆ LONDON    ┆           ┆           │\n",
       "│ E063-4804A ┆        ┆            ┆          ┆   ┆            ┆           ┆           ┆           │\n",
       "│ …          ┆        ┆            ┆          ┆   ┆            ┆           ┆           ┆           │\n",
       "│ {2F7F2B43- ┆ 625000 ┆ 2024-01-12 ┆ SW16 2LS ┆ … ┆ LAMBETH    ┆ GREATER   ┆ B         ┆ A         │\n",
       "│ E79D-E08F- ┆        ┆            ┆          ┆   ┆            ┆ LONDON    ┆           ┆           │\n",
       "│ E063-4804A ┆        ┆            ┆          ┆   ┆            ┆           ┆           ┆           │\n",
       "│ …          ┆        ┆            ┆          ┆   ┆            ┆           ┆           ┆           │\n",
       "│ …          ┆ …      ┆ …          ┆ …        ┆ … ┆ …          ┆ …         ┆ …         ┆ …         │\n",
       "│ {1EAE3DF6- ┆ 300000 ┆ 2024-02-02 ┆ OX7 5EB  ┆ … ┆ WEST OXFOR ┆ OXFORDSHI ┆ A         ┆ A         │\n",
       "│ DFF6-9EB1- ┆        ┆            ┆          ┆   ┆ DSHIRE     ┆ RE        ┆           ┆           │\n",
       "│ E063-4704A ┆        ┆            ┆          ┆   ┆            ┆           ┆           ┆           │\n",
       "│ …          ┆        ┆            ┆          ┆   ┆            ┆           ┆           ┆           │\n",
       "│ {1EAE3DF6- ┆ 640000 ┆ 2024-07-11 ┆ OX4 4XQ  ┆ … ┆ OXFORD     ┆ OXFORDSHI ┆ A         ┆ A         │\n",
       "│ DFF7-9EB1- ┆        ┆            ┆          ┆   ┆            ┆ RE        ┆           ┆           │\n",
       "│ E063-4704A ┆        ┆            ┆          ┆   ┆            ┆           ┆           ┆           │\n",
       "│ …          ┆        ┆            ┆          ┆   ┆            ┆           ┆           ┆           │\n",
       "│ {1EAE3DF6- ┆ 600000 ┆ 2024-07-19 ┆ OX11 9NX ┆ … ┆ VALE OF    ┆ OXFORDSHI ┆ A         ┆ A         │\n",
       "│ DFF8-9EB1- ┆        ┆            ┆          ┆   ┆ WHITE      ┆ RE        ┆           ┆           │\n",
       "│ E063-4704A ┆        ┆            ┆          ┆   ┆ HORSE      ┆           ┆           ┆           │\n",
       "│ …          ┆        ┆            ┆          ┆   ┆            ┆           ┆           ┆           │\n",
       "│ {1EAE3DF6- ┆ 495000 ┆ 2024-06-19 ┆ OX25 4NE ┆ … ┆ CHERWELL   ┆ OXFORDSHI ┆ A         ┆ A         │\n",
       "│ DFF9-9EB1- ┆        ┆            ┆          ┆   ┆            ┆ RE        ┆           ┆           │\n",
       "│ E063-4704A ┆        ┆            ┆          ┆   ┆            ┆           ┆           ┆           │\n",
       "│ …          ┆        ┆            ┆          ┆   ┆            ┆           ┆           ┆           │\n",
       "│ {1EAE3DF6- ┆ 310000 ┆ 2024-05-07 ┆ OX3 8LX  ┆ … ┆ OXFORD     ┆ OXFORDSHI ┆ A         ┆ A         │\n",
       "│ DFFA-9EB1- ┆        ┆            ┆          ┆   ┆            ┆ RE        ┆           ┆           │\n",
       "│ E063-4704A ┆        ┆            ┆          ┆   ┆            ┆           ┆           ┆           │\n",
       "│ …          ┆        ┆            ┆          ┆   ┆            ┆           ┆           ┆           │\n",
       "└────────────┴────────┴────────────┴──────────┴───┴────────────┴───────────┴───────────┴───────────┘"
      ]
     },
     "execution_count": 7,
     "metadata": {},
     "output_type": "execute_result"
    }
   ],
   "source": [
    "def read_house_prices(csv_filename: str) -> pl.DataFrame:\n",
    "    \"\"\"Read a CSV file and return a polars Dataframe\"\"\"\n",
    "    # Columns sourced from data dictionary\n",
    "    house_prices_columns = [\n",
    "        \"transaction_id\",\n",
    "        \"price\",\n",
    "        \"date_of_transfer\",\n",
    "        \"postcode\",\n",
    "        \"property_type\",\n",
    "        \"new_property\",\n",
    "        \"duration\",\n",
    "        \"paon\",\n",
    "        \"saon\",\n",
    "        \"street\",\n",
    "        \"locality\",\n",
    "        \"town\",\n",
    "        \"district\",\n",
    "        \"county\",\n",
    "        \"ppd_category_type\",\n",
    "        \"record_status\",\n",
    "    ]\n",
    "\n",
    "    df = (\n",
    "        pl.scan_csv(\n",
    "            csv_filename,\n",
    "            has_header=False,\n",
    "            new_columns=house_prices_columns,\n",
    "        )\n",
    "        .with_columns(pl.col(\"date_of_transfer\").str.to_date(\"%Y-%m-%d %H:%M\"))\n",
    "        .collect()\n",
    "    )\n",
    "    return df\n",
    "\n",
    "\n",
    "house_prices_2024 = read_house_prices(\"data/house_prices/pp-2024.csv\")\n",
    "house_prices_2024"
   ]
  },
  {
   "cell_type": "markdown",
   "id": "Hstk",
   "metadata": {
    "marimo": {
     "config": {
      "hide_code": true
     }
    }
   },
   "source": [
    "## Writing the Data\n",
    "Now that we have the data loaded, we're ready to write it out to our Iceberg table. We have 3 different strategies available to us:\n",
    "\n",
    "- append\n",
    "- overwrite\n",
    "- upsert\n",
    "\n",
    "Append and overwrite should hopefully make sense.\n",
    "Upsert is a recent addition to Pyiceberg, where given a key column, it will compare the keys to existing rows to decide if a given row should be updated or inserted.\n",
    "\n",
    "For now, let's stick to `append`.\n",
    "\n",
    "```{note} Note on schemas\n",
    "PyIceberg is strict on the schema - by default, Polars is a bit looser, so we need to `cast` the exported polars arrow table into the same schema as we've defined - otherwise our write will be rejected.\n",
    "```\n"
   ]
  },
  {
   "cell_type": "code",
   "execution_count": 8,
   "id": "nWHF",
   "metadata": {},
   "outputs": [],
   "source": [
    "# Export to arrow and cast it\n",
    "house_prices_arrow = (\n",
    "    house_prices_2024.to_arrow().cast(  # Export to an Arrow table\n",
    "        housing_prices_schema.as_arrow()\n",
    "    )  # Cast into the Iceberg schema\n",
    ")\n",
    "# Append data to the table\n",
    "house_prices_t.append(house_prices_arrow)"
   ]
  },
  {
   "cell_type": "markdown",
   "id": "iLit",
   "metadata": {
    "marimo": {
     "config": {
      "hide_code": true
     }
    }
   },
   "source": [
    "# Metadata - the secret of Iceberg\n",
    "\n",
    "Now that we've created a schema for our houseprices, let's take a look at the metadata that we've created. In Iceberg, all the metadata is stored in a combination of JSON and Avro, and all the metadata is stored in the S3 buckets directly, which is what makes it accessible from the various query engines.\n",
    "\n",
    "Let's have a look at the different files we've created out of the box. First, we need something that can talk to S3 - in this case our Minio S3 - enter fsspec and s3fs"
   ]
  },
  {
   "cell_type": "code",
   "execution_count": 11,
   "id": "ZHCJ",
   "metadata": {},
   "outputs": [
    {
     "data": {
      "text/plain": [
       "['warehouse/housing/staging/data', 'warehouse/housing/staging/metadata']"
      ]
     },
     "execution_count": 11,
     "metadata": {},
     "output_type": "execute_result"
    }
   ],
   "source": [
    "import s3fs\n",
    "\n",
    "fs = s3fs.S3FileSystem(\n",
    "    endpoint_url=\"http://minio:9000\", key=\"minio\", secret=\"minio1234\"\n",
    ")\n",
    "fs.ls(\"/warehouse/housing/staging\")"
   ]
  },
  {
   "cell_type": "markdown",
   "id": "ROlb",
   "metadata": {
    "marimo": {
     "config": {
      "hide_code": true
     }
    }
   },
   "source": [
    "Now that we have something that can read our S3 bucket in Minio, we need to know where our Iceberg Catalogue put our most recent table update. PyIceberg stores that information in the `metadata_location` of the table"
   ]
  },
  {
   "cell_type": "code",
   "execution_count": 12,
   "id": "qnkX",
   "metadata": {},
   "outputs": [
    {
     "data": {
      "text/plain": [
       "'s3://warehouse/housing/staging/metadata/00001-01971874-9763-74d2-a32c-5a40a0138318.gz.metadata.json'"
      ]
     },
     "execution_count": 12,
     "metadata": {},
     "output_type": "execute_result"
    }
   ],
   "source": [
    "house_prices_t.metadata_location"
   ]
  },
  {
   "cell_type": "markdown",
   "id": "TqIu",
   "metadata": {
    "marimo": {
     "config": {
      "hide_code": true
     }
    }
   },
   "source": [
    "That's a gzipped json file, an implementation choice from our Iceberg Rest Catalog, so we need to do some extra work to read our metadata."
   ]
  },
  {
   "cell_type": "code",
   "execution_count": 14,
   "id": "Vxnm",
   "metadata": {},
   "outputs": [],
   "source": [
    "from fsspec import AbstractFileSystem\n",
    "from pyiceberg.table import Table\n",
    "from typing import Any\n",
    "import gzip\n",
    "import json\n",
    "\n",
    "\n",
    "def get_iceberg_metadata(fs: AbstractFileSystem, table: Table) -> dict[str, Any]:\n",
    "    \"\"\"Unzips the gzipped json and reads it into a dictionary\"\"\"\n",
    "    with fs.open(table.metadata_location) as f, gzip.open(f) as g_f:\n",
    "        return json.load(g_f)"
   ]
  },
  {
   "cell_type": "markdown",
   "id": "DnEU",
   "metadata": {
    "marimo": {
     "config": {
      "hide_code": true
     }
    }
   },
   "source": [
    "Let's have a look at the contents of the current metadata.json to get a better understanding of how Iceberg does what it does\n",
    "\n",
    "![Iceberg metadata](images/iceberg_architecture_metadata.svg)"
   ]
  },
  {
   "cell_type": "code",
   "execution_count": 15,
   "id": "ulZA",
   "metadata": {},
   "outputs": [
    {
     "data": {
      "application/json": {
       "current-schema-id": 0,
       "current-snapshot-id": 980854264536373500,
       "default-sort-order-id": 0,
       "default-spec-id": 0,
       "format-version": 2,
       "last-column-id": 16,
       "last-partition-id": 999,
       "last-sequence-number": 1,
       "last-updated-ms": 1748461983569,
       "location": "s3://warehouse/housing/staging",
       "metadata-log": [
        {
         "metadata-file": "s3://warehouse/housing/staging/metadata/00000-01971874-66d3-7ae3-83cf-c6ae1a859443.gz.metadata.json",
         "timestamp-ms": 1748461971155
        }
       ],
       "partition-specs": [
        {
         "fields": [],
         "spec-id": 0
        }
       ],
       "refs": {
        "main": {
         "snapshot-id": 980854264536373500,
         "type": "branch"
        }
       },
       "schemas": [
        {
         "fields": [
          {
           "doc": "A reference number which is generated automatically recording each published sale. The number is unique and will change each time a sale is recorded.",
           "id": 1,
           "name": "transaction_id",
           "required": true,
           "type": "string"
          },
          {
           "doc": "Sale price stated on the transfer deed.",
           "id": 2,
           "name": "price",
           "required": true,
           "type": "int"
          },
          {
           "doc": "Date when the sale was completed, as stated on the transfer deed.",
           "id": 3,
           "name": "date_of_transfer",
           "required": true,
           "type": "date"
          },
          {
           "doc": "This is the postcode used at the time of the original transaction. Note that postcodes can be reallocated and these changes are not reflected in the Price Paid Dataset.",
           "id": 4,
           "name": "postcode",
           "required": true,
           "type": "string"
          },
          {
           "doc": "D = Detached, S = Semi-Detached, T = Terraced, F = Flats/Maisonettes, O = Other",
           "id": 5,
           "name": "property_type",
           "required": true,
           "type": "string"
          },
          {
           "doc": "Indicates the age of the property and applies to all price paid transactions, residential and non-residential. Y = a newly built property, N = an established residential building",
           "id": 6,
           "name": "new_property",
           "required": true,
           "type": "string"
          },
          {
           "doc": "Relates to the tenure: F = Freehold, L= Leasehold etc. Note that HM Land Registry does not record leases of 7 years or less in the Price Paid Dataset.",
           "id": 7,
           "name": "duration",
           "required": true,
           "type": "string"
          },
          {
           "doc": "Primary Addressable Object Name. Typically the house number or name",
           "id": 8,
           "name": "paon",
           "required": false,
           "type": "string"
          },
          {
           "doc": "Secondary Addressable Object Name. Where a property has been divided into separate units (for example, flats), the PAON (above) will identify the building and a SAON will be specified that identifies the separate unit/flat.",
           "id": 9,
           "name": "saon",
           "required": false,
           "type": "string"
          },
          {
           "id": 10,
           "name": "street",
           "required": false,
           "type": "string"
          },
          {
           "id": 11,
           "name": "locality",
           "required": false,
           "type": "string"
          },
          {
           "id": 12,
           "name": "town",
           "required": false,
           "type": "string"
          },
          {
           "id": 13,
           "name": "district",
           "required": false,
           "type": "string"
          },
          {
           "id": 14,
           "name": "county",
           "required": false,
           "type": "string"
          },
          {
           "doc": "Indicates the type of Price Paid transaction. A = Standard Price Paid entry, includes single residential property sold for value. B = Additional Price Paid entry including transfers under a power of sale/repossessions, buy-to-lets (where they can be identified by a Mortgage), transfers to non-private individuals and sales where the property type is classed as ‘Other’.",
           "id": 15,
           "name": "ppd_category_type",
           "required": false,
           "type": "string"
          },
          {
           "doc": "Indicates additions, changes and deletions to the records. A = Addition C = Change D = Delete",
           "id": 16,
           "name": "record_status",
           "required": false,
           "type": "string"
          }
         ],
         "identifier-field-ids": [
          1
         ],
         "schema-id": 0,
         "type": "struct"
        }
       ],
       "snapshot-log": [
        {
         "snapshot-id": 980854264536373500,
         "timestamp-ms": 1748461983569
        }
       ],
       "snapshots": [
        {
         "manifest-list": "s3://warehouse/housing/staging/metadata/snap-980854264536373463-0-d1fcb57d-6405-4462-adc4-445fe049d8ff.avro",
         "schema-id": 0,
         "sequence-number": 1,
         "snapshot-id": 980854264536373500,
         "summary": {
          "added-data-files": "1",
          "added-files-size": "16637288",
          "added-records": "737255",
          "operation": "append",
          "total-data-files": "1",
          "total-delete-files": "0",
          "total-equality-deletes": "0",
          "total-files-size": "16637288",
          "total-position-deletes": "0",
          "total-records": "737255"
         },
         "timestamp-ms": 1748461983569
        }
       ],
       "sort-orders": [
        {
         "fields": [],
         "order-id": 0
        }
       ],
       "table-uuid": "01971874-66d2-7dd2-886d-093d095330d7"
      },
      "text/plain": [
       "<IPython.core.display.JSON object>"
      ]
     },
     "execution_count": 15,
     "metadata": {
      "application/json": {
       "expanded": false,
       "root": "root"
      }
     },
     "output_type": "execute_result"
    }
   ],
   "source": [
    "JSON(get_iceberg_metadata(fs, house_prices_t))"
   ]
  },
  {
   "cell_type": "markdown",
   "id": "ecfG",
   "metadata": {
    "marimo": {
     "config": {
      "hide_code": true
     }
    }
   },
   "source": [
    "The next layer of the onion is the `manifest list` - we can find that by looking in the `snapshots` array for the current snapshot. The manifest list is stored as Avro for faster scanning so we need to convert it to a dictionary for our simple human brains to understand.\n",
    "\n",
    "![Iceberg manifest list](images/iceberg_architecture_manifest_list.svg)"
   ]
  },
  {
   "cell_type": "code",
   "execution_count": 16,
   "id": "Pvdt",
   "metadata": {},
   "outputs": [
    {
     "data": {
      "application/json": [
       {
        "added_files_count": 1,
        "added_rows_count": 737255,
        "added_snapshot_id": 980854264536373500,
        "content": 0,
        "deleted_files_count": 0,
        "deleted_rows_count": 0,
        "existing_files_count": 0,
        "existing_rows_count": 0,
        "key_metadata": null,
        "manifest_length": 7195,
        "manifest_path": "s3://warehouse/housing/staging/metadata/d1fcb57d-6405-4462-adc4-445fe049d8ff-m0.avro",
        "min_sequence_number": 1,
        "partition_spec_id": 0,
        "partitions": [],
        "sequence_number": 1
       }
      ],
      "text/plain": [
       "<IPython.core.display.JSON object>"
      ]
     },
     "execution_count": 16,
     "metadata": {
      "application/json": {
       "expanded": false,
       "root": "root"
      }
     },
     "output_type": "execute_result"
    }
   ],
   "source": [
    "def get_iceberg_manifest_list(fs: AbstractFileSystem, table: Table) -> dict[str, Any]:\n",
    "    \"\"\"Fetch the manifest list for the current snapshot and convert to a list of dicts\"\"\"\n",
    "    manifest_list = table.current_snapshot().manifest_list\n",
    "    with fs.open(manifest_list) as f:\n",
    "        return pl.read_avro(f).to_dicts()\n",
    "\n",
    "\n",
    "JSON(get_iceberg_manifest_list(fs, house_prices_t))"
   ]
  },
  {
   "cell_type": "markdown",
   "id": "ZBYS",
   "metadata": {
    "marimo": {
     "config": {
      "hide_code": true
     }
    }
   },
   "source": [
    "We can see that the manifest list unsurprisingly contains a list of manifests, alongside some metadata for that particular manifest. We've only written one file to our Iceberg table, so we have only one manifest currently. Let's dig one level deeper and open that manifest.\n",
    "\n",
    "![Iceberg Manifest](images/iceberg_architecture_manifest.svg)"
   ]
  },
  {
   "cell_type": "code",
   "execution_count": 18,
   "id": "aLJB",
   "metadata": {},
   "outputs": [
    {
     "data": {
      "application/json": [
       {
        "data_file": {
         "column_sizes": [
          {
           "key": 1,
           "value": 1946490
          },
          {
           "key": 2,
           "value": 1268032
          },
          {
           "key": 3,
           "value": 813989
          },
          {
           "key": 4,
           "value": 3892232
          },
          {
           "key": 5,
           "value": 236397
          },
          {
           "key": 6,
           "value": 13296
          },
          {
           "key": 7,
           "value": 83054
          },
          {
           "key": 8,
           "value": 1532613
          },
          {
           "key": 9,
           "value": 261621
          },
          {
           "key": 10,
           "value": 3746587
          },
          {
           "key": 11,
           "value": 793368
          },
          {
           "key": 12,
           "value": 947389
          },
          {
           "key": 13,
           "value": 772870
          },
          {
           "key": 14,
           "value": 309769
          },
          {
           "key": 15,
           "value": 12378
          },
          {
           "key": 16,
           "value": 79
          }
         ],
         "content": 0,
         "equality_ids": null,
         "file_format": "PARQUET",
         "file_path": "s3://warehouse/housing/staging/data/00000-0-d1fcb57d-6405-4462-adc4-445fe049d8ff.parquet",
         "file_size_in_bytes": 16637288,
         "key_metadata": null,
         "lower_bounds": [
          {
           "key": 1,
           "value": "ezEwNjE3NDZELTk4QUEtMw=="
          },
          {
           "key": 2,
           "value": "AQAAAA=="
          },
          {
           "key": 3,
           "value": "C00AAA=="
          },
          {
           "key": 4,
           "value": ""
          },
          {
           "key": 5,
           "value": "RA=="
          },
          {
           "key": 6,
           "value": "Tg=="
          },
          {
           "key": 7,
           "value": "Rg=="
          },
          {
           "key": 8,
           "value": "KEkgQlJBSU4p"
          },
          {
           "key": 9,
           "value": ""
          },
          {
           "key": 10,
           "value": ""
          },
          {
           "key": 11,
           "value": ""
          },
          {
           "key": 12,
           "value": "QUJCT1RTIExBTkdMRVk="
          },
          {
           "key": 13,
           "value": "QURVUg=="
          },
          {
           "key": 14,
           "value": "QkFUSCBBTkQgTk9SVEggRQ=="
          },
          {
           "key": 15,
           "value": "QQ=="
          },
          {
           "key": 16,
           "value": "QQ=="
          }
         ],
         "nan_value_counts": [],
         "null_value_counts": [
          {
           "key": 1,
           "value": 0
          },
          {
           "key": 2,
           "value": 0
          },
          {
           "key": 3,
           "value": 0
          },
          {
           "key": 4,
           "value": 0
          },
          {
           "key": 5,
           "value": 0
          },
          {
           "key": 6,
           "value": 0
          },
          {
           "key": 7,
           "value": 0
          },
          {
           "key": 8,
           "value": 0
          },
          {
           "key": 9,
           "value": 0
          },
          {
           "key": 10,
           "value": 0
          },
          {
           "key": 11,
           "value": 0
          },
          {
           "key": 12,
           "value": 0
          },
          {
           "key": 13,
           "value": 0
          },
          {
           "key": 14,
           "value": 0
          },
          {
           "key": 15,
           "value": 0
          },
          {
           "key": 16,
           "value": 0
          }
         ],
         "partition": {},
         "record_count": 737255,
         "sort_order_id": null,
         "split_offsets": [
          4
         ],
         "upper_bounds": [
          {
           "key": 1,
           "value": "ezMxQzY4MDczLTEzODgtRw=="
          },
          {
           "key": 2,
           "value": "AHHGCQ=="
          },
          {
           "key": 3,
           "value": "eE4AAA=="
          },
          {
           "key": 4,
           "value": "WU85MCAxVVU="
          },
          {
           "key": 5,
           "value": "VA=="
          },
          {
           "key": 6,
           "value": "WQ=="
          },
          {
           "key": 7,
           "value": "TA=="
          },
          {
           "key": 8,
           "value": "WlVSSUNIIEhPVVNF"
          },
          {
           "key": 9,
           "value": "Wk9ORSA1"
          },
          {
           "key": 10,
           "value": "WlVSSUNIIEdBUkRFTlM="
          },
          {
           "key": 11,
           "value": "Wk9VQ0g="
          },
          {
           "key": 12,
           "value": "WVNUUkFEIE1FVVJJRw=="
          },
          {
           "key": 13,
           "value": "WU9SSw=="
          },
          {
           "key": 14,
           "value": "WU9SSw=="
          },
          {
           "key": 15,
           "value": "Qg=="
          },
          {
           "key": 16,
           "value": "QQ=="
          }
         ],
         "value_counts": [
          {
           "key": 1,
           "value": 737255
          },
          {
           "key": 2,
           "value": 737255
          },
          {
           "key": 3,
           "value": 737255
          },
          {
           "key": 4,
           "value": 737255
          },
          {
           "key": 5,
           "value": 737255
          },
          {
           "key": 6,
           "value": 737255
          },
          {
           "key": 7,
           "value": 737255
          },
          {
           "key": 8,
           "value": 737255
          },
          {
           "key": 9,
           "value": 737255
          },
          {
           "key": 10,
           "value": 737255
          },
          {
           "key": 11,
           "value": 737255
          },
          {
           "key": 12,
           "value": 737255
          },
          {
           "key": 13,
           "value": 737255
          },
          {
           "key": 14,
           "value": 737255
          },
          {
           "key": 15,
           "value": 737255
          },
          {
           "key": 16,
           "value": 737255
          }
         ]
        },
        "file_sequence_number": null,
        "sequence_number": null,
        "snapshot_id": 980854264536373500,
        "status": 1
       }
      ],
      "text/plain": [
       "<IPython.core.display.JSON object>"
      ]
     },
     "execution_count": 18,
     "metadata": {
      "application/json": {
       "expanded": false,
       "root": "root"
      }
     },
     "output_type": "execute_result"
    }
   ],
   "source": [
    "def get_iceberg_manifest(\n",
    "    fs: AbstractFileSystem, table: Table\n",
    ") -> list[list[dict[str, Any]]]:\n",
    "    \"\"\"Get the manifests from the manifest list.\"\"\"\n",
    "    manifest_list = get_iceberg_manifest_list(fs, table)\n",
    "    manifest_lists = []\n",
    "    for manifest_meta in manifest_list:\n",
    "        with fs.open(manifest_meta[\"manifest_path\"]) as m_f:\n",
    "            manifest = pl.read_avro(m_f).to_dicts()\n",
    "            manifest_lists.extend(manifest)\n",
    "    return manifest_lists\n",
    "\n",
    "\n",
    "JSON(get_iceberg_manifest(fs, house_prices_t))"
   ]
  },
  {
   "cell_type": "markdown",
   "id": "nHfw",
   "metadata": {
    "marimo": {
     "config": {
      "hide_code": true
     }
    }
   },
   "source": [
    "At the lowest level of metadata, we can see a reference to the actual data files that make up the physical data stored on disk.\n",
    "\n",
    "![Iceberg Data Files](images/iceberg_architecture_data.svg)\n",
    "\n",
    "```{note} Iceberg vs Hive\n",
    "Note that Iceberg keeps track of the physical files of the table, unlike something like Hive, which uses a folder as a logical container for a table.\n",
    "```\n",
    "\n",
    "We can see that the Parquet file is pretty much as we expected, and we can read it directly as any other Parquet files - Iceberg doesn't specify anything about the physical data - it just stores metadata about the files to enable all the features of Iceberg"
   ]
  },
  {
   "cell_type": "code",
   "execution_count": 14,
   "id": "xXTn",
   "metadata": {},
   "outputs": [
    {
     "data": {
      "text/html": [
       "<div><style>\n",
       ".dataframe > thead > tr,\n",
       ".dataframe > tbody > tr {\n",
       "  text-align: right;\n",
       "  white-space: pre-wrap;\n",
       "}\n",
       "</style>\n",
       "<small>shape: (704_344, 16)</small><table border=\"1\" class=\"dataframe\"><thead><tr><th>transaction_id</th><th>price</th><th>date_of_transfer</th><th>postcode</th><th>property_type</th><th>new_property</th><th>duration</th><th>paon</th><th>saon</th><th>street</th><th>locality</th><th>town</th><th>district</th><th>county</th><th>ppd_category_type</th><th>record_status</th></tr><tr><td>str</td><td>i32</td><td>date</td><td>str</td><td>str</td><td>str</td><td>str</td><td>str</td><td>str</td><td>str</td><td>str</td><td>str</td><td>str</td><td>str</td><td>str</td><td>str</td></tr></thead><tbody><tr><td>&quot;{25E9DA80-AD30-555E-E063-4704A…</td><td>225000</td><td>2024-10-02</td><td>&quot;DE6 1TW&quot;</td><td>&quot;S&quot;</td><td>&quot;N&quot;</td><td>&quot;F&quot;</td><td>&quot;48&quot;</td><td>&quot;&quot;</td><td>&quot;ACORN DRIVE&quot;</td><td>&quot;&quot;</td><td>&quot;ASHBOURNE&quot;</td><td>&quot;DERBYSHIRE DALES&quot;</td><td>&quot;DERBYSHIRE&quot;</td><td>&quot;A&quot;</td><td>&quot;A&quot;</td></tr><tr><td>&quot;{25E9DA80-AD31-555E-E063-4704A…</td><td>120000</td><td>2024-10-04</td><td>&quot;SK22 4AH&quot;</td><td>&quot;F&quot;</td><td>&quot;N&quot;</td><td>&quot;L&quot;</td><td>&quot;8&quot;</td><td>&quot;&quot;</td><td>&quot;MEAL STREET&quot;</td><td>&quot;NEW MILLS&quot;</td><td>&quot;HIGH PEAK&quot;</td><td>&quot;HIGH PEAK&quot;</td><td>&quot;DERBYSHIRE&quot;</td><td>&quot;A&quot;</td><td>&quot;A&quot;</td></tr><tr><td>&quot;{25E9DA80-AD32-555E-E063-4704A…</td><td>197500</td><td>2024-08-19</td><td>&quot;S42 5FN&quot;</td><td>&quot;T&quot;</td><td>&quot;N&quot;</td><td>&quot;F&quot;</td><td>&quot;24&quot;</td><td>&quot;&quot;</td><td>&quot;FARMHOUSE WAY&quot;</td><td>&quot;GRASSMOOR&quot;</td><td>&quot;CHESTERFIELD&quot;</td><td>&quot;NORTH EAST DERBYSHIRE&quot;</td><td>&quot;DERBYSHIRE&quot;</td><td>&quot;A&quot;</td><td>&quot;A&quot;</td></tr><tr><td>&quot;{25E9DA80-AD33-555E-E063-4704A…</td><td>275000</td><td>2024-07-17</td><td>&quot;S40 3HF&quot;</td><td>&quot;D&quot;</td><td>&quot;N&quot;</td><td>&quot;F&quot;</td><td>&quot;22&quot;</td><td>&quot;&quot;</td><td>&quot;GREENWAYS&quot;</td><td>&quot;&quot;</td><td>&quot;CHESTERFIELD&quot;</td><td>&quot;CHESTERFIELD&quot;</td><td>&quot;DERBYSHIRE&quot;</td><td>&quot;A&quot;</td><td>&quot;A&quot;</td></tr><tr><td>&quot;{25E9DA80-AD34-555E-E063-4704A…</td><td>216000</td><td>2024-02-09</td><td>&quot;DE24 3GP&quot;</td><td>&quot;S&quot;</td><td>&quot;N&quot;</td><td>&quot;F&quot;</td><td>&quot;7&quot;</td><td>&quot;&quot;</td><td>&quot;LOWICK CLOSE&quot;</td><td>&quot;&quot;</td><td>&quot;DERBY&quot;</td><td>&quot;CITY OF DERBY&quot;</td><td>&quot;CITY OF DERBY&quot;</td><td>&quot;A&quot;</td><td>&quot;A&quot;</td></tr><tr><td>&hellip;</td><td>&hellip;</td><td>&hellip;</td><td>&hellip;</td><td>&hellip;</td><td>&hellip;</td><td>&hellip;</td><td>&hellip;</td><td>&hellip;</td><td>&hellip;</td><td>&hellip;</td><td>&hellip;</td><td>&hellip;</td><td>&hellip;</td><td>&hellip;</td><td>&hellip;</td></tr><tr><td>&quot;{1EAE3DF6-DFF6-9EB1-E063-4704A…</td><td>300000</td><td>2024-02-02</td><td>&quot;OX7 5EB&quot;</td><td>&quot;T&quot;</td><td>&quot;N&quot;</td><td>&quot;F&quot;</td><td>&quot;11A&quot;</td><td>&quot;&quot;</td><td>&quot;BURFORD ROAD&quot;</td><td>&quot;&quot;</td><td>&quot;CHIPPING NORTON&quot;</td><td>&quot;WEST OXFORDSHIRE&quot;</td><td>&quot;OXFORDSHIRE&quot;</td><td>&quot;A&quot;</td><td>&quot;A&quot;</td></tr><tr><td>&quot;{1EAE3DF6-DFF7-9EB1-E063-4704A…</td><td>640000</td><td>2024-07-11</td><td>&quot;OX4 4XQ&quot;</td><td>&quot;T&quot;</td><td>&quot;N&quot;</td><td>&quot;F&quot;</td><td>&quot;73&quot;</td><td>&quot;&quot;</td><td>&quot;THE CRESCENT&quot;</td><td>&quot;LITTLEMORE&quot;</td><td>&quot;OXFORD&quot;</td><td>&quot;OXFORD&quot;</td><td>&quot;OXFORDSHIRE&quot;</td><td>&quot;A&quot;</td><td>&quot;A&quot;</td></tr><tr><td>&quot;{1EAE3DF6-DFF8-9EB1-E063-4704A…</td><td>600000</td><td>2024-07-19</td><td>&quot;OX11 9NX&quot;</td><td>&quot;D&quot;</td><td>&quot;N&quot;</td><td>&quot;F&quot;</td><td>&quot;HIGHLANDS&quot;</td><td>&quot;&quot;</td><td>&quot;LONDON ROAD&quot;</td><td>&quot;BLEWBURY&quot;</td><td>&quot;DIDCOT&quot;</td><td>&quot;VALE OF WHITE HORSE&quot;</td><td>&quot;OXFORDSHIRE&quot;</td><td>&quot;A&quot;</td><td>&quot;A&quot;</td></tr><tr><td>&quot;{1EAE3DF6-DFF9-9EB1-E063-4704A…</td><td>495000</td><td>2024-06-19</td><td>&quot;OX25 4NE&quot;</td><td>&quot;S&quot;</td><td>&quot;N&quot;</td><td>&quot;F&quot;</td><td>&quot;86&quot;</td><td>&quot;&quot;</td><td>&quot;SOUTH STREET&quot;</td><td>&quot;CAULCOTT&quot;</td><td>&quot;BICESTER&quot;</td><td>&quot;CHERWELL&quot;</td><td>&quot;OXFORDSHIRE&quot;</td><td>&quot;A&quot;</td><td>&quot;A&quot;</td></tr><tr><td>&quot;{1EAE3DF6-DFFA-9EB1-E063-4704A…</td><td>310000</td><td>2024-05-07</td><td>&quot;OX3 8LX&quot;</td><td>&quot;T&quot;</td><td>&quot;N&quot;</td><td>&quot;F&quot;</td><td>&quot;147&quot;</td><td>&quot;&quot;</td><td>&quot;GREEN RIDGES&quot;</td><td>&quot;HEADINGTON&quot;</td><td>&quot;OXFORD&quot;</td><td>&quot;OXFORD&quot;</td><td>&quot;OXFORDSHIRE&quot;</td><td>&quot;A&quot;</td><td>&quot;A&quot;</td></tr></tbody></table></div>"
      ],
      "text/plain": [
       "shape: (704_344, 16)\n",
       "┌────────────┬────────┬────────────┬──────────┬───┬────────────┬───────────┬───────────┬───────────┐\n",
       "│ transactio ┆ price  ┆ date_of_tr ┆ postcode ┆ … ┆ district   ┆ county    ┆ ppd_categ ┆ record_st │\n",
       "│ n_id       ┆ ---    ┆ ansfer     ┆ ---      ┆   ┆ ---        ┆ ---       ┆ ory_type  ┆ atus      │\n",
       "│ ---        ┆ i32    ┆ ---        ┆ str      ┆   ┆ str        ┆ str       ┆ ---       ┆ ---       │\n",
       "│ str        ┆        ┆ date       ┆          ┆   ┆            ┆           ┆ str       ┆ str       │\n",
       "╞════════════╪════════╪════════════╪══════════╪═══╪════════════╪═══════════╪═══════════╪═══════════╡\n",
       "│ {25E9DA80- ┆ 225000 ┆ 2024-10-02 ┆ DE6 1TW  ┆ … ┆ DERBYSHIRE ┆ DERBYSHIR ┆ A         ┆ A         │\n",
       "│ AD30-555E- ┆        ┆            ┆          ┆   ┆ DALES      ┆ E         ┆           ┆           │\n",
       "│ E063-4704A ┆        ┆            ┆          ┆   ┆            ┆           ┆           ┆           │\n",
       "│ …          ┆        ┆            ┆          ┆   ┆            ┆           ┆           ┆           │\n",
       "│ {25E9DA80- ┆ 120000 ┆ 2024-10-04 ┆ SK22 4AH ┆ … ┆ HIGH PEAK  ┆ DERBYSHIR ┆ A         ┆ A         │\n",
       "│ AD31-555E- ┆        ┆            ┆          ┆   ┆            ┆ E         ┆           ┆           │\n",
       "│ E063-4704A ┆        ┆            ┆          ┆   ┆            ┆           ┆           ┆           │\n",
       "│ …          ┆        ┆            ┆          ┆   ┆            ┆           ┆           ┆           │\n",
       "│ {25E9DA80- ┆ 197500 ┆ 2024-08-19 ┆ S42 5FN  ┆ … ┆ NORTH EAST ┆ DERBYSHIR ┆ A         ┆ A         │\n",
       "│ AD32-555E- ┆        ┆            ┆          ┆   ┆ DERBYSHIRE ┆ E         ┆           ┆           │\n",
       "│ E063-4704A ┆        ┆            ┆          ┆   ┆            ┆           ┆           ┆           │\n",
       "│ …          ┆        ┆            ┆          ┆   ┆            ┆           ┆           ┆           │\n",
       "│ {25E9DA80- ┆ 275000 ┆ 2024-07-17 ┆ S40 3HF  ┆ … ┆ CHESTERFIE ┆ DERBYSHIR ┆ A         ┆ A         │\n",
       "│ AD33-555E- ┆        ┆            ┆          ┆   ┆ LD         ┆ E         ┆           ┆           │\n",
       "│ E063-4704A ┆        ┆            ┆          ┆   ┆            ┆           ┆           ┆           │\n",
       "│ …          ┆        ┆            ┆          ┆   ┆            ┆           ┆           ┆           │\n",
       "│ {25E9DA80- ┆ 216000 ┆ 2024-02-09 ┆ DE24 3GP ┆ … ┆ CITY OF    ┆ CITY OF   ┆ A         ┆ A         │\n",
       "│ AD34-555E- ┆        ┆            ┆          ┆   ┆ DERBY      ┆ DERBY     ┆           ┆           │\n",
       "│ E063-4704A ┆        ┆            ┆          ┆   ┆            ┆           ┆           ┆           │\n",
       "│ …          ┆        ┆            ┆          ┆   ┆            ┆           ┆           ┆           │\n",
       "│ …          ┆ …      ┆ …          ┆ …        ┆ … ┆ …          ┆ …         ┆ …         ┆ …         │\n",
       "│ {1EAE3DF6- ┆ 300000 ┆ 2024-02-02 ┆ OX7 5EB  ┆ … ┆ WEST OXFOR ┆ OXFORDSHI ┆ A         ┆ A         │\n",
       "│ DFF6-9EB1- ┆        ┆            ┆          ┆   ┆ DSHIRE     ┆ RE        ┆           ┆           │\n",
       "│ E063-4704A ┆        ┆            ┆          ┆   ┆            ┆           ┆           ┆           │\n",
       "│ …          ┆        ┆            ┆          ┆   ┆            ┆           ┆           ┆           │\n",
       "│ {1EAE3DF6- ┆ 640000 ┆ 2024-07-11 ┆ OX4 4XQ  ┆ … ┆ OXFORD     ┆ OXFORDSHI ┆ A         ┆ A         │\n",
       "│ DFF7-9EB1- ┆        ┆            ┆          ┆   ┆            ┆ RE        ┆           ┆           │\n",
       "│ E063-4704A ┆        ┆            ┆          ┆   ┆            ┆           ┆           ┆           │\n",
       "│ …          ┆        ┆            ┆          ┆   ┆            ┆           ┆           ┆           │\n",
       "│ {1EAE3DF6- ┆ 600000 ┆ 2024-07-19 ┆ OX11 9NX ┆ … ┆ VALE OF    ┆ OXFORDSHI ┆ A         ┆ A         │\n",
       "│ DFF8-9EB1- ┆        ┆            ┆          ┆   ┆ WHITE      ┆ RE        ┆           ┆           │\n",
       "│ E063-4704A ┆        ┆            ┆          ┆   ┆ HORSE      ┆           ┆           ┆           │\n",
       "│ …          ┆        ┆            ┆          ┆   ┆            ┆           ┆           ┆           │\n",
       "│ {1EAE3DF6- ┆ 495000 ┆ 2024-06-19 ┆ OX25 4NE ┆ … ┆ CHERWELL   ┆ OXFORDSHI ┆ A         ┆ A         │\n",
       "│ DFF9-9EB1- ┆        ┆            ┆          ┆   ┆            ┆ RE        ┆           ┆           │\n",
       "│ E063-4704A ┆        ┆            ┆          ┆   ┆            ┆           ┆           ┆           │\n",
       "│ …          ┆        ┆            ┆          ┆   ┆            ┆           ┆           ┆           │\n",
       "│ {1EAE3DF6- ┆ 310000 ┆ 2024-05-07 ┆ OX3 8LX  ┆ … ┆ OXFORD     ┆ OXFORDSHI ┆ A         ┆ A         │\n",
       "│ DFFA-9EB1- ┆        ┆            ┆          ┆   ┆            ┆ RE        ┆           ┆           │\n",
       "│ E063-4704A ┆        ┆            ┆          ┆   ┆            ┆           ┆           ┆           │\n",
       "│ …          ┆        ┆            ┆          ┆   ┆            ┆           ┆           ┆           │\n",
       "└────────────┴────────┴────────────┴──────────┴───┴────────────┴───────────┴───────────┴───────────┘"
      ]
     },
     "execution_count": 14,
     "metadata": {},
     "output_type": "execute_result"
    }
   ],
   "source": [
    "def get_iceberg_data_file(\n",
    "    fs: AbstractFileSystem, table: Table, index=0\n",
    ") -> pl.DataFrame:\n",
    "    \"\"\"Read the data file from the `index` position in the data_file\"\"\"\n",
    "    manifest = get_iceberg_manifest(fs, table)\n",
    "    with fs.open(manifest[0][index][\"data_file\"][\"file_path\"]) as p_f:\n",
    "        return pl.read_parquet(p_f)\n",
    "\n",
    "\n",
    "get_iceberg_data_file(fs, house_prices_t)"
   ]
  },
  {
   "cell_type": "code",
   "execution_count": 15,
   "id": "ee1d5af6-232b-4511-aeec-e2d38bbcb7d1",
   "metadata": {},
   "outputs": [
    {
     "data": {
      "text/plain": [
       "15.104636192321777"
      ]
     },
     "execution_count": 15,
     "metadata": {},
     "output_type": "execute_result"
    }
   ],
   "source": [
    "get_iceberg_manifest(fs, house_prices_t)[0][0][\"data_file\"][\"file_size_in_bytes\"] / 1024 / 1024"
   ]
  },
  {
   "attachments": {},
   "cell_type": "markdown",
   "id": "6b5c90cb-52f3-49dc-8810-b1671b6cd4ff",
   "metadata": {
    "marimo": {
     "config": {
      "hide_code": true
     }
    }
   },
   "source": [
    "In total, on disk, this comes to around 15 MB, which is pretty small, so we end up only having one data file in our manifest\n",
    "\n",
    "To see what changes in our metadata when we add more data, let's add one more month of data."
   ]
  },
  {
   "cell_type": "code",
   "execution_count": 16,
   "id": "NCOB",
   "metadata": {},
   "outputs": [],
   "source": [
    "house_prices_2023 = read_house_prices(\"data/house_prices/pp-2023.csv\")\n",
    "house_prices_t.append(\n",
    "    house_prices_2023.to_arrow().cast(housing_prices_schema.as_arrow())\n",
    ")"
   ]
  },
  {
   "cell_type": "markdown",
   "id": "aqbW",
   "metadata": {
    "marimo": {
     "config": {
      "hide_code": true
     }
    }
   },
   "source": [
    "Now that we have some more data, what do you see that has changed in the metadata?"
   ]
  },
  {
   "cell_type": "code",
   "execution_count": 17,
   "id": "TRpd",
   "metadata": {},
   "outputs": [
    {
     "data": {
      "application/json": {
       "current-schema-id": 0,
       "current-snapshot-id": 1218860976774086000,
       "default-sort-order-id": 0,
       "default-spec-id": 0,
       "format-version": 2,
       "last-column-id": 16,
       "last-partition-id": 999,
       "last-sequence-number": 2,
       "last-updated-ms": 1748178946511,
       "location": "s3://warehouse/housing/staging",
       "metadata-log": [
        {
         "metadata-file": "s3://warehouse/housing/staging/metadata/00000-01970795-7fda-76b1-aa6e-776b6d29b646.gz.metadata.json",
         "timestamp-ms": 1748178927578
        },
        {
         "metadata-file": "s3://warehouse/housing/staging/metadata/00001-01970795-ab82-71e3-b9ba-0ed1749e3691.gz.metadata.json",
         "timestamp-ms": 1748178937865
        }
       ],
       "partition-specs": [
        {
         "fields": [],
         "spec-id": 0
        }
       ],
       "refs": {
        "main": {
         "snapshot-id": 1218860976774086000,
         "type": "branch"
        }
       },
       "schemas": [
        {
         "fields": [
          {
           "doc": "A reference number which is generated automatically recording each published sale. The number is unique and will change each time a sale is recorded.",
           "id": 1,
           "name": "transaction_id",
           "required": true,
           "type": "string"
          },
          {
           "doc": "Sale price stated on the transfer deed.",
           "id": 2,
           "name": "price",
           "required": true,
           "type": "int"
          },
          {
           "doc": "Date when the sale was completed, as stated on the transfer deed.",
           "id": 3,
           "name": "date_of_transfer",
           "required": true,
           "type": "date"
          },
          {
           "doc": "This is the postcode used at the time of the original transaction. Note that postcodes can be reallocated and these changes are not reflected in the Price Paid Dataset.",
           "id": 4,
           "name": "postcode",
           "required": true,
           "type": "string"
          },
          {
           "doc": "D = Detached, S = Semi-Detached, T = Terraced, F = Flats/Maisonettes, O = Other",
           "id": 5,
           "name": "property_type",
           "required": true,
           "type": "string"
          },
          {
           "doc": "Indicates the age of the property and applies to all price paid transactions, residential and non-residential. Y = a newly built property, N = an established residential building",
           "id": 6,
           "name": "new_property",
           "required": true,
           "type": "string"
          },
          {
           "doc": "Relates to the tenure: F = Freehold, L= Leasehold etc. Note that HM Land Registry does not record leases of 7 years or less in the Price Paid Dataset.",
           "id": 7,
           "name": "duration",
           "required": true,
           "type": "string"
          },
          {
           "doc": "Primary Addressable Object Name. Typically the house number or name",
           "id": 8,
           "name": "paon",
           "required": false,
           "type": "string"
          },
          {
           "doc": "Secondary Addressable Object Name. Where a property has been divided into separate units (for example, flats), the PAON (above) will identify the building and a SAON will be specified that identifies the separate unit/flat.",
           "id": 9,
           "name": "saon",
           "required": false,
           "type": "string"
          },
          {
           "id": 10,
           "name": "street",
           "required": false,
           "type": "string"
          },
          {
           "id": 11,
           "name": "locality",
           "required": false,
           "type": "string"
          },
          {
           "id": 12,
           "name": "town",
           "required": false,
           "type": "string"
          },
          {
           "id": 13,
           "name": "district",
           "required": false,
           "type": "string"
          },
          {
           "id": 14,
           "name": "county",
           "required": false,
           "type": "string"
          },
          {
           "doc": "Indicates the type of Price Paid transaction. A = Standard Price Paid entry, includes single residential property sold for value. B = Additional Price Paid entry including transfers under a power of sale/repossessions, buy-to-lets (where they can be identified by a Mortgage), transfers to non-private individuals and sales where the property type is classed as ‘Other’.",
           "id": 15,
           "name": "ppd_category_type",
           "required": false,
           "type": "string"
          },
          {
           "doc": "Indicates additions, changes and deletions to the records. A = Addition C = Change D = Delete",
           "id": 16,
           "name": "record_status",
           "required": false,
           "type": "string"
          }
         ],
         "identifier-field-ids": [
          1
         ],
         "schema-id": 0,
         "type": "struct"
        }
       ],
       "snapshot-log": [
        {
         "snapshot-id": 3559971554517269500,
         "timestamp-ms": 1748178937865
        },
        {
         "snapshot-id": 1218860976774086000,
         "timestamp-ms": 1748178946511
        }
       ],
       "snapshots": [
        {
         "manifest-list": "s3://warehouse/housing/staging/metadata/snap-3559971554517269559-0-2a1a68e3-11a2-407e-aa2a-9ee215935277.avro",
         "schema-id": 0,
         "sequence-number": 1,
         "snapshot-id": 3559971554517269500,
         "summary": {
          "added-data-files": "1",
          "added-files-size": "15838359",
          "added-records": "704344",
          "operation": "append",
          "total-data-files": "1",
          "total-delete-files": "0",
          "total-equality-deletes": "0",
          "total-files-size": "15838359",
          "total-position-deletes": "0",
          "total-records": "704344"
         },
         "timestamp-ms": 1748178937865
        },
        {
         "manifest-list": "s3://warehouse/housing/staging/metadata/snap-1218860976774085909-0-58a75d4b-b838-4c7b-ae9a-527938501e39.avro",
         "parent-snapshot-id": 3559971554517269500,
         "schema-id": 0,
         "sequence-number": 2,
         "snapshot-id": 1218860976774086000,
         "summary": {
          "added-data-files": "1",
          "added-files-size": "19093353",
          "added-records": "841772",
          "operation": "append",
          "total-data-files": "2",
          "total-delete-files": "0",
          "total-equality-deletes": "0",
          "total-files-size": "34931712",
          "total-position-deletes": "0",
          "total-records": "1546116"
         },
         "timestamp-ms": 1748178946511
        }
       ],
       "sort-orders": [
        {
         "fields": [],
         "order-id": 0
        }
       ],
       "table-uuid": "01970795-7fd9-75e2-a819-86cead438844"
      },
      "text/plain": [
       "<IPython.core.display.JSON object>"
      ]
     },
     "execution_count": 17,
     "metadata": {
      "application/json": {
       "expanded": false,
       "root": "root"
      }
     },
     "output_type": "execute_result"
    }
   ],
   "source": [
    "JSON(get_iceberg_metadata(fs, house_prices_t))"
   ]
  },
  {
   "cell_type": "code",
   "execution_count": 18,
   "id": "TXez",
   "metadata": {},
   "outputs": [
    {
     "data": {
      "application/json": [
       {
        "added_files_count": 1,
        "added_rows_count": 841772,
        "added_snapshot_id": 1218860976774086000,
        "content": 0,
        "deleted_files_count": 0,
        "deleted_rows_count": 0,
        "existing_files_count": 0,
        "existing_rows_count": 0,
        "key_metadata": null,
        "manifest_length": 7196,
        "manifest_path": "s3://warehouse/housing/staging/metadata/58a75d4b-b838-4c7b-ae9a-527938501e39-m0.avro",
        "min_sequence_number": 2,
        "partition_spec_id": 0,
        "partitions": [],
        "sequence_number": 2
       },
       {
        "added_files_count": 1,
        "added_rows_count": 704344,
        "added_snapshot_id": 3559971554517269500,
        "content": 0,
        "deleted_files_count": 0,
        "deleted_rows_count": 0,
        "existing_files_count": 0,
        "existing_rows_count": 0,
        "key_metadata": null,
        "manifest_length": 7195,
        "manifest_path": "s3://warehouse/housing/staging/metadata/2a1a68e3-11a2-407e-aa2a-9ee215935277-m0.avro",
        "min_sequence_number": 1,
        "partition_spec_id": 0,
        "partitions": [],
        "sequence_number": 1
       }
      ],
      "text/plain": [
       "<IPython.core.display.JSON object>"
      ]
     },
     "execution_count": 18,
     "metadata": {
      "application/json": {
       "expanded": false,
       "root": "root"
      }
     },
     "output_type": "execute_result"
    }
   ],
   "source": [
    "JSON(get_iceberg_manifest_list(fs, house_prices_t))"
   ]
  },
  {
   "cell_type": "code",
   "execution_count": 19,
   "id": "dNNg",
   "metadata": {},
   "outputs": [
    {
     "data": {
      "application/json": [
       [
        {
         "data_file": {
          "column_sizes": [
           {
            "key": 1,
            "value": 2317956
           },
           {
            "key": 2,
            "value": 1445351
           },
           {
            "key": 3,
            "value": 935805
           },
           {
            "key": 4,
            "value": 4331051
           },
           {
            "key": 5,
            "value": 256508
           },
           {
            "key": 6,
            "value": 29713
           },
           {
            "key": 7,
            "value": 93971
           },
           {
            "key": 8,
            "value": 1836351
           },
           {
            "key": 9,
            "value": 327087
           },
           {
            "key": 10,
            "value": 4252216
           },
           {
            "key": 11,
            "value": 897094
           },
           {
            "key": 12,
            "value": 1101551
           },
           {
            "key": 13,
            "value": 881484
           },
           {
            "key": 14,
            "value": 362693
           },
           {
            "key": 15,
            "value": 17316
           },
           {
            "key": 16,
            "value": 79
           }
          ],
          "content": 0,
          "equality_ids": null,
          "file_format": "PARQUET",
          "file_path": "s3://warehouse/housing/staging/data/00000-0-58a75d4b-b838-4c7b-ae9a-527938501e39.parquet",
          "file_size_in_bytes": 19093353,
          "key_metadata": null,
          "lower_bounds": [
           {
            "key": 1,
            "value": "ezAxRUI0NUVGLTYxMkMtNA=="
           },
           {
            "key": 2,
            "value": "AQAAAA=="
           },
           {
            "key": 3,
            "value": "nksAAA=="
           },
           {
            "key": 4,
            "value": ""
           },
           {
            "key": 5,
            "value": "RA=="
           },
           {
            "key": 6,
            "value": "Tg=="
           },
           {
            "key": 7,
            "value": "Rg=="
           },
           {
            "key": 8,
            "value": "KEFORFJFVyk="
           },
           {
            "key": 9,
            "value": ""
           },
           {
            "key": 10,
            "value": ""
           },
           {
            "key": 11,
            "value": ""
           },
           {
            "key": 12,
            "value": "QUJCT1RTIExBTkdMRVk="
           },
           {
            "key": 13,
            "value": "QURVUg=="
           },
           {
            "key": 14,
            "value": "QkFUSCBBTkQgTk9SVEggRQ=="
           },
           {
            "key": 15,
            "value": "QQ=="
           },
           {
            "key": 16,
            "value": "QQ=="
           }
          ],
          "nan_value_counts": [],
          "null_value_counts": [
           {
            "key": 1,
            "value": 0
           },
           {
            "key": 2,
            "value": 0
           },
           {
            "key": 3,
            "value": 0
           },
           {
            "key": 4,
            "value": 0
           },
           {
            "key": 5,
            "value": 0
           },
           {
            "key": 6,
            "value": 0
           },
           {
            "key": 7,
            "value": 0
           },
           {
            "key": 8,
            "value": 0
           },
           {
            "key": 9,
            "value": 0
           },
           {
            "key": 10,
            "value": 0
           },
           {
            "key": 11,
            "value": 0
           },
           {
            "key": 12,
            "value": 0
           },
           {
            "key": 13,
            "value": 0
           },
           {
            "key": 14,
            "value": 0
           },
           {
            "key": 15,
            "value": 0
           },
           {
            "key": 16,
            "value": 0
           }
          ],
          "partition": {},
          "record_count": 841772,
          "sort_order_id": null,
          "split_offsets": [
           4
          ],
          "upper_bounds": [
           {
            "key": 1,
            "value": "e0ZGQTM2MURCLTlDQ0ItOQ=="
           },
           {
            "key": 2,
            "value": "4LnxDw=="
           },
           {
            "key": 3,
            "value": "Ck0AAA=="
           },
           {
            "key": 4,
            "value": "WU84IDlZRA=="
           },
           {
            "key": 5,
            "value": "VA=="
           },
           {
            "key": 6,
            "value": "WQ=="
           },
           {
            "key": 7,
            "value": "TA=="
           },
           {
            "key": 8,
            "value": "WlVSSUNIIEhPVVNFLCAxMw=="
           },
           {
            "key": 9,
            "value": "Wk9ORSA1"
           },
           {
            "key": 10,
            "value": "WllCVVJOIENPVVJU"
           },
           {
            "key": 11,
            "value": "Wk9VQ0g="
           },
           {
            "key": 12,
            "value": "WVNUUkFEIE1FVVJJRw=="
           },
           {
            "key": 13,
            "value": "WU9SSw=="
           },
           {
            "key": 14,
            "value": "WU9SSw=="
           },
           {
            "key": 15,
            "value": "Qg=="
           },
           {
            "key": 16,
            "value": "QQ=="
           }
          ],
          "value_counts": [
           {
            "key": 1,
            "value": 841772
           },
           {
            "key": 2,
            "value": 841772
           },
           {
            "key": 3,
            "value": 841772
           },
           {
            "key": 4,
            "value": 841772
           },
           {
            "key": 5,
            "value": 841772
           },
           {
            "key": 6,
            "value": 841772
           },
           {
            "key": 7,
            "value": 841772
           },
           {
            "key": 8,
            "value": 841772
           },
           {
            "key": 9,
            "value": 841772
           },
           {
            "key": 10,
            "value": 841772
           },
           {
            "key": 11,
            "value": 841772
           },
           {
            "key": 12,
            "value": 841772
           },
           {
            "key": 13,
            "value": 841772
           },
           {
            "key": 14,
            "value": 841772
           },
           {
            "key": 15,
            "value": 841772
           },
           {
            "key": 16,
            "value": 841772
           }
          ]
         },
         "file_sequence_number": null,
         "sequence_number": null,
         "snapshot_id": 1218860976774086000,
         "status": 1
        }
       ],
       [
        {
         "data_file": {
          "column_sizes": [
           {
            "key": 1,
            "value": 1850605
           },
           {
            "key": 2,
            "value": 1171629
           },
           {
            "key": 3,
            "value": 786736
           },
           {
            "key": 4,
            "value": 3737234
           },
           {
            "key": 5,
            "value": 217075
           },
           {
            "key": 6,
            "value": 10797
           },
           {
            "key": 7,
            "value": 76793
           },
           {
            "key": 8,
            "value": 1441401
           },
           {
            "key": 9,
            "value": 243852
           },
           {
            "key": 10,
            "value": 3560024
           },
           {
            "key": 11,
            "value": 761576
           },
           {
            "key": 12,
            "value": 930286
           },
           {
            "key": 13,
            "value": 736777
           },
           {
            "key": 14,
            "value": 295337
           },
           {
            "key": 15,
            "value": 11034
           },
           {
            "key": 16,
            "value": 79
           }
          ],
          "content": 0,
          "equality_ids": null,
          "file_format": "PARQUET",
          "file_path": "s3://warehouse/housing/staging/data/00000-0-2a1a68e3-11a2-407e-aa2a-9ee215935277.parquet",
          "file_size_in_bytes": 15838359,
          "key_metadata": null,
          "lower_bounds": [
           {
            "key": 1,
            "value": "ezEwNjE3NDZELTk4QUEtMw=="
           },
           {
            "key": 2,
            "value": "AQAAAA=="
           },
           {
            "key": 3,
            "value": "C00AAA=="
           },
           {
            "key": 4,
            "value": ""
           },
           {
            "key": 5,
            "value": "RA=="
           },
           {
            "key": 6,
            "value": "Tg=="
           },
           {
            "key": 7,
            "value": "Rg=="
           },
           {
            "key": 8,
            "value": "KEkgQlJBSU4p"
           },
           {
            "key": 9,
            "value": ""
           },
           {
            "key": 10,
            "value": ""
           },
           {
            "key": 11,
            "value": ""
           },
           {
            "key": 12,
            "value": "QUJCT1RTIExBTkdMRVk="
           },
           {
            "key": 13,
            "value": "QURVUg=="
           },
           {
            "key": 14,
            "value": "QkFUSCBBTkQgTk9SVEggRQ=="
           },
           {
            "key": 15,
            "value": "QQ=="
           },
           {
            "key": 16,
            "value": "QQ=="
           }
          ],
          "nan_value_counts": [],
          "null_value_counts": [
           {
            "key": 1,
            "value": 0
           },
           {
            "key": 2,
            "value": 0
           },
           {
            "key": 3,
            "value": 0
           },
           {
            "key": 4,
            "value": 0
           },
           {
            "key": 5,
            "value": 0
           },
           {
            "key": 6,
            "value": 0
           },
           {
            "key": 7,
            "value": 0
           },
           {
            "key": 8,
            "value": 0
           },
           {
            "key": 9,
            "value": 0
           },
           {
            "key": 10,
            "value": 0
           },
           {
            "key": 11,
            "value": 0
           },
           {
            "key": 12,
            "value": 0
           },
           {
            "key": 13,
            "value": 0
           },
           {
            "key": 14,
            "value": 0
           },
           {
            "key": 15,
            "value": 0
           },
           {
            "key": 16,
            "value": 0
           }
          ],
          "partition": {},
          "record_count": 704344,
          "sort_order_id": null,
          "split_offsets": [
           4
          ],
          "upper_bounds": [
           {
            "key": 1,
            "value": "ezJGN0YyQjQzLUYxMEYtRg=="
           },
           {
            "key": 2,
            "value": "APhZDQ=="
           },
           {
            "key": 3,
            "value": "eE4AAA=="
           },
           {
            "key": 4,
            "value": "WU85MCAxVVU="
           },
           {
            "key": 5,
            "value": "VA=="
           },
           {
            "key": 6,
            "value": "WQ=="
           },
           {
            "key": 7,
            "value": "TA=="
           },
           {
            "key": 8,
            "value": "WlVSSUNIIEhPVVNF"
           },
           {
            "key": 9,
            "value": "Wk9ORSA1"
           },
           {
            "key": 10,
            "value": "WlVSSUNIIEdBUkRFTlM="
           },
           {
            "key": 11,
            "value": "Wk9VQ0g="
           },
           {
            "key": 12,
            "value": "WVNUUkFEIE1FVVJJRw=="
           },
           {
            "key": 13,
            "value": "WU9SSw=="
           },
           {
            "key": 14,
            "value": "WU9SSw=="
           },
           {
            "key": 15,
            "value": "Qg=="
           },
           {
            "key": 16,
            "value": "QQ=="
           }
          ],
          "value_counts": [
           {
            "key": 1,
            "value": 704344
           },
           {
            "key": 2,
            "value": 704344
           },
           {
            "key": 3,
            "value": 704344
           },
           {
            "key": 4,
            "value": 704344
           },
           {
            "key": 5,
            "value": 704344
           },
           {
            "key": 6,
            "value": 704344
           },
           {
            "key": 7,
            "value": 704344
           },
           {
            "key": 8,
            "value": 704344
           },
           {
            "key": 9,
            "value": 704344
           },
           {
            "key": 10,
            "value": 704344
           },
           {
            "key": 11,
            "value": 704344
           },
           {
            "key": 12,
            "value": 704344
           },
           {
            "key": 13,
            "value": 704344
           },
           {
            "key": 14,
            "value": 704344
           },
           {
            "key": 15,
            "value": 704344
           },
           {
            "key": 16,
            "value": 704344
           }
          ]
         },
         "file_sequence_number": null,
         "sequence_number": null,
         "snapshot_id": 3559971554517269500,
         "status": 1
        }
       ]
      ],
      "text/plain": [
       "<IPython.core.display.JSON object>"
      ]
     },
     "execution_count": 19,
     "metadata": {
      "application/json": {
       "expanded": false,
       "root": "root"
      }
     },
     "output_type": "execute_result"
    }
   ],
   "source": [
    "JSON(get_iceberg_manifest(fs, house_prices_t))"
   ]
  },
  {
   "cell_type": "code",
   "execution_count": 20,
   "id": "0df8788b-0d14-41d9-a3ac-185fa198ac1f",
   "metadata": {},
   "outputs": [
    {
     "data": {
      "text/plain": [
       "['warehouse/housing/staging/data/00000-0-2a1a68e3-11a2-407e-aa2a-9ee215935277.parquet',\n",
       " 'warehouse/housing/staging/data/00000-0-58a75d4b-b838-4c7b-ae9a-527938501e39.parquet']"
      ]
     },
     "execution_count": 20,
     "metadata": {},
     "output_type": "execute_result"
    }
   ],
   "source": [
    "fs.ls(\"/warehouse/housing/staging/data\")"
   ]
  },
  {
   "cell_type": "markdown",
   "id": "yCnT",
   "metadata": {
    "marimo": {
     "config": {
      "hide_code": true
     }
    }
   },
   "source": [
    "## Concluding on Metadata\n",
    "\n",
    "All the metadata we've looked at here is stored in object storage. It's this metadata which powers all of Iceberg - if you can understand how this metadata is put together, you understand the inner workings of Iceberg."
   ]
  }
 ],
 "metadata": {
  "kernelspec": {
   "display_name": "Python 3 (ipykernel)",
   "language": "python",
   "name": "python3"
  },
  "language_info": {
   "codemirror_mode": {
    "name": "ipython",
    "version": 3
   },
   "file_extension": ".py",
   "mimetype": "text/x-python",
   "name": "python",
   "nbconvert_exporter": "python",
   "pygments_lexer": "ipython3",
   "version": "3.12.10"
  }
 },
 "nbformat": 4,
 "nbformat_minor": 5
}
