{
 "cells": [
  {
   "cell_type": "code",
   "execution_count": 1,
   "id": "Hbol",
   "metadata": {
    "ExecuteTime": {
     "end_time": "2025-05-05T19:19:36.071666Z",
     "start_time": "2025-05-05T19:19:35.247612Z"
    },
    "marimo": {
     "config": {
      "hide_code": true
     }
    }
   },
   "outputs": [],
   "source": [
    "from pyiceberg.catalog.rest import RestCatalog\n",
    "import polars as pl\n",
    "from IPython.display import JSON, Markdown"
   ]
  },
  {
   "cell_type": "markdown",
   "id": "MJUe",
   "metadata": {
    "marimo": {
     "config": {
      "hide_code": true
     }
    }
   },
   "source": [
    "# Hands-on with Apache Iceberg\n",
    "\n",
    "Welcome to this hands-on demo of working with Apache Iceberg. In this demo, our motivating task is to answer the question:\n",
    "\n",
    "**\"Is my house worth its weight in gold?\"**\n",
    "\n",
    "We will go through some fundamentals of working with Iceberg, and then work our way towards answering this important question. There will be some exercises along the way, so you can get some practice. That also means, you need to remember to execute every cell!\n",
    "\n",
    "The data we will be working with today is the **Price Paid Dataset** (aka PPD) which is published on `gov.uk`. The description of the website states\n",
    "\n",
    "> Our Price Paid Data includes information on all property sales in England and Wales that are sold for value and are lodged with us for registration.\n",
    "\n",
    "As per the license terms, we include the proper attribution and a link to OGL [here](https://www.nationalarchives.gov.uk/doc/open-government-licence/version/3/)\n",
    "> Contains HM Land Registry data © Crown copyright and database right 2021. This data is licensed under the Open Government Licence v3.0.\n",
    "\n",
    "\n",
    "```{note}\n",
    "Before we get started, make sure you've run the following if you want to follow along:\n",
    "- `docker compose up -d` \n",
    "- `iceberg download housing` \n",
    "- `iceberg bootstrap`\n",
    "```"
   ]
  },
  {
   "attachments": {},
   "cell_type": "markdown",
   "id": "30e30844-02f7-499b-9f19-2a47edfdf9e4",
   "metadata": {},
   "source": [
    "# Intro to Apache Iceberg\n",
    "\n",
    "Apache Iceberg is a specification - it merely defines how the data and metadata should be stored on disk. This is the power of standards specifications, as anyone can read and write Iceberg if they follow the specification.\n",
    "\n",
    "The specification is [fairly long and detailed](https://iceberg.apache.org/spec/), but we will walk through the core concepts to give you an understanding of what Iceberg is doing under the hood.\n",
    "\n",
    "## Iceberg Architecture\n",
    "\n",
    "This is Iceberg - after this demo, you should walk away with a pretty good understanding of what this drawing is showing\n",
    "\n",
    "\n",
    "```{figure} images/iceberg_architecture.svg\n",
    ":height: 500px\n",
    ":label: Iceberg Architecture\n",
    "```\n"
   ]
  },
  {
   "cell_type": "markdown",
   "id": "vblA",
   "metadata": {
    "marimo": {
     "config": {
      "hide_code": true
     }
    }
   },
   "source": [
    "## The Catalog\n",
    " \n",
    "\n",
    "We can ask it for a given table name, and it will tell us where to find it. It also tracks an \"optimistic\" lock on writing to a table to preserve transactionality\n",
    "\n",
    "```{figure}images/iceberg_architecture_catalogue.svg\n",
    ":height: 500px\n",
    ":label: Architecture Catalog\n",
    "```\n",
    "\n",
    "The choice of catalog is the first choice to make when adopting Iceberg. \n",
    "\n",
    "Sometimes it's made for you e.g `AWS Glue` for Athena-based workloads, `Polaris/Open Catalog` for Snowflake based teams or `Unity Catalog` for the Databricks fans. \n",
    "\n",
    "Sometimes you're looking for specific features such as `Nessie`'s focus on branching workflows, or the compatibility of `Hive Meta Store`. \n",
    "\n",
    "Today we will be using `Lakekeeper`, a Rust implementation that is a single binary. Note that while Lakekeeper has full support for AuthN/AuthZ, for the sake of the demo, no protection is being used - don't do this at home kids!"
   ]
  },
  {
   "cell_type": "code",
   "execution_count": 2,
   "id": "bkHC",
   "metadata": {
    "ExecuteTime": {
     "end_time": "2025-05-04T19:15:30.914212Z",
     "start_time": "2025-05-04T19:15:30.871978Z"
    }
   },
   "outputs": [],
   "source": [
    "# The warehouse was created during the bootstrapping process, it's specific to Lakekeeper\n",
    "catalog = RestCatalog(\n",
    "    \"lakekeeper\", uri=\"http://lakekeeper:8181/catalog\", warehouse=\"lakehouse\"\n",
    ")"
   ]
  },
  {
   "cell_type": "markdown",
   "id": "8a8a5c20-0746-4b2a-9bb5-e24ce5649a3d",
   "metadata": {},
   "source": [
    "In Iceberg, a catalog is responsible for any number of sets of tables, where a set of tables is grouped into a namespace. The catalogue can specify additional layers, such as the `warehouse` abstraction offered by Lakekeeper, though this is not required by the Iceberg spec.\n",
    "\n",
    "Since we're dealing with house prices, let's go with `housing` - you could imagine we would want to add other interesting housing-related datasets at a later point"
   ]
  },
  {
   "cell_type": "code",
   "execution_count": 3,
   "id": "lEQa",
   "metadata": {},
   "outputs": [],
   "source": [
    "catalog.create_namespace_if_not_exists(\"housing\")"
   ]
  },
  {
   "cell_type": "markdown",
   "id": "PKri",
   "metadata": {
    "marimo": {
     "config": {
      "hide_code": true
     }
    }
   },
   "source": [
    "## Schema\n",
    "\n",
    "Next we need a schema. In PyIceberg, we can define the schema using Pyiceberg types"
   ]
  },
  {
   "cell_type": "code",
   "execution_count": 4,
   "id": "Xref",
   "metadata": {},
   "outputs": [],
   "source": [
    "from pyiceberg.schema import Schema, NestedField, StringType, IntegerType, DateType\n",
    "\n",
    "housing_prices_schema = Schema(\n",
    "    NestedField(\n",
    "        1,\n",
    "        \"transaction_id\",\n",
    "        StringType(),\n",
    "        required=True,\n",
    "        doc=\"A reference number which is generated automatically recording each published sale. The number is unique and will change each time a sale is recorded.\",\n",
    "    ),\n",
    "    NestedField(\n",
    "        2,\n",
    "        \"price\",\n",
    "        IntegerType(),\n",
    "        required=True,\n",
    "        doc=\"Sale price stated on the transfer deed.\",\n",
    "    ),\n",
    "    NestedField(\n",
    "        3,\n",
    "        \"date_of_transfer\",\n",
    "        DateType(),\n",
    "        required=True,\n",
    "        doc=\"Date when the sale was completed, as stated on the transfer deed.\",\n",
    "    ),\n",
    "    NestedField(\n",
    "        4,\n",
    "        \"postcode\",\n",
    "        StringType(),\n",
    "        required=True,\n",
    "        doc=\"This is the postcode used at the time of the original transaction. Note that postcodes can be reallocated and these changes are not reflected in the Price Paid Dataset.\",\n",
    "    ),\n",
    "    NestedField(\n",
    "        5,\n",
    "        \"property_type\",\n",
    "        StringType(),\n",
    "        required=True,\n",
    "        doc=\"D = Detached, S = Semi-Detached, T = Terraced, F = Flats/Maisonettes, O = Other\",\n",
    "    ),\n",
    "    NestedField(\n",
    "        6,\n",
    "        \"new_property\",\n",
    "        StringType(),\n",
    "        required=True,\n",
    "        doc=\"Indicates the age of the property and applies to all price paid transactions, residential and non-residential. Y = a newly built property, N = an established residential building\",\n",
    "    ),\n",
    "    NestedField(\n",
    "        7,\n",
    "        \"duration\",\n",
    "        StringType(),\n",
    "        required=True,\n",
    "        doc=\"Relates to the tenure: F = Freehold, L= Leasehold etc. Note that HM Land Registry does not record leases of 7 years or less in the Price Paid Dataset.\",\n",
    "    ),\n",
    "    NestedField(\n",
    "        8,\n",
    "        \"paon\",\n",
    "        StringType(),\n",
    "        doc=\"Primary Addressable Object Name. Typically the house number or name\",\n",
    "    ),\n",
    "    NestedField(\n",
    "        9,\n",
    "        \"saon\",\n",
    "        StringType(),\n",
    "        doc=\"Secondary Addressable Object Name. Where a property has been divided into separate units (for example, flats), the PAON (above) will identify the building and a SAON will be specified that identifies the separate unit/flat.\",\n",
    "    ),\n",
    "    NestedField(10, \"street\", StringType()),\n",
    "    NestedField(11, \"locality\", StringType()),\n",
    "    NestedField(12, \"town\", StringType()),\n",
    "    NestedField(13, \"district\", StringType()),\n",
    "    NestedField(14, \"county\", StringType()),\n",
    "    NestedField(\n",
    "        15,\n",
    "        \"ppd_category_type\",\n",
    "        StringType(),\n",
    "        doc=\"Indicates the type of Price Paid transaction. A = Standard Price Paid entry, includes single residential property sold for value. B = Additional Price Paid entry including transfers under a power of sale/repossessions, buy-to-lets (where they can be identified by a Mortgage), transfers to non-private individuals and sales where the property type is classed as ‘Other’.\",\n",
    "    ),\n",
    "    NestedField(\n",
    "        16,\n",
    "        \"record_status\",\n",
    "        StringType(),\n",
    "        doc=\"Indicates additions, changes and deletions to the records. A = Addition C = Change D = Delete\",\n",
    "    ),\n",
    "    identifier_field_ids=[1],\n",
    ")"
   ]
  },
  {
   "cell_type": "markdown",
   "id": "SFPL",
   "metadata": {
    "marimo": {
     "config": {
      "hide_code": true
     }
    }
   },
   "source": [
    "## The Table\n",
    "\n",
    "With our schema in place, we're now ready to create the table. Here we are directly specifying the location where the table will be stored, though depending on the catalog, it can automatically assign a location."
   ]
  },
  {
   "cell_type": "code",
   "execution_count": 5,
   "id": "BYtC",
   "metadata": {},
   "outputs": [],
   "source": [
    "house_prices_t = catalog.create_table_if_not_exists(\n",
    "    \"housing.staging_prices\",\n",
    "    schema=housing_prices_schema,\n",
    "    location=\"s3://warehouse/housing/staging\",\n",
    ")"
   ]
  },
  {
   "cell_type": "markdown",
   "id": "RGSE",
   "metadata": {
    "marimo": {
     "config": {
      "hide_code": true
     }
    }
   },
   "source": [
    "## The Data\n",
    "Pyiceberg relies on Apache Arrow as its Data Interchange Format, so we need to read in our CSV files and convert them to Arrow. \n",
    "\n",
    "We need to do some light processing of the data, like setting the headers and casting the dtypes properly. "
   ]
  },
  {
   "cell_type": "code",
   "execution_count": 6,
   "id": "Kclp",
   "metadata": {},
   "outputs": [
    {
     "data": {
      "text/html": [
       "<div><style>\n",
       ".dataframe > thead > tr,\n",
       ".dataframe > tbody > tr {\n",
       "  text-align: right;\n",
       "  white-space: pre-wrap;\n",
       "}\n",
       "</style>\n",
       "<small>shape: (859_960, 16)</small><table border=\"1\" class=\"dataframe\"><thead><tr><th>transaction_id</th><th>price</th><th>date_of_transfer</th><th>postcode</th><th>property_type</th><th>new_property</th><th>duration</th><th>paon</th><th>saon</th><th>street</th><th>locality</th><th>town</th><th>district</th><th>county</th><th>ppd_category_type</th><th>record_status</th></tr><tr><td>str</td><td>i64</td><td>date</td><td>str</td><td>str</td><td>str</td><td>str</td><td>str</td><td>str</td><td>str</td><td>str</td><td>str</td><td>str</td><td>str</td><td>str</td><td>str</td></tr></thead><tbody><tr><td>&quot;{3DCCB7CA-3B61-5B9D-E063-4704A…</td><td>362340</td><td>2024-10-25</td><td>&quot;NN6 0TR&quot;</td><td>&quot;D&quot;</td><td>&quot;Y&quot;</td><td>&quot;F&quot;</td><td>&quot;4&quot;</td><td>&quot;&quot;</td><td>&quot;BATEMAN LANE&quot;</td><td>&quot;OVERSTONE&quot;</td><td>&quot;NORTHAMPTON&quot;</td><td>&quot;WEST NORTHAMPTONSHIRE&quot;</td><td>&quot;WEST NORTHAMPTONSHIRE&quot;</td><td>&quot;A&quot;</td><td>&quot;A&quot;</td></tr><tr><td>&quot;{3DCCB7CA-3B62-5B9D-E063-4704A…</td><td>413300</td><td>2024-09-18</td><td>&quot;NN11 6DJ&quot;</td><td>&quot;D&quot;</td><td>&quot;N&quot;</td><td>&quot;F&quot;</td><td>&quot;15&quot;</td><td>&quot;&quot;</td><td>&quot;FROG LANE&quot;</td><td>&quot;UPPER BODDINGTON&quot;</td><td>&quot;DAVENTRY&quot;</td><td>&quot;WEST NORTHAMPTONSHIRE&quot;</td><td>&quot;WEST NORTHAMPTONSHIRE&quot;</td><td>&quot;A&quot;</td><td>&quot;A&quot;</td></tr><tr><td>&quot;{3DCCB7CA-3B63-5B9D-E063-4704A…</td><td>390000</td><td>2024-10-11</td><td>&quot;NN11 3AR&quot;</td><td>&quot;D&quot;</td><td>&quot;N&quot;</td><td>&quot;F&quot;</td><td>&quot;NORTH VIEW COTTAGE&quot;</td><td>&quot;&quot;</td><td>&quot;CHURCH HILL&quot;</td><td>&quot;BADBY&quot;</td><td>&quot;DAVENTRY&quot;</td><td>&quot;WEST NORTHAMPTONSHIRE&quot;</td><td>&quot;WEST NORTHAMPTONSHIRE&quot;</td><td>&quot;A&quot;</td><td>&quot;A&quot;</td></tr><tr><td>&quot;{3DCCB7CA-3B65-5B9D-E063-4704A…</td><td>215000</td><td>2024-10-11</td><td>&quot;NN18 0BE&quot;</td><td>&quot;S&quot;</td><td>&quot;N&quot;</td><td>&quot;F&quot;</td><td>&quot;36&quot;</td><td>&quot;&quot;</td><td>&quot;TAUNTON AVENUE&quot;</td><td>&quot;&quot;</td><td>&quot;CORBY&quot;</td><td>&quot;NORTH NORTHAMPTONSHIRE&quot;</td><td>&quot;NORTH NORTHAMPTONSHIRE&quot;</td><td>&quot;A&quot;</td><td>&quot;A&quot;</td></tr><tr><td>&quot;{3DCCB7CA-3B66-5B9D-E063-4704A…</td><td>245000</td><td>2024-10-28</td><td>&quot;NN15 7QQ&quot;</td><td>&quot;T&quot;</td><td>&quot;N&quot;</td><td>&quot;F&quot;</td><td>&quot;9&quot;</td><td>&quot;&quot;</td><td>&quot;THE GROVE&quot;</td><td>&quot;&quot;</td><td>&quot;KETTERING&quot;</td><td>&quot;NORTH NORTHAMPTONSHIRE&quot;</td><td>&quot;NORTH NORTHAMPTONSHIRE&quot;</td><td>&quot;A&quot;</td><td>&quot;A&quot;</td></tr><tr><td>&hellip;</td><td>&hellip;</td><td>&hellip;</td><td>&hellip;</td><td>&hellip;</td><td>&hellip;</td><td>&hellip;</td><td>&hellip;</td><td>&hellip;</td><td>&hellip;</td><td>&hellip;</td><td>&hellip;</td><td>&hellip;</td><td>&hellip;</td><td>&hellip;</td><td>&hellip;</td></tr><tr><td>&quot;{1A0C5C63-247B-7CBE-E063-4804A…</td><td>160000</td><td>2024-05-07</td><td>&quot;CA28 6UY&quot;</td><td>&quot;D&quot;</td><td>&quot;N&quot;</td><td>&quot;F&quot;</td><td>&quot;41&quot;</td><td>&quot;&quot;</td><td>&quot;BALMORAL ROAD&quot;</td><td>&quot;&quot;</td><td>&quot;WHITEHAVEN&quot;</td><td>&quot;CUMBERLAND&quot;</td><td>&quot;CUMBERLAND&quot;</td><td>&quot;A&quot;</td><td>&quot;A&quot;</td></tr><tr><td>&quot;{1A0C5C63-247C-7CBE-E063-4804A…</td><td>340000</td><td>2024-03-01</td><td>&quot;LA8 8DY&quot;</td><td>&quot;T&quot;</td><td>&quot;N&quot;</td><td>&quot;L&quot;</td><td>&quot;1&quot;</td><td>&quot;&quot;</td><td>&quot;DOVE COTTAGES&quot;</td><td>&quot;SIZERGH&quot;</td><td>&quot;KENDAL&quot;</td><td>&quot;WESTMORLAND AND FURNESS&quot;</td><td>&quot;WESTMORLAND AND FURNESS&quot;</td><td>&quot;A&quot;</td><td>&quot;A&quot;</td></tr><tr><td>&quot;{1A0C5C63-247D-7CBE-E063-4804A…</td><td>95000</td><td>2024-05-21</td><td>&quot;CA7 4AA&quot;</td><td>&quot;T&quot;</td><td>&quot;N&quot;</td><td>&quot;F&quot;</td><td>&quot;22&quot;</td><td>&quot;&quot;</td><td>&quot;WAMPOOL STREET&quot;</td><td>&quot;SILLOTH&quot;</td><td>&quot;WIGTON&quot;</td><td>&quot;CUMBERLAND&quot;</td><td>&quot;CUMBERLAND&quot;</td><td>&quot;A&quot;</td><td>&quot;A&quot;</td></tr><tr><td>&quot;{1A0C5C63-247E-7CBE-E063-4804A…</td><td>327500</td><td>2024-02-27</td><td>&quot;CA14 1DY&quot;</td><td>&quot;D&quot;</td><td>&quot;Y&quot;</td><td>&quot;F&quot;</td><td>&quot;62&quot;</td><td>&quot;&quot;</td><td>&quot;MEADOW WALK&quot;</td><td>&quot;STAINBURN&quot;</td><td>&quot;WORKINGTON&quot;</td><td>&quot;WESTMORLAND AND FURNESS&quot;</td><td>&quot;WESTMORLAND AND FURNESS&quot;</td><td>&quot;A&quot;</td><td>&quot;A&quot;</td></tr><tr><td>&quot;{1A0C5C63-247F-7CBE-E063-4804A…</td><td>784513</td><td>2024-03-18</td><td>&quot;LA23 3BQ&quot;</td><td>&quot;F&quot;</td><td>&quot;N&quot;</td><td>&quot;L&quot;</td><td>&quot;MARINA VIEW&quot;</td><td>&quot;9&quot;</td><td>&quot;THE MARINA&quot;</td><td>&quot;BOWNESS ON WINDERMERE&quot;</td><td>&quot;WINDERMERE&quot;</td><td>&quot;WESTMORLAND AND FURNESS&quot;</td><td>&quot;WESTMORLAND AND FURNESS&quot;</td><td>&quot;A&quot;</td><td>&quot;A&quot;</td></tr></tbody></table></div>"
      ],
      "text/plain": [
       "shape: (859_960, 16)\n",
       "┌────────────┬────────┬────────────┬──────────┬───┬────────────┬───────────┬───────────┬───────────┐\n",
       "│ transactio ┆ price  ┆ date_of_tr ┆ postcode ┆ … ┆ district   ┆ county    ┆ ppd_categ ┆ record_st │\n",
       "│ n_id       ┆ ---    ┆ ansfer     ┆ ---      ┆   ┆ ---        ┆ ---       ┆ ory_type  ┆ atus      │\n",
       "│ ---        ┆ i64    ┆ ---        ┆ str      ┆   ┆ str        ┆ str       ┆ ---       ┆ ---       │\n",
       "│ str        ┆        ┆ date       ┆          ┆   ┆            ┆           ┆ str       ┆ str       │\n",
       "╞════════════╪════════╪════════════╪══════════╪═══╪════════════╪═══════════╪═══════════╪═══════════╡\n",
       "│ {3DCCB7CA- ┆ 362340 ┆ 2024-10-25 ┆ NN6 0TR  ┆ … ┆ WEST NORTH ┆ WEST NORT ┆ A         ┆ A         │\n",
       "│ 3B61-5B9D- ┆        ┆            ┆          ┆   ┆ AMPTONSHIR ┆ HAMPTONSH ┆           ┆           │\n",
       "│ E063-4704A ┆        ┆            ┆          ┆   ┆ E          ┆ IRE       ┆           ┆           │\n",
       "│ …          ┆        ┆            ┆          ┆   ┆            ┆           ┆           ┆           │\n",
       "│ {3DCCB7CA- ┆ 413300 ┆ 2024-09-18 ┆ NN11 6DJ ┆ … ┆ WEST NORTH ┆ WEST NORT ┆ A         ┆ A         │\n",
       "│ 3B62-5B9D- ┆        ┆            ┆          ┆   ┆ AMPTONSHIR ┆ HAMPTONSH ┆           ┆           │\n",
       "│ E063-4704A ┆        ┆            ┆          ┆   ┆ E          ┆ IRE       ┆           ┆           │\n",
       "│ …          ┆        ┆            ┆          ┆   ┆            ┆           ┆           ┆           │\n",
       "│ {3DCCB7CA- ┆ 390000 ┆ 2024-10-11 ┆ NN11 3AR ┆ … ┆ WEST NORTH ┆ WEST NORT ┆ A         ┆ A         │\n",
       "│ 3B63-5B9D- ┆        ┆            ┆          ┆   ┆ AMPTONSHIR ┆ HAMPTONSH ┆           ┆           │\n",
       "│ E063-4704A ┆        ┆            ┆          ┆   ┆ E          ┆ IRE       ┆           ┆           │\n",
       "│ …          ┆        ┆            ┆          ┆   ┆            ┆           ┆           ┆           │\n",
       "│ {3DCCB7CA- ┆ 215000 ┆ 2024-10-11 ┆ NN18 0BE ┆ … ┆ NORTH NORT ┆ NORTH NOR ┆ A         ┆ A         │\n",
       "│ 3B65-5B9D- ┆        ┆            ┆          ┆   ┆ HAMPTONSHI ┆ THAMPTONS ┆           ┆           │\n",
       "│ E063-4704A ┆        ┆            ┆          ┆   ┆ RE         ┆ HIRE      ┆           ┆           │\n",
       "│ …          ┆        ┆            ┆          ┆   ┆            ┆           ┆           ┆           │\n",
       "│ {3DCCB7CA- ┆ 245000 ┆ 2024-10-28 ┆ NN15 7QQ ┆ … ┆ NORTH NORT ┆ NORTH NOR ┆ A         ┆ A         │\n",
       "│ 3B66-5B9D- ┆        ┆            ┆          ┆   ┆ HAMPTONSHI ┆ THAMPTONS ┆           ┆           │\n",
       "│ E063-4704A ┆        ┆            ┆          ┆   ┆ RE         ┆ HIRE      ┆           ┆           │\n",
       "│ …          ┆        ┆            ┆          ┆   ┆            ┆           ┆           ┆           │\n",
       "│ …          ┆ …      ┆ …          ┆ …        ┆ … ┆ …          ┆ …         ┆ …         ┆ …         │\n",
       "│ {1A0C5C63- ┆ 160000 ┆ 2024-05-07 ┆ CA28 6UY ┆ … ┆ CUMBERLAND ┆ CUMBERLAN ┆ A         ┆ A         │\n",
       "│ 247B-7CBE- ┆        ┆            ┆          ┆   ┆            ┆ D         ┆           ┆           │\n",
       "│ E063-4804A ┆        ┆            ┆          ┆   ┆            ┆           ┆           ┆           │\n",
       "│ …          ┆        ┆            ┆          ┆   ┆            ┆           ┆           ┆           │\n",
       "│ {1A0C5C63- ┆ 340000 ┆ 2024-03-01 ┆ LA8 8DY  ┆ … ┆ WESTMORLAN ┆ WESTMORLA ┆ A         ┆ A         │\n",
       "│ 247C-7CBE- ┆        ┆            ┆          ┆   ┆ D AND      ┆ ND AND    ┆           ┆           │\n",
       "│ E063-4804A ┆        ┆            ┆          ┆   ┆ FURNESS    ┆ FURNESS   ┆           ┆           │\n",
       "│ …          ┆        ┆            ┆          ┆   ┆            ┆           ┆           ┆           │\n",
       "│ {1A0C5C63- ┆ 95000  ┆ 2024-05-21 ┆ CA7 4AA  ┆ … ┆ CUMBERLAND ┆ CUMBERLAN ┆ A         ┆ A         │\n",
       "│ 247D-7CBE- ┆        ┆            ┆          ┆   ┆            ┆ D         ┆           ┆           │\n",
       "│ E063-4804A ┆        ┆            ┆          ┆   ┆            ┆           ┆           ┆           │\n",
       "│ …          ┆        ┆            ┆          ┆   ┆            ┆           ┆           ┆           │\n",
       "│ {1A0C5C63- ┆ 327500 ┆ 2024-02-27 ┆ CA14 1DY ┆ … ┆ WESTMORLAN ┆ WESTMORLA ┆ A         ┆ A         │\n",
       "│ 247E-7CBE- ┆        ┆            ┆          ┆   ┆ D AND      ┆ ND AND    ┆           ┆           │\n",
       "│ E063-4804A ┆        ┆            ┆          ┆   ┆ FURNESS    ┆ FURNESS   ┆           ┆           │\n",
       "│ …          ┆        ┆            ┆          ┆   ┆            ┆           ┆           ┆           │\n",
       "│ {1A0C5C63- ┆ 784513 ┆ 2024-03-18 ┆ LA23 3BQ ┆ … ┆ WESTMORLAN ┆ WESTMORLA ┆ A         ┆ A         │\n",
       "│ 247F-7CBE- ┆        ┆            ┆          ┆   ┆ D AND      ┆ ND AND    ┆           ┆           │\n",
       "│ E063-4804A ┆        ┆            ┆          ┆   ┆ FURNESS    ┆ FURNESS   ┆           ┆           │\n",
       "│ …          ┆        ┆            ┆          ┆   ┆            ┆           ┆           ┆           │\n",
       "└────────────┴────────┴────────────┴──────────┴───┴────────────┴───────────┴───────────┴───────────┘"
      ]
     },
     "execution_count": 6,
     "metadata": {},
     "output_type": "execute_result"
    }
   ],
   "source": [
    "def read_house_prices(csv_filename: str) -> pl.DataFrame:\n",
    "    \"\"\"Read a CSV file and return a polars Dataframe\"\"\"\n",
    "    # Columns sourced from data dictionary\n",
    "    house_prices_columns = [\n",
    "        \"transaction_id\",\n",
    "        \"price\",\n",
    "        \"date_of_transfer\",\n",
    "        \"postcode\",\n",
    "        \"property_type\",\n",
    "        \"new_property\",\n",
    "        \"duration\",\n",
    "        \"paon\",\n",
    "        \"saon\",\n",
    "        \"street\",\n",
    "        \"locality\",\n",
    "        \"town\",\n",
    "        \"district\",\n",
    "        \"county\",\n",
    "        \"ppd_category_type\",\n",
    "        \"record_status\",\n",
    "    ]\n",
    "\n",
    "    df = (\n",
    "        pl.scan_csv(\n",
    "            csv_filename,\n",
    "            has_header=False,\n",
    "            new_columns=house_prices_columns,\n",
    "        )\n",
    "        .with_columns(pl.col(\"date_of_transfer\").str.to_date(\"%Y-%m-%d %H:%M\"))\n",
    "        .collect()\n",
    "    )\n",
    "    return df\n",
    "\n",
    "\n",
    "house_prices_2024 = read_house_prices(\"data/house_prices/pp-2024.csv\")\n",
    "house_prices_2024"
   ]
  },
  {
   "cell_type": "markdown",
   "id": "Hstk",
   "metadata": {
    "marimo": {
     "config": {
      "hide_code": true
     }
    }
   },
   "source": [
    "## Writing the Data\n",
    "Now that we have the data loaded, we're ready to write it out to our Iceberg table. We have 3 different strategies available to us:\n",
    "\n",
    "- append\n",
    "- overwrite\n",
    "- upsert\n",
    "\n",
    "`append` will write the data to the end of the table. \n",
    "\n",
    "`overwrite` will delete the existing data before appending - though there is an optional `overwrite_filter` to delete a subset matching that filter before appending.\n",
    "\n",
    "`upsert` is a recent addition to Pyiceberg (0.9.0), where given a key column, it will compare the keys to existing rows to decide if a given row should be updated or inserted.\n",
    "\n",
    "We have an empty table, so let's stick to `append`.\n",
    "\n",
    "```{note} Note on schemas\n",
    "PyIceberg is strict on the schema - by default, Polars is a bit looser, so we need to `cast` the exported polars arrow table into the same schema as we've defined - otherwise our write will be rejected.\n",
    "```\n"
   ]
  },
  {
   "cell_type": "code",
   "execution_count": 7,
   "id": "nWHF",
   "metadata": {},
   "outputs": [
    {
     "name": "stderr",
     "output_type": "stream",
     "text": [
      "/usr/local/lib/python3.12/site-packages/pyiceberg/avro/decoder.py:185: UserWarning: Falling back to pure Python Avro decoder, missing Cython implementation\n",
      "  warnings.warn(\"Falling back to pure Python Avro decoder, missing Cython implementation\")\n"
     ]
    }
   ],
   "source": [
    "# Export to arrow and cast it\n",
    "house_prices_arrow = (\n",
    "    house_prices_2024.to_arrow().cast(  # Export to an Arrow table\n",
    "        housing_prices_schema.as_arrow()\n",
    "    )  # Cast into the Iceberg schema\n",
    ")\n",
    "# Append data to the table\n",
    "house_prices_t.append(house_prices_arrow)"
   ]
  },
  {
   "cell_type": "markdown",
   "id": "iLit",
   "metadata": {
    "marimo": {
     "config": {
      "hide_code": true
     }
    }
   },
   "source": [
    "# Metadata - the secret of Iceberg\n",
    "\n",
    "Now that we've created a schema for our houseprices, let's take a look at the metadata that we've created. In Iceberg, all the metadata is stored in a combination of JSON and Avro, and all the metadata is stored in the S3 buckets directly, which is what makes it accessible from the various query engines.\n",
    "\n",
    "Let's have a look at the different files we've created out of the box. First, we need something that can talk to S3 - in this case our Minio S3 - enter fsspec and s3fs"
   ]
  },
  {
   "cell_type": "code",
   "execution_count": 8,
   "id": "ZHCJ",
   "metadata": {},
   "outputs": [
    {
     "data": {
      "text/plain": [
       "['warehouse/housing/staging/data', 'warehouse/housing/staging/metadata']"
      ]
     },
     "execution_count": 8,
     "metadata": {},
     "output_type": "execute_result"
    }
   ],
   "source": [
    "import s3fs\n",
    "\n",
    "fs = s3fs.S3FileSystem(\n",
    "    endpoint_url=\"http://minio:9000\", key=\"minio\", secret=\"minio1234\"\n",
    ")\n",
    "fs.ls(\"/warehouse/housing/staging\")"
   ]
  },
  {
   "cell_type": "markdown",
   "id": "ROlb",
   "metadata": {
    "marimo": {
     "config": {
      "hide_code": true
     }
    }
   },
   "source": [
    "Now that we have something that can read our S3 bucket in Minio, we need to know where our Iceberg Catalogue put our most recent table update. PyIceberg stores that information in the `metadata_location` of the table"
   ]
  },
  {
   "cell_type": "code",
   "execution_count": 9,
   "id": "qnkX",
   "metadata": {},
   "outputs": [
    {
     "data": {
      "text/plain": [
       "'s3://warehouse/housing/staging/metadata/00001-0199c079-45e5-73e0-a3d4-371bd1b5104e.gz.metadata.json'"
      ]
     },
     "execution_count": 9,
     "metadata": {},
     "output_type": "execute_result"
    }
   ],
   "source": [
    "house_prices_t.metadata_location"
   ]
  },
  {
   "attachments": {},
   "cell_type": "markdown",
   "id": "1cc2f25d-665e-43f2-a893-4e53a65de8ec",
   "metadata": {
    "marimo": {
     "config": {
      "hide_code": true
     }
    }
   },
   "source": [
    "That's a gzipped json file, an implementation choice from our Iceberg Rest Catalog, so we need to do some extra work to read our metadata.\n",
    "\n",
    "We've asked the Iceberg Catalogue to give us the location of the snapshot file for our `housing.staging_prices` table. \n",
    "\n",
    "Let's have a look at the contents of the current metadata.json to get a better understanding of how Iceberg does what it does.\n",
    "\n",
    "```{figure}images/iceberg_architecture_metadata.svg\n",
    ":height: 500px\n",
    "```"
   ]
  },
  {
   "cell_type": "code",
   "execution_count": 10,
   "id": "6454ab32-7bac-4f40-a2a3-8189067e2420",
   "metadata": {},
   "outputs": [
    {
     "data": {
      "application/json": {
       "current-schema-id": 0,
       "current-snapshot-id": 2506664210465907000,
       "default-sort-order-id": 0,
       "default-spec-id": 0,
       "format-version": 2,
       "last-column-id": 16,
       "last-partition-id": 999,
       "last-sequence-number": 1,
       "last-updated-ms": 1759870797269,
       "location": "s3://warehouse/housing/staging",
       "metadata-log": [
        {
         "metadata-file": "s3://warehouse/housing/staging/metadata/00000-0199c078-fe72-75b3-a0de-aeb5c462e5c0.gz.metadata.json",
         "timestamp-ms": 1759870778994
        }
       ],
       "partition-specs": [
        {
         "fields": [],
         "spec-id": 0
        }
       ],
       "refs": {
        "main": {
         "snapshot-id": 2506664210465907000,
         "type": "branch"
        }
       },
       "schemas": [
        {
         "fields": [
          {
           "doc": "A reference number which is generated automatically recording each published sale. The number is unique and will change each time a sale is recorded.",
           "id": 1,
           "name": "transaction_id",
           "required": true,
           "type": "string"
          },
          {
           "doc": "Sale price stated on the transfer deed.",
           "id": 2,
           "name": "price",
           "required": true,
           "type": "int"
          },
          {
           "doc": "Date when the sale was completed, as stated on the transfer deed.",
           "id": 3,
           "name": "date_of_transfer",
           "required": true,
           "type": "date"
          },
          {
           "doc": "This is the postcode used at the time of the original transaction. Note that postcodes can be reallocated and these changes are not reflected in the Price Paid Dataset.",
           "id": 4,
           "name": "postcode",
           "required": true,
           "type": "string"
          },
          {
           "doc": "D = Detached, S = Semi-Detached, T = Terraced, F = Flats/Maisonettes, O = Other",
           "id": 5,
           "name": "property_type",
           "required": true,
           "type": "string"
          },
          {
           "doc": "Indicates the age of the property and applies to all price paid transactions, residential and non-residential. Y = a newly built property, N = an established residential building",
           "id": 6,
           "name": "new_property",
           "required": true,
           "type": "string"
          },
          {
           "doc": "Relates to the tenure: F = Freehold, L= Leasehold etc. Note that HM Land Registry does not record leases of 7 years or less in the Price Paid Dataset.",
           "id": 7,
           "name": "duration",
           "required": true,
           "type": "string"
          },
          {
           "doc": "Primary Addressable Object Name. Typically the house number or name",
           "id": 8,
           "name": "paon",
           "required": false,
           "type": "string"
          },
          {
           "doc": "Secondary Addressable Object Name. Where a property has been divided into separate units (for example, flats), the PAON (above) will identify the building and a SAON will be specified that identifies the separate unit/flat.",
           "id": 9,
           "name": "saon",
           "required": false,
           "type": "string"
          },
          {
           "id": 10,
           "name": "street",
           "required": false,
           "type": "string"
          },
          {
           "id": 11,
           "name": "locality",
           "required": false,
           "type": "string"
          },
          {
           "id": 12,
           "name": "town",
           "required": false,
           "type": "string"
          },
          {
           "id": 13,
           "name": "district",
           "required": false,
           "type": "string"
          },
          {
           "id": 14,
           "name": "county",
           "required": false,
           "type": "string"
          },
          {
           "doc": "Indicates the type of Price Paid transaction. A = Standard Price Paid entry, includes single residential property sold for value. B = Additional Price Paid entry including transfers under a power of sale/repossessions, buy-to-lets (where they can be identified by a Mortgage), transfers to non-private individuals and sales where the property type is classed as ‘Other’.",
           "id": 15,
           "name": "ppd_category_type",
           "required": false,
           "type": "string"
          },
          {
           "doc": "Indicates additions, changes and deletions to the records. A = Addition C = Change D = Delete",
           "id": 16,
           "name": "record_status",
           "required": false,
           "type": "string"
          }
         ],
         "identifier-field-ids": [
          1
         ],
         "schema-id": 0,
         "type": "struct"
        }
       ],
       "snapshot-log": [
        {
         "snapshot-id": 2506664210465907000,
         "timestamp-ms": 1759870797269
        }
       ],
       "snapshots": [
        {
         "manifest-list": "s3://warehouse/housing/staging/metadata/snap-2506664210465907389-0-54245ac0-970e-47b9-8aa5-8e7f505363cc.avro",
         "schema-id": 0,
         "sequence-number": 1,
         "snapshot-id": 2506664210465907000,
         "summary": {
          "added-data-files": "1",
          "added-files-size": "19423339",
          "added-records": "859960",
          "operation": "append",
          "total-data-files": "1",
          "total-delete-files": "0",
          "total-equality-deletes": "0",
          "total-files-size": "19423339",
          "total-position-deletes": "0",
          "total-records": "859960"
         },
         "timestamp-ms": 1759870797269
        }
       ],
       "sort-orders": [
        {
         "fields": [],
         "order-id": 0
        }
       ],
       "table-uuid": "0199c078-fe5f-7c43-84a1-4d4ec684123e"
      },
      "text/plain": [
       "<IPython.core.display.JSON object>"
      ]
     },
     "execution_count": 10,
     "metadata": {
      "application/json": {
       "expanded": false,
       "root": "root"
      }
     },
     "output_type": "execute_result"
    }
   ],
   "source": [
    "from fsspec import AbstractFileSystem\n",
    "from pyiceberg.table import Table\n",
    "from typing import Any\n",
    "import gzip\n",
    "import json\n",
    "\n",
    "\n",
    "def get_iceberg_metadata(fs: AbstractFileSystem, table: Table) -> dict[str, Any]:\n",
    "    \"\"\"Unzips the gzipped json and reads it into a dictionary\"\"\"\n",
    "    with fs.open(table.metadata_location) as f, gzip.open(f) as g_f:\n",
    "        return json.load(g_f)\n",
    "\n",
    "JSON(get_iceberg_metadata(fs, house_prices_t))"
   ]
  },
  {
   "cell_type": "markdown",
   "id": "ecfG",
   "metadata": {
    "marimo": {
     "config": {
      "hide_code": true
     }
    }
   },
   "source": [
    "The next layer of the onion is the `manifest list` - we can find that by looking in the `snapshots` array for the current snapshot. The manifest list is stored as Avro for faster scanning so we need to convert it to a dictionary for our simple human brains to understand.\n",
    "\n",
    "```{figure}images/iceberg_architecture_manifest_list.svg\n",
    ":height: 500px\n",
    ":label: Iceberg Manifest List\n",
    "```"
   ]
  },
  {
   "cell_type": "code",
   "execution_count": 11,
   "id": "Pvdt",
   "metadata": {},
   "outputs": [
    {
     "data": {
      "application/json": [
       {
        "added_files_count": 1,
        "added_rows_count": 859960,
        "added_snapshot_id": 2506664210465907000,
        "content": 0,
        "deleted_files_count": 0,
        "deleted_rows_count": 0,
        "existing_files_count": 0,
        "existing_rows_count": 0,
        "key_metadata": null,
        "manifest_length": 7196,
        "manifest_path": "s3://warehouse/housing/staging/metadata/54245ac0-970e-47b9-8aa5-8e7f505363cc-m0.avro",
        "min_sequence_number": 1,
        "partition_spec_id": 0,
        "partitions": [],
        "sequence_number": 1
       }
      ],
      "text/plain": [
       "<IPython.core.display.JSON object>"
      ]
     },
     "execution_count": 11,
     "metadata": {
      "application/json": {
       "expanded": false,
       "root": "root"
      }
     },
     "output_type": "execute_result"
    }
   ],
   "source": [
    "def get_iceberg_manifest_list(fs: AbstractFileSystem, table: Table) -> dict[str, Any]:\n",
    "    \"\"\"Fetch the manifest list for the current snapshot and convert to a list of dicts\"\"\"\n",
    "    manifest_list = table.current_snapshot().manifest_list\n",
    "    with fs.open(manifest_list) as f:\n",
    "        return pl.read_avro(f).to_dicts()\n",
    "\n",
    "\n",
    "JSON(get_iceberg_manifest_list(fs, house_prices_t))"
   ]
  },
  {
   "cell_type": "markdown",
   "id": "ZBYS",
   "metadata": {
    "marimo": {
     "config": {
      "hide_code": true
     }
    }
   },
   "source": [
    "We can see that the manifest list unsurprisingly contains a list of manifests, alongside some metadata for that particular manifest. We've only written once to our Iceberg table, so we have only one manifest currently. Let's dig one level deeper and open that manifest.\n",
    "\n",
    "```{figure}images/iceberg_architecture_manifest.svg\n",
    ":height: 500px\n",
    ":label: Iceberg Manifest\n",
    "```"
   ]
  },
  {
   "cell_type": "code",
   "execution_count": 12,
   "id": "aLJB",
   "metadata": {},
   "outputs": [
    {
     "data": {
      "application/json": [
       {
        "data_file": {
         "column_sizes": [
          {
           "key": 1,
           "value": 2301119
          },
          {
           "key": 2,
           "value": 1468996
          },
          {
           "key": 3,
           "value": 945100
          },
          {
           "key": 4,
           "value": 4445569
          },
          {
           "key": 5,
           "value": 264135
          },
          {
           "key": 6,
           "value": 23583
          },
          {
           "key": 7,
           "value": 93574
          },
          {
           "key": 8,
           "value": 1818775
          },
          {
           "key": 9,
           "value": 313186
          },
          {
           "key": 10,
           "value": 4384451
          },
          {
           "key": 11,
           "value": 988072
          },
          {
           "key": 12,
           "value": 1103474
          },
          {
           "key": 13,
           "value": 890799
          },
          {
           "key": 14,
           "value": 359266
          },
          {
           "key": 15,
           "value": 16035
          },
          {
           "key": 16,
           "value": 79
          }
         ],
         "content": 0,
         "equality_ids": null,
         "file_format": "PARQUET",
         "file_path": "s3://warehouse/housing/staging/data/00000-0-54245ac0-970e-47b9-8aa5-8e7f505363cc.parquet",
         "file_size_in_bytes": 19423339,
         "key_metadata": null,
         "lower_bounds": [
          {
           "key": 1,
           "value": "ezEwNjE3NDZELTk4QUEtMw=="
          },
          {
           "key": 2,
           "value": "AQAAAA=="
          },
          {
           "key": 3,
           "value": "C00AAA=="
          },
          {
           "key": 4,
           "value": ""
          },
          {
           "key": 5,
           "value": "RA=="
          },
          {
           "key": 6,
           "value": "Tg=="
          },
          {
           "key": 7,
           "value": "Rg=="
          },
          {
           "key": 8,
           "value": "KEJBR1NIQVcp"
          },
          {
           "key": 9,
           "value": ""
          },
          {
           "key": 10,
           "value": ""
          },
          {
           "key": 11,
           "value": ""
          },
          {
           "key": 12,
           "value": "QUJCT1RTIExBTkdMRVk="
          },
          {
           "key": 13,
           "value": "QURVUg=="
          },
          {
           "key": 14,
           "value": "QkFUSCBBTkQgTk9SVEggRQ=="
          },
          {
           "key": 15,
           "value": "QQ=="
          },
          {
           "key": 16,
           "value": "QQ=="
          }
         ],
         "nan_value_counts": [],
         "null_value_counts": [
          {
           "key": 1,
           "value": 0
          },
          {
           "key": 2,
           "value": 0
          },
          {
           "key": 3,
           "value": 0
          },
          {
           "key": 4,
           "value": 0
          },
          {
           "key": 5,
           "value": 0
          },
          {
           "key": 6,
           "value": 0
          },
          {
           "key": 7,
           "value": 0
          },
          {
           "key": 8,
           "value": 0
          },
          {
           "key": 9,
           "value": 0
          },
          {
           "key": 10,
           "value": 0
          },
          {
           "key": 11,
           "value": 0
          },
          {
           "key": 12,
           "value": 0
          },
          {
           "key": 13,
           "value": 0
          },
          {
           "key": 14,
           "value": 0
          },
          {
           "key": 15,
           "value": 0
          },
          {
           "key": 16,
           "value": 0
          }
         ],
         "partition": {},
         "record_count": 859960,
         "sort_order_id": null,
         "split_offsets": [
          4
         ],
         "upper_bounds": [
          {
           "key": 1,
           "value": "ezNEQ0NCN0NBLURDMjMtNg=="
          },
          {
           "key": 2,
           "value": "4ATLCQ=="
          },
          {
           "key": 3,
           "value": "eE4AAA=="
          },
          {
           "key": 4,
           "value": "WU85MCAxVVU="
          },
          {
           "key": 5,
           "value": "VA=="
          },
          {
           "key": 6,
           "value": "WQ=="
          },
          {
           "key": 7,
           "value": "TA=="
          },
          {
           "key": 8,
           "value": "WlVSSUNIIEhPVVNF"
          },
          {
           "key": 9,
           "value": "Wk9ORSA1"
          },
          {
           "key": 10,
           "value": "WlVSSUNIIEdBUkRFTlM="
          },
          {
           "key": 11,
           "value": "Wk9VQ0g="
          },
          {
           "key": 12,
           "value": "WVNUUkFEIE1FVVJJRw=="
          },
          {
           "key": 13,
           "value": "WU9SSw=="
          },
          {
           "key": 14,
           "value": "WU9SSw=="
          },
          {
           "key": 15,
           "value": "Qg=="
          },
          {
           "key": 16,
           "value": "QQ=="
          }
         ],
         "value_counts": [
          {
           "key": 1,
           "value": 859960
          },
          {
           "key": 2,
           "value": 859960
          },
          {
           "key": 3,
           "value": 859960
          },
          {
           "key": 4,
           "value": 859960
          },
          {
           "key": 5,
           "value": 859960
          },
          {
           "key": 6,
           "value": 859960
          },
          {
           "key": 7,
           "value": 859960
          },
          {
           "key": 8,
           "value": 859960
          },
          {
           "key": 9,
           "value": 859960
          },
          {
           "key": 10,
           "value": 859960
          },
          {
           "key": 11,
           "value": 859960
          },
          {
           "key": 12,
           "value": 859960
          },
          {
           "key": 13,
           "value": 859960
          },
          {
           "key": 14,
           "value": 859960
          },
          {
           "key": 15,
           "value": 859960
          },
          {
           "key": 16,
           "value": 859960
          }
         ]
        },
        "file_sequence_number": null,
        "sequence_number": null,
        "snapshot_id": 2506664210465907000,
        "status": 1
       }
      ],
      "text/plain": [
       "<IPython.core.display.JSON object>"
      ]
     },
     "execution_count": 12,
     "metadata": {
      "application/json": {
       "expanded": false,
       "root": "root"
      }
     },
     "output_type": "execute_result"
    }
   ],
   "source": [
    "def get_iceberg_manifest(\n",
    "    fs: AbstractFileSystem, table: Table\n",
    ") -> list[list[dict[str, Any]]]:\n",
    "    \"\"\"Get the manifests from the manifest list.\"\"\"\n",
    "    manifest_list = get_iceberg_manifest_list(fs, table)\n",
    "    manifest_lists = []\n",
    "    for manifest_meta in manifest_list:\n",
    "        with fs.open(manifest_meta[\"manifest_path\"]) as m_f:\n",
    "            manifest = pl.read_avro(m_f).to_dicts()\n",
    "            manifest_lists.extend(manifest)\n",
    "    return manifest_lists\n",
    "\n",
    "\n",
    "JSON(get_iceberg_manifest(fs, house_prices_t))"
   ]
  },
  {
   "cell_type": "markdown",
   "id": "nHfw",
   "metadata": {
    "marimo": {
     "config": {
      "hide_code": true
     }
    }
   },
   "source": [
    "At the lowest level of metadata, we can see a reference to the actual data files that make up the physical data stored on disk.\n",
    "\n",
    "```{figure}images/iceberg_architecture_data.svg\n",
    ":height: 500px\n",
    ":label: Iceberg Data Files\n",
    "```\n",
    "\n",
    "```{note} Iceberg vs Hive\n",
    "Note that Iceberg keeps track of the physical files of the table, unlike something like Hive, which uses a folder as a logical container for a table.\n",
    "```\n",
    "\n",
    "We can see that the Parquet file is pretty much as we expected, and we can read it directly as any other Parquet files - Iceberg doesn't specify anything about the physical data - it just stores metadata about the files to enable all the features of Iceberg"
   ]
  },
  {
   "cell_type": "code",
   "execution_count": 13,
   "id": "xXTn",
   "metadata": {},
   "outputs": [
    {
     "data": {
      "text/html": [
       "<div><style>\n",
       ".dataframe > thead > tr,\n",
       ".dataframe > tbody > tr {\n",
       "  text-align: right;\n",
       "  white-space: pre-wrap;\n",
       "}\n",
       "</style>\n",
       "<small>shape: (859_960, 16)</small><table border=\"1\" class=\"dataframe\"><thead><tr><th>transaction_id</th><th>price</th><th>date_of_transfer</th><th>postcode</th><th>property_type</th><th>new_property</th><th>duration</th><th>paon</th><th>saon</th><th>street</th><th>locality</th><th>town</th><th>district</th><th>county</th><th>ppd_category_type</th><th>record_status</th></tr><tr><td>str</td><td>i32</td><td>date</td><td>str</td><td>str</td><td>str</td><td>str</td><td>str</td><td>str</td><td>str</td><td>str</td><td>str</td><td>str</td><td>str</td><td>str</td><td>str</td></tr></thead><tbody><tr><td>&quot;{3DCCB7CA-3B61-5B9D-E063-4704A…</td><td>362340</td><td>2024-10-25</td><td>&quot;NN6 0TR&quot;</td><td>&quot;D&quot;</td><td>&quot;Y&quot;</td><td>&quot;F&quot;</td><td>&quot;4&quot;</td><td>&quot;&quot;</td><td>&quot;BATEMAN LANE&quot;</td><td>&quot;OVERSTONE&quot;</td><td>&quot;NORTHAMPTON&quot;</td><td>&quot;WEST NORTHAMPTONSHIRE&quot;</td><td>&quot;WEST NORTHAMPTONSHIRE&quot;</td><td>&quot;A&quot;</td><td>&quot;A&quot;</td></tr><tr><td>&quot;{3DCCB7CA-3B62-5B9D-E063-4704A…</td><td>413300</td><td>2024-09-18</td><td>&quot;NN11 6DJ&quot;</td><td>&quot;D&quot;</td><td>&quot;N&quot;</td><td>&quot;F&quot;</td><td>&quot;15&quot;</td><td>&quot;&quot;</td><td>&quot;FROG LANE&quot;</td><td>&quot;UPPER BODDINGTON&quot;</td><td>&quot;DAVENTRY&quot;</td><td>&quot;WEST NORTHAMPTONSHIRE&quot;</td><td>&quot;WEST NORTHAMPTONSHIRE&quot;</td><td>&quot;A&quot;</td><td>&quot;A&quot;</td></tr><tr><td>&quot;{3DCCB7CA-3B63-5B9D-E063-4704A…</td><td>390000</td><td>2024-10-11</td><td>&quot;NN11 3AR&quot;</td><td>&quot;D&quot;</td><td>&quot;N&quot;</td><td>&quot;F&quot;</td><td>&quot;NORTH VIEW COTTAGE&quot;</td><td>&quot;&quot;</td><td>&quot;CHURCH HILL&quot;</td><td>&quot;BADBY&quot;</td><td>&quot;DAVENTRY&quot;</td><td>&quot;WEST NORTHAMPTONSHIRE&quot;</td><td>&quot;WEST NORTHAMPTONSHIRE&quot;</td><td>&quot;A&quot;</td><td>&quot;A&quot;</td></tr><tr><td>&quot;{3DCCB7CA-3B65-5B9D-E063-4704A…</td><td>215000</td><td>2024-10-11</td><td>&quot;NN18 0BE&quot;</td><td>&quot;S&quot;</td><td>&quot;N&quot;</td><td>&quot;F&quot;</td><td>&quot;36&quot;</td><td>&quot;&quot;</td><td>&quot;TAUNTON AVENUE&quot;</td><td>&quot;&quot;</td><td>&quot;CORBY&quot;</td><td>&quot;NORTH NORTHAMPTONSHIRE&quot;</td><td>&quot;NORTH NORTHAMPTONSHIRE&quot;</td><td>&quot;A&quot;</td><td>&quot;A&quot;</td></tr><tr><td>&quot;{3DCCB7CA-3B66-5B9D-E063-4704A…</td><td>245000</td><td>2024-10-28</td><td>&quot;NN15 7QQ&quot;</td><td>&quot;T&quot;</td><td>&quot;N&quot;</td><td>&quot;F&quot;</td><td>&quot;9&quot;</td><td>&quot;&quot;</td><td>&quot;THE GROVE&quot;</td><td>&quot;&quot;</td><td>&quot;KETTERING&quot;</td><td>&quot;NORTH NORTHAMPTONSHIRE&quot;</td><td>&quot;NORTH NORTHAMPTONSHIRE&quot;</td><td>&quot;A&quot;</td><td>&quot;A&quot;</td></tr><tr><td>&hellip;</td><td>&hellip;</td><td>&hellip;</td><td>&hellip;</td><td>&hellip;</td><td>&hellip;</td><td>&hellip;</td><td>&hellip;</td><td>&hellip;</td><td>&hellip;</td><td>&hellip;</td><td>&hellip;</td><td>&hellip;</td><td>&hellip;</td><td>&hellip;</td><td>&hellip;</td></tr><tr><td>&quot;{1A0C5C63-247B-7CBE-E063-4804A…</td><td>160000</td><td>2024-05-07</td><td>&quot;CA28 6UY&quot;</td><td>&quot;D&quot;</td><td>&quot;N&quot;</td><td>&quot;F&quot;</td><td>&quot;41&quot;</td><td>&quot;&quot;</td><td>&quot;BALMORAL ROAD&quot;</td><td>&quot;&quot;</td><td>&quot;WHITEHAVEN&quot;</td><td>&quot;CUMBERLAND&quot;</td><td>&quot;CUMBERLAND&quot;</td><td>&quot;A&quot;</td><td>&quot;A&quot;</td></tr><tr><td>&quot;{1A0C5C63-247C-7CBE-E063-4804A…</td><td>340000</td><td>2024-03-01</td><td>&quot;LA8 8DY&quot;</td><td>&quot;T&quot;</td><td>&quot;N&quot;</td><td>&quot;L&quot;</td><td>&quot;1&quot;</td><td>&quot;&quot;</td><td>&quot;DOVE COTTAGES&quot;</td><td>&quot;SIZERGH&quot;</td><td>&quot;KENDAL&quot;</td><td>&quot;WESTMORLAND AND FURNESS&quot;</td><td>&quot;WESTMORLAND AND FURNESS&quot;</td><td>&quot;A&quot;</td><td>&quot;A&quot;</td></tr><tr><td>&quot;{1A0C5C63-247D-7CBE-E063-4804A…</td><td>95000</td><td>2024-05-21</td><td>&quot;CA7 4AA&quot;</td><td>&quot;T&quot;</td><td>&quot;N&quot;</td><td>&quot;F&quot;</td><td>&quot;22&quot;</td><td>&quot;&quot;</td><td>&quot;WAMPOOL STREET&quot;</td><td>&quot;SILLOTH&quot;</td><td>&quot;WIGTON&quot;</td><td>&quot;CUMBERLAND&quot;</td><td>&quot;CUMBERLAND&quot;</td><td>&quot;A&quot;</td><td>&quot;A&quot;</td></tr><tr><td>&quot;{1A0C5C63-247E-7CBE-E063-4804A…</td><td>327500</td><td>2024-02-27</td><td>&quot;CA14 1DY&quot;</td><td>&quot;D&quot;</td><td>&quot;Y&quot;</td><td>&quot;F&quot;</td><td>&quot;62&quot;</td><td>&quot;&quot;</td><td>&quot;MEADOW WALK&quot;</td><td>&quot;STAINBURN&quot;</td><td>&quot;WORKINGTON&quot;</td><td>&quot;WESTMORLAND AND FURNESS&quot;</td><td>&quot;WESTMORLAND AND FURNESS&quot;</td><td>&quot;A&quot;</td><td>&quot;A&quot;</td></tr><tr><td>&quot;{1A0C5C63-247F-7CBE-E063-4804A…</td><td>784513</td><td>2024-03-18</td><td>&quot;LA23 3BQ&quot;</td><td>&quot;F&quot;</td><td>&quot;N&quot;</td><td>&quot;L&quot;</td><td>&quot;MARINA VIEW&quot;</td><td>&quot;9&quot;</td><td>&quot;THE MARINA&quot;</td><td>&quot;BOWNESS ON WINDERMERE&quot;</td><td>&quot;WINDERMERE&quot;</td><td>&quot;WESTMORLAND AND FURNESS&quot;</td><td>&quot;WESTMORLAND AND FURNESS&quot;</td><td>&quot;A&quot;</td><td>&quot;A&quot;</td></tr></tbody></table></div>"
      ],
      "text/plain": [
       "shape: (859_960, 16)\n",
       "┌────────────┬────────┬────────────┬──────────┬───┬────────────┬───────────┬───────────┬───────────┐\n",
       "│ transactio ┆ price  ┆ date_of_tr ┆ postcode ┆ … ┆ district   ┆ county    ┆ ppd_categ ┆ record_st │\n",
       "│ n_id       ┆ ---    ┆ ansfer     ┆ ---      ┆   ┆ ---        ┆ ---       ┆ ory_type  ┆ atus      │\n",
       "│ ---        ┆ i32    ┆ ---        ┆ str      ┆   ┆ str        ┆ str       ┆ ---       ┆ ---       │\n",
       "│ str        ┆        ┆ date       ┆          ┆   ┆            ┆           ┆ str       ┆ str       │\n",
       "╞════════════╪════════╪════════════╪══════════╪═══╪════════════╪═══════════╪═══════════╪═══════════╡\n",
       "│ {3DCCB7CA- ┆ 362340 ┆ 2024-10-25 ┆ NN6 0TR  ┆ … ┆ WEST NORTH ┆ WEST NORT ┆ A         ┆ A         │\n",
       "│ 3B61-5B9D- ┆        ┆            ┆          ┆   ┆ AMPTONSHIR ┆ HAMPTONSH ┆           ┆           │\n",
       "│ E063-4704A ┆        ┆            ┆          ┆   ┆ E          ┆ IRE       ┆           ┆           │\n",
       "│ …          ┆        ┆            ┆          ┆   ┆            ┆           ┆           ┆           │\n",
       "│ {3DCCB7CA- ┆ 413300 ┆ 2024-09-18 ┆ NN11 6DJ ┆ … ┆ WEST NORTH ┆ WEST NORT ┆ A         ┆ A         │\n",
       "│ 3B62-5B9D- ┆        ┆            ┆          ┆   ┆ AMPTONSHIR ┆ HAMPTONSH ┆           ┆           │\n",
       "│ E063-4704A ┆        ┆            ┆          ┆   ┆ E          ┆ IRE       ┆           ┆           │\n",
       "│ …          ┆        ┆            ┆          ┆   ┆            ┆           ┆           ┆           │\n",
       "│ {3DCCB7CA- ┆ 390000 ┆ 2024-10-11 ┆ NN11 3AR ┆ … ┆ WEST NORTH ┆ WEST NORT ┆ A         ┆ A         │\n",
       "│ 3B63-5B9D- ┆        ┆            ┆          ┆   ┆ AMPTONSHIR ┆ HAMPTONSH ┆           ┆           │\n",
       "│ E063-4704A ┆        ┆            ┆          ┆   ┆ E          ┆ IRE       ┆           ┆           │\n",
       "│ …          ┆        ┆            ┆          ┆   ┆            ┆           ┆           ┆           │\n",
       "│ {3DCCB7CA- ┆ 215000 ┆ 2024-10-11 ┆ NN18 0BE ┆ … ┆ NORTH NORT ┆ NORTH NOR ┆ A         ┆ A         │\n",
       "│ 3B65-5B9D- ┆        ┆            ┆          ┆   ┆ HAMPTONSHI ┆ THAMPTONS ┆           ┆           │\n",
       "│ E063-4704A ┆        ┆            ┆          ┆   ┆ RE         ┆ HIRE      ┆           ┆           │\n",
       "│ …          ┆        ┆            ┆          ┆   ┆            ┆           ┆           ┆           │\n",
       "│ {3DCCB7CA- ┆ 245000 ┆ 2024-10-28 ┆ NN15 7QQ ┆ … ┆ NORTH NORT ┆ NORTH NOR ┆ A         ┆ A         │\n",
       "│ 3B66-5B9D- ┆        ┆            ┆          ┆   ┆ HAMPTONSHI ┆ THAMPTONS ┆           ┆           │\n",
       "│ E063-4704A ┆        ┆            ┆          ┆   ┆ RE         ┆ HIRE      ┆           ┆           │\n",
       "│ …          ┆        ┆            ┆          ┆   ┆            ┆           ┆           ┆           │\n",
       "│ …          ┆ …      ┆ …          ┆ …        ┆ … ┆ …          ┆ …         ┆ …         ┆ …         │\n",
       "│ {1A0C5C63- ┆ 160000 ┆ 2024-05-07 ┆ CA28 6UY ┆ … ┆ CUMBERLAND ┆ CUMBERLAN ┆ A         ┆ A         │\n",
       "│ 247B-7CBE- ┆        ┆            ┆          ┆   ┆            ┆ D         ┆           ┆           │\n",
       "│ E063-4804A ┆        ┆            ┆          ┆   ┆            ┆           ┆           ┆           │\n",
       "│ …          ┆        ┆            ┆          ┆   ┆            ┆           ┆           ┆           │\n",
       "│ {1A0C5C63- ┆ 340000 ┆ 2024-03-01 ┆ LA8 8DY  ┆ … ┆ WESTMORLAN ┆ WESTMORLA ┆ A         ┆ A         │\n",
       "│ 247C-7CBE- ┆        ┆            ┆          ┆   ┆ D AND      ┆ ND AND    ┆           ┆           │\n",
       "│ E063-4804A ┆        ┆            ┆          ┆   ┆ FURNESS    ┆ FURNESS   ┆           ┆           │\n",
       "│ …          ┆        ┆            ┆          ┆   ┆            ┆           ┆           ┆           │\n",
       "│ {1A0C5C63- ┆ 95000  ┆ 2024-05-21 ┆ CA7 4AA  ┆ … ┆ CUMBERLAND ┆ CUMBERLAN ┆ A         ┆ A         │\n",
       "│ 247D-7CBE- ┆        ┆            ┆          ┆   ┆            ┆ D         ┆           ┆           │\n",
       "│ E063-4804A ┆        ┆            ┆          ┆   ┆            ┆           ┆           ┆           │\n",
       "│ …          ┆        ┆            ┆          ┆   ┆            ┆           ┆           ┆           │\n",
       "│ {1A0C5C63- ┆ 327500 ┆ 2024-02-27 ┆ CA14 1DY ┆ … ┆ WESTMORLAN ┆ WESTMORLA ┆ A         ┆ A         │\n",
       "│ 247E-7CBE- ┆        ┆            ┆          ┆   ┆ D AND      ┆ ND AND    ┆           ┆           │\n",
       "│ E063-4804A ┆        ┆            ┆          ┆   ┆ FURNESS    ┆ FURNESS   ┆           ┆           │\n",
       "│ …          ┆        ┆            ┆          ┆   ┆            ┆           ┆           ┆           │\n",
       "│ {1A0C5C63- ┆ 784513 ┆ 2024-03-18 ┆ LA23 3BQ ┆ … ┆ WESTMORLAN ┆ WESTMORLA ┆ A         ┆ A         │\n",
       "│ 247F-7CBE- ┆        ┆            ┆          ┆   ┆ D AND      ┆ ND AND    ┆           ┆           │\n",
       "│ E063-4804A ┆        ┆            ┆          ┆   ┆ FURNESS    ┆ FURNESS   ┆           ┆           │\n",
       "│ …          ┆        ┆            ┆          ┆   ┆            ┆           ┆           ┆           │\n",
       "└────────────┴────────┴────────────┴──────────┴───┴────────────┴───────────┴───────────┴───────────┘"
      ]
     },
     "execution_count": 13,
     "metadata": {},
     "output_type": "execute_result"
    }
   ],
   "source": [
    "def get_iceberg_data_file(\n",
    "    fs: AbstractFileSystem, table: Table, index=0\n",
    ") -> pl.DataFrame:\n",
    "    \"\"\"Read the data file from the `index` position in the data_file\"\"\"\n",
    "    manifest = get_iceberg_manifest(fs, table)\n",
    "    with fs.open(manifest[index][\"data_file\"][\"file_path\"]) as p_f:\n",
    "        return pl.read_parquet(p_f)\n",
    "\n",
    "\n",
    "get_iceberg_data_file(fs, house_prices_t)"
   ]
  },
  {
   "cell_type": "markdown",
   "id": "2c4c6af1-08ff-4b41-8d90-6f888cf4b6c7",
   "metadata": {},
   "source": [
    "In total, on disk, the current data comes to around 15 MB, which is pretty small, so we end up only having one data file in our manifest"
   ]
  },
  {
   "cell_type": "code",
   "execution_count": 14,
   "id": "ee1d5af6-232b-4511-aeec-e2d38bbcb7d1",
   "metadata": {},
   "outputs": [
    {
     "data": {
      "text/plain": [
       "18.523539543151855"
      ]
     },
     "execution_count": 14,
     "metadata": {},
     "output_type": "execute_result"
    }
   ],
   "source": [
    "get_iceberg_manifest(fs, house_prices_t)[0][\"data_file\"][\"file_size_in_bytes\"] / 1024 / 1024"
   ]
  },
  {
   "attachments": {},
   "cell_type": "markdown",
   "id": "6b5c90cb-52f3-49dc-8810-b1671b6cd4ff",
   "metadata": {
    "marimo": {
     "config": {
      "hide_code": true
     }
    }
   },
   "source": [
    "To see what changes in our metadata when we add more data, let's add one more month of data."
   ]
  },
  {
   "cell_type": "code",
   "execution_count": 15,
   "id": "NCOB",
   "metadata": {},
   "outputs": [],
   "source": [
    "house_prices_2023 = read_house_prices(\"data/house_prices/pp-2023.csv\")\n",
    "house_prices_t.append(\n",
    "    house_prices_2023.to_arrow().cast(housing_prices_schema.as_arrow())\n",
    ")"
   ]
  },
  {
   "cell_type": "markdown",
   "id": "aqbW",
   "metadata": {
    "marimo": {
     "config": {
      "hide_code": true
     }
    }
   },
   "source": [
    "Now that we have some more data, and based on what we've learnt - what do you see that has changed in the metadata?"
   ]
  },
  {
   "cell_type": "code",
   "execution_count": 16,
   "id": "TRpd",
   "metadata": {},
   "outputs": [
    {
     "data": {
      "application/json": {
       "current-schema-id": 0,
       "current-snapshot-id": 122295293945248210,
       "default-sort-order-id": 0,
       "default-spec-id": 0,
       "format-version": 2,
       "last-column-id": 16,
       "last-partition-id": 999,
       "last-sequence-number": 2,
       "last-updated-ms": 1759870846774,
       "location": "s3://warehouse/housing/staging",
       "metadata-log": [
        {
         "metadata-file": "s3://warehouse/housing/staging/metadata/00000-0199c078-fe72-75b3-a0de-aeb5c462e5c0.gz.metadata.json",
         "timestamp-ms": 1759870778994
        },
        {
         "metadata-file": "s3://warehouse/housing/staging/metadata/00001-0199c079-45e5-73e0-a3d4-371bd1b5104e.gz.metadata.json",
         "timestamp-ms": 1759870797269
        }
       ],
       "partition-specs": [
        {
         "fields": [],
         "spec-id": 0
        }
       ],
       "refs": {
        "main": {
         "snapshot-id": 122295293945248210,
         "type": "branch"
        }
       },
       "schemas": [
        {
         "fields": [
          {
           "doc": "A reference number which is generated automatically recording each published sale. The number is unique and will change each time a sale is recorded.",
           "id": 1,
           "name": "transaction_id",
           "required": true,
           "type": "string"
          },
          {
           "doc": "Sale price stated on the transfer deed.",
           "id": 2,
           "name": "price",
           "required": true,
           "type": "int"
          },
          {
           "doc": "Date when the sale was completed, as stated on the transfer deed.",
           "id": 3,
           "name": "date_of_transfer",
           "required": true,
           "type": "date"
          },
          {
           "doc": "This is the postcode used at the time of the original transaction. Note that postcodes can be reallocated and these changes are not reflected in the Price Paid Dataset.",
           "id": 4,
           "name": "postcode",
           "required": true,
           "type": "string"
          },
          {
           "doc": "D = Detached, S = Semi-Detached, T = Terraced, F = Flats/Maisonettes, O = Other",
           "id": 5,
           "name": "property_type",
           "required": true,
           "type": "string"
          },
          {
           "doc": "Indicates the age of the property and applies to all price paid transactions, residential and non-residential. Y = a newly built property, N = an established residential building",
           "id": 6,
           "name": "new_property",
           "required": true,
           "type": "string"
          },
          {
           "doc": "Relates to the tenure: F = Freehold, L= Leasehold etc. Note that HM Land Registry does not record leases of 7 years or less in the Price Paid Dataset.",
           "id": 7,
           "name": "duration",
           "required": true,
           "type": "string"
          },
          {
           "doc": "Primary Addressable Object Name. Typically the house number or name",
           "id": 8,
           "name": "paon",
           "required": false,
           "type": "string"
          },
          {
           "doc": "Secondary Addressable Object Name. Where a property has been divided into separate units (for example, flats), the PAON (above) will identify the building and a SAON will be specified that identifies the separate unit/flat.",
           "id": 9,
           "name": "saon",
           "required": false,
           "type": "string"
          },
          {
           "id": 10,
           "name": "street",
           "required": false,
           "type": "string"
          },
          {
           "id": 11,
           "name": "locality",
           "required": false,
           "type": "string"
          },
          {
           "id": 12,
           "name": "town",
           "required": false,
           "type": "string"
          },
          {
           "id": 13,
           "name": "district",
           "required": false,
           "type": "string"
          },
          {
           "id": 14,
           "name": "county",
           "required": false,
           "type": "string"
          },
          {
           "doc": "Indicates the type of Price Paid transaction. A = Standard Price Paid entry, includes single residential property sold for value. B = Additional Price Paid entry including transfers under a power of sale/repossessions, buy-to-lets (where they can be identified by a Mortgage), transfers to non-private individuals and sales where the property type is classed as ‘Other’.",
           "id": 15,
           "name": "ppd_category_type",
           "required": false,
           "type": "string"
          },
          {
           "doc": "Indicates additions, changes and deletions to the records. A = Addition C = Change D = Delete",
           "id": 16,
           "name": "record_status",
           "required": false,
           "type": "string"
          }
         ],
         "identifier-field-ids": [
          1
         ],
         "schema-id": 0,
         "type": "struct"
        }
       ],
       "snapshot-log": [
        {
         "snapshot-id": 2506664210465907000,
         "timestamp-ms": 1759870797269
        },
        {
         "snapshot-id": 122295293945248210,
         "timestamp-ms": 1759870846774
        }
       ],
       "snapshots": [
        {
         "manifest-list": "s3://warehouse/housing/staging/metadata/snap-122295293945248207-0-0a202aa6-9676-4560-852d-a6476d436439.avro",
         "parent-snapshot-id": 2506664210465907000,
         "schema-id": 0,
         "sequence-number": 2,
         "snapshot-id": 122295293945248210,
         "summary": {
          "added-data-files": "1",
          "added-files-size": "19326203",
          "added-records": "854549",
          "operation": "append",
          "total-data-files": "2",
          "total-delete-files": "0",
          "total-equality-deletes": "0",
          "total-files-size": "38749542",
          "total-position-deletes": "0",
          "total-records": "1714509"
         },
         "timestamp-ms": 1759870846774
        },
        {
         "manifest-list": "s3://warehouse/housing/staging/metadata/snap-2506664210465907389-0-54245ac0-970e-47b9-8aa5-8e7f505363cc.avro",
         "schema-id": 0,
         "sequence-number": 1,
         "snapshot-id": 2506664210465907000,
         "summary": {
          "added-data-files": "1",
          "added-files-size": "19423339",
          "added-records": "859960",
          "operation": "append",
          "total-data-files": "1",
          "total-delete-files": "0",
          "total-equality-deletes": "0",
          "total-files-size": "19423339",
          "total-position-deletes": "0",
          "total-records": "859960"
         },
         "timestamp-ms": 1759870797269
        }
       ],
       "sort-orders": [
        {
         "fields": [],
         "order-id": 0
        }
       ],
       "table-uuid": "0199c078-fe5f-7c43-84a1-4d4ec684123e"
      },
      "text/plain": [
       "<IPython.core.display.JSON object>"
      ]
     },
     "execution_count": 16,
     "metadata": {
      "application/json": {
       "expanded": false,
       "root": "root"
      }
     },
     "output_type": "execute_result"
    }
   ],
   "source": [
    "JSON(get_iceberg_metadata(fs, house_prices_t))"
   ]
  },
  {
   "cell_type": "code",
   "execution_count": 17,
   "id": "TXez",
   "metadata": {},
   "outputs": [
    {
     "data": {
      "application/json": [
       {
        "added_files_count": 1,
        "added_rows_count": 854549,
        "added_snapshot_id": 122295293945248210,
        "content": 0,
        "deleted_files_count": 0,
        "deleted_rows_count": 0,
        "existing_files_count": 0,
        "existing_rows_count": 0,
        "key_metadata": null,
        "manifest_length": 7196,
        "manifest_path": "s3://warehouse/housing/staging/metadata/0a202aa6-9676-4560-852d-a6476d436439-m0.avro",
        "min_sequence_number": 2,
        "partition_spec_id": 0,
        "partitions": [],
        "sequence_number": 2
       },
       {
        "added_files_count": 1,
        "added_rows_count": 859960,
        "added_snapshot_id": 2506664210465907000,
        "content": 0,
        "deleted_files_count": 0,
        "deleted_rows_count": 0,
        "existing_files_count": 0,
        "existing_rows_count": 0,
        "key_metadata": null,
        "manifest_length": 7196,
        "manifest_path": "s3://warehouse/housing/staging/metadata/54245ac0-970e-47b9-8aa5-8e7f505363cc-m0.avro",
        "min_sequence_number": 1,
        "partition_spec_id": 0,
        "partitions": [],
        "sequence_number": 1
       }
      ],
      "text/plain": [
       "<IPython.core.display.JSON object>"
      ]
     },
     "execution_count": 17,
     "metadata": {
      "application/json": {
       "expanded": false,
       "root": "root"
      }
     },
     "output_type": "execute_result"
    }
   ],
   "source": [
    "JSON(get_iceberg_manifest_list(fs, house_prices_t))"
   ]
  },
  {
   "cell_type": "code",
   "execution_count": 18,
   "id": "dNNg",
   "metadata": {},
   "outputs": [
    {
     "data": {
      "application/json": [
       {
        "data_file": {
         "column_sizes": [
          {
           "key": 1,
           "value": 2335726
          },
          {
           "key": 2,
           "value": 1442075
          },
          {
           "key": 3,
           "value": 941362
          },
          {
           "key": 4,
           "value": 4383146
          },
          {
           "key": 5,
           "value": 270186
          },
          {
           "key": 6,
           "value": 31621
          },
          {
           "key": 7,
           "value": 98575
          },
          {
           "key": 8,
           "value": 1878848
          },
          {
           "key": 9,
           "value": 336555
          },
          {
           "key": 10,
           "value": 4299491
          },
          {
           "key": 11,
           "value": 908715
          },
          {
           "key": 12,
           "value": 1113183
          },
          {
           "key": 13,
           "value": 892080
          },
          {
           "key": 14,
           "value": 369782
          },
          {
           "key": 15,
           "value": 17652
          },
          {
           "key": 16,
           "value": 79
          }
         ],
         "content": 0,
         "equality_ids": null,
         "file_format": "PARQUET",
         "file_path": "s3://warehouse/housing/staging/data/00000-0-0a202aa6-9676-4560-852d-a6476d436439.parquet",
         "file_size_in_bytes": 19326203,
         "key_metadata": null,
         "lower_bounds": [
          {
           "key": 1,
           "value": "ezAxRUI0NUVGLTYxMkMtNA=="
          },
          {
           "key": 2,
           "value": "AQAAAA=="
          },
          {
           "key": 3,
           "value": "nksAAA=="
          },
          {
           "key": 4,
           "value": ""
          },
          {
           "key": 5,
           "value": "RA=="
          },
          {
           "key": 6,
           "value": "Tg=="
          },
          {
           "key": 7,
           "value": "Rg=="
          },
          {
           "key": 8,
           "value": "KEFORFJFVyk="
          },
          {
           "key": 9,
           "value": ""
          },
          {
           "key": 10,
           "value": ""
          },
          {
           "key": 11,
           "value": ""
          },
          {
           "key": 12,
           "value": "QUJCT1RTIExBTkdMRVk="
          },
          {
           "key": 13,
           "value": "QURVUg=="
          },
          {
           "key": 14,
           "value": "QkFUSCBBTkQgTk9SVEggRQ=="
          },
          {
           "key": 15,
           "value": "QQ=="
          },
          {
           "key": 16,
           "value": "QQ=="
          }
         ],
         "nan_value_counts": [],
         "null_value_counts": [
          {
           "key": 1,
           "value": 0
          },
          {
           "key": 2,
           "value": 0
          },
          {
           "key": 3,
           "value": 0
          },
          {
           "key": 4,
           "value": 0
          },
          {
           "key": 5,
           "value": 0
          },
          {
           "key": 6,
           "value": 0
          },
          {
           "key": 7,
           "value": 0
          },
          {
           "key": 8,
           "value": 0
          },
          {
           "key": 9,
           "value": 0
          },
          {
           "key": 10,
           "value": 0
          },
          {
           "key": 11,
           "value": 0
          },
          {
           "key": 12,
           "value": 0
          },
          {
           "key": 13,
           "value": 0
          },
          {
           "key": 14,
           "value": 0
          },
          {
           "key": 15,
           "value": 0
          },
          {
           "key": 16,
           "value": 0
          }
         ],
         "partition": {},
         "record_count": 854549,
         "sort_order_id": null,
         "split_offsets": [
          4
         ],
         "upper_bounds": [
          {
           "key": 1,
           "value": "e0ZGQTM2MURCLTlDQ0ItOQ=="
          },
          {
           "key": 2,
           "value": "4LnxDw=="
          },
          {
           "key": 3,
           "value": "Ck0AAA=="
          },
          {
           "key": 4,
           "value": "WU84IDlZRA=="
          },
          {
           "key": 5,
           "value": "VA=="
          },
          {
           "key": 6,
           "value": "WQ=="
          },
          {
           "key": 7,
           "value": "TA=="
          },
          {
           "key": 8,
           "value": "WlVSSUNIIEhPVVNFLCAxMw=="
          },
          {
           "key": 9,
           "value": "Wk9ORSA1"
          },
          {
           "key": 10,
           "value": "WllCVVJOIENPVVJU"
          },
          {
           "key": 11,
           "value": "Wk9VQ0g="
          },
          {
           "key": 12,
           "value": "WVNUUkFEIE1FVVJJRw=="
          },
          {
           "key": 13,
           "value": "WU9SSw=="
          },
          {
           "key": 14,
           "value": "WU9SSw=="
          },
          {
           "key": 15,
           "value": "Qg=="
          },
          {
           "key": 16,
           "value": "QQ=="
          }
         ],
         "value_counts": [
          {
           "key": 1,
           "value": 854549
          },
          {
           "key": 2,
           "value": 854549
          },
          {
           "key": 3,
           "value": 854549
          },
          {
           "key": 4,
           "value": 854549
          },
          {
           "key": 5,
           "value": 854549
          },
          {
           "key": 6,
           "value": 854549
          },
          {
           "key": 7,
           "value": 854549
          },
          {
           "key": 8,
           "value": 854549
          },
          {
           "key": 9,
           "value": 854549
          },
          {
           "key": 10,
           "value": 854549
          },
          {
           "key": 11,
           "value": 854549
          },
          {
           "key": 12,
           "value": 854549
          },
          {
           "key": 13,
           "value": 854549
          },
          {
           "key": 14,
           "value": 854549
          },
          {
           "key": 15,
           "value": 854549
          },
          {
           "key": 16,
           "value": 854549
          }
         ]
        },
        "file_sequence_number": null,
        "sequence_number": null,
        "snapshot_id": 122295293945248210,
        "status": 1
       },
       {
        "data_file": {
         "column_sizes": [
          {
           "key": 1,
           "value": 2301119
          },
          {
           "key": 2,
           "value": 1468996
          },
          {
           "key": 3,
           "value": 945100
          },
          {
           "key": 4,
           "value": 4445569
          },
          {
           "key": 5,
           "value": 264135
          },
          {
           "key": 6,
           "value": 23583
          },
          {
           "key": 7,
           "value": 93574
          },
          {
           "key": 8,
           "value": 1818775
          },
          {
           "key": 9,
           "value": 313186
          },
          {
           "key": 10,
           "value": 4384451
          },
          {
           "key": 11,
           "value": 988072
          },
          {
           "key": 12,
           "value": 1103474
          },
          {
           "key": 13,
           "value": 890799
          },
          {
           "key": 14,
           "value": 359266
          },
          {
           "key": 15,
           "value": 16035
          },
          {
           "key": 16,
           "value": 79
          }
         ],
         "content": 0,
         "equality_ids": null,
         "file_format": "PARQUET",
         "file_path": "s3://warehouse/housing/staging/data/00000-0-54245ac0-970e-47b9-8aa5-8e7f505363cc.parquet",
         "file_size_in_bytes": 19423339,
         "key_metadata": null,
         "lower_bounds": [
          {
           "key": 1,
           "value": "ezEwNjE3NDZELTk4QUEtMw=="
          },
          {
           "key": 2,
           "value": "AQAAAA=="
          },
          {
           "key": 3,
           "value": "C00AAA=="
          },
          {
           "key": 4,
           "value": ""
          },
          {
           "key": 5,
           "value": "RA=="
          },
          {
           "key": 6,
           "value": "Tg=="
          },
          {
           "key": 7,
           "value": "Rg=="
          },
          {
           "key": 8,
           "value": "KEJBR1NIQVcp"
          },
          {
           "key": 9,
           "value": ""
          },
          {
           "key": 10,
           "value": ""
          },
          {
           "key": 11,
           "value": ""
          },
          {
           "key": 12,
           "value": "QUJCT1RTIExBTkdMRVk="
          },
          {
           "key": 13,
           "value": "QURVUg=="
          },
          {
           "key": 14,
           "value": "QkFUSCBBTkQgTk9SVEggRQ=="
          },
          {
           "key": 15,
           "value": "QQ=="
          },
          {
           "key": 16,
           "value": "QQ=="
          }
         ],
         "nan_value_counts": [],
         "null_value_counts": [
          {
           "key": 1,
           "value": 0
          },
          {
           "key": 2,
           "value": 0
          },
          {
           "key": 3,
           "value": 0
          },
          {
           "key": 4,
           "value": 0
          },
          {
           "key": 5,
           "value": 0
          },
          {
           "key": 6,
           "value": 0
          },
          {
           "key": 7,
           "value": 0
          },
          {
           "key": 8,
           "value": 0
          },
          {
           "key": 9,
           "value": 0
          },
          {
           "key": 10,
           "value": 0
          },
          {
           "key": 11,
           "value": 0
          },
          {
           "key": 12,
           "value": 0
          },
          {
           "key": 13,
           "value": 0
          },
          {
           "key": 14,
           "value": 0
          },
          {
           "key": 15,
           "value": 0
          },
          {
           "key": 16,
           "value": 0
          }
         ],
         "partition": {},
         "record_count": 859960,
         "sort_order_id": null,
         "split_offsets": [
          4
         ],
         "upper_bounds": [
          {
           "key": 1,
           "value": "ezNEQ0NCN0NBLURDMjMtNg=="
          },
          {
           "key": 2,
           "value": "4ATLCQ=="
          },
          {
           "key": 3,
           "value": "eE4AAA=="
          },
          {
           "key": 4,
           "value": "WU85MCAxVVU="
          },
          {
           "key": 5,
           "value": "VA=="
          },
          {
           "key": 6,
           "value": "WQ=="
          },
          {
           "key": 7,
           "value": "TA=="
          },
          {
           "key": 8,
           "value": "WlVSSUNIIEhPVVNF"
          },
          {
           "key": 9,
           "value": "Wk9ORSA1"
          },
          {
           "key": 10,
           "value": "WlVSSUNIIEdBUkRFTlM="
          },
          {
           "key": 11,
           "value": "Wk9VQ0g="
          },
          {
           "key": 12,
           "value": "WVNUUkFEIE1FVVJJRw=="
          },
          {
           "key": 13,
           "value": "WU9SSw=="
          },
          {
           "key": 14,
           "value": "WU9SSw=="
          },
          {
           "key": 15,
           "value": "Qg=="
          },
          {
           "key": 16,
           "value": "QQ=="
          }
         ],
         "value_counts": [
          {
           "key": 1,
           "value": 859960
          },
          {
           "key": 2,
           "value": 859960
          },
          {
           "key": 3,
           "value": 859960
          },
          {
           "key": 4,
           "value": 859960
          },
          {
           "key": 5,
           "value": 859960
          },
          {
           "key": 6,
           "value": 859960
          },
          {
           "key": 7,
           "value": 859960
          },
          {
           "key": 8,
           "value": 859960
          },
          {
           "key": 9,
           "value": 859960
          },
          {
           "key": 10,
           "value": 859960
          },
          {
           "key": 11,
           "value": 859960
          },
          {
           "key": 12,
           "value": 859960
          },
          {
           "key": 13,
           "value": 859960
          },
          {
           "key": 14,
           "value": 859960
          },
          {
           "key": 15,
           "value": 859960
          },
          {
           "key": 16,
           "value": 859960
          }
         ]
        },
        "file_sequence_number": null,
        "sequence_number": null,
        "snapshot_id": 2506664210465907000,
        "status": 1
       }
      ],
      "text/plain": [
       "<IPython.core.display.JSON object>"
      ]
     },
     "execution_count": 18,
     "metadata": {
      "application/json": {
       "expanded": false,
       "root": "root"
      }
     },
     "output_type": "execute_result"
    }
   ],
   "source": [
    "JSON(get_iceberg_manifest(fs, house_prices_t))"
   ]
  },
  {
   "cell_type": "code",
   "execution_count": 19,
   "id": "0df8788b-0d14-41d9-a3ac-185fa198ac1f",
   "metadata": {},
   "outputs": [
    {
     "data": {
      "text/plain": [
       "['warehouse/housing/staging/data/00000-0-0a202aa6-9676-4560-852d-a6476d436439.parquet',\n",
       " 'warehouse/housing/staging/data/00000-0-54245ac0-970e-47b9-8aa5-8e7f505363cc.parquet']"
      ]
     },
     "execution_count": 19,
     "metadata": {},
     "output_type": "execute_result"
    }
   ],
   "source": [
    "fs.ls(\"/warehouse/housing/staging/data\")"
   ]
  },
  {
   "cell_type": "markdown",
   "id": "yCnT",
   "metadata": {
    "marimo": {
     "config": {
      "hide_code": true
     }
    }
   },
   "source": [
    "## Concluding on Metadata\n",
    "\n",
    "All the metadata we've looked at here is stored in object storage. It's this metadata which powers all of Iceberg - if you can understand how this metadata is put together, you understand the inner workings of Iceberg."
   ]
  }
 ],
 "metadata": {
  "kernelspec": {
   "display_name": "Python 3 (ipykernel)",
   "language": "python",
   "name": "python3"
  },
  "language_info": {
   "codemirror_mode": {
    "name": "ipython",
    "version": 3
   },
   "file_extension": ".py",
   "mimetype": "text/x-python",
   "name": "python",
   "nbconvert_exporter": "python",
   "pygments_lexer": "ipython3",
   "version": "3.12.11"
  }
 },
 "nbformat": 4,
 "nbformat_minor": 5
}
