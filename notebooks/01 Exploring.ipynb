{
 "cells": [
  {
   "cell_type": "code",
   "execution_count": 1,
   "id": "68fe7e56-83ee-4611-8269-9a7dd0962c40",
   "metadata": {},
   "outputs": [],
   "source": [
    "from pyiceberg.catalog.rest import RestCatalog\n",
    "import polars as pl\n",
    "import s3fs\n",
    "import trino\n",
    "import json\n",
    "import gzip\n",
    "from fsspec import AbstractFileSystem\n",
    "from pyiceberg.table import Table\n",
    "from typing import Any"
   ]
  },
  {
   "cell_type": "code",
   "execution_count": 2,
   "id": "fb2b7def-36ba-4610-ac4d-9ee7312a0e84",
   "metadata": {},
   "outputs": [],
   "source": [
    "columns = [\"transaction_id\", \"price\", \"date_of_transfer\", \"postcode\", \"property_type\", \"new_property\", \"duration\", \"paon\", \"saon\", \"street\", \"locality\", \"town\", \"district\", \"county\", \"ppd_category_type\", \"record_status\"]"
   ]
  },
  {
   "cell_type": "code",
   "execution_count": 3,
   "id": "bdeaa203-1b0b-4548-813b-274b570ad914",
   "metadata": {
    "scrolled": true
   },
   "outputs": [],
   "source": [
    "house_prices = pl.scan_csv(\"data/pp-2024.csv\", has_header=False, new_columns=columns, try_parse_dates=True).collect()"
   ]
  },
  {
   "cell_type": "code",
   "execution_count": 10,
   "id": "dd268d4b-df29-4130-85f3-526b5c1c53df",
   "metadata": {},
   "outputs": [
    {
     "data": {
      "text/html": [
       "<div><style>\n",
       ".dataframe > thead > tr,\n",
       ".dataframe > tbody > tr {\n",
       "  text-align: right;\n",
       "  white-space: pre-wrap;\n",
       "}\n",
       "</style>\n",
       "<small>shape: (5, 16)</small><table border=\"1\" class=\"dataframe\"><thead><tr><th>transaction_id</th><th>price</th><th>date_of_transfer</th><th>postcode</th><th>property_type</th><th>new_property</th><th>duration</th><th>paon</th><th>saon</th><th>street</th><th>locality</th><th>town</th><th>district</th><th>county</th><th>ppd_category_type</th><th>record_status</th></tr><tr><td>str</td><td>i64</td><td>datetime[μs]</td><td>str</td><td>str</td><td>str</td><td>str</td><td>str</td><td>str</td><td>str</td><td>str</td><td>str</td><td>str</td><td>str</td><td>str</td><td>str</td></tr></thead><tbody><tr><td>&quot;{2D4D7609-30B7-BDF9-E063-4804A…</td><td>335000</td><td>2024-07-10 00:00:00</td><td>&quot;B15 3BA&quot;</td><td>&quot;F&quot;</td><td>&quot;N&quot;</td><td>&quot;L&quot;</td><td>&quot;CLAREMONT VIEW, 11&quot;</td><td>&quot;FLAT 17&quot;</td><td>&quot;CLAREMONT GARDENS&quot;</td><td>&quot;EDGBASTON&quot;</td><td>&quot;BIRMINGHAM&quot;</td><td>&quot;BIRMINGHAM&quot;</td><td>&quot;WEST MIDLANDS&quot;</td><td>&quot;B&quot;</td><td>&quot;A&quot;</td></tr><tr><td>&quot;{2ACACE8C-A6DA-295E-E063-4804A…</td><td>300000</td><td>2024-11-18 00:00:00</td><td>&quot;PL26 8TF&quot;</td><td>&quot;S&quot;</td><td>&quot;N&quot;</td><td>&quot;F&quot;</td><td>&quot;6&quot;</td><td>&quot;&quot;</td><td>&quot;TELEPHONE LANE&quot;</td><td>&quot;STENALEES&quot;</td><td>&quot;ST AUSTELL&quot;</td><td>&quot;CORNWALL&quot;</td><td>&quot;CORNWALL&quot;</td><td>&quot;A&quot;</td><td>&quot;A&quot;</td></tr><tr><td>&quot;{1EAE3DF6-CA1C-9EB1-E063-4704A…</td><td>525000</td><td>2024-03-28 00:00:00</td><td>&quot;EN4 8UU&quot;</td><td>&quot;S&quot;</td><td>&quot;N&quot;</td><td>&quot;F&quot;</td><td>&quot;53&quot;</td><td>&quot;&quot;</td><td>&quot;JACKSON ROAD&quot;</td><td>&quot;&quot;</td><td>&quot;BARNET&quot;</td><td>&quot;BARNET&quot;</td><td>&quot;GREATER LONDON&quot;</td><td>&quot;A&quot;</td><td>&quot;A&quot;</td></tr><tr><td>&quot;{2F7F2B43-4CB4-E08F-E063-4804A…</td><td>165000</td><td>2024-04-26 00:00:00</td><td>&quot;NN4 5DX&quot;</td><td>&quot;F&quot;</td><td>&quot;N&quot;</td><td>&quot;L&quot;</td><td>&quot;19&quot;</td><td>&quot;&quot;</td><td>&quot;DAINTY GROVE&quot;</td><td>&quot;GRANGE PARK&quot;</td><td>&quot;NORTHAMPTON&quot;</td><td>&quot;WEST NORTHAMPTONSHIRE&quot;</td><td>&quot;WEST NORTHAMPTONSHIRE&quot;</td><td>&quot;A&quot;</td><td>&quot;A&quot;</td></tr><tr><td>&quot;{2859C1AC-819B-52B4-E063-4804A…</td><td>540000</td><td>2024-06-27 00:00:00</td><td>&quot;KT17 2EW&quot;</td><td>&quot;S&quot;</td><td>&quot;N&quot;</td><td>&quot;F&quot;</td><td>&quot;28&quot;</td><td>&quot;&quot;</td><td>&quot;SHORTCROFT ROAD&quot;</td><td>&quot;&quot;</td><td>&quot;EPSOM&quot;</td><td>&quot;EPSOM AND EWELL&quot;</td><td>&quot;SURREY&quot;</td><td>&quot;A&quot;</td><td>&quot;A&quot;</td></tr></tbody></table></div>"
      ],
      "text/plain": [
       "shape: (5, 16)\n",
       "┌────────────┬────────┬────────────┬──────────┬───┬────────────┬───────────┬───────────┬───────────┐\n",
       "│ transactio ┆ price  ┆ date_of_tr ┆ postcode ┆ … ┆ district   ┆ county    ┆ ppd_categ ┆ record_st │\n",
       "│ n_id       ┆ ---    ┆ ansfer     ┆ ---      ┆   ┆ ---        ┆ ---       ┆ ory_type  ┆ atus      │\n",
       "│ ---        ┆ i64    ┆ ---        ┆ str      ┆   ┆ str        ┆ str       ┆ ---       ┆ ---       │\n",
       "│ str        ┆        ┆ datetime[μ ┆          ┆   ┆            ┆           ┆ str       ┆ str       │\n",
       "│            ┆        ┆ s]         ┆          ┆   ┆            ┆           ┆           ┆           │\n",
       "╞════════════╪════════╪════════════╪══════════╪═══╪════════════╪═══════════╪═══════════╪═══════════╡\n",
       "│ {2D4D7609- ┆ 335000 ┆ 2024-07-10 ┆ B15 3BA  ┆ … ┆ BIRMINGHAM ┆ WEST      ┆ B         ┆ A         │\n",
       "│ 30B7-BDF9- ┆        ┆ 00:00:00   ┆          ┆   ┆            ┆ MIDLANDS  ┆           ┆           │\n",
       "│ E063-4804A ┆        ┆            ┆          ┆   ┆            ┆           ┆           ┆           │\n",
       "│ …          ┆        ┆            ┆          ┆   ┆            ┆           ┆           ┆           │\n",
       "│ {2ACACE8C- ┆ 300000 ┆ 2024-11-18 ┆ PL26 8TF ┆ … ┆ CORNWALL   ┆ CORNWALL  ┆ A         ┆ A         │\n",
       "│ A6DA-295E- ┆        ┆ 00:00:00   ┆          ┆   ┆            ┆           ┆           ┆           │\n",
       "│ E063-4804A ┆        ┆            ┆          ┆   ┆            ┆           ┆           ┆           │\n",
       "│ …          ┆        ┆            ┆          ┆   ┆            ┆           ┆           ┆           │\n",
       "│ {1EAE3DF6- ┆ 525000 ┆ 2024-03-28 ┆ EN4 8UU  ┆ … ┆ BARNET     ┆ GREATER   ┆ A         ┆ A         │\n",
       "│ CA1C-9EB1- ┆        ┆ 00:00:00   ┆          ┆   ┆            ┆ LONDON    ┆           ┆           │\n",
       "│ E063-4704A ┆        ┆            ┆          ┆   ┆            ┆           ┆           ┆           │\n",
       "│ …          ┆        ┆            ┆          ┆   ┆            ┆           ┆           ┆           │\n",
       "│ {2F7F2B43- ┆ 165000 ┆ 2024-04-26 ┆ NN4 5DX  ┆ … ┆ WEST NORTH ┆ WEST NORT ┆ A         ┆ A         │\n",
       "│ 4CB4-E08F- ┆        ┆ 00:00:00   ┆          ┆   ┆ AMPTONSHIR ┆ HAMPTONSH ┆           ┆           │\n",
       "│ E063-4804A ┆        ┆            ┆          ┆   ┆ E          ┆ IRE       ┆           ┆           │\n",
       "│ …          ┆        ┆            ┆          ┆   ┆            ┆           ┆           ┆           │\n",
       "│ {2859C1AC- ┆ 540000 ┆ 2024-06-27 ┆ KT17 2EW ┆ … ┆ EPSOM AND  ┆ SURREY    ┆ A         ┆ A         │\n",
       "│ 819B-52B4- ┆        ┆ 00:00:00   ┆          ┆   ┆ EWELL      ┆           ┆           ┆           │\n",
       "│ E063-4804A ┆        ┆            ┆          ┆   ┆            ┆           ┆           ┆           │\n",
       "│ …          ┆        ┆            ┆          ┆   ┆            ┆           ┆           ┆           │\n",
       "└────────────┴────────┴────────────┴──────────┴───┴────────────┴───────────┴───────────┴───────────┘"
      ]
     },
     "execution_count": 10,
     "metadata": {},
     "output_type": "execute_result"
    }
   ],
   "source": [
    "house_prices.sample(5)"
   ]
  },
  {
   "cell_type": "code",
   "execution_count": 21,
   "id": "7ee21ab5-0ca6-4e17-89a6-f133ae2c6d64",
   "metadata": {},
   "outputs": [],
   "source": [
    "catalog = RestCatalog(\n",
    "    name=\"lakekeeper\",\n",
    "    warehouse=\"store\",\n",
    "    uri=\"http://lakekeeper:8181/catalog\",\n",
    ")"
   ]
  },
  {
   "cell_type": "code",
   "execution_count": 22,
   "id": "abde4a30-5b7e-4a3f-b2eb-feb5a3985cc9",
   "metadata": {},
   "outputs": [],
   "source": [
    "catalog.create_namespace_if_not_exists(\"house_prices\")\n",
    "catalog.create_namespace_if_not_exists(\"stocks\")"
   ]
  },
  {
   "cell_type": "code",
   "execution_count": 23,
   "id": "0e208843-e01a-45e2-b7e2-65f20581f432",
   "metadata": {},
   "outputs": [],
   "source": [
    "from pyiceberg.schema import Schema, NestedField, StringType, IntegerType, DateType\n",
    "\n",
    "house_prices_schema = Schema(\n",
    "    NestedField(1, \"transaction_id\", StringType(), required=True),\n",
    "    NestedField(2, \"price\", IntegerType(), required=True),\n",
    "    NestedField(3, \"date_of_transfer\", DateType(), required=True),\n",
    "    NestedField(4, \"postcode\", StringType(), required=True),\n",
    "    NestedField(5, \"property_type\", StringType(), required=True),\n",
    "    NestedField(6, \"new_property\", StringType(), required=True),\n",
    "    NestedField(7, \"duration\", StringType(), required=True),\n",
    "    NestedField(8, \"paon\", StringType()),\n",
    "    NestedField(9, \"saon\", StringType()),\n",
    "    NestedField(10, \"street\", StringType()),\n",
    "    NestedField(11, \"locality\", StringType()),\n",
    "    NestedField(12, \"town\", StringType()),\n",
    "    NestedField(13, \"district\", StringType()),\n",
    "    NestedField(14, \"county\", StringType()),\n",
    "    NestedField(15, \"ppd_category_type\", StringType()),\n",
    "    identifier_field_ids=[1]\n",
    ")"
   ]
  },
  {
   "cell_type": "code",
   "execution_count": 24,
   "id": "afe36da9-6057-4839-93da-8ff8f6a1d72a",
   "metadata": {},
   "outputs": [],
   "source": [
    "raw_house_prices = catalog.create_table(\"house_prices.raw\", schema=house_prices_schema, location=\"s3://warehouse/house_prices/raw\")"
   ]
  },
  {
   "cell_type": "markdown",
   "id": "82d20ad8-61bd-4ae5-9797-c0c2951e0052",
   "metadata": {},
   "source": [
    "# Metadata is king\n",
    "Now that we've created a schema for our houseprices, let's take a look at the metadata that we've created. In Iceberg, all the metadata is stored in a combination of JSON and Avro, and all the metadata is stored in the S3 buckets directly, which is what makes it accessible from the various query engines. \n",
    "\n",
    "Let's have a look at the different files we've created out of the box. First, we need something that can talk to S3 - in this case our Minio S3 - enter fsspec and s3fs:"
   ]
  },
  {
   "cell_type": "code",
   "execution_count": 25,
   "id": "8fe60ca9-f0a1-4c6a-bb6a-0755584e05e8",
   "metadata": {},
   "outputs": [],
   "source": [
    "fs = s3fs.S3FileSystem(endpoint_url=\"http://minio:9000\", key=\"minio\", secret=\"minio1234\")"
   ]
  },
  {
   "cell_type": "markdown",
   "id": "1830f31c-8f95-4e61-8778-e59a04bec341",
   "metadata": {},
   "source": [
    "Now that we have something that can read our S3 bucket in Minio, we need to know where our Iceberg Catalogue put our most recent table update. PyIceberg stores that information in the `metadata_location` of the table"
   ]
  },
  {
   "cell_type": "code",
   "execution_count": 27,
   "id": "d2b9a8fc-cada-4a4f-b287-538f333578d7",
   "metadata": {},
   "outputs": [
    {
     "data": {
      "text/plain": [
       "'s3://warehouse/house_prices/raw/metadata/00000-019630c4-9971-75f1-a653-900d831e740f.gz.metadata.json'"
      ]
     },
     "execution_count": 27,
     "metadata": {},
     "output_type": "execute_result"
    }
   ],
   "source": [
    "raw_house_prices.metadata_location"
   ]
  },
  {
   "cell_type": "markdown",
   "id": "f75df786-0f74-4593-917b-a5f70185c190",
   "metadata": {},
   "source": [
    "That's a gzipped json file, a choice that our Iceberg Rest Catalog has chosen for us, so we need to do some extra work to read our metadata"
   ]
  },
  {
   "cell_type": "code",
   "execution_count": 32,
   "id": "1a697d87-e210-4c56-b7b9-e569416959c8",
   "metadata": {},
   "outputs": [],
   "source": [
    "def get_iceberg_metadata(fs: AbstractFileSystem, table: Table) -> dict[str, Any]:\n",
    "    with fs.open(table.metadata_location) as f, gzip.open(f) as g_f:\n",
    "        return json.load(g_f)"
   ]
  },
  {
   "cell_type": "code",
   "execution_count": 33,
   "id": "96ce363f-e013-4609-a0e0-271dcdde951b",
   "metadata": {},
   "outputs": [
    {
     "data": {
      "text/plain": [
       "{'format-version': 2,\n",
       " 'table-uuid': '019630c4-9970-7c32-b5e5-cc4f7398de20',\n",
       " 'location': 's3://warehouse/house_prices/raw',\n",
       " 'last-sequence-number': 0,\n",
       " 'last-updated-ms': 1744574912881,\n",
       " 'last-column-id': 15,\n",
       " 'schemas': [{'schema-id': 0,\n",
       "   'identifier-field-ids': [1],\n",
       "   'type': 'struct',\n",
       "   'fields': [{'id': 1,\n",
       "     'name': 'transaction_id',\n",
       "     'required': True,\n",
       "     'type': 'string'},\n",
       "    {'id': 2, 'name': 'price', 'required': True, 'type': 'int'},\n",
       "    {'id': 3, 'name': 'date_of_transfer', 'required': True, 'type': 'date'},\n",
       "    {'id': 4, 'name': 'postcode', 'required': True, 'type': 'string'},\n",
       "    {'id': 5, 'name': 'property_type', 'required': True, 'type': 'string'},\n",
       "    {'id': 6, 'name': 'new_property', 'required': True, 'type': 'string'},\n",
       "    {'id': 7, 'name': 'duration', 'required': True, 'type': 'string'},\n",
       "    {'id': 8, 'name': 'paon', 'required': False, 'type': 'string'},\n",
       "    {'id': 9, 'name': 'saon', 'required': False, 'type': 'string'},\n",
       "    {'id': 10, 'name': 'street', 'required': False, 'type': 'string'},\n",
       "    {'id': 11, 'name': 'locality', 'required': False, 'type': 'string'},\n",
       "    {'id': 12, 'name': 'town', 'required': False, 'type': 'string'},\n",
       "    {'id': 13, 'name': 'district', 'required': False, 'type': 'string'},\n",
       "    {'id': 14, 'name': 'county', 'required': False, 'type': 'string'},\n",
       "    {'id': 15,\n",
       "     'name': 'ppd_category_type',\n",
       "     'required': False,\n",
       "     'type': 'string'}]}],\n",
       " 'current-schema-id': 0,\n",
       " 'partition-specs': [{'spec-id': 0, 'fields': []}],\n",
       " 'default-spec-id': 0,\n",
       " 'last-partition-id': 999,\n",
       " 'sort-orders': [{'order-id': 0, 'fields': []}],\n",
       " 'default-sort-order-id': 0,\n",
       " 'refs': {}}"
      ]
     },
     "execution_count": 33,
     "metadata": {},
     "output_type": "execute_result"
    }
   ],
   "source": [
    "get_iceberg_metadata(fs, raw_house_prices)"
   ]
  },
  {
   "cell_type": "code",
   "execution_count": null,
   "id": "d7ac657f-85da-406b-92e9-c1e06a1266d8",
   "metadata": {},
   "outputs": [],
   "source": [
    "import avro"
   ]
  },
  {
   "cell_type": "code",
   "execution_count": 53,
   "id": "72411fc7-ba89-4ba7-86ac-83356d14e9c0",
   "metadata": {},
   "outputs": [],
   "source": [
    "with fs.open(c[\"snapshots\"][0][\"manifest-list\"]) as f:\n",
    "    av = pl.read_avro(f)"
   ]
  },
  {
   "cell_type": "code",
   "execution_count": 61,
   "id": "0d31d55e-0d78-4364-9e24-16b858d153a7",
   "metadata": {},
   "outputs": [],
   "source": [
    "with fs.open(av['manifest_path'].item()) as f:\n",
    "    manifest = pl.read_avro(f)"
   ]
  },
  {
   "cell_type": "code",
   "execution_count": 62,
   "id": "17f0311c-b916-4554-93ff-b379438aab1c",
   "metadata": {},
   "outputs": [
    {
     "data": {
      "text/html": [
       "<div><style>\n",
       ".dataframe > thead > tr,\n",
       ".dataframe > tbody > tr {\n",
       "  text-align: right;\n",
       "  white-space: pre-wrap;\n",
       "}\n",
       "</style>\n",
       "<small>shape: (1, 5)</small><table border=\"1\" class=\"dataframe\"><thead><tr><th>status</th><th>snapshot_id</th><th>sequence_number</th><th>file_sequence_number</th><th>data_file</th></tr><tr><td>i32</td><td>i64</td><td>i64</td><td>i64</td><td>struct[16]</td></tr></thead><tbody><tr><td>1</td><td>3473961880491101975</td><td>null</td><td>null</td><td>{0,&quot;s3://warehouse/test/data/00000-0-ba541152-c3fd-4c2f-8bcd-2c658fc02b4a.parquet&quot;,&quot;PARQUET&quot;,{},3,975,[{1,123}, {2,123}],[{1,3}, {2,3}],[{1,0}, {2,0}],[],[{1,b&quot;\\x01\\x00\\x00\\x00\\x00\\x00\\x00\\x00&quot;}, {2,b&quot;\\x03\\x00\\x00\\x00\\x00\\x00\\x00\\x00&quot;}],[{1,b&quot;\\x03\\x00\\x00\\x00\\x00\\x00\\x00\\x00&quot;}, {2,b&quot;\\x05\\x00\\x00\\x00\\x00\\x00\\x00\\x00&quot;}],null,[4],null,null}</td></tr></tbody></table></div>"
      ],
      "text/plain": [
       "shape: (1, 5)\n",
       "┌────────┬─────────────────────┬─────────────────┬──────────────────────┬──────────────────────────┐\n",
       "│ status ┆ snapshot_id         ┆ sequence_number ┆ file_sequence_number ┆ data_file                │\n",
       "│ ---    ┆ ---                 ┆ ---             ┆ ---                  ┆ ---                      │\n",
       "│ i32    ┆ i64                 ┆ i64             ┆ i64                  ┆ struct[16]               │\n",
       "╞════════╪═════════════════════╪═════════════════╪══════════════════════╪══════════════════════════╡\n",
       "│ 1      ┆ 3473961880491101975 ┆ null            ┆ null                 ┆ {0,\"s3://warehouse/test/ │\n",
       "│        ┆                     ┆                 ┆                      ┆ data/0…                  │\n",
       "└────────┴─────────────────────┴─────────────────┴──────────────────────┴──────────────────────────┘"
      ]
     },
     "execution_count": 62,
     "metadata": {},
     "output_type": "execute_result"
    }
   ],
   "source": [
    "manifest"
   ]
  },
  {
   "cell_type": "code",
   "execution_count": 63,
   "id": "45c9c18f-1672-4b98-b2c6-05aad613fda9",
   "metadata": {},
   "outputs": [
    {
     "data": {
      "text/html": [
       "<div><style>\n",
       ".dataframe > thead > tr,\n",
       ".dataframe > tbody > tr {\n",
       "  text-align: right;\n",
       "  white-space: pre-wrap;\n",
       "}\n",
       "</style>\n",
       "<small>shape: (1,)</small><table border=\"1\" class=\"dataframe\"><thead><tr><th>data_file</th></tr><tr><td>struct[16]</td></tr></thead><tbody><tr><td>{0,&quot;s3://warehouse/test/data/00000-0-ba541152-c3fd-4c2f-8bcd-2c658fc02b4a.parquet&quot;,&quot;PARQUET&quot;,{},3,975,[{1,123}, {2,123}],[{1,3}, {2,3}],[{1,0}, {2,0}],[],[{1,b&quot;\\x01\\x00\\x00\\x00\\x00\\x00\\x00\\x00&quot;}, {2,b&quot;\\x03\\x00\\x00\\x00\\x00\\x00\\x00\\x00&quot;}],[{1,b&quot;\\x03\\x00\\x00\\x00\\x00\\x00\\x00\\x00&quot;}, {2,b&quot;\\x05\\x00\\x00\\x00\\x00\\x00\\x00\\x00&quot;}],null,[4],null,null}</td></tr></tbody></table></div>"
      ],
      "text/plain": [
       "shape: (1,)\n",
       "Series: 'data_file' [struct[16]]\n",
       "[\n",
       "\t{0,\"s3://warehouse/test/data/00000-0-ba541152-c3fd-4c2f-8bcd-2c658fc02b4a.parquet\",\"PARQUET\",{},3,975,[{1,123}, {2,123}],[{1,3}, {2,3}],[{1,0}, {2,0}],[],[{1,b\"\\x01\\x00\\x00\\x00\\x00\\x00\\x00\\x00\"}, {2,b\"\\x03\\x00\\x00\\x00\\x00\\x00\\x00\\x00\"}],[{1,b\"\\x03\\x00\\x00\\x00\\x00\\x00\\x00\\x00\"}, {2,b\"\\x05\\x00\\x00\\x00\\x00\\x00\\x00\\x00\"}],null,[4],null,null}\n",
       "]"
      ]
     },
     "execution_count": 63,
     "metadata": {},
     "output_type": "execute_result"
    }
   ],
   "source": [
    "manifest['data_file']"
   ]
  },
  {
   "cell_type": "code",
   "execution_count": 74,
   "id": "2eb5bd4a-f6cc-4eed-9fbe-d4e8d518886e",
   "metadata": {},
   "outputs": [
    {
     "data": {
      "text/html": [
       "<div><style>\n",
       ".dataframe > thead > tr,\n",
       ".dataframe > tbody > tr {\n",
       "  text-align: right;\n",
       "  white-space: pre-wrap;\n",
       "}\n",
       "</style>\n",
       "<small>shape: (2, 2)</small><table border=\"1\" class=\"dataframe\"><thead><tr><th>key</th><th>value</th></tr><tr><td>i32</td><td>i64</td></tr></thead><tbody><tr><td>1</td><td>123</td></tr><tr><td>2</td><td>123</td></tr></tbody></table></div>"
      ],
      "text/plain": [
       "shape: (2, 2)\n",
       "┌─────┬───────┐\n",
       "│ key ┆ value │\n",
       "│ --- ┆ ---   │\n",
       "│ i32 ┆ i64   │\n",
       "╞═════╪═══════╡\n",
       "│ 1   ┆ 123   │\n",
       "│ 2   ┆ 123   │\n",
       "└─────┴───────┘"
      ]
     },
     "execution_count": 74,
     "metadata": {},
     "output_type": "execute_result"
    }
   ],
   "source": [
    "manifest.unnest(pl.col('data_file')).select(pl.col(\"column_sizes\").list.explode()).unnest(\"column_sizes\")"
   ]
  },
  {
   "cell_type": "code",
   "execution_count": 7,
   "id": "73e9f5c6-52f6-4c56-9eee-309cb3992ddb",
   "metadata": {},
   "outputs": [],
   "source": [
    "catalog.drop_table(\"store.test\", purge_requested=True)"
   ]
  },
  {
   "cell_type": "code",
   "execution_count": 1,
   "id": "4c265216-886f-4cd8-b80d-4627404b8e1c",
   "metadata": {},
   "outputs": [
    {
     "data": {
      "text/plain": [
       "[['a', 'bigint', '', ''], ['b', 'bigint', '', '']]"
      ]
     },
     "execution_count": 1,
     "metadata": {},
     "output_type": "execute_result"
    }
   ],
   "source": [
    "from trino.dbapi import connect\n",
    "\n",
    "conn = connect(host=\"http://trino:8080\", user=\"trino\", catalog=\"lakekeeper\")\n",
    "\n",
    "cur = conn.cursor()\n",
    "\n",
    "cur.execute(\"DESCRIBE lakekeeper.store.test\").fetchall()"
   ]
  },
  {
   "cell_type": "code",
   "execution_count": 2,
   "id": "c0da1d8a-2d38-41dc-9d28-a4bd5b91b493",
   "metadata": {},
   "outputs": [
    {
     "data": {
      "text/plain": [
       "[[1, 3], [2, 4], [3, 5]]"
      ]
     },
     "execution_count": 2,
     "metadata": {},
     "output_type": "execute_result"
    }
   ],
   "source": [
    "cur.execute('select * from lakekeeper.store.test').fetchall()"
   ]
  },
  {
   "cell_type": "code",
   "execution_count": null,
   "id": "0b1e1609-ea06-4eeb-8c4f-837c54e15f5a",
   "metadata": {},
   "outputs": [],
   "source": []
  }
 ],
 "metadata": {
  "kernelspec": {
   "display_name": "Python 3 (ipykernel)",
   "language": "python",
   "name": "python3"
  },
  "language_info": {
   "codemirror_mode": {
    "name": "ipython",
    "version": 3
   },
   "file_extension": ".py",
   "mimetype": "text/x-python",
   "name": "python",
   "nbconvert_exporter": "python",
   "pygments_lexer": "ipython3",
   "version": "3.12.10"
  }
 },
 "nbformat": 4,
 "nbformat_minor": 5
}
