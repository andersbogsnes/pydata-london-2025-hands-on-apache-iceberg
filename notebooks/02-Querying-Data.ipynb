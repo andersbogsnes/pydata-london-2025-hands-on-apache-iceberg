{
 "cells": [
  {
   "cell_type": "code",
   "execution_count": null,
   "id": "initial_id",
   "metadata": {
    "ExecuteTime": {
     "end_time": "2025-05-05T19:30:23.494582Z",
     "start_time": "2025-05-05T19:30:22.888024Z"
    }
   },
   "outputs": [],
   "source": [
    "import polars as pl\n",
    "from pyiceberg.catalog.rest import RestCatalog\n",
    "\n",
    "pl.Config.set_thousands_separator(\",\")\n",
    "pl.Config.set_float_precision(2)"
   ]
  },
  {
   "cell_type": "markdown",
   "id": "e6215e98f6f6b97b",
   "metadata": {},
   "source": [
    "# Querying the data\n",
    "\n",
    "Now we have some data and we understand a bit better how Iceberg works under the hood. It's time to actually start using it!\n",
    "\n",
    "The key selling point for Iceberg is that we have the option of using many different query engines to read from the same data storage.\n",
    "To show this off, let's run some simple queries using a few different query engines. In this demo, we'll focus on locally runnable query engines, but often the pattern will be using something like Snowflake or Databricks for the heavy lifting, but have the optionality of using alternatives for different usecases.\n",
    "\n",
    "First, we get a reference to our table, since many of these engines are using pyiceberg as a jumping-off point, either to directly interface with the Pyiceberg table, or because we can use Pyiceberg to find out the location of the current metadata.json file"
   ]
  },
  {
   "cell_type": "code",
   "execution_count": null,
   "id": "5ba185e0da0e69ef",
   "metadata": {
    "ExecuteTime": {
     "end_time": "2025-05-05T19:30:50.295260Z",
     "start_time": "2025-05-05T19:30:50.264663Z"
    }
   },
   "outputs": [],
   "source": [
    "catalog = RestCatalog(\n",
    "    \"lakekeeper\", uri=\"http://lakekeeper:8181/catalog\", warehouse=\"lakehouse\"\n",
    ")\n",
    "table = catalog.load_table(\"housing.staging_prices\")"
   ]
  },
  {
   "cell_type": "markdown",
   "id": "54b74f41-0c76-49dc-a3ff-294682854a30",
   "metadata": {},
   "source": [
    "## Pyiceberg\n",
    "\n",
    "Let's see how we would use Pyiceberg directly to handle querying first. For each of these examples, we'll do something simple - we will calculate the mean monthly house price per month in 2024 (we've loaded data for 2024 and 2023 in the previous notebook). "
   ]
  },
  {
   "cell_type": "code",
   "execution_count": null,
   "id": "9347e445-a643-47e8-bf0e-b541d7a52c27",
   "metadata": {},
   "outputs": [],
   "source": [
    "%%time\n",
    "\n",
    "iceberg_results = table.scan(\n",
    "    selected_fields=[\"price\", \"date_of_transfer\"],\n",
    "    row_filter=\"date_of_transfer >= '2024-01-01' and date_of_transfer <= '2024-12-31'\",\n",
    ")\n",
    "iceberg_results.to_polars().group_by(pl.col(\"date_of_transfer\").dt.month()).agg(\n",
    "    pl.col(\"price\").mean()\n",
    ").sort(by=\"date_of_transfer\")"
   ]
  },
  {
   "cell_type": "markdown",
   "id": "fc1fcc13-e470-4ab2-90a9-320c2b16808b",
   "metadata": {},
   "source": [
    "## Polars\n",
    "Pyiceberg provides us with limited filtering and projection capabilities - it provides the building blocks for libraries that build on top of Pyiceberg. We used Polars to finish the job in this example, but polars can read Iceberg directly so we can avoid the extra step"
   ]
  },
  {
   "cell_type": "code",
   "execution_count": null,
   "id": "6ff5217c-d207-4f33-a018-5d105e465bb5",
   "metadata": {},
   "outputs": [],
   "source": [
    "%%time\n",
    "polars_df = (\n",
    "    pl.scan_iceberg(table)\n",
    "    .group_by(pl.col(\"date_of_transfer\").dt.month())\n",
    "    .agg(pl.col(\"price\").mean())\n",
    "    .sort(by=\"date_of_transfer\")\n",
    "    .collect()\n",
    ")\n",
    "polars_df"
   ]
  },
  {
   "cell_type": "markdown",
   "id": "ab1d00b7-4379-473d-bc71-3651c921ffe4",
   "metadata": {},
   "source": [
    "## Duckdb\n",
    "Duckdb is also an excellent choice for working with Iceberg, especially if you want to stick to SQL.\n",
    "\n",
    "It does require some setup, since Duckdb doesn't yet know how to talk to the REST catalog, so it needs to have it's own credentials, but the [duckdb-iceberg](https://github.com/duckdb/duckdb-iceberg) extension recently got additional sponsorship from AWS to improve Iceberg compatibility, so keep an eye on that"
   ]
  },
  {
   "cell_type": "code",
   "execution_count": null,
   "id": "ea17410d-c1ac-400a-a53e-df7146ed6777",
   "metadata": {},
   "outputs": [],
   "source": [
    "import duckdb"
   ]
  },
  {
   "cell_type": "code",
   "execution_count": null,
   "id": "dba31952-7109-4383-82cf-58f6e0010fa9",
   "metadata": {},
   "outputs": [],
   "source": [
    "# Create a duckdb connection\n",
    "conn = duckdb.connect()\n",
    "# Load the Iceberg extension for DuckDB\n",
    "conn.install_extension(\"iceberg\")\n",
    "conn.load_extension(\"iceberg\")\n",
    "\n",
    "\n",
    "# To be able to read the Iceberg metadata, we need credentials for the bucket\n",
    "conn.sql(\"\"\"\n",
    "CREATE OR REPLACE SECRET minio (\n",
    "TYPE S3,\n",
    "ENDPOINT 'minio:9000',\n",
    "KEY_ID 'minio',\n",
    "SECRET 'minio1234',\n",
    "USE_SSL false,\n",
    "URL_STYLE 'path'\n",
    ")\n",
    "\"\"\")"
   ]
  },
  {
   "cell_type": "code",
   "execution_count": null,
   "id": "bce0a4db-bef1-4aa9-9678-34f22f791946",
   "metadata": {},
   "outputs": [],
   "source": [
    "%%time\n",
    "# We can read the iceberg data using DuckDB\n",
    "conn.sql(f\"\"\"\n",
    "SELECT month(date_of_transfer) as transfer_month, mean(price) as mean_price\n",
    "FROM iceberg_scan('{table.metadata_location}')\n",
    "GROUP BY 1\n",
    "\"\"\").show()"
   ]
  },
  {
   "cell_type": "markdown",
   "id": "c96df712-ec00-44a6-bc3e-eb29664bab07",
   "metadata": {},
   "source": [
    "## Trino\n",
    "Trino is another popular option, especially since AWS provides it as a serverless query engine through Athena. Trino is another SQL-based query engine, so the query looks pretty similar, just using Trino SQL dialect"
   ]
  },
  {
   "cell_type": "code",
   "execution_count": null,
   "id": "406c0ba8-4731-435d-9aac-c3b822e4c2c1",
   "metadata": {},
   "outputs": [],
   "source": [
    "import sqlalchemy as sa\n",
    "\n",
    "engine = sa.create_engine(\"trino://trino:@trino:8080/lakekeeper\")\n",
    "\n",
    "sql = \"\"\"\n",
    "SELECT month(date_of_transfer) as transfer_month, avg(price) as mean_price \n",
    "FROM housing.staging_prices\n",
    "GROUP BY 1\n",
    "ORDER BY 1\n",
    "\"\"\""
   ]
  },
  {
   "cell_type": "code",
   "execution_count": null,
   "id": "524d5025-df65-48de-8bd9-6bb99973b163",
   "metadata": {},
   "outputs": [],
   "source": [
    "%%time\n",
    "pl.read_database(sql, engine)"
   ]
  },
  {
   "cell_type": "markdown",
   "id": "3f31ff46-1a48-4731-b0e9-17042db6bd6e",
   "metadata": {},
   "source": [
    "## Daft\n",
    "Daft is a relatively new player in the Dataframe world, similar to Polars, but also designed for scaling out. It's also written in Rust, but Daft has had early support for Iceberg - let's see if that helps"
   ]
  },
  {
   "cell_type": "code",
   "execution_count": null,
   "id": "4a44a21a-c793-4390-8e2d-676d3e5af0ef",
   "metadata": {},
   "outputs": [],
   "source": [
    "import daft"
   ]
  },
  {
   "cell_type": "code",
   "execution_count": null,
   "id": "487dc3e5-0fd7-4ca1-8e6e-e92011845626",
   "metadata": {},
   "outputs": [],
   "source": [
    "%%time\n",
    "(\n",
    "    daft.read_iceberg(table)\n",
    "    .groupby(daft.col(\"date_of_transfer\").dt.month())\n",
    "    .agg(daft.col(\"price\").mean())\n",
    "    .sort(by=daft.col(\"date_of_transfer\"))\n",
    "    .show(12)\n",
    ")"
   ]
  },
  {
   "cell_type": "markdown",
   "id": "b9266388-cbdb-4f92-a989-8b2c0de522d8",
   "metadata": {},
   "source": [
    "## Query engines\n",
    "So now we've done a tour of some of the query engines that are also easy to run locally - we've been through Python with Pyiceberg, Rust with Polars and Daft, C++ with Duckdb and finally Java with Trino. One important player we've left out here is Spark. There is no denying that Iceberg was originally a Java project and the Java Iceberg reference library is the most feature-complete. Pyiceberg is a close second though\n",
    "\n",
    "![Iceberg Query Engines](images/iceberg_query_engine.svg)\n",
    "\n",
    "In a real enterprise setup, you'll probably a managed service like Databricks or Snowflake that you can rely on as your main Iceberg driver - but the beauty of Iceberg is that you don't have to. You can mix and match these different query engines depending on the task at hand, while not having to move the data anywhere."
   ]
  },
  {
   "cell_type": "markdown",
   "id": "5cda0d53-01c8-42e2-b655-094e614fe7d0",
   "metadata": {},
   "source": [
    "# Exercise\n",
    "\n",
    "Try running a query using your favourite query engine to calculate the average house price for your county. If you don't live in the UK - pick the funniest sounding one. (I quite like WORCESTERSHIRE)"
   ]
  },
  {
   "cell_type": "code",
   "execution_count": null,
   "id": "35999a18-96a9-485b-88db-e8fb1b497e9c",
   "metadata": {},
   "outputs": [],
   "source": []
  }
 ],
 "metadata": {
  "kernelspec": {
   "display_name": "Python 3 (ipykernel)",
   "language": "python",
   "name": "python3"
  },
  "language_info": {
   "codemirror_mode": {
    "name": "ipython",
    "version": 3
   },
   "file_extension": ".py",
   "mimetype": "text/x-python",
   "name": "python",
   "nbconvert_exporter": "python",
   "pygments_lexer": "ipython3",
   "version": "3.12.10"
  }
 },
 "nbformat": 4,
 "nbformat_minor": 5
}
