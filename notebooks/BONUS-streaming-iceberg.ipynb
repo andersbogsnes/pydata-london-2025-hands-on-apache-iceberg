{
 "cells": [
  {
   "cell_type": "markdown",
   "id": "aee031fe-9599-4b23-afae-189de5d26cf5",
   "metadata": {},
   "source": [
    "# BONUS: Streaming Iceberg data\n",
    "\n",
    "An interesting pattern that is emerging currently is using Iceberg as the sink for streaming events. Iceberg is great for persisting large tables, and it's easy to consume from your existing analytical stack as we've learned today.\n",
    "\n",
    "This is called Kappa Architecture - combining streaming and batch models\n",
    "\n",
    "```{figure}images/kappa_iceberg.svg\n",
    "```\n",
    "A number of Streaming providers, including Confluent and Redpanda, are now offering this capabiltiy built-in, but we are using the Kafka connector in this example"
   ]
  },
  {
   "cell_type": "code",
   "execution_count": null,
   "id": "713bb773-673f-4d4d-9345-33f66823564f",
   "metadata": {},
   "outputs": [],
   "source": [
    "from quixstreams import Application\n",
    "from quixstreams.models.serializers.avro import AvroSerializer, AvroDeserializer\n",
    "from quixstreams.models import (\n",
    "    SchemaRegistryClientConfig,\n",
    "    SchemaRegistrySerializationConfig,\n",
    ")\n",
    "import httpx\n",
    "import polars as pl\n",
    "from utils import read_house_prices, catalog"
   ]
  },
  {
   "cell_type": "markdown",
   "id": "77638573-e6b3-4272-8809-ece1e4eedd1f",
   "metadata": {},
   "source": [
    "# Defining our schema\n",
    "\n",
    "We need to define our housing prices Avro schema, so we can use the Avro schema registry. Our Connector will use the Schema registry to create the target Iceberg table"
   ]
  },
  {
   "cell_type": "code",
   "execution_count": null,
   "id": "e3389efd-1212-45da-b7e1-2ab6f773d855",
   "metadata": {},
   "outputs": [],
   "source": [
    "housing_prices_avro = {\n",
    "        \"type\": \"record\",\n",
    "        \"name\": \"HousePrices\",\n",
    "        \"namespace\": \"housing\",\n",
    "        \"doc\": \"Schema for housing.staging_prices\",\n",
    "        \"fields\": [\n",
    "            {\n",
    "                \"name\": \"transaction_id\",\n",
    "                \"type\": \"string\",\n",
    "            },\n",
    "            {\n",
    "                \"name\": \"price\",\n",
    "                \"type\": \"int\",\n",
    "            },\n",
    "            {\n",
    "                \"name\": \"date_of_transfer\",\n",
    "                \"type\": {\"type\": \"int\", \"logicalType\": \"date\"},\n",
    "            },\n",
    "            {\n",
    "                \"name\": \"postcode\",\n",
    "                \"type\": \"string\",\n",
    "            },\n",
    "            {\n",
    "                \"name\": \"property_type\",\n",
    "                \"type\": \"string\",\n",
    "            },\n",
    "            {\n",
    "                \"name\": \"new_property\",\n",
    "                \"type\": \"string\",\n",
    "            },\n",
    "            {\n",
    "                \"name\": \"duration\",\n",
    "                \"type\": \"string\",\n",
    "            },\n",
    "            {\n",
    "                \"name\": \"paon\",\n",
    "                \"type\": [\"null\", \"string\"],\n",
    "                \"default\": None,\n",
    "            },\n",
    "            {\n",
    "                \"name\": \"saon\",\n",
    "                \"type\": [\"null\", \"string\"],\n",
    "                \"default\": None,\n",
    "            },\n",
    "            {\"name\": \"street\", \"type\": [\"null\", \"string\"], \"default\": None},\n",
    "            {\"name\": \"locality\", \"type\": [\"null\", \"string\"], \"default\": None},\n",
    "            {\"name\": \"town\", \"type\": [\"null\", \"string\"], \"default\": None},\n",
    "            {\"name\": \"district\", \"type\": [\"null\", \"string\"], \"default\": None},\n",
    "            {\"name\": \"county\", \"type\": [\"null\", \"string\"], \"default\": None},\n",
    "            {\n",
    "                \"name\": \"ppd_category_type\",\n",
    "                \"type\": [\"null\", \"string\"],\n",
    "                \"default\": None,\n",
    "            },\n",
    "            {\n",
    "                \"name\": \"record_status\",\n",
    "                \"type\": [\"null\", \"string\"],\n",
    "                \"default\": None,\n",
    "            },\n",
    "        ],\n",
    "    }"
   ]
  },
  {
   "cell_type": "markdown",
   "id": "c3c0db7c-f06b-4908-98b1-d8c9545a2dc5",
   "metadata": {},
   "source": [
    "# Setup Serialization\n",
    "\n",
    "With our Avro schema defined, we need to tell the Serializer about the schema registry so it can be uploaded."
   ]
  },
  {
   "cell_type": "code",
   "execution_count": null,
   "id": "fa7de946-e2bc-43e5-96cf-d18e36f611e6",
   "metadata": {},
   "outputs": [],
   "source": [
    "schema_registry_client_config = SchemaRegistryClientConfig(\n",
    "    url='http://schema-registry:8081'\n",
    ")"
   ]
  },
  {
   "cell_type": "markdown",
   "id": "321666a7-8988-4fa3-ba13-d63558a9268d",
   "metadata": {},
   "source": [
    "Now we can define an Avro serializer and deserializer - the serializer needs to know the schema up front, but the deserializer can fetch it at read"
   ]
  },
  {
   "cell_type": "code",
   "execution_count": null,
   "id": "c3855cb3-21d3-431f-9a33-f49bbc6f2946",
   "metadata": {},
   "outputs": [],
   "source": [
    "serializer = AvroSerializer(housing_prices_avro ,schema_registry_client_config=schema_registry_client_config)\n",
    "deserializer = AvroDeserializer(schema_registry_client_config=schema_registry_client_config)"
   ]
  },
  {
   "cell_type": "markdown",
   "id": "8296de2a-3ed3-4467-83c7-139c52b06e65",
   "metadata": {},
   "source": [
    "Using the `quixstream` library we simplify our Kafka producing logic a bit"
   ]
  },
  {
   "cell_type": "code",
   "execution_count": null,
   "id": "df9699df-dba3-48b0-bd32-7d9ad36053a4",
   "metadata": {},
   "outputs": [],
   "source": [
    "app = Application(broker_address=\"broker:29092\", consumer_group=\"iceberg-demo\")"
   ]
  },
  {
   "cell_type": "code",
   "execution_count": null,
   "id": "fcec0441-8a9b-4380-b8ee-54d790ae46e4",
   "metadata": {},
   "outputs": [],
   "source": [
    "housing_prices_topic = app.topic(\"housing_prices\", value_serializer=serializer, value_deserializer=deserializer)"
   ]
  },
  {
   "cell_type": "markdown",
   "id": "c61ab8d7-70ef-4c43-9deb-4f74650deb00",
   "metadata": {},
   "source": [
    "# Publishing Data\n",
    "\n",
    "Now we have a connection to our Kafka broker, as well as a `housing_prices` topic defined, it's time to read in some data.\n",
    "\n",
    "In our case, we are still batching data, but it would be easy to imagine we had a stream of housing purchases we would want to put on Kafka."
   ]
  },
  {
   "cell_type": "code",
   "execution_count": null,
   "id": "ed9004bf-d00c-4a64-a145-f99e73afb786",
   "metadata": {},
   "outputs": [],
   "source": [
    "df = read_house_prices('data/house_prices/pp-2015.csv')"
   ]
  },
  {
   "cell_type": "markdown",
   "id": "c3fe0f86-e0d1-47e6-90cd-66343d556505",
   "metadata": {},
   "source": [
    "With our data ready, we produce our messages to Kafka"
   ]
  },
  {
   "cell_type": "code",
   "execution_count": null,
   "id": "488a15da-a7e8-4db4-a4eb-3854bb0f20bf",
   "metadata": {},
   "outputs": [],
   "source": [
    "with app.get_producer() as producer:\n",
    "    for line in df.to_dicts():\n",
    "        message = housing_prices_topic.serialize(key=line['transaction_id'], value=line)\n",
    "        producer.produce(topic=housing_prices_topic.name, key=message.key, value=message.value)"
   ]
  },
  {
   "cell_type": "markdown",
   "id": "311eb3e2-9c22-44c1-8e06-89c0576eb7d3",
   "metadata": {},
   "source": [
    "Now we have a bunch of messages on Kafka lying around - we would like to sink them to an Iceberg table for analytical purposes. \n",
    "\n",
    "We've chosen to use the Iceberg Kafka connector to do this. Kafka Connect is basically a standardised application from Kafka and sinking it somewhere, or sourcing it from somewhere and putting it on Kafka.\n",
    "\n",
    "# Configuring the Connector\n",
    "Kafka Connect can be configured via API - to create a new connector task, we define the configuration in JSON and pass it to the API"
   ]
  },
  {
   "cell_type": "code",
   "execution_count": null,
   "id": "8972d242-585c-4ef2-88a0-0cca8ea38254",
   "metadata": {},
   "outputs": [],
   "source": [
    "connector_config = {\n",
    "    \"name\": \"housing-prices-connector\",\n",
    "    \"connector.class\": \"io.tabular.iceberg.connect.IcebergSinkConnector\",\n",
    "    \"iceberg.catalog.type\": \"rest\", \n",
    "    \"iceberg.catalog.uri\": \"http://lakekeeper:8181/catalog\", # Connecting to our Catalog\n",
    "    \"iceberg.catalog.warehouse\": \"lakehouse\",\n",
    "    \"iceberg.control.topic\": \"iceberg-demo-connector-control\", # A topic the connector uses to keep track of what files are committed\n",
    "    \"iceberg.tables\": \"housing.streaming_prices\", # The table we want to write to\n",
    "    \"iceberg.tables.auto-create-enabled\": \"true\", # Should the Connector create the table?\n",
    "    \"iceberg.tables.evolve-schema-enabled\": \"true\", # Should the Connector alter the table if the schema changes?\n",
    "    \"key.converter\": \"org.apache.kafka.connect.storage.StringConverter\",\n",
    "    \"topics\": housing_prices_topic.name, \n",
    "    \"value.converter\": \"io.confluent.connect.avro.AvroConverter\",\n",
    "    \"value.converter.schema.registry.url\": \"http://schema-registry:8081\",\n",
    "    \"iceberg.control.commit.interval-ms\": 10000 # How often should we commit data? 10 seconds for demo purposes only - default is 5 mins\n",
    "}"
   ]
  },
  {
   "cell_type": "code",
   "execution_count": null,
   "id": "0d1ee5a7-9cec-43a3-b63b-152823f9df4c",
   "metadata": {},
   "outputs": [],
   "source": [
    "r = httpx.put(\"http://connect:8083/connectors/housing-prices-connector/config\", json=connector_config)\n",
    "r.status_code"
   ]
  },
  {
   "cell_type": "markdown",
   "id": "19014466-ede7-43f0-a191-409c1d49d51b",
   "metadata": {},
   "source": [
    "We can check the current status of the connector to make sure it's running"
   ]
  },
  {
   "cell_type": "code",
   "execution_count": null,
   "id": "f1291e02-1d6f-4381-8bcc-9eca11e9c9a0",
   "metadata": {},
   "outputs": [],
   "source": [
    "r = httpx.get(\"http://connect:8083/connectors/housing-prices-connector/status\")\n",
    "r.json()"
   ]
  },
  {
   "cell_type": "markdown",
   "id": "87d11ccb-70c5-4b93-bf21-36fb0b91e530",
   "metadata": {},
   "source": [
    "Now we have an always-on syncer that will periodically write any new data on the Kafka topic to our Iceberg table!"
   ]
  },
  {
   "cell_type": "markdown",
   "id": "1db1ac79-10f5-48d6-b5db-dd7952a7a0b6",
   "metadata": {},
   "source": [
    "And just to prove that we can work with the Iceberg table, just like we've been doing the whole time"
   ]
  },
  {
   "cell_type": "code",
   "execution_count": null,
   "id": "797d4c19-506c-4d5e-9b22-44f9a77264f4",
   "metadata": {},
   "outputs": [],
   "source": [
    "table = catalog.load_table(\"housing.streaming_prices\")"
   ]
  },
  {
   "cell_type": "code",
   "execution_count": null,
   "id": "edc7c279-3344-4d7e-ab51-89b740c30519",
   "metadata": {},
   "outputs": [],
   "source": [
    "pl.scan_iceberg(table).head(10).collect()"
   ]
  },
  {
   "cell_type": "code",
   "execution_count": null,
   "id": "7498b507-0b33-42d8-b517-b111171ca76b",
   "metadata": {},
   "outputs": [],
   "source": []
  }
 ],
 "metadata": {
  "kernelspec": {
   "display_name": "Python 3 (ipykernel)",
   "language": "python",
   "name": "python3"
  },
  "language_info": {
   "codemirror_mode": {
    "name": "ipython",
    "version": 3
   },
   "file_extension": ".py",
   "mimetype": "text/x-python",
   "name": "python",
   "nbconvert_exporter": "python",
   "pygments_lexer": "ipython3",
   "version": "3.12.11"
  }
 },
 "nbformat": 4,
 "nbformat_minor": 5
}
