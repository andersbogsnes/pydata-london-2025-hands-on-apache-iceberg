{
 "cells": [
  {
   "cell_type": "markdown",
   "id": "aee031fe-9599-4b23-afae-189de5d26cf5",
   "metadata": {},
   "source": [
    "# BONUS: Streaming Iceberg data\n",
    "\n",
    "An interesting pattern that is emerging currently is using Iceberg as the sink for streaming events. Iceberg is great for persisting large tables, and it's easy to consume from your existing analytical stack as we've learned today.\n",
    "\n",
    "This is called Kappa Architecture - combining streaming and batch models\n",
    "\n",
    "```{figure}images/kappa_iceberg.svg\n",
    "```\n",
    "A number of Streaming providers, including Confluent and Redpanda, are now offering this capabiltiy built-in, but we are using the Kafka connector in this example"
   ]
  },
  {
   "cell_type": "code",
   "execution_count": 1,
   "id": "713bb773-673f-4d4d-9345-33f66823564f",
   "metadata": {},
   "outputs": [],
   "source": [
    "from quixstreams import Application\n",
    "from quixstreams.models.serializers.avro import AvroSerializer, AvroDeserializer\n",
    "from quixstreams.models import (\n",
    "    SchemaRegistryClientConfig,\n",
    "    SchemaRegistrySerializationConfig,\n",
    ")\n",
    "import httpx\n",
    "import polars as pl\n",
    "from utils import read_house_prices, catalog"
   ]
  },
  {
   "cell_type": "markdown",
   "id": "77638573-e6b3-4272-8809-ece1e4eedd1f",
   "metadata": {},
   "source": [
    "# Defining our schema\n",
    "\n",
    "We need to define our housing prices Avro schema, so we can use the Avro schema registry. Our Connector will use the Schema registry to create the target Iceberg table"
   ]
  },
  {
   "cell_type": "code",
   "execution_count": 2,
   "id": "e3389efd-1212-45da-b7e1-2ab6f773d855",
   "metadata": {},
   "outputs": [],
   "source": [
    "housing_prices_avro = {\n",
    "        \"type\": \"record\",\n",
    "        \"name\": \"HousePrices\",\n",
    "        \"namespace\": \"housing\",\n",
    "        \"doc\": \"Schema for housing.staging_prices\",\n",
    "        \"fields\": [\n",
    "            {\n",
    "                \"name\": \"transaction_id\",\n",
    "                \"type\": \"string\",\n",
    "            },\n",
    "            {\n",
    "                \"name\": \"price\",\n",
    "                \"type\": \"int\",\n",
    "            },\n",
    "            {\n",
    "                \"name\": \"date_of_transfer\",\n",
    "                \"type\": {\"type\": \"int\", \"logicalType\": \"date\"},\n",
    "            },\n",
    "            {\n",
    "                \"name\": \"postcode\",\n",
    "                \"type\": \"string\",\n",
    "            },\n",
    "            {\n",
    "                \"name\": \"property_type\",\n",
    "                \"type\": \"string\",\n",
    "            },\n",
    "            {\n",
    "                \"name\": \"new_property\",\n",
    "                \"type\": \"string\",\n",
    "            },\n",
    "            {\n",
    "                \"name\": \"duration\",\n",
    "                \"type\": \"string\",\n",
    "            },\n",
    "            {\n",
    "                \"name\": \"paon\",\n",
    "                \"type\": [\"null\", \"string\"],\n",
    "                \"default\": None,\n",
    "            },\n",
    "            {\n",
    "                \"name\": \"saon\",\n",
    "                \"type\": [\"null\", \"string\"],\n",
    "                \"default\": None,\n",
    "            },\n",
    "            {\"name\": \"street\", \"type\": [\"null\", \"string\"], \"default\": None},\n",
    "            {\"name\": \"locality\", \"type\": [\"null\", \"string\"], \"default\": None},\n",
    "            {\"name\": \"town\", \"type\": [\"null\", \"string\"], \"default\": None},\n",
    "            {\"name\": \"district\", \"type\": [\"null\", \"string\"], \"default\": None},\n",
    "            {\"name\": \"county\", \"type\": [\"null\", \"string\"], \"default\": None},\n",
    "            {\n",
    "                \"name\": \"ppd_category_type\",\n",
    "                \"type\": [\"null\", \"string\"],\n",
    "                \"default\": None,\n",
    "            },\n",
    "            {\n",
    "                \"name\": \"record_status\",\n",
    "                \"type\": [\"null\", \"string\"],\n",
    "                \"default\": None,\n",
    "            },\n",
    "        ],\n",
    "    }"
   ]
  },
  {
   "cell_type": "markdown",
   "id": "c3c0db7c-f06b-4908-98b1-d8c9545a2dc5",
   "metadata": {},
   "source": [
    "# Setup Serialization\n",
    "\n",
    "With our Avro schema defined, we need to tell the Serializer about the schema registry so it can be uploaded."
   ]
  },
  {
   "cell_type": "code",
   "execution_count": 3,
   "id": "fa7de946-e2bc-43e5-96cf-d18e36f611e6",
   "metadata": {},
   "outputs": [],
   "source": [
    "schema_registry_client_config = SchemaRegistryClientConfig(\n",
    "    url='http://schema-registry:8081'\n",
    ")"
   ]
  },
  {
   "cell_type": "markdown",
   "id": "321666a7-8988-4fa3-ba13-d63558a9268d",
   "metadata": {},
   "source": [
    "Now we can define an Avro serializer and deserializer - the serializer needs to know the schema up front, but the deserializer can fetch it at read"
   ]
  },
  {
   "cell_type": "code",
   "execution_count": 4,
   "id": "c3855cb3-21d3-431f-9a33-f49bbc6f2946",
   "metadata": {},
   "outputs": [],
   "source": [
    "serializer = AvroSerializer(housing_prices_avro ,schema_registry_client_config=schema_registry_client_config)\n",
    "deserializer = AvroDeserializer(schema_registry_client_config=schema_registry_client_config)"
   ]
  },
  {
   "cell_type": "markdown",
   "id": "8296de2a-3ed3-4467-83c7-139c52b06e65",
   "metadata": {},
   "source": [
    "Using the `quixstream` library we simplify our Kafka producing logic a bit"
   ]
  },
  {
   "cell_type": "code",
   "execution_count": 5,
   "id": "df9699df-dba3-48b0-bd32-7d9ad36053a4",
   "metadata": {},
   "outputs": [],
   "source": [
    "app = Application(broker_address=\"broker:29092\", consumer_group=\"iceberg-demo\")"
   ]
  },
  {
   "cell_type": "code",
   "execution_count": 6,
   "id": "fcec0441-8a9b-4380-b8ee-54d790ae46e4",
   "metadata": {},
   "outputs": [
    {
     "name": "stderr",
     "output_type": "stream",
     "text": [
      "[2025-10-07 21:32:03,555] [INFO] [quixstreams] : Creating a new topic \"housing_prices\" with a config: \"{'num_partitions': 1, 'replication_factor': 1, 'extra_config': {}}\"\n",
      "[2025-10-07 21:32:04,561] [INFO] [quixstreams] : Topic \"housing_prices\" has been created\n"
     ]
    }
   ],
   "source": [
    "housing_prices_topic = app.topic(\"housing_prices\", value_serializer=serializer, value_deserializer=deserializer)"
   ]
  },
  {
   "cell_type": "markdown",
   "id": "c61ab8d7-70ef-4c43-9deb-4f74650deb00",
   "metadata": {},
   "source": [
    "# Publishing Data\n",
    "\n",
    "Now we have a connection to our Kafka broker, as well as a `housing_prices` topic defined, it's time to read in some data.\n",
    "\n",
    "In our case, we are still batching data, but it would be easy to imagine we had a stream of housing purchases we would want to put on Kafka."
   ]
  },
  {
   "cell_type": "code",
   "execution_count": 7,
   "id": "ed9004bf-d00c-4a64-a145-f99e73afb786",
   "metadata": {},
   "outputs": [],
   "source": [
    "df = read_house_prices('data/house_prices/pp-2015.csv')"
   ]
  },
  {
   "cell_type": "markdown",
   "id": "c3fe0f86-e0d1-47e6-90cd-66343d556505",
   "metadata": {},
   "source": [
    "With our data ready, we produce our messages to Kafka"
   ]
  },
  {
   "cell_type": "code",
   "execution_count": 8,
   "id": "488a15da-a7e8-4db4-a4eb-3854bb0f20bf",
   "metadata": {},
   "outputs": [],
   "source": [
    "with app.get_producer() as producer:\n",
    "    for line in df.to_dicts():\n",
    "        message = housing_prices_topic.serialize(key=line['transaction_id'], value=line)\n",
    "        producer.produce(topic=housing_prices_topic.name, key=message.key, value=message.value)"
   ]
  },
  {
   "cell_type": "markdown",
   "id": "311eb3e2-9c22-44c1-8e06-89c0576eb7d3",
   "metadata": {},
   "source": [
    "Now we have a bunch of messages on Kafka lying around - we would like to sink them to an Iceberg table for analytical purposes. \n",
    "\n",
    "We've chosen to use the Iceberg Kafka connector to do this. Kafka Connect is basically a standardised application from Kafka and sinking it somewhere, or sourcing it from somewhere and putting it on Kafka.\n",
    "\n",
    "# Configuring the Connector\n",
    "Kafka Connect can be configured via API - to create a new connector task, we define the configuration in JSON and pass it to the API"
   ]
  },
  {
   "cell_type": "code",
   "execution_count": 9,
   "id": "8972d242-585c-4ef2-88a0-0cca8ea38254",
   "metadata": {},
   "outputs": [],
   "source": [
    "connector_config = {\n",
    "    \"name\": \"housing-prices-connector\",\n",
    "    \"connector.class\": \"org.apache.iceberg.connect.IcebergSinkConnector\",\n",
    "    \"iceberg.catalog.type\": \"rest\", \n",
    "    \"iceberg.catalog.uri\": \"http://lakekeeper:8181/catalog\", # Connecting to our Catalog\n",
    "    \"iceberg.catalog.warehouse\": \"lakehouse\",\n",
    "    \"iceberg.control.topic\": \"iceberg-demo-connector-control\", # A topic the connector uses to keep track of what files are committed\n",
    "    \"iceberg.tables\": \"housing.streaming_prices\", # The table we want to write to\n",
    "    \"iceberg.tables.auto-create-enabled\": \"true\", # Should the Connector create the table?\n",
    "    \"iceberg.tables.evolve-schema-enabled\": \"true\", # Should the Connector alter the table if the schema changes?\n",
    "    \"key.converter\": \"org.apache.kafka.connect.storage.StringConverter\",\n",
    "    \"topics\": housing_prices_topic.name, \n",
    "    \"value.converter\": \"io.confluent.connect.avro.AvroConverter\",\n",
    "    \"value.converter.schema.registry.url\": \"http://schema-registry:8081\",\n",
    "    \"iceberg.control.commit.interval-ms\": 10000 # How often should we commit data? 10 seconds for demo purposes only - default is 5 mins\n",
    "}"
   ]
  },
  {
   "cell_type": "code",
   "execution_count": 10,
   "id": "0d1ee5a7-9cec-43a3-b63b-152823f9df4c",
   "metadata": {},
   "outputs": [
    {
     "data": {
      "text/plain": [
       "201"
      ]
     },
     "execution_count": 10,
     "metadata": {},
     "output_type": "execute_result"
    }
   ],
   "source": [
    "r = httpx.put(\"http://connect:8083/connectors/housing-prices-connector/config\", json=connector_config)\n",
    "r.status_code"
   ]
  },
  {
   "cell_type": "markdown",
   "id": "19014466-ede7-43f0-a191-409c1d49d51b",
   "metadata": {},
   "source": [
    "We can check the current status of the connector to make sure it's running"
   ]
  },
  {
   "cell_type": "code",
   "execution_count": 12,
   "id": "f1291e02-1d6f-4381-8bcc-9eca11e9c9a0",
   "metadata": {},
   "outputs": [
    {
     "data": {
      "text/plain": [
       "{'name': 'housing-prices-connector',\n",
       " 'connector': {'state': 'RUNNING', 'worker_id': 'connect:8083'},\n",
       " 'tasks': [{'id': 0, 'state': 'RUNNING', 'worker_id': 'connect:8083'}],\n",
       " 'type': 'sink'}"
      ]
     },
     "execution_count": 12,
     "metadata": {},
     "output_type": "execute_result"
    }
   ],
   "source": [
    "r = httpx.get(\"http://connect:8083/connectors/housing-prices-connector/status\")\n",
    "r.json()"
   ]
  },
  {
   "cell_type": "markdown",
   "id": "87d11ccb-70c5-4b93-bf21-36fb0b91e530",
   "metadata": {},
   "source": [
    "Now we have an always-on syncer that will periodically write any new data on the Kafka topic to our Iceberg table!"
   ]
  },
  {
   "cell_type": "markdown",
   "id": "1db1ac79-10f5-48d6-b5db-dd7952a7a0b6",
   "metadata": {},
   "source": [
    "And just to prove that we can work with the Iceberg table, just like we've been doing the whole time"
   ]
  },
  {
   "cell_type": "code",
   "execution_count": 13,
   "id": "797d4c19-506c-4d5e-9b22-44f9a77264f4",
   "metadata": {},
   "outputs": [],
   "source": [
    "table = catalog.load_table(\"housing.streaming_prices\")"
   ]
  },
  {
   "cell_type": "code",
   "execution_count": 14,
   "id": "edc7c279-3344-4d7e-ab51-89b740c30519",
   "metadata": {},
   "outputs": [
    {
     "name": "stderr",
     "output_type": "stream",
     "text": [
      "/usr/local/lib/python3.12/site-packages/pyiceberg/avro/decoder.py:185: UserWarning: Falling back to pure Python Avro decoder, missing Cython implementation\n",
      "  warnings.warn(\"Falling back to pure Python Avro decoder, missing Cython implementation\")\n"
     ]
    },
    {
     "data": {
      "text/html": [
       "<div><style>\n",
       ".dataframe > thead > tr,\n",
       ".dataframe > tbody > tr {\n",
       "  text-align: right;\n",
       "  white-space: pre-wrap;\n",
       "}\n",
       "</style>\n",
       "<small>shape: (10, 16)</small><table border=\"1\" class=\"dataframe\"><thead><tr><th>transaction_id</th><th>price</th><th>date_of_transfer</th><th>postcode</th><th>property_type</th><th>new_property</th><th>duration</th><th>paon</th><th>saon</th><th>street</th><th>locality</th><th>town</th><th>district</th><th>county</th><th>ppd_category_type</th><th>record_status</th></tr><tr><td>str</td><td>i32</td><td>date</td><td>str</td><td>str</td><td>str</td><td>str</td><td>str</td><td>str</td><td>str</td><td>str</td><td>str</td><td>str</td><td>str</td><td>str</td><td>str</td></tr></thead><tbody><tr><td>&quot;{25EA59FA-4331-4D50-E050-A8C06…</td><td>130000</td><td>2015-10-23</td><td>&quot;NE29 0RX&quot;</td><td>&quot;T&quot;</td><td>&quot;N&quot;</td><td>&quot;F&quot;</td><td>&quot;77&quot;</td><td>&quot;&quot;</td><td>&quot;TUDOR AVENUE&quot;</td><td>&quot;&quot;</td><td>&quot;NORTH SHIELDS&quot;</td><td>&quot;NORTH TYNESIDE&quot;</td><td>&quot;TYNE AND WEAR&quot;</td><td>&quot;A&quot;</td><td>&quot;A&quot;</td></tr><tr><td>&quot;{25EA59FA-4332-4D50-E050-A8C06…</td><td>97500</td><td>2015-11-03</td><td>&quot;SR4 0AX&quot;</td><td>&quot;T&quot;</td><td>&quot;N&quot;</td><td>&quot;F&quot;</td><td>&quot;13&quot;</td><td>&quot;&quot;</td><td>&quot;FORDHAM ROAD&quot;</td><td>&quot;&quot;</td><td>&quot;SUNDERLAND&quot;</td><td>&quot;SUNDERLAND&quot;</td><td>&quot;TYNE AND WEAR&quot;</td><td>&quot;A&quot;</td><td>&quot;A&quot;</td></tr><tr><td>&quot;{25EA59FA-4333-4D50-E050-A8C06…</td><td>95000</td><td>2015-10-30</td><td>&quot;NE2 4DE&quot;</td><td>&quot;F&quot;</td><td>&quot;N&quot;</td><td>&quot;L&quot;</td><td>&quot;10A&quot;</td><td>&quot;&quot;</td><td>&quot;VICTORIA SQUARE&quot;</td><td>&quot;&quot;</td><td>&quot;NEWCASTLE UPON TYNE&quot;</td><td>&quot;NEWCASTLE UPON TYNE&quot;</td><td>&quot;TYNE AND WEAR&quot;</td><td>&quot;A&quot;</td><td>&quot;A&quot;</td></tr><tr><td>&quot;{25EA59FA-4334-4D50-E050-A8C06…</td><td>115000</td><td>2015-10-12</td><td>&quot;NE40 3HA&quot;</td><td>&quot;T&quot;</td><td>&quot;N&quot;</td><td>&quot;L&quot;</td><td>&quot;41&quot;</td><td>&quot;&quot;</td><td>&quot;SILVERMERE DRIVE&quot;</td><td>&quot;&quot;</td><td>&quot;RYTON&quot;</td><td>&quot;GATESHEAD&quot;</td><td>&quot;TYNE AND WEAR&quot;</td><td>&quot;A&quot;</td><td>&quot;A&quot;</td></tr><tr><td>&quot;{25EA59FA-4335-4D50-E050-A8C06…</td><td>85000</td><td>2015-10-20</td><td>&quot;SR4 0ES&quot;</td><td>&quot;S&quot;</td><td>&quot;N&quot;</td><td>&quot;F&quot;</td><td>&quot;17&quot;</td><td>&quot;&quot;</td><td>&quot;PRESCOT ROAD&quot;</td><td>&quot;&quot;</td><td>&quot;SUNDERLAND&quot;</td><td>&quot;SUNDERLAND&quot;</td><td>&quot;TYNE AND WEAR&quot;</td><td>&quot;A&quot;</td><td>&quot;A&quot;</td></tr><tr><td>&quot;{25EA59FA-4336-4D50-E050-A8C06…</td><td>185000</td><td>2015-09-25</td><td>&quot;NE12 6SZ&quot;</td><td>&quot;S&quot;</td><td>&quot;N&quot;</td><td>&quot;F&quot;</td><td>&quot;40&quot;</td><td>&quot;&quot;</td><td>&quot;CRUMSTONE COURT&quot;</td><td>&quot;&quot;</td><td>&quot;NEWCASTLE UPON TYNE&quot;</td><td>&quot;NORTH TYNESIDE&quot;</td><td>&quot;TYNE AND WEAR&quot;</td><td>&quot;A&quot;</td><td>&quot;A&quot;</td></tr><tr><td>&quot;{25EA59FA-4337-4D50-E050-A8C06…</td><td>155000</td><td>2015-11-03</td><td>&quot;NE16 3ES&quot;</td><td>&quot;S&quot;</td><td>&quot;N&quot;</td><td>&quot;L&quot;</td><td>&quot;35&quot;</td><td>&quot;&quot;</td><td>&quot;GROSVENOR AVENUE&quot;</td><td>&quot;SWALWELL&quot;</td><td>&quot;NEWCASTLE UPON TYNE&quot;</td><td>&quot;GATESHEAD&quot;</td><td>&quot;TYNE AND WEAR&quot;</td><td>&quot;A&quot;</td><td>&quot;A&quot;</td></tr><tr><td>&quot;{25EA59FA-4338-4D50-E050-A8C06…</td><td>120000</td><td>2015-10-19</td><td>&quot;NE6 1UL&quot;</td><td>&quot;F&quot;</td><td>&quot;N&quot;</td><td>&quot;L&quot;</td><td>&quot;THE MOORINGS&quot;</td><td>&quot;14&quot;</td><td>&quot;ST LAWRENCE ROAD&quot;</td><td>&quot;ST PETERS BASIN&quot;</td><td>&quot;NEWCASTLE UPON TYNE&quot;</td><td>&quot;NEWCASTLE UPON TYNE&quot;</td><td>&quot;TYNE AND WEAR&quot;</td><td>&quot;A&quot;</td><td>&quot;A&quot;</td></tr><tr><td>&quot;{25EA59FA-4339-4D50-E050-A8C06…</td><td>74000</td><td>2015-10-29</td><td>&quot;SR4 7HA&quot;</td><td>&quot;T&quot;</td><td>&quot;N&quot;</td><td>&quot;F&quot;</td><td>&quot;10&quot;</td><td>&quot;&quot;</td><td>&quot;THELMA STREET&quot;</td><td>&quot;&quot;</td><td>&quot;SUNDERLAND&quot;</td><td>&quot;SUNDERLAND&quot;</td><td>&quot;TYNE AND WEAR&quot;</td><td>&quot;A&quot;</td><td>&quot;A&quot;</td></tr><tr><td>&quot;{25EA59FA-4530-4D50-E050-A8C06…</td><td>174850</td><td>2015-09-30</td><td>&quot;NE13 9BD&quot;</td><td>&quot;T&quot;</td><td>&quot;Y&quot;</td><td>&quot;F&quot;</td><td>&quot;117&quot;</td><td>&quot;&quot;</td><td>&quot;ROSEDEN WAY&quot;</td><td>&quot;&quot;</td><td>&quot;NEWCASTLE UPON TYNE&quot;</td><td>&quot;NEWCASTLE UPON TYNE&quot;</td><td>&quot;TYNE AND WEAR&quot;</td><td>&quot;A&quot;</td><td>&quot;A&quot;</td></tr></tbody></table></div>"
      ],
      "text/plain": [
       "shape: (10, 16)\n",
       "┌────────────┬────────┬────────────┬──────────┬───┬────────────┬───────────┬───────────┬───────────┐\n",
       "│ transactio ┆ price  ┆ date_of_tr ┆ postcode ┆ … ┆ district   ┆ county    ┆ ppd_categ ┆ record_st │\n",
       "│ n_id       ┆ ---    ┆ ansfer     ┆ ---      ┆   ┆ ---        ┆ ---       ┆ ory_type  ┆ atus      │\n",
       "│ ---        ┆ i32    ┆ ---        ┆ str      ┆   ┆ str        ┆ str       ┆ ---       ┆ ---       │\n",
       "│ str        ┆        ┆ date       ┆          ┆   ┆            ┆           ┆ str       ┆ str       │\n",
       "╞════════════╪════════╪════════════╪══════════╪═══╪════════════╪═══════════╪═══════════╪═══════════╡\n",
       "│ {25EA59FA- ┆ 130000 ┆ 2015-10-23 ┆ NE29 0RX ┆ … ┆ NORTH      ┆ TYNE AND  ┆ A         ┆ A         │\n",
       "│ 4331-4D50- ┆        ┆            ┆          ┆   ┆ TYNESIDE   ┆ WEAR      ┆           ┆           │\n",
       "│ E050-A8C06 ┆        ┆            ┆          ┆   ┆            ┆           ┆           ┆           │\n",
       "│ …          ┆        ┆            ┆          ┆   ┆            ┆           ┆           ┆           │\n",
       "│ {25EA59FA- ┆ 97500  ┆ 2015-11-03 ┆ SR4 0AX  ┆ … ┆ SUNDERLAND ┆ TYNE AND  ┆ A         ┆ A         │\n",
       "│ 4332-4D50- ┆        ┆            ┆          ┆   ┆            ┆ WEAR      ┆           ┆           │\n",
       "│ E050-A8C06 ┆        ┆            ┆          ┆   ┆            ┆           ┆           ┆           │\n",
       "│ …          ┆        ┆            ┆          ┆   ┆            ┆           ┆           ┆           │\n",
       "│ {25EA59FA- ┆ 95000  ┆ 2015-10-30 ┆ NE2 4DE  ┆ … ┆ NEWCASTLE  ┆ TYNE AND  ┆ A         ┆ A         │\n",
       "│ 4333-4D50- ┆        ┆            ┆          ┆   ┆ UPON TYNE  ┆ WEAR      ┆           ┆           │\n",
       "│ E050-A8C06 ┆        ┆            ┆          ┆   ┆            ┆           ┆           ┆           │\n",
       "│ …          ┆        ┆            ┆          ┆   ┆            ┆           ┆           ┆           │\n",
       "│ {25EA59FA- ┆ 115000 ┆ 2015-10-12 ┆ NE40 3HA ┆ … ┆ GATESHEAD  ┆ TYNE AND  ┆ A         ┆ A         │\n",
       "│ 4334-4D50- ┆        ┆            ┆          ┆   ┆            ┆ WEAR      ┆           ┆           │\n",
       "│ E050-A8C06 ┆        ┆            ┆          ┆   ┆            ┆           ┆           ┆           │\n",
       "│ …          ┆        ┆            ┆          ┆   ┆            ┆           ┆           ┆           │\n",
       "│ {25EA59FA- ┆ 85000  ┆ 2015-10-20 ┆ SR4 0ES  ┆ … ┆ SUNDERLAND ┆ TYNE AND  ┆ A         ┆ A         │\n",
       "│ 4335-4D50- ┆        ┆            ┆          ┆   ┆            ┆ WEAR      ┆           ┆           │\n",
       "│ E050-A8C06 ┆        ┆            ┆          ┆   ┆            ┆           ┆           ┆           │\n",
       "│ …          ┆        ┆            ┆          ┆   ┆            ┆           ┆           ┆           │\n",
       "│ {25EA59FA- ┆ 185000 ┆ 2015-09-25 ┆ NE12 6SZ ┆ … ┆ NORTH      ┆ TYNE AND  ┆ A         ┆ A         │\n",
       "│ 4336-4D50- ┆        ┆            ┆          ┆   ┆ TYNESIDE   ┆ WEAR      ┆           ┆           │\n",
       "│ E050-A8C06 ┆        ┆            ┆          ┆   ┆            ┆           ┆           ┆           │\n",
       "│ …          ┆        ┆            ┆          ┆   ┆            ┆           ┆           ┆           │\n",
       "│ {25EA59FA- ┆ 155000 ┆ 2015-11-03 ┆ NE16 3ES ┆ … ┆ GATESHEAD  ┆ TYNE AND  ┆ A         ┆ A         │\n",
       "│ 4337-4D50- ┆        ┆            ┆          ┆   ┆            ┆ WEAR      ┆           ┆           │\n",
       "│ E050-A8C06 ┆        ┆            ┆          ┆   ┆            ┆           ┆           ┆           │\n",
       "│ …          ┆        ┆            ┆          ┆   ┆            ┆           ┆           ┆           │\n",
       "│ {25EA59FA- ┆ 120000 ┆ 2015-10-19 ┆ NE6 1UL  ┆ … ┆ NEWCASTLE  ┆ TYNE AND  ┆ A         ┆ A         │\n",
       "│ 4338-4D50- ┆        ┆            ┆          ┆   ┆ UPON TYNE  ┆ WEAR      ┆           ┆           │\n",
       "│ E050-A8C06 ┆        ┆            ┆          ┆   ┆            ┆           ┆           ┆           │\n",
       "│ …          ┆        ┆            ┆          ┆   ┆            ┆           ┆           ┆           │\n",
       "│ {25EA59FA- ┆ 74000  ┆ 2015-10-29 ┆ SR4 7HA  ┆ … ┆ SUNDERLAND ┆ TYNE AND  ┆ A         ┆ A         │\n",
       "│ 4339-4D50- ┆        ┆            ┆          ┆   ┆            ┆ WEAR      ┆           ┆           │\n",
       "│ E050-A8C06 ┆        ┆            ┆          ┆   ┆            ┆           ┆           ┆           │\n",
       "│ …          ┆        ┆            ┆          ┆   ┆            ┆           ┆           ┆           │\n",
       "│ {25EA59FA- ┆ 174850 ┆ 2015-09-30 ┆ NE13 9BD ┆ … ┆ NEWCASTLE  ┆ TYNE AND  ┆ A         ┆ A         │\n",
       "│ 4530-4D50- ┆        ┆            ┆          ┆   ┆ UPON TYNE  ┆ WEAR      ┆           ┆           │\n",
       "│ E050-A8C06 ┆        ┆            ┆          ┆   ┆            ┆           ┆           ┆           │\n",
       "│ …          ┆        ┆            ┆          ┆   ┆            ┆           ┆           ┆           │\n",
       "└────────────┴────────┴────────────┴──────────┴───┴────────────┴───────────┴───────────┴───────────┘"
      ]
     },
     "execution_count": 14,
     "metadata": {},
     "output_type": "execute_result"
    }
   ],
   "source": [
    "pl.scan_iceberg(table).head(10).collect()"
   ]
  },
  {
   "cell_type": "code",
   "execution_count": null,
   "id": "7498b507-0b33-42d8-b517-b111171ca76b",
   "metadata": {},
   "outputs": [],
   "source": []
  }
 ],
 "metadata": {
  "kernelspec": {
   "display_name": "Python 3 (ipykernel)",
   "language": "python",
   "name": "python3"
  },
  "language_info": {
   "codemirror_mode": {
    "name": "ipython",
    "version": 3
   },
   "file_extension": ".py",
   "mimetype": "text/x-python",
   "name": "python",
   "nbconvert_exporter": "python",
   "pygments_lexer": "ipython3",
   "version": "3.12.11"
  }
 },
 "nbformat": 4,
 "nbformat_minor": 5
}
