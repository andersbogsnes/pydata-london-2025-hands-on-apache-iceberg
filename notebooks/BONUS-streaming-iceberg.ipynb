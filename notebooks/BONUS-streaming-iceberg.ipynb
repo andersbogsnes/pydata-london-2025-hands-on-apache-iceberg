{
 "cells": [
  {
   "cell_type": "markdown",
   "id": "aee031fe-9599-4b23-afae-189de5d26cf5",
   "metadata": {},
   "source": [
    "# BONUS: Streaming Iceberg data\n",
    "\n",
    "An interesting pattern that is emerging currently is using Iceberg as the sink for streaming events. Iceberg is great for persisting large tables, and it's easy to consume from your existing analytical stack as we've learned today.\n",
    "\n",
    "Redpanda has native Iceberg storage built-in and Confluent recently launched Tableflow to enable this pattern. \n",
    "\n",
    "We'll use Kafka Connect to replicate the same functionality here."
   ]
  },
  {
   "cell_type": "code",
   "execution_count": 46,
   "id": "713bb773-673f-4d4d-9345-33f66823564f",
   "metadata": {},
   "outputs": [],
   "source": [
    "from quixstreams import Application\n",
    "from quixstreams.models.serializers.avro import AvroSerializer, AvroDeserializer\n",
    "from quixstreams.models import (\n",
    "    SchemaRegistryClientConfig,\n",
    "    SchemaRegistrySerializationConfig,\n",
    ")\n",
    "import httpx\n",
    "import polars as pl\n",
    "import csv\n",
    "from utils import read_house_prices, catalog"
   ]
  },
  {
   "cell_type": "markdown",
   "id": "77638573-e6b3-4272-8809-ece1e4eedd1f",
   "metadata": {},
   "source": [
    "# Defining our schema\n",
    "\n",
    "We need to define our housing prices Avro schema, so we can use the Avro schema registry"
   ]
  },
  {
   "cell_type": "code",
   "execution_count": 64,
   "id": "e3389efd-1212-45da-b7e1-2ab6f773d855",
   "metadata": {},
   "outputs": [],
   "source": [
    "housing_prices_avro = {\n",
    "        \"type\": \"record\",\n",
    "        \"name\": \"HousePrices\",\n",
    "        \"namespace\": \"housing\",\n",
    "        \"doc\": \"Schema for housing.staging_prices\",\n",
    "        \"fields\": [\n",
    "            {\n",
    "                \"name\": \"transaction_id\",\n",
    "                \"type\": \"string\",\n",
    "            },\n",
    "            {\n",
    "                \"name\": \"price\",\n",
    "                \"type\": \"int\",\n",
    "            },\n",
    "            {\n",
    "                \"name\": \"date_of_transfer\",\n",
    "                \"type\": {\"type\": \"int\", \"logicalType\": \"date\"},\n",
    "            },\n",
    "            {\n",
    "                \"name\": \"postcode\",\n",
    "                \"type\": \"string\",\n",
    "            },\n",
    "            {\n",
    "                \"name\": \"property_type\",\n",
    "                \"type\": \"string\",\n",
    "            },\n",
    "            {\n",
    "                \"name\": \"new_property\",\n",
    "                \"type\": \"string\",\n",
    "            },\n",
    "            {\n",
    "                \"name\": \"duration\",\n",
    "                \"type\": \"string\",\n",
    "            },\n",
    "            {\n",
    "                \"name\": \"paon\",\n",
    "                \"type\": [\"null\", \"string\"],\n",
    "                \"default\": None,\n",
    "            },\n",
    "            {\n",
    "                \"name\": \"saon\",\n",
    "                \"type\": [\"null\", \"string\"],\n",
    "                \"default\": None,\n",
    "            },\n",
    "            {\"name\": \"street\", \"type\": [\"null\", \"string\"], \"default\": None},\n",
    "            {\"name\": \"locality\", \"type\": [\"null\", \"string\"], \"default\": None},\n",
    "            {\"name\": \"town\", \"type\": [\"null\", \"string\"], \"default\": None},\n",
    "            {\"name\": \"district\", \"type\": [\"null\", \"string\"], \"default\": None},\n",
    "            {\"name\": \"county\", \"type\": [\"null\", \"string\"], \"default\": None},\n",
    "            {\n",
    "                \"name\": \"ppd_category_type\",\n",
    "                \"type\": [\"null\", \"string\"],\n",
    "                \"default\": None,\n",
    "            },\n",
    "            {\n",
    "                \"name\": \"record_status\",\n",
    "                \"type\": [\"null\", \"string\"],\n",
    "                \"default\": None,\n",
    "            },\n",
    "        ],\n",
    "    }"
   ]
  },
  {
   "cell_type": "markdown",
   "id": "c3c0db7c-f06b-4908-98b1-d8c9545a2dc5",
   "metadata": {},
   "source": [
    "Next, we need to tell the Serializer about the schema registry"
   ]
  },
  {
   "cell_type": "code",
   "execution_count": 31,
   "id": "fa7de946-e2bc-43e5-96cf-d18e36f611e6",
   "metadata": {},
   "outputs": [],
   "source": [
    "schema_registry_client_config = SchemaRegistryClientConfig(\n",
    "    url='http://schema-registry:8081'\n",
    ")"
   ]
  },
  {
   "cell_type": "markdown",
   "id": "321666a7-8988-4fa3-ba13-d63558a9268d",
   "metadata": {},
   "source": [
    "Now we can define an Avro serializer and deserializer - the serializer needs to know the schema up front, but the deserializer can fetch it at read"
   ]
  },
  {
   "cell_type": "code",
   "execution_count": 65,
   "id": "c3855cb3-21d3-431f-9a33-f49bbc6f2946",
   "metadata": {},
   "outputs": [],
   "source": [
    "serializer = AvroSerializer(housing_prices_avro ,schema_registry_client_config=schema_registry_client_config)\n",
    "deserializer = AvroDeserializer(schema_registry_client_config=schema_registry_client_config)"
   ]
  },
  {
   "cell_type": "markdown",
   "id": "8296de2a-3ed3-4467-83c7-139c52b06e65",
   "metadata": {},
   "source": [
    "Using the `quixstream` library we simplify our Kafka producing logic a bit"
   ]
  },
  {
   "cell_type": "code",
   "execution_count": 33,
   "id": "df9699df-dba3-48b0-bd32-7d9ad36053a4",
   "metadata": {},
   "outputs": [],
   "source": [
    "app = Application(broker_address=\"broker:29092\", consumer_group=\"iceberg-demo\")"
   ]
  },
  {
   "cell_type": "code",
   "execution_count": 34,
   "id": "fcec0441-8a9b-4380-b8ee-54d790ae46e4",
   "metadata": {},
   "outputs": [],
   "source": [
    "housing_prices_topic = app.topic(\"housing_prices\", value_serializer=serializer, value_deserializer=deserializer)"
   ]
  },
  {
   "cell_type": "markdown",
   "id": "c61ab8d7-70ef-4c43-9deb-4f74650deb00",
   "metadata": {},
   "source": [
    "Now we have a connection to our Kafka broker, as well as a `housing_prices` topic defined, it's time to read in some data.\n",
    "\n",
    "In our case, we are still batching data, but it would be easy to imagine we had a stream of housing purchases we would want to put on Kafka."
   ]
  },
  {
   "cell_type": "code",
   "execution_count": 62,
   "id": "ed9004bf-d00c-4a64-a145-f99e73afb786",
   "metadata": {},
   "outputs": [],
   "source": [
    "df = read_house_prices('data/house_prices/pp-2015.csv')"
   ]
  },
  {
   "cell_type": "markdown",
   "id": "c3fe0f86-e0d1-47e6-90cd-66343d556505",
   "metadata": {},
   "source": [
    "With our data ready, we produce our messages to Kafka"
   ]
  },
  {
   "cell_type": "code",
   "execution_count": 63,
   "id": "488a15da-a7e8-4db4-a4eb-3854bb0f20bf",
   "metadata": {},
   "outputs": [],
   "source": [
    "with app.get_producer() as producer:\n",
    "    for line in df.to_dicts():\n",
    "        message = housing_prices_topic.serialize(key=line['transaction_id'], value=line)\n",
    "        producer.produce(topic=housing_prices_topic.name, key=message.key, value=message.value)"
   ]
  },
  {
   "cell_type": "markdown",
   "id": "311eb3e2-9c22-44c1-8e06-89c0576eb7d3",
   "metadata": {},
   "source": [
    "Now we have a bunch of messages on Kafka lying around - we would like to sink them to an Iceberg table for analytical purposes. We've chosen to use the Iceberg Kafka connector to do this. Kafka Connect is basically a standardised application from Kafka and sinking it somewhere, or sourcing it from somewhere and putting it on Kafka.\n",
    "\n",
    "Kafka Connect can be configured via API - to create a new connector task, we define the configuration in JSON and pass it to the API"
   ]
  },
  {
   "cell_type": "code",
   "execution_count": 66,
   "id": "8972d242-585c-4ef2-88a0-0cca8ea38254",
   "metadata": {},
   "outputs": [],
   "source": [
    "connector_config = {\n",
    "    \"name\": \"housing-prices-connector\",\n",
    "    \"connector.class\": \"io.tabular.iceberg.connect.IcebergSinkConnector\",\n",
    "    \"iceberg.catalog.type\": \"rest\", \n",
    "    \"iceberg.catalog.uri\": \"http://lakekeeper:8181/catalog\", # Connecting to our Catalog\n",
    "    \"iceberg.catalog.warehouse\": \"lakehouse\",\n",
    "    \"iceberg.control.topic\": \"iceberg-demo-connector-control\", # A topic the connector uses to keep track of what files are committed\n",
    "    \"iceberg.tables\": \"housing.streaming_prices\", # The table we want to write to\n",
    "    \"iceberg.tables.auto-create-enabled\": \"true\", # Should the Connector create the table?\n",
    "    \"iceberg.tables.evolve-schema-enabled\": \"true\", # Should the Connector alter the table if the schema changes?\n",
    "    \"key.converter\": \"org.apache.kafka.connect.storage.StringConverter\",\n",
    "    \"topics\": housing_prices_topic.name, \n",
    "    \"value.converter\": \"io.confluent.connect.avro.AvroConverter\",\n",
    "    \"value.converter.schema.registry.url\": \"http://schema-registry:8081\",\n",
    "    \"iceberg.control.commit.interval-ms\": 10000 # How often should we commit data? 10 seconds for demo purposes only - default is 5 mins\n",
    "}"
   ]
  },
  {
   "cell_type": "code",
   "execution_count": 68,
   "id": "0d1ee5a7-9cec-43a3-b63b-152823f9df4c",
   "metadata": {},
   "outputs": [
    {
     "data": {
      "text/plain": [
       "(200,\n",
       " {'name': 'housing-prices-connector',\n",
       "  'config': {'name': 'housing-prices-connector',\n",
       "   'connector.class': 'io.tabular.iceberg.connect.IcebergSinkConnector',\n",
       "   'iceberg.catalog.type': 'rest',\n",
       "   'iceberg.catalog.uri': 'http://lakekeeper:8181/catalog',\n",
       "   'iceberg.catalog.warehouse': 'lakehouse',\n",
       "   'iceberg.control.topic': 'iceberg-demo-connector-control',\n",
       "   'iceberg.tables': 'housing.streaming_prices',\n",
       "   'iceberg.tables.auto-create-enabled': 'true',\n",
       "   'iceberg.tables.evolve-schema-enabled': 'true',\n",
       "   'key.converter': 'org.apache.kafka.connect.storage.StringConverter',\n",
       "   'topics': 'housing_prices',\n",
       "   'value.converter': 'io.confluent.connect.avro.AvroConverter',\n",
       "   'value.converter.schema.registry.url': 'http://schema-registry:8081',\n",
       "   'iceberg.control.commit.interval-ms': '10000'},\n",
       "  'tasks': [{'connector': 'housing-prices-connector', 'task': 0}],\n",
       "  'type': 'sink'})"
      ]
     },
     "execution_count": 68,
     "metadata": {},
     "output_type": "execute_result"
    }
   ],
   "source": [
    "r = httpx.put(\"http://connect:8083/connectors/housing-prices-connector/config\", json=connector_config)\n",
    "r.status_code"
   ]
  },
  {
   "cell_type": "markdown",
   "id": "19014466-ede7-43f0-a191-409c1d49d51b",
   "metadata": {},
   "source": [
    "We can check the current status of the connector to make sure it's running"
   ]
  },
  {
   "cell_type": "code",
   "execution_count": 70,
   "id": "f1291e02-1d6f-4381-8bcc-9eca11e9c9a0",
   "metadata": {},
   "outputs": [
    {
     "data": {
      "text/plain": [
       "{'name': 'housing-prices-connector',\n",
       " 'connector': {'state': 'RUNNING', 'worker_id': 'connect:8083'},\n",
       " 'tasks': [{'id': 0, 'state': 'RUNNING', 'worker_id': 'connect:8083'}],\n",
       " 'type': 'sink'}"
      ]
     },
     "execution_count": 70,
     "metadata": {},
     "output_type": "execute_result"
    }
   ],
   "source": [
    "r = httpx.get(\"http://connect:8083/connectors/housing-prices-connector/status\")\n",
    "r.json()"
   ]
  },
  {
   "cell_type": "markdown",
   "id": "1db1ac79-10f5-48d6-b5db-dd7952a7a0b6",
   "metadata": {},
   "source": [
    "And just to prove that we can work with the Iceberg table, just like we've been doing the whole time"
   ]
  },
  {
   "cell_type": "code",
   "execution_count": 71,
   "id": "797d4c19-506c-4d5e-9b22-44f9a77264f4",
   "metadata": {},
   "outputs": [],
   "source": [
    "table = catalog.load_table(\"housing.streaming_prices\")"
   ]
  },
  {
   "cell_type": "code",
   "execution_count": 72,
   "id": "edc7c279-3344-4d7e-ab51-89b740c30519",
   "metadata": {},
   "outputs": [
    {
     "name": "stderr",
     "output_type": "stream",
     "text": [
      "/usr/local/lib/python3.12/site-packages/pyiceberg/avro/decoder.py:185: UserWarning: Falling back to pure Python Avro decoder, missing Cython implementation\n",
      "  warnings.warn(\"Falling back to pure Python Avro decoder, missing Cython implementation\")\n"
     ]
    },
    {
     "data": {
      "text/html": [
       "<div><style>\n",
       ".dataframe > thead > tr,\n",
       ".dataframe > tbody > tr {\n",
       "  text-align: right;\n",
       "  white-space: pre-wrap;\n",
       "}\n",
       "</style>\n",
       "<small>shape: (10, 16)</small><table border=\"1\" class=\"dataframe\"><thead><tr><th>transaction_id</th><th>price</th><th>date_of_transfer</th><th>postcode</th><th>property_type</th><th>new_property</th><th>duration</th><th>paon</th><th>saon</th><th>street</th><th>locality</th><th>town</th><th>district</th><th>county</th><th>ppd_category_type</th><th>record_status</th></tr><tr><td>str</td><td>i32</td><td>date</td><td>str</td><td>str</td><td>str</td><td>str</td><td>str</td><td>str</td><td>str</td><td>str</td><td>str</td><td>str</td><td>str</td><td>str</td><td>str</td></tr></thead><tbody><tr><td>&quot;{582D0636-D373-8F22-E053-6C04A…</td><td>309950</td><td>2017-06-16</td><td>&quot;DE73 6UX&quot;</td><td>&quot;D&quot;</td><td>&quot;Y&quot;</td><td>&quot;F&quot;</td><td>&quot;93&quot;</td><td>&quot;&quot;</td><td>&quot;WOODGATE DRIVE&quot;</td><td>&quot;CHELLASTON&quot;</td><td>&quot;DERBY&quot;</td><td>&quot;CITY OF DERBY&quot;</td><td>&quot;CITY OF DERBY&quot;</td><td>&quot;A&quot;</td><td>&quot;A&quot;</td></tr><tr><td>&quot;{582D0636-D374-8F22-E053-6C04A…</td><td>245000</td><td>2017-04-26</td><td>&quot;S21 1JG&quot;</td><td>&quot;D&quot;</td><td>&quot;N&quot;</td><td>&quot;F&quot;</td><td>&quot;4&quot;</td><td>&quot;&quot;</td><td>&quot;HOLME MEADOWS&quot;</td><td>&quot;KILLAMARSH&quot;</td><td>&quot;SHEFFIELD&quot;</td><td>&quot;NORTH EAST DERBYSHIRE&quot;</td><td>&quot;DERBYSHIRE&quot;</td><td>&quot;A&quot;</td><td>&quot;A&quot;</td></tr><tr><td>&quot;{582D0636-D375-8F22-E053-6C04A…</td><td>83500</td><td>2017-05-31</td><td>&quot;NG16 4EH&quot;</td><td>&quot;F&quot;</td><td>&quot;Y&quot;</td><td>&quot;L&quot;</td><td>&quot;ST GEORGES COURT, 51A&quot;</td><td>&quot;APARTMENT 3&quot;</td><td>&quot;CROMFORD ROAD&quot;</td><td>&quot;LANGLEY MILL&quot;</td><td>&quot;NOTTINGHAM&quot;</td><td>&quot;AMBER VALLEY&quot;</td><td>&quot;DERBYSHIRE&quot;</td><td>&quot;A&quot;</td><td>&quot;A&quot;</td></tr><tr><td>&quot;{582D0636-D376-8F22-E053-6C04A…</td><td>255000</td><td>2017-06-30</td><td>&quot;DE73 6WY&quot;</td><td>&quot;D&quot;</td><td>&quot;Y&quot;</td><td>&quot;F&quot;</td><td>&quot;25&quot;</td><td>&quot;&quot;</td><td>&quot;KINGSGATE ROAD&quot;</td><td>&quot;CHELLASTON&quot;</td><td>&quot;DERBY&quot;</td><td>&quot;SOUTH DERBYSHIRE&quot;</td><td>&quot;DERBYSHIRE&quot;</td><td>&quot;A&quot;</td><td>&quot;A&quot;</td></tr><tr><td>&quot;{582D0636-D377-8F22-E053-6C04A…</td><td>249950</td><td>2017-07-07</td><td>&quot;DE75 7TF&quot;</td><td>&quot;D&quot;</td><td>&quot;Y&quot;</td><td>&quot;F&quot;</td><td>&quot;23&quot;</td><td>&quot;&quot;</td><td>&quot;VARLEY CLOSE&quot;</td><td>&quot;&quot;</td><td>&quot;HEANOR&quot;</td><td>&quot;AMBER VALLEY&quot;</td><td>&quot;DERBYSHIRE&quot;</td><td>&quot;A&quot;</td><td>&quot;A&quot;</td></tr><tr><td>&quot;{582D0636-D378-8F22-E053-6C04A…</td><td>191995</td><td>2017-06-16</td><td>&quot;DE73 6XA&quot;</td><td>&quot;S&quot;</td><td>&quot;Y&quot;</td><td>&quot;F&quot;</td><td>&quot;34&quot;</td><td>&quot;&quot;</td><td>&quot;KINGSGATE ROAD&quot;</td><td>&quot;CHELLASTON&quot;</td><td>&quot;DERBY&quot;</td><td>&quot;SOUTH DERBYSHIRE&quot;</td><td>&quot;DERBYSHIRE&quot;</td><td>&quot;A&quot;</td><td>&quot;A&quot;</td></tr><tr><td>&quot;{582D0636-D379-8F22-E053-6C04A…</td><td>421000</td><td>2017-07-07</td><td>&quot;DE45 1AQ&quot;</td><td>&quot;F&quot;</td><td>&quot;N&quot;</td><td>&quot;L&quot;</td><td>&quot;RUTLAND MILL&quot;</td><td>&quot;THE PENTHOUSE&quot;</td><td>&quot;COOMBS ROAD&quot;</td><td>&quot;&quot;</td><td>&quot;BAKEWELL&quot;</td><td>&quot;DERBYSHIRE DALES&quot;</td><td>&quot;DERBYSHIRE&quot;</td><td>&quot;A&quot;</td><td>&quot;A&quot;</td></tr><tr><td>&quot;{582D0636-D37A-8F22-E053-6C04A…</td><td>250000</td><td>2017-06-29</td><td>&quot;S21 1JG&quot;</td><td>&quot;D&quot;</td><td>&quot;N&quot;</td><td>&quot;F&quot;</td><td>&quot;6&quot;</td><td>&quot;&quot;</td><td>&quot;HOLME MEADOWS&quot;</td><td>&quot;KILLAMARSH&quot;</td><td>&quot;SHEFFIELD&quot;</td><td>&quot;NORTH EAST DERBYSHIRE&quot;</td><td>&quot;DERBYSHIRE&quot;</td><td>&quot;A&quot;</td><td>&quot;A&quot;</td></tr><tr><td>&quot;{582D0636-D37B-8F22-E053-6C04A…</td><td>196950</td><td>2017-07-12</td><td>&quot;DE75 7TF&quot;</td><td>&quot;D&quot;</td><td>&quot;Y&quot;</td><td>&quot;F&quot;</td><td>&quot;24&quot;</td><td>&quot;&quot;</td><td>&quot;VARLEY CLOSE&quot;</td><td>&quot;&quot;</td><td>&quot;HEANOR&quot;</td><td>&quot;AMBER VALLEY&quot;</td><td>&quot;DERBYSHIRE&quot;</td><td>&quot;A&quot;</td><td>&quot;A&quot;</td></tr><tr><td>&quot;{582D0636-D37C-8F22-E053-6C04A…</td><td>229950</td><td>2017-07-14</td><td>&quot;DE75 7TF&quot;</td><td>&quot;D&quot;</td><td>&quot;Y&quot;</td><td>&quot;F&quot;</td><td>&quot;25&quot;</td><td>&quot;&quot;</td><td>&quot;VARLEY CLOSE&quot;</td><td>&quot;&quot;</td><td>&quot;HEANOR&quot;</td><td>&quot;AMBER VALLEY&quot;</td><td>&quot;DERBYSHIRE&quot;</td><td>&quot;A&quot;</td><td>&quot;A&quot;</td></tr></tbody></table></div>"
      ],
      "text/plain": [
       "shape: (10, 16)\n",
       "┌────────────┬────────┬────────────┬──────────┬───┬────────────┬───────────┬───────────┬───────────┐\n",
       "│ transactio ┆ price  ┆ date_of_tr ┆ postcode ┆ … ┆ district   ┆ county    ┆ ppd_categ ┆ record_st │\n",
       "│ n_id       ┆ ---    ┆ ansfer     ┆ ---      ┆   ┆ ---        ┆ ---       ┆ ory_type  ┆ atus      │\n",
       "│ ---        ┆ i32    ┆ ---        ┆ str      ┆   ┆ str        ┆ str       ┆ ---       ┆ ---       │\n",
       "│ str        ┆        ┆ date       ┆          ┆   ┆            ┆           ┆ str       ┆ str       │\n",
       "╞════════════╪════════╪════════════╪══════════╪═══╪════════════╪═══════════╪═══════════╪═══════════╡\n",
       "│ {582D0636- ┆ 309950 ┆ 2017-06-16 ┆ DE73 6UX ┆ … ┆ CITY OF    ┆ CITY OF   ┆ A         ┆ A         │\n",
       "│ D373-8F22- ┆        ┆            ┆          ┆   ┆ DERBY      ┆ DERBY     ┆           ┆           │\n",
       "│ E053-6C04A ┆        ┆            ┆          ┆   ┆            ┆           ┆           ┆           │\n",
       "│ …          ┆        ┆            ┆          ┆   ┆            ┆           ┆           ┆           │\n",
       "│ {582D0636- ┆ 245000 ┆ 2017-04-26 ┆ S21 1JG  ┆ … ┆ NORTH EAST ┆ DERBYSHIR ┆ A         ┆ A         │\n",
       "│ D374-8F22- ┆        ┆            ┆          ┆   ┆ DERBYSHIRE ┆ E         ┆           ┆           │\n",
       "│ E053-6C04A ┆        ┆            ┆          ┆   ┆            ┆           ┆           ┆           │\n",
       "│ …          ┆        ┆            ┆          ┆   ┆            ┆           ┆           ┆           │\n",
       "│ {582D0636- ┆ 83500  ┆ 2017-05-31 ┆ NG16 4EH ┆ … ┆ AMBER      ┆ DERBYSHIR ┆ A         ┆ A         │\n",
       "│ D375-8F22- ┆        ┆            ┆          ┆   ┆ VALLEY     ┆ E         ┆           ┆           │\n",
       "│ E053-6C04A ┆        ┆            ┆          ┆   ┆            ┆           ┆           ┆           │\n",
       "│ …          ┆        ┆            ┆          ┆   ┆            ┆           ┆           ┆           │\n",
       "│ {582D0636- ┆ 255000 ┆ 2017-06-30 ┆ DE73 6WY ┆ … ┆ SOUTH      ┆ DERBYSHIR ┆ A         ┆ A         │\n",
       "│ D376-8F22- ┆        ┆            ┆          ┆   ┆ DERBYSHIRE ┆ E         ┆           ┆           │\n",
       "│ E053-6C04A ┆        ┆            ┆          ┆   ┆            ┆           ┆           ┆           │\n",
       "│ …          ┆        ┆            ┆          ┆   ┆            ┆           ┆           ┆           │\n",
       "│ {582D0636- ┆ 249950 ┆ 2017-07-07 ┆ DE75 7TF ┆ … ┆ AMBER      ┆ DERBYSHIR ┆ A         ┆ A         │\n",
       "│ D377-8F22- ┆        ┆            ┆          ┆   ┆ VALLEY     ┆ E         ┆           ┆           │\n",
       "│ E053-6C04A ┆        ┆            ┆          ┆   ┆            ┆           ┆           ┆           │\n",
       "│ …          ┆        ┆            ┆          ┆   ┆            ┆           ┆           ┆           │\n",
       "│ {582D0636- ┆ 191995 ┆ 2017-06-16 ┆ DE73 6XA ┆ … ┆ SOUTH      ┆ DERBYSHIR ┆ A         ┆ A         │\n",
       "│ D378-8F22- ┆        ┆            ┆          ┆   ┆ DERBYSHIRE ┆ E         ┆           ┆           │\n",
       "│ E053-6C04A ┆        ┆            ┆          ┆   ┆            ┆           ┆           ┆           │\n",
       "│ …          ┆        ┆            ┆          ┆   ┆            ┆           ┆           ┆           │\n",
       "│ {582D0636- ┆ 421000 ┆ 2017-07-07 ┆ DE45 1AQ ┆ … ┆ DERBYSHIRE ┆ DERBYSHIR ┆ A         ┆ A         │\n",
       "│ D379-8F22- ┆        ┆            ┆          ┆   ┆ DALES      ┆ E         ┆           ┆           │\n",
       "│ E053-6C04A ┆        ┆            ┆          ┆   ┆            ┆           ┆           ┆           │\n",
       "│ …          ┆        ┆            ┆          ┆   ┆            ┆           ┆           ┆           │\n",
       "│ {582D0636- ┆ 250000 ┆ 2017-06-29 ┆ S21 1JG  ┆ … ┆ NORTH EAST ┆ DERBYSHIR ┆ A         ┆ A         │\n",
       "│ D37A-8F22- ┆        ┆            ┆          ┆   ┆ DERBYSHIRE ┆ E         ┆           ┆           │\n",
       "│ E053-6C04A ┆        ┆            ┆          ┆   ┆            ┆           ┆           ┆           │\n",
       "│ …          ┆        ┆            ┆          ┆   ┆            ┆           ┆           ┆           │\n",
       "│ {582D0636- ┆ 196950 ┆ 2017-07-12 ┆ DE75 7TF ┆ … ┆ AMBER      ┆ DERBYSHIR ┆ A         ┆ A         │\n",
       "│ D37B-8F22- ┆        ┆            ┆          ┆   ┆ VALLEY     ┆ E         ┆           ┆           │\n",
       "│ E053-6C04A ┆        ┆            ┆          ┆   ┆            ┆           ┆           ┆           │\n",
       "│ …          ┆        ┆            ┆          ┆   ┆            ┆           ┆           ┆           │\n",
       "│ {582D0636- ┆ 229950 ┆ 2017-07-14 ┆ DE75 7TF ┆ … ┆ AMBER      ┆ DERBYSHIR ┆ A         ┆ A         │\n",
       "│ D37C-8F22- ┆        ┆            ┆          ┆   ┆ VALLEY     ┆ E         ┆           ┆           │\n",
       "│ E053-6C04A ┆        ┆            ┆          ┆   ┆            ┆           ┆           ┆           │\n",
       "│ …          ┆        ┆            ┆          ┆   ┆            ┆           ┆           ┆           │\n",
       "└────────────┴────────┴────────────┴──────────┴───┴────────────┴───────────┴───────────┴───────────┘"
      ]
     },
     "execution_count": 72,
     "metadata": {},
     "output_type": "execute_result"
    }
   ],
   "source": [
    "pl.scan_iceberg(table).head(10).collect()"
   ]
  },
  {
   "cell_type": "code",
   "execution_count": null,
   "id": "f1d66980-fd49-4edb-bd5d-05acc07c76b0",
   "metadata": {},
   "outputs": [],
   "source": []
  }
 ],
 "metadata": {
  "kernelspec": {
   "display_name": "Python 3 (ipykernel)",
   "language": "python",
   "name": "python3"
  },
  "language_info": {
   "codemirror_mode": {
    "name": "ipython",
    "version": 3
   },
   "file_extension": ".py",
   "mimetype": "text/x-python",
   "name": "python",
   "nbconvert_exporter": "python",
   "pygments_lexer": "ipython3",
   "version": "3.12.10"
  }
 },
 "nbformat": 4,
 "nbformat_minor": 5
}
