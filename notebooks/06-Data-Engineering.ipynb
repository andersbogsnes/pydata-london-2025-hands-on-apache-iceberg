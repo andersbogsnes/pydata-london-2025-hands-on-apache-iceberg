{
 "cells": [
  {
   "cell_type": "markdown",
   "id": "994d5d21-44ce-44b1-8aa4-234093732d74",
   "metadata": {},
   "source": [
    "# Data Engineering\n",
    "\n",
    "Now that we've loaded our data, it's time to do some real data engineering to answer our original question.\n",
    "\n",
    "At this stage, Iceberg fades into the background, but we're able to pick and choose query engines to perform the various steps - this is the true power of Iceberg"
   ]
  },
  {
   "cell_type": "code",
   "execution_count": 1,
   "id": "d010f305-d0e6-44e6-a95f-1f4ba977bd67",
   "metadata": {},
   "outputs": [
    {
     "data": {
      "text/plain": [
       "polars.config.Config"
      ]
     },
     "execution_count": 1,
     "metadata": {},
     "output_type": "execute_result"
    }
   ],
   "source": [
    "import sqlalchemy as sa\n",
    "from utils import engine, catalog\n",
    "import polars as pl\n",
    "pl.Config.set_fmt_str_lengths(50)\n",
    "pl.Config.set_thousands_separator(True)"
   ]
  },
  {
   "cell_type": "markdown",
   "id": "9f6a9826-c42c-4f6e-919f-a126dc561f6a",
   "metadata": {},
   "source": [
    "We want a way of identifying a given property, so hashing the address related fields seems the easiest. We'll create a dimension table for those addresses, so we can move those rows out of our final data, without losing the ability to filter later. \n",
    "```{note} SQL Partitioning\n",
    "Note that we're adding partitioning to our tables directly through SQL here using a WITH statement on the CREATE TABLE\n",
    "```"
   ]
  },
  {
   "cell_type": "code",
   "execution_count": 2,
   "id": "2f8a17a9-fa8a-4684-b890-e8975c2cc840",
   "metadata": {},
   "outputs": [],
   "source": [
    "dim_address_sql = \"\"\"\n",
    "CREATE OR REPLACE TABLE housing.dim_address \n",
    "    WITH ( partitioning = ARRAY['bucket(address_id, 10)'] )\n",
    "    AS (\n",
    "    SELECT DISTINCT to_hex(md5(cast(\n",
    "        coalesce(paon, '') ||\n",
    "        coalesce(saon, '') ||\n",
    "        coalesce(street, '') ||\n",
    "        coalesce(locality, '') ||\n",
    "        coalesce(town, '') ||\n",
    "        coalesce(district, '') ||\n",
    "        coalesce(county, '') ||\n",
    "        coalesce(postcode, '')\n",
    "    as varbinary))) AS address_id,\n",
    "      paon,\n",
    "      saon,\n",
    "      street,\n",
    "      locality,\n",
    "      town,\n",
    "      district,\n",
    "      county,\n",
    "      postcode\n",
    "FROM housing.staging_prices)\n",
    "\"\"\""
   ]
  },
  {
   "cell_type": "markdown",
   "id": "2e11c39c-7488-4d7f-a5f9-ca5ab99dbffc",
   "metadata": {},
   "source": [
    "As described in the data dictionary, the monthly files incluce a `record_status` column which indicates whether a given record is a new record or if it is deleting or updating an existing record. In moving from our staging table to our fact table, we clean our data to ensure we respect the record_status"
   ]
  },
  {
   "cell_type": "code",
   "execution_count": 3,
   "id": "84dbc586-4c04-4fd6-b45d-33b2e247dc9b",
   "metadata": {},
   "outputs": [],
   "source": [
    "fct_prices_sql = \"\"\"\n",
    "CREATE OR REPLACE TABLE housing.fct_house_prices\n",
    "    WITH ( partitioning = ARRAY['year(date_of_transfer)'] ) AS (\n",
    "        WITH ranked_records AS (\n",
    "            SELECT *,\n",
    "            ROW_NUMBER () OVER (PARTITION BY transaction_id ORDER BY month(date_of_transfer) DESC) AS rn\n",
    "            FROM housing.staging_prices\n",
    "    ),\n",
    "    latest_records AS (\n",
    "        SELECT *\n",
    "        FROM ranked_records\n",
    "        WHERE rn = 1\n",
    "    ),\n",
    "    with_address_id AS (\n",
    "        SELECT to_hex(md5(cast (\n",
    "                coalesce(paon, '') ||\n",
    "                coalesce(saon, '') ||\n",
    "                coalesce(street, '') ||\n",
    "                coalesce(locality, '') ||\n",
    "                coalesce(town, '') ||\n",
    "                coalesce(district, '') ||\n",
    "                coalesce(county, '') ||\n",
    "                coalesce(postcode, '')\n",
    "            as varbinary))) AS address_id,\n",
    "                transaction_id,\n",
    "                price,\n",
    "                date_of_transfer,\n",
    "                property_type,\n",
    "                new_property,\n",
    "                duration,\n",
    "                ppd_category_type\n",
    "        FROM latest_records\n",
    "        WHERE record_status != 'D' and ppd_category_type = 'A'\n",
    "    )\n",
    "    SELECT *\n",
    "    FROM with_address_id\n",
    "    )\n",
    "\"\"\""
   ]
  },
  {
   "cell_type": "code",
   "execution_count": 4,
   "id": "11db1fab-df41-4e89-9686-5c83b2051d2a",
   "metadata": {},
   "outputs": [
    {
     "name": "stdout",
     "output_type": "stream",
     "text": [
      "Created dim_address with 8,248,159 rows\n",
      "Created fct_prices with 8,496,135 rows\n"
     ]
    }
   ],
   "source": [
    "with engine.begin() as conn:\n",
    "    num_rows_dim_address = conn.execute(sa.text(dim_address_sql)).fetchone()[0]\n",
    "    num_rows_fct_prices = conn.execute(sa.text(fct_prices_sql)).fetchone()[0]\n",
    "\n",
    "print(f\"Created dim_address with {num_rows_dim_address:,} rows\")\n",
    "print(f\"Created fct_prices with {num_rows_fct_prices:,} rows\")"
   ]
  },
  {
   "cell_type": "markdown",
   "id": "6a5d0297-26e1-4cde-bf7f-62b62a45c894",
   "metadata": {},
   "source": [
    "Now that the data is loaded, we can create a Pyiceberg reference to it"
   ]
  },
  {
   "cell_type": "code",
   "execution_count": 5,
   "id": "e9abce40-7f4b-4cf8-a203-250ae8215d0e",
   "metadata": {},
   "outputs": [],
   "source": [
    "fct_house_prices_t = catalog.load_table(\"housing.fct_house_prices\")"
   ]
  },
  {
   "cell_type": "markdown",
   "id": "4ef0d592-354f-437f-b71a-87ef7c9e7a9d",
   "metadata": {},
   "source": [
    "For a change of pace, let's use `polars` to write our profits calculation. Some things are easier to express in SQL and some are nice to be able to do in Polars. The choice is yours!"
   ]
  },
  {
   "cell_type": "code",
   "execution_count": 6,
   "id": "bf0c144e-0358-4ed6-8f9f-589868b6e9f2",
   "metadata": {},
   "outputs": [
    {
     "data": {
      "text/html": [
       "<div><style>\n",
       ".dataframe > thead > tr,\n",
       ".dataframe > tbody > tr {\n",
       "  text-align: right;\n",
       "  white-space: pre-wrap;\n",
       "}\n",
       "</style>\n",
       "<small>shape: (1_168_781, 7)</small><table border=\"1\" class=\"dataframe\"><thead><tr><th>address_id</th><th>first_day</th><th>last_day</th><th>first_price</th><th>last_price</th><th>days_held</th><th>profit</th></tr><tr><td>str</td><td>date</td><td>date</td><td>i32</td><td>i32</td><td>i64</td><td>i32</td></tr></thead><tbody><tr><td>&quot;4E7BCDD1EC0B60CEDF4E15EC4248D2E3&quot;</td><td>2018-05-24</td><td>2019-07-12</td><td>125,000</td><td>145,000</td><td>414</td><td>20,000</td></tr><tr><td>&quot;324614E498A307A3CEE425CC10554B0D&quot;</td><td>2018-07-06</td><td>2021-12-20</td><td>895,000</td><td>960,000</td><td>1,263</td><td>65,000</td></tr><tr><td>&quot;9DF32F0B02E951066BADEE133E30C103&quot;</td><td>2015-11-13</td><td>2023-03-08</td><td>260,000</td><td>317,000</td><td>2,672</td><td>57,000</td></tr><tr><td>&quot;069A6E700D5043098B0BA5A2C839DB4B&quot;</td><td>2016-10-13</td><td>2022-08-26</td><td>330,000</td><td>392,500</td><td>2,143</td><td>62,500</td></tr><tr><td>&quot;C5EA329404DC8DD065B4EEB34CD1B5FD&quot;</td><td>2016-11-28</td><td>2019-03-15</td><td>265,000</td><td>178,000</td><td>837</td><td>-87,000</td></tr><tr><td>&hellip;</td><td>&hellip;</td><td>&hellip;</td><td>&hellip;</td><td>&hellip;</td><td>&hellip;</td><td>&hellip;</td></tr><tr><td>&quot;6B6C25847C310C680A718655656CBE70&quot;</td><td>2015-06-26</td><td>2021-01-29</td><td>264,000</td><td>355,000</td><td>2,044</td><td>91,000</td></tr><tr><td>&quot;827192DAFBCCB53F70424EC8C71B1D7F&quot;</td><td>2015-12-07</td><td>2021-02-24</td><td>210,000</td><td>270,000</td><td>1,906</td><td>60,000</td></tr><tr><td>&quot;BE72F5C247A378CB5BCFA8F1F4FEF32D&quot;</td><td>2016-04-12</td><td>2022-11-30</td><td>899,950</td><td>870,000</td><td>2,423</td><td>-29,950</td></tr><tr><td>&quot;CCD1CFD5DFD99C8E6ACCEE61B2C70332&quot;</td><td>2016-06-16</td><td>2017-07-14</td><td>90,000</td><td>165,000</td><td>393</td><td>75,000</td></tr><tr><td>&quot;1768F378FCC104586678CB799BD08980&quot;</td><td>2021-07-28</td><td>2023-08-18</td><td>143,000</td><td>201,250</td><td>751</td><td>58,250</td></tr></tbody></table></div>"
      ],
      "text/plain": [
       "shape: (1_168_781, 7)\n",
       "┌───────────────────────┬────────────┬────────────┬─────────────┬────────────┬───────────┬─────────┐\n",
       "│ address_id            ┆ first_day  ┆ last_day   ┆ first_price ┆ last_price ┆ days_held ┆ profit  │\n",
       "│ ---                   ┆ ---        ┆ ---        ┆ ---         ┆ ---        ┆ ---       ┆ ---     │\n",
       "│ str                   ┆ date       ┆ date       ┆ i32         ┆ i32        ┆ i64       ┆ i32     │\n",
       "╞═══════════════════════╪════════════╪════════════╪═════════════╪════════════╪═══════════╪═════════╡\n",
       "│ 4E7BCDD1EC0B60CEDF4E1 ┆ 2018-05-24 ┆ 2019-07-12 ┆ 125,000     ┆ 145,000    ┆ 414       ┆ 20,000  │\n",
       "│ 5EC4248D2E3           ┆            ┆            ┆             ┆            ┆           ┆         │\n",
       "│ 324614E498A307A3CEE42 ┆ 2018-07-06 ┆ 2021-12-20 ┆ 895,000     ┆ 960,000    ┆ 1,263     ┆ 65,000  │\n",
       "│ 5CC10554B0D           ┆            ┆            ┆             ┆            ┆           ┆         │\n",
       "│ 9DF32F0B02E951066BADE ┆ 2015-11-13 ┆ 2023-03-08 ┆ 260,000     ┆ 317,000    ┆ 2,672     ┆ 57,000  │\n",
       "│ E133E30C103           ┆            ┆            ┆             ┆            ┆           ┆         │\n",
       "│ 069A6E700D5043098B0BA ┆ 2016-10-13 ┆ 2022-08-26 ┆ 330,000     ┆ 392,500    ┆ 2,143     ┆ 62,500  │\n",
       "│ 5A2C839DB4B           ┆            ┆            ┆             ┆            ┆           ┆         │\n",
       "│ C5EA329404DC8DD065B4E ┆ 2016-11-28 ┆ 2019-03-15 ┆ 265,000     ┆ 178,000    ┆ 837       ┆ -87,000 │\n",
       "│ EB34CD1B5FD           ┆            ┆            ┆             ┆            ┆           ┆         │\n",
       "│ …                     ┆ …          ┆ …          ┆ …           ┆ …          ┆ …         ┆ …       │\n",
       "│ 6B6C25847C310C680A718 ┆ 2015-06-26 ┆ 2021-01-29 ┆ 264,000     ┆ 355,000    ┆ 2,044     ┆ 91,000  │\n",
       "│ 655656CBE70           ┆            ┆            ┆             ┆            ┆           ┆         │\n",
       "│ 827192DAFBCCB53F70424 ┆ 2015-12-07 ┆ 2021-02-24 ┆ 210,000     ┆ 270,000    ┆ 1,906     ┆ 60,000  │\n",
       "│ EC8C71B1D7F           ┆            ┆            ┆             ┆            ┆           ┆         │\n",
       "│ BE72F5C247A378CB5BCFA ┆ 2016-04-12 ┆ 2022-11-30 ┆ 899,950     ┆ 870,000    ┆ 2,423     ┆ -29,950 │\n",
       "│ 8F1F4FEF32D           ┆            ┆            ┆             ┆            ┆           ┆         │\n",
       "│ CCD1CFD5DFD99C8E6ACCE ┆ 2016-06-16 ┆ 2017-07-14 ┆ 90,000      ┆ 165,000    ┆ 393       ┆ 75,000  │\n",
       "│ E61B2C70332           ┆            ┆            ┆             ┆            ┆           ┆         │\n",
       "│ 1768F378FCC104586678C ┆ 2021-07-28 ┆ 2023-08-18 ┆ 143,000     ┆ 201,250    ┆ 751       ┆ 58,250  │\n",
       "│ B799BD08980           ┆            ┆            ┆             ┆            ┆           ┆         │\n",
       "└───────────────────────┴────────────┴────────────┴─────────────┴────────────┴───────────┴─────────┘"
      ]
     },
     "execution_count": 6,
     "metadata": {},
     "output_type": "execute_result"
    }
   ],
   "source": [
    "polars_result = (\n",
    "    pl.scan_iceberg(fct_house_prices_t)\n",
    "    .with_columns(\n",
    "        pl.col(\"date_of_transfer\").min().over(pl.col(\"address_id\")).alias(\"first_day\"),\n",
    "        pl.col(\"date_of_transfer\").max().over(pl.col(\"address_id\")).alias(\"last_day\"),\n",
    "        pl.col(\"price\")\n",
    "        .sort_by(\"date_of_transfer\")\n",
    "        .first()\n",
    "        .over(pl.col(\"address_id\"))\n",
    "        .alias(\"first_price\"),\n",
    "        pl.col(\"price\")\n",
    "        .sort_by(\"date_of_transfer\")\n",
    "        .last()\n",
    "        .over(pl.col(\"address_id\"))\n",
    "        .alias(\"last_price\"),\n",
    "    )\n",
    "    .with_columns(\n",
    "        pl.col(\"last_day\").sub(pl.col(\"first_day\")).dt.total_days().alias(\"days_held\"),\n",
    "        pl.col(\"last_price\").sub(pl.col(\"first_price\")).alias(\"profit\"),\n",
    "    )\n",
    "    .filter(pl.col(\"days_held\") != 0)\n",
    "    .select(\n",
    "        pl.col(\"address_id\"),\n",
    "        pl.col(\"first_day\"),\n",
    "        pl.col(\"last_day\"),\n",
    "        pl.col(\"first_price\"),\n",
    "        pl.col(\"last_price\"),\n",
    "        pl.col(\"days_held\"),\n",
    "        pl.col(\"profit\"),\n",
    "    )\n",
    "    .unique()\n",
    ").collect()\n",
    "\n",
    "polars_result"
   ]
  },
  {
   "cell_type": "markdown",
   "id": "310cf774-77c8-45d1-8186-8a884852fa8d",
   "metadata": {},
   "source": [
    "Let's store the results in a table for future reference - since `polars` is arrow-based, we can use it to define the schema as well if we don't care as much about the details of the resulting schema"
   ]
  },
  {
   "cell_type": "code",
   "execution_count": 8,
   "id": "f37fd6fb-0f6a-47d7-957e-505e84511dda",
   "metadata": {},
   "outputs": [],
   "source": [
    "profits_t = catalog.create_table_if_not_exists(\"housing.profits\", schema=polars_result.to_arrow().schema)"
   ]
  },
  {
   "cell_type": "code",
   "execution_count": 9,
   "id": "15c44fff-ab35-49ca-a13f-d93f0f9ab069",
   "metadata": {},
   "outputs": [
    {
     "name": "stderr",
     "output_type": "stream",
     "text": [
      "/usr/local/lib/python3.12/site-packages/pyiceberg/table/__init__.py:686: UserWarning: Delete operation did not match any records\n",
      "  warnings.warn(\"Delete operation did not match any records\")\n"
     ]
    }
   ],
   "source": [
    "profits_t.overwrite(polars_result.to_arrow())"
   ]
  },
  {
   "cell_type": "markdown",
   "id": "66afb258-8983-4e47-8831-529e9f61179b",
   "metadata": {},
   "source": [
    "To round out the selection of query engines, we can use `daft` to query our newly created table and calculate the mean profits for a given year"
   ]
  },
  {
   "cell_type": "code",
   "execution_count": 23,
   "id": "cb4ee7b2-9465-4765-a8a8-4c0995259434",
   "metadata": {},
   "outputs": [
    {
     "data": {
      "text/html": [
       "<div>\n",
       "<table class=\"dataframe\">\n",
       "<thead><tr><th style=\"text-wrap: nowrap; max-width:192px; overflow:auto; text-align:left\">year<br />Int32</th><th style=\"text-wrap: nowrap; max-width:192px; overflow:auto; text-align:left\">profit<br />Float64</th></tr></thead>\n",
       "<tbody>\n",
       "<tr><td><div style=\"text-align:left; max-width:192px; max-height:64px; overflow:auto\">2015</div></td><td><div style=\"text-align:left; max-width:192px; max-height:64px; overflow:auto\">72826.42425917697</div></td></tr>\n",
       "<tr><td><div style=\"text-align:left; max-width:192px; max-height:64px; overflow:auto\">2016</div></td><td><div style=\"text-align:left; max-width:192px; max-height:64px; overflow:auto\">59512.15194381481</div></td></tr>\n",
       "<tr><td><div style=\"text-align:left; max-width:192px; max-height:64px; overflow:auto\">2017</div></td><td><div style=\"text-align:left; max-width:192px; max-height:64px; overflow:auto\">57517.589353667674</div></td></tr>\n",
       "<tr><td><div style=\"text-align:left; max-width:192px; max-height:64px; overflow:auto\">2018</div></td><td><div style=\"text-align:left; max-width:192px; max-height:64px; overflow:auto\">58443.34822342212</div></td></tr>\n",
       "<tr><td><div style=\"text-align:left; max-width:192px; max-height:64px; overflow:auto\">2019</div></td><td><div style=\"text-align:left; max-width:192px; max-height:64px; overflow:auto\">64259.54336095587</div></td></tr>\n",
       "<tr><td><div style=\"text-align:left; max-width:192px; max-height:64px; overflow:auto\">2020</div></td><td><div style=\"text-align:left; max-width:192px; max-height:64px; overflow:auto\">67864.45690391354</div></td></tr>\n",
       "<tr><td><div style=\"text-align:left; max-width:192px; max-height:64px; overflow:auto\">2021</div></td><td><div style=\"text-align:left; max-width:192px; max-height:64px; overflow:auto\">56818.62655898759</div></td></tr>\n",
       "<tr><td><div style=\"text-align:left; max-width:192px; max-height:64px; overflow:auto\">2022</div></td><td><div style=\"text-align:left; max-width:192px; max-height:64px; overflow:auto\">33654.85753970091</div></td></tr>\n",
       "</tbody>\n",
       "</table>\n",
       "<small>(Showing first 8 of 10 rows)</small>\n",
       "</div>"
      ],
      "text/plain": [
       "╭───────┬────────────────────╮\n",
       "│ year  ┆ profit             │\n",
       "│ ---   ┆ ---                │\n",
       "│ Int32 ┆ Float64            │\n",
       "╞═══════╪════════════════════╡\n",
       "│ 2015  ┆ 72826.42425917697  │\n",
       "├╌╌╌╌╌╌╌┼╌╌╌╌╌╌╌╌╌╌╌╌╌╌╌╌╌╌╌╌┤\n",
       "│ 2016  ┆ 59512.15194381481  │\n",
       "├╌╌╌╌╌╌╌┼╌╌╌╌╌╌╌╌╌╌╌╌╌╌╌╌╌╌╌╌┤\n",
       "│ 2017  ┆ 57517.589353667674 │\n",
       "├╌╌╌╌╌╌╌┼╌╌╌╌╌╌╌╌╌╌╌╌╌╌╌╌╌╌╌╌┤\n",
       "│ 2018  ┆ 58443.34822342212  │\n",
       "├╌╌╌╌╌╌╌┼╌╌╌╌╌╌╌╌╌╌╌╌╌╌╌╌╌╌╌╌┤\n",
       "│ 2019  ┆ 64259.54336095587  │\n",
       "├╌╌╌╌╌╌╌┼╌╌╌╌╌╌╌╌╌╌╌╌╌╌╌╌╌╌╌╌┤\n",
       "│ 2020  ┆ 67864.45690391354  │\n",
       "├╌╌╌╌╌╌╌┼╌╌╌╌╌╌╌╌╌╌╌╌╌╌╌╌╌╌╌╌┤\n",
       "│ 2021  ┆ 56818.62655898759  │\n",
       "├╌╌╌╌╌╌╌┼╌╌╌╌╌╌╌╌╌╌╌╌╌╌╌╌╌╌╌╌┤\n",
       "│ 2022  ┆ 33654.85753970091  │\n",
       "╰───────┴────────────────────╯\n",
       "\n",
       "(Showing first 8 of 10 rows)"
      ]
     },
     "execution_count": 23,
     "metadata": {},
     "output_type": "execute_result"
    }
   ],
   "source": [
    "import daft\n",
    "\n",
    "(\n",
    "    daft.read_iceberg(profits_t)\n",
    "    .groupby(daft.col(\"first_day\").dt.year().alias(\"year\"))\n",
    "    .agg(daft.col(\"profit\").mean())\n",
    "    .sort(daft.col(\"year\"))\n",
    "    .collect()\n",
    ")"
   ]
  },
  {
   "cell_type": "code",
   "execution_count": null,
   "id": "498a4f86-8fe2-47bd-b46c-8cac19bf5981",
   "metadata": {},
   "outputs": [],
   "source": []
  }
 ],
 "metadata": {
  "kernelspec": {
   "display_name": "Python 3 (ipykernel)",
   "language": "python",
   "name": "python3"
  },
  "language_info": {
   "codemirror_mode": {
    "name": "ipython",
    "version": 3
   },
   "file_extension": ".py",
   "mimetype": "text/x-python",
   "name": "python",
   "nbconvert_exporter": "python",
   "pygments_lexer": "ipython3",
   "version": "3.12.10"
  }
 },
 "nbformat": 4,
 "nbformat_minor": 5
}
