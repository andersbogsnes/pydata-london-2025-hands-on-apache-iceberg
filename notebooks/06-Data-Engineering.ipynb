{
 "cells": [
  {
   "cell_type": "code",
   "execution_count": 1,
   "id": "d010f305-d0e6-44e6-a95f-1f4ba977bd67",
   "metadata": {},
   "outputs": [],
   "source": [
    "import sqlalchemy as sa\n",
    "from utils import query, engine, catalog"
   ]
  },
  {
   "cell_type": "code",
   "execution_count": 2,
   "id": "2f8a17a9-fa8a-4684-b890-e8975c2cc840",
   "metadata": {},
   "outputs": [],
   "source": [
    "import sqlalchemy as sa\n",
    "\n",
    "dim_address_sql = \"\"\"\n",
    "CREATE OR REPLACE TABLE house_prices.dim_address \n",
    "    WITH ( partitioning = ARRAY['bucket(address_id, 10)'] )\n",
    "    AS (\n",
    "    SELECT DISTINCT to_hex(md5(cast(\n",
    "        coalesce(paon, '') ||\n",
    "        coalesce(saon, '') ||\n",
    "        coalesce(street, '') ||\n",
    "        coalesce(locality, '') ||\n",
    "        coalesce(town, '') ||\n",
    "        coalesce(district, '') ||\n",
    "        coalesce(county, '') ||\n",
    "        coalesce(postcode, '')\n",
    "    as varbinary))) AS address_id,\n",
    "      paon,\n",
    "      saon,\n",
    "      street,\n",
    "      locality,\n",
    "      town,\n",
    "      district,\n",
    "      county,\n",
    "      postcode\n",
    "FROM house_prices.raw)\n",
    "\"\"\""
   ]
  },
  {
   "cell_type": "code",
   "execution_count": 3,
   "id": "84dbc586-4c04-4fd6-b45d-33b2e247dc9b",
   "metadata": {},
   "outputs": [],
   "source": [
    "fct_prices = \"\"\"\n",
    "CREATE OR REPLACE TABLE house_prices.fct_house_prices\n",
    "    WITH ( partitioning = ARRAY['month(date_of_transfer)'] ) AS (\n",
    "        WITH ranked_records AS (\n",
    "            SELECT *,\n",
    "            ROW_NUMBER () OVER (PARTITION BY transaction_id ORDER BY month(date_of_transfer) DESC) AS rn\n",
    "            FROM house_prices.raw\n",
    "    ),\n",
    "    latest_records AS (\n",
    "        SELECT *\n",
    "        FROM ranked_records\n",
    "        WHERE rn = 1\n",
    "    ),\n",
    "    with_address_id AS (\n",
    "        SELECT to_hex(md5(cast (\n",
    "                coalesce(paon, '') ||\n",
    "                coalesce(saon, '') ||\n",
    "                coalesce(street, '') ||\n",
    "                coalesce(locality, '') ||\n",
    "                coalesce(town, '') ||\n",
    "                coalesce(district, '') ||\n",
    "                coalesce(county, '') ||\n",
    "                coalesce(postcode, '')\n",
    "            as varbinary))) AS address_id,\n",
    "                transaction_id,\n",
    "                price,\n",
    "                date_of_transfer,\n",
    "                property_type,\n",
    "                new_property,\n",
    "                duration,\n",
    "                ppd_category_type,\n",
    "                record_status\n",
    "        FROM latest_records\n",
    "        WHERE record_status != 'D'\n",
    "    )\n",
    "    SELECT *\n",
    "    FROM with_address_id\n",
    "    )\n",
    "\"\"\""
   ]
  },
  {
   "cell_type": "code",
   "execution_count": 4,
   "id": "11db1fab-df41-4e89-9686-5c83b2051d2a",
   "metadata": {},
   "outputs": [
    {
     "name": "stdout",
     "output_type": "stream",
     "text": [
      "Created dim_address with 1,510,419 rows\n",
      "Created fct_prices with 1,546,116 rows\n"
     ]
    }
   ],
   "source": [
    "with engine.begin() as conn:\n",
    "    num_rows_dim_address = conn.execute(sa.text(dim_address_sql)).fetchone()[0]\n",
    "    num_rows_fct_prices = conn.execute(sa.text(fct_prices)).fetchone()[0]\n",
    "\n",
    "print(f\"Created dim_address with {num_rows_dim_address:,} rows\")\n",
    "print(f\"Created fct_prices with {num_rows_fct_prices:,} rows\")"
   ]
  },
  {
   "cell_type": "code",
   "execution_count": 55,
   "id": "e9abce40-7f4b-4cf8-a203-250ae8215d0e",
   "metadata": {},
   "outputs": [],
   "source": [
    "fct_house_prices_t = catalog.load_table(\"house_prices.fct_house_prices\")"
   ]
  },
  {
   "cell_type": "code",
   "execution_count": 56,
   "id": "3399086c-bf1b-44e8-932c-a92ccf10b198",
   "metadata": {},
   "outputs": [],
   "source": [
    "import polars as pl\n",
    "pl.config."
   ]
  },
  {
   "cell_type": "code",
   "execution_count": 57,
   "id": "c49da664-cd70-47ee-89ae-4ef619d6dfc7",
   "metadata": {},
   "outputs": [],
   "source": [
    "sold_address_ids = pl.scan_iceberg(fct_house_prices_t).group_by(\"address_id\").len().filter(pl.col(\"len\") > 1)"
   ]
  },
  {
   "cell_type": "code",
   "execution_count": 60,
   "id": "12f989b4-2850-4448-95e6-e1df68d6a046",
   "metadata": {},
   "outputs": [
    {
     "data": {
      "text/html": [
       "<div><style>\n",
       ".dataframe > thead > tr,\n",
       ".dataframe > tbody > tr {\n",
       "  text-align: right;\n",
       "  white-space: pre-wrap;\n",
       "}\n",
       "</style>\n",
       "<small>shape: (34_308, 1)</small><table border=\"1\" class=\"dataframe\"><thead><tr><th>address_id</th></tr><tr><td>str</td></tr></thead><tbody><tr><td>&quot;D11C83301256CA709BCFBC7FDF5EB9…</td></tr><tr><td>&quot;F736B69B44415DD5C0126D56E55A7F…</td></tr><tr><td>&quot;770AAB0E234EE249362FBACD5AF247…</td></tr><tr><td>&quot;F7782781F9B93E7C460DC743F1B69A…</td></tr><tr><td>&quot;6718E17E744B01FB3B4F1B6F1517E2…</td></tr><tr><td>&hellip;</td></tr><tr><td>&quot;310488721DDF74933F97EDD2323E6D…</td></tr><tr><td>&quot;1351937E47CACB1ECEF622C6B0C587…</td></tr><tr><td>&quot;34D34FE3EADFACBD0604AB58E8ABF5…</td></tr><tr><td>&quot;0AD6188262C701C703A8CE7A0B660B…</td></tr><tr><td>&quot;4DAD10EC572253FEDE5F32E09ADA22…</td></tr></tbody></table></div>"
      ],
      "text/plain": [
       "shape: (34_308, 1)\n",
       "┌─────────────────────────────────┐\n",
       "│ address_id                      │\n",
       "│ ---                             │\n",
       "│ str                             │\n",
       "╞═════════════════════════════════╡\n",
       "│ D11C83301256CA709BCFBC7FDF5EB9… │\n",
       "│ F736B69B44415DD5C0126D56E55A7F… │\n",
       "│ 770AAB0E234EE249362FBACD5AF247… │\n",
       "│ F7782781F9B93E7C460DC743F1B69A… │\n",
       "│ 6718E17E744B01FB3B4F1B6F1517E2… │\n",
       "│ …                               │\n",
       "│ 310488721DDF74933F97EDD2323E6D… │\n",
       "│ 1351937E47CACB1ECEF622C6B0C587… │\n",
       "│ 34D34FE3EADFACBD0604AB58E8ABF5… │\n",
       "│ 0AD6188262C701C703A8CE7A0B660B… │\n",
       "│ 4DAD10EC572253FEDE5F32E09ADA22… │\n",
       "└─────────────────────────────────┘"
      ]
     },
     "execution_count": 60,
     "metadata": {},
     "output_type": "execute_result"
    }
   ],
   "source": [
    "_.select(\"address_id\")"
   ]
  },
  {
   "cell_type": "code",
   "execution_count": 58,
   "id": "875aa98d-324d-4c45-83f9-3d3031e8b8ce",
   "metadata": {},
   "outputs": [
    {
     "data": {
      "text/html": [
       "<div><style>\n",
       ".dataframe > thead > tr,\n",
       ".dataframe > tbody > tr {\n",
       "  text-align: right;\n",
       "  white-space: pre-wrap;\n",
       "}\n",
       "</style>\n",
       "<small>shape: (34_308, 4)</small><table border=\"1\" class=\"dataframe\"><thead><tr><th>address_id</th><th>first_price</th><th>last_price</th><th>profit</th></tr><tr><td>str</td><td>i32</td><td>i32</td><td>i32</td></tr></thead><tbody><tr><td>&quot;D11C83301256CA709BCFBC7FDF5EB9…</td><td>280000</td><td>295000</td><td>15000</td></tr><tr><td>&quot;F736B69B44415DD5C0126D56E55A7F…</td><td>70000</td><td>70000</td><td>0</td></tr><tr><td>&quot;770AAB0E234EE249362FBACD5AF247…</td><td>145000</td><td>195000</td><td>50000</td></tr><tr><td>&quot;F7782781F9B93E7C460DC743F1B69A…</td><td>190000</td><td>205000</td><td>15000</td></tr><tr><td>&quot;6718E17E744B01FB3B4F1B6F1517E2…</td><td>175000</td><td>175000</td><td>0</td></tr><tr><td>&hellip;</td><td>&hellip;</td><td>&hellip;</td><td>&hellip;</td></tr><tr><td>&quot;310488721DDF74933F97EDD2323E6D…</td><td>175000</td><td>165000</td><td>-10000</td></tr><tr><td>&quot;1351937E47CACB1ECEF622C6B0C587…</td><td>85000</td><td>135000</td><td>50000</td></tr><tr><td>&quot;34D34FE3EADFACBD0604AB58E8ABF5…</td><td>80000</td><td>167500</td><td>87500</td></tr><tr><td>&quot;0AD6188262C701C703A8CE7A0B660B…</td><td>150000</td><td>315000</td><td>165000</td></tr><tr><td>&quot;4DAD10EC572253FEDE5F32E09ADA22…</td><td>249950</td><td>257000</td><td>7050</td></tr></tbody></table></div>"
      ],
      "text/plain": [
       "shape: (34_308, 4)\n",
       "┌─────────────────────────────────┬─────────────┬────────────┬────────┐\n",
       "│ address_id                      ┆ first_price ┆ last_price ┆ profit │\n",
       "│ ---                             ┆ ---         ┆ ---        ┆ ---    │\n",
       "│ str                             ┆ i32         ┆ i32        ┆ i32    │\n",
       "╞═════════════════════════════════╪═════════════╪════════════╪════════╡\n",
       "│ D11C83301256CA709BCFBC7FDF5EB9… ┆ 280000      ┆ 295000     ┆ 15000  │\n",
       "│ F736B69B44415DD5C0126D56E55A7F… ┆ 70000       ┆ 70000      ┆ 0      │\n",
       "│ 770AAB0E234EE249362FBACD5AF247… ┆ 145000      ┆ 195000     ┆ 50000  │\n",
       "│ F7782781F9B93E7C460DC743F1B69A… ┆ 190000      ┆ 205000     ┆ 15000  │\n",
       "│ 6718E17E744B01FB3B4F1B6F1517E2… ┆ 175000      ┆ 175000     ┆ 0      │\n",
       "│ …                               ┆ …           ┆ …          ┆ …      │\n",
       "│ 310488721DDF74933F97EDD2323E6D… ┆ 175000      ┆ 165000     ┆ -10000 │\n",
       "│ 1351937E47CACB1ECEF622C6B0C587… ┆ 85000       ┆ 135000     ┆ 50000  │\n",
       "│ 34D34FE3EADFACBD0604AB58E8ABF5… ┆ 80000       ┆ 167500     ┆ 87500  │\n",
       "│ 0AD6188262C701C703A8CE7A0B660B… ┆ 150000      ┆ 315000     ┆ 165000 │\n",
       "│ 4DAD10EC572253FEDE5F32E09ADA22… ┆ 249950      ┆ 257000     ┆ 7050   │\n",
       "└─────────────────────────────────┴─────────────┴────────────┴────────┘"
      ]
     },
     "execution_count": 58,
     "metadata": {},
     "output_type": "execute_result"
    }
   ],
   "source": [
    "(\n",
    "    pl.scan_iceberg(fct_house_prices_t)\n",
    "    .join(sold_address_ids, on=\"address_id\", how=\"inner\")\n",
    "    .sort(\"date_of_transfer\").group_by(\"address_id\").agg(\n",
    "        pl.col(\"price\").first().alias('first_price'),\n",
    "        pl.col(\"price\").last().alias(\"last_price\"),\n",
    "        (pl.col(\"price\").last() - pl.col(\"price\").first()).alias(\"profit\")   \n",
    "    )\n",
    "    .collect()\n",
    ")"
   ]
  },
  {
   "cell_type": "code",
   "execution_count": 53,
   "id": "ea5413b6-d280-4a9b-b2c6-8ac58bbdd787",
   "metadata": {},
   "outputs": [
    {
     "data": {
      "text/html": [
       "<div><style>\n",
       ".dataframe > thead > tr,\n",
       ".dataframe > tbody > tr {\n",
       "  text-align: right;\n",
       "  white-space: pre-wrap;\n",
       "}\n",
       "</style>\n",
       "<small>shape: (26_569, 3)</small><table border=\"1\" class=\"dataframe\"><thead><tr><th>address_id</th><th>first_price</th><th>last_price</th></tr><tr><td>str</td><td>i64</td><td>i64</td></tr></thead><tbody><tr><td>&quot;8D948EBAD8344773E4C475307B9FE0…</td><td>600000</td><td>680000</td></tr><tr><td>&quot;6D627C9D6FCC2B13365706E16D59C1…</td><td>168000</td><td>180000</td></tr><tr><td>&quot;B46167FB6E8E1A6660FF5BC762A4BF…</td><td>71000</td><td>110000</td></tr><tr><td>&quot;44E7076FF472DE56E3D8C89746D052…</td><td>135000</td><td>142500</td></tr><tr><td>&quot;54F8E080E07DC6CDA2A667018084A3…</td><td>52000</td><td>80000</td></tr><tr><td>&hellip;</td><td>&hellip;</td><td>&hellip;</td></tr><tr><td>&quot;B3CC87F08337616EE4B2D4E2254C42…</td><td>270000</td><td>1500</td></tr><tr><td>&quot;BE16269AA83B04BC5E9E4A47474850…</td><td>187000</td><td>175000</td></tr><tr><td>&quot;61238F4BC763C097DA0216AE447F32…</td><td>425000</td><td>405000</td></tr><tr><td>&quot;4CECE9E2719C6D06FE57FED519DB86…</td><td>85000</td><td>105000</td></tr><tr><td>&quot;FD26D612B5D6E3488A14AC83C3C91D…</td><td>39500</td><td>62000</td></tr></tbody></table></div>"
      ],
      "text/plain": [
       "shape: (26_569, 3)\n",
       "┌─────────────────────────────────┬─────────────┬────────────┐\n",
       "│ address_id                      ┆ first_price ┆ last_price │\n",
       "│ ---                             ┆ ---         ┆ ---        │\n",
       "│ str                             ┆ i64         ┆ i64        │\n",
       "╞═════════════════════════════════╪═════════════╪════════════╡\n",
       "│ 8D948EBAD8344773E4C475307B9FE0… ┆ 600000      ┆ 680000     │\n",
       "│ 6D627C9D6FCC2B13365706E16D59C1… ┆ 168000      ┆ 180000     │\n",
       "│ B46167FB6E8E1A6660FF5BC762A4BF… ┆ 71000       ┆ 110000     │\n",
       "│ 44E7076FF472DE56E3D8C89746D052… ┆ 135000      ┆ 142500     │\n",
       "│ 54F8E080E07DC6CDA2A667018084A3… ┆ 52000       ┆ 80000      │\n",
       "│ …                               ┆ …           ┆ …          │\n",
       "│ B3CC87F08337616EE4B2D4E2254C42… ┆ 270000      ┆ 1500       │\n",
       "│ BE16269AA83B04BC5E9E4A47474850… ┆ 187000      ┆ 175000     │\n",
       "│ 61238F4BC763C097DA0216AE447F32… ┆ 425000      ┆ 405000     │\n",
       "│ 4CECE9E2719C6D06FE57FED519DB86… ┆ 85000       ┆ 105000     │\n",
       "│ FD26D612B5D6E3488A14AC83C3C91D… ┆ 39500       ┆ 62000      │\n",
       "└─────────────────────────────────┴─────────────┴────────────┘"
      ]
     },
     "execution_count": 53,
     "metadata": {},
     "output_type": "execute_result"
    }
   ],
   "source": [
    "query(\"\"\"\n",
    "WITH first_prices AS (\n",
    "    SELECT \n",
    "        address_id, \n",
    "        price AS first_price,\n",
    "        ROW_NUMBER() OVER (PARTITION BY address_id ORDER BY date_of_transfer) AS rn\n",
    "    FROM house_prices.fct_house_prices\n",
    "),\n",
    "last_prices AS (\n",
    "    SELECT \n",
    "        address_id, \n",
    "        price AS last_price,\n",
    "        ROW_NUMBER() OVER (PARTITION BY address_id ORDER BY date_of_transfer DESC) AS rn\n",
    "    FROM house_prices.fct_house_prices\n",
    "),\n",
    "address_ids AS (\n",
    "    SELECT DISTINCT address_id \n",
    "    FROM house_prices.fct_house_prices\n",
    ")\n",
    "SELECT \n",
    "    a.address_id,\n",
    "    f.first_price,\n",
    "    l.last_price\n",
    "FROM address_ids a\n",
    "JOIN first_prices f ON f.address_id = a.address_id AND f.rn = 1\n",
    "JOIN last_prices l ON l.address_id = a.address_id AND l.rn = 1\n",
    "WHERE first_price != last_price\n",
    "\"\"\")"
   ]
  },
  {
   "cell_type": "code",
   "execution_count": 39,
   "id": "d6afb189-065a-4d93-afe4-bf88a403b1b4",
   "metadata": {},
   "outputs": [
    {
     "data": {
      "text/html": [
       "<div><style>\n",
       ".dataframe > thead > tr,\n",
       ".dataframe > tbody > tr {\n",
       "  text-align: right;\n",
       "  white-space: pre-wrap;\n",
       "}\n",
       "</style>\n",
       "<small>shape: (1_510_418, 3)</small><table border=\"1\" class=\"dataframe\"><thead><tr><th>address_id</th><th>first_price</th><th>last_price</th></tr><tr><td>str</td><td>i64</td><td>i64</td></tr></thead><tbody><tr><td>&quot;00008F6396C347426C4AC1CBABDD9F…</td><td>175000</td><td>175000</td></tr><tr><td>&quot;0000E9EC41DCE8A0ED4BB994432332…</td><td>450000</td><td>450000</td></tr><tr><td>&quot;00013FE44A6098DA94C5FBFBD51276…</td><td>180000</td><td>180000</td></tr><tr><td>&quot;000251C7DF7D243CAD7D1AB33A8508…</td><td>148000</td><td>148000</td></tr><tr><td>&quot;000274A8C9271FB09966E43CD71AB1…</td><td>567000</td><td>567000</td></tr><tr><td>&hellip;</td><td>&hellip;</td><td>&hellip;</td></tr><tr><td>&quot;FFFDC0D093DD71150783AD7B6AF8B7…</td><td>345000</td><td>345000</td></tr><tr><td>&quot;FFFE4030D86A19201FD3FED9084BDF…</td><td>491000</td><td>491000</td></tr><tr><td>&quot;FFFE7004514D99FC9EFACEECDCBC8D…</td><td>425000</td><td>425000</td></tr><tr><td>&quot;FFFECADB0FAD2FC4C7F54A2BB5E809…</td><td>217000</td><td>217000</td></tr><tr><td>&quot;FFFF248EA2DED8A6927589C746490F…</td><td>260000</td><td>260000</td></tr></tbody></table></div>"
      ],
      "text/plain": [
       "shape: (1_510_418, 3)\n",
       "┌─────────────────────────────────┬─────────────┬────────────┐\n",
       "│ address_id                      ┆ first_price ┆ last_price │\n",
       "│ ---                             ┆ ---         ┆ ---        │\n",
       "│ str                             ┆ i64         ┆ i64        │\n",
       "╞═════════════════════════════════╪═════════════╪════════════╡\n",
       "│ 00008F6396C347426C4AC1CBABDD9F… ┆ 175000      ┆ 175000     │\n",
       "│ 0000E9EC41DCE8A0ED4BB994432332… ┆ 450000      ┆ 450000     │\n",
       "│ 00013FE44A6098DA94C5FBFBD51276… ┆ 180000      ┆ 180000     │\n",
       "│ 000251C7DF7D243CAD7D1AB33A8508… ┆ 148000      ┆ 148000     │\n",
       "│ 000274A8C9271FB09966E43CD71AB1… ┆ 567000      ┆ 567000     │\n",
       "│ …                               ┆ …           ┆ …          │\n",
       "│ FFFDC0D093DD71150783AD7B6AF8B7… ┆ 345000      ┆ 345000     │\n",
       "│ FFFE4030D86A19201FD3FED9084BDF… ┆ 491000      ┆ 491000     │\n",
       "│ FFFE7004514D99FC9EFACEECDCBC8D… ┆ 425000      ┆ 425000     │\n",
       "│ FFFECADB0FAD2FC4C7F54A2BB5E809… ┆ 217000      ┆ 217000     │\n",
       "│ FFFF248EA2DED8A6927589C746490F… ┆ 260000      ┆ 260000     │\n",
       "└─────────────────────────────────┴─────────────┴────────────┘"
      ]
     },
     "execution_count": 39,
     "metadata": {},
     "output_type": "execute_result"
    }
   ],
   "source": [
    "query(\"\"\"\n",
    "SELECT \n",
    "    address_id,\n",
    "    MIN(price) FILTER (WHERE date_of_transfer = min_date) AS first_price,\n",
    "    MAX(price) FILTER (WHERE date_of_transfer = max_date) AS last_price\n",
    "FROM (\n",
    "    SELECT \n",
    "        address_id, \n",
    "        price,\n",
    "        date_of_transfer,\n",
    "        MIN(date_of_transfer) OVER (PARTITION BY address_id) AS min_date,\n",
    "        MAX(date_of_transfer) OVER (PARTITION BY address_id) AS max_date\n",
    "    FROM house_prices.fct_house_prices\n",
    ") t\n",
    "GROUP BY address_id\n",
    "\"\"\")"
   ]
  }
 ],
 "metadata": {
  "kernelspec": {
   "display_name": "Python 3 (ipykernel)",
   "language": "python",
   "name": "python3"
  },
  "language_info": {
   "codemirror_mode": {
    "name": "ipython",
    "version": 3
   },
   "file_extension": ".py",
   "mimetype": "text/x-python",
   "name": "python",
   "nbconvert_exporter": "python",
   "pygments_lexer": "ipython3",
   "version": "3.12.10"
  }
 },
 "nbformat": 4,
 "nbformat_minor": 5
}
