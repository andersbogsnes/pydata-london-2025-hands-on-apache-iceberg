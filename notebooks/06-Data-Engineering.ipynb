{
 "cells": [
  {
   "cell_type": "code",
   "execution_count": 12,
   "id": "d010f305-d0e6-44e6-a95f-1f4ba977bd67",
   "metadata": {},
   "outputs": [
    {
     "data": {
      "text/plain": [
       "polars.config.Config"
      ]
     },
     "execution_count": 12,
     "metadata": {},
     "output_type": "execute_result"
    }
   ],
   "source": [
    "import sqlalchemy as sa\n",
    "from utils import query, engine, catalog\n",
    "import polars as pl\n",
    "pl.Config.set_fmt_str_lengths(50)\n",
    "pl.Config.set_thousands_separator(True)"
   ]
  },
  {
   "cell_type": "code",
   "execution_count": 13,
   "id": "2f8a17a9-fa8a-4684-b890-e8975c2cc840",
   "metadata": {},
   "outputs": [],
   "source": [
    "import sqlalchemy as sa\n",
    "\n",
    "dim_address_sql = \"\"\"\n",
    "CREATE OR REPLACE TABLE house_prices.dim_address \n",
    "    WITH ( partitioning = ARRAY['bucket(address_id, 10)'] )\n",
    "    AS (\n",
    "    SELECT DISTINCT to_hex(md5(cast(\n",
    "        coalesce(paon, '') ||\n",
    "        coalesce(saon, '') ||\n",
    "        coalesce(street, '') ||\n",
    "        coalesce(locality, '') ||\n",
    "        coalesce(town, '') ||\n",
    "        coalesce(district, '') ||\n",
    "        coalesce(county, '') ||\n",
    "        coalesce(postcode, '')\n",
    "    as varbinary))) AS address_id,\n",
    "      paon,\n",
    "      saon,\n",
    "      street,\n",
    "      locality,\n",
    "      town,\n",
    "      district,\n",
    "      county,\n",
    "      postcode\n",
    "FROM house_prices.raw)\n",
    "\"\"\""
   ]
  },
  {
   "cell_type": "code",
   "execution_count": 14,
   "id": "84dbc586-4c04-4fd6-b45d-33b2e247dc9b",
   "metadata": {},
   "outputs": [],
   "source": [
    "fct_prices_sql = \"\"\"\n",
    "CREATE OR REPLACE TABLE house_prices.fct_house_prices\n",
    "    WITH ( partitioning = ARRAY['month(date_of_transfer)'] ) AS (\n",
    "        WITH ranked_records AS (\n",
    "            SELECT *,\n",
    "            ROW_NUMBER () OVER (PARTITION BY transaction_id ORDER BY month(date_of_transfer) DESC) AS rn\n",
    "            FROM house_prices.raw\n",
    "    ),\n",
    "    latest_records AS (\n",
    "        SELECT *\n",
    "        FROM ranked_records\n",
    "        WHERE rn = 1\n",
    "    ),\n",
    "    with_address_id AS (\n",
    "        SELECT to_hex(md5(cast (\n",
    "                coalesce(paon, '') ||\n",
    "                coalesce(saon, '') ||\n",
    "                coalesce(street, '') ||\n",
    "                coalesce(locality, '') ||\n",
    "                coalesce(town, '') ||\n",
    "                coalesce(district, '') ||\n",
    "                coalesce(county, '') ||\n",
    "                coalesce(postcode, '')\n",
    "            as varbinary))) AS address_id,\n",
    "                transaction_id,\n",
    "                price,\n",
    "                date_of_transfer,\n",
    "                property_type,\n",
    "                new_property,\n",
    "                duration,\n",
    "                ppd_category_type,\n",
    "                record_status\n",
    "        FROM latest_records\n",
    "        WHERE record_status != 'D' and ppd_category_type = 'A'\n",
    "    )\n",
    "    SELECT *\n",
    "    FROM with_address_id\n",
    "    )\n",
    "\"\"\""
   ]
  },
  {
   "cell_type": "code",
   "execution_count": 15,
   "id": "11db1fab-df41-4e89-9686-5c83b2051d2a",
   "metadata": {},
   "outputs": [
    {
     "name": "stdout",
     "output_type": "stream",
     "text": [
      "Created dim_address with 19,686,507 rows\n",
      "Created fct_prices with 28,430,311 rows\n"
     ]
    }
   ],
   "source": [
    "with engine.begin() as conn:\n",
    "    num_rows_dim_address = conn.execute(sa.text(dim_address_sql)).fetchone()[0]\n",
    "    num_rows_fct_prices = conn.execute(sa.text(fct_prices_sql)).fetchone()[0]\n",
    "\n",
    "print(f\"Created dim_address with {num_rows_dim_address:,} rows\")\n",
    "print(f\"Created fct_prices with {num_rows_fct_prices:,} rows\")"
   ]
  },
  {
   "cell_type": "code",
   "execution_count": 16,
   "id": "e9abce40-7f4b-4cf8-a203-250ae8215d0e",
   "metadata": {},
   "outputs": [],
   "source": [
    "fct_house_prices_t = catalog.load_table(\"house_prices.fct_house_prices\")"
   ]
  },
  {
   "cell_type": "code",
   "execution_count": 17,
   "id": "875aa98d-324d-4c45-83f9-3d3031e8b8ce",
   "metadata": {},
   "outputs": [
    {
     "data": {
      "text/html": [
       "<div><style>\n",
       ".dataframe > thead > tr,\n",
       ".dataframe > tbody > tr {\n",
       "  text-align: right;\n",
       "  white-space: pre-wrap;\n",
       "}\n",
       "</style>\n",
       "<small>shape: (6_707_798, 7)</small><table border=\"1\" class=\"dataframe\"><thead><tr><th>address_id</th><th>first_day</th><th>last_day</th><th>first_price</th><th>last_price</th><th>days_held</th><th>profit</th></tr><tr><td>str</td><td>date</td><td>date</td><td>i32</td><td>i32</td><td>i64</td><td>i32</td></tr></thead><tbody><tr><td>&quot;3F3E05E14170C1790BB29FF6080F2F9E&quot;</td><td>1995-01-01</td><td>2001-03-15</td><td>43,000</td><td>68,000</td><td>2,265</td><td>25,000</td></tr><tr><td>&quot;B34A17BFF459876877C5AB9355720669&quot;</td><td>1995-01-01</td><td>2007-10-11</td><td>35,000</td><td>302,000</td><td>4,666</td><td>267,000</td></tr><tr><td>&quot;31BA6C4E2154FC4D7D68779F377BB833&quot;</td><td>1995-01-01</td><td>2004-06-11</td><td>23,000</td><td>110,000</td><td>3,449</td><td>87,000</td></tr><tr><td>&quot;4ACFE8A0A9EDA3FB34633273FE500AC3&quot;</td><td>1995-01-01</td><td>1998-02-27</td><td>50,000</td><td>59,995</td><td>1,153</td><td>9,995</td></tr><tr><td>&quot;D56AD400DEACA9B1EA7478D009D6A91D&quot;</td><td>1995-01-01</td><td>2002-08-19</td><td>37,000</td><td>115,000</td><td>2,787</td><td>78,000</td></tr><tr><td>&hellip;</td><td>&hellip;</td><td>&hellip;</td><td>&hellip;</td><td>&hellip;</td><td>&hellip;</td><td>&hellip;</td></tr><tr><td>&quot;E70BFE2CF06C7D468FEB5F293FACCFB1&quot;</td><td>2024-10-23</td><td>2024-11-19</td><td>177,500</td><td>150,000</td><td>27</td><td>-27,500</td></tr><tr><td>&quot;CAE827901134DAD269FE040AA40E879C&quot;</td><td>2024-10-28</td><td>2024-11-25</td><td>210,000</td><td>210,000</td><td>28</td><td>0</td></tr><tr><td>&quot;AB3539A7D8A553CD88D296C421D1A3F6&quot;</td><td>2024-10-30</td><td>2024-11-29</td><td>435,000</td><td>800,000</td><td>30</td><td>365,000</td></tr><tr><td>&quot;A6650BAD4B0F5041B7FBC254F780D151&quot;</td><td>2024-10-31</td><td>2024-11-22</td><td>110,000</td><td>119,950</td><td>22</td><td>9,950</td></tr><tr><td>&quot;F209C49CC29D975BAFFEE1F5B152A6F6&quot;</td><td>2024-12-05</td><td>2024-12-06</td><td>190,000</td><td>190,000</td><td>1</td><td>0</td></tr></tbody></table></div>"
      ],
      "text/plain": [
       "shape: (6_707_798, 7)\n",
       "┌───────────────────────┬────────────┬────────────┬─────────────┬────────────┬───────────┬─────────┐\n",
       "│ address_id            ┆ first_day  ┆ last_day   ┆ first_price ┆ last_price ┆ days_held ┆ profit  │\n",
       "│ ---                   ┆ ---        ┆ ---        ┆ ---         ┆ ---        ┆ ---       ┆ ---     │\n",
       "│ str                   ┆ date       ┆ date       ┆ i32         ┆ i32        ┆ i64       ┆ i32     │\n",
       "╞═══════════════════════╪════════════╪════════════╪═════════════╪════════════╪═══════════╪═════════╡\n",
       "│ 3F3E05E14170C1790BB29 ┆ 1995-01-01 ┆ 2001-03-15 ┆ 43,000      ┆ 68,000     ┆ 2,265     ┆ 25,000  │\n",
       "│ FF6080F2F9E           ┆            ┆            ┆             ┆            ┆           ┆         │\n",
       "│ B34A17BFF459876877C5A ┆ 1995-01-01 ┆ 2007-10-11 ┆ 35,000      ┆ 302,000    ┆ 4,666     ┆ 267,000 │\n",
       "│ B9355720669           ┆            ┆            ┆             ┆            ┆           ┆         │\n",
       "│ 31BA6C4E2154FC4D7D687 ┆ 1995-01-01 ┆ 2004-06-11 ┆ 23,000      ┆ 110,000    ┆ 3,449     ┆ 87,000  │\n",
       "│ 79F377BB833           ┆            ┆            ┆             ┆            ┆           ┆         │\n",
       "│ 4ACFE8A0A9EDA3FB34633 ┆ 1995-01-01 ┆ 1998-02-27 ┆ 50,000      ┆ 59,995     ┆ 1,153     ┆ 9,995   │\n",
       "│ 273FE500AC3           ┆            ┆            ┆             ┆            ┆           ┆         │\n",
       "│ D56AD400DEACA9B1EA747 ┆ 1995-01-01 ┆ 2002-08-19 ┆ 37,000      ┆ 115,000    ┆ 2,787     ┆ 78,000  │\n",
       "│ 8D009D6A91D           ┆            ┆            ┆             ┆            ┆           ┆         │\n",
       "│ …                     ┆ …          ┆ …          ┆ …           ┆ …          ┆ …         ┆ …       │\n",
       "│ E70BFE2CF06C7D468FEB5 ┆ 2024-10-23 ┆ 2024-11-19 ┆ 177,500     ┆ 150,000    ┆ 27        ┆ -27,500 │\n",
       "│ F293FACCFB1           ┆            ┆            ┆             ┆            ┆           ┆         │\n",
       "│ CAE827901134DAD269FE0 ┆ 2024-10-28 ┆ 2024-11-25 ┆ 210,000     ┆ 210,000    ┆ 28        ┆ 0       │\n",
       "│ 40AA40E879C           ┆            ┆            ┆             ┆            ┆           ┆         │\n",
       "│ AB3539A7D8A553CD88D29 ┆ 2024-10-30 ┆ 2024-11-29 ┆ 435,000     ┆ 800,000    ┆ 30        ┆ 365,000 │\n",
       "│ 6C421D1A3F6           ┆            ┆            ┆             ┆            ┆           ┆         │\n",
       "│ A6650BAD4B0F5041B7FBC ┆ 2024-10-31 ┆ 2024-11-22 ┆ 110,000     ┆ 119,950    ┆ 22        ┆ 9,950   │\n",
       "│ 254F780D151           ┆            ┆            ┆             ┆            ┆           ┆         │\n",
       "│ F209C49CC29D975BAFFEE ┆ 2024-12-05 ┆ 2024-12-06 ┆ 190,000     ┆ 190,000    ┆ 1         ┆ 0       │\n",
       "│ 1F5B152A6F6           ┆            ┆            ┆             ┆            ┆           ┆         │\n",
       "└───────────────────────┴────────────┴────────────┴─────────────┴────────────┴───────────┴─────────┘"
      ]
     },
     "execution_count": 17,
     "metadata": {},
     "output_type": "execute_result"
    }
   ],
   "source": [
    "polars_result = (\n",
    "    pl.scan_iceberg(fct_house_prices_t)\n",
    "    .sort(\"date_of_transfer\").group_by(\"address_id\", maintain_order=True).agg(\n",
    "        pl.col(\"date_of_transfer\").first().alias(\"first_day\"),\n",
    "        pl.col(\"date_of_transfer\").last().alias(\"last_day\"),\n",
    "        pl.col(\"price\").first().alias('first_price'),\n",
    "        pl.col(\"price\").last().alias(\"last_price\"),\n",
    "        \n",
    "        (pl.col(\"date_of_transfer\").last() - pl.col(\"date_of_transfer\").first()).dt.total_days().alias(\"days_held\")\n",
    "    ).filter(pl.col(\"first_day\") != pl.col(\"last_day\"))\n",
    "        .with_columns(\n",
    "            (pl.col(\"last_price\") - pl.col(\"first_price\")).alias(\"profit\"),\n",
    "            (pl.col(\"last_day\") - pl.col(\"first_day\")).dt.total_days().alias(\"days_held\")\n",
    "        )\n",
    "    .collect()\n",
    ")\n",
    "polars_result"
   ]
  },
  {
   "cell_type": "code",
   "execution_count": 18,
   "id": "f37fd6fb-0f6a-47d7-957e-505e84511dda",
   "metadata": {},
   "outputs": [],
   "source": [
    "profits_t = catalog.create_table_if_not_exists(\"house_prices.profits\", schema=polars_result.to_arrow().schema)"
   ]
  },
  {
   "cell_type": "code",
   "execution_count": 19,
   "id": "15c44fff-ab35-49ca-a13f-d93f0f9ab069",
   "metadata": {},
   "outputs": [],
   "source": [
    "profits_t.overwrite(polars_result.to_arrow())"
   ]
  },
  {
   "cell_type": "code",
   "execution_count": 20,
   "id": "cb4ee7b2-9465-4765-a8a8-4c0995259434",
   "metadata": {},
   "outputs": [],
   "source": [
    "def query_profits(year: int) -> pl.DataFrame:\n",
    "    table = catalog.load_table(\"house_prices.profits\")\n",
    "    df = (\n",
    "        pl.scan_iceberg(table)\n",
    "            .filter(pl.col(\"first_day\").dt.year() == year)\n",
    "            .select(\n",
    "                pl.col(\"profit\").mean().alias(\"mean_house_profits\"),\n",
    "                \n",
    "                )\n",
    "    )\n",
    "    return df.collect()"
   ]
  },
  {
   "cell_type": "code",
   "execution_count": 21,
   "id": "24c7eb48-dac3-4cf6-8493-357578ab2f62",
   "metadata": {},
   "outputs": [
    {
     "data": {
      "text/html": [
       "<div><style>\n",
       ".dataframe > thead > tr,\n",
       ".dataframe > tbody > tr {\n",
       "  text-align: right;\n",
       "  white-space: pre-wrap;\n",
       "}\n",
       "</style>\n",
       "<small>shape: (1, 1)</small><table border=\"1\" class=\"dataframe\"><thead><tr><th>mean_house_profits</th></tr><tr><td>f64</td></tr></thead><tbody><tr><td>64,690.471543</td></tr></tbody></table></div>"
      ],
      "text/plain": [
       "shape: (1, 1)\n",
       "┌────────────────────┐\n",
       "│ mean_house_profits │\n",
       "│ ---                │\n",
       "│ f64                │\n",
       "╞════════════════════╡\n",
       "│ 64,690.471543      │\n",
       "└────────────────────┘"
      ]
     },
     "execution_count": 21,
     "metadata": {},
     "output_type": "execute_result"
    }
   ],
   "source": [
    "query_profits(2016)"
   ]
  },
  {
   "cell_type": "code",
   "execution_count": null,
   "id": "498a4f86-8fe2-47bd-b46c-8cac19bf5981",
   "metadata": {},
   "outputs": [],
   "source": []
  }
 ],
 "metadata": {
  "kernelspec": {
   "display_name": "Python 3 (ipykernel)",
   "language": "python",
   "name": "python3"
  },
  "language_info": {
   "codemirror_mode": {
    "name": "ipython",
    "version": 3
   },
   "file_extension": ".py",
   "mimetype": "text/x-python",
   "name": "python",
   "nbconvert_exporter": "python",
   "pygments_lexer": "ipython3",
   "version": "3.12.10"
  }
 },
 "nbformat": 4,
 "nbformat_minor": 5
}
