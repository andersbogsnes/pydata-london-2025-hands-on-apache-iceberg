{
 "cells": [
  {
   "cell_type": "code",
   "execution_count": 180,
   "id": "d010f305-d0e6-44e6-a95f-1f4ba977bd67",
   "metadata": {},
   "outputs": [
    {
     "data": {
      "text/plain": [
       "polars.config.Config"
      ]
     },
     "execution_count": 180,
     "metadata": {},
     "output_type": "execute_result"
    }
   ],
   "source": [
    "import sqlalchemy as sa\n",
    "from utils import query, engine, catalog\n",
    "import polars as pl\n",
    "pl.Config.set_fmt_str_lengths(50)\n",
    "pl.Config.set_thousands_separator(True)"
   ]
  },
  {
   "cell_type": "code",
   "execution_count": 30,
   "id": "2f8a17a9-fa8a-4684-b890-e8975c2cc840",
   "metadata": {},
   "outputs": [],
   "source": [
    "import sqlalchemy as sa\n",
    "\n",
    "dim_address_sql = \"\"\"\n",
    "CREATE OR REPLACE TABLE house_prices.dim_address \n",
    "    WITH ( partitioning = ARRAY['bucket(address_id, 10)'] )\n",
    "    AS (\n",
    "    SELECT DISTINCT to_hex(md5(cast(\n",
    "        coalesce(paon, '') ||\n",
    "        coalesce(saon, '') ||\n",
    "        coalesce(street, '') ||\n",
    "        coalesce(locality, '') ||\n",
    "        coalesce(town, '') ||\n",
    "        coalesce(district, '') ||\n",
    "        coalesce(county, '') ||\n",
    "        coalesce(postcode, '')\n",
    "    as varbinary))) AS address_id,\n",
    "      paon,\n",
    "      saon,\n",
    "      street,\n",
    "      locality,\n",
    "      town,\n",
    "      district,\n",
    "      county,\n",
    "      postcode\n",
    "FROM house_prices.raw)\n",
    "\"\"\""
   ]
  },
  {
   "cell_type": "code",
   "execution_count": 31,
   "id": "84dbc586-4c04-4fd6-b45d-33b2e247dc9b",
   "metadata": {},
   "outputs": [],
   "source": [
    "fct_prices_sql = \"\"\"\n",
    "CREATE OR REPLACE TABLE house_prices.fct_house_prices\n",
    "    WITH ( partitioning = ARRAY['month(date_of_transfer)'] ) AS (\n",
    "        WITH ranked_records AS (\n",
    "            SELECT *,\n",
    "            ROW_NUMBER () OVER (PARTITION BY transaction_id ORDER BY month(date_of_transfer) DESC) AS rn\n",
    "            FROM house_prices.raw\n",
    "    ),\n",
    "    latest_records AS (\n",
    "        SELECT *\n",
    "        FROM ranked_records\n",
    "        WHERE rn = 1\n",
    "    ),\n",
    "    with_address_id AS (\n",
    "        SELECT to_hex(md5(cast (\n",
    "                coalesce(paon, '') ||\n",
    "                coalesce(saon, '') ||\n",
    "                coalesce(street, '') ||\n",
    "                coalesce(locality, '') ||\n",
    "                coalesce(town, '') ||\n",
    "                coalesce(district, '') ||\n",
    "                coalesce(county, '') ||\n",
    "                coalesce(postcode, '')\n",
    "            as varbinary))) AS address_id,\n",
    "                transaction_id,\n",
    "                price,\n",
    "                date_of_transfer,\n",
    "                property_type,\n",
    "                new_property,\n",
    "                duration,\n",
    "                ppd_category_type,\n",
    "                record_status\n",
    "        FROM latest_records\n",
    "        WHERE record_status != 'D' and ppd_category_type = 'A'\n",
    "    )\n",
    "    SELECT *\n",
    "    FROM with_address_id\n",
    "    )\n",
    "\"\"\""
   ]
  },
  {
   "cell_type": "code",
   "execution_count": 32,
   "id": "11db1fab-df41-4e89-9686-5c83b2051d2a",
   "metadata": {},
   "outputs": [
    {
     "name": "stdout",
     "output_type": "stream",
     "text": [
      "Created dim_address with 7,498,409 rows\n",
      "Created fct_prices with 7,592,564 rows\n"
     ]
    }
   ],
   "source": [
    "with engine.begin() as conn:\n",
    "    num_rows_dim_address = conn.execute(sa.text(dim_address_sql)).fetchone()[0]\n",
    "    num_rows_fct_prices = conn.execute(sa.text(fct_prices_sql)).fetchone()[0]\n",
    "\n",
    "print(f\"Created dim_address with {num_rows_dim_address:,} rows\")\n",
    "print(f\"Created fct_prices with {num_rows_fct_prices:,} rows\")"
   ]
  },
  {
   "cell_type": "code",
   "execution_count": 181,
   "id": "e9abce40-7f4b-4cf8-a203-250ae8215d0e",
   "metadata": {},
   "outputs": [],
   "source": [
    "fct_house_prices_t = catalog.load_table(\"house_prices.fct_house_prices\")"
   ]
  },
  {
   "cell_type": "code",
   "execution_count": 182,
   "id": "875aa98d-324d-4c45-83f9-3d3031e8b8ce",
   "metadata": {},
   "outputs": [
    {
     "name": "stderr",
     "output_type": "stream",
     "text": [
      "/usr/local/lib/python3.12/site-packages/pyiceberg/avro/decoder.py:185: UserWarning: Falling back to pure Python Avro decoder, missing Cython implementation\n",
      "  warnings.warn(\"Falling back to pure Python Avro decoder, missing Cython implementation\")\n"
     ]
    },
    {
     "data": {
      "text/html": [
       "<div><style>\n",
       ".dataframe > thead > tr,\n",
       ".dataframe > tbody > tr {\n",
       "  text-align: right;\n",
       "  white-space: pre-wrap;\n",
       "}\n",
       "</style>\n",
       "<small>shape: (953_001, 7)</small><table border=\"1\" class=\"dataframe\"><thead><tr><th>address_id</th><th>first_day</th><th>last_day</th><th>first_price</th><th>last_price</th><th>days_held</th><th>profit</th></tr><tr><td>str</td><td>date</td><td>date</td><td>i32</td><td>i32</td><td>i64</td><td>i32</td></tr></thead><tbody><tr><td>&quot;523E32EA157C4EC2AD34B9F4E5AA59F5&quot;</td><td>2015-01-01</td><td>2024-09-20</td><td>83,000</td><td>242,500</td><td>3,550</td><td>159,500</td></tr><tr><td>&quot;D1E83E822AB222D7C60CA95A822A98EB&quot;</td><td>2015-01-01</td><td>2023-01-06</td><td>80,000</td><td>90,000</td><td>2,927</td><td>10,000</td></tr><tr><td>&quot;CE5328CF989858FC5D7ED07716F6F86E&quot;</td><td>2015-01-01</td><td>2021-12-17</td><td>296,250</td><td>358,000</td><td>2,542</td><td>61,750</td></tr><tr><td>&quot;7BC097DC2832C45EBE135BCF913A17CE&quot;</td><td>2015-01-01</td><td>2015-08-20</td><td>110,000</td><td>146,000</td><td>231</td><td>36,000</td></tr><tr><td>&quot;03FC21590BEBD40929851C44DC9366CB&quot;</td><td>2015-01-01</td><td>2024-02-19</td><td>80,000</td><td>194,000</td><td>3,336</td><td>114,000</td></tr><tr><td>&hellip;</td><td>&hellip;</td><td>&hellip;</td><td>&hellip;</td><td>&hellip;</td><td>&hellip;</td><td>&hellip;</td></tr><tr><td>&quot;AB3539A7D8A553CD88D296C421D1A3F6&quot;</td><td>2024-10-30</td><td>2024-11-29</td><td>435,000</td><td>800,000</td><td>30</td><td>365,000</td></tr><tr><td>&quot;A6650BAD4B0F5041B7FBC254F780D151&quot;</td><td>2024-10-31</td><td>2024-11-22</td><td>110,000</td><td>119,950</td><td>22</td><td>9,950</td></tr><tr><td>&quot;809A689F9994FE55DEBB2E751DCD49C1&quot;</td><td>2024-11-01</td><td>2024-12-20</td><td>147,500</td><td>172,500</td><td>49</td><td>25,000</td></tr><tr><td>&quot;CBCB718361AC3FCE9C880CB9FAAFDE22&quot;</td><td>2024-11-28</td><td>2024-11-29</td><td>800,000</td><td>800,000</td><td>1</td><td>0</td></tr><tr><td>&quot;F209C49CC29D975BAFFEE1F5B152A6F6&quot;</td><td>2024-12-05</td><td>2024-12-06</td><td>190,000</td><td>190,000</td><td>1</td><td>0</td></tr></tbody></table></div>"
      ],
      "text/plain": [
       "shape: (953_001, 7)\n",
       "┌───────────────────────┬────────────┬────────────┬─────────────┬────────────┬───────────┬─────────┐\n",
       "│ address_id            ┆ first_day  ┆ last_day   ┆ first_price ┆ last_price ┆ days_held ┆ profit  │\n",
       "│ ---                   ┆ ---        ┆ ---        ┆ ---         ┆ ---        ┆ ---       ┆ ---     │\n",
       "│ str                   ┆ date       ┆ date       ┆ i32         ┆ i32        ┆ i64       ┆ i32     │\n",
       "╞═══════════════════════╪════════════╪════════════╪═════════════╪════════════╪═══════════╪═════════╡\n",
       "│ 523E32EA157C4EC2AD34B ┆ 2015-01-01 ┆ 2024-09-20 ┆ 83,000      ┆ 242,500    ┆ 3,550     ┆ 159,500 │\n",
       "│ 9F4E5AA59F5           ┆            ┆            ┆             ┆            ┆           ┆         │\n",
       "│ D1E83E822AB222D7C60CA ┆ 2015-01-01 ┆ 2023-01-06 ┆ 80,000      ┆ 90,000     ┆ 2,927     ┆ 10,000  │\n",
       "│ 95A822A98EB           ┆            ┆            ┆             ┆            ┆           ┆         │\n",
       "│ CE5328CF989858FC5D7ED ┆ 2015-01-01 ┆ 2021-12-17 ┆ 296,250     ┆ 358,000    ┆ 2,542     ┆ 61,750  │\n",
       "│ 07716F6F86E           ┆            ┆            ┆             ┆            ┆           ┆         │\n",
       "│ 7BC097DC2832C45EBE135 ┆ 2015-01-01 ┆ 2015-08-20 ┆ 110,000     ┆ 146,000    ┆ 231       ┆ 36,000  │\n",
       "│ BCF913A17CE           ┆            ┆            ┆             ┆            ┆           ┆         │\n",
       "│ 03FC21590BEBD40929851 ┆ 2015-01-01 ┆ 2024-02-19 ┆ 80,000      ┆ 194,000    ┆ 3,336     ┆ 114,000 │\n",
       "│ C44DC9366CB           ┆            ┆            ┆             ┆            ┆           ┆         │\n",
       "│ …                     ┆ …          ┆ …          ┆ …           ┆ …          ┆ …         ┆ …       │\n",
       "│ AB3539A7D8A553CD88D29 ┆ 2024-10-30 ┆ 2024-11-29 ┆ 435,000     ┆ 800,000    ┆ 30        ┆ 365,000 │\n",
       "│ 6C421D1A3F6           ┆            ┆            ┆             ┆            ┆           ┆         │\n",
       "│ A6650BAD4B0F5041B7FBC ┆ 2024-10-31 ┆ 2024-11-22 ┆ 110,000     ┆ 119,950    ┆ 22        ┆ 9,950   │\n",
       "│ 254F780D151           ┆            ┆            ┆             ┆            ┆           ┆         │\n",
       "│ 809A689F9994FE55DEBB2 ┆ 2024-11-01 ┆ 2024-12-20 ┆ 147,500     ┆ 172,500    ┆ 49        ┆ 25,000  │\n",
       "│ E751DCD49C1           ┆            ┆            ┆             ┆            ┆           ┆         │\n",
       "│ CBCB718361AC3FCE9C880 ┆ 2024-11-28 ┆ 2024-11-29 ┆ 800,000     ┆ 800,000    ┆ 1         ┆ 0       │\n",
       "│ CB9FAAFDE22           ┆            ┆            ┆             ┆            ┆           ┆         │\n",
       "│ F209C49CC29D975BAFFEE ┆ 2024-12-05 ┆ 2024-12-06 ┆ 190,000     ┆ 190,000    ┆ 1         ┆ 0       │\n",
       "│ 1F5B152A6F6           ┆            ┆            ┆             ┆            ┆           ┆         │\n",
       "└───────────────────────┴────────────┴────────────┴─────────────┴────────────┴───────────┴─────────┘"
      ]
     },
     "execution_count": 182,
     "metadata": {},
     "output_type": "execute_result"
    }
   ],
   "source": [
    "polars_result = (\n",
    "    pl.scan_iceberg(fct_house_prices_t)\n",
    "    .sort(\"date_of_transfer\").group_by(\"address_id\", maintain_order=True).agg(\n",
    "        pl.col(\"date_of_transfer\").first().alias(\"first_day\"),\n",
    "        pl.col(\"date_of_transfer\").last().alias(\"last_day\"),\n",
    "        pl.col(\"price\").first().alias('first_price'),\n",
    "        pl.col(\"price\").last().alias(\"last_price\"),\n",
    "        \n",
    "        (pl.col(\"date_of_transfer\").last() - pl.col(\"date_of_transfer\").first()).dt.total_days().alias(\"days_held\")\n",
    "    ).filter(pl.col(\"first_day\") != pl.col(\"last_day\"))\n",
    "        .with_columns(\n",
    "            (pl.col(\"last_price\") - pl.col(\"first_price\")).alias(\"profit\"),\n",
    "            (pl.col(\"last_day\") - pl.col(\"first_day\")).dt.total_days().alias(\"days_held\")\n",
    "        )\n",
    "    .collect()\n",
    ")\n",
    "polars_result"
   ]
  },
  {
   "cell_type": "code",
   "execution_count": 154,
   "id": "f37fd6fb-0f6a-47d7-957e-505e84511dda",
   "metadata": {},
   "outputs": [],
   "source": [
    "profits_t = catalog.create_table_if_not_exists(\"house_prices.profits\", schema=polars_result.to_arrow().schema)"
   ]
  },
  {
   "cell_type": "code",
   "execution_count": 155,
   "id": "15c44fff-ab35-49ca-a13f-d93f0f9ab069",
   "metadata": {},
   "outputs": [
    {
     "name": "stderr",
     "output_type": "stream",
     "text": [
      "/usr/local/lib/python3.12/site-packages/pyiceberg/table/__init__.py:686: UserWarning: Delete operation did not match any records\n",
      "  warnings.warn(\"Delete operation did not match any records\")\n"
     ]
    }
   ],
   "source": [
    "profits_t.append(polars_result.to_arrow())"
   ]
  },
  {
   "cell_type": "code",
   "execution_count": 172,
   "id": "cb4ee7b2-9465-4765-a8a8-4c0995259434",
   "metadata": {},
   "outputs": [],
   "source": [
    "def query_profits(year: int) -> pl.DataFrame:\n",
    "    table = catalog.load_table(\"house_prices.profits\")\n",
    "    df = (\n",
    "        pl.scan_iceberg(table)\n",
    "            .filter(pl.col(\"first_day\").dt.year() == year)\n",
    "            .select(\n",
    "                pl.col(\"profit\").mean().alias(\"mean_house_profits\"),\n",
    "                \n",
    "                )\n",
    "    )\n",
    "    return df.collect()"
   ]
  },
  {
   "cell_type": "code",
   "execution_count": 173,
   "id": "24c7eb48-dac3-4cf6-8493-357578ab2f62",
   "metadata": {},
   "outputs": [
    {
     "data": {
      "text/html": [
       "<div><style>\n",
       ".dataframe > thead > tr,\n",
       ".dataframe > tbody > tr {\n",
       "  text-align: right;\n",
       "  white-space: pre-wrap;\n",
       "}\n",
       "</style>\n",
       "<small>shape: (1, 1)</small><table border=\"1\" class=\"dataframe\"><thead><tr><th>mean_house_profits</th></tr><tr><td>f64</td></tr></thead><tbody><tr><td>54172.897164</td></tr></tbody></table></div>"
      ],
      "text/plain": [
       "shape: (1, 1)\n",
       "┌────────────────────┐\n",
       "│ mean_house_profits │\n",
       "│ ---                │\n",
       "│ f64                │\n",
       "╞════════════════════╡\n",
       "│ 54172.897164       │\n",
       "└────────────────────┘"
      ]
     },
     "execution_count": 173,
     "metadata": {},
     "output_type": "execute_result"
    }
   ],
   "source": [
    "query_profits(2016)"
   ]
  }
 ],
 "metadata": {
  "kernelspec": {
   "display_name": "Python 3 (ipykernel)",
   "language": "python",
   "name": "python3"
  },
  "language_info": {
   "codemirror_mode": {
    "name": "ipython",
    "version": 3
   },
   "file_extension": ".py",
   "mimetype": "text/x-python",
   "name": "python",
   "nbconvert_exporter": "python",
   "pygments_lexer": "ipython3",
   "version": "3.12.10"
  }
 },
 "nbformat": 4,
 "nbformat_minor": 5
}
