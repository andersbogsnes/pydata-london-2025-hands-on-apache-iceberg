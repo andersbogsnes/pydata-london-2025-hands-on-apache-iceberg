{
 "cells": [
  {
   "cell_type": "code",
   "execution_count": 73,
   "id": "d010f305-d0e6-44e6-a95f-1f4ba977bd67",
   "metadata": {},
   "outputs": [
    {
     "data": {
      "text/plain": [
       "polars.config.Config"
      ]
     },
     "execution_count": 73,
     "metadata": {},
     "output_type": "execute_result"
    }
   ],
   "source": [
    "import sqlalchemy as sa\n",
    "from utils import query, engine, catalog\n",
    "import polars as pl\n",
    "pl.Config.set_fmt_str_lengths(50)"
   ]
  },
  {
   "cell_type": "code",
   "execution_count": 30,
   "id": "2f8a17a9-fa8a-4684-b890-e8975c2cc840",
   "metadata": {},
   "outputs": [],
   "source": [
    "import sqlalchemy as sa\n",
    "\n",
    "dim_address_sql = \"\"\"\n",
    "CREATE OR REPLACE TABLE house_prices.dim_address \n",
    "    WITH ( partitioning = ARRAY['bucket(address_id, 10)'] )\n",
    "    AS (\n",
    "    SELECT DISTINCT to_hex(md5(cast(\n",
    "        coalesce(paon, '') ||\n",
    "        coalesce(saon, '') ||\n",
    "        coalesce(street, '') ||\n",
    "        coalesce(locality, '') ||\n",
    "        coalesce(town, '') ||\n",
    "        coalesce(district, '') ||\n",
    "        coalesce(county, '') ||\n",
    "        coalesce(postcode, '')\n",
    "    as varbinary))) AS address_id,\n",
    "      paon,\n",
    "      saon,\n",
    "      street,\n",
    "      locality,\n",
    "      town,\n",
    "      district,\n",
    "      county,\n",
    "      postcode\n",
    "FROM house_prices.raw)\n",
    "\"\"\""
   ]
  },
  {
   "cell_type": "code",
   "execution_count": 31,
   "id": "84dbc586-4c04-4fd6-b45d-33b2e247dc9b",
   "metadata": {},
   "outputs": [],
   "source": [
    "fct_prices_sql = \"\"\"\n",
    "CREATE OR REPLACE TABLE house_prices.fct_house_prices\n",
    "    WITH ( partitioning = ARRAY['month(date_of_transfer)'] ) AS (\n",
    "        WITH ranked_records AS (\n",
    "            SELECT *,\n",
    "            ROW_NUMBER () OVER (PARTITION BY transaction_id ORDER BY month(date_of_transfer) DESC) AS rn\n",
    "            FROM house_prices.raw\n",
    "    ),\n",
    "    latest_records AS (\n",
    "        SELECT *\n",
    "        FROM ranked_records\n",
    "        WHERE rn = 1\n",
    "    ),\n",
    "    with_address_id AS (\n",
    "        SELECT to_hex(md5(cast (\n",
    "                coalesce(paon, '') ||\n",
    "                coalesce(saon, '') ||\n",
    "                coalesce(street, '') ||\n",
    "                coalesce(locality, '') ||\n",
    "                coalesce(town, '') ||\n",
    "                coalesce(district, '') ||\n",
    "                coalesce(county, '') ||\n",
    "                coalesce(postcode, '')\n",
    "            as varbinary))) AS address_id,\n",
    "                transaction_id,\n",
    "                price,\n",
    "                date_of_transfer,\n",
    "                property_type,\n",
    "                new_property,\n",
    "                duration,\n",
    "                ppd_category_type,\n",
    "                record_status\n",
    "        FROM latest_records\n",
    "        WHERE record_status != 'D' and ppd_category_type = 'A'\n",
    "    )\n",
    "    SELECT *\n",
    "    FROM with_address_id\n",
    "    )\n",
    "\"\"\""
   ]
  },
  {
   "cell_type": "code",
   "execution_count": 32,
   "id": "11db1fab-df41-4e89-9686-5c83b2051d2a",
   "metadata": {},
   "outputs": [
    {
     "name": "stdout",
     "output_type": "stream",
     "text": [
      "Created dim_address with 7,498,409 rows\n",
      "Created fct_prices with 7,592,564 rows\n"
     ]
    }
   ],
   "source": [
    "with engine.begin() as conn:\n",
    "    num_rows_dim_address = conn.execute(sa.text(dim_address_sql)).fetchone()[0]\n",
    "    num_rows_fct_prices = conn.execute(sa.text(fct_prices_sql)).fetchone()[0]\n",
    "\n",
    "print(f\"Created dim_address with {num_rows_dim_address:,} rows\")\n",
    "print(f\"Created fct_prices with {num_rows_fct_prices:,} rows\")"
   ]
  },
  {
   "cell_type": "code",
   "execution_count": 47,
   "id": "e9abce40-7f4b-4cf8-a203-250ae8215d0e",
   "metadata": {},
   "outputs": [],
   "source": [
    "fct_house_prices_t = catalog.load_table(\"house_prices.fct_house_prices\")"
   ]
  },
  {
   "cell_type": "code",
   "execution_count": 61,
   "id": "875aa98d-324d-4c45-83f9-3d3031e8b8ce",
   "metadata": {},
   "outputs": [
    {
     "data": {
      "text/html": [
       "<div><style>\n",
       ".dataframe > thead > tr,\n",
       ".dataframe > tbody > tr {\n",
       "  text-align: right;\n",
       "  white-space: pre-wrap;\n",
       "}\n",
       "</style>\n",
       "<small>shape: (953_001, 6)</small><table border=\"1\" class=\"dataframe\"><thead><tr><th>address_id</th><th>first_day</th><th>last_day</th><th>first_price</th><th>last_price</th><th>profit</th></tr><tr><td>str</td><td>date</td><td>date</td><td>i32</td><td>i32</td><td>i32</td></tr></thead><tbody><tr><td>&quot;523E32EA157C4EC2AD34B9F4E5AA59…</td><td>2015-01-01</td><td>2024-09-20</td><td>83000</td><td>242500</td><td>159500</td></tr><tr><td>&quot;D1E83E822AB222D7C60CA95A822A98…</td><td>2015-01-01</td><td>2023-01-06</td><td>80000</td><td>90000</td><td>10000</td></tr><tr><td>&quot;CE5328CF989858FC5D7ED07716F6F8…</td><td>2015-01-01</td><td>2021-12-17</td><td>296250</td><td>358000</td><td>61750</td></tr><tr><td>&quot;7BC097DC2832C45EBE135BCF913A17…</td><td>2015-01-01</td><td>2015-08-20</td><td>110000</td><td>146000</td><td>36000</td></tr><tr><td>&quot;03FC21590BEBD40929851C44DC9366…</td><td>2015-01-01</td><td>2024-02-19</td><td>80000</td><td>194000</td><td>114000</td></tr><tr><td>&hellip;</td><td>&hellip;</td><td>&hellip;</td><td>&hellip;</td><td>&hellip;</td><td>&hellip;</td></tr><tr><td>&quot;AB3539A7D8A553CD88D296C421D1A3…</td><td>2024-10-30</td><td>2024-11-29</td><td>435000</td><td>800000</td><td>365000</td></tr><tr><td>&quot;A6650BAD4B0F5041B7FBC254F780D1…</td><td>2024-10-31</td><td>2024-11-22</td><td>110000</td><td>119950</td><td>9950</td></tr><tr><td>&quot;809A689F9994FE55DEBB2E751DCD49…</td><td>2024-11-01</td><td>2024-12-20</td><td>147500</td><td>172500</td><td>25000</td></tr><tr><td>&quot;CBCB718361AC3FCE9C880CB9FAAFDE…</td><td>2024-11-28</td><td>2024-11-29</td><td>800000</td><td>800000</td><td>0</td></tr><tr><td>&quot;F209C49CC29D975BAFFEE1F5B152A6…</td><td>2024-12-05</td><td>2024-12-06</td><td>190000</td><td>190000</td><td>0</td></tr></tbody></table></div>"
      ],
      "text/plain": [
       "shape: (953_001, 6)\n",
       "┌─────────────────────────────────┬────────────┬────────────┬─────────────┬────────────┬────────┐\n",
       "│ address_id                      ┆ first_day  ┆ last_day   ┆ first_price ┆ last_price ┆ profit │\n",
       "│ ---                             ┆ ---        ┆ ---        ┆ ---         ┆ ---        ┆ ---    │\n",
       "│ str                             ┆ date       ┆ date       ┆ i32         ┆ i32        ┆ i32    │\n",
       "╞═════════════════════════════════╪════════════╪════════════╪═════════════╪════════════╪════════╡\n",
       "│ 523E32EA157C4EC2AD34B9F4E5AA59… ┆ 2015-01-01 ┆ 2024-09-20 ┆ 83000       ┆ 242500     ┆ 159500 │\n",
       "│ D1E83E822AB222D7C60CA95A822A98… ┆ 2015-01-01 ┆ 2023-01-06 ┆ 80000       ┆ 90000      ┆ 10000  │\n",
       "│ CE5328CF989858FC5D7ED07716F6F8… ┆ 2015-01-01 ┆ 2021-12-17 ┆ 296250      ┆ 358000     ┆ 61750  │\n",
       "│ 7BC097DC2832C45EBE135BCF913A17… ┆ 2015-01-01 ┆ 2015-08-20 ┆ 110000      ┆ 146000     ┆ 36000  │\n",
       "│ 03FC21590BEBD40929851C44DC9366… ┆ 2015-01-01 ┆ 2024-02-19 ┆ 80000       ┆ 194000     ┆ 114000 │\n",
       "│ …                               ┆ …          ┆ …          ┆ …           ┆ …          ┆ …      │\n",
       "│ AB3539A7D8A553CD88D296C421D1A3… ┆ 2024-10-30 ┆ 2024-11-29 ┆ 435000      ┆ 800000     ┆ 365000 │\n",
       "│ A6650BAD4B0F5041B7FBC254F780D1… ┆ 2024-10-31 ┆ 2024-11-22 ┆ 110000      ┆ 119950     ┆ 9950   │\n",
       "│ 809A689F9994FE55DEBB2E751DCD49… ┆ 2024-11-01 ┆ 2024-12-20 ┆ 147500      ┆ 172500     ┆ 25000  │\n",
       "│ CBCB718361AC3FCE9C880CB9FAAFDE… ┆ 2024-11-28 ┆ 2024-11-29 ┆ 800000      ┆ 800000     ┆ 0      │\n",
       "│ F209C49CC29D975BAFFEE1F5B152A6… ┆ 2024-12-05 ┆ 2024-12-06 ┆ 190000      ┆ 190000     ┆ 0      │\n",
       "└─────────────────────────────────┴────────────┴────────────┴─────────────┴────────────┴────────┘"
      ]
     },
     "execution_count": 61,
     "metadata": {},
     "output_type": "execute_result"
    }
   ],
   "source": [
    "polars_result = (\n",
    "    pl.scan_iceberg(fct_house_prices_t)\n",
    "    #.join(sold_address_ids, on=\"address_id\", how=\"inner\")\n",
    "    .sort(\"date_of_transfer\").group_by(\"address_id\", maintain_order=True).agg(\n",
    "        pl.col(\"date_of_transfer\").first().alias(\"first_day\"),\n",
    "        pl.col(\"date_of_transfer\").last().alias(\"last_day\"),\n",
    "        pl.col(\"price\").first().alias('first_price'),\n",
    "        pl.col(\"price\").last().alias(\"last_price\"),\n",
    "        (pl.col(\"price\").last() - pl.col(\"price\").first()).alias(\"profit\")   \n",
    "    ).filter(pl.col(\"first_day\") != pl.col(\"last_day\"))\n",
    "    .collect()\n",
    ")\n",
    "polars_result"
   ]
  },
  {
   "cell_type": "code",
   "execution_count": 53,
   "id": "ea5413b6-d280-4a9b-b2c6-8ac58bbdd787",
   "metadata": {},
   "outputs": [],
   "source": [
    "trino_df = query(\"\"\"\n",
    "WITH first_prices AS (\n",
    "    SELECT \n",
    "        address_id, \n",
    "        price AS first_price,\n",
    "        ROW_NUMBER() OVER (PARTITION BY address_id ORDER BY date_of_transfer) AS rn\n",
    "    FROM house_prices.fct_house_prices\n",
    "),\n",
    "last_prices AS (\n",
    "    SELECT \n",
    "        address_id, \n",
    "        price AS last_price,\n",
    "        ROW_NUMBER() OVER (PARTITION BY address_id ORDER BY date_of_transfer DESC) AS rn\n",
    "    FROM house_prices.fct_house_prices\n",
    "),\n",
    "address_ids AS (\n",
    "    SELECT DISTINCT address_id \n",
    "    FROM house_prices.fct_house_prices\n",
    ")\n",
    "SELECT \n",
    "    a.address_id,\n",
    "    f.first_price,\n",
    "    l.last_price,\n",
    "    l.last_price - f.first_price as profit\n",
    "FROM address_ids a\n",
    "JOIN first_prices f ON f.address_id = a.address_id AND f.rn = 1\n",
    "JOIN last_prices l ON l.address_id = a.address_id AND l.rn = 1\n",
    "WHERE first_price != last_price\n",
    "\"\"\")"
   ]
  },
  {
   "cell_type": "code",
   "execution_count": 55,
   "id": "51b80de2-3478-49fd-9a33-4ee4370e895a",
   "metadata": {},
   "outputs": [
    {
     "data": {
      "text/plain": [
       "['79BB49ACA3FE0C605577A2074CD56809',\n",
       " '9772E37986862F846B870387916A2737',\n",
       " '31AF428411C23EA038B69B8DA892BF2D',\n",
       " '5761FBB2C75E40B81E7807B08A9C660B',\n",
       " '713F4B7BCD38B6A4353BEF0E14E1EDD6',\n",
       " '90E3266AEAE18E87EEFC4113E1A6EF36',\n",
       " '03FC97AF7DEC446F33F4E396710774BF',\n",
       " 'EE7FD15C29D3E13585166D956F84EE4D',\n",
       " '66CBF8557B4297420D6A350DB7D891E0',\n",
       " 'AE1F750B14E3E60B53EADD970A72E0D6',\n",
       " 'B96B1DB1D20B28371F1F085F083F982D',\n",
       " '53EF34E033E27A65D002DA6E0AFF02F4',\n",
       " '56DA64BA4B25645D1867D7113FE3298E',\n",
       " '8EA1FD31C16ED5F3297801BFC51BD888',\n",
       " '0DA0EA865DAE8D7678D055EAF0988D65',\n",
       " 'DFF079741B290D0FA041FCF040B88449',\n",
       " '4DDD2D3E8AF1B04874F3747C5F5191D9',\n",
       " '0AE4ED8E66DDC9BB674ABA9695F828FF',\n",
       " '07A5AAEDA2EA4BCC15D0787B9744A4CF',\n",
       " '37BEA26FB598442AB4ACCB2E355F2992',\n",
       " 'C22320ACE9007E5B7A6C2F9F6FF23900',\n",
       " '2542908E8092D2DD1D3D2C1EB6E9A10E',\n",
       " 'A20439D54C70D4D5E9F2A75D2548B94B',\n",
       " 'A316214BB9E8635EDF6F6914B561C700',\n",
       " '0C45D3E18EC20C34D35A3836957EBC76',\n",
       " '0B479F68D2A3E6708F092E9220F84458',\n",
       " 'D53D612F35ACBAA557E784C676B87B29',\n",
       " '6B2BBDACFF063570170E11B852E44888',\n",
       " '947F980601034F38A927D9BB5BF2B30C',\n",
       " '81E361F9CDCDB0485666A9DBA056E02A',\n",
       " '88EBDBD5B7BDD5E72C4BE28E230424E3',\n",
       " '216BF4FF3B25AACA3B9C4FAB3BE1FE09',\n",
       " '6AD4B2A89DF00DB33C3299CAEFFD7DC8',\n",
       " 'D3D2B8A4D109224598DBC25F1DC1EA2E',\n",
       " 'DC88F4C84A6BB03DE358F1BE2DD5D4F9',\n",
       " 'C0B4978C7E218310FD1204BAB8316E44',\n",
       " 'EC9AC2FCDBD09BDB3949CB3F952CF7F2',\n",
       " '32A190DF76F29578B0F4366117D4EA3A',\n",
       " 'CBFA1E73C6E9415369EBECB6973360A6',\n",
       " '08E0BC193E11A956E872E6EC2DA0928A',\n",
       " '9491F295DB70C1D79FFFD70088891A87',\n",
       " '7ECC10BAADEE52FFD5D917DE0F4FA723',\n",
       " '90C9280E424D2EEE350F496CBEBBD6F8',\n",
       " '6AA5E06C20879B84346A2BE0727E7911',\n",
       " '3987B66B6306970B750D214B20EFCC5B',\n",
       " '9AEEBEBE7C6B24CD597357362E73CEA8',\n",
       " '7501C8463A7BAA510A71EF2654C8948B',\n",
       " '048F312B2134DA460DF7D9D8D3273ACE',\n",
       " '1EC1AD96347435A95C103BD1EA26C9C2',\n",
       " 'BC8FEF99E02EDA88D6ECC35380464FFC',\n",
       " '55F20C5B448A86E4EC14172185EA93E5',\n",
       " '2E626B2D5F0A328451F68B40C06CD5E2',\n",
       " '050C2A230523C2FB9EE26298F650558A',\n",
       " '35A809523B2D785197CBD8F44EFA92A6',\n",
       " 'D1154BD479845EB16564C83BFB6EF229',\n",
       " '1F9E356EF2AE266638F2ED1150C83282',\n",
       " '16C4F284971CFB28CC295B1287FFFFF8',\n",
       " 'D517899C6DB592868C8952B4F56BB3DA',\n",
       " '87A2DB1BB1A3E41F03F282769604B46F',\n",
       " '460907EE73CC9F16FC28E4830617C779',\n",
       " '78E200EEB77BA05C53CDF284BE79F07F',\n",
       " 'CA23C114152DC83FBD5C02F9381CEB89',\n",
       " '36A7B3E925997C4E2A10C7E6F8E193BB',\n",
       " '93D1BE67CF5FBFCEE4D38726E972AACF',\n",
       " '2CCE1CBABC8B789EC04774BEA14E3630',\n",
       " '954B689D3BC882D1D26D78728E97E492',\n",
       " 'C5B07DDAC1EF44F7035961D58551FC75',\n",
       " '9C1444BD6871959B1B03055085FA72B9',\n",
       " '67D22C38901CA1B3C48D4895F05BB38A',\n",
       " '66280363F981FA23E1CF456F58157610',\n",
       " '93F749F13FBDF5040CF844EF7F8E755B',\n",
       " 'EED2D97585986D579E45B21A4BB90FA9',\n",
       " '619E25841AC528691B8D2BA4720C957A',\n",
       " '2E262D65AB5DE37A027D0ACB0D52DAB8',\n",
       " 'E68D72D1645DABC14F117E8A49B5AB4B',\n",
       " '34110A1363A5E5AEC38E45475BEACC94',\n",
       " '505520D06C2E95ACBC261F8A3C6BFBB7',\n",
       " '607876D568D78194B426430D6CA65009']"
      ]
     },
     "execution_count": 55,
     "metadata": {},
     "output_type": "execute_result"
    }
   ],
   "source": [
    "(\n",
    "    polars_result.select(\n",
    "        pl.col(\"address_id\"), \n",
    "        pl.col(\"first_price\"),\n",
    "        pl.col(\"last_price\"),\n",
    "        pl.col(\"profit\").alias(\"pl_profit\")\n",
    "    )\n",
    "        .join(\n",
    "            trino_df.select(\n",
    "                pl.col(\"address_id\"),\n",
    "                pl.col(\"first_price\"),\n",
    "                pl.col(\"last_price\"),\n",
    "                pl.col(\"profit\").alias(\"trino_profit\")\n",
    "            ), on=\"address_id\", how=\"full\")\n",
    "        .filter(pl.col(\"pl_profit\") != pl.col(\"trino_profit\"))\n",
    "        .select(\"address_id\").to_series(0).to_list()\n",
    ")"
   ]
  },
  {
   "cell_type": "code",
   "execution_count": 47,
   "id": "d6afb189-065a-4d93-afe4-bf88a403b1b4",
   "metadata": {},
   "outputs": [
    {
     "data": {
      "text/html": [
       "<div><style>\n",
       ".dataframe > thead > tr,\n",
       ".dataframe > tbody > tr {\n",
       "  text-align: right;\n",
       "  white-space: pre-wrap;\n",
       "}\n",
       "</style>\n",
       "<small>shape: (1_198_364, 3)</small><table border=\"1\" class=\"dataframe\"><thead><tr><th>address_id</th><th>first_price</th><th>last_price</th></tr><tr><td>str</td><td>i64</td><td>i64</td></tr></thead><tbody><tr><td>&quot;00006B5897C5BB86759B556B52157C…</td><td>108000</td><td>124000</td></tr><tr><td>&quot;0000745F4634817B95572CB1756C94…</td><td>29000</td><td>40000</td></tr><tr><td>&quot;000091C535F9756E2D6582B40FAFEB…</td><td>230000</td><td>277000</td></tr><tr><td>&quot;000093AFECB41A4DBFBE332F1EC2FB…</td><td>361750</td><td>435000</td></tr><tr><td>&quot;0000A07625D3F4D73A89F33BA99239…</td><td>100000</td><td>105000</td></tr><tr><td>&hellip;</td><td>&hellip;</td><td>&hellip;</td></tr><tr><td>&quot;FFFD3478554CD9C5DA63BAFB3B42E8…</td><td>186915</td><td>301450</td></tr><tr><td>&quot;FFFD45E32BD27F0642CAB14CF7F218…</td><td>475000</td><td>451000</td></tr><tr><td>&quot;FFFDED4D01596AFB92B956E66DD5B7…</td><td>87500</td><td>85000</td></tr><tr><td>&quot;FFFF70E31671842771963D9E5B3849…</td><td>61000</td><td>100000</td></tr><tr><td>&quot;FFFFF0725BF762C4271855C91B6125…</td><td>131500</td><td>141500</td></tr></tbody></table></div>"
      ],
      "text/plain": [
       "shape: (1_198_364, 3)\n",
       "┌─────────────────────────────────┬─────────────┬────────────┐\n",
       "│ address_id                      ┆ first_price ┆ last_price │\n",
       "│ ---                             ┆ ---         ┆ ---        │\n",
       "│ str                             ┆ i64         ┆ i64        │\n",
       "╞═════════════════════════════════╪═════════════╪════════════╡\n",
       "│ 00006B5897C5BB86759B556B52157C… ┆ 108000      ┆ 124000     │\n",
       "│ 0000745F4634817B95572CB1756C94… ┆ 29000       ┆ 40000      │\n",
       "│ 000091C535F9756E2D6582B40FAFEB… ┆ 230000      ┆ 277000     │\n",
       "│ 000093AFECB41A4DBFBE332F1EC2FB… ┆ 361750      ┆ 435000     │\n",
       "│ 0000A07625D3F4D73A89F33BA99239… ┆ 100000      ┆ 105000     │\n",
       "│ …                               ┆ …           ┆ …          │\n",
       "│ FFFD3478554CD9C5DA63BAFB3B42E8… ┆ 186915      ┆ 301450     │\n",
       "│ FFFD45E32BD27F0642CAB14CF7F218… ┆ 475000      ┆ 451000     │\n",
       "│ FFFDED4D01596AFB92B956E66DD5B7… ┆ 87500       ┆ 85000      │\n",
       "│ FFFF70E31671842771963D9E5B3849… ┆ 61000       ┆ 100000     │\n",
       "│ FFFFF0725BF762C4271855C91B6125… ┆ 131500      ┆ 141500     │\n",
       "└─────────────────────────────────┴─────────────┴────────────┘"
      ]
     },
     "execution_count": 47,
     "metadata": {},
     "output_type": "execute_result"
    }
   ],
   "source": [
    "query(\"\"\"\n",
    "with partitioned_prices as (\n",
    "    SELECT \n",
    "        address_id, \n",
    "        price,\n",
    "        date_of_transfer,\n",
    "        MIN(date_of_transfer) OVER (PARTITION BY address_id) AS min_date,\n",
    "        MAX(date_of_transfer) OVER (PARTITION BY address_id) AS max_date\n",
    "    FROM house_prices.fct_house_prices),\n",
    "first_and_last as (\n",
    "SELECT \n",
    "    address_id,\n",
    "    MIN(price) FILTER (WHERE date_of_transfer = min_date) AS first_price,\n",
    "    MAX(price) FILTER (WHERE date_of_transfer = max_date) AS last_price\n",
    "FROM partitioned_prices\n",
    "GROUP BY address_id\n",
    ")\n",
    "select * from first_and_last where first_price != last_price\n",
    "\"\"\")"
   ]
  },
  {
   "cell_type": "code",
   "execution_count": null,
   "id": "abd49272-33e9-4623-9bd0-17fde70e39af",
   "metadata": {},
   "outputs": [],
   "source": []
  }
 ],
 "metadata": {
  "kernelspec": {
   "display_name": "Python 3 (ipykernel)",
   "language": "python",
   "name": "python3"
  },
  "language_info": {
   "codemirror_mode": {
    "name": "ipython",
    "version": 3
   },
   "file_extension": ".py",
   "mimetype": "text/x-python",
   "name": "python",
   "nbconvert_exporter": "python",
   "pygments_lexer": "ipython3",
   "version": "3.12.10"
  }
 },
 "nbformat": 4,
 "nbformat_minor": 5
}
