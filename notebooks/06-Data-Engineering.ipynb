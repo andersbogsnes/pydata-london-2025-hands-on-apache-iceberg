{
 "cells": [
  {
   "cell_type": "markdown",
   "id": "994d5d21-44ce-44b1-8aa4-234093732d74",
   "metadata": {},
   "source": [
    "# Data Engineering\n",
    "\n",
    "Now that we've loaded our data, it's time to do some real data engineering to answer our original question.\n",
    "\n",
    "At this stage, Iceberg fades into the background, but we're able to pick and choose query engines to perform the various steps - this is the true power of Iceberg"
   ]
  },
  {
   "cell_type": "code",
   "execution_count": null,
   "id": "d010f305-d0e6-44e6-a95f-1f4ba977bd67",
   "metadata": {},
   "outputs": [],
   "source": [
    "import sqlalchemy as sa\n",
    "from utils import engine, catalog\n",
    "import polars as pl\n",
    "pl.Config.set_fmt_str_lengths(50)\n",
    "pl.Config.set_thousands_separator(True)"
   ]
  },
  {
   "cell_type": "markdown",
   "id": "9f6a9826-c42c-4f6e-919f-a126dc561f6a",
   "metadata": {},
   "source": [
    "We want a way of identifying a given property, so hashing the address related fields seems the easiest. We'll create a dimension table for those addresses, so we can move those rows out of our final data, without losing the ability to filter later. \n",
    "```{note} SQL Partitioning\n",
    "Note that we're adding partitioning to our tables directly through SQL here using a WITH statement on the CREATE TABLE\n",
    "```"
   ]
  },
  {
   "cell_type": "code",
   "execution_count": null,
   "id": "2f8a17a9-fa8a-4684-b890-e8975c2cc840",
   "metadata": {},
   "outputs": [],
   "source": [
    "dim_address_sql = \"\"\"\n",
    "CREATE OR REPLACE TABLE housing.dim_address \n",
    "    WITH ( partitioning = ARRAY['bucket(address_id, 10)'] )\n",
    "    AS (\n",
    "    SELECT DISTINCT to_hex(md5(cast(\n",
    "        coalesce(paon, '') ||\n",
    "        coalesce(saon, '') ||\n",
    "        coalesce(street, '') ||\n",
    "        coalesce(locality, '') ||\n",
    "        coalesce(town, '') ||\n",
    "        coalesce(district, '') ||\n",
    "        coalesce(county, '') ||\n",
    "        coalesce(postcode, '')\n",
    "    as varbinary))) AS address_id,\n",
    "      paon,\n",
    "      saon,\n",
    "      street,\n",
    "      locality,\n",
    "      town,\n",
    "      district,\n",
    "      county,\n",
    "      postcode\n",
    "FROM housing.staging_prices)\n",
    "\"\"\""
   ]
  },
  {
   "cell_type": "markdown",
   "id": "2e11c39c-7488-4d7f-a5f9-ca5ab99dbffc",
   "metadata": {},
   "source": [
    "As described in the data dictionary, the monthly files incluce a `record_status` column which indicates whether a given record is a new record or if it is deleting or updating an existing record. In moving from our staging table to our fact table, we clean our data to ensure we respect the record_status"
   ]
  },
  {
   "cell_type": "code",
   "execution_count": null,
   "id": "84dbc586-4c04-4fd6-b45d-33b2e247dc9b",
   "metadata": {},
   "outputs": [],
   "source": [
    "fct_prices_sql = \"\"\"\n",
    "CREATE OR REPLACE TABLE housing.fct_house_prices\n",
    "    WITH ( partitioning = ARRAY['year(date_of_transfer)'] ) AS (\n",
    "        WITH ranked_records AS (\n",
    "            SELECT *,\n",
    "            ROW_NUMBER () OVER (PARTITION BY transaction_id ORDER BY month(date_of_transfer) DESC) AS rn\n",
    "            FROM housing.staging_prices\n",
    "    ),\n",
    "    latest_records AS (\n",
    "        SELECT *\n",
    "        FROM ranked_records\n",
    "        WHERE rn = 1\n",
    "    ),\n",
    "    with_address_id AS (\n",
    "        SELECT to_hex(md5(cast (\n",
    "                coalesce(paon, '') ||\n",
    "                coalesce(saon, '') ||\n",
    "                coalesce(street, '') ||\n",
    "                coalesce(locality, '') ||\n",
    "                coalesce(town, '') ||\n",
    "                coalesce(district, '') ||\n",
    "                coalesce(county, '') ||\n",
    "                coalesce(postcode, '')\n",
    "            as varbinary))) AS address_id,\n",
    "                transaction_id,\n",
    "                price,\n",
    "                date_of_transfer,\n",
    "                property_type,\n",
    "                new_property,\n",
    "                duration,\n",
    "                ppd_category_type\n",
    "        FROM latest_records\n",
    "        WHERE record_status != 'D' and ppd_category_type = 'A'\n",
    "    )\n",
    "    SELECT *\n",
    "    FROM with_address_id\n",
    "    )\n",
    "\"\"\""
   ]
  },
  {
   "cell_type": "code",
   "execution_count": null,
   "id": "11db1fab-df41-4e89-9686-5c83b2051d2a",
   "metadata": {},
   "outputs": [],
   "source": [
    "with engine.begin() as conn:\n",
    "    num_rows_dim_address = conn.execute(sa.text(dim_address_sql)).fetchone()[0]\n",
    "    num_rows_fct_prices = conn.execute(sa.text(fct_prices_sql)).fetchone()[0]\n",
    "\n",
    "print(f\"Created dim_address with {num_rows_dim_address:,} rows\")\n",
    "print(f\"Created fct_prices with {num_rows_fct_prices:,} rows\")"
   ]
  },
  {
   "cell_type": "markdown",
   "id": "6a5d0297-26e1-4cde-bf7f-62b62a45c894",
   "metadata": {},
   "source": [
    "Now that the data is loaded, we can create a Pyiceberg reference to it"
   ]
  },
  {
   "cell_type": "code",
   "execution_count": null,
   "id": "e9abce40-7f4b-4cf8-a203-250ae8215d0e",
   "metadata": {},
   "outputs": [],
   "source": [
    "fct_house_prices_t = catalog.load_table(\"housing.fct_house_prices\")"
   ]
  },
  {
   "cell_type": "markdown",
   "id": "4ef0d592-354f-437f-b71a-87ef7c9e7a9d",
   "metadata": {},
   "source": [
    "For a change of pace, let's use `polars` to write our profits calculation. Some things are easier to express in SQL and some are nice to be able to do in Polars. The choice is yours!"
   ]
  },
  {
   "cell_type": "code",
   "execution_count": null,
   "id": "bf0c144e-0358-4ed6-8f9f-589868b6e9f2",
   "metadata": {},
   "outputs": [],
   "source": [
    "polars_result = (\n",
    "    pl.scan_iceberg(fct_house_prices_t)\n",
    "    .with_columns(\n",
    "        pl.col(\"date_of_transfer\").min().over(pl.col(\"address_id\")).alias(\"first_day\"),\n",
    "        pl.col(\"date_of_transfer\").max().over(pl.col(\"address_id\")).alias(\"last_day\"),\n",
    "        pl.col(\"price\")\n",
    "        .sort_by(\"date_of_transfer\")\n",
    "        .first()\n",
    "        .over(pl.col(\"address_id\"))\n",
    "        .alias(\"first_price\"),\n",
    "        pl.col(\"price\")\n",
    "        .sort_by(\"date_of_transfer\")\n",
    "        .last()\n",
    "        .over(pl.col(\"address_id\"))\n",
    "        .alias(\"last_price\"),\n",
    "    )\n",
    "    .with_columns(\n",
    "        pl.col(\"last_day\").sub(pl.col(\"first_day\")).dt.total_days().alias(\"days_held\"),\n",
    "        pl.col(\"last_price\").sub(pl.col(\"first_price\")).alias(\"profit\"),\n",
    "    )\n",
    "    .filter(pl.col(\"days_held\") != 0)\n",
    "    .select(\n",
    "        pl.col(\"address_id\"),\n",
    "        pl.col(\"first_day\"),\n",
    "        pl.col(\"last_day\"),\n",
    "        pl.col(\"first_price\"),\n",
    "        pl.col(\"last_price\"),\n",
    "        pl.col(\"days_held\"),\n",
    "        pl.col(\"profit\"),\n",
    "    )\n",
    "    .unique()\n",
    ").collect()\n",
    "\n",
    "polars_result"
   ]
  },
  {
   "cell_type": "markdown",
   "id": "310cf774-77c8-45d1-8186-8a884852fa8d",
   "metadata": {},
   "source": [
    "Let's store the results in a table for future reference - since `polars` is arrow-based, we can use it to define the schema as well if we don't care as much about the details of the resulting schema"
   ]
  },
  {
   "cell_type": "code",
   "execution_count": null,
   "id": "f37fd6fb-0f6a-47d7-957e-505e84511dda",
   "metadata": {},
   "outputs": [],
   "source": [
    "profits_t = catalog.create_table_if_not_exists(\"housing.profits\", schema=polars_result.to_arrow().schema)"
   ]
  },
  {
   "cell_type": "code",
   "execution_count": null,
   "id": "15c44fff-ab35-49ca-a13f-d93f0f9ab069",
   "metadata": {},
   "outputs": [],
   "source": [
    "profits_t.overwrite(polars_result.to_arrow())"
   ]
  },
  {
   "cell_type": "markdown",
   "id": "66afb258-8983-4e47-8831-529e9f61179b",
   "metadata": {},
   "source": [
    "To round out the selection of query engines, we can use `daft` to query our newly created table and calculate the mean profits for a given year"
   ]
  },
  {
   "cell_type": "code",
   "execution_count": null,
   "id": "cb4ee7b2-9465-4765-a8a8-4c0995259434",
   "metadata": {},
   "outputs": [],
   "source": [
    "import daft\n",
    "\n",
    "(\n",
    "    daft.read_iceberg(profits_t)\n",
    "    .groupby(daft.col(\"first_day\").dt.year().alias(\"year\"))\n",
    "    .agg(daft.col(\"profit\").mean())\n",
    "    .sort(daft.col(\"year\"))\n",
    "    .collect(10)\n",
    ")"
   ]
  },
  {
   "cell_type": "code",
   "execution_count": null,
   "id": "498a4f86-8fe2-47bd-b46c-8cac19bf5981",
   "metadata": {},
   "outputs": [],
   "source": []
  }
 ],
 "metadata": {
  "kernelspec": {
   "display_name": "Python 3 (ipykernel)",
   "language": "python",
   "name": "python3"
  },
  "language_info": {
   "codemirror_mode": {
    "name": "ipython",
    "version": 3
   },
   "file_extension": ".py",
   "mimetype": "text/x-python",
   "name": "python",
   "nbconvert_exporter": "python",
   "pygments_lexer": "ipython3",
   "version": "3.12.11"
  }
 },
 "nbformat": 4,
 "nbformat_minor": 5
}
