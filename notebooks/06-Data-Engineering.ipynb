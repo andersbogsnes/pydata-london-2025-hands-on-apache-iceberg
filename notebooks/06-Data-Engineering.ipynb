{
 "cells": [
  {
   "cell_type": "markdown",
   "id": "994d5d21-44ce-44b1-8aa4-234093732d74",
   "metadata": {},
   "source": [
    "# Data Engineering\n",
    "\n",
    "Now that we've loaded our data, it's time to do some real data engineering to answer our original question.\n",
    "\n",
    "At this stage, Iceberg fades into the background, but we're able to pick and choose query engines to perform the various steps - this is the true power of Iceberg"
   ]
  },
  {
   "cell_type": "code",
   "execution_count": 2,
   "id": "d010f305-d0e6-44e6-a95f-1f4ba977bd67",
   "metadata": {},
   "outputs": [
    {
     "data": {
      "text/plain": [
       "polars.config.Config"
      ]
     },
     "execution_count": 2,
     "metadata": {},
     "output_type": "execute_result"
    }
   ],
   "source": [
    "import sqlalchemy as sa\n",
    "from utils import engine, catalog\n",
    "import polars as pl\n",
    "\n",
    "pl.Config.set_fmt_str_lengths(50)\n",
    "pl.Config.set_thousands_separator(True)"
   ]
  },
  {
   "cell_type": "markdown",
   "id": "9f6a9826-c42c-4f6e-919f-a126dc561f6a",
   "metadata": {},
   "source": [
    "We want a way of identifying a given property, so hashing the address related fields seems the easiest. We'll create a dimension table for those addresses, so we can move those rows out of our final data, without losing the ability to filter later. \n",
    "```{note} SQL Partitioning\n",
    "Note that we're adding partitioning to our tables directly through SQL here using a WITH statement on the CREATE TABLE\n",
    "```"
   ]
  },
  {
   "cell_type": "code",
   "execution_count": 2,
   "id": "2f8a17a9-fa8a-4684-b890-e8975c2cc840",
   "metadata": {},
   "outputs": [],
   "source": [
    "dim_address_sql = \"\"\"\n",
    "CREATE OR REPLACE TABLE housing.dim_address \n",
    "    WITH ( partitioning = ARRAY['bucket(address_id, 10)'] )\n",
    "    AS (\n",
    "    SELECT DISTINCT to_hex(md5(cast(\n",
    "        coalesce(paon, '') ||\n",
    "        coalesce(saon, '') ||\n",
    "        coalesce(street, '') ||\n",
    "        coalesce(locality, '') ||\n",
    "        coalesce(town, '') ||\n",
    "        coalesce(district, '') ||\n",
    "        coalesce(county, '') ||\n",
    "        coalesce(postcode, '')\n",
    "    as varbinary))) AS address_id,\n",
    "      paon,\n",
    "      saon,\n",
    "      street,\n",
    "      locality,\n",
    "      town,\n",
    "      district,\n",
    "      county,\n",
    "      postcode\n",
    "FROM housing.staging_prices)\n",
    "\"\"\""
   ]
  },
  {
   "cell_type": "markdown",
   "id": "2e11c39c-7488-4d7f-a5f9-ca5ab99dbffc",
   "metadata": {},
   "source": [
    "As described in the data dictionary, the monthly files incluce a `record_status` column which indicates whether a given record is a new record or if it is deleting or updating an existing record. In moving from our staging table to our fact table, we clean our data to ensure we respect the record_status"
   ]
  },
  {
   "cell_type": "code",
   "execution_count": 3,
   "id": "84dbc586-4c04-4fd6-b45d-33b2e247dc9b",
   "metadata": {},
   "outputs": [],
   "source": [
    "fct_prices_sql = \"\"\"\n",
    "CREATE OR REPLACE TABLE housing.fct_house_prices\n",
    "    WITH ( partitioning = ARRAY['year(date_of_transfer)'] ) AS (\n",
    "        WITH ranked_records AS (\n",
    "            SELECT *,\n",
    "            ROW_NUMBER () OVER (PARTITION BY transaction_id ORDER BY month(date_of_transfer) DESC) AS rn\n",
    "            FROM housing.staging_prices\n",
    "    ),\n",
    "    latest_records AS (\n",
    "        SELECT *\n",
    "        FROM ranked_records\n",
    "        WHERE rn = 1\n",
    "    ),\n",
    "    with_address_id AS (\n",
    "        SELECT to_hex(md5(cast (\n",
    "                coalesce(paon, '') ||\n",
    "                coalesce(saon, '') ||\n",
    "                coalesce(street, '') ||\n",
    "                coalesce(locality, '') ||\n",
    "                coalesce(town, '') ||\n",
    "                coalesce(district, '') ||\n",
    "                coalesce(county, '') ||\n",
    "                coalesce(postcode, '')\n",
    "            as varbinary))) AS address_id,\n",
    "                transaction_id,\n",
    "                price,\n",
    "                date_of_transfer,\n",
    "                property_type,\n",
    "                new_property,\n",
    "                duration,\n",
    "                ppd_category_type\n",
    "        FROM latest_records\n",
    "        WHERE record_status != 'D' and ppd_category_type = 'A'\n",
    "    )\n",
    "    SELECT *\n",
    "    FROM with_address_id\n",
    "    )\n",
    "\"\"\""
   ]
  },
  {
   "cell_type": "code",
   "execution_count": 4,
   "id": "11db1fab-df41-4e89-9686-5c83b2051d2a",
   "metadata": {},
   "outputs": [
    {
     "name": "stdout",
     "output_type": "stream",
     "text": [
      "Created dim_address with 7,498,409 rows\n",
      "Created fct_prices with 7,592,564 rows\n"
     ]
    }
   ],
   "source": [
    "with engine.begin() as conn:\n",
    "    num_rows_dim_address = conn.execute(sa.text(dim_address_sql)).fetchone()[0]\n",
    "    num_rows_fct_prices = conn.execute(sa.text(fct_prices_sql)).fetchone()[0]\n",
    "\n",
    "print(f\"Created dim_address with {num_rows_dim_address:,} rows\")\n",
    "print(f\"Created fct_prices with {num_rows_fct_prices:,} rows\")"
   ]
  },
  {
   "cell_type": "markdown",
   "id": "6a5d0297-26e1-4cde-bf7f-62b62a45c894",
   "metadata": {},
   "source": [
    "Now that the data is loaded, we can create a Pyiceberg reference to it"
   ]
  },
  {
   "cell_type": "code",
   "execution_count": 4,
   "id": "e9abce40-7f4b-4cf8-a203-250ae8215d0e",
   "metadata": {},
   "outputs": [],
   "source": [
    "fct_house_prices_t = catalog.load_table(\"housing.fct_house_prices\")"
   ]
  },
  {
   "cell_type": "markdown",
   "id": "4ef0d592-354f-437f-b71a-87ef7c9e7a9d",
   "metadata": {},
   "source": [
    "For a change of pace, let's use `polars` to write our profits calculation. Some things are easier to express in SQL and some are nice to be able to do in Polars. The choice is yours!"
   ]
  },
  {
   "cell_type": "code",
   "execution_count": 9,
   "id": "bf0c144e-0358-4ed6-8f9f-589868b6e9f2",
   "metadata": {},
   "outputs": [
    {
     "data": {
      "text/html": [
       "<div><style>\n",
       ".dataframe > thead > tr,\n",
       ".dataframe > tbody > tr {\n",
       "  text-align: right;\n",
       "  white-space: pre-wrap;\n",
       "}\n",
       "</style>\n",
       "<small>shape: (953_001, 7)</small><table border=\"1\" class=\"dataframe\"><thead><tr><th>address_id</th><th>first_day</th><th>last_day</th><th>first_price</th><th>last_price</th><th>days_held</th><th>profit</th></tr><tr><td>str</td><td>date</td><td>date</td><td>i32</td><td>i32</td><td>i64</td><td>i32</td></tr></thead><tbody><tr><td>&quot;025F3D34C6EA424D860426BE3D8E8C85&quot;</td><td>2015-04-17</td><td>2019-10-17</td><td>164,950</td><td>195,000</td><td>1,644</td><td>30,050</td></tr><tr><td>&quot;F5B8C3D2E08D933E3BFE449D84376273&quot;</td><td>2019-03-22</td><td>2021-06-11</td><td>120,000</td><td>170,000</td><td>812</td><td>50,000</td></tr><tr><td>&quot;41F6095A7FC8461E7A6EBC0A0EA00023&quot;</td><td>2016-10-07</td><td>2023-04-12</td><td>282,000</td><td>320,000</td><td>2,378</td><td>38,000</td></tr><tr><td>&quot;678BE468391CFE917815E524B2E6534D&quot;</td><td>2017-06-27</td><td>2018-08-23</td><td>364,995</td><td>400,000</td><td>422</td><td>35,005</td></tr><tr><td>&quot;8FAB76FBB2F4C65F37AF3E8904C9CD9B&quot;</td><td>2021-03-29</td><td>2024-08-02</td><td>348,000</td><td>435,000</td><td>1,222</td><td>87,000</td></tr><tr><td>&hellip;</td><td>&hellip;</td><td>&hellip;</td><td>&hellip;</td><td>&hellip;</td><td>&hellip;</td><td>&hellip;</td></tr><tr><td>&quot;D345D15462E4EBAFC087E97C48C77EE6&quot;</td><td>2017-12-20</td><td>2020-04-24</td><td>94,500</td><td>100,000</td><td>856</td><td>5,500</td></tr><tr><td>&quot;D81EC0D2EF45CA4CE0271546E0351A60&quot;</td><td>2016-02-19</td><td>2021-01-08</td><td>102,500</td><td>120,000</td><td>1,785</td><td>17,500</td></tr><tr><td>&quot;432015977DB4BFDFEFB120E31C3F6B15&quot;</td><td>2019-08-07</td><td>2023-02-23</td><td>372,500</td><td>400,000</td><td>1,296</td><td>27,500</td></tr><tr><td>&quot;25D28388315C28271120AF25751DCA69&quot;</td><td>2018-10-03</td><td>2021-04-01</td><td>315,000</td><td>455,000</td><td>911</td><td>140,000</td></tr><tr><td>&quot;D26F09CEF90E5C431FEB16966B958F54&quot;</td><td>2018-01-25</td><td>2023-09-15</td><td>270,000</td><td>330,000</td><td>2,059</td><td>60,000</td></tr></tbody></table></div>"
      ],
      "text/plain": [
       "shape: (953_001, 7)\n",
       "┌───────────────────────┬────────────┬────────────┬─────────────┬────────────┬───────────┬─────────┐\n",
       "│ address_id            ┆ first_day  ┆ last_day   ┆ first_price ┆ last_price ┆ days_held ┆ profit  │\n",
       "│ ---                   ┆ ---        ┆ ---        ┆ ---         ┆ ---        ┆ ---       ┆ ---     │\n",
       "│ str                   ┆ date       ┆ date       ┆ i32         ┆ i32        ┆ i64       ┆ i32     │\n",
       "╞═══════════════════════╪════════════╪════════════╪═════════════╪════════════╪═══════════╪═════════╡\n",
       "│ 025F3D34C6EA424D86042 ┆ 2015-04-17 ┆ 2019-10-17 ┆ 164,950     ┆ 195,000    ┆ 1,644     ┆ 30,050  │\n",
       "│ 6BE3D8E8C85           ┆            ┆            ┆             ┆            ┆           ┆         │\n",
       "│ F5B8C3D2E08D933E3BFE4 ┆ 2019-03-22 ┆ 2021-06-11 ┆ 120,000     ┆ 170,000    ┆ 812       ┆ 50,000  │\n",
       "│ 49D84376273           ┆            ┆            ┆             ┆            ┆           ┆         │\n",
       "│ 41F6095A7FC8461E7A6EB ┆ 2016-10-07 ┆ 2023-04-12 ┆ 282,000     ┆ 320,000    ┆ 2,378     ┆ 38,000  │\n",
       "│ C0A0EA00023           ┆            ┆            ┆             ┆            ┆           ┆         │\n",
       "│ 678BE468391CFE917815E ┆ 2017-06-27 ┆ 2018-08-23 ┆ 364,995     ┆ 400,000    ┆ 422       ┆ 35,005  │\n",
       "│ 524B2E6534D           ┆            ┆            ┆             ┆            ┆           ┆         │\n",
       "│ 8FAB76FBB2F4C65F37AF3 ┆ 2021-03-29 ┆ 2024-08-02 ┆ 348,000     ┆ 435,000    ┆ 1,222     ┆ 87,000  │\n",
       "│ E8904C9CD9B           ┆            ┆            ┆             ┆            ┆           ┆         │\n",
       "│ …                     ┆ …          ┆ …          ┆ …           ┆ …          ┆ …         ┆ …       │\n",
       "│ D345D15462E4EBAFC087E ┆ 2017-12-20 ┆ 2020-04-24 ┆ 94,500      ┆ 100,000    ┆ 856       ┆ 5,500   │\n",
       "│ 97C48C77EE6           ┆            ┆            ┆             ┆            ┆           ┆         │\n",
       "│ D81EC0D2EF45CA4CE0271 ┆ 2016-02-19 ┆ 2021-01-08 ┆ 102,500     ┆ 120,000    ┆ 1,785     ┆ 17,500  │\n",
       "│ 546E0351A60           ┆            ┆            ┆             ┆            ┆           ┆         │\n",
       "│ 432015977DB4BFDFEFB12 ┆ 2019-08-07 ┆ 2023-02-23 ┆ 372,500     ┆ 400,000    ┆ 1,296     ┆ 27,500  │\n",
       "│ 0E31C3F6B15           ┆            ┆            ┆             ┆            ┆           ┆         │\n",
       "│ 25D28388315C28271120A ┆ 2018-10-03 ┆ 2021-04-01 ┆ 315,000     ┆ 455,000    ┆ 911       ┆ 140,000 │\n",
       "│ F25751DCA69           ┆            ┆            ┆             ┆            ┆           ┆         │\n",
       "│ D26F09CEF90E5C431FEB1 ┆ 2018-01-25 ┆ 2023-09-15 ┆ 270,000     ┆ 330,000    ┆ 2,059     ┆ 60,000  │\n",
       "│ 6966B958F54           ┆            ┆            ┆             ┆            ┆           ┆         │\n",
       "└───────────────────────┴────────────┴────────────┴─────────────┴────────────┴───────────┴─────────┘"
      ]
     },
     "execution_count": 9,
     "metadata": {},
     "output_type": "execute_result"
    }
   ],
   "source": [
    "polars_result = (\n",
    "    pl.scan_iceberg(fct_house_prices_t)\n",
    "    .with_columns(\n",
    "        pl.col(\"date_of_transfer\").min().over(pl.col(\"address_id\")).alias(\"first_day\"),\n",
    "        pl.col(\"date_of_transfer\").max().over(pl.col(\"address_id\")).alias(\"last_day\"),\n",
    "        pl.col(\"price\")\n",
    "        .sort_by(\"date_of_transfer\")\n",
    "        .first()\n",
    "        .over(pl.col(\"address_id\"))\n",
    "        .alias(\"first_price\"),\n",
    "        pl.col(\"price\")\n",
    "        .sort_by(\"date_of_transfer\")\n",
    "        .last()\n",
    "        .over(pl.col(\"address_id\"))\n",
    "        .alias(\"last_price\"),\n",
    "    )\n",
    "    .with_columns(\n",
    "        pl.col(\"last_day\").sub(pl.col(\"first_day\")).dt.total_days().alias(\"days_held\"),\n",
    "        pl.col(\"last_price\").sub(pl.col(\"first_price\")).alias(\"profit\"),\n",
    "    )\n",
    "    .filter(pl.col(\"days_held\") != 0)\n",
    "    .select(\n",
    "        pl.col(\"address_id\"),\n",
    "        pl.col(\"first_day\"),\n",
    "        pl.col(\"last_day\"),\n",
    "        pl.col(\"first_price\"),\n",
    "        pl.col(\"last_price\"),\n",
    "        pl.col(\"days_held\"),\n",
    "        pl.col(\"profit\"),\n",
    "    )\n",
    "    .unique()\n",
    ").collect()\n",
    "\n",
    "polars_result"
   ]
  },
  {
   "cell_type": "markdown",
   "id": "310cf774-77c8-45d1-8186-8a884852fa8d",
   "metadata": {},
   "source": [
    "Let's store the results in a table for future reference - since `polars` is arrow-based, we can use it to define the schema as well if we don't care as much about the details of the resulting schema"
   ]
  },
  {
   "cell_type": "code",
   "execution_count": 10,
   "id": "f37fd6fb-0f6a-47d7-957e-505e84511dda",
   "metadata": {},
   "outputs": [],
   "source": [
    "profits_t = catalog.create_table_if_not_exists(\n",
    "    \"house_prices.profits\", schema=polars_result.to_arrow().schema\n",
    ")"
   ]
  },
  {
   "cell_type": "code",
   "execution_count": 11,
   "id": "15c44fff-ab35-49ca-a13f-d93f0f9ab069",
   "metadata": {},
   "outputs": [],
   "source": [
    "profits_t.overwrite(polars_result.to_arrow())"
   ]
  },
  {
   "cell_type": "markdown",
   "id": "66afb258-8983-4e47-8831-529e9f61179b",
   "metadata": {},
   "source": [
    "To round out the selection of query engines, we can use `daft` to query our newly created table and calculate the mean profits for a given year"
   ]
  },
  {
   "cell_type": "code",
   "execution_count": 12,
   "id": "cb4ee7b2-9465-4765-a8a8-4c0995259434",
   "metadata": {},
   "outputs": [],
   "source": [
    "import daft\n",
    "\n",
    "\n",
    "def query_profits(year: int) -> daft.DataFrame:\n",
    "    table = catalog.load_table(\"house_prices.profits\")\n",
    "    df = (\n",
    "        daft.read_iceberg(table)\n",
    "        .filter(daft.col(\"first_day\").dt.year() == 2016)\n",
    "        .agg(daft.col(\"first_day\").dt.year().max(), daft.col(\"profit\").mean())\n",
    "        .collect()\n",
    "    )\n",
    "    return df.collect()"
   ]
  },
  {
   "cell_type": "code",
   "execution_count": 13,
   "id": "24c7eb48-dac3-4cf6-8493-357578ab2f62",
   "metadata": {},
   "outputs": [
    {
     "name": "stderr",
     "output_type": "stream",
     "text": [
      "/usr/local/lib/python3.12/site-packages/tqdm/auto.py:21: TqdmWarning: IProgress not found. Please update jupyter and ipywidgets. See https://ipywidgets.readthedocs.io/en/stable/user_install.html\n",
      "  from .autonotebook import tqdm as notebook_tqdm\n"
     ]
    },
    {
     "data": {
      "text/html": [
       "<div>\n",
       "<table class=\"dataframe\">\n",
       "<thead><tr><th style=\"text-wrap: nowrap; max-width:192px; overflow:auto; text-align:left\">first_day<br />Int32</th><th style=\"text-wrap: nowrap; max-width:192px; overflow:auto; text-align:left\">profit<br />Float64</th></tr></thead>\n",
       "<tbody>\n",
       "<tr><td><div style=\"text-align:left; max-width:192px; max-height:64px; overflow:auto\">2016</div></td><td><div style=\"text-align:left; max-width:192px; max-height:64px; overflow:auto\">54167.65682534417</div></td></tr>\n",
       "</tbody>\n",
       "</table>\n",
       "<small>(Showing first 1 of 1 rows)</small>\n",
       "</div>"
      ],
      "text/plain": [
       "╭───────────┬───────────────────╮\n",
       "│ first_day ┆ profit            │\n",
       "│ ---       ┆ ---               │\n",
       "│ Int32     ┆ Float64           │\n",
       "╞═══════════╪═══════════════════╡\n",
       "│ 2016      ┆ 54167.65682534417 │\n",
       "╰───────────┴───────────────────╯\n",
       "\n",
       "(Showing first 1 of 1 rows)"
      ]
     },
     "execution_count": 13,
     "metadata": {},
     "output_type": "execute_result"
    }
   ],
   "source": [
    "query_profits(2016)"
   ]
  },
  {
   "cell_type": "code",
   "execution_count": null,
   "id": "498a4f86-8fe2-47bd-b46c-8cac19bf5981",
   "metadata": {},
   "outputs": [],
   "source": []
  }
 ],
 "metadata": {
  "kernelspec": {
   "display_name": "Python 3 (ipykernel)",
   "language": "python",
   "name": "python3"
  },
  "language_info": {
   "codemirror_mode": {
    "name": "ipython",
    "version": 3
   },
   "file_extension": ".py",
   "mimetype": "text/x-python",
   "name": "python",
   "nbconvert_exporter": "python",
   "pygments_lexer": "ipython3",
   "version": "3.12.10"
  }
 },
 "nbformat": 4,
 "nbformat_minor": 5
}
