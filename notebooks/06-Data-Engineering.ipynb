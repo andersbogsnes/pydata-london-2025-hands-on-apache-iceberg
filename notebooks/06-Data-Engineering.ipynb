{
 "cells": [
  {
   "cell_type": "markdown",
   "id": "994d5d21-44ce-44b1-8aa4-234093732d74",
   "metadata": {},
   "source": [
    "# Data Engineering\n",
    "\n",
    "Now that we've loaded our data, it's time to do some real data engineering to answer our original question.\n",
    "\n",
    "At this stage, Iceberg fades into the background, but we're able to pick and choose query engines to perform the various steps - this is the true power of Iceberg"
   ]
  },
  {
   "cell_type": "code",
   "execution_count": 1,
   "id": "d010f305-d0e6-44e6-a95f-1f4ba977bd67",
   "metadata": {},
   "outputs": [
    {
     "data": {
      "text/plain": [
       "polars.config.Config"
      ]
     },
     "execution_count": 1,
     "metadata": {},
     "output_type": "execute_result"
    }
   ],
   "source": [
    "import sqlalchemy as sa\n",
    "from utils import engine, catalog\n",
    "import polars as pl\n",
    "pl.Config.set_fmt_str_lengths(50)\n",
    "pl.Config.set_thousands_separator(True)"
   ]
  },
  {
   "cell_type": "markdown",
   "id": "9f6a9826-c42c-4f6e-919f-a126dc561f6a",
   "metadata": {},
   "source": [
    "We want a way of identifying a given property, so hashing the address related fields seems the easiest. We'll create a dimension table for those addresses, so we can move those rows out of our final data, without losing the ability to filter later. \n",
    "```{note} SQL Partitioning\n",
    "Note that we're adding partitioning to our tables directly through SQL here using a WITH statement on the CREATE TABLE\n",
    "```"
   ]
  },
  {
   "cell_type": "code",
   "execution_count": 2,
   "id": "2f8a17a9-fa8a-4684-b890-e8975c2cc840",
   "metadata": {},
   "outputs": [],
   "source": [
    "dim_address_sql = \"\"\"\n",
    "CREATE OR REPLACE TABLE housing.dim_address \n",
    "    WITH ( partitioning = ARRAY['bucket(address_id, 10)'] )\n",
    "    AS (\n",
    "    SELECT DISTINCT to_hex(md5(cast(\n",
    "        coalesce(paon, '') ||\n",
    "        coalesce(saon, '') ||\n",
    "        coalesce(street, '') ||\n",
    "        coalesce(locality, '') ||\n",
    "        coalesce(town, '') ||\n",
    "        coalesce(district, '') ||\n",
    "        coalesce(county, '') ||\n",
    "        coalesce(postcode, '')\n",
    "    as varbinary))) AS address_id,\n",
    "      paon,\n",
    "      saon,\n",
    "      street,\n",
    "      locality,\n",
    "      town,\n",
    "      district,\n",
    "      county,\n",
    "      postcode\n",
    "FROM housing.staging_prices)\n",
    "\"\"\""
   ]
  },
  {
   "cell_type": "markdown",
   "id": "2e11c39c-7488-4d7f-a5f9-ca5ab99dbffc",
   "metadata": {},
   "source": [
    "As described in the data dictionary, the monthly files incluce a `record_status` column which indicates whether a given record is a new record or if it is deleting or updating an existing record. In moving from our staging table to our fact table, we clean our data to ensure we respect the record_status"
   ]
  },
  {
   "cell_type": "code",
   "execution_count": 3,
   "id": "84dbc586-4c04-4fd6-b45d-33b2e247dc9b",
   "metadata": {},
   "outputs": [],
   "source": [
    "fct_prices_sql = \"\"\"\n",
    "CREATE OR REPLACE TABLE housing.fct_house_prices\n",
    "    WITH ( partitioning = ARRAY['year(date_of_transfer)'] ) AS (\n",
    "        WITH ranked_records AS (\n",
    "            SELECT *,\n",
    "            ROW_NUMBER () OVER (PARTITION BY transaction_id ORDER BY month(date_of_transfer) DESC) AS rn\n",
    "            FROM housing.staging_prices\n",
    "    ),\n",
    "    latest_records AS (\n",
    "        SELECT *\n",
    "        FROM ranked_records\n",
    "        WHERE rn = 1\n",
    "    ),\n",
    "    with_address_id AS (\n",
    "        SELECT to_hex(md5(cast (\n",
    "                coalesce(paon, '') ||\n",
    "                coalesce(saon, '') ||\n",
    "                coalesce(street, '') ||\n",
    "                coalesce(locality, '') ||\n",
    "                coalesce(town, '') ||\n",
    "                coalesce(district, '') ||\n",
    "                coalesce(county, '') ||\n",
    "                coalesce(postcode, '')\n",
    "            as varbinary))) AS address_id,\n",
    "                transaction_id,\n",
    "                price,\n",
    "                date_of_transfer,\n",
    "                property_type,\n",
    "                new_property,\n",
    "                duration,\n",
    "                ppd_category_type\n",
    "        FROM latest_records\n",
    "        WHERE record_status != 'D' and ppd_category_type = 'A'\n",
    "    )\n",
    "    SELECT *\n",
    "    FROM with_address_id\n",
    "    )\n",
    "\"\"\""
   ]
  },
  {
   "cell_type": "code",
   "execution_count": 4,
   "id": "11db1fab-df41-4e89-9686-5c83b2051d2a",
   "metadata": {},
   "outputs": [
    {
     "name": "stdout",
     "output_type": "stream",
     "text": [
      "Created dim_address with 8,618,471 rows\n",
      "Created fct_prices with 8,966,172 rows\n"
     ]
    }
   ],
   "source": [
    "with engine.begin() as conn:\n",
    "    num_rows_dim_address = conn.execute(sa.text(dim_address_sql)).fetchone()[0]\n",
    "    num_rows_fct_prices = conn.execute(sa.text(fct_prices_sql)).fetchone()[0]\n",
    "\n",
    "print(f\"Created dim_address with {num_rows_dim_address:,} rows\")\n",
    "print(f\"Created fct_prices with {num_rows_fct_prices:,} rows\")"
   ]
  },
  {
   "cell_type": "markdown",
   "id": "6a5d0297-26e1-4cde-bf7f-62b62a45c894",
   "metadata": {},
   "source": [
    "Now that the data is loaded, we can create a Pyiceberg reference to it"
   ]
  },
  {
   "cell_type": "code",
   "execution_count": 5,
   "id": "e9abce40-7f4b-4cf8-a203-250ae8215d0e",
   "metadata": {},
   "outputs": [],
   "source": [
    "fct_house_prices_t = catalog.load_table(\"housing.fct_house_prices\")"
   ]
  },
  {
   "cell_type": "markdown",
   "id": "4ef0d592-354f-437f-b71a-87ef7c9e7a9d",
   "metadata": {},
   "source": [
    "For a change of pace, let's use `polars` to write our profits calculation. Some things are easier to express in SQL and some are nice to be able to do in Polars. The choice is yours!"
   ]
  },
  {
   "cell_type": "code",
   "execution_count": 6,
   "id": "bf0c144e-0358-4ed6-8f9f-589868b6e9f2",
   "metadata": {},
   "outputs": [
    {
     "name": "stderr",
     "output_type": "stream",
     "text": [
      "/usr/local/lib/python3.12/site-packages/pyiceberg/avro/decoder.py:185: UserWarning: Falling back to pure Python Avro decoder, missing Cython implementation\n",
      "  warnings.warn(\"Falling back to pure Python Avro decoder, missing Cython implementation\")\n"
     ]
    },
    {
     "data": {
      "text/html": [
       "<div><style>\n",
       ".dataframe > thead > tr,\n",
       ".dataframe > tbody > tr {\n",
       "  text-align: right;\n",
       "  white-space: pre-wrap;\n",
       "}\n",
       "</style>\n",
       "<small>shape: (1_295_624, 7)</small><table border=\"1\" class=\"dataframe\"><thead><tr><th>address_id</th><th>first_day</th><th>last_day</th><th>first_price</th><th>last_price</th><th>days_held</th><th>profit</th></tr><tr><td>str</td><td>date</td><td>date</td><td>i32</td><td>i32</td><td>i64</td><td>i32</td></tr></thead><tbody><tr><td>&quot;E9E782749287DBA783B4BDDB22693067&quot;</td><td>2018-09-07</td><td>2022-04-28</td><td>140,000</td><td>146,500</td><td>1,329</td><td>6,500</td></tr><tr><td>&quot;005293A47009A5E76AA1EC692D378745&quot;</td><td>2016-07-18</td><td>2020-10-16</td><td>150,000</td><td>159,950</td><td>1,551</td><td>9,950</td></tr><tr><td>&quot;BD036A74A6AE2B3B4F654BB5B650D3D7&quot;</td><td>2017-02-17</td><td>2025-07-18</td><td>286,000</td><td>358,000</td><td>3,073</td><td>72,000</td></tr><tr><td>&quot;61F5CC017147F74E7B99F5E0CCE8B343&quot;</td><td>2022-01-31</td><td>2023-02-24</td><td>273,000</td><td>320,000</td><td>389</td><td>47,000</td></tr><tr><td>&quot;1B5229A901356DD48DC5190E68F116FF&quot;</td><td>2017-03-17</td><td>2022-03-18</td><td>120,000</td><td>135,000</td><td>1,827</td><td>15,000</td></tr><tr><td>&hellip;</td><td>&hellip;</td><td>&hellip;</td><td>&hellip;</td><td>&hellip;</td><td>&hellip;</td><td>&hellip;</td></tr><tr><td>&quot;6B78A2CE84052C808263191074A03E12&quot;</td><td>2015-08-12</td><td>2023-04-28</td><td>157,000</td><td>226,500</td><td>2,816</td><td>69,500</td></tr><tr><td>&quot;ABCBD35037A40741358513225894F5E5&quot;</td><td>2015-07-17</td><td>2024-09-13</td><td>104,000</td><td>179,000</td><td>3,346</td><td>75,000</td></tr><tr><td>&quot;86C70F67C4F183C4E4F521E865F08F49&quot;</td><td>2018-06-29</td><td>2019-08-30</td><td>79,000</td><td>95,000</td><td>427</td><td>16,000</td></tr><tr><td>&quot;90BE2EA13EA16EA2B3F794F704EE1AA1&quot;</td><td>2017-05-19</td><td>2022-09-28</td><td>116,000</td><td>195,000</td><td>1,958</td><td>79,000</td></tr><tr><td>&quot;49C813256F9C9082058893849A0BC4BE&quot;</td><td>2016-06-24</td><td>2022-12-19</td><td>465,000</td><td>685,000</td><td>2,369</td><td>220,000</td></tr></tbody></table></div>"
      ],
      "text/plain": [
       "shape: (1_295_624, 7)\n",
       "┌───────────────────────┬────────────┬────────────┬─────────────┬────────────┬───────────┬─────────┐\n",
       "│ address_id            ┆ first_day  ┆ last_day   ┆ first_price ┆ last_price ┆ days_held ┆ profit  │\n",
       "│ ---                   ┆ ---        ┆ ---        ┆ ---         ┆ ---        ┆ ---       ┆ ---     │\n",
       "│ str                   ┆ date       ┆ date       ┆ i32         ┆ i32        ┆ i64       ┆ i32     │\n",
       "╞═══════════════════════╪════════════╪════════════╪═════════════╪════════════╪═══════════╪═════════╡\n",
       "│ E9E782749287DBA783B4B ┆ 2018-09-07 ┆ 2022-04-28 ┆ 140,000     ┆ 146,500    ┆ 1,329     ┆ 6,500   │\n",
       "│ DDB22693067           ┆            ┆            ┆             ┆            ┆           ┆         │\n",
       "│ 005293A47009A5E76AA1E ┆ 2016-07-18 ┆ 2020-10-16 ┆ 150,000     ┆ 159,950    ┆ 1,551     ┆ 9,950   │\n",
       "│ C692D378745           ┆            ┆            ┆             ┆            ┆           ┆         │\n",
       "│ BD036A74A6AE2B3B4F654 ┆ 2017-02-17 ┆ 2025-07-18 ┆ 286,000     ┆ 358,000    ┆ 3,073     ┆ 72,000  │\n",
       "│ BB5B650D3D7           ┆            ┆            ┆             ┆            ┆           ┆         │\n",
       "│ 61F5CC017147F74E7B99F ┆ 2022-01-31 ┆ 2023-02-24 ┆ 273,000     ┆ 320,000    ┆ 389       ┆ 47,000  │\n",
       "│ 5E0CCE8B343           ┆            ┆            ┆             ┆            ┆           ┆         │\n",
       "│ 1B5229A901356DD48DC51 ┆ 2017-03-17 ┆ 2022-03-18 ┆ 120,000     ┆ 135,000    ┆ 1,827     ┆ 15,000  │\n",
       "│ 90E68F116FF           ┆            ┆            ┆             ┆            ┆           ┆         │\n",
       "│ …                     ┆ …          ┆ …          ┆ …           ┆ …          ┆ …         ┆ …       │\n",
       "│ 6B78A2CE84052C8082631 ┆ 2015-08-12 ┆ 2023-04-28 ┆ 157,000     ┆ 226,500    ┆ 2,816     ┆ 69,500  │\n",
       "│ 91074A03E12           ┆            ┆            ┆             ┆            ┆           ┆         │\n",
       "│ ABCBD35037A4074135851 ┆ 2015-07-17 ┆ 2024-09-13 ┆ 104,000     ┆ 179,000    ┆ 3,346     ┆ 75,000  │\n",
       "│ 3225894F5E5           ┆            ┆            ┆             ┆            ┆           ┆         │\n",
       "│ 86C70F67C4F183C4E4F52 ┆ 2018-06-29 ┆ 2019-08-30 ┆ 79,000      ┆ 95,000     ┆ 427       ┆ 16,000  │\n",
       "│ 1E865F08F49           ┆            ┆            ┆             ┆            ┆           ┆         │\n",
       "│ 90BE2EA13EA16EA2B3F79 ┆ 2017-05-19 ┆ 2022-09-28 ┆ 116,000     ┆ 195,000    ┆ 1,958     ┆ 79,000  │\n",
       "│ 4F704EE1AA1           ┆            ┆            ┆             ┆            ┆           ┆         │\n",
       "│ 49C813256F9C908205889 ┆ 2016-06-24 ┆ 2022-12-19 ┆ 465,000     ┆ 685,000    ┆ 2,369     ┆ 220,000 │\n",
       "│ 3849A0BC4BE           ┆            ┆            ┆             ┆            ┆           ┆         │\n",
       "└───────────────────────┴────────────┴────────────┴─────────────┴────────────┴───────────┴─────────┘"
      ]
     },
     "execution_count": 6,
     "metadata": {},
     "output_type": "execute_result"
    }
   ],
   "source": [
    "polars_result = (\n",
    "    pl.scan_iceberg(fct_house_prices_t)\n",
    "    .with_columns(\n",
    "        pl.col(\"date_of_transfer\").min().over(pl.col(\"address_id\")).alias(\"first_day\"),\n",
    "        pl.col(\"date_of_transfer\").max().over(pl.col(\"address_id\")).alias(\"last_day\"),\n",
    "        pl.col(\"price\")\n",
    "        .sort_by(\"date_of_transfer\")\n",
    "        .first()\n",
    "        .over(pl.col(\"address_id\"))\n",
    "        .alias(\"first_price\"),\n",
    "        pl.col(\"price\")\n",
    "        .sort_by(\"date_of_transfer\")\n",
    "        .last()\n",
    "        .over(pl.col(\"address_id\"))\n",
    "        .alias(\"last_price\"),\n",
    "    )\n",
    "    .with_columns(\n",
    "        pl.col(\"last_day\").sub(pl.col(\"first_day\")).dt.total_days().alias(\"days_held\"),\n",
    "        pl.col(\"last_price\").sub(pl.col(\"first_price\")).alias(\"profit\"),\n",
    "    )\n",
    "    .filter(pl.col(\"days_held\") != 0)\n",
    "    .select(\n",
    "        pl.col(\"address_id\"),\n",
    "        pl.col(\"first_day\"),\n",
    "        pl.col(\"last_day\"),\n",
    "        pl.col(\"first_price\"),\n",
    "        pl.col(\"last_price\"),\n",
    "        pl.col(\"days_held\"),\n",
    "        pl.col(\"profit\"),\n",
    "    )\n",
    "    .unique()\n",
    ").collect()\n",
    "\n",
    "polars_result"
   ]
  },
  {
   "cell_type": "markdown",
   "id": "310cf774-77c8-45d1-8186-8a884852fa8d",
   "metadata": {},
   "source": [
    "Let's store the results in a table for future reference - since `polars` is arrow-based, we can use it to define the schema as well if we don't care as much about the details of the resulting schema"
   ]
  },
  {
   "cell_type": "code",
   "execution_count": 7,
   "id": "f37fd6fb-0f6a-47d7-957e-505e84511dda",
   "metadata": {},
   "outputs": [],
   "source": [
    "profits_t = catalog.create_table_if_not_exists(\"housing.profits\", schema=polars_result.to_arrow().schema)"
   ]
  },
  {
   "cell_type": "code",
   "execution_count": 8,
   "id": "15c44fff-ab35-49ca-a13f-d93f0f9ab069",
   "metadata": {},
   "outputs": [
    {
     "name": "stderr",
     "output_type": "stream",
     "text": [
      "/usr/local/lib/python3.12/site-packages/pyiceberg/table/__init__.py:686: UserWarning: Delete operation did not match any records\n",
      "  warnings.warn(\"Delete operation did not match any records\")\n"
     ]
    }
   ],
   "source": [
    "profits_t.overwrite(polars_result.to_arrow())"
   ]
  },
  {
   "cell_type": "markdown",
   "id": "66afb258-8983-4e47-8831-529e9f61179b",
   "metadata": {},
   "source": [
    "To round out the selection of query engines, we can use `daft` to query our newly created table and calculate the mean profits for a given year"
   ]
  },
  {
   "cell_type": "code",
   "execution_count": 9,
   "id": "cb4ee7b2-9465-4765-a8a8-4c0995259434",
   "metadata": {},
   "outputs": [
    {
     "data": {
      "text/html": [
       "<div>\n",
       "<table class=\"dataframe\">\n",
       "<thead><tr><th style=\"text-wrap: nowrap; max-width:192px; overflow:auto; text-align:left\">year<br />Int32</th><th style=\"text-wrap: nowrap; max-width:192px; overflow:auto; text-align:left\">profit<br />Float64</th></tr></thead>\n",
       "<tbody>\n",
       "<tr><td><div style=\"text-align:left; max-width:192px; max-height:64px; overflow:auto\">2015</div></td><td><div style=\"text-align:left; max-width:192px; max-height:64px; overflow:auto\">74667.76502419915</div></td></tr>\n",
       "<tr><td><div style=\"text-align:left; max-width:192px; max-height:64px; overflow:auto\">2016</div></td><td><div style=\"text-align:left; max-width:192px; max-height:64px; overflow:auto\">62078.20410008704</div></td></tr>\n",
       "<tr><td><div style=\"text-align:left; max-width:192px; max-height:64px; overflow:auto\">2017</div></td><td><div style=\"text-align:left; max-width:192px; max-height:64px; overflow:auto\">59926.1708247446</div></td></tr>\n",
       "<tr><td><div style=\"text-align:left; max-width:192px; max-height:64px; overflow:auto\">2018</div></td><td><div style=\"text-align:left; max-width:192px; max-height:64px; overflow:auto\">60692.83043605331</div></td></tr>\n",
       "<tr><td><div style=\"text-align:left; max-width:192px; max-height:64px; overflow:auto\">2019</div></td><td><div style=\"text-align:left; max-width:192px; max-height:64px; overflow:auto\">66274.62430447362</div></td></tr>\n",
       "<tr><td><div style=\"text-align:left; max-width:192px; max-height:64px; overflow:auto\">2020</div></td><td><div style=\"text-align:left; max-width:192px; max-height:64px; overflow:auto\">68234.58746926069</div></td></tr>\n",
       "<tr><td><div style=\"text-align:left; max-width:192px; max-height:64px; overflow:auto\">2021</div></td><td><div style=\"text-align:left; max-width:192px; max-height:64px; overflow:auto\">55962.14272264139</div></td></tr>\n",
       "<tr><td><div style=\"text-align:left; max-width:192px; max-height:64px; overflow:auto\">2022</div></td><td><div style=\"text-align:left; max-width:192px; max-height:64px; overflow:auto\">32401.928857311283</div></td></tr>\n",
       "<tr><td><div style=\"text-align:left; max-width:192px; max-height:64px; overflow:auto\">2023</div></td><td><div style=\"text-align:left; max-width:192px; max-height:64px; overflow:auto\">40593.09405077681</div></td></tr>\n",
       "<tr><td><div style=\"text-align:left; max-width:192px; max-height:64px; overflow:auto\">2024</div></td><td><div style=\"text-align:left; max-width:192px; max-height:64px; overflow:auto\">48607.20605143721</div></td></tr>\n",
       "</tbody>\n",
       "</table>\n",
       "<small>(Showing first 10 of 11 rows)</small>\n",
       "</div>"
      ],
      "text/plain": [
       "╭───────┬────────────────────╮\n",
       "│ year  ┆ profit             │\n",
       "│ ---   ┆ ---                │\n",
       "│ Int32 ┆ Float64            │\n",
       "╞═══════╪════════════════════╡\n",
       "│ 2015  ┆ 74667.76502419915  │\n",
       "├╌╌╌╌╌╌╌┼╌╌╌╌╌╌╌╌╌╌╌╌╌╌╌╌╌╌╌╌┤\n",
       "│ 2016  ┆ 62078.20410008704  │\n",
       "├╌╌╌╌╌╌╌┼╌╌╌╌╌╌╌╌╌╌╌╌╌╌╌╌╌╌╌╌┤\n",
       "│ 2017  ┆ 59926.1708247446   │\n",
       "├╌╌╌╌╌╌╌┼╌╌╌╌╌╌╌╌╌╌╌╌╌╌╌╌╌╌╌╌┤\n",
       "│ 2018  ┆ 60692.83043605331  │\n",
       "├╌╌╌╌╌╌╌┼╌╌╌╌╌╌╌╌╌╌╌╌╌╌╌╌╌╌╌╌┤\n",
       "│ 2019  ┆ 66274.62430447362  │\n",
       "├╌╌╌╌╌╌╌┼╌╌╌╌╌╌╌╌╌╌╌╌╌╌╌╌╌╌╌╌┤\n",
       "│ 2020  ┆ 68234.58746926069  │\n",
       "├╌╌╌╌╌╌╌┼╌╌╌╌╌╌╌╌╌╌╌╌╌╌╌╌╌╌╌╌┤\n",
       "│ 2021  ┆ 55962.14272264139  │\n",
       "├╌╌╌╌╌╌╌┼╌╌╌╌╌╌╌╌╌╌╌╌╌╌╌╌╌╌╌╌┤\n",
       "│ 2022  ┆ 32401.928857311283 │\n",
       "├╌╌╌╌╌╌╌┼╌╌╌╌╌╌╌╌╌╌╌╌╌╌╌╌╌╌╌╌┤\n",
       "│ 2023  ┆ 40593.09405077681  │\n",
       "├╌╌╌╌╌╌╌┼╌╌╌╌╌╌╌╌╌╌╌╌╌╌╌╌╌╌╌╌┤\n",
       "│ 2024  ┆ 48607.20605143721  │\n",
       "╰───────┴────────────────────╯\n",
       "\n",
       "(Showing first 10 of 11 rows)"
      ]
     },
     "execution_count": 9,
     "metadata": {},
     "output_type": "execute_result"
    }
   ],
   "source": [
    "import daft\n",
    "\n",
    "(\n",
    "    daft.read_iceberg(profits_t)\n",
    "    .groupby(daft.col(\"first_day\").dt.year().alias(\"year\"))\n",
    "    .agg(daft.col(\"profit\").mean())\n",
    "    .sort(daft.col(\"year\"))\n",
    "    .collect(10)\n",
    ")"
   ]
  },
  {
   "cell_type": "code",
   "execution_count": null,
   "id": "498a4f86-8fe2-47bd-b46c-8cac19bf5981",
   "metadata": {},
   "outputs": [],
   "source": []
  }
 ],
 "metadata": {
  "kernelspec": {
   "display_name": "Python 3 (ipykernel)",
   "language": "python",
   "name": "python3"
  },
  "language_info": {
   "codemirror_mode": {
    "name": "ipython",
    "version": 3
   },
   "file_extension": ".py",
   "mimetype": "text/x-python",
   "name": "python",
   "nbconvert_exporter": "python",
   "pygments_lexer": "ipython3",
   "version": "3.12.11"
  }
 },
 "nbformat": 4,
 "nbformat_minor": 5
}
