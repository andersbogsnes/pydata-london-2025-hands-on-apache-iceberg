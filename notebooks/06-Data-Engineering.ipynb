{
 "cells": [
  {
   "cell_type": "code",
   "execution_count": 23,
   "id": "d010f305-d0e6-44e6-a95f-1f4ba977bd67",
   "metadata": {},
   "outputs": [],
   "source": [
    "import sqlalchemy as sa\n",
    "from utils import query, engine, catalog"
   ]
  },
  {
   "cell_type": "code",
   "execution_count": 19,
   "id": "2f8a17a9-fa8a-4684-b890-e8975c2cc840",
   "metadata": {},
   "outputs": [],
   "source": [
    "import sqlalchemy as sa\n",
    "\n",
    "dim_address_sql = \"\"\"\n",
    "CREATE OR REPLACE TABLE house_prices.dim_address \n",
    "    WITH ( partitioning = ARRAY['bucket(address_id, 10)'] )\n",
    "    AS (\n",
    "    SELECT DISTINCT to_hex(md5(cast(\n",
    "        coalesce(paon, '') ||\n",
    "        coalesce(saon, '') ||\n",
    "        coalesce(street, '') ||\n",
    "        coalesce(locality, '') ||\n",
    "        coalesce(town, '') ||\n",
    "        coalesce(district, '') ||\n",
    "        coalesce(county, '') ||\n",
    "        coalesce(postcode, '')\n",
    "    as varbinary))) AS address_id,\n",
    "      paon,\n",
    "      saon,\n",
    "      street,\n",
    "      locality,\n",
    "      town,\n",
    "      district,\n",
    "      county,\n",
    "      postcode\n",
    "FROM house_prices.raw)\n",
    "\"\"\""
   ]
  },
  {
   "cell_type": "code",
   "execution_count": 20,
   "id": "84dbc586-4c04-4fd6-b45d-33b2e247dc9b",
   "metadata": {},
   "outputs": [],
   "source": [
    "fct_prices = \"\"\"\n",
    "CREATE OR REPLACE TABLE house_prices.fct_house_prices\n",
    "    WITH ( partitioning = ARRAY['month(date_of_transfer)'] ) AS (\n",
    "        WITH ranked_records AS (\n",
    "            SELECT *,\n",
    "            ROW_NUMBER () OVER (PARTITION BY transaction_id ORDER BY month(date_of_transfer) DESC) AS rn\n",
    "            FROM house_prices.raw\n",
    "    ),\n",
    "    latest_records AS (\n",
    "        SELECT *\n",
    "        FROM ranked_records\n",
    "        WHERE rn = 1\n",
    "    ),\n",
    "    with_address_id AS (\n",
    "        SELECT to_hex(md5(cast (\n",
    "                coalesce(paon, '') ||\n",
    "                coalesce(saon, '') ||\n",
    "                coalesce(street, '') ||\n",
    "                coalesce(locality, '') ||\n",
    "                coalesce(town, '') ||\n",
    "                coalesce(district, '') ||\n",
    "                coalesce(county, '') ||\n",
    "                coalesce(postcode, '')\n",
    "            as varbinary))) AS address_id,\n",
    "                transaction_id,\n",
    "                price,\n",
    "                date_of_transfer,\n",
    "                property_type,\n",
    "                new_property,\n",
    "                duration,\n",
    "                ppd_category_type,\n",
    "                record_status\n",
    "        FROM latest_records\n",
    "        WHERE record_status != 'D'\n",
    "    )\n",
    "    SELECT *\n",
    "    FROM with_address_id\n",
    "    )\n",
    "\"\"\""
   ]
  },
  {
   "cell_type": "code",
   "execution_count": 21,
   "id": "11db1fab-df41-4e89-9686-5c83b2051d2a",
   "metadata": {},
   "outputs": [
    {
     "name": "stdout",
     "output_type": "stream",
     "text": [
      "Created dim_address with 7,498,409 rows\n",
      "Created fct_prices with 8,890,034 rows\n"
     ]
    }
   ],
   "source": [
    "with engine.begin() as conn:\n",
    "    num_rows_dim_address = conn.execute(sa.text(dim_address_sql)).fetchone()[0]\n",
    "    num_rows_fct_prices = conn.execute(sa.text(fct_prices)).fetchone()[0]\n",
    "\n",
    "print(f\"Created dim_address with {num_rows_dim_address:,} rows\")\n",
    "print(f\"Created fct_prices with {num_rows_fct_prices:,} rows\")"
   ]
  },
  {
   "cell_type": "code",
   "execution_count": 26,
   "id": "e9abce40-7f4b-4cf8-a203-250ae8215d0e",
   "metadata": {},
   "outputs": [],
   "source": [
    "fct_house_prices_t = catalog.load_table(\"house_prices.fct_house_prices\")"
   ]
  },
  {
   "cell_type": "code",
   "execution_count": 22,
   "id": "3399086c-bf1b-44e8-932c-a92ccf10b198",
   "metadata": {},
   "outputs": [],
   "source": [
    "import polars as pl"
   ]
  },
  {
   "cell_type": "code",
   "execution_count": 39,
   "id": "c49da664-cd70-47ee-89ae-4ef619d6dfc7",
   "metadata": {},
   "outputs": [
    {
     "name": "stderr",
     "output_type": "stream",
     "text": [
      "/usr/local/lib/python3.12/site-packages/pyiceberg/avro/decoder.py:185: UserWarning: Falling back to pure Python Avro decoder, missing Cython implementation\n",
      "  warnings.warn(\"Falling back to pure Python Avro decoder, missing Cython implementation\")\n"
     ]
    },
    {
     "data": {
      "text/html": [
       "<div><style>\n",
       ".dataframe > thead > tr,\n",
       ".dataframe > tbody > tr {\n",
       "  text-align: right;\n",
       "  white-space: pre-wrap;\n",
       "}\n",
       "</style>\n",
       "<small>shape: (1_237_586, 2)</small><table border=\"1\" class=\"dataframe\"><thead><tr><th>address_id</th><th>len</th></tr><tr><td>str</td><td>u32</td></tr></thead><tbody><tr><td>&quot;3326ABE173322B3C8C14D6C9574230…</td><td>2</td></tr><tr><td>&quot;F8A4B2DE7DA9459FD2CF9D11C9D136…</td><td>3</td></tr><tr><td>&quot;BBF360ABEE6F8DD74FD208E2968E20…</td><td>2</td></tr><tr><td>&quot;947EC8BE53918D02F7BF9DEDE2FCD1…</td><td>2</td></tr><tr><td>&quot;A3D68E0390F24C698DB178451B629E…</td><td>2</td></tr><tr><td>&hellip;</td><td>&hellip;</td></tr><tr><td>&quot;6F8BF2E3D9662B2EF6519536A5A20D…</td><td>2</td></tr><tr><td>&quot;260FA6B447CC8DCCA516513B812348…</td><td>2</td></tr><tr><td>&quot;9E0FAE2D7D138EEE20E1EC5886FA67…</td><td>2</td></tr><tr><td>&quot;98B9FD1939C797ED9BD1BDBDA5FDD0…</td><td>2</td></tr><tr><td>&quot;3AD4782041CFB2D4975A5487EDCAB8…</td><td>2</td></tr></tbody></table></div>"
      ],
      "text/plain": [
       "shape: (1_237_586, 2)\n",
       "┌─────────────────────────────────┬─────┐\n",
       "│ address_id                      ┆ len │\n",
       "│ ---                             ┆ --- │\n",
       "│ str                             ┆ u32 │\n",
       "╞═════════════════════════════════╪═════╡\n",
       "│ 3326ABE173322B3C8C14D6C9574230… ┆ 2   │\n",
       "│ F8A4B2DE7DA9459FD2CF9D11C9D136… ┆ 3   │\n",
       "│ BBF360ABEE6F8DD74FD208E2968E20… ┆ 2   │\n",
       "│ 947EC8BE53918D02F7BF9DEDE2FCD1… ┆ 2   │\n",
       "│ A3D68E0390F24C698DB178451B629E… ┆ 2   │\n",
       "│ …                               ┆ …   │\n",
       "│ 6F8BF2E3D9662B2EF6519536A5A20D… ┆ 2   │\n",
       "│ 260FA6B447CC8DCCA516513B812348… ┆ 2   │\n",
       "│ 9E0FAE2D7D138EEE20E1EC5886FA67… ┆ 2   │\n",
       "│ 98B9FD1939C797ED9BD1BDBDA5FDD0… ┆ 2   │\n",
       "│ 3AD4782041CFB2D4975A5487EDCAB8… ┆ 2   │\n",
       "└─────────────────────────────────┴─────┘"
      ]
     },
     "execution_count": 39,
     "metadata": {},
     "output_type": "execute_result"
    }
   ],
   "source": [
    "sold_address_ids = pl.scan_iceberg(fct_house_prices_t).group_by(\"address_id\").len().filter(pl.col(\"len\") > 1)\n",
    "sold_address_ids.collect()"
   ]
  },
  {
   "cell_type": "code",
   "execution_count": 43,
   "id": "875aa98d-324d-4c45-83f9-3d3031e8b8ce",
   "metadata": {},
   "outputs": [
    {
     "data": {
      "text/html": [
       "<div><style>\n",
       ".dataframe > thead > tr,\n",
       ".dataframe > tbody > tr {\n",
       "  text-align: right;\n",
       "  white-space: pre-wrap;\n",
       "}\n",
       "</style>\n",
       "<small>shape: (1, 4)</small><table border=\"1\" class=\"dataframe\"><thead><tr><th>address_id</th><th>date_of_transfer</th><th>original_price</th><th>sold_price</th></tr><tr><td>str</td><td>date</td><td>i32</td><td>i32</td></tr></thead><tbody><tr><td>&quot;2F32FF4436392AE53A9F51CEFBA9DA…</td><td>2015-01-01</td><td>149000</td><td>605000</td></tr></tbody></table></div>"
      ],
      "text/plain": [
       "shape: (1, 4)\n",
       "┌─────────────────────────────────┬──────────────────┬────────────────┬────────────┐\n",
       "│ address_id                      ┆ date_of_transfer ┆ original_price ┆ sold_price │\n",
       "│ ---                             ┆ ---              ┆ ---            ┆ ---        │\n",
       "│ str                             ┆ date             ┆ i32            ┆ i32        │\n",
       "╞═════════════════════════════════╪══════════════════╪════════════════╪════════════╡\n",
       "│ 2F32FF4436392AE53A9F51CEFBA9DA… ┆ 2015-01-01       ┆ 149000         ┆ 605000     │\n",
       "└─────────────────────────────────┴──────────────────┴────────────────┴────────────┘"
      ]
     },
     "execution_count": 43,
     "metadata": {},
     "output_type": "execute_result"
    }
   ],
   "source": [
    "(\n",
    "    pl.scan_iceberg(fct_house_prices_t).join(sold_address_ids, on=\"address_id\", how=\"inner\")\n",
    "    .group_by(pl.col(\"address_id\"), pl.col(\"date_of_transfer\"))\n",
    "    .select(\n",
    "        pl.col(\"address_id\").first(),\n",
    "        pl.col(\"date_of_transfer\").first(),\n",
    "        pl.col(\"price\").first().alias(\"original_price\"),\n",
    "        pl.col(\"price\").last().alias(\"sold_price\"))\n",
    "        .collect()\n",
    ")"
   ]
  },
  {
   "cell_type": "code",
   "execution_count": null,
   "id": "ea5413b6-d280-4a9b-b2c6-8ac58bbdd787",
   "metadata": {},
   "outputs": [],
   "source": []
  }
 ],
 "metadata": {
  "kernelspec": {
   "display_name": "Python 3 (ipykernel)",
   "language": "python",
   "name": "python3"
  },
  "language_info": {
   "codemirror_mode": {
    "name": "ipython",
    "version": 3
   },
   "file_extension": ".py",
   "mimetype": "text/x-python",
   "name": "python",
   "nbconvert_exporter": "python",
   "pygments_lexer": "ipython3",
   "version": "3.12.10"
  }
 },
 "nbformat": 4,
 "nbformat_minor": 5
}
