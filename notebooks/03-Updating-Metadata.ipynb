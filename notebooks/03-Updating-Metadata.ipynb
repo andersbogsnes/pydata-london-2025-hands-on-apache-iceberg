{
 "cells": [
  {
   "cell_type": "code",
   "execution_count": 1,
   "id": "Hbol",
   "metadata": {},
   "outputs": [],
   "source": [
    "from pyiceberg.catalog.rest import RestCatalog\n",
    "import polars as pl\n",
    "import datetime as dt\n",
    "import sqlalchemy as sa\n",
    "\n",
    "# The functions we defined in the previous notebook are defined in utils.py\n",
    "from utils import get_iceberg_metadata, read_house_prices\n",
    "from s3fs import S3FileSystem\n",
    "from IPython.display import JSON"
   ]
  },
  {
   "cell_type": "markdown",
   "id": "MJUe",
   "metadata": {
    "marimo": {
     "config": {
      "hide_code": true
     }
    }
   },
   "source": [
    "# Updating Metadata\n",
    "\n",
    "We've added data to our tables and inspected how Iceberg keeps track of the data in the metadata files\n",
    "\n",
    "Usually when working with data in real life, we make decisions that we regret in six months time. \n",
    "\n",
    "Now that we've added some data, we've found out that we've made a mistake - we should have added a `_loaded_at` column to our data, so that we can differentiate downstream between the source timestamp and our loaded time"
   ]
  },
  {
   "cell_type": "code",
   "execution_count": 2,
   "id": "vblA",
   "metadata": {},
   "outputs": [],
   "source": [
    "# Get a reference to our catalog and table again\n",
    "catalog = RestCatalog(\n",
    "    \"lakekeeper\", uri=\"http://lakekeeper:8181/catalog\", warehouse=\"lakehouse\"\n",
    ")\n",
    "house_prices_t = catalog.load_table(\"housing.staging_prices\")\n",
    "fs = S3FileSystem(endpoint_url=\"http://minio:9000\", key=\"minio\", secret=\"minio1234\")"
   ]
  },
  {
   "cell_type": "code",
   "execution_count": 3,
   "id": "bkHC",
   "metadata": {},
   "outputs": [
    {
     "data": {
      "text/html": [
       "<div><style>\n",
       ".dataframe > thead > tr,\n",
       ".dataframe > tbody > tr {\n",
       "  text-align: right;\n",
       "  white-space: pre-wrap;\n",
       "}\n",
       "</style>\n",
       "<small>shape: (1_073_122, 17)</small><table border=\"1\" class=\"dataframe\"><thead><tr><th>transaction_id</th><th>price</th><th>date_of_transfer</th><th>postcode</th><th>property_type</th><th>new_property</th><th>duration</th><th>paon</th><th>saon</th><th>street</th><th>locality</th><th>town</th><th>district</th><th>county</th><th>ppd_category_type</th><th>record_status</th><th>_loaded_at</th></tr><tr><td>str</td><td>i64</td><td>date</td><td>str</td><td>str</td><td>str</td><td>str</td><td>str</td><td>str</td><td>str</td><td>str</td><td>str</td><td>str</td><td>str</td><td>str</td><td>str</td><td>datetime[μs, UTC]</td></tr></thead><tbody><tr><td>&quot;{DBA933F9-D5BC-669D-E053-6B04A…</td><td>205000</td><td>2022-02-18</td><td>&quot;DL9 4RS&quot;</td><td>&quot;D&quot;</td><td>&quot;N&quot;</td><td>&quot;F&quot;</td><td>&quot;26&quot;</td><td>&quot;&quot;</td><td>&quot;MAPLE AVENUE&quot;</td><td>&quot;COLBURN&quot;</td><td>&quot;CATTERICK GARRISON&quot;</td><td>&quot;RICHMONDSHIRE&quot;</td><td>&quot;NORTH YORKSHIRE&quot;</td><td>&quot;A&quot;</td><td>&quot;A&quot;</td><td>2025-10-07 21:16:27.605675 UTC</td></tr><tr><td>&quot;{DBA933F9-D5BE-669D-E053-6B04A…</td><td>220000</td><td>2022-02-14</td><td>&quot;YO12 7ND&quot;</td><td>&quot;S&quot;</td><td>&quot;N&quot;</td><td>&quot;F&quot;</td><td>&quot;3&quot;</td><td>&quot;&quot;</td><td>&quot;PEASHOLM GARDENS&quot;</td><td>&quot;&quot;</td><td>&quot;SCARBOROUGH&quot;</td><td>&quot;SCARBOROUGH&quot;</td><td>&quot;NORTH YORKSHIRE&quot;</td><td>&quot;A&quot;</td><td>&quot;A&quot;</td><td>2025-10-07 21:16:27.605675 UTC</td></tr><tr><td>&quot;{DBA933F9-D5C0-669D-E053-6B04A…</td><td>775000</td><td>2022-02-22</td><td>&quot;HG5 0TT&quot;</td><td>&quot;D&quot;</td><td>&quot;N&quot;</td><td>&quot;F&quot;</td><td>&quot;WATERS NOOK&quot;</td><td>&quot;&quot;</td><td>&quot;YORK ROAD&quot;</td><td>&quot;&quot;</td><td>&quot;KNARESBOROUGH&quot;</td><td>&quot;HARROGATE&quot;</td><td>&quot;NORTH YORKSHIRE&quot;</td><td>&quot;A&quot;</td><td>&quot;A&quot;</td><td>2025-10-07 21:16:27.605675 UTC</td></tr><tr><td>&quot;{DBA933F9-D5C6-669D-E053-6B04A…</td><td>450000</td><td>2022-03-04</td><td>&quot;YO31 1BU&quot;</td><td>&quot;D&quot;</td><td>&quot;N&quot;</td><td>&quot;F&quot;</td><td>&quot;116&quot;</td><td>&quot;&quot;</td><td>&quot;STOCKTON LANE&quot;</td><td>&quot;&quot;</td><td>&quot;YORK&quot;</td><td>&quot;YORK&quot;</td><td>&quot;YORK&quot;</td><td>&quot;A&quot;</td><td>&quot;A&quot;</td><td>2025-10-07 21:16:27.605675 UTC</td></tr><tr><td>&quot;{DBA933F9-D5CC-669D-E053-6B04A…</td><td>175000</td><td>2022-02-25</td><td>&quot;LA2 7EB&quot;</td><td>&quot;T&quot;</td><td>&quot;N&quot;</td><td>&quot;F&quot;</td><td>&quot;BORRANS COTTAGES&quot;</td><td>&quot;3&quot;</td><td>&quot;BURTON ROAD&quot;</td><td>&quot;LOWER BENTHAM&quot;</td><td>&quot;LANCASTER&quot;</td><td>&quot;CRAVEN&quot;</td><td>&quot;NORTH YORKSHIRE&quot;</td><td>&quot;A&quot;</td><td>&quot;A&quot;</td><td>2025-10-07 21:16:27.605675 UTC</td></tr><tr><td>&hellip;</td><td>&hellip;</td><td>&hellip;</td><td>&hellip;</td><td>&hellip;</td><td>&hellip;</td><td>&hellip;</td><td>&hellip;</td><td>&hellip;</td><td>&hellip;</td><td>&hellip;</td><td>&hellip;</td><td>&hellip;</td><td>&hellip;</td><td>&hellip;</td><td>&hellip;</td><td>&hellip;</td></tr><tr><td>&quot;{E7B085FC-99AC-7E31-E053-6C04A…</td><td>166500</td><td>2022-07-29</td><td>&quot;NG4 2NS&quot;</td><td>&quot;T&quot;</td><td>&quot;N&quot;</td><td>&quot;F&quot;</td><td>&quot;8&quot;</td><td>&quot;&quot;</td><td>&quot;ASPER STREET&quot;</td><td>&quot;NETHERFIELD&quot;</td><td>&quot;NOTTINGHAM&quot;</td><td>&quot;GEDLING&quot;</td><td>&quot;NOTTINGHAMSHIRE&quot;</td><td>&quot;A&quot;</td><td>&quot;A&quot;</td><td>2025-10-07 21:16:27.605675 UTC</td></tr><tr><td>&quot;{E7B085FC-99AD-7E31-E053-6C04A…</td><td>595000</td><td>2022-07-08</td><td>&quot;LE14 3BQ&quot;</td><td>&quot;D&quot;</td><td>&quot;N&quot;</td><td>&quot;F&quot;</td><td>&quot;LANTERN COTTAGE&quot;</td><td>&quot;&quot;</td><td>&quot;STATION ROAD&quot;</td><td>&quot;UPPER BROUGHTON&quot;</td><td>&quot;MELTON MOWBRAY&quot;</td><td>&quot;RUSHCLIFFE&quot;</td><td>&quot;NOTTINGHAMSHIRE&quot;</td><td>&quot;A&quot;</td><td>&quot;A&quot;</td><td>2025-10-07 21:16:27.605675 UTC</td></tr><tr><td>&quot;{E7B085FC-99AE-7E31-E053-6C04A…</td><td>260000</td><td>2022-03-15</td><td>&quot;NG9 5LF&quot;</td><td>&quot;S&quot;</td><td>&quot;N&quot;</td><td>&quot;F&quot;</td><td>&quot;28&quot;</td><td>&quot;&quot;</td><td>&quot;OAKDALE DRIVE&quot;</td><td>&quot;CHILWELL&quot;</td><td>&quot;NOTTINGHAM&quot;</td><td>&quot;BROXTOWE&quot;</td><td>&quot;NOTTINGHAMSHIRE&quot;</td><td>&quot;A&quot;</td><td>&quot;A&quot;</td><td>2025-10-07 21:16:27.605675 UTC</td></tr><tr><td>&quot;{E7B085FC-99AF-7E31-E053-6C04A…</td><td>250000</td><td>2022-07-19</td><td>&quot;NG5 8FZ&quot;</td><td>&quot;D&quot;</td><td>&quot;N&quot;</td><td>&quot;F&quot;</td><td>&quot;37&quot;</td><td>&quot;&quot;</td><td>&quot;HOMEFIELD AVENUE&quot;</td><td>&quot;ARNOLD&quot;</td><td>&quot;NOTTINGHAM&quot;</td><td>&quot;GEDLING&quot;</td><td>&quot;NOTTINGHAMSHIRE&quot;</td><td>&quot;A&quot;</td><td>&quot;A&quot;</td><td>2025-10-07 21:16:27.605675 UTC</td></tr><tr><td>&quot;{E7B085FC-99B0-7E31-E053-6C04A…</td><td>166000</td><td>2022-07-21</td><td>&quot;NG15 7EE&quot;</td><td>&quot;S&quot;</td><td>&quot;N&quot;</td><td>&quot;F&quot;</td><td>&quot;26&quot;</td><td>&quot;&quot;</td><td>&quot;BROXTOWE DRIVE&quot;</td><td>&quot;HUCKNALL&quot;</td><td>&quot;NOTTINGHAM&quot;</td><td>&quot;ASHFIELD&quot;</td><td>&quot;NOTTINGHAMSHIRE&quot;</td><td>&quot;A&quot;</td><td>&quot;A&quot;</td><td>2025-10-07 21:16:27.605675 UTC</td></tr></tbody></table></div>"
      ],
      "text/plain": [
       "shape: (1_073_122, 17)\n",
       "┌────────────┬────────┬────────────┬──────────┬───┬────────────┬───────────┬───────────┬───────────┐\n",
       "│ transactio ┆ price  ┆ date_of_tr ┆ postcode ┆ … ┆ county     ┆ ppd_categ ┆ record_st ┆ _loaded_a │\n",
       "│ n_id       ┆ ---    ┆ ansfer     ┆ ---      ┆   ┆ ---        ┆ ory_type  ┆ atus      ┆ t         │\n",
       "│ ---        ┆ i64    ┆ ---        ┆ str      ┆   ┆ str        ┆ ---       ┆ ---       ┆ ---       │\n",
       "│ str        ┆        ┆ date       ┆          ┆   ┆            ┆ str       ┆ str       ┆ datetime[ │\n",
       "│            ┆        ┆            ┆          ┆   ┆            ┆           ┆           ┆ μs, UTC]  │\n",
       "╞════════════╪════════╪════════════╪══════════╪═══╪════════════╪═══════════╪═══════════╪═══════════╡\n",
       "│ {DBA933F9- ┆ 205000 ┆ 2022-02-18 ┆ DL9 4RS  ┆ … ┆ NORTH      ┆ A         ┆ A         ┆ 2025-10-0 │\n",
       "│ D5BC-669D- ┆        ┆            ┆          ┆   ┆ YORKSHIRE  ┆           ┆           ┆ 7 21:16:2 │\n",
       "│ E053-6B04A ┆        ┆            ┆          ┆   ┆            ┆           ┆           ┆ 7.605675  │\n",
       "│ …          ┆        ┆            ┆          ┆   ┆            ┆           ┆           ┆ UTC       │\n",
       "│ {DBA933F9- ┆ 220000 ┆ 2022-02-14 ┆ YO12 7ND ┆ … ┆ NORTH      ┆ A         ┆ A         ┆ 2025-10-0 │\n",
       "│ D5BE-669D- ┆        ┆            ┆          ┆   ┆ YORKSHIRE  ┆           ┆           ┆ 7 21:16:2 │\n",
       "│ E053-6B04A ┆        ┆            ┆          ┆   ┆            ┆           ┆           ┆ 7.605675  │\n",
       "│ …          ┆        ┆            ┆          ┆   ┆            ┆           ┆           ┆ UTC       │\n",
       "│ {DBA933F9- ┆ 775000 ┆ 2022-02-22 ┆ HG5 0TT  ┆ … ┆ NORTH      ┆ A         ┆ A         ┆ 2025-10-0 │\n",
       "│ D5C0-669D- ┆        ┆            ┆          ┆   ┆ YORKSHIRE  ┆           ┆           ┆ 7 21:16:2 │\n",
       "│ E053-6B04A ┆        ┆            ┆          ┆   ┆            ┆           ┆           ┆ 7.605675  │\n",
       "│ …          ┆        ┆            ┆          ┆   ┆            ┆           ┆           ┆ UTC       │\n",
       "│ {DBA933F9- ┆ 450000 ┆ 2022-03-04 ┆ YO31 1BU ┆ … ┆ YORK       ┆ A         ┆ A         ┆ 2025-10-0 │\n",
       "│ D5C6-669D- ┆        ┆            ┆          ┆   ┆            ┆           ┆           ┆ 7 21:16:2 │\n",
       "│ E053-6B04A ┆        ┆            ┆          ┆   ┆            ┆           ┆           ┆ 7.605675  │\n",
       "│ …          ┆        ┆            ┆          ┆   ┆            ┆           ┆           ┆ UTC       │\n",
       "│ {DBA933F9- ┆ 175000 ┆ 2022-02-25 ┆ LA2 7EB  ┆ … ┆ NORTH      ┆ A         ┆ A         ┆ 2025-10-0 │\n",
       "│ D5CC-669D- ┆        ┆            ┆          ┆   ┆ YORKSHIRE  ┆           ┆           ┆ 7 21:16:2 │\n",
       "│ E053-6B04A ┆        ┆            ┆          ┆   ┆            ┆           ┆           ┆ 7.605675  │\n",
       "│ …          ┆        ┆            ┆          ┆   ┆            ┆           ┆           ┆ UTC       │\n",
       "│ …          ┆ …      ┆ …          ┆ …        ┆ … ┆ …          ┆ …         ┆ …         ┆ …         │\n",
       "│ {E7B085FC- ┆ 166500 ┆ 2022-07-29 ┆ NG4 2NS  ┆ … ┆ NOTTINGHAM ┆ A         ┆ A         ┆ 2025-10-0 │\n",
       "│ 99AC-7E31- ┆        ┆            ┆          ┆   ┆ SHIRE      ┆           ┆           ┆ 7 21:16:2 │\n",
       "│ E053-6C04A ┆        ┆            ┆          ┆   ┆            ┆           ┆           ┆ 7.605675  │\n",
       "│ …          ┆        ┆            ┆          ┆   ┆            ┆           ┆           ┆ UTC       │\n",
       "│ {E7B085FC- ┆ 595000 ┆ 2022-07-08 ┆ LE14 3BQ ┆ … ┆ NOTTINGHAM ┆ A         ┆ A         ┆ 2025-10-0 │\n",
       "│ 99AD-7E31- ┆        ┆            ┆          ┆   ┆ SHIRE      ┆           ┆           ┆ 7 21:16:2 │\n",
       "│ E053-6C04A ┆        ┆            ┆          ┆   ┆            ┆           ┆           ┆ 7.605675  │\n",
       "│ …          ┆        ┆            ┆          ┆   ┆            ┆           ┆           ┆ UTC       │\n",
       "│ {E7B085FC- ┆ 260000 ┆ 2022-03-15 ┆ NG9 5LF  ┆ … ┆ NOTTINGHAM ┆ A         ┆ A         ┆ 2025-10-0 │\n",
       "│ 99AE-7E31- ┆        ┆            ┆          ┆   ┆ SHIRE      ┆           ┆           ┆ 7 21:16:2 │\n",
       "│ E053-6C04A ┆        ┆            ┆          ┆   ┆            ┆           ┆           ┆ 7.605675  │\n",
       "│ …          ┆        ┆            ┆          ┆   ┆            ┆           ┆           ┆ UTC       │\n",
       "│ {E7B085FC- ┆ 250000 ┆ 2022-07-19 ┆ NG5 8FZ  ┆ … ┆ NOTTINGHAM ┆ A         ┆ A         ┆ 2025-10-0 │\n",
       "│ 99AF-7E31- ┆        ┆            ┆          ┆   ┆ SHIRE      ┆           ┆           ┆ 7 21:16:2 │\n",
       "│ E053-6C04A ┆        ┆            ┆          ┆   ┆            ┆           ┆           ┆ 7.605675  │\n",
       "│ …          ┆        ┆            ┆          ┆   ┆            ┆           ┆           ┆ UTC       │\n",
       "│ {E7B085FC- ┆ 166000 ┆ 2022-07-21 ┆ NG15 7EE ┆ … ┆ NOTTINGHAM ┆ A         ┆ A         ┆ 2025-10-0 │\n",
       "│ 99B0-7E31- ┆        ┆            ┆          ┆   ┆ SHIRE      ┆           ┆           ┆ 7 21:16:2 │\n",
       "│ E053-6C04A ┆        ┆            ┆          ┆   ┆            ┆           ┆           ┆ 7.605675  │\n",
       "│ …          ┆        ┆            ┆          ┆   ┆            ┆           ┆           ┆ UTC       │\n",
       "└────────────┴────────┴────────────┴──────────┴───┴────────────┴───────────┴───────────┴───────────┘"
      ]
     },
     "execution_count": 3,
     "metadata": {},
     "output_type": "execute_result"
    }
   ],
   "source": [
    "timestamp = dt.datetime.now(tz=dt.UTC)\n",
    "house_prices_2022 = read_house_prices(\"data/house_prices/pp-2022.csv\").with_columns(\n",
    "    pl.lit(timestamp).alias(\"_loaded_at\")\n",
    ")\n",
    "house_prices_2022"
   ]
  },
  {
   "cell_type": "code",
   "execution_count": 4,
   "id": "lEQa",
   "metadata": {},
   "outputs": [
    {
     "name": "stdout",
     "output_type": "stream",
     "text": [
      "PyArrow table contains more columns: _loaded_at. Update the schema first (hint, use union_by_name).\n"
     ]
    }
   ],
   "source": [
    "try:\n",
    "    house_prices_t.upsert(house_prices_2022.to_arrow())\n",
    "except ValueError as e:\n",
    "    # Print out the error message instead of crashing\n",
    "    print(e.args[0])"
   ]
  },
  {
   "cell_type": "markdown",
   "id": "PKri",
   "metadata": {
    "marimo": {
     "config": {
      "hide_code": true
     }
    }
   },
   "source": [
    "Pyiceberg is preventing us from doing something we shouldn't - Iceberg has a fixed schema, so we can't just add arbitrary columns to it. We need to update the schema to accomodate our new column.\n",
    "\n",
    "```{note}\n",
    "Pyiceberg gives us the ability to do this within a transaction to live up to Iceberg's ACID guarantees.\n",
    "```\n",
    "The new schema is added to the Iceberg metadata in the `schemas` array. Note that each of our snapshots reference the schema at the time the data was written. That way Iceberg can keep track of the schema evolution."
   ]
  },
  {
   "cell_type": "code",
   "execution_count": 5,
   "id": "8a830ebb-4f1b-43a2-bd0b-c4ba83600e20",
   "metadata": {},
   "outputs": [],
   "source": [
    "from pyiceberg.types import TimestamptzType\n",
    "\n",
    "with house_prices_t.update_schema() as schema:\n",
    "    schema.add_column(\n",
    "        \"_loaded_at\", TimestamptzType(), doc=\"The date this row was loaded\"\n",
    "    )"
   ]
  },
  {
   "cell_type": "markdown",
   "id": "966df564-d75f-4920-aa7c-e1caf20be143",
   "metadata": {},
   "source": [
    "Looking at our metadata again - what's changed?"
   ]
  },
  {
   "cell_type": "code",
   "execution_count": 6,
   "id": "a29d7229-ae1c-44e4-8536-1ebf1870fdda",
   "metadata": {},
   "outputs": [
    {
     "data": {
      "application/json": {
       "current-schema-id": 1,
       "current-snapshot-id": 122295293945248210,
       "default-sort-order-id": 0,
       "default-spec-id": 0,
       "format-version": 2,
       "last-column-id": 17,
       "last-partition-id": 999,
       "last-sequence-number": 2,
       "last-updated-ms": 1759871799183,
       "location": "s3://warehouse/housing/staging",
       "metadata-log": [
        {
         "metadata-file": "s3://warehouse/housing/staging/metadata/00000-0199c078-fe72-75b3-a0de-aeb5c462e5c0.gz.metadata.json",
         "timestamp-ms": 1759870778994
        },
        {
         "metadata-file": "s3://warehouse/housing/staging/metadata/00001-0199c079-45e5-73e0-a3d4-371bd1b5104e.gz.metadata.json",
         "timestamp-ms": 1759870797269
        },
        {
         "metadata-file": "s3://warehouse/housing/staging/metadata/00002-0199c07a-0746-7283-8f2a-c48a73b7402f.gz.metadata.json",
         "timestamp-ms": 1759870846774
        }
       ],
       "partition-specs": [
        {
         "fields": [],
         "spec-id": 0
        }
       ],
       "refs": {
        "main": {
         "snapshot-id": 122295293945248210,
         "type": "branch"
        }
       },
       "schemas": [
        {
         "fields": [
          {
           "doc": "A reference number which is generated automatically recording each published sale. The number is unique and will change each time a sale is recorded.",
           "id": 1,
           "name": "transaction_id",
           "required": true,
           "type": "string"
          },
          {
           "doc": "Sale price stated on the transfer deed.",
           "id": 2,
           "name": "price",
           "required": true,
           "type": "int"
          },
          {
           "doc": "Date when the sale was completed, as stated on the transfer deed.",
           "id": 3,
           "name": "date_of_transfer",
           "required": true,
           "type": "date"
          },
          {
           "doc": "This is the postcode used at the time of the original transaction. Note that postcodes can be reallocated and these changes are not reflected in the Price Paid Dataset.",
           "id": 4,
           "name": "postcode",
           "required": true,
           "type": "string"
          },
          {
           "doc": "D = Detached, S = Semi-Detached, T = Terraced, F = Flats/Maisonettes, O = Other",
           "id": 5,
           "name": "property_type",
           "required": true,
           "type": "string"
          },
          {
           "doc": "Indicates the age of the property and applies to all price paid transactions, residential and non-residential. Y = a newly built property, N = an established residential building",
           "id": 6,
           "name": "new_property",
           "required": true,
           "type": "string"
          },
          {
           "doc": "Relates to the tenure: F = Freehold, L= Leasehold etc. Note that HM Land Registry does not record leases of 7 years or less in the Price Paid Dataset.",
           "id": 7,
           "name": "duration",
           "required": true,
           "type": "string"
          },
          {
           "doc": "Primary Addressable Object Name. Typically the house number or name",
           "id": 8,
           "name": "paon",
           "required": false,
           "type": "string"
          },
          {
           "doc": "Secondary Addressable Object Name. Where a property has been divided into separate units (for example, flats), the PAON (above) will identify the building and a SAON will be specified that identifies the separate unit/flat.",
           "id": 9,
           "name": "saon",
           "required": false,
           "type": "string"
          },
          {
           "id": 10,
           "name": "street",
           "required": false,
           "type": "string"
          },
          {
           "id": 11,
           "name": "locality",
           "required": false,
           "type": "string"
          },
          {
           "id": 12,
           "name": "town",
           "required": false,
           "type": "string"
          },
          {
           "id": 13,
           "name": "district",
           "required": false,
           "type": "string"
          },
          {
           "id": 14,
           "name": "county",
           "required": false,
           "type": "string"
          },
          {
           "doc": "Indicates the type of Price Paid transaction. A = Standard Price Paid entry, includes single residential property sold for value. B = Additional Price Paid entry including transfers under a power of sale/repossessions, buy-to-lets (where they can be identified by a Mortgage), transfers to non-private individuals and sales where the property type is classed as ‘Other’.",
           "id": 15,
           "name": "ppd_category_type",
           "required": false,
           "type": "string"
          },
          {
           "doc": "Indicates additions, changes and deletions to the records. A = Addition C = Change D = Delete",
           "id": 16,
           "name": "record_status",
           "required": false,
           "type": "string"
          },
          {
           "doc": "The date this row was loaded",
           "id": 17,
           "name": "_loaded_at",
           "required": false,
           "type": "timestamptz"
          }
         ],
         "identifier-field-ids": [
          1
         ],
         "schema-id": 1,
         "type": "struct"
        },
        {
         "fields": [
          {
           "doc": "A reference number which is generated automatically recording each published sale. The number is unique and will change each time a sale is recorded.",
           "id": 1,
           "name": "transaction_id",
           "required": true,
           "type": "string"
          },
          {
           "doc": "Sale price stated on the transfer deed.",
           "id": 2,
           "name": "price",
           "required": true,
           "type": "int"
          },
          {
           "doc": "Date when the sale was completed, as stated on the transfer deed.",
           "id": 3,
           "name": "date_of_transfer",
           "required": true,
           "type": "date"
          },
          {
           "doc": "This is the postcode used at the time of the original transaction. Note that postcodes can be reallocated and these changes are not reflected in the Price Paid Dataset.",
           "id": 4,
           "name": "postcode",
           "required": true,
           "type": "string"
          },
          {
           "doc": "D = Detached, S = Semi-Detached, T = Terraced, F = Flats/Maisonettes, O = Other",
           "id": 5,
           "name": "property_type",
           "required": true,
           "type": "string"
          },
          {
           "doc": "Indicates the age of the property and applies to all price paid transactions, residential and non-residential. Y = a newly built property, N = an established residential building",
           "id": 6,
           "name": "new_property",
           "required": true,
           "type": "string"
          },
          {
           "doc": "Relates to the tenure: F = Freehold, L= Leasehold etc. Note that HM Land Registry does not record leases of 7 years or less in the Price Paid Dataset.",
           "id": 7,
           "name": "duration",
           "required": true,
           "type": "string"
          },
          {
           "doc": "Primary Addressable Object Name. Typically the house number or name",
           "id": 8,
           "name": "paon",
           "required": false,
           "type": "string"
          },
          {
           "doc": "Secondary Addressable Object Name. Where a property has been divided into separate units (for example, flats), the PAON (above) will identify the building and a SAON will be specified that identifies the separate unit/flat.",
           "id": 9,
           "name": "saon",
           "required": false,
           "type": "string"
          },
          {
           "id": 10,
           "name": "street",
           "required": false,
           "type": "string"
          },
          {
           "id": 11,
           "name": "locality",
           "required": false,
           "type": "string"
          },
          {
           "id": 12,
           "name": "town",
           "required": false,
           "type": "string"
          },
          {
           "id": 13,
           "name": "district",
           "required": false,
           "type": "string"
          },
          {
           "id": 14,
           "name": "county",
           "required": false,
           "type": "string"
          },
          {
           "doc": "Indicates the type of Price Paid transaction. A = Standard Price Paid entry, includes single residential property sold for value. B = Additional Price Paid entry including transfers under a power of sale/repossessions, buy-to-lets (where they can be identified by a Mortgage), transfers to non-private individuals and sales where the property type is classed as ‘Other’.",
           "id": 15,
           "name": "ppd_category_type",
           "required": false,
           "type": "string"
          },
          {
           "doc": "Indicates additions, changes and deletions to the records. A = Addition C = Change D = Delete",
           "id": 16,
           "name": "record_status",
           "required": false,
           "type": "string"
          }
         ],
         "identifier-field-ids": [
          1
         ],
         "schema-id": 0,
         "type": "struct"
        }
       ],
       "snapshot-log": [
        {
         "snapshot-id": 2506664210465907000,
         "timestamp-ms": 1759870797269
        },
        {
         "snapshot-id": 122295293945248210,
         "timestamp-ms": 1759870846774
        }
       ],
       "snapshots": [
        {
         "manifest-list": "s3://warehouse/housing/staging/metadata/snap-122295293945248207-0-0a202aa6-9676-4560-852d-a6476d436439.avro",
         "parent-snapshot-id": 2506664210465907000,
         "schema-id": 0,
         "sequence-number": 2,
         "snapshot-id": 122295293945248210,
         "summary": {
          "added-data-files": "1",
          "added-files-size": "19326203",
          "added-records": "854549",
          "operation": "append",
          "total-data-files": "2",
          "total-delete-files": "0",
          "total-equality-deletes": "0",
          "total-files-size": "38749542",
          "total-position-deletes": "0",
          "total-records": "1714509"
         },
         "timestamp-ms": 1759870846774
        },
        {
         "manifest-list": "s3://warehouse/housing/staging/metadata/snap-2506664210465907389-0-54245ac0-970e-47b9-8aa5-8e7f505363cc.avro",
         "schema-id": 0,
         "sequence-number": 1,
         "snapshot-id": 2506664210465907000,
         "summary": {
          "added-data-files": "1",
          "added-files-size": "19423339",
          "added-records": "859960",
          "operation": "append",
          "total-data-files": "1",
          "total-delete-files": "0",
          "total-equality-deletes": "0",
          "total-files-size": "19423339",
          "total-position-deletes": "0",
          "total-records": "859960"
         },
         "timestamp-ms": 1759870797269
        }
       ],
       "sort-orders": [
        {
         "fields": [],
         "order-id": 0
        }
       ],
       "table-uuid": "0199c078-fe5f-7c43-84a1-4d4ec684123e"
      },
      "text/plain": [
       "<IPython.core.display.JSON object>"
      ]
     },
     "execution_count": 6,
     "metadata": {
      "application/json": {
       "expanded": false,
       "root": "root"
      }
     },
     "output_type": "execute_result"
    }
   ],
   "source": [
    "JSON(get_iceberg_metadata(fs, house_prices_t))"
   ]
  },
  {
   "cell_type": "markdown",
   "id": "SFPL",
   "metadata": {},
   "source": [
    "Now we have our `_loaded_at` column as part of the table schema, Iceberg is happy for us to add our data with the new column"
   ]
  },
  {
   "cell_type": "code",
   "execution_count": 7,
   "id": "27928670-1ff8-46a7-b8e9-f707e6cb50c9",
   "metadata": {},
   "outputs": [
    {
     "name": "stderr",
     "output_type": "stream",
     "text": [
      "/usr/local/lib/python3.12/site-packages/pyiceberg/avro/decoder.py:185: UserWarning: Falling back to pure Python Avro decoder, missing Cython implementation\n",
      "  warnings.warn(\"Falling back to pure Python Avro decoder, missing Cython implementation\")\n"
     ]
    },
    {
     "data": {
      "application/json": {
       "current-schema-id": 1,
       "current-snapshot-id": 4408867218183768600,
       "default-sort-order-id": 0,
       "default-spec-id": 0,
       "format-version": 2,
       "last-column-id": 17,
       "last-partition-id": 999,
       "last-sequence-number": 3,
       "last-updated-ms": 1759871809221,
       "location": "s3://warehouse/housing/staging",
       "metadata-log": [
        {
         "metadata-file": "s3://warehouse/housing/staging/metadata/00000-0199c078-fe72-75b3-a0de-aeb5c462e5c0.gz.metadata.json",
         "timestamp-ms": 1759870778994
        },
        {
         "metadata-file": "s3://warehouse/housing/staging/metadata/00001-0199c079-45e5-73e0-a3d4-371bd1b5104e.gz.metadata.json",
         "timestamp-ms": 1759870797269
        },
        {
         "metadata-file": "s3://warehouse/housing/staging/metadata/00002-0199c07a-0746-7283-8f2a-c48a73b7402f.gz.metadata.json",
         "timestamp-ms": 1759870846774
        },
        {
         "metadata-file": "s3://warehouse/housing/staging/metadata/00003-0199c088-8f8f-7ff0-b7e2-c41ed205f2ef.gz.metadata.json",
         "timestamp-ms": 1759871799183
        }
       ],
       "partition-specs": [
        {
         "fields": [],
         "spec-id": 0
        }
       ],
       "refs": {
        "main": {
         "snapshot-id": 4408867218183768600,
         "type": "branch"
        }
       },
       "schemas": [
        {
         "fields": [
          {
           "doc": "A reference number which is generated automatically recording each published sale. The number is unique and will change each time a sale is recorded.",
           "id": 1,
           "name": "transaction_id",
           "required": true,
           "type": "string"
          },
          {
           "doc": "Sale price stated on the transfer deed.",
           "id": 2,
           "name": "price",
           "required": true,
           "type": "int"
          },
          {
           "doc": "Date when the sale was completed, as stated on the transfer deed.",
           "id": 3,
           "name": "date_of_transfer",
           "required": true,
           "type": "date"
          },
          {
           "doc": "This is the postcode used at the time of the original transaction. Note that postcodes can be reallocated and these changes are not reflected in the Price Paid Dataset.",
           "id": 4,
           "name": "postcode",
           "required": true,
           "type": "string"
          },
          {
           "doc": "D = Detached, S = Semi-Detached, T = Terraced, F = Flats/Maisonettes, O = Other",
           "id": 5,
           "name": "property_type",
           "required": true,
           "type": "string"
          },
          {
           "doc": "Indicates the age of the property and applies to all price paid transactions, residential and non-residential. Y = a newly built property, N = an established residential building",
           "id": 6,
           "name": "new_property",
           "required": true,
           "type": "string"
          },
          {
           "doc": "Relates to the tenure: F = Freehold, L= Leasehold etc. Note that HM Land Registry does not record leases of 7 years or less in the Price Paid Dataset.",
           "id": 7,
           "name": "duration",
           "required": true,
           "type": "string"
          },
          {
           "doc": "Primary Addressable Object Name. Typically the house number or name",
           "id": 8,
           "name": "paon",
           "required": false,
           "type": "string"
          },
          {
           "doc": "Secondary Addressable Object Name. Where a property has been divided into separate units (for example, flats), the PAON (above) will identify the building and a SAON will be specified that identifies the separate unit/flat.",
           "id": 9,
           "name": "saon",
           "required": false,
           "type": "string"
          },
          {
           "id": 10,
           "name": "street",
           "required": false,
           "type": "string"
          },
          {
           "id": 11,
           "name": "locality",
           "required": false,
           "type": "string"
          },
          {
           "id": 12,
           "name": "town",
           "required": false,
           "type": "string"
          },
          {
           "id": 13,
           "name": "district",
           "required": false,
           "type": "string"
          },
          {
           "id": 14,
           "name": "county",
           "required": false,
           "type": "string"
          },
          {
           "doc": "Indicates the type of Price Paid transaction. A = Standard Price Paid entry, includes single residential property sold for value. B = Additional Price Paid entry including transfers under a power of sale/repossessions, buy-to-lets (where they can be identified by a Mortgage), transfers to non-private individuals and sales where the property type is classed as ‘Other’.",
           "id": 15,
           "name": "ppd_category_type",
           "required": false,
           "type": "string"
          },
          {
           "doc": "Indicates additions, changes and deletions to the records. A = Addition C = Change D = Delete",
           "id": 16,
           "name": "record_status",
           "required": false,
           "type": "string"
          },
          {
           "doc": "The date this row was loaded",
           "id": 17,
           "name": "_loaded_at",
           "required": false,
           "type": "timestamptz"
          }
         ],
         "identifier-field-ids": [
          1
         ],
         "schema-id": 1,
         "type": "struct"
        },
        {
         "fields": [
          {
           "doc": "A reference number which is generated automatically recording each published sale. The number is unique and will change each time a sale is recorded.",
           "id": 1,
           "name": "transaction_id",
           "required": true,
           "type": "string"
          },
          {
           "doc": "Sale price stated on the transfer deed.",
           "id": 2,
           "name": "price",
           "required": true,
           "type": "int"
          },
          {
           "doc": "Date when the sale was completed, as stated on the transfer deed.",
           "id": 3,
           "name": "date_of_transfer",
           "required": true,
           "type": "date"
          },
          {
           "doc": "This is the postcode used at the time of the original transaction. Note that postcodes can be reallocated and these changes are not reflected in the Price Paid Dataset.",
           "id": 4,
           "name": "postcode",
           "required": true,
           "type": "string"
          },
          {
           "doc": "D = Detached, S = Semi-Detached, T = Terraced, F = Flats/Maisonettes, O = Other",
           "id": 5,
           "name": "property_type",
           "required": true,
           "type": "string"
          },
          {
           "doc": "Indicates the age of the property and applies to all price paid transactions, residential and non-residential. Y = a newly built property, N = an established residential building",
           "id": 6,
           "name": "new_property",
           "required": true,
           "type": "string"
          },
          {
           "doc": "Relates to the tenure: F = Freehold, L= Leasehold etc. Note that HM Land Registry does not record leases of 7 years or less in the Price Paid Dataset.",
           "id": 7,
           "name": "duration",
           "required": true,
           "type": "string"
          },
          {
           "doc": "Primary Addressable Object Name. Typically the house number or name",
           "id": 8,
           "name": "paon",
           "required": false,
           "type": "string"
          },
          {
           "doc": "Secondary Addressable Object Name. Where a property has been divided into separate units (for example, flats), the PAON (above) will identify the building and a SAON will be specified that identifies the separate unit/flat.",
           "id": 9,
           "name": "saon",
           "required": false,
           "type": "string"
          },
          {
           "id": 10,
           "name": "street",
           "required": false,
           "type": "string"
          },
          {
           "id": 11,
           "name": "locality",
           "required": false,
           "type": "string"
          },
          {
           "id": 12,
           "name": "town",
           "required": false,
           "type": "string"
          },
          {
           "id": 13,
           "name": "district",
           "required": false,
           "type": "string"
          },
          {
           "id": 14,
           "name": "county",
           "required": false,
           "type": "string"
          },
          {
           "doc": "Indicates the type of Price Paid transaction. A = Standard Price Paid entry, includes single residential property sold for value. B = Additional Price Paid entry including transfers under a power of sale/repossessions, buy-to-lets (where they can be identified by a Mortgage), transfers to non-private individuals and sales where the property type is classed as ‘Other’.",
           "id": 15,
           "name": "ppd_category_type",
           "required": false,
           "type": "string"
          },
          {
           "doc": "Indicates additions, changes and deletions to the records. A = Addition C = Change D = Delete",
           "id": 16,
           "name": "record_status",
           "required": false,
           "type": "string"
          }
         ],
         "identifier-field-ids": [
          1
         ],
         "schema-id": 0,
         "type": "struct"
        }
       ],
       "snapshot-log": [
        {
         "snapshot-id": 2506664210465907000,
         "timestamp-ms": 1759870797269
        },
        {
         "snapshot-id": 122295293945248210,
         "timestamp-ms": 1759870846774
        },
        {
         "snapshot-id": 4408867218183768600,
         "timestamp-ms": 1759871809221
        }
       ],
       "snapshots": [
        {
         "manifest-list": "s3://warehouse/housing/staging/metadata/snap-2506664210465907389-0-54245ac0-970e-47b9-8aa5-8e7f505363cc.avro",
         "schema-id": 0,
         "sequence-number": 1,
         "snapshot-id": 2506664210465907000,
         "summary": {
          "added-data-files": "1",
          "added-files-size": "19423339",
          "added-records": "859960",
          "operation": "append",
          "total-data-files": "1",
          "total-delete-files": "0",
          "total-equality-deletes": "0",
          "total-files-size": "19423339",
          "total-position-deletes": "0",
          "total-records": "859960"
         },
         "timestamp-ms": 1759870797269
        },
        {
         "manifest-list": "s3://warehouse/housing/staging/metadata/snap-122295293945248207-0-0a202aa6-9676-4560-852d-a6476d436439.avro",
         "parent-snapshot-id": 2506664210465907000,
         "schema-id": 0,
         "sequence-number": 2,
         "snapshot-id": 122295293945248210,
         "summary": {
          "added-data-files": "1",
          "added-files-size": "19326203",
          "added-records": "854549",
          "operation": "append",
          "total-data-files": "2",
          "total-delete-files": "0",
          "total-equality-deletes": "0",
          "total-files-size": "38749542",
          "total-position-deletes": "0",
          "total-records": "1714509"
         },
         "timestamp-ms": 1759870846774
        },
        {
         "manifest-list": "s3://warehouse/housing/staging/metadata/snap-4408867218183768777-0-6b085446-b71e-467a-8580-e2c3dfc8be62.avro",
         "parent-snapshot-id": 122295293945248210,
         "schema-id": 1,
         "sequence-number": 3,
         "snapshot-id": 4408867218183768600,
         "summary": {
          "added-data-files": "1",
          "added-files-size": "24360419",
          "added-records": "1073122",
          "operation": "append",
          "total-data-files": "3",
          "total-delete-files": "0",
          "total-equality-deletes": "0",
          "total-files-size": "63109961",
          "total-position-deletes": "0",
          "total-records": "2787631"
         },
         "timestamp-ms": 1759871809221
        }
       ],
       "sort-orders": [
        {
         "fields": [],
         "order-id": 0
        }
       ],
       "table-uuid": "0199c078-fe5f-7c43-84a1-4d4ec684123e"
      },
      "text/plain": [
       "<IPython.core.display.JSON object>"
      ]
     },
     "execution_count": 7,
     "metadata": {
      "application/json": {
       "expanded": false,
       "root": "root"
      }
     },
     "output_type": "execute_result"
    }
   ],
   "source": [
    "house_prices_t.append(\n",
    "    house_prices_2022.to_arrow().cast(house_prices_t.schema().as_arrow())\n",
    ")\n",
    "\n",
    "JSON(get_iceberg_metadata(fs, house_prices_t))"
   ]
  },
  {
   "attachments": {},
   "cell_type": "markdown",
   "id": "e4051e2e-f873-4746-8a3e-584011c3c411",
   "metadata": {},
   "source": [
    "What about the data we already added? How would we modify that data? Here we start running into some limitations of a foundational library like `pyiceberg` - we can do it (bonus homework - how would you do it in pyiceberg natively?), but wouldn't it be much easier to write an `UPDATE` in SQL and not have to worry about the details?\n",
    "\n",
    "This is the power of Iceberg - we have the ability to switch query engines to suit our usecase - in this case, I want to use Trino to update the data back in time.\n",
    "\n",
    "Let's verify how many nulls we have - the data we just added should have `_loaded_at` filled in, but the rest should be null."
   ]
  },
  {
   "cell_type": "code",
   "execution_count": 8,
   "id": "Kclp",
   "metadata": {},
   "outputs": [],
   "source": [
    "engine = sa.create_engine(\"trino://trino:@trino:8080/lakekeeper\")"
   ]
  },
  {
   "cell_type": "code",
   "execution_count": 9,
   "id": "emfo",
   "metadata": {},
   "outputs": [
    {
     "data": {
      "text/html": [
       "<div><style>\n",
       ".dataframe > thead > tr,\n",
       ".dataframe > tbody > tr {\n",
       "  text-align: right;\n",
       "  white-space: pre-wrap;\n",
       "}\n",
       "</style>\n",
       "<small>shape: (1, 2)</small><table border=\"1\" class=\"dataframe\"><thead><tr><th>total_rows</th><th>null_count</th></tr><tr><td>i64</td><td>i64</td></tr></thead><tbody><tr><td>2787631</td><td>1714509</td></tr></tbody></table></div>"
      ],
      "text/plain": [
       "shape: (1, 2)\n",
       "┌────────────┬────────────┐\n",
       "│ total_rows ┆ null_count │\n",
       "│ ---        ┆ ---        │\n",
       "│ i64        ┆ i64        │\n",
       "╞════════════╪════════════╡\n",
       "│ 2787631    ┆ 1714509    │\n",
       "└────────────┴────────────┘"
      ]
     },
     "execution_count": 9,
     "metadata": {},
     "output_type": "execute_result"
    }
   ],
   "source": [
    "null_count_sql = \"\"\"\n",
    "SELECT\n",
    "    COUNT(*) as total_rows,\n",
    "    COUNT_IF(_loaded_at IS NULL) as null_count\n",
    "FROM housing.staging_prices\n",
    "    \"\"\"\n",
    "pl.read_database(null_count_sql, engine)"
   ]
  },
  {
   "cell_type": "markdown",
   "id": "e2bb8623-bcbf-4824-9c3d-d27036e19b20",
   "metadata": {},
   "source": [
    "A simple UPDATE in SQL saves us many lines of Python code"
   ]
  },
  {
   "cell_type": "code",
   "execution_count": 10,
   "id": "nWHF",
   "metadata": {},
   "outputs": [
    {
     "name": "stdout",
     "output_type": "stream",
     "text": [
      "Updated 1,714,509 rows\n"
     ]
    }
   ],
   "source": [
    "with engine.connect() as conn:\n",
    "    sql = f\"UPDATE housing.staging_prices SET _loaded_at = from_iso8601_timestamp('{timestamp.isoformat()}') WHERE _loaded_at is null\"\n",
    "    result = conn.execute(sa.text(sql))\n",
    "    print(f\"Updated {result.scalar_one():,} rows\")"
   ]
  },
  {
   "cell_type": "code",
   "execution_count": 11,
   "id": "iLit",
   "metadata": {},
   "outputs": [
    {
     "data": {
      "text/html": [
       "<div><style>\n",
       ".dataframe > thead > tr,\n",
       ".dataframe > tbody > tr {\n",
       "  text-align: right;\n",
       "  white-space: pre-wrap;\n",
       "}\n",
       "</style>\n",
       "<small>shape: (1, 2)</small><table border=\"1\" class=\"dataframe\"><thead><tr><th>total_rows</th><th>null_count</th></tr><tr><td>i64</td><td>i64</td></tr></thead><tbody><tr><td>2787631</td><td>0</td></tr></tbody></table></div>"
      ],
      "text/plain": [
       "shape: (1, 2)\n",
       "┌────────────┬────────────┐\n",
       "│ total_rows ┆ null_count │\n",
       "│ ---        ┆ ---        │\n",
       "│ i64        ┆ i64        │\n",
       "╞════════════╪════════════╡\n",
       "│ 2787631    ┆ 0          │\n",
       "└────────────┴────────────┘"
      ]
     },
     "execution_count": 11,
     "metadata": {},
     "output_type": "execute_result"
    }
   ],
   "source": [
    "pl.read_database(null_count_sql, engine)"
   ]
  },
  {
   "cell_type": "markdown",
   "id": "ZHCJ",
   "metadata": {},
   "source": [
    "We should now have a new snapshot - let's have a peek.\n",
    "\n",
    "```{warning} Keep metadata in sync\n",
    "Pyiceberg doesn't yet know about our Trino update - we need to refresh the metadata to get the latest metadata from the catalog\n",
    "```"
   ]
  },
  {
   "cell_type": "code",
   "execution_count": 12,
   "id": "ade27916-3536-4ab8-a24c-1ee72bad7d0a",
   "metadata": {},
   "outputs": [],
   "source": [
    "house_prices_t.refresh();"
   ]
  },
  {
   "cell_type": "code",
   "execution_count": 13,
   "id": "ROlb",
   "metadata": {},
   "outputs": [
    {
     "data": {
      "application/json": {
       "current-schema-id": 1,
       "current-snapshot-id": 8928697653805855000,
       "default-sort-order-id": 0,
       "default-spec-id": 0,
       "format-version": 2,
       "last-column-id": 17,
       "last-partition-id": 999,
       "last-sequence-number": 4,
       "last-updated-ms": 1759871831171,
       "location": "s3://warehouse/housing/staging",
       "metadata-log": [
        {
         "metadata-file": "s3://warehouse/housing/staging/metadata/00000-0199c078-fe72-75b3-a0de-aeb5c462e5c0.gz.metadata.json",
         "timestamp-ms": 1759870778994
        },
        {
         "metadata-file": "s3://warehouse/housing/staging/metadata/00001-0199c079-45e5-73e0-a3d4-371bd1b5104e.gz.metadata.json",
         "timestamp-ms": 1759870797269
        },
        {
         "metadata-file": "s3://warehouse/housing/staging/metadata/00002-0199c07a-0746-7283-8f2a-c48a73b7402f.gz.metadata.json",
         "timestamp-ms": 1759870846774
        },
        {
         "metadata-file": "s3://warehouse/housing/staging/metadata/00003-0199c088-8f8f-7ff0-b7e2-c41ed205f2ef.gz.metadata.json",
         "timestamp-ms": 1759871799183
        },
        {
         "metadata-file": "s3://warehouse/housing/staging/metadata/00004-0199c088-b6d2-7252-908c-ba7185615ac4.gz.metadata.json",
         "timestamp-ms": 1759871809221
        }
       ],
       "partition-specs": [
        {
         "fields": [],
         "spec-id": 0
        }
       ],
       "refs": {
        "main": {
         "snapshot-id": 8928697653805855000,
         "type": "branch"
        }
       },
       "schemas": [
        {
         "fields": [
          {
           "doc": "A reference number which is generated automatically recording each published sale. The number is unique and will change each time a sale is recorded.",
           "id": 1,
           "name": "transaction_id",
           "required": true,
           "type": "string"
          },
          {
           "doc": "Sale price stated on the transfer deed.",
           "id": 2,
           "name": "price",
           "required": true,
           "type": "int"
          },
          {
           "doc": "Date when the sale was completed, as stated on the transfer deed.",
           "id": 3,
           "name": "date_of_transfer",
           "required": true,
           "type": "date"
          },
          {
           "doc": "This is the postcode used at the time of the original transaction. Note that postcodes can be reallocated and these changes are not reflected in the Price Paid Dataset.",
           "id": 4,
           "name": "postcode",
           "required": true,
           "type": "string"
          },
          {
           "doc": "D = Detached, S = Semi-Detached, T = Terraced, F = Flats/Maisonettes, O = Other",
           "id": 5,
           "name": "property_type",
           "required": true,
           "type": "string"
          },
          {
           "doc": "Indicates the age of the property and applies to all price paid transactions, residential and non-residential. Y = a newly built property, N = an established residential building",
           "id": 6,
           "name": "new_property",
           "required": true,
           "type": "string"
          },
          {
           "doc": "Relates to the tenure: F = Freehold, L= Leasehold etc. Note that HM Land Registry does not record leases of 7 years or less in the Price Paid Dataset.",
           "id": 7,
           "name": "duration",
           "required": true,
           "type": "string"
          },
          {
           "doc": "Primary Addressable Object Name. Typically the house number or name",
           "id": 8,
           "name": "paon",
           "required": false,
           "type": "string"
          },
          {
           "doc": "Secondary Addressable Object Name. Where a property has been divided into separate units (for example, flats), the PAON (above) will identify the building and a SAON will be specified that identifies the separate unit/flat.",
           "id": 9,
           "name": "saon",
           "required": false,
           "type": "string"
          },
          {
           "id": 10,
           "name": "street",
           "required": false,
           "type": "string"
          },
          {
           "id": 11,
           "name": "locality",
           "required": false,
           "type": "string"
          },
          {
           "id": 12,
           "name": "town",
           "required": false,
           "type": "string"
          },
          {
           "id": 13,
           "name": "district",
           "required": false,
           "type": "string"
          },
          {
           "id": 14,
           "name": "county",
           "required": false,
           "type": "string"
          },
          {
           "doc": "Indicates the type of Price Paid transaction. A = Standard Price Paid entry, includes single residential property sold for value. B = Additional Price Paid entry including transfers under a power of sale/repossessions, buy-to-lets (where they can be identified by a Mortgage), transfers to non-private individuals and sales where the property type is classed as ‘Other’.",
           "id": 15,
           "name": "ppd_category_type",
           "required": false,
           "type": "string"
          },
          {
           "doc": "Indicates additions, changes and deletions to the records. A = Addition C = Change D = Delete",
           "id": 16,
           "name": "record_status",
           "required": false,
           "type": "string"
          },
          {
           "doc": "The date this row was loaded",
           "id": 17,
           "name": "_loaded_at",
           "required": false,
           "type": "timestamptz"
          }
         ],
         "identifier-field-ids": [
          1
         ],
         "schema-id": 1,
         "type": "struct"
        },
        {
         "fields": [
          {
           "doc": "A reference number which is generated automatically recording each published sale. The number is unique and will change each time a sale is recorded.",
           "id": 1,
           "name": "transaction_id",
           "required": true,
           "type": "string"
          },
          {
           "doc": "Sale price stated on the transfer deed.",
           "id": 2,
           "name": "price",
           "required": true,
           "type": "int"
          },
          {
           "doc": "Date when the sale was completed, as stated on the transfer deed.",
           "id": 3,
           "name": "date_of_transfer",
           "required": true,
           "type": "date"
          },
          {
           "doc": "This is the postcode used at the time of the original transaction. Note that postcodes can be reallocated and these changes are not reflected in the Price Paid Dataset.",
           "id": 4,
           "name": "postcode",
           "required": true,
           "type": "string"
          },
          {
           "doc": "D = Detached, S = Semi-Detached, T = Terraced, F = Flats/Maisonettes, O = Other",
           "id": 5,
           "name": "property_type",
           "required": true,
           "type": "string"
          },
          {
           "doc": "Indicates the age of the property and applies to all price paid transactions, residential and non-residential. Y = a newly built property, N = an established residential building",
           "id": 6,
           "name": "new_property",
           "required": true,
           "type": "string"
          },
          {
           "doc": "Relates to the tenure: F = Freehold, L= Leasehold etc. Note that HM Land Registry does not record leases of 7 years or less in the Price Paid Dataset.",
           "id": 7,
           "name": "duration",
           "required": true,
           "type": "string"
          },
          {
           "doc": "Primary Addressable Object Name. Typically the house number or name",
           "id": 8,
           "name": "paon",
           "required": false,
           "type": "string"
          },
          {
           "doc": "Secondary Addressable Object Name. Where a property has been divided into separate units (for example, flats), the PAON (above) will identify the building and a SAON will be specified that identifies the separate unit/flat.",
           "id": 9,
           "name": "saon",
           "required": false,
           "type": "string"
          },
          {
           "id": 10,
           "name": "street",
           "required": false,
           "type": "string"
          },
          {
           "id": 11,
           "name": "locality",
           "required": false,
           "type": "string"
          },
          {
           "id": 12,
           "name": "town",
           "required": false,
           "type": "string"
          },
          {
           "id": 13,
           "name": "district",
           "required": false,
           "type": "string"
          },
          {
           "id": 14,
           "name": "county",
           "required": false,
           "type": "string"
          },
          {
           "doc": "Indicates the type of Price Paid transaction. A = Standard Price Paid entry, includes single residential property sold for value. B = Additional Price Paid entry including transfers under a power of sale/repossessions, buy-to-lets (where they can be identified by a Mortgage), transfers to non-private individuals and sales where the property type is classed as ‘Other’.",
           "id": 15,
           "name": "ppd_category_type",
           "required": false,
           "type": "string"
          },
          {
           "doc": "Indicates additions, changes and deletions to the records. A = Addition C = Change D = Delete",
           "id": 16,
           "name": "record_status",
           "required": false,
           "type": "string"
          }
         ],
         "identifier-field-ids": [
          1
         ],
         "schema-id": 0,
         "type": "struct"
        }
       ],
       "snapshot-log": [
        {
         "snapshot-id": 2506664210465907000,
         "timestamp-ms": 1759870797269
        },
        {
         "snapshot-id": 122295293945248210,
         "timestamp-ms": 1759870846774
        },
        {
         "snapshot-id": 4408867218183768600,
         "timestamp-ms": 1759871809221
        },
        {
         "snapshot-id": 8928697653805855000,
         "timestamp-ms": 1759871831171
        }
       ],
       "snapshots": [
        {
         "manifest-list": "s3://warehouse/housing/staging/metadata/snap-122295293945248207-0-0a202aa6-9676-4560-852d-a6476d436439.avro",
         "parent-snapshot-id": 2506664210465907000,
         "schema-id": 0,
         "sequence-number": 2,
         "snapshot-id": 122295293945248210,
         "summary": {
          "added-data-files": "1",
          "added-files-size": "19326203",
          "added-records": "854549",
          "operation": "append",
          "total-data-files": "2",
          "total-delete-files": "0",
          "total-equality-deletes": "0",
          "total-files-size": "38749542",
          "total-position-deletes": "0",
          "total-records": "1714509"
         },
         "timestamp-ms": 1759870846774
        },
        {
         "manifest-list": "s3://warehouse/housing/staging/metadata/snap-8928697653805855216-1-99914238-175b-4ff4-9a66-ed7ec13fea81.avro",
         "parent-snapshot-id": 4408867218183768600,
         "schema-id": 1,
         "sequence-number": 4,
         "snapshot-id": 8928697653805855000,
         "summary": {
          "added-data-files": "1",
          "added-delete-files": "2",
          "added-files-size": "39475653",
          "added-position-delete-files": "2",
          "added-position-deletes": "1714509",
          "added-records": "1714509",
          "changed-partition-count": "1",
          "engine-name": "trino",
          "engine-version": "477",
          "iceberg-version": "Apache Iceberg 1.10.0 (commit 2114bf631e49af532d66e2ce148ee49dd1dd1f1f)",
          "operation": "overwrite",
          "total-data-files": "4",
          "total-delete-files": "2",
          "total-equality-deletes": "0",
          "total-files-size": "102585614",
          "total-position-deletes": "1714509",
          "total-records": "4502140",
          "trino_query_id": "20251007_211704_00002_umz7g",
          "trino_user": "trino"
         },
         "timestamp-ms": 1759871831171
        },
        {
         "manifest-list": "s3://warehouse/housing/staging/metadata/snap-4408867218183768777-0-6b085446-b71e-467a-8580-e2c3dfc8be62.avro",
         "parent-snapshot-id": 122295293945248210,
         "schema-id": 1,
         "sequence-number": 3,
         "snapshot-id": 4408867218183768600,
         "summary": {
          "added-data-files": "1",
          "added-files-size": "24360419",
          "added-records": "1073122",
          "operation": "append",
          "total-data-files": "3",
          "total-delete-files": "0",
          "total-equality-deletes": "0",
          "total-files-size": "63109961",
          "total-position-deletes": "0",
          "total-records": "2787631"
         },
         "timestamp-ms": 1759871809221
        },
        {
         "manifest-list": "s3://warehouse/housing/staging/metadata/snap-2506664210465907389-0-54245ac0-970e-47b9-8aa5-8e7f505363cc.avro",
         "schema-id": 0,
         "sequence-number": 1,
         "snapshot-id": 2506664210465907000,
         "summary": {
          "added-data-files": "1",
          "added-files-size": "19423339",
          "added-records": "859960",
          "operation": "append",
          "total-data-files": "1",
          "total-delete-files": "0",
          "total-equality-deletes": "0",
          "total-files-size": "19423339",
          "total-position-deletes": "0",
          "total-records": "859960"
         },
         "timestamp-ms": 1759870797269
        }
       ],
       "sort-orders": [
        {
         "fields": [],
         "order-id": 0
        }
       ],
       "table-uuid": "0199c078-fe5f-7c43-84a1-4d4ec684123e"
      },
      "text/plain": [
       "<IPython.core.display.JSON object>"
      ]
     },
     "execution_count": 13,
     "metadata": {
      "application/json": {
       "expanded": false,
       "root": "root"
      }
     },
     "output_type": "execute_result"
    }
   ],
   "source": [
    "JSON(get_iceberg_metadata(fs, house_prices_t))"
   ]
  },
  {
   "cell_type": "markdown",
   "id": "qnkX",
   "metadata": {},
   "source": [
    "## Deletes\n",
    "\n",
    "We have a new operation `overwrite` - Parquet is immutable, so we have to physically write out a new file and delete the old one. That is expensive, so Iceberg uses delete files to avoid having to up-front do the work of actually deleting data.\n",
    "\n",
    "```{note} Aside\n",
    "Technically, Parquet **row groups** are immutable, but it's much faster to treat the Parquet file as immutable, rather than rewriting row groups\n",
    "```\n",
    "\n",
    "The Iceberg V2 spec defines positional-deletes and equality-deletes. These are both represented by a `delete` file, which is just a parquet file which specifies rows to mark as deleted, either by a filter like `transaction_id = '{045A1898-4ABF-9A24-E063-4804A8C048EA}'` or by position, like this:\n",
    "```{code} parquet\n",
    ":filename: some_random_id.parquet\n",
    "file_path,pos\n",
    "s3://warehouse/house_prices/raw/data/00000-0-0ab09c23-d71c-4686-968a-f5ebd7b2e32a.parquet,0\n",
    "s3://warehouse/house_prices/raw/data/00000-0-0ab09c23-d71c-4686-968a-f5ebd7b2e32a.parquet,1\n",
    "s3://warehouse/house_prices/raw/data/00000-0-0ab09c23-d71c-4686-968a-f5ebd7b2e32a.parquet,2\n",
    "s3://warehouse/house_prices/raw/data/00000-0-0ab09c23-d71c-4686-968a-f5ebd7b2e32a.parquet,3\n",
    "```\n",
    "\n",
    "```{warning} Deprecation Warning\n",
    "Positional deletes will be replaced by deletion vectors in Iceberg V3\n",
    "```"
   ]
  },
  {
   "cell_type": "markdown",
   "id": "cea148b7-02a9-482d-806c-bccd3e5ee580",
   "metadata": {},
   "source": [
    "Let's use pyiceberg to find a delete file and open it up"
   ]
  },
  {
   "cell_type": "code",
   "execution_count": 14,
   "id": "02dde4ab-043e-482e-b3b5-8dbdfaed993f",
   "metadata": {},
   "outputs": [
    {
     "data": {
      "text/html": [
       "<div><style>\n",
       ".dataframe > thead > tr,\n",
       ".dataframe > tbody > tr {\n",
       "  text-align: right;\n",
       "  white-space: pre-wrap;\n",
       "}\n",
       "</style>\n",
       "<small>shape: (859_960, 2)</small><table border=\"1\" class=\"dataframe\"><thead><tr><th>file_path</th><th>pos</th></tr><tr><td>str</td><td>i64</td></tr></thead><tbody><tr><td>&quot;s3://warehouse/housing/staging/data/00000-0-54245ac0-970e-47b9-8aa5-8e7f505363cc.parquet&quot;</td><td>0</td></tr><tr><td>&quot;s3://warehouse/housing/staging/data/00000-0-54245ac0-970e-47b9-8aa5-8e7f505363cc.parquet&quot;</td><td>1</td></tr><tr><td>&quot;s3://warehouse/housing/staging/data/00000-0-54245ac0-970e-47b9-8aa5-8e7f505363cc.parquet&quot;</td><td>2</td></tr><tr><td>&quot;s3://warehouse/housing/staging/data/00000-0-54245ac0-970e-47b9-8aa5-8e7f505363cc.parquet&quot;</td><td>3</td></tr><tr><td>&quot;s3://warehouse/housing/staging/data/00000-0-54245ac0-970e-47b9-8aa5-8e7f505363cc.parquet&quot;</td><td>4</td></tr><tr><td>&hellip;</td><td>&hellip;</td></tr><tr><td>&quot;s3://warehouse/housing/staging/data/00000-0-54245ac0-970e-47b9-8aa5-8e7f505363cc.parquet&quot;</td><td>859955</td></tr><tr><td>&quot;s3://warehouse/housing/staging/data/00000-0-54245ac0-970e-47b9-8aa5-8e7f505363cc.parquet&quot;</td><td>859956</td></tr><tr><td>&quot;s3://warehouse/housing/staging/data/00000-0-54245ac0-970e-47b9-8aa5-8e7f505363cc.parquet&quot;</td><td>859957</td></tr><tr><td>&quot;s3://warehouse/housing/staging/data/00000-0-54245ac0-970e-47b9-8aa5-8e7f505363cc.parquet&quot;</td><td>859958</td></tr><tr><td>&quot;s3://warehouse/housing/staging/data/00000-0-54245ac0-970e-47b9-8aa5-8e7f505363cc.parquet&quot;</td><td>859959</td></tr></tbody></table></div>"
      ],
      "text/plain": [
       "shape: (859_960, 2)\n",
       "┌─────────────────────────────────────────────────────────────────────────────────────────┬────────┐\n",
       "│ file_path                                                                               ┆ pos    │\n",
       "│ ---                                                                                     ┆ ---    │\n",
       "│ str                                                                                     ┆ i64    │\n",
       "╞═════════════════════════════════════════════════════════════════════════════════════════╪════════╡\n",
       "│ s3://warehouse/housing/staging/data/00000-0-54245ac0-970e-47b9-8aa5-8e7f505363cc.parque ┆ 0      │\n",
       "│ t                                                                                       ┆        │\n",
       "│ s3://warehouse/housing/staging/data/00000-0-54245ac0-970e-47b9-8aa5-8e7f505363cc.parque ┆ 1      │\n",
       "│ t                                                                                       ┆        │\n",
       "│ s3://warehouse/housing/staging/data/00000-0-54245ac0-970e-47b9-8aa5-8e7f505363cc.parque ┆ 2      │\n",
       "│ t                                                                                       ┆        │\n",
       "│ s3://warehouse/housing/staging/data/00000-0-54245ac0-970e-47b9-8aa5-8e7f505363cc.parque ┆ 3      │\n",
       "│ t                                                                                       ┆        │\n",
       "│ s3://warehouse/housing/staging/data/00000-0-54245ac0-970e-47b9-8aa5-8e7f505363cc.parque ┆ 4      │\n",
       "│ t                                                                                       ┆        │\n",
       "│ …                                                                                       ┆ …      │\n",
       "│ s3://warehouse/housing/staging/data/00000-0-54245ac0-970e-47b9-8aa5-8e7f505363cc.parque ┆ 859955 │\n",
       "│ t                                                                                       ┆        │\n",
       "│ s3://warehouse/housing/staging/data/00000-0-54245ac0-970e-47b9-8aa5-8e7f505363cc.parque ┆ 859956 │\n",
       "│ t                                                                                       ┆        │\n",
       "│ s3://warehouse/housing/staging/data/00000-0-54245ac0-970e-47b9-8aa5-8e7f505363cc.parque ┆ 859957 │\n",
       "│ t                                                                                       ┆        │\n",
       "│ s3://warehouse/housing/staging/data/00000-0-54245ac0-970e-47b9-8aa5-8e7f505363cc.parque ┆ 859958 │\n",
       "│ t                                                                                       ┆        │\n",
       "│ s3://warehouse/housing/staging/data/00000-0-54245ac0-970e-47b9-8aa5-8e7f505363cc.parque ┆ 859959 │\n",
       "│ t                                                                                       ┆        │\n",
       "└─────────────────────────────────────────────────────────────────────────────────────────┴────────┘"
      ]
     },
     "metadata": {},
     "output_type": "display_data"
    }
   ],
   "source": [
    "delete_file = (\n",
    "    pl.from_arrow(house_prices_t.inspect.delete_files())\n",
    "    .select(pl.col(\"file_path\"))\n",
    "    .item(0, 0)\n",
    ")\n",
    "with pl.Config(fmt_str_lengths=100):\n",
    "    display(pl.read_parquet(fs.read_bytes(delete_file)))"
   ]
  },
  {
   "cell_type": "markdown",
   "id": "5116c42a-ddaa-4800-a8b3-8fb69f3d4711",
   "metadata": {},
   "source": [
    "# Renaming and moving columns\n",
    "\n",
    "Iceberg implements all column references use the `field_id`. This makes it trivial to rename a column, since we just have to update the metadata of the schema. Imagine our style guide is updated and now all metadata fields such as our `_loaded_at` should now be prefixed with `dwh` to make it clear who did the load. Now that we have some hands-on user feedback, we also want to move `transfer_date` to be the first column since we're often visually exploring date ranges.\n",
    "\n",
    "We can also show off transactions - everything we've done until now has actually been done inside a transaction. We can explicitly open a transaction to perform multiple operations inside a single transaction. This includes deleting and adding files, but for now we'll just make our changes\n",
    "\n"
   ]
  },
  {
   "cell_type": "code",
   "execution_count": 15,
   "id": "fa8b6bec-2d12-4b62-b9c8-207552e6d6c6",
   "metadata": {},
   "outputs": [],
   "source": [
    "with house_prices_t.transaction() as transaction:\n",
    "    with transaction.update_schema() as update:\n",
    "        update.rename_column(\"_loaded_at\", \"_dwh_loaded_at\")\n",
    "        update.move_first(\"date_of_transfer\")"
   ]
  },
  {
   "cell_type": "code",
   "execution_count": 16,
   "id": "42656e93-c6e3-4fb4-936b-d1d3d5113d85",
   "metadata": {},
   "outputs": [
    {
     "data": {
      "text/html": [
       "<div><style>\n",
       ".dataframe > thead > tr,\n",
       ".dataframe > tbody > tr {\n",
       "  text-align: right;\n",
       "  white-space: pre-wrap;\n",
       "}\n",
       "</style>\n",
       "<small>shape: (5, 17)</small><table border=\"1\" class=\"dataframe\"><thead><tr><th>date_of_transfer</th><th>transaction_id</th><th>price</th><th>postcode</th><th>property_type</th><th>new_property</th><th>duration</th><th>paon</th><th>saon</th><th>street</th><th>locality</th><th>town</th><th>district</th><th>county</th><th>ppd_category_type</th><th>record_status</th><th>_dwh_loaded_at</th></tr><tr><td>date</td><td>str</td><td>i32</td><td>str</td><td>str</td><td>str</td><td>str</td><td>str</td><td>str</td><td>str</td><td>str</td><td>str</td><td>str</td><td>str</td><td>str</td><td>str</td><td>datetime[μs, UTC]</td></tr></thead><tbody><tr><td>2022-02-18</td><td>&quot;{DBA933F9-D5BC-669D-E053-6B04A…</td><td>205000</td><td>&quot;DL9 4RS&quot;</td><td>&quot;D&quot;</td><td>&quot;N&quot;</td><td>&quot;F&quot;</td><td>&quot;26&quot;</td><td>&quot;&quot;</td><td>&quot;MAPLE AVENUE&quot;</td><td>&quot;COLBURN&quot;</td><td>&quot;CATTERICK GARRISON&quot;</td><td>&quot;RICHMONDSHIRE&quot;</td><td>&quot;NORTH YORKSHIRE&quot;</td><td>&quot;A&quot;</td><td>&quot;A&quot;</td><td>2025-10-07 21:16:27.605675 UTC</td></tr><tr><td>2022-02-14</td><td>&quot;{DBA933F9-D5BE-669D-E053-6B04A…</td><td>220000</td><td>&quot;YO12 7ND&quot;</td><td>&quot;S&quot;</td><td>&quot;N&quot;</td><td>&quot;F&quot;</td><td>&quot;3&quot;</td><td>&quot;&quot;</td><td>&quot;PEASHOLM GARDENS&quot;</td><td>&quot;&quot;</td><td>&quot;SCARBOROUGH&quot;</td><td>&quot;SCARBOROUGH&quot;</td><td>&quot;NORTH YORKSHIRE&quot;</td><td>&quot;A&quot;</td><td>&quot;A&quot;</td><td>2025-10-07 21:16:27.605675 UTC</td></tr><tr><td>2022-02-22</td><td>&quot;{DBA933F9-D5C0-669D-E053-6B04A…</td><td>775000</td><td>&quot;HG5 0TT&quot;</td><td>&quot;D&quot;</td><td>&quot;N&quot;</td><td>&quot;F&quot;</td><td>&quot;WATERS NOOK&quot;</td><td>&quot;&quot;</td><td>&quot;YORK ROAD&quot;</td><td>&quot;&quot;</td><td>&quot;KNARESBOROUGH&quot;</td><td>&quot;HARROGATE&quot;</td><td>&quot;NORTH YORKSHIRE&quot;</td><td>&quot;A&quot;</td><td>&quot;A&quot;</td><td>2025-10-07 21:16:27.605675 UTC</td></tr><tr><td>2022-03-04</td><td>&quot;{DBA933F9-D5C6-669D-E053-6B04A…</td><td>450000</td><td>&quot;YO31 1BU&quot;</td><td>&quot;D&quot;</td><td>&quot;N&quot;</td><td>&quot;F&quot;</td><td>&quot;116&quot;</td><td>&quot;&quot;</td><td>&quot;STOCKTON LANE&quot;</td><td>&quot;&quot;</td><td>&quot;YORK&quot;</td><td>&quot;YORK&quot;</td><td>&quot;YORK&quot;</td><td>&quot;A&quot;</td><td>&quot;A&quot;</td><td>2025-10-07 21:16:27.605675 UTC</td></tr><tr><td>2022-02-25</td><td>&quot;{DBA933F9-D5CC-669D-E053-6B04A…</td><td>175000</td><td>&quot;LA2 7EB&quot;</td><td>&quot;T&quot;</td><td>&quot;N&quot;</td><td>&quot;F&quot;</td><td>&quot;BORRANS COTTAGES&quot;</td><td>&quot;3&quot;</td><td>&quot;BURTON ROAD&quot;</td><td>&quot;LOWER BENTHAM&quot;</td><td>&quot;LANCASTER&quot;</td><td>&quot;CRAVEN&quot;</td><td>&quot;NORTH YORKSHIRE&quot;</td><td>&quot;A&quot;</td><td>&quot;A&quot;</td><td>2025-10-07 21:16:27.605675 UTC</td></tr></tbody></table></div>"
      ],
      "text/plain": [
       "shape: (5, 17)\n",
       "┌────────────┬────────────┬────────┬──────────┬───┬────────────┬───────────┬───────────┬───────────┐\n",
       "│ date_of_tr ┆ transactio ┆ price  ┆ postcode ┆ … ┆ county     ┆ ppd_categ ┆ record_st ┆ _dwh_load │\n",
       "│ ansfer     ┆ n_id       ┆ ---    ┆ ---      ┆   ┆ ---        ┆ ory_type  ┆ atus      ┆ ed_at     │\n",
       "│ ---        ┆ ---        ┆ i32    ┆ str      ┆   ┆ str        ┆ ---       ┆ ---       ┆ ---       │\n",
       "│ date       ┆ str        ┆        ┆          ┆   ┆            ┆ str       ┆ str       ┆ datetime[ │\n",
       "│            ┆            ┆        ┆          ┆   ┆            ┆           ┆           ┆ μs, UTC]  │\n",
       "╞════════════╪════════════╪════════╪══════════╪═══╪════════════╪═══════════╪═══════════╪═══════════╡\n",
       "│ 2022-02-18 ┆ {DBA933F9- ┆ 205000 ┆ DL9 4RS  ┆ … ┆ NORTH      ┆ A         ┆ A         ┆ 2025-10-0 │\n",
       "│            ┆ D5BC-669D- ┆        ┆          ┆   ┆ YORKSHIRE  ┆           ┆           ┆ 7 21:16:2 │\n",
       "│            ┆ E053-6B04A ┆        ┆          ┆   ┆            ┆           ┆           ┆ 7.605675  │\n",
       "│            ┆ …          ┆        ┆          ┆   ┆            ┆           ┆           ┆ UTC       │\n",
       "│ 2022-02-14 ┆ {DBA933F9- ┆ 220000 ┆ YO12 7ND ┆ … ┆ NORTH      ┆ A         ┆ A         ┆ 2025-10-0 │\n",
       "│            ┆ D5BE-669D- ┆        ┆          ┆   ┆ YORKSHIRE  ┆           ┆           ┆ 7 21:16:2 │\n",
       "│            ┆ E053-6B04A ┆        ┆          ┆   ┆            ┆           ┆           ┆ 7.605675  │\n",
       "│            ┆ …          ┆        ┆          ┆   ┆            ┆           ┆           ┆ UTC       │\n",
       "│ 2022-02-22 ┆ {DBA933F9- ┆ 775000 ┆ HG5 0TT  ┆ … ┆ NORTH      ┆ A         ┆ A         ┆ 2025-10-0 │\n",
       "│            ┆ D5C0-669D- ┆        ┆          ┆   ┆ YORKSHIRE  ┆           ┆           ┆ 7 21:16:2 │\n",
       "│            ┆ E053-6B04A ┆        ┆          ┆   ┆            ┆           ┆           ┆ 7.605675  │\n",
       "│            ┆ …          ┆        ┆          ┆   ┆            ┆           ┆           ┆ UTC       │\n",
       "│ 2022-03-04 ┆ {DBA933F9- ┆ 450000 ┆ YO31 1BU ┆ … ┆ YORK       ┆ A         ┆ A         ┆ 2025-10-0 │\n",
       "│            ┆ D5C6-669D- ┆        ┆          ┆   ┆            ┆           ┆           ┆ 7 21:16:2 │\n",
       "│            ┆ E053-6B04A ┆        ┆          ┆   ┆            ┆           ┆           ┆ 7.605675  │\n",
       "│            ┆ …          ┆        ┆          ┆   ┆            ┆           ┆           ┆ UTC       │\n",
       "│ 2022-02-25 ┆ {DBA933F9- ┆ 175000 ┆ LA2 7EB  ┆ … ┆ NORTH      ┆ A         ┆ A         ┆ 2025-10-0 │\n",
       "│            ┆ D5CC-669D- ┆        ┆          ┆   ┆ YORKSHIRE  ┆           ┆           ┆ 7 21:16:2 │\n",
       "│            ┆ E053-6B04A ┆        ┆          ┆   ┆            ┆           ┆           ┆ 7.605675  │\n",
       "│            ┆ …          ┆        ┆          ┆   ┆            ┆           ┆           ┆ UTC       │\n",
       "└────────────┴────────────┴────────┴──────────┴───┴────────────┴───────────┴───────────┴───────────┘"
      ]
     },
     "execution_count": 16,
     "metadata": {},
     "output_type": "execute_result"
    }
   ],
   "source": [
    "pl.scan_iceberg(house_prices_t).head().collect()"
   ]
  },
  {
   "cell_type": "code",
   "execution_count": 17,
   "id": "3ac713db-ef2f-4dee-a057-cf600d305e45",
   "metadata": {},
   "outputs": [
    {
     "data": {
      "application/json": {
       "current-schema-id": 2,
       "current-snapshot-id": 8928697653805855000,
       "default-sort-order-id": 0,
       "default-spec-id": 0,
       "format-version": 2,
       "last-column-id": 17,
       "last-partition-id": 999,
       "last-sequence-number": 4,
       "last-updated-ms": 1759871868962,
       "location": "s3://warehouse/housing/staging",
       "metadata-log": [
        {
         "metadata-file": "s3://warehouse/housing/staging/metadata/00000-0199c078-fe72-75b3-a0de-aeb5c462e5c0.gz.metadata.json",
         "timestamp-ms": 1759870778994
        },
        {
         "metadata-file": "s3://warehouse/housing/staging/metadata/00001-0199c079-45e5-73e0-a3d4-371bd1b5104e.gz.metadata.json",
         "timestamp-ms": 1759870797269
        },
        {
         "metadata-file": "s3://warehouse/housing/staging/metadata/00002-0199c07a-0746-7283-8f2a-c48a73b7402f.gz.metadata.json",
         "timestamp-ms": 1759870846774
        },
        {
         "metadata-file": "s3://warehouse/housing/staging/metadata/00003-0199c088-8f8f-7ff0-b7e2-c41ed205f2ef.gz.metadata.json",
         "timestamp-ms": 1759871799183
        },
        {
         "metadata-file": "s3://warehouse/housing/staging/metadata/00004-0199c088-b6d2-7252-908c-ba7185615ac4.gz.metadata.json",
         "timestamp-ms": 1759871809221
        },
        {
         "metadata-file": "s3://warehouse/housing/staging/metadata/00005-0199c089-0cbb-7a10-afd3-974751901d99.gz.metadata.json",
         "timestamp-ms": 1759871831171
        }
       ],
       "partition-specs": [
        {
         "fields": [],
         "spec-id": 0
        }
       ],
       "refs": {
        "main": {
         "snapshot-id": 8928697653805855000,
         "type": "branch"
        }
       },
       "schemas": [
        {
         "fields": [
          {
           "doc": "A reference number which is generated automatically recording each published sale. The number is unique and will change each time a sale is recorded.",
           "id": 1,
           "name": "transaction_id",
           "required": true,
           "type": "string"
          },
          {
           "doc": "Sale price stated on the transfer deed.",
           "id": 2,
           "name": "price",
           "required": true,
           "type": "int"
          },
          {
           "doc": "Date when the sale was completed, as stated on the transfer deed.",
           "id": 3,
           "name": "date_of_transfer",
           "required": true,
           "type": "date"
          },
          {
           "doc": "This is the postcode used at the time of the original transaction. Note that postcodes can be reallocated and these changes are not reflected in the Price Paid Dataset.",
           "id": 4,
           "name": "postcode",
           "required": true,
           "type": "string"
          },
          {
           "doc": "D = Detached, S = Semi-Detached, T = Terraced, F = Flats/Maisonettes, O = Other",
           "id": 5,
           "name": "property_type",
           "required": true,
           "type": "string"
          },
          {
           "doc": "Indicates the age of the property and applies to all price paid transactions, residential and non-residential. Y = a newly built property, N = an established residential building",
           "id": 6,
           "name": "new_property",
           "required": true,
           "type": "string"
          },
          {
           "doc": "Relates to the tenure: F = Freehold, L= Leasehold etc. Note that HM Land Registry does not record leases of 7 years or less in the Price Paid Dataset.",
           "id": 7,
           "name": "duration",
           "required": true,
           "type": "string"
          },
          {
           "doc": "Primary Addressable Object Name. Typically the house number or name",
           "id": 8,
           "name": "paon",
           "required": false,
           "type": "string"
          },
          {
           "doc": "Secondary Addressable Object Name. Where a property has been divided into separate units (for example, flats), the PAON (above) will identify the building and a SAON will be specified that identifies the separate unit/flat.",
           "id": 9,
           "name": "saon",
           "required": false,
           "type": "string"
          },
          {
           "id": 10,
           "name": "street",
           "required": false,
           "type": "string"
          },
          {
           "id": 11,
           "name": "locality",
           "required": false,
           "type": "string"
          },
          {
           "id": 12,
           "name": "town",
           "required": false,
           "type": "string"
          },
          {
           "id": 13,
           "name": "district",
           "required": false,
           "type": "string"
          },
          {
           "id": 14,
           "name": "county",
           "required": false,
           "type": "string"
          },
          {
           "doc": "Indicates the type of Price Paid transaction. A = Standard Price Paid entry, includes single residential property sold for value. B = Additional Price Paid entry including transfers under a power of sale/repossessions, buy-to-lets (where they can be identified by a Mortgage), transfers to non-private individuals and sales where the property type is classed as ‘Other’.",
           "id": 15,
           "name": "ppd_category_type",
           "required": false,
           "type": "string"
          },
          {
           "doc": "Indicates additions, changes and deletions to the records. A = Addition C = Change D = Delete",
           "id": 16,
           "name": "record_status",
           "required": false,
           "type": "string"
          },
          {
           "doc": "The date this row was loaded",
           "id": 17,
           "name": "_loaded_at",
           "required": false,
           "type": "timestamptz"
          }
         ],
         "identifier-field-ids": [
          1
         ],
         "schema-id": 1,
         "type": "struct"
        },
        {
         "fields": [
          {
           "doc": "Date when the sale was completed, as stated on the transfer deed.",
           "id": 3,
           "name": "date_of_transfer",
           "required": true,
           "type": "date"
          },
          {
           "doc": "A reference number which is generated automatically recording each published sale. The number is unique and will change each time a sale is recorded.",
           "id": 1,
           "name": "transaction_id",
           "required": true,
           "type": "string"
          },
          {
           "doc": "Sale price stated on the transfer deed.",
           "id": 2,
           "name": "price",
           "required": true,
           "type": "int"
          },
          {
           "doc": "This is the postcode used at the time of the original transaction. Note that postcodes can be reallocated and these changes are not reflected in the Price Paid Dataset.",
           "id": 4,
           "name": "postcode",
           "required": true,
           "type": "string"
          },
          {
           "doc": "D = Detached, S = Semi-Detached, T = Terraced, F = Flats/Maisonettes, O = Other",
           "id": 5,
           "name": "property_type",
           "required": true,
           "type": "string"
          },
          {
           "doc": "Indicates the age of the property and applies to all price paid transactions, residential and non-residential. Y = a newly built property, N = an established residential building",
           "id": 6,
           "name": "new_property",
           "required": true,
           "type": "string"
          },
          {
           "doc": "Relates to the tenure: F = Freehold, L= Leasehold etc. Note that HM Land Registry does not record leases of 7 years or less in the Price Paid Dataset.",
           "id": 7,
           "name": "duration",
           "required": true,
           "type": "string"
          },
          {
           "doc": "Primary Addressable Object Name. Typically the house number or name",
           "id": 8,
           "name": "paon",
           "required": false,
           "type": "string"
          },
          {
           "doc": "Secondary Addressable Object Name. Where a property has been divided into separate units (for example, flats), the PAON (above) will identify the building and a SAON will be specified that identifies the separate unit/flat.",
           "id": 9,
           "name": "saon",
           "required": false,
           "type": "string"
          },
          {
           "id": 10,
           "name": "street",
           "required": false,
           "type": "string"
          },
          {
           "id": 11,
           "name": "locality",
           "required": false,
           "type": "string"
          },
          {
           "id": 12,
           "name": "town",
           "required": false,
           "type": "string"
          },
          {
           "id": 13,
           "name": "district",
           "required": false,
           "type": "string"
          },
          {
           "id": 14,
           "name": "county",
           "required": false,
           "type": "string"
          },
          {
           "doc": "Indicates the type of Price Paid transaction. A = Standard Price Paid entry, includes single residential property sold for value. B = Additional Price Paid entry including transfers under a power of sale/repossessions, buy-to-lets (where they can be identified by a Mortgage), transfers to non-private individuals and sales where the property type is classed as ‘Other’.",
           "id": 15,
           "name": "ppd_category_type",
           "required": false,
           "type": "string"
          },
          {
           "doc": "Indicates additions, changes and deletions to the records. A = Addition C = Change D = Delete",
           "id": 16,
           "name": "record_status",
           "required": false,
           "type": "string"
          },
          {
           "doc": "The date this row was loaded",
           "id": 17,
           "name": "_dwh_loaded_at",
           "required": false,
           "type": "timestamptz"
          }
         ],
         "identifier-field-ids": [
          1
         ],
         "schema-id": 2,
         "type": "struct"
        },
        {
         "fields": [
          {
           "doc": "A reference number which is generated automatically recording each published sale. The number is unique and will change each time a sale is recorded.",
           "id": 1,
           "name": "transaction_id",
           "required": true,
           "type": "string"
          },
          {
           "doc": "Sale price stated on the transfer deed.",
           "id": 2,
           "name": "price",
           "required": true,
           "type": "int"
          },
          {
           "doc": "Date when the sale was completed, as stated on the transfer deed.",
           "id": 3,
           "name": "date_of_transfer",
           "required": true,
           "type": "date"
          },
          {
           "doc": "This is the postcode used at the time of the original transaction. Note that postcodes can be reallocated and these changes are not reflected in the Price Paid Dataset.",
           "id": 4,
           "name": "postcode",
           "required": true,
           "type": "string"
          },
          {
           "doc": "D = Detached, S = Semi-Detached, T = Terraced, F = Flats/Maisonettes, O = Other",
           "id": 5,
           "name": "property_type",
           "required": true,
           "type": "string"
          },
          {
           "doc": "Indicates the age of the property and applies to all price paid transactions, residential and non-residential. Y = a newly built property, N = an established residential building",
           "id": 6,
           "name": "new_property",
           "required": true,
           "type": "string"
          },
          {
           "doc": "Relates to the tenure: F = Freehold, L= Leasehold etc. Note that HM Land Registry does not record leases of 7 years or less in the Price Paid Dataset.",
           "id": 7,
           "name": "duration",
           "required": true,
           "type": "string"
          },
          {
           "doc": "Primary Addressable Object Name. Typically the house number or name",
           "id": 8,
           "name": "paon",
           "required": false,
           "type": "string"
          },
          {
           "doc": "Secondary Addressable Object Name. Where a property has been divided into separate units (for example, flats), the PAON (above) will identify the building and a SAON will be specified that identifies the separate unit/flat.",
           "id": 9,
           "name": "saon",
           "required": false,
           "type": "string"
          },
          {
           "id": 10,
           "name": "street",
           "required": false,
           "type": "string"
          },
          {
           "id": 11,
           "name": "locality",
           "required": false,
           "type": "string"
          },
          {
           "id": 12,
           "name": "town",
           "required": false,
           "type": "string"
          },
          {
           "id": 13,
           "name": "district",
           "required": false,
           "type": "string"
          },
          {
           "id": 14,
           "name": "county",
           "required": false,
           "type": "string"
          },
          {
           "doc": "Indicates the type of Price Paid transaction. A = Standard Price Paid entry, includes single residential property sold for value. B = Additional Price Paid entry including transfers under a power of sale/repossessions, buy-to-lets (where they can be identified by a Mortgage), transfers to non-private individuals and sales where the property type is classed as ‘Other’.",
           "id": 15,
           "name": "ppd_category_type",
           "required": false,
           "type": "string"
          },
          {
           "doc": "Indicates additions, changes and deletions to the records. A = Addition C = Change D = Delete",
           "id": 16,
           "name": "record_status",
           "required": false,
           "type": "string"
          }
         ],
         "identifier-field-ids": [
          1
         ],
         "schema-id": 0,
         "type": "struct"
        }
       ],
       "snapshot-log": [
        {
         "snapshot-id": 2506664210465907000,
         "timestamp-ms": 1759870797269
        },
        {
         "snapshot-id": 122295293945248210,
         "timestamp-ms": 1759870846774
        },
        {
         "snapshot-id": 4408867218183768600,
         "timestamp-ms": 1759871809221
        },
        {
         "snapshot-id": 8928697653805855000,
         "timestamp-ms": 1759871831171
        }
       ],
       "snapshots": [
        {
         "manifest-list": "s3://warehouse/housing/staging/metadata/snap-8928697653805855216-1-99914238-175b-4ff4-9a66-ed7ec13fea81.avro",
         "parent-snapshot-id": 4408867218183768600,
         "schema-id": 1,
         "sequence-number": 4,
         "snapshot-id": 8928697653805855000,
         "summary": {
          "added-data-files": "1",
          "added-delete-files": "2",
          "added-files-size": "39475653",
          "added-position-delete-files": "2",
          "added-position-deletes": "1714509",
          "added-records": "1714509",
          "changed-partition-count": "1",
          "engine-name": "trino",
          "engine-version": "477",
          "iceberg-version": "Apache Iceberg 1.10.0 (commit 2114bf631e49af532d66e2ce148ee49dd1dd1f1f)",
          "operation": "overwrite",
          "total-data-files": "4",
          "total-delete-files": "2",
          "total-equality-deletes": "0",
          "total-files-size": "102585614",
          "total-position-deletes": "1714509",
          "total-records": "4502140",
          "trino_query_id": "20251007_211704_00002_umz7g",
          "trino_user": "trino"
         },
         "timestamp-ms": 1759871831171
        },
        {
         "manifest-list": "s3://warehouse/housing/staging/metadata/snap-122295293945248207-0-0a202aa6-9676-4560-852d-a6476d436439.avro",
         "parent-snapshot-id": 2506664210465907000,
         "schema-id": 0,
         "sequence-number": 2,
         "snapshot-id": 122295293945248210,
         "summary": {
          "added-data-files": "1",
          "added-files-size": "19326203",
          "added-records": "854549",
          "operation": "append",
          "total-data-files": "2",
          "total-delete-files": "0",
          "total-equality-deletes": "0",
          "total-files-size": "38749542",
          "total-position-deletes": "0",
          "total-records": "1714509"
         },
         "timestamp-ms": 1759870846774
        },
        {
         "manifest-list": "s3://warehouse/housing/staging/metadata/snap-4408867218183768777-0-6b085446-b71e-467a-8580-e2c3dfc8be62.avro",
         "parent-snapshot-id": 122295293945248210,
         "schema-id": 1,
         "sequence-number": 3,
         "snapshot-id": 4408867218183768600,
         "summary": {
          "added-data-files": "1",
          "added-files-size": "24360419",
          "added-records": "1073122",
          "operation": "append",
          "total-data-files": "3",
          "total-delete-files": "0",
          "total-equality-deletes": "0",
          "total-files-size": "63109961",
          "total-position-deletes": "0",
          "total-records": "2787631"
         },
         "timestamp-ms": 1759871809221
        },
        {
         "manifest-list": "s3://warehouse/housing/staging/metadata/snap-2506664210465907389-0-54245ac0-970e-47b9-8aa5-8e7f505363cc.avro",
         "schema-id": 0,
         "sequence-number": 1,
         "snapshot-id": 2506664210465907000,
         "summary": {
          "added-data-files": "1",
          "added-files-size": "19423339",
          "added-records": "859960",
          "operation": "append",
          "total-data-files": "1",
          "total-delete-files": "0",
          "total-equality-deletes": "0",
          "total-files-size": "19423339",
          "total-position-deletes": "0",
          "total-records": "859960"
         },
         "timestamp-ms": 1759870797269
        }
       ],
       "sort-orders": [
        {
         "fields": [],
         "order-id": 0
        }
       ],
       "table-uuid": "0199c078-fe5f-7c43-84a1-4d4ec684123e"
      },
      "text/plain": [
       "<IPython.core.display.JSON object>"
      ]
     },
     "execution_count": 17,
     "metadata": {
      "application/json": {
       "expanded": false,
       "root": "root"
      }
     },
     "output_type": "execute_result"
    }
   ],
   "source": [
    "JSON(get_iceberg_metadata(fs, house_prices_t))"
   ]
  },
  {
   "cell_type": "code",
   "execution_count": null,
   "id": "88ae312f-4fc7-4b17-a0a9-d5b5884f2334",
   "metadata": {},
   "outputs": [],
   "source": []
  }
 ],
 "metadata": {
  "kernelspec": {
   "display_name": "Python 3 (ipykernel)",
   "language": "python",
   "name": "python3"
  },
  "language_info": {
   "codemirror_mode": {
    "name": "ipython",
    "version": 3
   },
   "file_extension": ".py",
   "mimetype": "text/x-python",
   "name": "python",
   "nbconvert_exporter": "python",
   "pygments_lexer": "ipython3",
   "version": "3.12.11"
  }
 },
 "nbformat": 4,
 "nbformat_minor": 5
}
