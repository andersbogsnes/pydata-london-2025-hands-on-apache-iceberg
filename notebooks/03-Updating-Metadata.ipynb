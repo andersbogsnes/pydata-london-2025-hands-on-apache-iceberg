{
 "cells": [
  {
   "cell_type": "code",
   "execution_count": 1,
   "id": "Hbol",
   "metadata": {},
   "outputs": [],
   "source": [
    "from pyiceberg.catalog.rest import RestCatalog\n",
    "import polars as pl\n",
    "import datetime as dt\n",
    "import sqlalchemy as sa\n",
    "\n",
    "# The functions we defined in the previous notebook are defined in utils.py\n",
    "from utils import get_iceberg_metadata, read_house_prices\n",
    "from s3fs import S3FileSystem\n",
    "from IPython.display import JSON"
   ]
  },
  {
   "cell_type": "markdown",
   "id": "MJUe",
   "metadata": {
    "marimo": {
     "config": {
      "hide_code": true
     }
    }
   },
   "source": [
    "# Updating Metadata\n",
    "\n",
    "We've added data to our tables and inspected how Iceberg keeps track of the data in the metadata files\n",
    "\n",
    "Usually when working with data in real life, we make decisions that we regret in six months time. \n",
    "\n",
    "Now that we've added some data, we've found out that we've made a mistake - we should have added a `_loaded_at` column to our data, so that we can differentiate downstream between the source timestamp and our loaded time"
   ]
  },
  {
   "cell_type": "code",
   "execution_count": 2,
   "id": "vblA",
   "metadata": {},
   "outputs": [],
   "source": [
    "# Get a reference to our catalog and table again\n",
    "catalog = RestCatalog(\n",
    "    \"lakekeeper\", uri=\"http://lakekeeper:8181/catalog\", warehouse=\"lakehouse\"\n",
    ")\n",
    "house_prices_t = catalog.load_table(\"housing.staging_prices\")\n",
    "fs = S3FileSystem(endpoint_url=\"http://minio:9000\", key=\"minio\", secret=\"minio1234\")"
   ]
  },
  {
   "cell_type": "code",
   "execution_count": 3,
   "id": "bkHC",
   "metadata": {},
   "outputs": [
    {
     "data": {
      "text/html": [
       "<div><style>\n",
       ".dataframe > thead > tr,\n",
       ".dataframe > tbody > tr {\n",
       "  text-align: right;\n",
       "  white-space: pre-wrap;\n",
       "}\n",
       "</style>\n",
       "<small>shape: (1_067_299, 17)</small><table border=\"1\" class=\"dataframe\"><thead><tr><th>transaction_id</th><th>price</th><th>date_of_transfer</th><th>postcode</th><th>property_type</th><th>new_property</th><th>duration</th><th>paon</th><th>saon</th><th>street</th><th>locality</th><th>town</th><th>district</th><th>county</th><th>ppd_category_type</th><th>record_status</th><th>_loaded_at</th></tr><tr><td>str</td><td>i64</td><td>date</td><td>str</td><td>str</td><td>str</td><td>str</td><td>str</td><td>str</td><td>str</td><td>str</td><td>str</td><td>str</td><td>str</td><td>str</td><td>str</td><td>datetime[μs, UTC]</td></tr></thead><tbody><tr><td>&quot;{045A1898-4ABF-9A24-E063-4804A…</td><td>407400</td><td>2022-04-28</td><td>&quot;LU7 3FZ&quot;</td><td>&quot;S&quot;</td><td>&quot;Y&quot;</td><td>&quot;F&quot;</td><td>&quot;68&quot;</td><td>&quot;&quot;</td><td>&quot;RAMSAY DRIVE&quot;</td><td>&quot;&quot;</td><td>&quot;LEIGHTON BUZZARD&quot;</td><td>&quot;CENTRAL BEDFORDSHIRE&quot;</td><td>&quot;CENTRAL BEDFORDSHIRE&quot;</td><td>&quot;A&quot;</td><td>&quot;A&quot;</td><td>2025-05-25 11:24:58.395550 UTC</td></tr><tr><td>&quot;{045A1898-4AC1-9A24-E063-4804A…</td><td>357000</td><td>2022-05-27</td><td>&quot;LU7 3QS&quot;</td><td>&quot;S&quot;</td><td>&quot;Y&quot;</td><td>&quot;F&quot;</td><td>&quot;44&quot;</td><td>&quot;&quot;</td><td>&quot;CHADWICK CRESCENT&quot;</td><td>&quot;&quot;</td><td>&quot;LEIGHTON BUZZARD&quot;</td><td>&quot;CENTRAL BEDFORDSHIRE&quot;</td><td>&quot;CENTRAL BEDFORDSHIRE&quot;</td><td>&quot;A&quot;</td><td>&quot;A&quot;</td><td>2025-05-25 11:24:58.395550 UTC</td></tr><tr><td>&quot;{045A1898-4AC2-9A24-E063-4804A…</td><td>372950</td><td>2022-04-28</td><td>&quot;LU5 6TD&quot;</td><td>&quot;S&quot;</td><td>&quot;Y&quot;</td><td>&quot;F&quot;</td><td>&quot;11&quot;</td><td>&quot;&quot;</td><td>&quot;SKYE GARDENS&quot;</td><td>&quot;HOUGHTON REGIS&quot;</td><td>&quot;DUNSTABLE&quot;</td><td>&quot;CENTRAL BEDFORDSHIRE&quot;</td><td>&quot;CENTRAL BEDFORDSHIRE&quot;</td><td>&quot;A&quot;</td><td>&quot;A&quot;</td><td>2025-05-25 11:24:58.395550 UTC</td></tr><tr><td>&quot;{045A1898-4AC4-9A24-E063-4804A…</td><td>570000</td><td>2022-05-31</td><td>&quot;SG18 9RF&quot;</td><td>&quot;D&quot;</td><td>&quot;Y&quot;</td><td>&quot;F&quot;</td><td>&quot;8&quot;</td><td>&quot;&quot;</td><td>&quot;HARVEST MOUSE PLACE&quot;</td><td>&quot;LANGFORD&quot;</td><td>&quot;BIGGLESWADE&quot;</td><td>&quot;CENTRAL BEDFORDSHIRE&quot;</td><td>&quot;CENTRAL BEDFORDSHIRE&quot;</td><td>&quot;A&quot;</td><td>&quot;A&quot;</td><td>2025-05-25 11:24:58.395550 UTC</td></tr><tr><td>&quot;{045A1898-4AC5-9A24-E063-4804A…</td><td>570000</td><td>2022-05-27</td><td>&quot;LU7 3QS&quot;</td><td>&quot;D&quot;</td><td>&quot;Y&quot;</td><td>&quot;F&quot;</td><td>&quot;42&quot;</td><td>&quot;&quot;</td><td>&quot;CHADWICK CRESCENT&quot;</td><td>&quot;&quot;</td><td>&quot;LEIGHTON BUZZARD&quot;</td><td>&quot;CENTRAL BEDFORDSHIRE&quot;</td><td>&quot;CENTRAL BEDFORDSHIRE&quot;</td><td>&quot;A&quot;</td><td>&quot;A&quot;</td><td>2025-05-25 11:24:58.395550 UTC</td></tr><tr><td>&hellip;</td><td>&hellip;</td><td>&hellip;</td><td>&hellip;</td><td>&hellip;</td><td>&hellip;</td><td>&hellip;</td><td>&hellip;</td><td>&hellip;</td><td>&hellip;</td><td>&hellip;</td><td>&hellip;</td><td>&hellip;</td><td>&hellip;</td><td>&hellip;</td><td>&hellip;</td><td>&hellip;</td></tr><tr><td>&quot;{E2D14905-55E3-4C2D-E053-6B04A…</td><td>432000</td><td>2022-05-20</td><td>&quot;RM9 5UL&quot;</td><td>&quot;T&quot;</td><td>&quot;N&quot;</td><td>&quot;F&quot;</td><td>&quot;59&quot;</td><td>&quot;&quot;</td><td>&quot;CONNOR ROAD&quot;</td><td>&quot;&quot;</td><td>&quot;DAGENHAM&quot;</td><td>&quot;BARKING AND DAGENHAM&quot;</td><td>&quot;GREATER LONDON&quot;</td><td>&quot;A&quot;</td><td>&quot;A&quot;</td><td>2025-05-25 11:24:58.395550 UTC</td></tr><tr><td>&quot;{E2D14905-55E4-4C2D-E053-6B04A…</td><td>510000</td><td>2022-04-29</td><td>&quot;E4 8PH&quot;</td><td>&quot;T&quot;</td><td>&quot;N&quot;</td><td>&quot;F&quot;</td><td>&quot;27&quot;</td><td>&quot;&quot;</td><td>&quot;SINCLAIR ROAD&quot;</td><td>&quot;&quot;</td><td>&quot;LONDON&quot;</td><td>&quot;WALTHAM FOREST&quot;</td><td>&quot;GREATER LONDON&quot;</td><td>&quot;A&quot;</td><td>&quot;A&quot;</td><td>2025-05-25 11:24:58.395550 UTC</td></tr><tr><td>&quot;{E2D14905-55E5-4C2D-E053-6B04A…</td><td>635000</td><td>2022-05-23</td><td>&quot;E17 4PN&quot;</td><td>&quot;T&quot;</td><td>&quot;N&quot;</td><td>&quot;F&quot;</td><td>&quot;133&quot;</td><td>&quot;&quot;</td><td>&quot;CHINGFORD ROAD&quot;</td><td>&quot;&quot;</td><td>&quot;LONDON&quot;</td><td>&quot;WALTHAM FOREST&quot;</td><td>&quot;GREATER LONDON&quot;</td><td>&quot;A&quot;</td><td>&quot;A&quot;</td><td>2025-05-25 11:24:58.395550 UTC</td></tr><tr><td>&quot;{E2D14905-55E6-4C2D-E053-6B04A…</td><td>895000</td><td>2022-04-01</td><td>&quot;IG8 9EH&quot;</td><td>&quot;T&quot;</td><td>&quot;N&quot;</td><td>&quot;F&quot;</td><td>&quot;35&quot;</td><td>&quot;&quot;</td><td>&quot;ST ALBANS CRESCENT&quot;</td><td>&quot;&quot;</td><td>&quot;WOODFORD GREEN&quot;</td><td>&quot;REDBRIDGE&quot;</td><td>&quot;GREATER LONDON&quot;</td><td>&quot;A&quot;</td><td>&quot;A&quot;</td><td>2025-05-25 11:24:58.395550 UTC</td></tr><tr><td>&quot;{E2D14905-55E7-4C2D-E053-6B04A…</td><td>250000</td><td>2022-03-18</td><td>&quot;E4 8QR&quot;</td><td>&quot;F&quot;</td><td>&quot;N&quot;</td><td>&quot;L&quot;</td><td>&quot;MORLEY COURT&quot;</td><td>&quot;FLAT 8&quot;</td><td>&quot;SINCLAIR ROAD&quot;</td><td>&quot;&quot;</td><td>&quot;LONDON&quot;</td><td>&quot;WALTHAM FOREST&quot;</td><td>&quot;GREATER LONDON&quot;</td><td>&quot;A&quot;</td><td>&quot;A&quot;</td><td>2025-05-25 11:24:58.395550 UTC</td></tr></tbody></table></div>"
      ],
      "text/plain": [
       "shape: (1_067_299, 17)\n",
       "┌────────────┬────────┬────────────┬──────────┬───┬────────────┬───────────┬───────────┬───────────┐\n",
       "│ transactio ┆ price  ┆ date_of_tr ┆ postcode ┆ … ┆ county     ┆ ppd_categ ┆ record_st ┆ _loaded_a │\n",
       "│ n_id       ┆ ---    ┆ ansfer     ┆ ---      ┆   ┆ ---        ┆ ory_type  ┆ atus      ┆ t         │\n",
       "│ ---        ┆ i64    ┆ ---        ┆ str      ┆   ┆ str        ┆ ---       ┆ ---       ┆ ---       │\n",
       "│ str        ┆        ┆ date       ┆          ┆   ┆            ┆ str       ┆ str       ┆ datetime[ │\n",
       "│            ┆        ┆            ┆          ┆   ┆            ┆           ┆           ┆ μs, UTC]  │\n",
       "╞════════════╪════════╪════════════╪══════════╪═══╪════════════╪═══════════╪═══════════╪═══════════╡\n",
       "│ {045A1898- ┆ 407400 ┆ 2022-04-28 ┆ LU7 3FZ  ┆ … ┆ CENTRAL    ┆ A         ┆ A         ┆ 2025-05-2 │\n",
       "│ 4ABF-9A24- ┆        ┆            ┆          ┆   ┆ BEDFORDSHI ┆           ┆           ┆ 5 11:24:5 │\n",
       "│ E063-4804A ┆        ┆            ┆          ┆   ┆ RE         ┆           ┆           ┆ 8.395550  │\n",
       "│ …          ┆        ┆            ┆          ┆   ┆            ┆           ┆           ┆ UTC       │\n",
       "│ {045A1898- ┆ 357000 ┆ 2022-05-27 ┆ LU7 3QS  ┆ … ┆ CENTRAL    ┆ A         ┆ A         ┆ 2025-05-2 │\n",
       "│ 4AC1-9A24- ┆        ┆            ┆          ┆   ┆ BEDFORDSHI ┆           ┆           ┆ 5 11:24:5 │\n",
       "│ E063-4804A ┆        ┆            ┆          ┆   ┆ RE         ┆           ┆           ┆ 8.395550  │\n",
       "│ …          ┆        ┆            ┆          ┆   ┆            ┆           ┆           ┆ UTC       │\n",
       "│ {045A1898- ┆ 372950 ┆ 2022-04-28 ┆ LU5 6TD  ┆ … ┆ CENTRAL    ┆ A         ┆ A         ┆ 2025-05-2 │\n",
       "│ 4AC2-9A24- ┆        ┆            ┆          ┆   ┆ BEDFORDSHI ┆           ┆           ┆ 5 11:24:5 │\n",
       "│ E063-4804A ┆        ┆            ┆          ┆   ┆ RE         ┆           ┆           ┆ 8.395550  │\n",
       "│ …          ┆        ┆            ┆          ┆   ┆            ┆           ┆           ┆ UTC       │\n",
       "│ {045A1898- ┆ 570000 ┆ 2022-05-31 ┆ SG18 9RF ┆ … ┆ CENTRAL    ┆ A         ┆ A         ┆ 2025-05-2 │\n",
       "│ 4AC4-9A24- ┆        ┆            ┆          ┆   ┆ BEDFORDSHI ┆           ┆           ┆ 5 11:24:5 │\n",
       "│ E063-4804A ┆        ┆            ┆          ┆   ┆ RE         ┆           ┆           ┆ 8.395550  │\n",
       "│ …          ┆        ┆            ┆          ┆   ┆            ┆           ┆           ┆ UTC       │\n",
       "│ {045A1898- ┆ 570000 ┆ 2022-05-27 ┆ LU7 3QS  ┆ … ┆ CENTRAL    ┆ A         ┆ A         ┆ 2025-05-2 │\n",
       "│ 4AC5-9A24- ┆        ┆            ┆          ┆   ┆ BEDFORDSHI ┆           ┆           ┆ 5 11:24:5 │\n",
       "│ E063-4804A ┆        ┆            ┆          ┆   ┆ RE         ┆           ┆           ┆ 8.395550  │\n",
       "│ …          ┆        ┆            ┆          ┆   ┆            ┆           ┆           ┆ UTC       │\n",
       "│ …          ┆ …      ┆ …          ┆ …        ┆ … ┆ …          ┆ …         ┆ …         ┆ …         │\n",
       "│ {E2D14905- ┆ 432000 ┆ 2022-05-20 ┆ RM9 5UL  ┆ … ┆ GREATER    ┆ A         ┆ A         ┆ 2025-05-2 │\n",
       "│ 55E3-4C2D- ┆        ┆            ┆          ┆   ┆ LONDON     ┆           ┆           ┆ 5 11:24:5 │\n",
       "│ E053-6B04A ┆        ┆            ┆          ┆   ┆            ┆           ┆           ┆ 8.395550  │\n",
       "│ …          ┆        ┆            ┆          ┆   ┆            ┆           ┆           ┆ UTC       │\n",
       "│ {E2D14905- ┆ 510000 ┆ 2022-04-29 ┆ E4 8PH   ┆ … ┆ GREATER    ┆ A         ┆ A         ┆ 2025-05-2 │\n",
       "│ 55E4-4C2D- ┆        ┆            ┆          ┆   ┆ LONDON     ┆           ┆           ┆ 5 11:24:5 │\n",
       "│ E053-6B04A ┆        ┆            ┆          ┆   ┆            ┆           ┆           ┆ 8.395550  │\n",
       "│ …          ┆        ┆            ┆          ┆   ┆            ┆           ┆           ┆ UTC       │\n",
       "│ {E2D14905- ┆ 635000 ┆ 2022-05-23 ┆ E17 4PN  ┆ … ┆ GREATER    ┆ A         ┆ A         ┆ 2025-05-2 │\n",
       "│ 55E5-4C2D- ┆        ┆            ┆          ┆   ┆ LONDON     ┆           ┆           ┆ 5 11:24:5 │\n",
       "│ E053-6B04A ┆        ┆            ┆          ┆   ┆            ┆           ┆           ┆ 8.395550  │\n",
       "│ …          ┆        ┆            ┆          ┆   ┆            ┆           ┆           ┆ UTC       │\n",
       "│ {E2D14905- ┆ 895000 ┆ 2022-04-01 ┆ IG8 9EH  ┆ … ┆ GREATER    ┆ A         ┆ A         ┆ 2025-05-2 │\n",
       "│ 55E6-4C2D- ┆        ┆            ┆          ┆   ┆ LONDON     ┆           ┆           ┆ 5 11:24:5 │\n",
       "│ E053-6B04A ┆        ┆            ┆          ┆   ┆            ┆           ┆           ┆ 8.395550  │\n",
       "│ …          ┆        ┆            ┆          ┆   ┆            ┆           ┆           ┆ UTC       │\n",
       "│ {E2D14905- ┆ 250000 ┆ 2022-03-18 ┆ E4 8QR   ┆ … ┆ GREATER    ┆ A         ┆ A         ┆ 2025-05-2 │\n",
       "│ 55E7-4C2D- ┆        ┆            ┆          ┆   ┆ LONDON     ┆           ┆           ┆ 5 11:24:5 │\n",
       "│ E053-6B04A ┆        ┆            ┆          ┆   ┆            ┆           ┆           ┆ 8.395550  │\n",
       "│ …          ┆        ┆            ┆          ┆   ┆            ┆           ┆           ┆ UTC       │\n",
       "└────────────┴────────┴────────────┴──────────┴───┴────────────┴───────────┴───────────┴───────────┘"
      ]
     },
     "execution_count": 3,
     "metadata": {},
     "output_type": "execute_result"
    }
   ],
   "source": [
    "timestamp = dt.datetime.now(tz=dt.UTC)\n",
    "house_prices_2022 = read_house_prices(\"data/house_prices/pp-2022.csv\").with_columns(\n",
    "    pl.lit(timestamp).alias(\"_loaded_at\")\n",
    ")\n",
    "house_prices_2022"
   ]
  },
  {
   "cell_type": "code",
   "execution_count": 4,
   "id": "lEQa",
   "metadata": {},
   "outputs": [
    {
     "name": "stdout",
     "output_type": "stream",
     "text": [
      "PyArrow table contains more columns: _loaded_at. Update the schema first (hint, use union_by_name).\n"
     ]
    }
   ],
   "source": [
    "try:\n",
    "    house_prices_t.upsert(house_prices_2022.to_arrow())\n",
    "except ValueError as e:\n",
    "    # Print out the error message instead of crashing\n",
    "    print(e.args[0])"
   ]
  },
  {
   "cell_type": "markdown",
   "id": "PKri",
   "metadata": {
    "marimo": {
     "config": {
      "hide_code": true
     }
    }
   },
   "source": [
    "Pyiceberg is preventing us from doing something we shouldn't - Iceberg has a fixed schema, so we can't just add arbitrary columns to it. We need to update the schema to accomodate our new column.\n",
    "\n",
    "```{note}\n",
    "Pyiceberg gives us the ability to do this within a transaction to live up to Iceberg's ACID guarantees.\n",
    "```\n",
    "The new schema is added to the Iceberg metadata in the `schemas` array. Note that each of our snapshots reference the schema at the time the data was written. That way Iceberg can keep track of the schema evolution."
   ]
  },
  {
   "cell_type": "code",
   "execution_count": 5,
   "id": "Xref",
   "metadata": {},
   "outputs": [
    {
     "data": {
      "application/json": {
       "current-schema-id": 1,
       "current-snapshot-id": 6216576064814123000,
       "default-sort-order-id": 0,
       "default-spec-id": 0,
       "format-version": 2,
       "last-column-id": 17,
       "last-partition-id": 999,
       "last-sequence-number": 2,
       "last-updated-ms": 1748172339168,
       "location": "s3://warehouse/housing/staging",
       "metadata-log": [
        {
         "metadata-file": "s3://warehouse/housing/staging/metadata/00000-01970706-21c3-7063-b36e-466fe2bf2395.gz.metadata.json",
         "timestamp-ms": 1748169531843
        },
        {
         "metadata-file": "s3://warehouse/housing/staging/metadata/00001-01970706-b11f-7ff0-82b8-d763c6f1103e.gz.metadata.json",
         "timestamp-ms": 1748169568248
        },
        {
         "metadata-file": "s3://warehouse/housing/staging/metadata/00002-0197070d-a168-72f3-9aa1-41503e4f4b33.gz.metadata.json",
         "timestamp-ms": 1748170023208
        }
       ],
       "partition-specs": [
        {
         "fields": [],
         "spec-id": 0
        }
       ],
       "refs": {
        "main": {
         "snapshot-id": 6216576064814123000,
         "type": "branch"
        }
       },
       "schemas": [
        {
         "fields": [
          {
           "doc": "A reference number which is generated automatically recording each published sale. The number is unique and will change each time a sale is recorded.",
           "id": 1,
           "name": "transaction_id",
           "required": true,
           "type": "string"
          },
          {
           "doc": "Sale price stated on the transfer deed.",
           "id": 2,
           "name": "price",
           "required": true,
           "type": "int"
          },
          {
           "doc": "Date when the sale was completed, as stated on the transfer deed.",
           "id": 3,
           "name": "date_of_transfer",
           "required": true,
           "type": "date"
          },
          {
           "doc": "This is the postcode used at the time of the original transaction. Note that postcodes can be reallocated and these changes are not reflected in the Price Paid Dataset.",
           "id": 4,
           "name": "postcode",
           "required": true,
           "type": "string"
          },
          {
           "doc": "D = Detached, S = Semi-Detached, T = Terraced, F = Flats/Maisonettes, O = Other",
           "id": 5,
           "name": "property_type",
           "required": true,
           "type": "string"
          },
          {
           "doc": "Indicates the age of the property and applies to all price paid transactions, residential and non-residential. Y = a newly built property, N = an established residential building",
           "id": 6,
           "name": "new_property",
           "required": true,
           "type": "string"
          },
          {
           "doc": "Relates to the tenure: F = Freehold, L= Leasehold etc. Note that HM Land Registry does not record leases of 7 years or less in the Price Paid Dataset.",
           "id": 7,
           "name": "duration",
           "required": true,
           "type": "string"
          },
          {
           "doc": "Primary Addressable Object Name. Typically the house number or name",
           "id": 8,
           "name": "paon",
           "required": false,
           "type": "string"
          },
          {
           "doc": "Secondary Addressable Object Name. Where a property has been divided into separate units (for example, flats), the PAON (above) will identify the building and a SAON will be specified that identifies the separate unit/flat.",
           "id": 9,
           "name": "saon",
           "required": false,
           "type": "string"
          },
          {
           "id": 10,
           "name": "street",
           "required": false,
           "type": "string"
          },
          {
           "id": 11,
           "name": "locality",
           "required": false,
           "type": "string"
          },
          {
           "id": 12,
           "name": "town",
           "required": false,
           "type": "string"
          },
          {
           "id": 13,
           "name": "district",
           "required": false,
           "type": "string"
          },
          {
           "id": 14,
           "name": "county",
           "required": false,
           "type": "string"
          },
          {
           "doc": "Indicates the type of Price Paid transaction. A = Standard Price Paid entry, includes single residential property sold for value. B = Additional Price Paid entry including transfers under a power of sale/repossessions, buy-to-lets (where they can be identified by a Mortgage), transfers to non-private individuals and sales where the property type is classed as ‘Other’.",
           "id": 15,
           "name": "ppd_category_type",
           "required": false,
           "type": "string"
          },
          {
           "doc": "Indicates additions, changes and deletions to the records. A = Addition C = Change D = Delete",
           "id": 16,
           "name": "record_status",
           "required": false,
           "type": "string"
          }
         ],
         "identifier-field-ids": [
          1
         ],
         "schema-id": 0,
         "type": "struct"
        },
        {
         "fields": [
          {
           "doc": "A reference number which is generated automatically recording each published sale. The number is unique and will change each time a sale is recorded.",
           "id": 1,
           "name": "transaction_id",
           "required": true,
           "type": "string"
          },
          {
           "doc": "Sale price stated on the transfer deed.",
           "id": 2,
           "name": "price",
           "required": true,
           "type": "int"
          },
          {
           "doc": "Date when the sale was completed, as stated on the transfer deed.",
           "id": 3,
           "name": "date_of_transfer",
           "required": true,
           "type": "date"
          },
          {
           "doc": "This is the postcode used at the time of the original transaction. Note that postcodes can be reallocated and these changes are not reflected in the Price Paid Dataset.",
           "id": 4,
           "name": "postcode",
           "required": true,
           "type": "string"
          },
          {
           "doc": "D = Detached, S = Semi-Detached, T = Terraced, F = Flats/Maisonettes, O = Other",
           "id": 5,
           "name": "property_type",
           "required": true,
           "type": "string"
          },
          {
           "doc": "Indicates the age of the property and applies to all price paid transactions, residential and non-residential. Y = a newly built property, N = an established residential building",
           "id": 6,
           "name": "new_property",
           "required": true,
           "type": "string"
          },
          {
           "doc": "Relates to the tenure: F = Freehold, L= Leasehold etc. Note that HM Land Registry does not record leases of 7 years or less in the Price Paid Dataset.",
           "id": 7,
           "name": "duration",
           "required": true,
           "type": "string"
          },
          {
           "doc": "Primary Addressable Object Name. Typically the house number or name",
           "id": 8,
           "name": "paon",
           "required": false,
           "type": "string"
          },
          {
           "doc": "Secondary Addressable Object Name. Where a property has been divided into separate units (for example, flats), the PAON (above) will identify the building and a SAON will be specified that identifies the separate unit/flat.",
           "id": 9,
           "name": "saon",
           "required": false,
           "type": "string"
          },
          {
           "id": 10,
           "name": "street",
           "required": false,
           "type": "string"
          },
          {
           "id": 11,
           "name": "locality",
           "required": false,
           "type": "string"
          },
          {
           "id": 12,
           "name": "town",
           "required": false,
           "type": "string"
          },
          {
           "id": 13,
           "name": "district",
           "required": false,
           "type": "string"
          },
          {
           "id": 14,
           "name": "county",
           "required": false,
           "type": "string"
          },
          {
           "doc": "Indicates the type of Price Paid transaction. A = Standard Price Paid entry, includes single residential property sold for value. B = Additional Price Paid entry including transfers under a power of sale/repossessions, buy-to-lets (where they can be identified by a Mortgage), transfers to non-private individuals and sales where the property type is classed as ‘Other’.",
           "id": 15,
           "name": "ppd_category_type",
           "required": false,
           "type": "string"
          },
          {
           "doc": "Indicates additions, changes and deletions to the records. A = Addition C = Change D = Delete",
           "id": 16,
           "name": "record_status",
           "required": false,
           "type": "string"
          },
          {
           "doc": "The date this row was loaded",
           "id": 17,
           "name": "_loaded_at",
           "required": false,
           "type": "timestamptz"
          }
         ],
         "identifier-field-ids": [
          1
         ],
         "schema-id": 1,
         "type": "struct"
        }
       ],
       "snapshot-log": [
        {
         "snapshot-id": 561444497425091100,
         "timestamp-ms": 1748169568248
        },
        {
         "snapshot-id": 6216576064814123000,
         "timestamp-ms": 1748170023208
        }
       ],
       "snapshots": [
        {
         "manifest-list": "s3://warehouse/housing/staging/metadata/snap-6216576064814123496-0-3820ca29-5aba-4f8b-bdb5-c86e51d7ded9.avro",
         "parent-snapshot-id": 561444497425091100,
         "schema-id": 0,
         "sequence-number": 2,
         "snapshot-id": 6216576064814123000,
         "summary": {
          "added-data-files": "1",
          "added-files-size": "19093353",
          "added-records": "841772",
          "operation": "append",
          "total-data-files": "2",
          "total-delete-files": "0",
          "total-equality-deletes": "0",
          "total-files-size": "34931712",
          "total-position-deletes": "0",
          "total-records": "1546116"
         },
         "timestamp-ms": 1748170023208
        },
        {
         "manifest-list": "s3://warehouse/housing/staging/metadata/snap-561444497425091042-0-3790d544-cd9c-41a9-81f5-7a6f21e33dc5.avro",
         "schema-id": 0,
         "sequence-number": 1,
         "snapshot-id": 561444497425091100,
         "summary": {
          "added-data-files": "1",
          "added-files-size": "15838359",
          "added-records": "704344",
          "operation": "append",
          "total-data-files": "1",
          "total-delete-files": "0",
          "total-equality-deletes": "0",
          "total-files-size": "15838359",
          "total-position-deletes": "0",
          "total-records": "704344"
         },
         "timestamp-ms": 1748169568248
        }
       ],
       "sort-orders": [
        {
         "fields": [],
         "order-id": 0
        }
       ],
       "table-uuid": "01970706-21c2-7c71-bb37-cb8475a3b207"
      },
      "text/plain": [
       "<IPython.core.display.JSON object>"
      ]
     },
     "execution_count": 5,
     "metadata": {
      "application/json": {
       "expanded": false,
       "root": "root"
      }
     },
     "output_type": "execute_result"
    }
   ],
   "source": [
    "from pyiceberg.types import TimestamptzType\n",
    "\n",
    "with house_prices_t.update_schema() as schema:\n",
    "    schema.add_column(\n",
    "        \"_loaded_at\", TimestamptzType(), doc=\"The date this row was loaded\"\n",
    "    )\n",
    "\n",
    "JSON(get_iceberg_metadata(fs, house_prices_t))"
   ]
  },
  {
   "cell_type": "markdown",
   "id": "SFPL",
   "metadata": {},
   "source": [
    "Now we have our `_loaded_at` column as part of the table schema, Iceberg is happy for us to add our data with the new column"
   ]
  },
  {
   "cell_type": "code",
   "execution_count": 6,
   "id": "BYtC",
   "metadata": {},
   "outputs": [],
   "source": [
    "house_prices_t.append(\n",
    "    house_prices_2022.to_arrow().cast(house_prices_t.schema().as_arrow())\n",
    ")"
   ]
  },
  {
   "cell_type": "code",
   "execution_count": 7,
   "id": "b5d691fa-4a94-474a-830d-f8c779e40d48",
   "metadata": {},
   "outputs": [
    {
     "data": {
      "application/json": {
       "current-schema-id": 1,
       "current-snapshot-id": 7207777689682313000,
       "default-sort-order-id": 0,
       "default-spec-id": 0,
       "format-version": 2,
       "last-column-id": 17,
       "last-partition-id": 999,
       "last-sequence-number": 3,
       "last-updated-ms": 1748174121465,
       "location": "s3://warehouse/housing/staging",
       "metadata-log": [
        {
         "metadata-file": "s3://warehouse/housing/staging/metadata/00000-01970706-21c3-7063-b36e-466fe2bf2395.gz.metadata.json",
         "timestamp-ms": 1748169531843
        },
        {
         "metadata-file": "s3://warehouse/housing/staging/metadata/00001-01970706-b11f-7ff0-82b8-d763c6f1103e.gz.metadata.json",
         "timestamp-ms": 1748169568248
        },
        {
         "metadata-file": "s3://warehouse/housing/staging/metadata/00002-0197070d-a168-72f3-9aa1-41503e4f4b33.gz.metadata.json",
         "timestamp-ms": 1748170023208
        },
        {
         "metadata-file": "s3://warehouse/housing/staging/metadata/00003-01970730-f7e0-7262-a86a-e5078f3edad0.gz.metadata.json",
         "timestamp-ms": 1748172339168
        }
       ],
       "partition-specs": [
        {
         "fields": [],
         "spec-id": 0
        }
       ],
       "refs": {
        "main": {
         "snapshot-id": 7207777689682313000,
         "type": "branch"
        }
       },
       "schemas": [
        {
         "fields": [
          {
           "doc": "A reference number which is generated automatically recording each published sale. The number is unique and will change each time a sale is recorded.",
           "id": 1,
           "name": "transaction_id",
           "required": true,
           "type": "string"
          },
          {
           "doc": "Sale price stated on the transfer deed.",
           "id": 2,
           "name": "price",
           "required": true,
           "type": "int"
          },
          {
           "doc": "Date when the sale was completed, as stated on the transfer deed.",
           "id": 3,
           "name": "date_of_transfer",
           "required": true,
           "type": "date"
          },
          {
           "doc": "This is the postcode used at the time of the original transaction. Note that postcodes can be reallocated and these changes are not reflected in the Price Paid Dataset.",
           "id": 4,
           "name": "postcode",
           "required": true,
           "type": "string"
          },
          {
           "doc": "D = Detached, S = Semi-Detached, T = Terraced, F = Flats/Maisonettes, O = Other",
           "id": 5,
           "name": "property_type",
           "required": true,
           "type": "string"
          },
          {
           "doc": "Indicates the age of the property and applies to all price paid transactions, residential and non-residential. Y = a newly built property, N = an established residential building",
           "id": 6,
           "name": "new_property",
           "required": true,
           "type": "string"
          },
          {
           "doc": "Relates to the tenure: F = Freehold, L= Leasehold etc. Note that HM Land Registry does not record leases of 7 years or less in the Price Paid Dataset.",
           "id": 7,
           "name": "duration",
           "required": true,
           "type": "string"
          },
          {
           "doc": "Primary Addressable Object Name. Typically the house number or name",
           "id": 8,
           "name": "paon",
           "required": false,
           "type": "string"
          },
          {
           "doc": "Secondary Addressable Object Name. Where a property has been divided into separate units (for example, flats), the PAON (above) will identify the building and a SAON will be specified that identifies the separate unit/flat.",
           "id": 9,
           "name": "saon",
           "required": false,
           "type": "string"
          },
          {
           "id": 10,
           "name": "street",
           "required": false,
           "type": "string"
          },
          {
           "id": 11,
           "name": "locality",
           "required": false,
           "type": "string"
          },
          {
           "id": 12,
           "name": "town",
           "required": false,
           "type": "string"
          },
          {
           "id": 13,
           "name": "district",
           "required": false,
           "type": "string"
          },
          {
           "id": 14,
           "name": "county",
           "required": false,
           "type": "string"
          },
          {
           "doc": "Indicates the type of Price Paid transaction. A = Standard Price Paid entry, includes single residential property sold for value. B = Additional Price Paid entry including transfers under a power of sale/repossessions, buy-to-lets (where they can be identified by a Mortgage), transfers to non-private individuals and sales where the property type is classed as ‘Other’.",
           "id": 15,
           "name": "ppd_category_type",
           "required": false,
           "type": "string"
          },
          {
           "doc": "Indicates additions, changes and deletions to the records. A = Addition C = Change D = Delete",
           "id": 16,
           "name": "record_status",
           "required": false,
           "type": "string"
          },
          {
           "doc": "The date this row was loaded",
           "id": 17,
           "name": "_loaded_at",
           "required": false,
           "type": "timestamptz"
          }
         ],
         "identifier-field-ids": [
          1
         ],
         "schema-id": 1,
         "type": "struct"
        },
        {
         "fields": [
          {
           "doc": "A reference number which is generated automatically recording each published sale. The number is unique and will change each time a sale is recorded.",
           "id": 1,
           "name": "transaction_id",
           "required": true,
           "type": "string"
          },
          {
           "doc": "Sale price stated on the transfer deed.",
           "id": 2,
           "name": "price",
           "required": true,
           "type": "int"
          },
          {
           "doc": "Date when the sale was completed, as stated on the transfer deed.",
           "id": 3,
           "name": "date_of_transfer",
           "required": true,
           "type": "date"
          },
          {
           "doc": "This is the postcode used at the time of the original transaction. Note that postcodes can be reallocated and these changes are not reflected in the Price Paid Dataset.",
           "id": 4,
           "name": "postcode",
           "required": true,
           "type": "string"
          },
          {
           "doc": "D = Detached, S = Semi-Detached, T = Terraced, F = Flats/Maisonettes, O = Other",
           "id": 5,
           "name": "property_type",
           "required": true,
           "type": "string"
          },
          {
           "doc": "Indicates the age of the property and applies to all price paid transactions, residential and non-residential. Y = a newly built property, N = an established residential building",
           "id": 6,
           "name": "new_property",
           "required": true,
           "type": "string"
          },
          {
           "doc": "Relates to the tenure: F = Freehold, L= Leasehold etc. Note that HM Land Registry does not record leases of 7 years or less in the Price Paid Dataset.",
           "id": 7,
           "name": "duration",
           "required": true,
           "type": "string"
          },
          {
           "doc": "Primary Addressable Object Name. Typically the house number or name",
           "id": 8,
           "name": "paon",
           "required": false,
           "type": "string"
          },
          {
           "doc": "Secondary Addressable Object Name. Where a property has been divided into separate units (for example, flats), the PAON (above) will identify the building and a SAON will be specified that identifies the separate unit/flat.",
           "id": 9,
           "name": "saon",
           "required": false,
           "type": "string"
          },
          {
           "id": 10,
           "name": "street",
           "required": false,
           "type": "string"
          },
          {
           "id": 11,
           "name": "locality",
           "required": false,
           "type": "string"
          },
          {
           "id": 12,
           "name": "town",
           "required": false,
           "type": "string"
          },
          {
           "id": 13,
           "name": "district",
           "required": false,
           "type": "string"
          },
          {
           "id": 14,
           "name": "county",
           "required": false,
           "type": "string"
          },
          {
           "doc": "Indicates the type of Price Paid transaction. A = Standard Price Paid entry, includes single residential property sold for value. B = Additional Price Paid entry including transfers under a power of sale/repossessions, buy-to-lets (where they can be identified by a Mortgage), transfers to non-private individuals and sales where the property type is classed as ‘Other’.",
           "id": 15,
           "name": "ppd_category_type",
           "required": false,
           "type": "string"
          },
          {
           "doc": "Indicates additions, changes and deletions to the records. A = Addition C = Change D = Delete",
           "id": 16,
           "name": "record_status",
           "required": false,
           "type": "string"
          }
         ],
         "identifier-field-ids": [
          1
         ],
         "schema-id": 0,
         "type": "struct"
        }
       ],
       "snapshot-log": [
        {
         "snapshot-id": 561444497425091100,
         "timestamp-ms": 1748169568248
        },
        {
         "snapshot-id": 6216576064814123000,
         "timestamp-ms": 1748170023208
        },
        {
         "snapshot-id": 7207777689682313000,
         "timestamp-ms": 1748174121465
        }
       ],
       "snapshots": [
        {
         "manifest-list": "s3://warehouse/housing/staging/metadata/snap-561444497425091042-0-3790d544-cd9c-41a9-81f5-7a6f21e33dc5.avro",
         "schema-id": 0,
         "sequence-number": 1,
         "snapshot-id": 561444497425091100,
         "summary": {
          "added-data-files": "1",
          "added-files-size": "15838359",
          "added-records": "704344",
          "operation": "append",
          "total-data-files": "1",
          "total-delete-files": "0",
          "total-equality-deletes": "0",
          "total-files-size": "15838359",
          "total-position-deletes": "0",
          "total-records": "704344"
         },
         "timestamp-ms": 1748169568248
        },
        {
         "manifest-list": "s3://warehouse/housing/staging/metadata/snap-6216576064814123496-0-3820ca29-5aba-4f8b-bdb5-c86e51d7ded9.avro",
         "parent-snapshot-id": 561444497425091100,
         "schema-id": 0,
         "sequence-number": 2,
         "snapshot-id": 6216576064814123000,
         "summary": {
          "added-data-files": "1",
          "added-files-size": "19093353",
          "added-records": "841772",
          "operation": "append",
          "total-data-files": "2",
          "total-delete-files": "0",
          "total-equality-deletes": "0",
          "total-files-size": "34931712",
          "total-position-deletes": "0",
          "total-records": "1546116"
         },
         "timestamp-ms": 1748170023208
        },
        {
         "manifest-list": "s3://warehouse/housing/staging/metadata/snap-7207777689682313573-0-66725139-1344-460c-b9f3-f3549106310f.avro",
         "parent-snapshot-id": 6216576064814123000,
         "schema-id": 1,
         "sequence-number": 3,
         "snapshot-id": 7207777689682313000,
         "summary": {
          "added-data-files": "1",
          "added-files-size": "24123713",
          "added-records": "1067299",
          "operation": "append",
          "total-data-files": "3",
          "total-delete-files": "0",
          "total-equality-deletes": "0",
          "total-files-size": "59055425",
          "total-position-deletes": "0",
          "total-records": "2613415"
         },
         "timestamp-ms": 1748174121465
        }
       ],
       "sort-orders": [
        {
         "fields": [],
         "order-id": 0
        }
       ],
       "table-uuid": "01970706-21c2-7c71-bb37-cb8475a3b207"
      },
      "text/plain": [
       "<IPython.core.display.JSON object>"
      ]
     },
     "execution_count": 7,
     "metadata": {
      "application/json": {
       "expanded": false,
       "root": "root"
      }
     },
     "output_type": "execute_result"
    }
   ],
   "source": [
    "JSON(get_iceberg_metadata(fs, house_prices_t))"
   ]
  },
  {
   "attachments": {},
   "cell_type": "markdown",
   "id": "e4051e2e-f873-4746-8a3e-584011c3c411",
   "metadata": {},
   "source": [
    "What about the data we already added? How would we modify that data? Here we start running into some limitations of a foundational library like `pyiceberg` - we can do it, but wouldn't it be much easier to write an `UPDATE` in SQL and not have to worry about the details?\n",
    "\n",
    "This is the power of Iceberg - we have the ability to switch query engines to suit our usecase - in this case, I want to use Trino to update the data back in time.\n",
    "\n",
    "Let's verify how many nulls we have - the data we just added should have `_loaded_at` filled in, but the rest should be null\n",
    "\n",
    "Trino has a SQLAlchemy dialect built-in to the `trino` python package, so it's straightforward to run some SQL like we're used to"
   ]
  },
  {
   "cell_type": "code",
   "execution_count": 8,
   "id": "Kclp",
   "metadata": {},
   "outputs": [],
   "source": [
    "engine = sa.create_engine(\"trino://trino:@trino:8080/lakekeeper\")"
   ]
  },
  {
   "cell_type": "code",
   "execution_count": 9,
   "id": "emfo",
   "metadata": {},
   "outputs": [
    {
     "data": {
      "text/html": [
       "<div><style>\n",
       ".dataframe > thead > tr,\n",
       ".dataframe > tbody > tr {\n",
       "  text-align: right;\n",
       "  white-space: pre-wrap;\n",
       "}\n",
       "</style>\n",
       "<small>shape: (1, 2)</small><table border=\"1\" class=\"dataframe\"><thead><tr><th>total_rows</th><th>null_count</th></tr><tr><td>i64</td><td>i64</td></tr></thead><tbody><tr><td>2613415</td><td>1546116</td></tr></tbody></table></div>"
      ],
      "text/plain": [
       "shape: (1, 2)\n",
       "┌────────────┬────────────┐\n",
       "│ total_rows ┆ null_count │\n",
       "│ ---        ┆ ---        │\n",
       "│ i64        ┆ i64        │\n",
       "╞════════════╪════════════╡\n",
       "│ 2613415    ┆ 1546116    │\n",
       "└────────────┴────────────┘"
      ]
     },
     "execution_count": 9,
     "metadata": {},
     "output_type": "execute_result"
    }
   ],
   "source": [
    "null_count_sql = \"\"\"\n",
    "SELECT\n",
    "    COUNT(*) as total_rows,\n",
    "    COUNT_IF(_loaded_at IS NULL) as null_count\n",
    "FROM housing.staging_prices\n",
    "    \"\"\"\n",
    "pl.read_database(null_count_sql, engine)"
   ]
  },
  {
   "cell_type": "markdown",
   "id": "e2bb8623-bcbf-4824-9c3d-d27036e19b20",
   "metadata": {},
   "source": [
    "A simple UPDATE in SQL saves us many lines of Python code"
   ]
  },
  {
   "cell_type": "code",
   "execution_count": 10,
   "id": "nWHF",
   "metadata": {},
   "outputs": [
    {
     "name": "stdout",
     "output_type": "stream",
     "text": [
      "(1546116,)\n"
     ]
    }
   ],
   "source": [
    "with engine.connect() as conn:\n",
    "    sql = f\"UPDATE housing.staging_prices SET _loaded_at = from_iso8601_timestamp('{timestamp.isoformat()}') WHERE _loaded_at is null\"\n",
    "    result = conn.execute(sa.text(sql))\n",
    "    print(result.fetchone())"
   ]
  },
  {
   "cell_type": "code",
   "execution_count": 11,
   "id": "iLit",
   "metadata": {},
   "outputs": [
    {
     "data": {
      "text/html": [
       "<div><style>\n",
       ".dataframe > thead > tr,\n",
       ".dataframe > tbody > tr {\n",
       "  text-align: right;\n",
       "  white-space: pre-wrap;\n",
       "}\n",
       "</style>\n",
       "<small>shape: (1, 2)</small><table border=\"1\" class=\"dataframe\"><thead><tr><th>total_rows</th><th>null_count</th></tr><tr><td>i64</td><td>i64</td></tr></thead><tbody><tr><td>2613415</td><td>0</td></tr></tbody></table></div>"
      ],
      "text/plain": [
       "shape: (1, 2)\n",
       "┌────────────┬────────────┐\n",
       "│ total_rows ┆ null_count │\n",
       "│ ---        ┆ ---        │\n",
       "│ i64        ┆ i64        │\n",
       "╞════════════╪════════════╡\n",
       "│ 2613415    ┆ 0          │\n",
       "└────────────┴────────────┘"
      ]
     },
     "execution_count": 11,
     "metadata": {},
     "output_type": "execute_result"
    }
   ],
   "source": [
    "pl.read_database(null_count_sql, engine)"
   ]
  },
  {
   "cell_type": "markdown",
   "id": "ZHCJ",
   "metadata": {},
   "source": [
    "We should now have a new snapshot - let's have a peek.\n",
    "\n",
    "```{warning} Keeping metadata in sync\n",
    "Pyiceberg doesn't yet know about our Trino update - we need to refresh the metadata to get the latest metadata from the catalog\n",
    "```"
   ]
  },
  {
   "cell_type": "code",
   "execution_count": 15,
   "id": "ade27916-3536-4ab8-a24c-1ee72bad7d0a",
   "metadata": {},
   "outputs": [],
   "source": [
    "house_prices_t.refresh();"
   ]
  },
  {
   "cell_type": "code",
   "execution_count": 14,
   "id": "ROlb",
   "metadata": {},
   "outputs": [
    {
     "data": {
      "application/json": {
       "current-schema-id": 1,
       "current-snapshot-id": 6710783448956002000,
       "default-sort-order-id": 0,
       "default-spec-id": 0,
       "format-version": 2,
       "last-column-id": 17,
       "last-partition-id": 999,
       "last-sequence-number": 4,
       "last-updated-ms": 1748174210468,
       "location": "s3://warehouse/housing/staging",
       "metadata-log": [
        {
         "metadata-file": "s3://warehouse/housing/staging/metadata/00000-01970706-21c3-7063-b36e-466fe2bf2395.gz.metadata.json",
         "timestamp-ms": 1748169531843
        },
        {
         "metadata-file": "s3://warehouse/housing/staging/metadata/00001-01970706-b11f-7ff0-82b8-d763c6f1103e.gz.metadata.json",
         "timestamp-ms": 1748169568248
        },
        {
         "metadata-file": "s3://warehouse/housing/staging/metadata/00002-0197070d-a168-72f3-9aa1-41503e4f4b33.gz.metadata.json",
         "timestamp-ms": 1748170023208
        },
        {
         "metadata-file": "s3://warehouse/housing/staging/metadata/00003-01970730-f7e0-7262-a86a-e5078f3edad0.gz.metadata.json",
         "timestamp-ms": 1748172339168
        },
        {
         "metadata-file": "s3://warehouse/housing/staging/metadata/00004-0197074c-2a3a-7e01-82df-8f873c3b10ca.gz.metadata.json",
         "timestamp-ms": 1748174121465
        }
       ],
       "partition-specs": [
        {
         "fields": [],
         "spec-id": 0
        }
       ],
       "refs": {
        "main": {
         "snapshot-id": 6710783448956002000,
         "type": "branch"
        }
       },
       "schemas": [
        {
         "fields": [
          {
           "doc": "A reference number which is generated automatically recording each published sale. The number is unique and will change each time a sale is recorded.",
           "id": 1,
           "name": "transaction_id",
           "required": true,
           "type": "string"
          },
          {
           "doc": "Sale price stated on the transfer deed.",
           "id": 2,
           "name": "price",
           "required": true,
           "type": "int"
          },
          {
           "doc": "Date when the sale was completed, as stated on the transfer deed.",
           "id": 3,
           "name": "date_of_transfer",
           "required": true,
           "type": "date"
          },
          {
           "doc": "This is the postcode used at the time of the original transaction. Note that postcodes can be reallocated and these changes are not reflected in the Price Paid Dataset.",
           "id": 4,
           "name": "postcode",
           "required": true,
           "type": "string"
          },
          {
           "doc": "D = Detached, S = Semi-Detached, T = Terraced, F = Flats/Maisonettes, O = Other",
           "id": 5,
           "name": "property_type",
           "required": true,
           "type": "string"
          },
          {
           "doc": "Indicates the age of the property and applies to all price paid transactions, residential and non-residential. Y = a newly built property, N = an established residential building",
           "id": 6,
           "name": "new_property",
           "required": true,
           "type": "string"
          },
          {
           "doc": "Relates to the tenure: F = Freehold, L= Leasehold etc. Note that HM Land Registry does not record leases of 7 years or less in the Price Paid Dataset.",
           "id": 7,
           "name": "duration",
           "required": true,
           "type": "string"
          },
          {
           "doc": "Primary Addressable Object Name. Typically the house number or name",
           "id": 8,
           "name": "paon",
           "required": false,
           "type": "string"
          },
          {
           "doc": "Secondary Addressable Object Name. Where a property has been divided into separate units (for example, flats), the PAON (above) will identify the building and a SAON will be specified that identifies the separate unit/flat.",
           "id": 9,
           "name": "saon",
           "required": false,
           "type": "string"
          },
          {
           "id": 10,
           "name": "street",
           "required": false,
           "type": "string"
          },
          {
           "id": 11,
           "name": "locality",
           "required": false,
           "type": "string"
          },
          {
           "id": 12,
           "name": "town",
           "required": false,
           "type": "string"
          },
          {
           "id": 13,
           "name": "district",
           "required": false,
           "type": "string"
          },
          {
           "id": 14,
           "name": "county",
           "required": false,
           "type": "string"
          },
          {
           "doc": "Indicates the type of Price Paid transaction. A = Standard Price Paid entry, includes single residential property sold for value. B = Additional Price Paid entry including transfers under a power of sale/repossessions, buy-to-lets (where they can be identified by a Mortgage), transfers to non-private individuals and sales where the property type is classed as ‘Other’.",
           "id": 15,
           "name": "ppd_category_type",
           "required": false,
           "type": "string"
          },
          {
           "doc": "Indicates additions, changes and deletions to the records. A = Addition C = Change D = Delete",
           "id": 16,
           "name": "record_status",
           "required": false,
           "type": "string"
          },
          {
           "doc": "The date this row was loaded",
           "id": 17,
           "name": "_loaded_at",
           "required": false,
           "type": "timestamptz"
          }
         ],
         "identifier-field-ids": [
          1
         ],
         "schema-id": 1,
         "type": "struct"
        },
        {
         "fields": [
          {
           "doc": "A reference number which is generated automatically recording each published sale. The number is unique and will change each time a sale is recorded.",
           "id": 1,
           "name": "transaction_id",
           "required": true,
           "type": "string"
          },
          {
           "doc": "Sale price stated on the transfer deed.",
           "id": 2,
           "name": "price",
           "required": true,
           "type": "int"
          },
          {
           "doc": "Date when the sale was completed, as stated on the transfer deed.",
           "id": 3,
           "name": "date_of_transfer",
           "required": true,
           "type": "date"
          },
          {
           "doc": "This is the postcode used at the time of the original transaction. Note that postcodes can be reallocated and these changes are not reflected in the Price Paid Dataset.",
           "id": 4,
           "name": "postcode",
           "required": true,
           "type": "string"
          },
          {
           "doc": "D = Detached, S = Semi-Detached, T = Terraced, F = Flats/Maisonettes, O = Other",
           "id": 5,
           "name": "property_type",
           "required": true,
           "type": "string"
          },
          {
           "doc": "Indicates the age of the property and applies to all price paid transactions, residential and non-residential. Y = a newly built property, N = an established residential building",
           "id": 6,
           "name": "new_property",
           "required": true,
           "type": "string"
          },
          {
           "doc": "Relates to the tenure: F = Freehold, L= Leasehold etc. Note that HM Land Registry does not record leases of 7 years or less in the Price Paid Dataset.",
           "id": 7,
           "name": "duration",
           "required": true,
           "type": "string"
          },
          {
           "doc": "Primary Addressable Object Name. Typically the house number or name",
           "id": 8,
           "name": "paon",
           "required": false,
           "type": "string"
          },
          {
           "doc": "Secondary Addressable Object Name. Where a property has been divided into separate units (for example, flats), the PAON (above) will identify the building and a SAON will be specified that identifies the separate unit/flat.",
           "id": 9,
           "name": "saon",
           "required": false,
           "type": "string"
          },
          {
           "id": 10,
           "name": "street",
           "required": false,
           "type": "string"
          },
          {
           "id": 11,
           "name": "locality",
           "required": false,
           "type": "string"
          },
          {
           "id": 12,
           "name": "town",
           "required": false,
           "type": "string"
          },
          {
           "id": 13,
           "name": "district",
           "required": false,
           "type": "string"
          },
          {
           "id": 14,
           "name": "county",
           "required": false,
           "type": "string"
          },
          {
           "doc": "Indicates the type of Price Paid transaction. A = Standard Price Paid entry, includes single residential property sold for value. B = Additional Price Paid entry including transfers under a power of sale/repossessions, buy-to-lets (where they can be identified by a Mortgage), transfers to non-private individuals and sales where the property type is classed as ‘Other’.",
           "id": 15,
           "name": "ppd_category_type",
           "required": false,
           "type": "string"
          },
          {
           "doc": "Indicates additions, changes and deletions to the records. A = Addition C = Change D = Delete",
           "id": 16,
           "name": "record_status",
           "required": false,
           "type": "string"
          }
         ],
         "identifier-field-ids": [
          1
         ],
         "schema-id": 0,
         "type": "struct"
        }
       ],
       "snapshot-log": [
        {
         "snapshot-id": 561444497425091100,
         "timestamp-ms": 1748169568248
        },
        {
         "snapshot-id": 6216576064814123000,
         "timestamp-ms": 1748170023208
        },
        {
         "snapshot-id": 7207777689682313000,
         "timestamp-ms": 1748174121465
        },
        {
         "snapshot-id": 6710783448956002000,
         "timestamp-ms": 1748174210468
        }
       ],
       "snapshots": [
        {
         "manifest-list": "s3://warehouse/housing/staging/metadata/snap-561444497425091042-0-3790d544-cd9c-41a9-81f5-7a6f21e33dc5.avro",
         "schema-id": 0,
         "sequence-number": 1,
         "snapshot-id": 561444497425091100,
         "summary": {
          "added-data-files": "1",
          "added-files-size": "15838359",
          "added-records": "704344",
          "operation": "append",
          "total-data-files": "1",
          "total-delete-files": "0",
          "total-equality-deletes": "0",
          "total-files-size": "15838359",
          "total-position-deletes": "0",
          "total-records": "704344"
         },
         "timestamp-ms": 1748169568248
        },
        {
         "manifest-list": "s3://warehouse/housing/staging/metadata/snap-6710783448956002675-1-36d9b024-c953-439b-bea4-6b5773d5592c.avro",
         "parent-snapshot-id": 7207777689682313000,
         "schema-id": 1,
         "sequence-number": 4,
         "snapshot-id": 6710783448956002000,
         "summary": {
          "added-data-files": "1",
          "added-delete-files": "2",
          "added-files-size": "35424009",
          "added-position-delete-files": "2",
          "added-position-deletes": "1546116",
          "added-records": "1546116",
          "changed-partition-count": "1",
          "engine-name": "trino",
          "engine-version": "475",
          "iceberg-version": "Apache Iceberg 1.8.1 (commit 9ce0fcf0af7becf25ad9fc996c3bad2afdcfd33d)",
          "operation": "overwrite",
          "total-data-files": "4",
          "total-delete-files": "2",
          "total-equality-deletes": "0",
          "total-files-size": "94479434",
          "total-position-deletes": "1546116",
          "total-records": "4159531",
          "trino_query_id": "20250525_115644_00011_yhp7d",
          "trino_user": "trino"
         },
         "timestamp-ms": 1748174210468
        },
        {
         "manifest-list": "s3://warehouse/housing/staging/metadata/snap-7207777689682313573-0-66725139-1344-460c-b9f3-f3549106310f.avro",
         "parent-snapshot-id": 6216576064814123000,
         "schema-id": 1,
         "sequence-number": 3,
         "snapshot-id": 7207777689682313000,
         "summary": {
          "added-data-files": "1",
          "added-files-size": "24123713",
          "added-records": "1067299",
          "operation": "append",
          "total-data-files": "3",
          "total-delete-files": "0",
          "total-equality-deletes": "0",
          "total-files-size": "59055425",
          "total-position-deletes": "0",
          "total-records": "2613415"
         },
         "timestamp-ms": 1748174121465
        },
        {
         "manifest-list": "s3://warehouse/housing/staging/metadata/snap-6216576064814123496-0-3820ca29-5aba-4f8b-bdb5-c86e51d7ded9.avro",
         "parent-snapshot-id": 561444497425091100,
         "schema-id": 0,
         "sequence-number": 2,
         "snapshot-id": 6216576064814123000,
         "summary": {
          "added-data-files": "1",
          "added-files-size": "19093353",
          "added-records": "841772",
          "operation": "append",
          "total-data-files": "2",
          "total-delete-files": "0",
          "total-equality-deletes": "0",
          "total-files-size": "34931712",
          "total-position-deletes": "0",
          "total-records": "1546116"
         },
         "timestamp-ms": 1748170023208
        }
       ],
       "sort-orders": [
        {
         "fields": [],
         "order-id": 0
        }
       ],
       "table-uuid": "01970706-21c2-7c71-bb37-cb8475a3b207"
      },
      "text/plain": [
       "<IPython.core.display.JSON object>"
      ]
     },
     "execution_count": 14,
     "metadata": {
      "application/json": {
       "expanded": false,
       "root": "root"
      }
     },
     "output_type": "execute_result"
    }
   ],
   "source": [
    "JSON(get_iceberg_metadata(fs, house_prices_t))"
   ]
  },
  {
   "cell_type": "markdown",
   "id": "qnkX",
   "metadata": {},
   "source": [
    "## Deletes\n",
    "\n",
    "We have a new operation `overwrite` - Parquet is immutable, so we have to physically write out a new file and delete the old one. That is expensive, so Iceberg uses delete files to avoid having to up-front do the work of actually deleting data.\n",
    "\n",
    "```{note} Aside\n",
    "Technically, Parquet **row groups** are immutable, but it's much faster to treat the Parquet file as immutable, rather than rewriting row groups\n",
    "```\n",
    "\n",
    "In Iceberg V2, there are positional-deletes and equality-deletes. These are both represented by a `delete` file, which is just a parquet file which specifies rows to mark as deleted, either by a filter like `transaction_id = '{045A1898-4ABF-9A24-E063-4804A8C048EA}'` or by position, like in this example\n",
    "\n",
    "```{code} parquet\n",
    ":filename: some_random_id.parquet\n",
    "file_path,pos\n",
    "s3://warehouse/house_prices/raw/data/00000-0-0ab09c23-d71c-4686-968a-f5ebd7b2e32a.parquet,0\n",
    "s3://warehouse/house_prices/raw/data/00000-0-0ab09c23-d71c-4686-968a-f5ebd7b2e32a.parquet,1\n",
    "s3://warehouse/house_prices/raw/data/00000-0-0ab09c23-d71c-4686-968a-f5ebd7b2e32a.parquet,2\n",
    "s3://warehouse/house_prices/raw/data/00000-0-0ab09c23-d71c-4686-968a-f5ebd7b2e32a.parquet,3\n",
    "```\n",
    "\n",
    "```{warning} Deprecation Warning\n",
    "Positional deletes will be replaced by deletion vectors in Iceberg V3\n",
    "```"
   ]
  },
  {
   "cell_type": "markdown",
   "id": "cea148b7-02a9-482d-806c-bccd3e5ee580",
   "metadata": {},
   "source": [
    "Let's use pyiceberg to find a delete file and open it up"
   ]
  },
  {
   "cell_type": "code",
   "execution_count": 17,
   "id": "02dde4ab-043e-482e-b3b5-8dbdfaed993f",
   "metadata": {},
   "outputs": [
    {
     "data": {
      "text/html": [
       "<div><style>\n",
       ".dataframe > thead > tr,\n",
       ".dataframe > tbody > tr {\n",
       "  text-align: right;\n",
       "  white-space: pre-wrap;\n",
       "}\n",
       "</style>\n",
       "<small>shape: (841_772, 2)</small><table border=\"1\" class=\"dataframe\"><thead><tr><th>file_path</th><th>pos</th></tr><tr><td>str</td><td>i64</td></tr></thead><tbody><tr><td>&quot;s3://warehouse/housing/staging…</td><td>0</td></tr><tr><td>&quot;s3://warehouse/housing/staging…</td><td>1</td></tr><tr><td>&quot;s3://warehouse/housing/staging…</td><td>2</td></tr><tr><td>&quot;s3://warehouse/housing/staging…</td><td>3</td></tr><tr><td>&quot;s3://warehouse/housing/staging…</td><td>4</td></tr><tr><td>&hellip;</td><td>&hellip;</td></tr><tr><td>&quot;s3://warehouse/housing/staging…</td><td>841767</td></tr><tr><td>&quot;s3://warehouse/housing/staging…</td><td>841768</td></tr><tr><td>&quot;s3://warehouse/housing/staging…</td><td>841769</td></tr><tr><td>&quot;s3://warehouse/housing/staging…</td><td>841770</td></tr><tr><td>&quot;s3://warehouse/housing/staging…</td><td>841771</td></tr></tbody></table></div>"
      ],
      "text/plain": [
       "shape: (841_772, 2)\n",
       "┌─────────────────────────────────┬────────┐\n",
       "│ file_path                       ┆ pos    │\n",
       "│ ---                             ┆ ---    │\n",
       "│ str                             ┆ i64    │\n",
       "╞═════════════════════════════════╪════════╡\n",
       "│ s3://warehouse/housing/staging… ┆ 0      │\n",
       "│ s3://warehouse/housing/staging… ┆ 1      │\n",
       "│ s3://warehouse/housing/staging… ┆ 2      │\n",
       "│ s3://warehouse/housing/staging… ┆ 3      │\n",
       "│ s3://warehouse/housing/staging… ┆ 4      │\n",
       "│ …                               ┆ …      │\n",
       "│ s3://warehouse/housing/staging… ┆ 841767 │\n",
       "│ s3://warehouse/housing/staging… ┆ 841768 │\n",
       "│ s3://warehouse/housing/staging… ┆ 841769 │\n",
       "│ s3://warehouse/housing/staging… ┆ 841770 │\n",
       "│ s3://warehouse/housing/staging… ┆ 841771 │\n",
       "└─────────────────────────────────┴────────┘"
      ]
     },
     "execution_count": 17,
     "metadata": {},
     "output_type": "execute_result"
    }
   ],
   "source": [
    "delete_file = (\n",
    "    pl.from_arrow(house_prices_t.inspect.delete_files())\n",
    "    .select(pl.col(\"file_path\"))\n",
    "    .item(0, 0)\n",
    ")\n",
    "pl.read_parquet(fs.read_bytes(delete_file))"
   ]
  },
  {
   "cell_type": "markdown",
   "id": "5116c42a-ddaa-4800-a8b3-8fb69f3d4711",
   "metadata": {},
   "source": [
    "# Renaming and moving columns\n",
    "\n",
    "Iceberg implements all column references use the `field_id`. This makes it trivial to rename a column, since we just have to update the metadata of the schema. Imagine our style guide is updated and now all metadata fields such as our `_loaded_at` should now be prefixed with `dwh` to make it clear who did the load. Now that we have some hands-on user feedback, we also want to move `transfer_date` to be the first column since we're often visually exploring date ranges.\n",
    "\n",
    "We can also show off transactions - everything we've done until now has actually been done inside a transaction. We can explicitly open a transaction to perform multiple operations inside a single transaction. This includes deleting and adding files, but for now we'll just make our changes\n",
    "\n"
   ]
  },
  {
   "cell_type": "code",
   "execution_count": 20,
   "id": "fa8b6bec-2d12-4b62-b9c8-207552e6d6c6",
   "metadata": {},
   "outputs": [],
   "source": [
    "with house_prices_t.transaction() as transaction:\n",
    "    with transaction.update_schema() as update:\n",
    "        update.rename_column(\"_loaded_at\", \"_dwh_loaded_at\")\n",
    "        update.move_first(\"date_of_transfer\")"
   ]
  },
  {
   "cell_type": "code",
   "execution_count": 21,
   "id": "42656e93-c6e3-4fb4-936b-d1d3d5113d85",
   "metadata": {},
   "outputs": [
    {
     "data": {
      "text/html": [
       "<div><style>\n",
       ".dataframe > thead > tr,\n",
       ".dataframe > tbody > tr {\n",
       "  text-align: right;\n",
       "  white-space: pre-wrap;\n",
       "}\n",
       "</style>\n",
       "<small>shape: (5, 17)</small><table border=\"1\" class=\"dataframe\"><thead><tr><th>date_of_transfer</th><th>transaction_id</th><th>price</th><th>postcode</th><th>property_type</th><th>new_property</th><th>duration</th><th>paon</th><th>saon</th><th>street</th><th>locality</th><th>town</th><th>district</th><th>county</th><th>ppd_category_type</th><th>record_status</th><th>_dwh_loaded_at</th></tr><tr><td>date</td><td>str</td><td>i32</td><td>str</td><td>str</td><td>str</td><td>str</td><td>str</td><td>str</td><td>str</td><td>str</td><td>str</td><td>str</td><td>str</td><td>str</td><td>str</td><td>datetime[μs, UTC]</td></tr></thead><tbody><tr><td>2022-04-28</td><td>&quot;{045A1898-4ABF-9A24-E063-4804A…</td><td>407400</td><td>&quot;LU7 3FZ&quot;</td><td>&quot;S&quot;</td><td>&quot;Y&quot;</td><td>&quot;F&quot;</td><td>&quot;68&quot;</td><td>&quot;&quot;</td><td>&quot;RAMSAY DRIVE&quot;</td><td>&quot;&quot;</td><td>&quot;LEIGHTON BUZZARD&quot;</td><td>&quot;CENTRAL BEDFORDSHIRE&quot;</td><td>&quot;CENTRAL BEDFORDSHIRE&quot;</td><td>&quot;A&quot;</td><td>&quot;A&quot;</td><td>2025-05-25 11:24:58.395550 UTC</td></tr><tr><td>2022-05-27</td><td>&quot;{045A1898-4AC1-9A24-E063-4804A…</td><td>357000</td><td>&quot;LU7 3QS&quot;</td><td>&quot;S&quot;</td><td>&quot;Y&quot;</td><td>&quot;F&quot;</td><td>&quot;44&quot;</td><td>&quot;&quot;</td><td>&quot;CHADWICK CRESCENT&quot;</td><td>&quot;&quot;</td><td>&quot;LEIGHTON BUZZARD&quot;</td><td>&quot;CENTRAL BEDFORDSHIRE&quot;</td><td>&quot;CENTRAL BEDFORDSHIRE&quot;</td><td>&quot;A&quot;</td><td>&quot;A&quot;</td><td>2025-05-25 11:24:58.395550 UTC</td></tr><tr><td>2022-04-28</td><td>&quot;{045A1898-4AC2-9A24-E063-4804A…</td><td>372950</td><td>&quot;LU5 6TD&quot;</td><td>&quot;S&quot;</td><td>&quot;Y&quot;</td><td>&quot;F&quot;</td><td>&quot;11&quot;</td><td>&quot;&quot;</td><td>&quot;SKYE GARDENS&quot;</td><td>&quot;HOUGHTON REGIS&quot;</td><td>&quot;DUNSTABLE&quot;</td><td>&quot;CENTRAL BEDFORDSHIRE&quot;</td><td>&quot;CENTRAL BEDFORDSHIRE&quot;</td><td>&quot;A&quot;</td><td>&quot;A&quot;</td><td>2025-05-25 11:24:58.395550 UTC</td></tr><tr><td>2022-05-31</td><td>&quot;{045A1898-4AC4-9A24-E063-4804A…</td><td>570000</td><td>&quot;SG18 9RF&quot;</td><td>&quot;D&quot;</td><td>&quot;Y&quot;</td><td>&quot;F&quot;</td><td>&quot;8&quot;</td><td>&quot;&quot;</td><td>&quot;HARVEST MOUSE PLACE&quot;</td><td>&quot;LANGFORD&quot;</td><td>&quot;BIGGLESWADE&quot;</td><td>&quot;CENTRAL BEDFORDSHIRE&quot;</td><td>&quot;CENTRAL BEDFORDSHIRE&quot;</td><td>&quot;A&quot;</td><td>&quot;A&quot;</td><td>2025-05-25 11:24:58.395550 UTC</td></tr><tr><td>2022-05-27</td><td>&quot;{045A1898-4AC5-9A24-E063-4804A…</td><td>570000</td><td>&quot;LU7 3QS&quot;</td><td>&quot;D&quot;</td><td>&quot;Y&quot;</td><td>&quot;F&quot;</td><td>&quot;42&quot;</td><td>&quot;&quot;</td><td>&quot;CHADWICK CRESCENT&quot;</td><td>&quot;&quot;</td><td>&quot;LEIGHTON BUZZARD&quot;</td><td>&quot;CENTRAL BEDFORDSHIRE&quot;</td><td>&quot;CENTRAL BEDFORDSHIRE&quot;</td><td>&quot;A&quot;</td><td>&quot;A&quot;</td><td>2025-05-25 11:24:58.395550 UTC</td></tr></tbody></table></div>"
      ],
      "text/plain": [
       "shape: (5, 17)\n",
       "┌────────────┬────────────┬────────┬──────────┬───┬────────────┬───────────┬───────────┬───────────┐\n",
       "│ date_of_tr ┆ transactio ┆ price  ┆ postcode ┆ … ┆ county     ┆ ppd_categ ┆ record_st ┆ _dwh_load │\n",
       "│ ansfer     ┆ n_id       ┆ ---    ┆ ---      ┆   ┆ ---        ┆ ory_type  ┆ atus      ┆ ed_at     │\n",
       "│ ---        ┆ ---        ┆ i32    ┆ str      ┆   ┆ str        ┆ ---       ┆ ---       ┆ ---       │\n",
       "│ date       ┆ str        ┆        ┆          ┆   ┆            ┆ str       ┆ str       ┆ datetime[ │\n",
       "│            ┆            ┆        ┆          ┆   ┆            ┆           ┆           ┆ μs, UTC]  │\n",
       "╞════════════╪════════════╪════════╪══════════╪═══╪════════════╪═══════════╪═══════════╪═══════════╡\n",
       "│ 2022-04-28 ┆ {045A1898- ┆ 407400 ┆ LU7 3FZ  ┆ … ┆ CENTRAL    ┆ A         ┆ A         ┆ 2025-05-2 │\n",
       "│            ┆ 4ABF-9A24- ┆        ┆          ┆   ┆ BEDFORDSHI ┆           ┆           ┆ 5 11:24:5 │\n",
       "│            ┆ E063-4804A ┆        ┆          ┆   ┆ RE         ┆           ┆           ┆ 8.395550  │\n",
       "│            ┆ …          ┆        ┆          ┆   ┆            ┆           ┆           ┆ UTC       │\n",
       "│ 2022-05-27 ┆ {045A1898- ┆ 357000 ┆ LU7 3QS  ┆ … ┆ CENTRAL    ┆ A         ┆ A         ┆ 2025-05-2 │\n",
       "│            ┆ 4AC1-9A24- ┆        ┆          ┆   ┆ BEDFORDSHI ┆           ┆           ┆ 5 11:24:5 │\n",
       "│            ┆ E063-4804A ┆        ┆          ┆   ┆ RE         ┆           ┆           ┆ 8.395550  │\n",
       "│            ┆ …          ┆        ┆          ┆   ┆            ┆           ┆           ┆ UTC       │\n",
       "│ 2022-04-28 ┆ {045A1898- ┆ 372950 ┆ LU5 6TD  ┆ … ┆ CENTRAL    ┆ A         ┆ A         ┆ 2025-05-2 │\n",
       "│            ┆ 4AC2-9A24- ┆        ┆          ┆   ┆ BEDFORDSHI ┆           ┆           ┆ 5 11:24:5 │\n",
       "│            ┆ E063-4804A ┆        ┆          ┆   ┆ RE         ┆           ┆           ┆ 8.395550  │\n",
       "│            ┆ …          ┆        ┆          ┆   ┆            ┆           ┆           ┆ UTC       │\n",
       "│ 2022-05-31 ┆ {045A1898- ┆ 570000 ┆ SG18 9RF ┆ … ┆ CENTRAL    ┆ A         ┆ A         ┆ 2025-05-2 │\n",
       "│            ┆ 4AC4-9A24- ┆        ┆          ┆   ┆ BEDFORDSHI ┆           ┆           ┆ 5 11:24:5 │\n",
       "│            ┆ E063-4804A ┆        ┆          ┆   ┆ RE         ┆           ┆           ┆ 8.395550  │\n",
       "│            ┆ …          ┆        ┆          ┆   ┆            ┆           ┆           ┆ UTC       │\n",
       "│ 2022-05-27 ┆ {045A1898- ┆ 570000 ┆ LU7 3QS  ┆ … ┆ CENTRAL    ┆ A         ┆ A         ┆ 2025-05-2 │\n",
       "│            ┆ 4AC5-9A24- ┆        ┆          ┆   ┆ BEDFORDSHI ┆           ┆           ┆ 5 11:24:5 │\n",
       "│            ┆ E063-4804A ┆        ┆          ┆   ┆ RE         ┆           ┆           ┆ 8.395550  │\n",
       "│            ┆ …          ┆        ┆          ┆   ┆            ┆           ┆           ┆ UTC       │\n",
       "└────────────┴────────────┴────────┴──────────┴───┴────────────┴───────────┴───────────┴───────────┘"
      ]
     },
     "execution_count": 21,
     "metadata": {},
     "output_type": "execute_result"
    }
   ],
   "source": [
    "pl.scan_iceberg(house_prices_t).head().collect()"
   ]
  },
  {
   "cell_type": "code",
   "execution_count": 23,
   "id": "3ac713db-ef2f-4dee-a057-cf600d305e45",
   "metadata": {},
   "outputs": [
    {
     "data": {
      "application/json": {
       "current-schema-id": 2,
       "current-snapshot-id": 6710783448956002000,
       "default-sort-order-id": 0,
       "default-spec-id": 0,
       "format-version": 2,
       "last-column-id": 17,
       "last-partition-id": 999,
       "last-sequence-number": 4,
       "last-updated-ms": 1748174664887,
       "location": "s3://warehouse/housing/staging",
       "metadata-log": [
        {
         "metadata-file": "s3://warehouse/housing/staging/metadata/00000-01970706-21c3-7063-b36e-466fe2bf2395.gz.metadata.json",
         "timestamp-ms": 1748169531843
        },
        {
         "metadata-file": "s3://warehouse/housing/staging/metadata/00001-01970706-b11f-7ff0-82b8-d763c6f1103e.gz.metadata.json",
         "timestamp-ms": 1748169568248
        },
        {
         "metadata-file": "s3://warehouse/housing/staging/metadata/00002-0197070d-a168-72f3-9aa1-41503e4f4b33.gz.metadata.json",
         "timestamp-ms": 1748170023208
        },
        {
         "metadata-file": "s3://warehouse/housing/staging/metadata/00003-01970730-f7e0-7262-a86a-e5078f3edad0.gz.metadata.json",
         "timestamp-ms": 1748172339168
        },
        {
         "metadata-file": "s3://warehouse/housing/staging/metadata/00004-0197074c-2a3a-7e01-82df-8f873c3b10ca.gz.metadata.json",
         "timestamp-ms": 1748174121465
        },
        {
         "metadata-file": "s3://warehouse/housing/staging/metadata/00005-0197074d-865d-7531-bc5e-cca9c5e2c107.gz.metadata.json",
         "timestamp-ms": 1748174210468
        }
       ],
       "partition-specs": [
        {
         "fields": [],
         "spec-id": 0
        }
       ],
       "refs": {
        "main": {
         "snapshot-id": 6710783448956002000,
         "type": "branch"
        }
       },
       "schemas": [
        {
         "fields": [
          {
           "doc": "Date when the sale was completed, as stated on the transfer deed.",
           "id": 3,
           "name": "date_of_transfer",
           "required": true,
           "type": "date"
          },
          {
           "doc": "A reference number which is generated automatically recording each published sale. The number is unique and will change each time a sale is recorded.",
           "id": 1,
           "name": "transaction_id",
           "required": true,
           "type": "string"
          },
          {
           "doc": "Sale price stated on the transfer deed.",
           "id": 2,
           "name": "price",
           "required": true,
           "type": "int"
          },
          {
           "doc": "This is the postcode used at the time of the original transaction. Note that postcodes can be reallocated and these changes are not reflected in the Price Paid Dataset.",
           "id": 4,
           "name": "postcode",
           "required": true,
           "type": "string"
          },
          {
           "doc": "D = Detached, S = Semi-Detached, T = Terraced, F = Flats/Maisonettes, O = Other",
           "id": 5,
           "name": "property_type",
           "required": true,
           "type": "string"
          },
          {
           "doc": "Indicates the age of the property and applies to all price paid transactions, residential and non-residential. Y = a newly built property, N = an established residential building",
           "id": 6,
           "name": "new_property",
           "required": true,
           "type": "string"
          },
          {
           "doc": "Relates to the tenure: F = Freehold, L= Leasehold etc. Note that HM Land Registry does not record leases of 7 years or less in the Price Paid Dataset.",
           "id": 7,
           "name": "duration",
           "required": true,
           "type": "string"
          },
          {
           "doc": "Primary Addressable Object Name. Typically the house number or name",
           "id": 8,
           "name": "paon",
           "required": false,
           "type": "string"
          },
          {
           "doc": "Secondary Addressable Object Name. Where a property has been divided into separate units (for example, flats), the PAON (above) will identify the building and a SAON will be specified that identifies the separate unit/flat.",
           "id": 9,
           "name": "saon",
           "required": false,
           "type": "string"
          },
          {
           "id": 10,
           "name": "street",
           "required": false,
           "type": "string"
          },
          {
           "id": 11,
           "name": "locality",
           "required": false,
           "type": "string"
          },
          {
           "id": 12,
           "name": "town",
           "required": false,
           "type": "string"
          },
          {
           "id": 13,
           "name": "district",
           "required": false,
           "type": "string"
          },
          {
           "id": 14,
           "name": "county",
           "required": false,
           "type": "string"
          },
          {
           "doc": "Indicates the type of Price Paid transaction. A = Standard Price Paid entry, includes single residential property sold for value. B = Additional Price Paid entry including transfers under a power of sale/repossessions, buy-to-lets (where they can be identified by a Mortgage), transfers to non-private individuals and sales where the property type is classed as ‘Other’.",
           "id": 15,
           "name": "ppd_category_type",
           "required": false,
           "type": "string"
          },
          {
           "doc": "Indicates additions, changes and deletions to the records. A = Addition C = Change D = Delete",
           "id": 16,
           "name": "record_status",
           "required": false,
           "type": "string"
          },
          {
           "doc": "The date this row was loaded",
           "id": 17,
           "name": "_dwh_loaded_at",
           "required": false,
           "type": "timestamptz"
          }
         ],
         "identifier-field-ids": [
          1
         ],
         "schema-id": 2,
         "type": "struct"
        },
        {
         "fields": [
          {
           "doc": "A reference number which is generated automatically recording each published sale. The number is unique and will change each time a sale is recorded.",
           "id": 1,
           "name": "transaction_id",
           "required": true,
           "type": "string"
          },
          {
           "doc": "Sale price stated on the transfer deed.",
           "id": 2,
           "name": "price",
           "required": true,
           "type": "int"
          },
          {
           "doc": "Date when the sale was completed, as stated on the transfer deed.",
           "id": 3,
           "name": "date_of_transfer",
           "required": true,
           "type": "date"
          },
          {
           "doc": "This is the postcode used at the time of the original transaction. Note that postcodes can be reallocated and these changes are not reflected in the Price Paid Dataset.",
           "id": 4,
           "name": "postcode",
           "required": true,
           "type": "string"
          },
          {
           "doc": "D = Detached, S = Semi-Detached, T = Terraced, F = Flats/Maisonettes, O = Other",
           "id": 5,
           "name": "property_type",
           "required": true,
           "type": "string"
          },
          {
           "doc": "Indicates the age of the property and applies to all price paid transactions, residential and non-residential. Y = a newly built property, N = an established residential building",
           "id": 6,
           "name": "new_property",
           "required": true,
           "type": "string"
          },
          {
           "doc": "Relates to the tenure: F = Freehold, L= Leasehold etc. Note that HM Land Registry does not record leases of 7 years or less in the Price Paid Dataset.",
           "id": 7,
           "name": "duration",
           "required": true,
           "type": "string"
          },
          {
           "doc": "Primary Addressable Object Name. Typically the house number or name",
           "id": 8,
           "name": "paon",
           "required": false,
           "type": "string"
          },
          {
           "doc": "Secondary Addressable Object Name. Where a property has been divided into separate units (for example, flats), the PAON (above) will identify the building and a SAON will be specified that identifies the separate unit/flat.",
           "id": 9,
           "name": "saon",
           "required": false,
           "type": "string"
          },
          {
           "id": 10,
           "name": "street",
           "required": false,
           "type": "string"
          },
          {
           "id": 11,
           "name": "locality",
           "required": false,
           "type": "string"
          },
          {
           "id": 12,
           "name": "town",
           "required": false,
           "type": "string"
          },
          {
           "id": 13,
           "name": "district",
           "required": false,
           "type": "string"
          },
          {
           "id": 14,
           "name": "county",
           "required": false,
           "type": "string"
          },
          {
           "doc": "Indicates the type of Price Paid transaction. A = Standard Price Paid entry, includes single residential property sold for value. B = Additional Price Paid entry including transfers under a power of sale/repossessions, buy-to-lets (where they can be identified by a Mortgage), transfers to non-private individuals and sales where the property type is classed as ‘Other’.",
           "id": 15,
           "name": "ppd_category_type",
           "required": false,
           "type": "string"
          },
          {
           "doc": "Indicates additions, changes and deletions to the records. A = Addition C = Change D = Delete",
           "id": 16,
           "name": "record_status",
           "required": false,
           "type": "string"
          }
         ],
         "identifier-field-ids": [
          1
         ],
         "schema-id": 0,
         "type": "struct"
        },
        {
         "fields": [
          {
           "doc": "A reference number which is generated automatically recording each published sale. The number is unique and will change each time a sale is recorded.",
           "id": 1,
           "name": "transaction_id",
           "required": true,
           "type": "string"
          },
          {
           "doc": "Sale price stated on the transfer deed.",
           "id": 2,
           "name": "price",
           "required": true,
           "type": "int"
          },
          {
           "doc": "Date when the sale was completed, as stated on the transfer deed.",
           "id": 3,
           "name": "date_of_transfer",
           "required": true,
           "type": "date"
          },
          {
           "doc": "This is the postcode used at the time of the original transaction. Note that postcodes can be reallocated and these changes are not reflected in the Price Paid Dataset.",
           "id": 4,
           "name": "postcode",
           "required": true,
           "type": "string"
          },
          {
           "doc": "D = Detached, S = Semi-Detached, T = Terraced, F = Flats/Maisonettes, O = Other",
           "id": 5,
           "name": "property_type",
           "required": true,
           "type": "string"
          },
          {
           "doc": "Indicates the age of the property and applies to all price paid transactions, residential and non-residential. Y = a newly built property, N = an established residential building",
           "id": 6,
           "name": "new_property",
           "required": true,
           "type": "string"
          },
          {
           "doc": "Relates to the tenure: F = Freehold, L= Leasehold etc. Note that HM Land Registry does not record leases of 7 years or less in the Price Paid Dataset.",
           "id": 7,
           "name": "duration",
           "required": true,
           "type": "string"
          },
          {
           "doc": "Primary Addressable Object Name. Typically the house number or name",
           "id": 8,
           "name": "paon",
           "required": false,
           "type": "string"
          },
          {
           "doc": "Secondary Addressable Object Name. Where a property has been divided into separate units (for example, flats), the PAON (above) will identify the building and a SAON will be specified that identifies the separate unit/flat.",
           "id": 9,
           "name": "saon",
           "required": false,
           "type": "string"
          },
          {
           "id": 10,
           "name": "street",
           "required": false,
           "type": "string"
          },
          {
           "id": 11,
           "name": "locality",
           "required": false,
           "type": "string"
          },
          {
           "id": 12,
           "name": "town",
           "required": false,
           "type": "string"
          },
          {
           "id": 13,
           "name": "district",
           "required": false,
           "type": "string"
          },
          {
           "id": 14,
           "name": "county",
           "required": false,
           "type": "string"
          },
          {
           "doc": "Indicates the type of Price Paid transaction. A = Standard Price Paid entry, includes single residential property sold for value. B = Additional Price Paid entry including transfers under a power of sale/repossessions, buy-to-lets (where they can be identified by a Mortgage), transfers to non-private individuals and sales where the property type is classed as ‘Other’.",
           "id": 15,
           "name": "ppd_category_type",
           "required": false,
           "type": "string"
          },
          {
           "doc": "Indicates additions, changes and deletions to the records. A = Addition C = Change D = Delete",
           "id": 16,
           "name": "record_status",
           "required": false,
           "type": "string"
          },
          {
           "doc": "The date this row was loaded",
           "id": 17,
           "name": "_loaded_at",
           "required": false,
           "type": "timestamptz"
          }
         ],
         "identifier-field-ids": [
          1
         ],
         "schema-id": 1,
         "type": "struct"
        }
       ],
       "snapshot-log": [
        {
         "snapshot-id": 561444497425091100,
         "timestamp-ms": 1748169568248
        },
        {
         "snapshot-id": 6216576064814123000,
         "timestamp-ms": 1748170023208
        },
        {
         "snapshot-id": 7207777689682313000,
         "timestamp-ms": 1748174121465
        },
        {
         "snapshot-id": 6710783448956002000,
         "timestamp-ms": 1748174210468
        }
       ],
       "snapshots": [
        {
         "manifest-list": "s3://warehouse/housing/staging/metadata/snap-561444497425091042-0-3790d544-cd9c-41a9-81f5-7a6f21e33dc5.avro",
         "schema-id": 0,
         "sequence-number": 1,
         "snapshot-id": 561444497425091100,
         "summary": {
          "added-data-files": "1",
          "added-files-size": "15838359",
          "added-records": "704344",
          "operation": "append",
          "total-data-files": "1",
          "total-delete-files": "0",
          "total-equality-deletes": "0",
          "total-files-size": "15838359",
          "total-position-deletes": "0",
          "total-records": "704344"
         },
         "timestamp-ms": 1748169568248
        },
        {
         "manifest-list": "s3://warehouse/housing/staging/metadata/snap-6710783448956002675-1-36d9b024-c953-439b-bea4-6b5773d5592c.avro",
         "parent-snapshot-id": 7207777689682313000,
         "schema-id": 1,
         "sequence-number": 4,
         "snapshot-id": 6710783448956002000,
         "summary": {
          "added-data-files": "1",
          "added-delete-files": "2",
          "added-files-size": "35424009",
          "added-position-delete-files": "2",
          "added-position-deletes": "1546116",
          "added-records": "1546116",
          "changed-partition-count": "1",
          "engine-name": "trino",
          "engine-version": "475",
          "iceberg-version": "Apache Iceberg 1.8.1 (commit 9ce0fcf0af7becf25ad9fc996c3bad2afdcfd33d)",
          "operation": "overwrite",
          "total-data-files": "4",
          "total-delete-files": "2",
          "total-equality-deletes": "0",
          "total-files-size": "94479434",
          "total-position-deletes": "1546116",
          "total-records": "4159531",
          "trino_query_id": "20250525_115644_00011_yhp7d",
          "trino_user": "trino"
         },
         "timestamp-ms": 1748174210468
        },
        {
         "manifest-list": "s3://warehouse/housing/staging/metadata/snap-6216576064814123496-0-3820ca29-5aba-4f8b-bdb5-c86e51d7ded9.avro",
         "parent-snapshot-id": 561444497425091100,
         "schema-id": 0,
         "sequence-number": 2,
         "snapshot-id": 6216576064814123000,
         "summary": {
          "added-data-files": "1",
          "added-files-size": "19093353",
          "added-records": "841772",
          "operation": "append",
          "total-data-files": "2",
          "total-delete-files": "0",
          "total-equality-deletes": "0",
          "total-files-size": "34931712",
          "total-position-deletes": "0",
          "total-records": "1546116"
         },
         "timestamp-ms": 1748170023208
        },
        {
         "manifest-list": "s3://warehouse/housing/staging/metadata/snap-7207777689682313573-0-66725139-1344-460c-b9f3-f3549106310f.avro",
         "parent-snapshot-id": 6216576064814123000,
         "schema-id": 1,
         "sequence-number": 3,
         "snapshot-id": 7207777689682313000,
         "summary": {
          "added-data-files": "1",
          "added-files-size": "24123713",
          "added-records": "1067299",
          "operation": "append",
          "total-data-files": "3",
          "total-delete-files": "0",
          "total-equality-deletes": "0",
          "total-files-size": "59055425",
          "total-position-deletes": "0",
          "total-records": "2613415"
         },
         "timestamp-ms": 1748174121465
        }
       ],
       "sort-orders": [
        {
         "fields": [],
         "order-id": 0
        }
       ],
       "table-uuid": "01970706-21c2-7c71-bb37-cb8475a3b207"
      },
      "text/plain": [
       "<IPython.core.display.JSON object>"
      ]
     },
     "execution_count": 23,
     "metadata": {
      "application/json": {
       "expanded": false,
       "root": "root"
      }
     },
     "output_type": "execute_result"
    }
   ],
   "source": [
    "JSON(get_iceberg_metadata(fs, house_prices_t))"
   ]
  }
 ],
 "metadata": {
  "kernelspec": {
   "display_name": "Python 3 (ipykernel)",
   "language": "python",
   "name": "python3"
  },
  "language_info": {
   "codemirror_mode": {
    "name": "ipython",
    "version": 3
   },
   "file_extension": ".py",
   "mimetype": "text/x-python",
   "name": "python",
   "nbconvert_exporter": "python",
   "pygments_lexer": "ipython3",
   "version": "3.12.10"
  }
 },
 "nbformat": 4,
 "nbformat_minor": 5
}
