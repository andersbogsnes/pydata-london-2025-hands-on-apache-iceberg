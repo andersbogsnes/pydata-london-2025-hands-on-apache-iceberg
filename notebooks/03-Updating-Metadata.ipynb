{
 "cells": [
  {
   "cell_type": "code",
   "execution_count": 20,
   "id": "Hbol",
   "metadata": {},
   "outputs": [],
   "source": [
    "from pyiceberg.catalog.rest import RestCatalog\n",
    "import polars as pl\n",
    "import datetime as dt\n",
    "import sqlalchemy as sa\n",
    "\n",
    "# The functions we defined in the previous notebook are defined in utils.py\n",
    "from utils import get_iceberg_manifest, get_iceberg_manifest_list, get_iceberg_metadata, read_house_prices, get_iceberg_data_file\n",
    "from s3fs import S3FileSystem\n",
    "from IPython.display import JSON"
   ]
  },
  {
   "cell_type": "markdown",
   "id": "MJUe",
   "metadata": {
    "marimo": {
     "config": {
      "hide_code": true
     }
    }
   },
   "source": [
    "# Updating Metadata\n",
    "\n",
    "We've added data to our tables and inspected how Iceberg keeps track of the data in the metadata files\n",
    "\n",
    "Usually when working with data in real life, we make decisions that we regret in six months time. \n",
    "\n",
    "Now that we've added some data, we've found out that we've made a mistake - we should have added a `_loaded_at` column to our data, so that we can differentiate downstream between the source timestamp and our loaded time"
   ]
  },
  {
   "cell_type": "code",
   "execution_count": 42,
   "id": "vblA",
   "metadata": {},
   "outputs": [],
   "source": [
    "# Get a reference to our catalog and table again\n",
    "catalog = RestCatalog(\"lakekeeper\", uri=\"http://lakekeeper:8181/catalog\", warehouse=\"lakehouse\")\n",
    "house_prices_t = catalog.load_table('housing.staging_prices')\n",
    "fs = S3FileSystem(endpoint_url=\"http://minio:9000\", key=\"minio\", secret=\"minio1234\")"
   ]
  },
  {
   "cell_type": "code",
   "execution_count": 22,
   "id": "bkHC",
   "metadata": {},
   "outputs": [
    {
     "data": {
      "text/html": [
       "<div><style>\n",
       ".dataframe > thead > tr,\n",
       ".dataframe > tbody > tr {\n",
       "  text-align: right;\n",
       "  white-space: pre-wrap;\n",
       "}\n",
       "</style>\n",
       "<small>shape: (841_772, 17)</small><table border=\"1\" class=\"dataframe\"><thead><tr><th>transaction_id</th><th>price</th><th>date_of_transfer</th><th>postcode</th><th>property_type</th><th>new_property</th><th>duration</th><th>paon</th><th>saon</th><th>street</th><th>locality</th><th>town</th><th>district</th><th>county</th><th>ppd_category_type</th><th>record_status</th><th>_loaded_at</th></tr><tr><td>str</td><td>i64</td><td>date</td><td>str</td><td>str</td><td>str</td><td>str</td><td>str</td><td>str</td><td>str</td><td>str</td><td>str</td><td>str</td><td>str</td><td>str</td><td>str</td><td>datetime[μs, UTC]</td></tr></thead><tbody><tr><td>&quot;{06C9F487-D94B-9388-E063-4804A…</td><td>330000</td><td>2023-03-20</td><td>&quot;CF14 7BX&quot;</td><td>&quot;T&quot;</td><td>&quot;N&quot;</td><td>&quot;F&quot;</td><td>&quot;32&quot;</td><td>&quot;&quot;</td><td>&quot;HEOL PANT Y CELYN&quot;</td><td>&quot;&quot;</td><td>&quot;CARDIFF&quot;</td><td>&quot;CARDIFF&quot;</td><td>&quot;CARDIFF&quot;</td><td>&quot;A&quot;</td><td>&quot;A&quot;</td><td>2025-05-19 21:09:24.740471 UTC</td></tr><tr><td>&quot;{06C9F487-D94C-9388-E063-4804A…</td><td>269950</td><td>2023-07-25</td><td>&quot;LL28 4SH&quot;</td><td>&quot;D&quot;</td><td>&quot;N&quot;</td><td>&quot;F&quot;</td><td>&quot;7&quot;</td><td>&quot;&quot;</td><td>&quot;MARSTON DRIVE&quot;</td><td>&quot;RHOS ON SEA&quot;</td><td>&quot;COLWYN BAY&quot;</td><td>&quot;CONWY&quot;</td><td>&quot;CONWY&quot;</td><td>&quot;A&quot;</td><td>&quot;A&quot;</td><td>2025-05-19 21:09:24.740471 UTC</td></tr><tr><td>&quot;{06C9F487-D94D-9388-E063-4804A…</td><td>280000</td><td>2023-08-10</td><td>&quot;LL31 9BN&quot;</td><td>&quot;D&quot;</td><td>&quot;N&quot;</td><td>&quot;F&quot;</td><td>&quot;PLAS COLWYN&quot;</td><td>&quot;&quot;</td><td>&quot;LLYS HELYG&quot;</td><td>&quot;DEGANWY&quot;</td><td>&quot;CONWY&quot;</td><td>&quot;CONWY&quot;</td><td>&quot;CONWY&quot;</td><td>&quot;A&quot;</td><td>&quot;A&quot;</td><td>2025-05-19 21:09:24.740471 UTC</td></tr><tr><td>&quot;{06C9F487-D94E-9388-E063-4804A…</td><td>699999</td><td>2023-08-24</td><td>&quot;SA62 6BA&quot;</td><td>&quot;D&quot;</td><td>&quot;N&quot;</td><td>&quot;F&quot;</td><td>&quot;MIDDLE LOCHVANE&quot;</td><td>&quot;&quot;</td><td>&quot;&quot;</td><td>&quot;PEN Y CWM&quot;</td><td>&quot;HAVERFORDWEST&quot;</td><td>&quot;PEMBROKESHIRE&quot;</td><td>&quot;PEMBROKESHIRE&quot;</td><td>&quot;A&quot;</td><td>&quot;A&quot;</td><td>2025-05-19 21:09:24.740471 UTC</td></tr><tr><td>&quot;{06C9F487-D94F-9388-E063-4804A…</td><td>160000</td><td>2023-08-21</td><td>&quot;SY16 1QY&quot;</td><td>&quot;T&quot;</td><td>&quot;N&quot;</td><td>&quot;F&quot;</td><td>&quot;167&quot;</td><td>&quot;&quot;</td><td>&quot;LON DOLAFON&quot;</td><td>&quot;&quot;</td><td>&quot;NEWTOWN&quot;</td><td>&quot;POWYS&quot;</td><td>&quot;POWYS&quot;</td><td>&quot;A&quot;</td><td>&quot;A&quot;</td><td>2025-05-19 21:09:24.740471 UTC</td></tr><tr><td>&hellip;</td><td>&hellip;</td><td>&hellip;</td><td>&hellip;</td><td>&hellip;</td><td>&hellip;</td><td>&hellip;</td><td>&hellip;</td><td>&hellip;</td><td>&hellip;</td><td>&hellip;</td><td>&hellip;</td><td>&hellip;</td><td>&hellip;</td><td>&hellip;</td><td>&hellip;</td><td>&hellip;</td></tr><tr><td>&quot;{01EB45F0-A054-40F3-E063-4704A…</td><td>325000</td><td>2023-07-10</td><td>&quot;TW15 2QU&quot;</td><td>&quot;F&quot;</td><td>&quot;N&quot;</td><td>&quot;L&quot;</td><td>&quot;11A&quot;</td><td>&quot;&quot;</td><td>&quot;CHAUCER ROAD&quot;</td><td>&quot;&quot;</td><td>&quot;ASHFORD&quot;</td><td>&quot;SPELTHORNE&quot;</td><td>&quot;SURREY&quot;</td><td>&quot;B&quot;</td><td>&quot;A&quot;</td><td>2025-05-19 21:09:24.740471 UTC</td></tr><tr><td>&quot;{01EB45F0-A055-40F3-E063-4704A…</td><td>275000</td><td>2023-06-29</td><td>&quot;GU1 1EB&quot;</td><td>&quot;F&quot;</td><td>&quot;N&quot;</td><td>&quot;L&quot;</td><td>&quot;59&quot;</td><td>&quot;&quot;</td><td>&quot;FARADAY ROAD&quot;</td><td>&quot;&quot;</td><td>&quot;GUILDFORD&quot;</td><td>&quot;GUILDFORD&quot;</td><td>&quot;SURREY&quot;</td><td>&quot;B&quot;</td><td>&quot;A&quot;</td><td>2025-05-19 21:09:24.740471 UTC</td></tr><tr><td>&quot;{01EB45F0-A05B-40F3-E063-4704A…</td><td>150000</td><td>2023-07-06</td><td>&quot;GU7 1FP&quot;</td><td>&quot;F&quot;</td><td>&quot;N&quot;</td><td>&quot;L&quot;</td><td>&quot;THORNBROOK HOUSE&quot;</td><td>&quot;FLAT 20&quot;</td><td>&quot;WEYSIDE PARK&quot;</td><td>&quot;&quot;</td><td>&quot;GODALMING&quot;</td><td>&quot;WAVERLEY&quot;</td><td>&quot;SURREY&quot;</td><td>&quot;B&quot;</td><td>&quot;A&quot;</td><td>2025-05-19 21:09:24.740471 UTC</td></tr><tr><td>&quot;{01EB45F0-A05D-40F3-E063-4704A…</td><td>347632</td><td>2023-01-23</td><td>&quot;CR6 9HF&quot;</td><td>&quot;F&quot;</td><td>&quot;N&quot;</td><td>&quot;L&quot;</td><td>&quot;LANGTON HOUSE, 126&quot;</td><td>&quot;FLAT 27&quot;</td><td>&quot;WESTHALL ROAD&quot;</td><td>&quot;&quot;</td><td>&quot;WARLINGHAM&quot;</td><td>&quot;TANDRIDGE&quot;</td><td>&quot;SURREY&quot;</td><td>&quot;B&quot;</td><td>&quot;A&quot;</td><td>2025-05-19 21:09:24.740471 UTC</td></tr><tr><td>&quot;{01EB45F0-A05E-40F3-E063-4704A…</td><td>210000</td><td>2023-07-03</td><td>&quot;GU18 5UE&quot;</td><td>&quot;F&quot;</td><td>&quot;N&quot;</td><td>&quot;L&quot;</td><td>&quot;10&quot;</td><td>&quot;&quot;</td><td>&quot;DENLY WAY&quot;</td><td>&quot;&quot;</td><td>&quot;LIGHTWATER&quot;</td><td>&quot;SURREY HEATH&quot;</td><td>&quot;SURREY&quot;</td><td>&quot;B&quot;</td><td>&quot;A&quot;</td><td>2025-05-19 21:09:24.740471 UTC</td></tr></tbody></table></div>"
      ],
      "text/plain": [
       "shape: (841_772, 17)\n",
       "┌────────────┬────────┬────────────┬──────────┬───┬────────────┬───────────┬───────────┬───────────┐\n",
       "│ transactio ┆ price  ┆ date_of_tr ┆ postcode ┆ … ┆ county     ┆ ppd_categ ┆ record_st ┆ _loaded_a │\n",
       "│ n_id       ┆ ---    ┆ ansfer     ┆ ---      ┆   ┆ ---        ┆ ory_type  ┆ atus      ┆ t         │\n",
       "│ ---        ┆ i64    ┆ ---        ┆ str      ┆   ┆ str        ┆ ---       ┆ ---       ┆ ---       │\n",
       "│ str        ┆        ┆ date       ┆          ┆   ┆            ┆ str       ┆ str       ┆ datetime[ │\n",
       "│            ┆        ┆            ┆          ┆   ┆            ┆           ┆           ┆ μs, UTC]  │\n",
       "╞════════════╪════════╪════════════╪══════════╪═══╪════════════╪═══════════╪═══════════╪═══════════╡\n",
       "│ {06C9F487- ┆ 330000 ┆ 2023-03-20 ┆ CF14 7BX ┆ … ┆ CARDIFF    ┆ A         ┆ A         ┆ 2025-05-1 │\n",
       "│ D94B-9388- ┆        ┆            ┆          ┆   ┆            ┆           ┆           ┆ 9 21:09:2 │\n",
       "│ E063-4804A ┆        ┆            ┆          ┆   ┆            ┆           ┆           ┆ 4.740471  │\n",
       "│ …          ┆        ┆            ┆          ┆   ┆            ┆           ┆           ┆ UTC       │\n",
       "│ {06C9F487- ┆ 269950 ┆ 2023-07-25 ┆ LL28 4SH ┆ … ┆ CONWY      ┆ A         ┆ A         ┆ 2025-05-1 │\n",
       "│ D94C-9388- ┆        ┆            ┆          ┆   ┆            ┆           ┆           ┆ 9 21:09:2 │\n",
       "│ E063-4804A ┆        ┆            ┆          ┆   ┆            ┆           ┆           ┆ 4.740471  │\n",
       "│ …          ┆        ┆            ┆          ┆   ┆            ┆           ┆           ┆ UTC       │\n",
       "│ {06C9F487- ┆ 280000 ┆ 2023-08-10 ┆ LL31 9BN ┆ … ┆ CONWY      ┆ A         ┆ A         ┆ 2025-05-1 │\n",
       "│ D94D-9388- ┆        ┆            ┆          ┆   ┆            ┆           ┆           ┆ 9 21:09:2 │\n",
       "│ E063-4804A ┆        ┆            ┆          ┆   ┆            ┆           ┆           ┆ 4.740471  │\n",
       "│ …          ┆        ┆            ┆          ┆   ┆            ┆           ┆           ┆ UTC       │\n",
       "│ {06C9F487- ┆ 699999 ┆ 2023-08-24 ┆ SA62 6BA ┆ … ┆ PEMBROKESH ┆ A         ┆ A         ┆ 2025-05-1 │\n",
       "│ D94E-9388- ┆        ┆            ┆          ┆   ┆ IRE        ┆           ┆           ┆ 9 21:09:2 │\n",
       "│ E063-4804A ┆        ┆            ┆          ┆   ┆            ┆           ┆           ┆ 4.740471  │\n",
       "│ …          ┆        ┆            ┆          ┆   ┆            ┆           ┆           ┆ UTC       │\n",
       "│ {06C9F487- ┆ 160000 ┆ 2023-08-21 ┆ SY16 1QY ┆ … ┆ POWYS      ┆ A         ┆ A         ┆ 2025-05-1 │\n",
       "│ D94F-9388- ┆        ┆            ┆          ┆   ┆            ┆           ┆           ┆ 9 21:09:2 │\n",
       "│ E063-4804A ┆        ┆            ┆          ┆   ┆            ┆           ┆           ┆ 4.740471  │\n",
       "│ …          ┆        ┆            ┆          ┆   ┆            ┆           ┆           ┆ UTC       │\n",
       "│ …          ┆ …      ┆ …          ┆ …        ┆ … ┆ …          ┆ …         ┆ …         ┆ …         │\n",
       "│ {01EB45F0- ┆ 325000 ┆ 2023-07-10 ┆ TW15 2QU ┆ … ┆ SURREY     ┆ B         ┆ A         ┆ 2025-05-1 │\n",
       "│ A054-40F3- ┆        ┆            ┆          ┆   ┆            ┆           ┆           ┆ 9 21:09:2 │\n",
       "│ E063-4704A ┆        ┆            ┆          ┆   ┆            ┆           ┆           ┆ 4.740471  │\n",
       "│ …          ┆        ┆            ┆          ┆   ┆            ┆           ┆           ┆ UTC       │\n",
       "│ {01EB45F0- ┆ 275000 ┆ 2023-06-29 ┆ GU1 1EB  ┆ … ┆ SURREY     ┆ B         ┆ A         ┆ 2025-05-1 │\n",
       "│ A055-40F3- ┆        ┆            ┆          ┆   ┆            ┆           ┆           ┆ 9 21:09:2 │\n",
       "│ E063-4704A ┆        ┆            ┆          ┆   ┆            ┆           ┆           ┆ 4.740471  │\n",
       "│ …          ┆        ┆            ┆          ┆   ┆            ┆           ┆           ┆ UTC       │\n",
       "│ {01EB45F0- ┆ 150000 ┆ 2023-07-06 ┆ GU7 1FP  ┆ … ┆ SURREY     ┆ B         ┆ A         ┆ 2025-05-1 │\n",
       "│ A05B-40F3- ┆        ┆            ┆          ┆   ┆            ┆           ┆           ┆ 9 21:09:2 │\n",
       "│ E063-4704A ┆        ┆            ┆          ┆   ┆            ┆           ┆           ┆ 4.740471  │\n",
       "│ …          ┆        ┆            ┆          ┆   ┆            ┆           ┆           ┆ UTC       │\n",
       "│ {01EB45F0- ┆ 347632 ┆ 2023-01-23 ┆ CR6 9HF  ┆ … ┆ SURREY     ┆ B         ┆ A         ┆ 2025-05-1 │\n",
       "│ A05D-40F3- ┆        ┆            ┆          ┆   ┆            ┆           ┆           ┆ 9 21:09:2 │\n",
       "│ E063-4704A ┆        ┆            ┆          ┆   ┆            ┆           ┆           ┆ 4.740471  │\n",
       "│ …          ┆        ┆            ┆          ┆   ┆            ┆           ┆           ┆ UTC       │\n",
       "│ {01EB45F0- ┆ 210000 ┆ 2023-07-03 ┆ GU18 5UE ┆ … ┆ SURREY     ┆ B         ┆ A         ┆ 2025-05-1 │\n",
       "│ A05E-40F3- ┆        ┆            ┆          ┆   ┆            ┆           ┆           ┆ 9 21:09:2 │\n",
       "│ E063-4704A ┆        ┆            ┆          ┆   ┆            ┆           ┆           ┆ 4.740471  │\n",
       "│ …          ┆        ┆            ┆          ┆   ┆            ┆           ┆           ┆ UTC       │\n",
       "└────────────┴────────┴────────────┴──────────┴───┴────────────┴───────────┴───────────┴───────────┘"
      ]
     },
     "execution_count": 22,
     "metadata": {},
     "output_type": "execute_result"
    }
   ],
   "source": [
    "timestamp = dt.datetime.now(tz=dt.UTC)\n",
    "house_prices_2022 = read_house_prices(\"data/house_prices/pp-2022.csv\").with_columns(pl.lit(timestamp).alias(\"_loaded_at\"))\n",
    "house_prices_2022"
   ]
  },
  {
   "cell_type": "code",
   "execution_count": 23,
   "id": "lEQa",
   "metadata": {},
   "outputs": [
    {
     "name": "stdout",
     "output_type": "stream",
     "text": [
      "PyArrow table contains more columns: _loaded_at. Update the schema first (hint, use union_by_name).\n"
     ]
    }
   ],
   "source": [
    "try:\n",
    "    house_prices_t.upsert(house_prices_2022.to_arrow())\n",
    "except ValueError as e:\n",
    "    # Print out the error message instead of crashing\n",
    "    print(e.args[0])"
   ]
  },
  {
   "cell_type": "markdown",
   "id": "PKri",
   "metadata": {
    "marimo": {
     "config": {
      "hide_code": true
     }
    }
   },
   "source": [
    "Pyiceberg is preventing us from doing something we shouldn't - Iceberg has a fixed schema, so we can't just add arbitrary columns to it. We need to update the schema to accomodate our new column.\n",
    "\n",
    "```{note}\n",
    "Pyiceberg gives us the ability to do this within a transaction to live up to Iceberg's ACID guarantees.\n",
    "```\n",
    "The new schema is added to the Iceberg metadata in the `schemas` array. Note that each of our snapshots reference the schema at the time the data was written. That way Iceberg can keep track of the schema evolution."
   ]
  },
  {
   "cell_type": "code",
   "execution_count": 24,
   "id": "Xref",
   "metadata": {},
   "outputs": [
    {
     "data": {
      "application/json": {
       "current-schema-id": 1,
       "current-snapshot-id": 5967660870361117000,
       "default-sort-order-id": 0,
       "default-spec-id": 0,
       "format-version": 2,
       "last-column-id": 17,
       "last-partition-id": 999,
       "last-sequence-number": 2,
       "last-updated-ms": 1747688994549,
       "location": "s3://warehouse/housing/staging",
       "metadata-log": [
        {
         "metadata-file": "s3://warehouse/housing/staging/metadata/00000-0196ea31-9521-7dd3-91ed-a5cfb483e5da.gz.metadata.json",
         "timestamp-ms": 1747685840162
        },
        {
         "metadata-file": "s3://warehouse/housing/staging/metadata/00001-0196ea36-62b8-7a00-9db8-d80cbb149565.gz.metadata.json",
         "timestamp-ms": 1747686154277
        },
        {
         "metadata-file": "s3://warehouse/housing/staging/metadata/00002-0196ea49-73fb-7e20-b843-a18d947706a1.gz.metadata.json",
         "timestamp-ms": 1747687404155
        }
       ],
       "partition-specs": [
        {
         "fields": [],
         "spec-id": 0
        }
       ],
       "refs": {
        "main": {
         "snapshot-id": 5967660870361117000,
         "type": "branch"
        }
       },
       "schemas": [
        {
         "fields": [
          {
           "doc": "A reference number which is generated automatically recording each published sale. The number is unique and will change each time a sale is recorded.",
           "id": 1,
           "name": "transaction_id",
           "required": true,
           "type": "string"
          },
          {
           "doc": "Sale price stated on the transfer deed.",
           "id": 2,
           "name": "price",
           "required": true,
           "type": "int"
          },
          {
           "doc": "Date when the sale was completed, as stated on the transfer deed.",
           "id": 3,
           "name": "date_of_transfer",
           "required": true,
           "type": "date"
          },
          {
           "doc": "This is the postcode used at the time of the original transaction. Note that postcodes can be reallocated and these changes are not reflected in the Price Paid Dataset.",
           "id": 4,
           "name": "postcode",
           "required": true,
           "type": "string"
          },
          {
           "doc": "D = Detached, S = Semi-Detached, T = Terraced, F = Flats/Maisonettes, O = Other",
           "id": 5,
           "name": "property_type",
           "required": true,
           "type": "string"
          },
          {
           "doc": "Indicates the age of the property and applies to all price paid transactions, residential and non-residential. Y = a newly built property, N = an established residential building",
           "id": 6,
           "name": "new_property",
           "required": true,
           "type": "string"
          },
          {
           "doc": "Relates to the tenure: F = Freehold, L= Leasehold etc. Note that HM Land Registry does not record leases of 7 years or less in the Price Paid Dataset.",
           "id": 7,
           "name": "duration",
           "required": true,
           "type": "string"
          },
          {
           "doc": "Primary Addressable Object Name. Typically the house number or name",
           "id": 8,
           "name": "paon",
           "required": false,
           "type": "string"
          },
          {
           "doc": "Secondary Addressable Object Name. Where a property has been divided into separate units (for example, flats), the PAON (above) will identify the building and a SAON will be specified that identifies the separate unit/flat.",
           "id": 9,
           "name": "saon",
           "required": false,
           "type": "string"
          },
          {
           "id": 10,
           "name": "street",
           "required": false,
           "type": "string"
          },
          {
           "id": 11,
           "name": "locality",
           "required": false,
           "type": "string"
          },
          {
           "id": 12,
           "name": "town",
           "required": false,
           "type": "string"
          },
          {
           "id": 13,
           "name": "district",
           "required": false,
           "type": "string"
          },
          {
           "id": 14,
           "name": "county",
           "required": false,
           "type": "string"
          },
          {
           "doc": "Indicates the type of Price Paid transaction. A = Standard Price Paid entry, includes single residential property sold for value. B = Additional Price Paid entry including transfers under a power of sale/repossessions, buy-to-lets (where they can be identified by a Mortgage), transfers to non-private individuals and sales where the property type is classed as ‘Other’.",
           "id": 15,
           "name": "ppd_category_type",
           "required": false,
           "type": "string"
          },
          {
           "doc": "Indicates additions, changes and deletions to the records. A = Addition C = Change D = Delete",
           "id": 16,
           "name": "record_status",
           "required": false,
           "type": "string"
          }
         ],
         "identifier-field-ids": [
          1
         ],
         "schema-id": 0,
         "type": "struct"
        },
        {
         "fields": [
          {
           "doc": "A reference number which is generated automatically recording each published sale. The number is unique and will change each time a sale is recorded.",
           "id": 1,
           "name": "transaction_id",
           "required": true,
           "type": "string"
          },
          {
           "doc": "Sale price stated on the transfer deed.",
           "id": 2,
           "name": "price",
           "required": true,
           "type": "int"
          },
          {
           "doc": "Date when the sale was completed, as stated on the transfer deed.",
           "id": 3,
           "name": "date_of_transfer",
           "required": true,
           "type": "date"
          },
          {
           "doc": "This is the postcode used at the time of the original transaction. Note that postcodes can be reallocated and these changes are not reflected in the Price Paid Dataset.",
           "id": 4,
           "name": "postcode",
           "required": true,
           "type": "string"
          },
          {
           "doc": "D = Detached, S = Semi-Detached, T = Terraced, F = Flats/Maisonettes, O = Other",
           "id": 5,
           "name": "property_type",
           "required": true,
           "type": "string"
          },
          {
           "doc": "Indicates the age of the property and applies to all price paid transactions, residential and non-residential. Y = a newly built property, N = an established residential building",
           "id": 6,
           "name": "new_property",
           "required": true,
           "type": "string"
          },
          {
           "doc": "Relates to the tenure: F = Freehold, L= Leasehold etc. Note that HM Land Registry does not record leases of 7 years or less in the Price Paid Dataset.",
           "id": 7,
           "name": "duration",
           "required": true,
           "type": "string"
          },
          {
           "doc": "Primary Addressable Object Name. Typically the house number or name",
           "id": 8,
           "name": "paon",
           "required": false,
           "type": "string"
          },
          {
           "doc": "Secondary Addressable Object Name. Where a property has been divided into separate units (for example, flats), the PAON (above) will identify the building and a SAON will be specified that identifies the separate unit/flat.",
           "id": 9,
           "name": "saon",
           "required": false,
           "type": "string"
          },
          {
           "id": 10,
           "name": "street",
           "required": false,
           "type": "string"
          },
          {
           "id": 11,
           "name": "locality",
           "required": false,
           "type": "string"
          },
          {
           "id": 12,
           "name": "town",
           "required": false,
           "type": "string"
          },
          {
           "id": 13,
           "name": "district",
           "required": false,
           "type": "string"
          },
          {
           "id": 14,
           "name": "county",
           "required": false,
           "type": "string"
          },
          {
           "doc": "Indicates the type of Price Paid transaction. A = Standard Price Paid entry, includes single residential property sold for value. B = Additional Price Paid entry including transfers under a power of sale/repossessions, buy-to-lets (where they can be identified by a Mortgage), transfers to non-private individuals and sales where the property type is classed as ‘Other’.",
           "id": 15,
           "name": "ppd_category_type",
           "required": false,
           "type": "string"
          },
          {
           "doc": "Indicates additions, changes and deletions to the records. A = Addition C = Change D = Delete",
           "id": 16,
           "name": "record_status",
           "required": false,
           "type": "string"
          },
          {
           "doc": "The date this row was loaded",
           "id": 17,
           "name": "_loaded_at",
           "required": false,
           "type": "timestamptz"
          }
         ],
         "identifier-field-ids": [
          1
         ],
         "schema-id": 1,
         "type": "struct"
        }
       ],
       "snapshot-log": [
        {
         "snapshot-id": 8580268702316459000,
         "timestamp-ms": 1747686154277
        },
        {
         "snapshot-id": 5967660870361117000,
         "timestamp-ms": 1747687404155
        }
       ],
       "snapshots": [
        {
         "manifest-list": "s3://warehouse/housing/staging/metadata/snap-5967660870361116733-0-560c7210-3dc4-419e-b423-71a2f5cbf61c.avro",
         "parent-snapshot-id": 8580268702316459000,
         "schema-id": 0,
         "sequence-number": 2,
         "snapshot-id": 5967660870361117000,
         "summary": {
          "added-data-files": "1",
          "added-files-size": "19093290",
          "added-records": "841772",
          "operation": "append",
          "total-data-files": "2",
          "total-delete-files": "0",
          "total-equality-deletes": "0",
          "total-files-size": "34932680",
          "total-position-deletes": "0",
          "total-records": "1546116"
         },
         "timestamp-ms": 1747687404155
        },
        {
         "manifest-list": "s3://warehouse/housing/staging/metadata/snap-8580268702316458514-0-f9ba0a23-01a5-4b0e-94b4-690ee85e28fd.avro",
         "schema-id": 0,
         "sequence-number": 1,
         "snapshot-id": 8580268702316459000,
         "summary": {
          "added-data-files": "1",
          "added-files-size": "15839390",
          "added-records": "704344",
          "operation": "append",
          "total-data-files": "1",
          "total-delete-files": "0",
          "total-equality-deletes": "0",
          "total-files-size": "15839390",
          "total-position-deletes": "0",
          "total-records": "704344"
         },
         "timestamp-ms": 1747686154277
        }
       ],
       "sort-orders": [
        {
         "fields": [],
         "order-id": 0
        }
       ],
       "table-uuid": "0196ea31-951e-7670-b90f-431c26f85b9e"
      },
      "text/plain": [
       "<IPython.core.display.JSON object>"
      ]
     },
     "execution_count": 24,
     "metadata": {
      "application/json": {
       "expanded": false,
       "root": "root"
      }
     },
     "output_type": "execute_result"
    }
   ],
   "source": [
    "from pyiceberg.types import TimestamptzType\n",
    "\n",
    "with house_prices_t.update_schema() as schema:\n",
    "    schema.add_column(\"_loaded_at\", TimestamptzType(), doc=\"The date this row was loaded\")\n",
    "\n",
    "JSON(get_iceberg_metadata(fs, house_prices_t))"
   ]
  },
  {
   "cell_type": "markdown",
   "id": "SFPL",
   "metadata": {},
   "source": [
    "Now we have our `_loaded_at` column as part of the table schema, Iceberg is happy for us to add our data with the new column"
   ]
  },
  {
   "cell_type": "code",
   "execution_count": 25,
   "id": "BYtC",
   "metadata": {},
   "outputs": [],
   "source": [
    "house_prices_t.append(house_prices_2022.to_arrow().cast(house_prices_t.schema().as_arrow()))"
   ]
  },
  {
   "attachments": {},
   "cell_type": "markdown",
   "id": "e4051e2e-f873-4746-8a3e-584011c3c411",
   "metadata": {},
   "source": [
    "What about the data we already added? How would we modify that data? Here we start running into some limitations of a foundational library like `pyiceberg` - we can do it, but wouldn't it be much easier to write an `UPDATE` in SQL and not have to worry about the details?\n",
    "\n",
    "This is the power of Iceberg - we have the ability to switch query engines to suit our usecase - in this case, I want to use Trino to update the data back in time.\n",
    "\n",
    "Let's verify how many nulls we have - the data we just added should have `_loaded_at` filled in, but the rest should be null\n",
    "\n",
    "Trino has a SQLAlchemy dialect built-in to the `trino` python package, so it's straightforward to run some SQL like we're used to"
   ]
  },
  {
   "cell_type": "code",
   "execution_count": 26,
   "id": "Kclp",
   "metadata": {},
   "outputs": [],
   "source": [
    "engine = sa.create_engine(\"trino://trino:@trino:8080/lakekeeper\")"
   ]
  },
  {
   "cell_type": "code",
   "execution_count": 29,
   "id": "emfo",
   "metadata": {},
   "outputs": [
    {
     "data": {
      "text/html": [
       "<div><style>\n",
       ".dataframe > thead > tr,\n",
       ".dataframe > tbody > tr {\n",
       "  text-align: right;\n",
       "  white-space: pre-wrap;\n",
       "}\n",
       "</style>\n",
       "<small>shape: (1, 2)</small><table border=\"1\" class=\"dataframe\"><thead><tr><th>total_rows</th><th>null_count</th></tr><tr><td>i64</td><td>i64</td></tr></thead><tbody><tr><td>2387888</td><td>1546116</td></tr></tbody></table></div>"
      ],
      "text/plain": [
       "shape: (1, 2)\n",
       "┌────────────┬────────────┐\n",
       "│ total_rows ┆ null_count │\n",
       "│ ---        ┆ ---        │\n",
       "│ i64        ┆ i64        │\n",
       "╞════════════╪════════════╡\n",
       "│ 2387888    ┆ 1546116    │\n",
       "└────────────┴────────────┘"
      ]
     },
     "execution_count": 29,
     "metadata": {},
     "output_type": "execute_result"
    }
   ],
   "source": [
    "null_count_sql = \"\"\"\n",
    "SELECT\n",
    "    COUNT(*) as total_rows,\n",
    "    COUNT_IF(_loaded_at IS NULL) as null_count\n",
    "FROM housing.staging_prices\n",
    "    \"\"\"\n",
    "pl.read_database(null_count_sql, engine)"
   ]
  },
  {
   "cell_type": "markdown",
   "id": "e2bb8623-bcbf-4824-9c3d-d27036e19b20",
   "metadata": {},
   "source": [
    "A simple UPDATE in SQL saves us many lines of Python code"
   ]
  },
  {
   "cell_type": "code",
   "execution_count": 31,
   "id": "nWHF",
   "metadata": {},
   "outputs": [
    {
     "name": "stdout",
     "output_type": "stream",
     "text": [
      "(1546116,)\n"
     ]
    }
   ],
   "source": [
    "with engine.connect() as conn:\n",
    "    sql = f\"UPDATE housing.staging_prices SET _loaded_at = from_iso8601_timestamp('{timestamp.isoformat()}') WHERE _loaded_at is null\"\n",
    "    result = conn.execute(sa.text(sql))\n",
    "    print(result.fetchone())"
   ]
  },
  {
   "cell_type": "code",
   "execution_count": 32,
   "id": "iLit",
   "metadata": {},
   "outputs": [
    {
     "data": {
      "text/html": [
       "<div><style>\n",
       ".dataframe > thead > tr,\n",
       ".dataframe > tbody > tr {\n",
       "  text-align: right;\n",
       "  white-space: pre-wrap;\n",
       "}\n",
       "</style>\n",
       "<small>shape: (1, 2)</small><table border=\"1\" class=\"dataframe\"><thead><tr><th>total_rows</th><th>null_count</th></tr><tr><td>i64</td><td>i64</td></tr></thead><tbody><tr><td>2387888</td><td>0</td></tr></tbody></table></div>"
      ],
      "text/plain": [
       "shape: (1, 2)\n",
       "┌────────────┬────────────┐\n",
       "│ total_rows ┆ null_count │\n",
       "│ ---        ┆ ---        │\n",
       "│ i64        ┆ i64        │\n",
       "╞════════════╪════════════╡\n",
       "│ 2387888    ┆ 0          │\n",
       "└────────────┴────────────┘"
      ]
     },
     "execution_count": 32,
     "metadata": {},
     "output_type": "execute_result"
    }
   ],
   "source": [
    "pl.read_database(null_count_sql, engine)"
   ]
  },
  {
   "cell_type": "markdown",
   "id": "ZHCJ",
   "metadata": {},
   "source": [
    "We should now have a new snapshot - let's have a peek"
   ]
  },
  {
   "cell_type": "code",
   "execution_count": 45,
   "id": "ROlb",
   "metadata": {},
   "outputs": [
    {
     "data": {
      "application/json": {
       "current-schema-id": 4,
       "current-snapshot-id": 1606895426754472700,
       "default-sort-order-id": 0,
       "default-spec-id": 0,
       "format-version": 2,
       "last-column-id": 17,
       "last-partition-id": 999,
       "last-sequence-number": 4,
       "last-updated-ms": 1747722234073,
       "location": "s3://warehouse/housing/staging",
       "metadata-log": [
        {
         "metadata-file": "s3://warehouse/housing/staging/metadata/00000-0196ea31-9521-7dd3-91ed-a5cfb483e5da.gz.metadata.json",
         "timestamp-ms": 1747685840162
        },
        {
         "metadata-file": "s3://warehouse/housing/staging/metadata/00001-0196ea36-62b8-7a00-9db8-d80cbb149565.gz.metadata.json",
         "timestamp-ms": 1747686154277
        },
        {
         "metadata-file": "s3://warehouse/housing/staging/metadata/00002-0196ea49-73fb-7e20-b843-a18d947706a1.gz.metadata.json",
         "timestamp-ms": 1747687404155
        },
        {
         "metadata-file": "s3://warehouse/housing/staging/metadata/00003-0196ea61-b6f5-72b2-923a-1936e497f753.gz.metadata.json",
         "timestamp-ms": 1747688994549
        },
        {
         "metadata-file": "s3://warehouse/housing/staging/metadata/00004-0196ea62-6170-7451-9ed9-b0e837226696.gz.metadata.json",
         "timestamp-ms": 1747689037844
        },
        {
         "metadata-file": "s3://warehouse/housing/staging/metadata/00005-0196ea63-8817-7193-b832-55d2a384c1d6.gz.metadata.json",
         "timestamp-ms": 1747689113418
        },
        {
         "metadata-file": "s3://warehouse/housing/staging/metadata/00006-0196ea66-e92d-73e0-8e0e-d79344c1106f.gz.metadata.json",
         "timestamp-ms": 1747689335085
        },
        {
         "metadata-file": "s3://warehouse/housing/staging/metadata/00007-0196ea69-d0a2-7cf2-8456-91ba0e396f32.gz.metadata.json",
         "timestamp-ms": 1747689525410
        }
       ],
       "partition-specs": [
        {
         "fields": [],
         "spec-id": 0
        }
       ],
       "refs": {
        "main": {
         "snapshot-id": 1606895426754472700,
         "type": "branch"
        }
       },
       "schemas": [
        {
         "fields": [
          {
           "doc": "Sale price stated on the transfer deed.",
           "id": 2,
           "name": "price",
           "required": true,
           "type": "int"
          },
          {
           "doc": "A reference number which is generated automatically recording each published sale. The number is unique and will change each time a sale is recorded.",
           "id": 1,
           "name": "transaction_id",
           "required": true,
           "type": "string"
          },
          {
           "doc": "Date when the sale was completed, as stated on the transfer deed.",
           "id": 3,
           "name": "transfer_date",
           "required": true,
           "type": "date"
          },
          {
           "doc": "This is the postcode used at the time of the original transaction. Note that postcodes can be reallocated and these changes are not reflected in the Price Paid Dataset.",
           "id": 4,
           "name": "postcode",
           "required": true,
           "type": "string"
          },
          {
           "doc": "D = Detached, S = Semi-Detached, T = Terraced, F = Flats/Maisonettes, O = Other",
           "id": 5,
           "name": "property_type",
           "required": true,
           "type": "string"
          },
          {
           "doc": "Indicates the age of the property and applies to all price paid transactions, residential and non-residential. Y = a newly built property, N = an established residential building",
           "id": 6,
           "name": "new_property",
           "required": true,
           "type": "string"
          },
          {
           "doc": "Relates to the tenure: F = Freehold, L= Leasehold etc. Note that HM Land Registry does not record leases of 7 years or less in the Price Paid Dataset.",
           "id": 7,
           "name": "duration",
           "required": true,
           "type": "string"
          },
          {
           "doc": "Primary Addressable Object Name. Typically the house number or name",
           "id": 8,
           "name": "paon",
           "required": false,
           "type": "string"
          },
          {
           "doc": "Secondary Addressable Object Name. Where a property has been divided into separate units (for example, flats), the PAON (above) will identify the building and a SAON will be specified that identifies the separate unit/flat.",
           "id": 9,
           "name": "saon",
           "required": false,
           "type": "string"
          },
          {
           "id": 10,
           "name": "street",
           "required": false,
           "type": "string"
          },
          {
           "id": 11,
           "name": "locality",
           "required": false,
           "type": "string"
          },
          {
           "id": 12,
           "name": "town",
           "required": false,
           "type": "string"
          },
          {
           "id": 13,
           "name": "district",
           "required": false,
           "type": "string"
          },
          {
           "id": 14,
           "name": "county",
           "required": false,
           "type": "string"
          },
          {
           "doc": "Indicates the type of Price Paid transaction. A = Standard Price Paid entry, includes single residential property sold for value. B = Additional Price Paid entry including transfers under a power of sale/repossessions, buy-to-lets (where they can be identified by a Mortgage), transfers to non-private individuals and sales where the property type is classed as ‘Other’.",
           "id": 15,
           "name": "ppd_category_type",
           "required": false,
           "type": "string"
          },
          {
           "doc": "Indicates additions, changes and deletions to the records. A = Addition C = Change D = Delete",
           "id": 16,
           "name": "record_status",
           "required": false,
           "type": "string"
          },
          {
           "doc": "The date this row was loaded",
           "id": 17,
           "name": "_loaded_at",
           "required": false,
           "type": "timestamptz"
          }
         ],
         "identifier-field-ids": [
          1
         ],
         "schema-id": 2,
         "type": "struct"
        },
        {
         "fields": [
          {
           "doc": "Sale price stated on the transfer deed.",
           "id": 2,
           "name": "price",
           "required": true,
           "type": "int"
          },
          {
           "doc": "A reference number which is generated automatically recording each published sale. The number is unique and will change each time a sale is recorded.",
           "id": 1,
           "name": "transaction_id",
           "required": true,
           "type": "string"
          },
          {
           "doc": "Date when the sale was completed, as stated on the transfer deed.",
           "id": 3,
           "name": "date_transfer",
           "required": true,
           "type": "date"
          },
          {
           "doc": "This is the postcode used at the time of the original transaction. Note that postcodes can be reallocated and these changes are not reflected in the Price Paid Dataset.",
           "id": 4,
           "name": "postcode",
           "required": true,
           "type": "string"
          },
          {
           "doc": "D = Detached, S = Semi-Detached, T = Terraced, F = Flats/Maisonettes, O = Other",
           "id": 5,
           "name": "property_type",
           "required": true,
           "type": "string"
          },
          {
           "doc": "Indicates the age of the property and applies to all price paid transactions, residential and non-residential. Y = a newly built property, N = an established residential building",
           "id": 6,
           "name": "new_property",
           "required": true,
           "type": "string"
          },
          {
           "doc": "Relates to the tenure: F = Freehold, L= Leasehold etc. Note that HM Land Registry does not record leases of 7 years or less in the Price Paid Dataset.",
           "id": 7,
           "name": "duration",
           "required": true,
           "type": "string"
          },
          {
           "doc": "Primary Addressable Object Name. Typically the house number or name",
           "id": 8,
           "name": "paon",
           "required": false,
           "type": "string"
          },
          {
           "doc": "Secondary Addressable Object Name. Where a property has been divided into separate units (for example, flats), the PAON (above) will identify the building and a SAON will be specified that identifies the separate unit/flat.",
           "id": 9,
           "name": "saon",
           "required": false,
           "type": "string"
          },
          {
           "id": 10,
           "name": "street",
           "required": false,
           "type": "string"
          },
          {
           "id": 11,
           "name": "locality",
           "required": false,
           "type": "string"
          },
          {
           "id": 12,
           "name": "town",
           "required": false,
           "type": "string"
          },
          {
           "id": 13,
           "name": "district",
           "required": false,
           "type": "string"
          },
          {
           "id": 14,
           "name": "county",
           "required": false,
           "type": "string"
          },
          {
           "doc": "Indicates the type of Price Paid transaction. A = Standard Price Paid entry, includes single residential property sold for value. B = Additional Price Paid entry including transfers under a power of sale/repossessions, buy-to-lets (where they can be identified by a Mortgage), transfers to non-private individuals and sales where the property type is classed as ‘Other’.",
           "id": 15,
           "name": "ppd_category_type",
           "required": false,
           "type": "string"
          },
          {
           "doc": "Indicates additions, changes and deletions to the records. A = Addition C = Change D = Delete",
           "id": 16,
           "name": "record_status",
           "required": false,
           "type": "string"
          },
          {
           "doc": "The date this row was loaded",
           "id": 17,
           "name": "_loaded_at",
           "required": false,
           "type": "timestamptz"
          }
         ],
         "identifier-field-ids": [
          1
         ],
         "schema-id": 3,
         "type": "struct"
        },
        {
         "fields": [
          {
           "doc": "Sale price stated on the transfer deed.",
           "id": 2,
           "name": "price",
           "required": true,
           "type": "int"
          },
          {
           "doc": "Date when the sale was completed, as stated on the transfer deed.",
           "id": 3,
           "name": "date_transfer",
           "required": true,
           "type": "date"
          },
          {
           "doc": "A reference number which is generated automatically recording each published sale. The number is unique and will change each time a sale is recorded.",
           "id": 1,
           "name": "transaction_id",
           "required": true,
           "type": "string"
          },
          {
           "doc": "This is the postcode used at the time of the original transaction. Note that postcodes can be reallocated and these changes are not reflected in the Price Paid Dataset.",
           "id": 4,
           "name": "postcode",
           "required": true,
           "type": "string"
          },
          {
           "doc": "D = Detached, S = Semi-Detached, T = Terraced, F = Flats/Maisonettes, O = Other",
           "id": 5,
           "name": "property_type",
           "required": true,
           "type": "string"
          },
          {
           "doc": "Indicates the age of the property and applies to all price paid transactions, residential and non-residential. Y = a newly built property, N = an established residential building",
           "id": 6,
           "name": "new_property",
           "required": true,
           "type": "string"
          },
          {
           "doc": "Relates to the tenure: F = Freehold, L= Leasehold etc. Note that HM Land Registry does not record leases of 7 years or less in the Price Paid Dataset.",
           "id": 7,
           "name": "duration",
           "required": true,
           "type": "string"
          },
          {
           "doc": "Primary Addressable Object Name. Typically the house number or name",
           "id": 8,
           "name": "paon",
           "required": false,
           "type": "string"
          },
          {
           "doc": "Secondary Addressable Object Name. Where a property has been divided into separate units (for example, flats), the PAON (above) will identify the building and a SAON will be specified that identifies the separate unit/flat.",
           "id": 9,
           "name": "saon",
           "required": false,
           "type": "string"
          },
          {
           "id": 10,
           "name": "street",
           "required": false,
           "type": "string"
          },
          {
           "id": 11,
           "name": "locality",
           "required": false,
           "type": "string"
          },
          {
           "id": 12,
           "name": "town",
           "required": false,
           "type": "string"
          },
          {
           "id": 13,
           "name": "district",
           "required": false,
           "type": "string"
          },
          {
           "id": 14,
           "name": "county",
           "required": false,
           "type": "string"
          },
          {
           "doc": "Indicates the type of Price Paid transaction. A = Standard Price Paid entry, includes single residential property sold for value. B = Additional Price Paid entry including transfers under a power of sale/repossessions, buy-to-lets (where they can be identified by a Mortgage), transfers to non-private individuals and sales where the property type is classed as ‘Other’.",
           "id": 15,
           "name": "ppd_category_type",
           "required": false,
           "type": "string"
          },
          {
           "doc": "Indicates additions, changes and deletions to the records. A = Addition C = Change D = Delete",
           "id": 16,
           "name": "record_status",
           "required": false,
           "type": "string"
          },
          {
           "doc": "The date this row was loaded",
           "id": 17,
           "name": "_dwh_loaded_at",
           "required": false,
           "type": "timestamptz"
          }
         ],
         "identifier-field-ids": [
          1
         ],
         "schema-id": 4,
         "type": "struct"
        },
        {
         "fields": [
          {
           "doc": "A reference number which is generated automatically recording each published sale. The number is unique and will change each time a sale is recorded.",
           "id": 1,
           "name": "transaction_id",
           "required": true,
           "type": "string"
          },
          {
           "doc": "Sale price stated on the transfer deed.",
           "id": 2,
           "name": "price",
           "required": true,
           "type": "int"
          },
          {
           "doc": "Date when the sale was completed, as stated on the transfer deed.",
           "id": 3,
           "name": "date_of_transfer",
           "required": true,
           "type": "date"
          },
          {
           "doc": "This is the postcode used at the time of the original transaction. Note that postcodes can be reallocated and these changes are not reflected in the Price Paid Dataset.",
           "id": 4,
           "name": "postcode",
           "required": true,
           "type": "string"
          },
          {
           "doc": "D = Detached, S = Semi-Detached, T = Terraced, F = Flats/Maisonettes, O = Other",
           "id": 5,
           "name": "property_type",
           "required": true,
           "type": "string"
          },
          {
           "doc": "Indicates the age of the property and applies to all price paid transactions, residential and non-residential. Y = a newly built property, N = an established residential building",
           "id": 6,
           "name": "new_property",
           "required": true,
           "type": "string"
          },
          {
           "doc": "Relates to the tenure: F = Freehold, L= Leasehold etc. Note that HM Land Registry does not record leases of 7 years or less in the Price Paid Dataset.",
           "id": 7,
           "name": "duration",
           "required": true,
           "type": "string"
          },
          {
           "doc": "Primary Addressable Object Name. Typically the house number or name",
           "id": 8,
           "name": "paon",
           "required": false,
           "type": "string"
          },
          {
           "doc": "Secondary Addressable Object Name. Where a property has been divided into separate units (for example, flats), the PAON (above) will identify the building and a SAON will be specified that identifies the separate unit/flat.",
           "id": 9,
           "name": "saon",
           "required": false,
           "type": "string"
          },
          {
           "id": 10,
           "name": "street",
           "required": false,
           "type": "string"
          },
          {
           "id": 11,
           "name": "locality",
           "required": false,
           "type": "string"
          },
          {
           "id": 12,
           "name": "town",
           "required": false,
           "type": "string"
          },
          {
           "id": 13,
           "name": "district",
           "required": false,
           "type": "string"
          },
          {
           "id": 14,
           "name": "county",
           "required": false,
           "type": "string"
          },
          {
           "doc": "Indicates the type of Price Paid transaction. A = Standard Price Paid entry, includes single residential property sold for value. B = Additional Price Paid entry including transfers under a power of sale/repossessions, buy-to-lets (where they can be identified by a Mortgage), transfers to non-private individuals and sales where the property type is classed as ‘Other’.",
           "id": 15,
           "name": "ppd_category_type",
           "required": false,
           "type": "string"
          },
          {
           "doc": "Indicates additions, changes and deletions to the records. A = Addition C = Change D = Delete",
           "id": 16,
           "name": "record_status",
           "required": false,
           "type": "string"
          }
         ],
         "identifier-field-ids": [
          1
         ],
         "schema-id": 0,
         "type": "struct"
        },
        {
         "fields": [
          {
           "doc": "A reference number which is generated automatically recording each published sale. The number is unique and will change each time a sale is recorded.",
           "id": 1,
           "name": "transaction_id",
           "required": true,
           "type": "string"
          },
          {
           "doc": "Sale price stated on the transfer deed.",
           "id": 2,
           "name": "price",
           "required": true,
           "type": "int"
          },
          {
           "doc": "Date when the sale was completed, as stated on the transfer deed.",
           "id": 3,
           "name": "date_of_transfer",
           "required": true,
           "type": "date"
          },
          {
           "doc": "This is the postcode used at the time of the original transaction. Note that postcodes can be reallocated and these changes are not reflected in the Price Paid Dataset.",
           "id": 4,
           "name": "postcode",
           "required": true,
           "type": "string"
          },
          {
           "doc": "D = Detached, S = Semi-Detached, T = Terraced, F = Flats/Maisonettes, O = Other",
           "id": 5,
           "name": "property_type",
           "required": true,
           "type": "string"
          },
          {
           "doc": "Indicates the age of the property and applies to all price paid transactions, residential and non-residential. Y = a newly built property, N = an established residential building",
           "id": 6,
           "name": "new_property",
           "required": true,
           "type": "string"
          },
          {
           "doc": "Relates to the tenure: F = Freehold, L= Leasehold etc. Note that HM Land Registry does not record leases of 7 years or less in the Price Paid Dataset.",
           "id": 7,
           "name": "duration",
           "required": true,
           "type": "string"
          },
          {
           "doc": "Primary Addressable Object Name. Typically the house number or name",
           "id": 8,
           "name": "paon",
           "required": false,
           "type": "string"
          },
          {
           "doc": "Secondary Addressable Object Name. Where a property has been divided into separate units (for example, flats), the PAON (above) will identify the building and a SAON will be specified that identifies the separate unit/flat.",
           "id": 9,
           "name": "saon",
           "required": false,
           "type": "string"
          },
          {
           "id": 10,
           "name": "street",
           "required": false,
           "type": "string"
          },
          {
           "id": 11,
           "name": "locality",
           "required": false,
           "type": "string"
          },
          {
           "id": 12,
           "name": "town",
           "required": false,
           "type": "string"
          },
          {
           "id": 13,
           "name": "district",
           "required": false,
           "type": "string"
          },
          {
           "id": 14,
           "name": "county",
           "required": false,
           "type": "string"
          },
          {
           "doc": "Indicates the type of Price Paid transaction. A = Standard Price Paid entry, includes single residential property sold for value. B = Additional Price Paid entry including transfers under a power of sale/repossessions, buy-to-lets (where they can be identified by a Mortgage), transfers to non-private individuals and sales where the property type is classed as ‘Other’.",
           "id": 15,
           "name": "ppd_category_type",
           "required": false,
           "type": "string"
          },
          {
           "doc": "Indicates additions, changes and deletions to the records. A = Addition C = Change D = Delete",
           "id": 16,
           "name": "record_status",
           "required": false,
           "type": "string"
          },
          {
           "doc": "The date this row was loaded",
           "id": 17,
           "name": "_loaded_at",
           "required": false,
           "type": "timestamptz"
          }
         ],
         "identifier-field-ids": [
          1
         ],
         "schema-id": 1,
         "type": "struct"
        }
       ],
       "snapshot-log": [
        {
         "snapshot-id": 8580268702316459000,
         "timestamp-ms": 1747686154277
        },
        {
         "snapshot-id": 5967660870361117000,
         "timestamp-ms": 1747687404155
        },
        {
         "snapshot-id": 3231086783972264400,
         "timestamp-ms": 1747689037844
        },
        {
         "snapshot-id": 1606895426754472700,
         "timestamp-ms": 1747689113418
        }
       ],
       "snapshots": [
        {
         "manifest-list": "s3://warehouse/housing/staging/metadata/snap-3231086783972264595-0-61857172-dde5-47b2-b934-5c05eb784d96.avro",
         "parent-snapshot-id": 5967660870361117000,
         "schema-id": 1,
         "sequence-number": 3,
         "snapshot-id": 3231086783972264400,
         "summary": {
          "added-data-files": "1",
          "added-files-size": "19093812",
          "added-records": "841772",
          "operation": "append",
          "total-data-files": "3",
          "total-delete-files": "0",
          "total-equality-deletes": "0",
          "total-files-size": "54026492",
          "total-position-deletes": "0",
          "total-records": "2387888"
         },
         "timestamp-ms": 1747689037844
        },
        {
         "manifest-list": "s3://warehouse/housing/staging/metadata/snap-1606895426754472649-1-48c405aa-d41b-4cd6-af28-eaf53ee26e7e.avro",
         "parent-snapshot-id": 3231086783972264400,
         "schema-id": 1,
         "sequence-number": 4,
         "snapshot-id": 1606895426754472700,
         "summary": {
          "added-data-files": "1",
          "added-delete-files": "2",
          "added-files-size": "35424561",
          "added-position-delete-files": "2",
          "added-position-deletes": "1546116",
          "added-records": "1546116",
          "changed-partition-count": "1",
          "engine-name": "trino",
          "engine-version": "475",
          "iceberg-version": "Apache Iceberg 1.8.1 (commit 9ce0fcf0af7becf25ad9fc996c3bad2afdcfd33d)",
          "operation": "overwrite",
          "total-data-files": "4",
          "total-delete-files": "2",
          "total-equality-deletes": "0",
          "total-files-size": "89451053",
          "total-position-deletes": "1546116",
          "total-records": "3934004",
          "trino_query_id": "20250511_235654_00385_zzkr2",
          "trino_user": "trino"
         },
         "timestamp-ms": 1747689113418
        },
        {
         "manifest-list": "s3://warehouse/housing/staging/metadata/snap-8580268702316458514-0-f9ba0a23-01a5-4b0e-94b4-690ee85e28fd.avro",
         "schema-id": 0,
         "sequence-number": 1,
         "snapshot-id": 8580268702316459000,
         "summary": {
          "added-data-files": "1",
          "added-files-size": "15839390",
          "added-records": "704344",
          "operation": "append",
          "total-data-files": "1",
          "total-delete-files": "0",
          "total-equality-deletes": "0",
          "total-files-size": "15839390",
          "total-position-deletes": "0",
          "total-records": "704344"
         },
         "timestamp-ms": 1747686154277
        },
        {
         "manifest-list": "s3://warehouse/housing/staging/metadata/snap-5967660870361116733-0-560c7210-3dc4-419e-b423-71a2f5cbf61c.avro",
         "parent-snapshot-id": 8580268702316459000,
         "schema-id": 0,
         "sequence-number": 2,
         "snapshot-id": 5967660870361117000,
         "summary": {
          "added-data-files": "1",
          "added-files-size": "19093290",
          "added-records": "841772",
          "operation": "append",
          "total-data-files": "2",
          "total-delete-files": "0",
          "total-equality-deletes": "0",
          "total-files-size": "34932680",
          "total-position-deletes": "0",
          "total-records": "1546116"
         },
         "timestamp-ms": 1747687404155
        }
       ],
       "sort-orders": [
        {
         "fields": [],
         "order-id": 0
        }
       ],
       "table-uuid": "0196ea31-951e-7670-b90f-431c26f85b9e"
      },
      "text/plain": [
       "<IPython.core.display.JSON object>"
      ]
     },
     "execution_count": 45,
     "metadata": {
      "application/json": {
       "expanded": false,
       "root": "root"
      }
     },
     "output_type": "execute_result"
    }
   ],
   "source": [
    "JSON(get_iceberg_metadata(fs, house_prices_t))"
   ]
  },
  {
   "cell_type": "markdown",
   "id": "qnkX",
   "metadata": {},
   "source": [
    "## Deletes\n",
    "\n",
    "We have a new operation `overwrite` - Parquet is immutable, so we have to physically write out a new file and delete the old one. That is expensive, so Iceberg uses delete files to avoid having to up-front do the work of actually deleting data.\n",
    "\n",
    "In Iceberg V2, there are positional-deletes and equality-deletes. These are both represented by a new delete file, which is just a parquet file which specifies rows to mark as deleted, either by a filter like `transaction_id = '{045A1898-4ABF-9A24-E063-4804A8C048EA}'` or by position, like in this example\n",
    "\n",
    "```{code} parquet\n",
    ":filename: some_random_id.parquet\n",
    "file_path,pos\n",
    "s3://warehouse/house_prices/raw/data/00000-0-0ab09c23-d71c-4686-968a-f5ebd7b2e32a.parquet,0\n",
    "s3://warehouse/house_prices/raw/data/00000-0-0ab09c23-d71c-4686-968a-f5ebd7b2e32a.parquet,1\n",
    "s3://warehouse/house_prices/raw/data/00000-0-0ab09c23-d71c-4686-968a-f5ebd7b2e32a.parquet,2\n",
    "s3://warehouse/house_prices/raw/data/00000-0-0ab09c23-d71c-4686-968a-f5ebd7b2e32a.parquet,3\n",
    "```\n",
    "\n",
    "```{warning} Deprecation Warning\n",
    "Positional deletes will be replaced by deletion vectors in Iceberg V3\n",
    "```"
   ]
  },
  {
   "cell_type": "code",
   "execution_count": 43,
   "id": "02dde4ab-043e-482e-b3b5-8dbdfaed993f",
   "metadata": {},
   "outputs": [
    {
     "name": "stderr",
     "output_type": "stream",
     "text": [
      "/usr/local/lib/python3.12/site-packages/pyiceberg/avro/decoder.py:185: UserWarning: Falling back to pure Python Avro decoder, missing Cython implementation\n",
      "  warnings.warn(\"Falling back to pure Python Avro decoder, missing Cython implementation\")\n"
     ]
    },
    {
     "data": {
      "text/html": [
       "<div><style>\n",
       ".dataframe > thead > tr,\n",
       ".dataframe > tbody > tr {\n",
       "  text-align: right;\n",
       "  white-space: pre-wrap;\n",
       "}\n",
       "</style>\n",
       "<small>shape: (704_344, 2)</small><table border=\"1\" class=\"dataframe\"><thead><tr><th>file_path</th><th>pos</th></tr><tr><td>str</td><td>i64</td></tr></thead><tbody><tr><td>&quot;s3://warehouse/housing/staging…</td><td>0</td></tr><tr><td>&quot;s3://warehouse/housing/staging…</td><td>1</td></tr><tr><td>&quot;s3://warehouse/housing/staging…</td><td>2</td></tr><tr><td>&quot;s3://warehouse/housing/staging…</td><td>3</td></tr><tr><td>&quot;s3://warehouse/housing/staging…</td><td>4</td></tr><tr><td>&hellip;</td><td>&hellip;</td></tr><tr><td>&quot;s3://warehouse/housing/staging…</td><td>704339</td></tr><tr><td>&quot;s3://warehouse/housing/staging…</td><td>704340</td></tr><tr><td>&quot;s3://warehouse/housing/staging…</td><td>704341</td></tr><tr><td>&quot;s3://warehouse/housing/staging…</td><td>704342</td></tr><tr><td>&quot;s3://warehouse/housing/staging…</td><td>704343</td></tr></tbody></table></div>"
      ],
      "text/plain": [
       "shape: (704_344, 2)\n",
       "┌─────────────────────────────────┬────────┐\n",
       "│ file_path                       ┆ pos    │\n",
       "│ ---                             ┆ ---    │\n",
       "│ str                             ┆ i64    │\n",
       "╞═════════════════════════════════╪════════╡\n",
       "│ s3://warehouse/housing/staging… ┆ 0      │\n",
       "│ s3://warehouse/housing/staging… ┆ 1      │\n",
       "│ s3://warehouse/housing/staging… ┆ 2      │\n",
       "│ s3://warehouse/housing/staging… ┆ 3      │\n",
       "│ s3://warehouse/housing/staging… ┆ 4      │\n",
       "│ …                               ┆ …      │\n",
       "│ s3://warehouse/housing/staging… ┆ 704339 │\n",
       "│ s3://warehouse/housing/staging… ┆ 704340 │\n",
       "│ s3://warehouse/housing/staging… ┆ 704341 │\n",
       "│ s3://warehouse/housing/staging… ┆ 704342 │\n",
       "│ s3://warehouse/housing/staging… ┆ 704343 │\n",
       "└─────────────────────────────────┴────────┘"
      ]
     },
     "execution_count": 43,
     "metadata": {},
     "output_type": "execute_result"
    }
   ],
   "source": [
    "delete_file = pl.from_arrow(house_prices_t.inspect.delete_files()).select(pl.col('file_path')).item(0, 0)\n",
    "pl.read_parquet(fs.read_bytes(delete_file))"
   ]
  },
  {
   "cell_type": "markdown",
   "id": "5116c42a-ddaa-4800-a8b3-8fb69f3d4711",
   "metadata": {},
   "source": [
    "# Renaming and moving columns\n",
    "\n",
    "Iceberg implements all column references use the `field_id`. This makes it trivial to rename a column, since we just have to update the metadata of the schema. Imagine our style guide is updated and now all metadata fields such as our `_loaded_at` should now be prefixed with `dwh` to make it clear who did the load. Now that we have some hands-on user feedback, we also want to move `transfer_date` to be the first column since we're often visually exploring date ranges.\n",
    "\n",
    "We can also show off transactions - everything we've done until now has actually been done inside a transaction. We can explicitly open a transaction to perform multiple operations inside a single transaction. This includes deleting and adding files, but for now we'll just make our changes\n",
    "\n"
   ]
  },
  {
   "cell_type": "code",
   "execution_count": 44,
   "id": "fa8b6bec-2d12-4b62-b9c8-207552e6d6c6",
   "metadata": {},
   "outputs": [],
   "source": [
    "with house_prices_t.transaction() as transaction:\n",
    "    with transaction.update_schema() as update:\n",
    "        update.rename_column(\"_loaded_at\", \"_dwh_loaded_at\")\n",
    "        update.move_first(\"date_of_transfer\")\n"
   ]
  },
  {
   "cell_type": "code",
   "execution_count": null,
   "id": "42656e93-c6e3-4fb4-936b-d1d3d5113d85",
   "metadata": {},
   "outputs": [],
   "source": []
  }
 ],
 "metadata": {
  "kernelspec": {
   "display_name": "Python 3 (ipykernel)",
   "language": "python",
   "name": "python3"
  },
  "language_info": {
   "codemirror_mode": {
    "name": "ipython",
    "version": 3
   },
   "file_extension": ".py",
   "mimetype": "text/x-python",
   "name": "python",
   "nbconvert_exporter": "python",
   "pygments_lexer": "ipython3",
   "version": "3.12.10"
  }
 },
 "nbformat": 4,
 "nbformat_minor": 5
}
