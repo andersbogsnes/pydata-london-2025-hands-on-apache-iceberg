{
 "cells": [
  {
   "cell_type": "code",
   "execution_count": 1,
   "id": "Hbol",
   "metadata": {},
   "outputs": [],
   "source": [
    "from pyiceberg.catalog.rest import RestCatalog\n",
    "import polars as pl\n",
    "import datetime as dt\n",
    "import sqlalchemy as sa\n",
    "\n",
    "# The functions we defined in the previous notebook are defined in utils.py\n",
    "from utils import get_iceberg_manifest, get_iceberg_manifest_list, get_iceberg_metadata, read_house_prices\n",
    "from s3fs import S3FileSystem\n",
    "from IPython.display import JSON"
   ]
  },
  {
   "cell_type": "markdown",
   "id": "MJUe",
   "metadata": {
    "marimo": {
     "config": {
      "hide_code": true
     }
    }
   },
   "source": [
    "# Updating Metadata\n",
    "\n",
    "We've added data to our tables and inspected how Iceberg keeps track of the data in the metadata files\n",
    "\n",
    "Usually when working with data in real life, we make decisions that we regret in six months time. \n",
    "\n",
    "Now that we've added some data, we've found out that we've made a mistake - we should have added a `_loaded_at` column to our data, so that we can differentiate downstream between the source timestamp and our loaded time"
   ]
  },
  {
   "cell_type": "code",
   "execution_count": 2,
   "id": "vblA",
   "metadata": {},
   "outputs": [],
   "source": [
    "# Get a reference to our catalog and table again\n",
    "catalog = RestCatalog(\"lakekeeper\", uri=\"http://lakekeeper:8181/catalog\", warehouse=\"lakehouse\")\n",
    "house_prices = catalog.load_table('house_prices.raw')\n",
    "fs = S3FileSystem(endpoint_url=\"http://minio:9000\", key=\"minio\", secret=\"minio1234\")"
   ]
  },
  {
   "cell_type": "code",
   "execution_count": 3,
   "id": "bkHC",
   "metadata": {},
   "outputs": [
    {
     "data": {
      "text/html": [
       "<div><style>\n",
       ".dataframe > thead > tr,\n",
       ".dataframe > tbody > tr {\n",
       "  text-align: right;\n",
       "  white-space: pre-wrap;\n",
       "}\n",
       "</style>\n",
       "<small>shape: (1_067_299, 17)</small><table border=\"1\" class=\"dataframe\"><thead><tr><th>transaction_id</th><th>price</th><th>date_of_transfer</th><th>postcode</th><th>property_type</th><th>new_property</th><th>duration</th><th>paon</th><th>saon</th><th>street</th><th>locality</th><th>town</th><th>district</th><th>county</th><th>ppd_category_type</th><th>record_status</th><th>_loaded_at</th></tr><tr><td>str</td><td>i64</td><td>date</td><td>str</td><td>str</td><td>str</td><td>str</td><td>str</td><td>str</td><td>str</td><td>str</td><td>str</td><td>str</td><td>str</td><td>str</td><td>str</td><td>datetime[μs, UTC]</td></tr></thead><tbody><tr><td>&quot;{045A1898-4ABF-9A24-E063-4804A…</td><td>407400</td><td>2022-04-28</td><td>&quot;LU7 3FZ&quot;</td><td>&quot;S&quot;</td><td>&quot;Y&quot;</td><td>&quot;F&quot;</td><td>&quot;68&quot;</td><td>&quot;&quot;</td><td>&quot;RAMSAY DRIVE&quot;</td><td>&quot;&quot;</td><td>&quot;LEIGHTON BUZZARD&quot;</td><td>&quot;CENTRAL BEDFORDSHIRE&quot;</td><td>&quot;CENTRAL BEDFORDSHIRE&quot;</td><td>&quot;A&quot;</td><td>&quot;A&quot;</td><td>2025-05-05 20:37:18.144898 UTC</td></tr><tr><td>&quot;{045A1898-4AC1-9A24-E063-4804A…</td><td>357000</td><td>2022-05-27</td><td>&quot;LU7 3QS&quot;</td><td>&quot;S&quot;</td><td>&quot;Y&quot;</td><td>&quot;F&quot;</td><td>&quot;44&quot;</td><td>&quot;&quot;</td><td>&quot;CHADWICK CRESCENT&quot;</td><td>&quot;&quot;</td><td>&quot;LEIGHTON BUZZARD&quot;</td><td>&quot;CENTRAL BEDFORDSHIRE&quot;</td><td>&quot;CENTRAL BEDFORDSHIRE&quot;</td><td>&quot;A&quot;</td><td>&quot;A&quot;</td><td>2025-05-05 20:37:18.144898 UTC</td></tr><tr><td>&quot;{045A1898-4AC2-9A24-E063-4804A…</td><td>372950</td><td>2022-04-28</td><td>&quot;LU5 6TD&quot;</td><td>&quot;S&quot;</td><td>&quot;Y&quot;</td><td>&quot;F&quot;</td><td>&quot;11&quot;</td><td>&quot;&quot;</td><td>&quot;SKYE GARDENS&quot;</td><td>&quot;HOUGHTON REGIS&quot;</td><td>&quot;DUNSTABLE&quot;</td><td>&quot;CENTRAL BEDFORDSHIRE&quot;</td><td>&quot;CENTRAL BEDFORDSHIRE&quot;</td><td>&quot;A&quot;</td><td>&quot;A&quot;</td><td>2025-05-05 20:37:18.144898 UTC</td></tr><tr><td>&quot;{045A1898-4AC4-9A24-E063-4804A…</td><td>570000</td><td>2022-05-31</td><td>&quot;SG18 9RF&quot;</td><td>&quot;D&quot;</td><td>&quot;Y&quot;</td><td>&quot;F&quot;</td><td>&quot;8&quot;</td><td>&quot;&quot;</td><td>&quot;HARVEST MOUSE PLACE&quot;</td><td>&quot;LANGFORD&quot;</td><td>&quot;BIGGLESWADE&quot;</td><td>&quot;CENTRAL BEDFORDSHIRE&quot;</td><td>&quot;CENTRAL BEDFORDSHIRE&quot;</td><td>&quot;A&quot;</td><td>&quot;A&quot;</td><td>2025-05-05 20:37:18.144898 UTC</td></tr><tr><td>&quot;{045A1898-4AC5-9A24-E063-4804A…</td><td>570000</td><td>2022-05-27</td><td>&quot;LU7 3QS&quot;</td><td>&quot;D&quot;</td><td>&quot;Y&quot;</td><td>&quot;F&quot;</td><td>&quot;42&quot;</td><td>&quot;&quot;</td><td>&quot;CHADWICK CRESCENT&quot;</td><td>&quot;&quot;</td><td>&quot;LEIGHTON BUZZARD&quot;</td><td>&quot;CENTRAL BEDFORDSHIRE&quot;</td><td>&quot;CENTRAL BEDFORDSHIRE&quot;</td><td>&quot;A&quot;</td><td>&quot;A&quot;</td><td>2025-05-05 20:37:18.144898 UTC</td></tr><tr><td>&hellip;</td><td>&hellip;</td><td>&hellip;</td><td>&hellip;</td><td>&hellip;</td><td>&hellip;</td><td>&hellip;</td><td>&hellip;</td><td>&hellip;</td><td>&hellip;</td><td>&hellip;</td><td>&hellip;</td><td>&hellip;</td><td>&hellip;</td><td>&hellip;</td><td>&hellip;</td><td>&hellip;</td></tr><tr><td>&quot;{E2D14905-55E3-4C2D-E053-6B04A…</td><td>432000</td><td>2022-05-20</td><td>&quot;RM9 5UL&quot;</td><td>&quot;T&quot;</td><td>&quot;N&quot;</td><td>&quot;F&quot;</td><td>&quot;59&quot;</td><td>&quot;&quot;</td><td>&quot;CONNOR ROAD&quot;</td><td>&quot;&quot;</td><td>&quot;DAGENHAM&quot;</td><td>&quot;BARKING AND DAGENHAM&quot;</td><td>&quot;GREATER LONDON&quot;</td><td>&quot;A&quot;</td><td>&quot;A&quot;</td><td>2025-05-05 20:37:18.144898 UTC</td></tr><tr><td>&quot;{E2D14905-55E4-4C2D-E053-6B04A…</td><td>510000</td><td>2022-04-29</td><td>&quot;E4 8PH&quot;</td><td>&quot;T&quot;</td><td>&quot;N&quot;</td><td>&quot;F&quot;</td><td>&quot;27&quot;</td><td>&quot;&quot;</td><td>&quot;SINCLAIR ROAD&quot;</td><td>&quot;&quot;</td><td>&quot;LONDON&quot;</td><td>&quot;WALTHAM FOREST&quot;</td><td>&quot;GREATER LONDON&quot;</td><td>&quot;A&quot;</td><td>&quot;A&quot;</td><td>2025-05-05 20:37:18.144898 UTC</td></tr><tr><td>&quot;{E2D14905-55E5-4C2D-E053-6B04A…</td><td>635000</td><td>2022-05-23</td><td>&quot;E17 4PN&quot;</td><td>&quot;T&quot;</td><td>&quot;N&quot;</td><td>&quot;F&quot;</td><td>&quot;133&quot;</td><td>&quot;&quot;</td><td>&quot;CHINGFORD ROAD&quot;</td><td>&quot;&quot;</td><td>&quot;LONDON&quot;</td><td>&quot;WALTHAM FOREST&quot;</td><td>&quot;GREATER LONDON&quot;</td><td>&quot;A&quot;</td><td>&quot;A&quot;</td><td>2025-05-05 20:37:18.144898 UTC</td></tr><tr><td>&quot;{E2D14905-55E6-4C2D-E053-6B04A…</td><td>895000</td><td>2022-04-01</td><td>&quot;IG8 9EH&quot;</td><td>&quot;T&quot;</td><td>&quot;N&quot;</td><td>&quot;F&quot;</td><td>&quot;35&quot;</td><td>&quot;&quot;</td><td>&quot;ST ALBANS CRESCENT&quot;</td><td>&quot;&quot;</td><td>&quot;WOODFORD GREEN&quot;</td><td>&quot;REDBRIDGE&quot;</td><td>&quot;GREATER LONDON&quot;</td><td>&quot;A&quot;</td><td>&quot;A&quot;</td><td>2025-05-05 20:37:18.144898 UTC</td></tr><tr><td>&quot;{E2D14905-55E7-4C2D-E053-6B04A…</td><td>250000</td><td>2022-03-18</td><td>&quot;E4 8QR&quot;</td><td>&quot;F&quot;</td><td>&quot;N&quot;</td><td>&quot;L&quot;</td><td>&quot;MORLEY COURT&quot;</td><td>&quot;FLAT 8&quot;</td><td>&quot;SINCLAIR ROAD&quot;</td><td>&quot;&quot;</td><td>&quot;LONDON&quot;</td><td>&quot;WALTHAM FOREST&quot;</td><td>&quot;GREATER LONDON&quot;</td><td>&quot;A&quot;</td><td>&quot;A&quot;</td><td>2025-05-05 20:37:18.144898 UTC</td></tr></tbody></table></div>"
      ],
      "text/plain": [
       "shape: (1_067_299, 17)\n",
       "┌────────────┬────────┬────────────┬──────────┬───┬────────────┬───────────┬───────────┬───────────┐\n",
       "│ transactio ┆ price  ┆ date_of_tr ┆ postcode ┆ … ┆ county     ┆ ppd_categ ┆ record_st ┆ _loaded_a │\n",
       "│ n_id       ┆ ---    ┆ ansfer     ┆ ---      ┆   ┆ ---        ┆ ory_type  ┆ atus      ┆ t         │\n",
       "│ ---        ┆ i64    ┆ ---        ┆ str      ┆   ┆ str        ┆ ---       ┆ ---       ┆ ---       │\n",
       "│ str        ┆        ┆ date       ┆          ┆   ┆            ┆ str       ┆ str       ┆ datetime[ │\n",
       "│            ┆        ┆            ┆          ┆   ┆            ┆           ┆           ┆ μs, UTC]  │\n",
       "╞════════════╪════════╪════════════╪══════════╪═══╪════════════╪═══════════╪═══════════╪═══════════╡\n",
       "│ {045A1898- ┆ 407400 ┆ 2022-04-28 ┆ LU7 3FZ  ┆ … ┆ CENTRAL    ┆ A         ┆ A         ┆ 2025-05-0 │\n",
       "│ 4ABF-9A24- ┆        ┆            ┆          ┆   ┆ BEDFORDSHI ┆           ┆           ┆ 5 20:37:1 │\n",
       "│ E063-4804A ┆        ┆            ┆          ┆   ┆ RE         ┆           ┆           ┆ 8.144898  │\n",
       "│ …          ┆        ┆            ┆          ┆   ┆            ┆           ┆           ┆ UTC       │\n",
       "│ {045A1898- ┆ 357000 ┆ 2022-05-27 ┆ LU7 3QS  ┆ … ┆ CENTRAL    ┆ A         ┆ A         ┆ 2025-05-0 │\n",
       "│ 4AC1-9A24- ┆        ┆            ┆          ┆   ┆ BEDFORDSHI ┆           ┆           ┆ 5 20:37:1 │\n",
       "│ E063-4804A ┆        ┆            ┆          ┆   ┆ RE         ┆           ┆           ┆ 8.144898  │\n",
       "│ …          ┆        ┆            ┆          ┆   ┆            ┆           ┆           ┆ UTC       │\n",
       "│ {045A1898- ┆ 372950 ┆ 2022-04-28 ┆ LU5 6TD  ┆ … ┆ CENTRAL    ┆ A         ┆ A         ┆ 2025-05-0 │\n",
       "│ 4AC2-9A24- ┆        ┆            ┆          ┆   ┆ BEDFORDSHI ┆           ┆           ┆ 5 20:37:1 │\n",
       "│ E063-4804A ┆        ┆            ┆          ┆   ┆ RE         ┆           ┆           ┆ 8.144898  │\n",
       "│ …          ┆        ┆            ┆          ┆   ┆            ┆           ┆           ┆ UTC       │\n",
       "│ {045A1898- ┆ 570000 ┆ 2022-05-31 ┆ SG18 9RF ┆ … ┆ CENTRAL    ┆ A         ┆ A         ┆ 2025-05-0 │\n",
       "│ 4AC4-9A24- ┆        ┆            ┆          ┆   ┆ BEDFORDSHI ┆           ┆           ┆ 5 20:37:1 │\n",
       "│ E063-4804A ┆        ┆            ┆          ┆   ┆ RE         ┆           ┆           ┆ 8.144898  │\n",
       "│ …          ┆        ┆            ┆          ┆   ┆            ┆           ┆           ┆ UTC       │\n",
       "│ {045A1898- ┆ 570000 ┆ 2022-05-27 ┆ LU7 3QS  ┆ … ┆ CENTRAL    ┆ A         ┆ A         ┆ 2025-05-0 │\n",
       "│ 4AC5-9A24- ┆        ┆            ┆          ┆   ┆ BEDFORDSHI ┆           ┆           ┆ 5 20:37:1 │\n",
       "│ E063-4804A ┆        ┆            ┆          ┆   ┆ RE         ┆           ┆           ┆ 8.144898  │\n",
       "│ …          ┆        ┆            ┆          ┆   ┆            ┆           ┆           ┆ UTC       │\n",
       "│ …          ┆ …      ┆ …          ┆ …        ┆ … ┆ …          ┆ …         ┆ …         ┆ …         │\n",
       "│ {E2D14905- ┆ 432000 ┆ 2022-05-20 ┆ RM9 5UL  ┆ … ┆ GREATER    ┆ A         ┆ A         ┆ 2025-05-0 │\n",
       "│ 55E3-4C2D- ┆        ┆            ┆          ┆   ┆ LONDON     ┆           ┆           ┆ 5 20:37:1 │\n",
       "│ E053-6B04A ┆        ┆            ┆          ┆   ┆            ┆           ┆           ┆ 8.144898  │\n",
       "│ …          ┆        ┆            ┆          ┆   ┆            ┆           ┆           ┆ UTC       │\n",
       "│ {E2D14905- ┆ 510000 ┆ 2022-04-29 ┆ E4 8PH   ┆ … ┆ GREATER    ┆ A         ┆ A         ┆ 2025-05-0 │\n",
       "│ 55E4-4C2D- ┆        ┆            ┆          ┆   ┆ LONDON     ┆           ┆           ┆ 5 20:37:1 │\n",
       "│ E053-6B04A ┆        ┆            ┆          ┆   ┆            ┆           ┆           ┆ 8.144898  │\n",
       "│ …          ┆        ┆            ┆          ┆   ┆            ┆           ┆           ┆ UTC       │\n",
       "│ {E2D14905- ┆ 635000 ┆ 2022-05-23 ┆ E17 4PN  ┆ … ┆ GREATER    ┆ A         ┆ A         ┆ 2025-05-0 │\n",
       "│ 55E5-4C2D- ┆        ┆            ┆          ┆   ┆ LONDON     ┆           ┆           ┆ 5 20:37:1 │\n",
       "│ E053-6B04A ┆        ┆            ┆          ┆   ┆            ┆           ┆           ┆ 8.144898  │\n",
       "│ …          ┆        ┆            ┆          ┆   ┆            ┆           ┆           ┆ UTC       │\n",
       "│ {E2D14905- ┆ 895000 ┆ 2022-04-01 ┆ IG8 9EH  ┆ … ┆ GREATER    ┆ A         ┆ A         ┆ 2025-05-0 │\n",
       "│ 55E6-4C2D- ┆        ┆            ┆          ┆   ┆ LONDON     ┆           ┆           ┆ 5 20:37:1 │\n",
       "│ E053-6B04A ┆        ┆            ┆          ┆   ┆            ┆           ┆           ┆ 8.144898  │\n",
       "│ …          ┆        ┆            ┆          ┆   ┆            ┆           ┆           ┆ UTC       │\n",
       "│ {E2D14905- ┆ 250000 ┆ 2022-03-18 ┆ E4 8QR   ┆ … ┆ GREATER    ┆ A         ┆ A         ┆ 2025-05-0 │\n",
       "│ 55E7-4C2D- ┆        ┆            ┆          ┆   ┆ LONDON     ┆           ┆           ┆ 5 20:37:1 │\n",
       "│ E053-6B04A ┆        ┆            ┆          ┆   ┆            ┆           ┆           ┆ 8.144898  │\n",
       "│ …          ┆        ┆            ┆          ┆   ┆            ┆           ┆           ┆ UTC       │\n",
       "└────────────┴────────┴────────────┴──────────┴───┴────────────┴───────────┴───────────┴───────────┘"
      ]
     },
     "execution_count": 3,
     "metadata": {},
     "output_type": "execute_result"
    }
   ],
   "source": [
    "timestamp = dt.datetime.now(tz=dt.UTC)\n",
    "house_prices_2022 = read_house_prices(\"data/pp-2022.csv\").with_columns(pl.lit(timestamp).alias(\"_loaded_at\"))\n",
    "house_prices_2022"
   ]
  },
  {
   "cell_type": "code",
   "execution_count": null,
   "id": "lEQa",
   "metadata": {},
   "outputs": [],
   "source": [
    "try:\n",
    "    house_prices.upsert(house_prices_2022.to_arrow())\n",
    "except ValueError as e:\n",
    "    # Print out the error message instead of crashing\n",
    "    print(e.args[0])"
   ]
  },
  {
   "cell_type": "markdown",
   "id": "PKri",
   "metadata": {
    "marimo": {
     "config": {
      "hide_code": true
     }
    }
   },
   "source": [
    "Pyiceberg is preventing us from doing something we shouldn't - Iceberg has a fixed schema, so we can't just add arbitrary columns to it. We need to update the schema to accomodate our new column.\n",
    "\n",
    "```{note}\n",
    "Pyiceberg gives us the ability to do this within a transaction to live up to Iceberg's ACID guarantees.\n",
    "```\n",
    "The new schema is added to the Iceberg metadata in the `schemas` array. Note that each of our snapshots reference the schema at the time the data was written. That way Iceberg can keep track of the schema evolution."
   ]
  },
  {
   "cell_type": "code",
   "execution_count": 5,
   "id": "Xref",
   "metadata": {},
   "outputs": [
    {
     "name": "stdout",
     "output_type": "stream",
     "text": [
      "_loaded_at already in schema\n"
     ]
    },
    {
     "data": {
      "application/json": {
       "current-schema-id": 1,
       "current-snapshot-id": 6910125867099050000,
       "default-sort-order-id": 0,
       "default-spec-id": 0,
       "format-version": 2,
       "last-column-id": 17,
       "last-partition-id": 999,
       "last-sequence-number": 9,
       "last-updated-ms": 1746127041296,
       "location": "s3://warehouse/house_prices/raw",
       "metadata-log": [
        {
         "metadata-file": "s3://warehouse/house_prices/raw/metadata/00000-01968838-cc69-7d11-9c69-2c6a24f44c03.gz.metadata.json",
         "timestamp-ms": 1746042145898
        },
        {
         "metadata-file": "s3://warehouse/house_prices/raw/metadata/00001-01968839-f40c-7d01-aa04-3c311e5c1c4f.gz.metadata.json",
         "timestamp-ms": 1746042221559
        },
        {
         "metadata-file": "s3://warehouse/house_prices/raw/metadata/00002-0196883c-3431-7552-a492-a1f738d30d4f.gz.metadata.json",
         "timestamp-ms": 1746042369052
        },
        {
         "metadata-file": "s3://warehouse/house_prices/raw/metadata/00003-01968851-2572-70b3-b798-49f74555de06.gz.metadata.json",
         "timestamp-ms": 1746043741554
        },
        {
         "metadata-file": "s3://warehouse/house_prices/raw/metadata/00004-01968851-c505-71d1-b92e-a8563f4e905e.gz.metadata.json",
         "timestamp-ms": 1746043782346
        },
        {
         "metadata-file": "s3://warehouse/house_prices/raw/metadata/00005-01968859-6407-7110-9864-62131bf46c7c.gz.metadata.json",
         "timestamp-ms": 1746044281857
        },
        {
         "metadata-file": "s3://warehouse/house_prices/raw/metadata/00006-01968861-a969-7c00-809b-33765f8a70a5.gz.metadata.json",
         "timestamp-ms": 1746044818422
        }
       ],
       "partition-specs": [
        {
         "fields": [],
         "spec-id": 0
        }
       ],
       "refs": {
        "main": {
         "snapshot-id": 6910125867099050000,
         "type": "branch"
        }
       },
       "schemas": [
        {
         "fields": [
          {
           "doc": "A reference number which is generated automatically recording each published sale. The number is unique and will change each time a sale is recorded.",
           "id": 1,
           "name": "transaction_id",
           "required": true,
           "type": "string"
          },
          {
           "doc": "Sale price stated on the transfer deed.",
           "id": 2,
           "name": "price",
           "required": true,
           "type": "int"
          },
          {
           "doc": "Date when the sale was completed, as stated on the transfer deed.",
           "id": 3,
           "name": "date_of_transfer",
           "required": true,
           "type": "date"
          },
          {
           "doc": "This is the postcode used at the time of the original transaction. Note that postcodes can be reallocated and these changes are not reflected in the Price Paid Dataset.",
           "id": 4,
           "name": "postcode",
           "required": true,
           "type": "string"
          },
          {
           "doc": "D = Detached, S = Semi-Detached, T = Terraced, F = Flats/Maisonettes, O = Other",
           "id": 5,
           "name": "property_type",
           "required": true,
           "type": "string"
          },
          {
           "doc": "Indicates the age of the property and applies to all price paid transactions, residential and non-residential. Y = a newly built property, N = an established residential building",
           "id": 6,
           "name": "new_property",
           "required": true,
           "type": "string"
          },
          {
           "doc": "Relates to the tenure: F = Freehold, L= Leasehold etc. Note that HM Land Registry does not record leases of 7 years or less in the Price Paid Dataset.",
           "id": 7,
           "name": "duration",
           "required": true,
           "type": "string"
          },
          {
           "doc": "Primary Addressable Object Name. Typically the house number or name",
           "id": 8,
           "name": "paon",
           "required": false,
           "type": "string"
          },
          {
           "doc": "Secondary Addressable Object Name. Where a property has been divided into separate units (for example, flats), the PAON (above) will identify the building and a SAON will be specified that identifies the separate unit/flat.",
           "id": 9,
           "name": "saon",
           "required": false,
           "type": "string"
          },
          {
           "id": 10,
           "name": "street",
           "required": false,
           "type": "string"
          },
          {
           "id": 11,
           "name": "locality",
           "required": false,
           "type": "string"
          },
          {
           "id": 12,
           "name": "town",
           "required": false,
           "type": "string"
          },
          {
           "id": 13,
           "name": "district",
           "required": false,
           "type": "string"
          },
          {
           "id": 14,
           "name": "county",
           "required": false,
           "type": "string"
          },
          {
           "doc": "Indicates the type of Price Paid transaction. A = Standard Price Paid entry, includes single residential property sold for value. B = Additional Price Paid entry including transfers under a power of sale/repossessions, buy-to-lets (where they can be identified by a Mortgage), transfers to non-private individuals and sales where the property type is classed as ‘Other’.",
           "id": 15,
           "name": "ppd_category_type",
           "required": false,
           "type": "string"
          },
          {
           "doc": "Indicates additions, changes and deletions to the records. A = Addition C = Change D = Delete",
           "id": 16,
           "name": "record_status",
           "required": false,
           "type": "string"
          }
         ],
         "identifier-field-ids": [
          1
         ],
         "schema-id": 0,
         "type": "struct"
        },
        {
         "fields": [
          {
           "doc": "A reference number which is generated automatically recording each published sale. The number is unique and will change each time a sale is recorded.",
           "id": 1,
           "name": "transaction_id",
           "required": true,
           "type": "string"
          },
          {
           "doc": "Sale price stated on the transfer deed.",
           "id": 2,
           "name": "price",
           "required": true,
           "type": "int"
          },
          {
           "doc": "Date when the sale was completed, as stated on the transfer deed.",
           "id": 3,
           "name": "date_of_transfer",
           "required": true,
           "type": "date"
          },
          {
           "doc": "This is the postcode used at the time of the original transaction. Note that postcodes can be reallocated and these changes are not reflected in the Price Paid Dataset.",
           "id": 4,
           "name": "postcode",
           "required": true,
           "type": "string"
          },
          {
           "doc": "D = Detached, S = Semi-Detached, T = Terraced, F = Flats/Maisonettes, O = Other",
           "id": 5,
           "name": "property_type",
           "required": true,
           "type": "string"
          },
          {
           "doc": "Indicates the age of the property and applies to all price paid transactions, residential and non-residential. Y = a newly built property, N = an established residential building",
           "id": 6,
           "name": "new_property",
           "required": true,
           "type": "string"
          },
          {
           "doc": "Relates to the tenure: F = Freehold, L= Leasehold etc. Note that HM Land Registry does not record leases of 7 years or less in the Price Paid Dataset.",
           "id": 7,
           "name": "duration",
           "required": true,
           "type": "string"
          },
          {
           "doc": "Primary Addressable Object Name. Typically the house number or name",
           "id": 8,
           "name": "paon",
           "required": false,
           "type": "string"
          },
          {
           "doc": "Secondary Addressable Object Name. Where a property has been divided into separate units (for example, flats), the PAON (above) will identify the building and a SAON will be specified that identifies the separate unit/flat.",
           "id": 9,
           "name": "saon",
           "required": false,
           "type": "string"
          },
          {
           "id": 10,
           "name": "street",
           "required": false,
           "type": "string"
          },
          {
           "id": 11,
           "name": "locality",
           "required": false,
           "type": "string"
          },
          {
           "id": 12,
           "name": "town",
           "required": false,
           "type": "string"
          },
          {
           "id": 13,
           "name": "district",
           "required": false,
           "type": "string"
          },
          {
           "id": 14,
           "name": "county",
           "required": false,
           "type": "string"
          },
          {
           "doc": "Indicates the type of Price Paid transaction. A = Standard Price Paid entry, includes single residential property sold for value. B = Additional Price Paid entry including transfers under a power of sale/repossessions, buy-to-lets (where they can be identified by a Mortgage), transfers to non-private individuals and sales where the property type is classed as ‘Other’.",
           "id": 15,
           "name": "ppd_category_type",
           "required": false,
           "type": "string"
          },
          {
           "doc": "Indicates additions, changes and deletions to the records. A = Addition C = Change D = Delete",
           "id": 16,
           "name": "record_status",
           "required": false,
           "type": "string"
          },
          {
           "doc": "The date this row was loaded",
           "id": 17,
           "name": "_loaded_at",
           "required": false,
           "type": "timestamptz"
          }
         ],
         "identifier-field-ids": [
          1
         ],
         "schema-id": 1,
         "type": "struct"
        }
       ],
       "snapshot-log": [
        {
         "snapshot-id": 3870307059191543000,
         "timestamp-ms": 1746042221559
        },
        {
         "snapshot-id": 6160762292259832000,
         "timestamp-ms": 1746042369052
        },
        {
         "snapshot-id": 4389943633381866500,
         "timestamp-ms": 1746043782346
        },
        {
         "snapshot-id": 7243334300264101000,
         "timestamp-ms": 1746044281857
        },
        {
         "snapshot-id": 5618685459824119000,
         "timestamp-ms": 1746044818422
        },
        {
         "snapshot-id": 6910125867099050000,
         "timestamp-ms": 1746127041296
        }
       ],
       "snapshots": [
        {
         "manifest-list": "s3://warehouse/house_prices/raw/metadata/snap-6910125867099050337-1-cea3f2bb-02a4-4204-b33a-9caa50de8b30.avro",
         "parent-snapshot-id": 5618685459824119000,
         "schema-id": 1,
         "sequence-number": 9,
         "snapshot-id": 6910125867099050000,
         "summary": {
          "added-data-files": "1",
          "added-delete-files": "1",
          "added-files-size": "19156388",
          "added-position-delete-files": "1",
          "added-position-deletes": "841772",
          "added-records": "841772",
          "changed-partition-count": "1",
          "engine-name": "trino",
          "engine-version": "475",
          "iceberg-version": "Apache Iceberg 1.8.1 (commit 9ce0fcf0af7becf25ad9fc996c3bad2afdcfd33d)",
          "operation": "overwrite",
          "total-data-files": "3",
          "total-delete-files": "1",
          "total-equality-deletes": "0",
          "total-files-size": "54192605",
          "total-position-deletes": "841772",
          "total-records": "2387888",
          "trino_query_id": "20250501_191715_00006_hpuqw",
          "trino_user": "trino"
         },
         "timestamp-ms": 1746127041296
        },
        {
         "manifest-list": "s3://warehouse/house_prices/raw/metadata/snap-122416445074455388-0-93a24c82-35f7-41a6-a086-3f5a5f80f71f.avro",
         "parent-snapshot-id": 6160762292259832000,
         "schema-id": 1,
         "sequence-number": 3,
         "snapshot-id": 122416445074455400,
         "summary": {
          "operation": "append",
          "total-data-files": "2",
          "total-delete-files": "0",
          "total-equality-deletes": "0",
          "total-files-size": "34931712",
          "total-position-deletes": "0",
          "total-records": "1546116"
         },
         "timestamp-ms": 1746043777002
        },
        {
         "manifest-list": "s3://warehouse/house_prices/raw/metadata/snap-6160762292259832203-0-0ab09c23-d71c-4686-968a-f5ebd7b2e32a.avro",
         "parent-snapshot-id": 3870307059191543000,
         "schema-id": 0,
         "sequence-number": 2,
         "snapshot-id": 6160762292259832000,
         "summary": {
          "added-data-files": "1",
          "added-files-size": "19093353",
          "added-records": "841772",
          "operation": "append",
          "total-data-files": "2",
          "total-delete-files": "0",
          "total-equality-deletes": "0",
          "total-files-size": "34931712",
          "total-position-deletes": "0",
          "total-records": "1546116"
         },
         "timestamp-ms": 1746042369052
        },
        {
         "manifest-list": "s3://warehouse/house_prices/raw/metadata/snap-5618685459824118337-0-7bf798c2-eb25-4ed2-bd60-763a05f01b68.avro",
         "parent-snapshot-id": 1092067571415845100,
         "schema-id": 1,
         "sequence-number": 8,
         "snapshot-id": 5618685459824119000,
         "summary": {
          "added-data-files": "1",
          "added-files-size": "15942864",
          "added-records": "704344",
          "operation": "append",
          "total-data-files": "2",
          "total-delete-files": "0",
          "total-equality-deletes": "0",
          "total-files-size": "35036217",
          "total-position-deletes": "0",
          "total-records": "1546116"
         },
         "timestamp-ms": 1746044818422
        },
        {
         "manifest-list": "s3://warehouse/house_prices/raw/metadata/snap-4996382859333512033-0-82452e34-89b7-4a80-9918-10bf35efe7d5.avro",
         "parent-snapshot-id": 4389943633381866500,
         "schema-id": 1,
         "sequence-number": 5,
         "snapshot-id": 4996382859333512000,
         "summary": {
          "operation": "append",
          "total-data-files": "2",
          "total-delete-files": "0",
          "total-equality-deletes": "0",
          "total-files-size": "34931712",
          "total-position-deletes": "0",
          "total-records": "1546116"
         },
         "timestamp-ms": 1746044276555
        },
        {
         "manifest-list": "s3://warehouse/house_prices/raw/metadata/snap-7243334300264100548-0-6b4ec6d0-53cd-468c-a583-7e2ea18ceeea.avro",
         "parent-snapshot-id": 4996382859333512000,
         "schema-id": 1,
         "sequence-number": 6,
         "snapshot-id": 7243334300264101000,
         "summary": {
          "operation": "append",
          "total-data-files": "2",
          "total-delete-files": "0",
          "total-equality-deletes": "0",
          "total-files-size": "34931712",
          "total-position-deletes": "0",
          "total-records": "1546116"
         },
         "timestamp-ms": 1746044281857
        },
        {
         "manifest-list": "s3://warehouse/house_prices/raw/metadata/snap-3870307059191542653-0-7262a90a-be35-49a5-9331-c3fc7ae49ae2.avro",
         "schema-id": 0,
         "sequence-number": 1,
         "snapshot-id": 3870307059191543000,
         "summary": {
          "added-data-files": "1",
          "added-files-size": "15838359",
          "added-records": "704344",
          "operation": "append",
          "total-data-files": "1",
          "total-delete-files": "0",
          "total-equality-deletes": "0",
          "total-files-size": "15838359",
          "total-position-deletes": "0",
          "total-records": "704344"
         },
         "timestamp-ms": 1746042221559
        },
        {
         "manifest-list": "s3://warehouse/house_prices/raw/metadata/snap-1092067571415845178-0-76964b56-f1a2-48f7-9ef5-0df4ffc7d9b3.avro",
         "parent-snapshot-id": 7243334300264101000,
         "schema-id": 1,
         "sequence-number": 7,
         "snapshot-id": 1092067571415845100,
         "summary": {
          "deleted-data-files": "1",
          "deleted-records": "704344",
          "operation": "overwrite",
          "removed-files-size": "15838359",
          "total-data-files": "1",
          "total-delete-files": "0",
          "total-equality-deletes": "0",
          "total-files-size": "19093353",
          "total-position-deletes": "0",
          "total-records": "841772"
         },
         "timestamp-ms": 1746044817891
        },
        {
         "manifest-list": "s3://warehouse/house_prices/raw/metadata/snap-4389943633381866277-0-29107d24-950b-4a91-89be-01cae9c8fb09.avro",
         "parent-snapshot-id": 122416445074455400,
         "schema-id": 1,
         "sequence-number": 4,
         "snapshot-id": 4389943633381866500,
         "summary": {
          "operation": "append",
          "total-data-files": "2",
          "total-delete-files": "0",
          "total-equality-deletes": "0",
          "total-files-size": "34931712",
          "total-position-deletes": "0",
          "total-records": "1546116"
         },
         "timestamp-ms": 1746043782346
        }
       ],
       "sort-orders": [
        {
         "fields": [],
         "order-id": 0
        }
       ],
       "table-uuid": "01968838-cc69-7d11-9c69-2c58aa2bc8bc"
      },
      "text/plain": [
       "<IPython.core.display.JSON object>"
      ]
     },
     "execution_count": 5,
     "metadata": {
      "application/json": {
       "expanded": false,
       "root": "root"
      }
     },
     "output_type": "execute_result"
    }
   ],
   "source": [
    "from pyiceberg.types import TimestamptzType\n",
    "\n",
    "with house_prices.update_schema() as schema:\n",
    "    # Avoid crashing for demo purposes\n",
    "    if \"_loaded_at\" not in house_prices.schema().column_names:\n",
    "        schema.add_column(\"_loaded_at\", TimestamptzType(), doc=\"The date this row was loaded\")\n",
    "    else:\n",
    "        print(\"_loaded_at already in schema\")\n",
    "\n",
    "JSON(get_iceberg_metadata(fs, house_prices))"
   ]
  },
  {
   "cell_type": "markdown",
   "id": "SFPL",
   "metadata": {},
   "source": [
    "Now we have our `_loaded_at` column as part of the table schema, Iceberg is happy for us to add our data with the new column"
   ]
  },
  {
   "cell_type": "code",
   "execution_count": null,
   "id": "BYtC",
   "metadata": {},
   "outputs": [],
   "source": [
    "house_prices.append(house_prices_2022.to_arrow().cast(house_prices.schema().as_arrow()))"
   ]
  },
  {
   "attachments": {},
   "cell_type": "markdown",
   "id": "e4051e2e-f873-4746-8a3e-584011c3c411",
   "metadata": {},
   "source": [
    "What about the data we already added? How would we modify that data? Here we start running into some limitations of a foundational library like `pyiceberg` - we can do it, but wouldn't it be much easier to write an `UPDATE` in SQL and not have to worry about the details?\n",
    "\n",
    "This is the power of Iceberg - we have the ability to switch query engines to suit our usecase - in this case, I want to use Trino to update the data back in time.\n",
    "\n",
    "Let's verify how many nulls we have - the data we just added should have `_loaded_at` filled in, but the rest should be null\n",
    "\n",
    "Trino has a SQLAlchemy dialect built-in to the `trino` python package, so it's straightforward to run some SQL like we're used to"
   ]
  },
  {
   "cell_type": "code",
   "execution_count": 3,
   "id": "Kclp",
   "metadata": {},
   "outputs": [],
   "source": [
    "engine = sa.create_engine(\"trino://trino:@trino:8080/lakekeeper\")"
   ]
  },
  {
   "cell_type": "code",
   "execution_count": 4,
   "id": "emfo",
   "metadata": {},
   "outputs": [
    {
     "ename": "DBAPIError",
     "evalue": "(trino.exceptions.TrinoQueryError) TrinoQueryError(type=INTERNAL_ERROR, name=GENERIC_INTERNAL_ERROR, message=\"io.trino.spi.TrinoException: Error processing metadata for table house_prices.raw\", query_id=20250508_205051_00006_cpaje)\n[SQL: \nSELECT\n    COUNT(*) as total_rows,\n    COUNT_IF(_loaded_at IS NULL) as null_count\nFROM house_prices.raw\n    ]\n(Background on this error at: https://sqlalche.me/e/20/dbapi)",
     "output_type": "error",
     "traceback": [
      "\u001b[31m---------------------------------------------------------------------------\u001b[39m",
      "\u001b[31mTrinoQueryError\u001b[39m                           Traceback (most recent call last)",
      "\u001b[36mFile \u001b[39m\u001b[32m/usr/local/lib/python3.12/site-packages/sqlalchemy/engine/base.py:1964\u001b[39m, in \u001b[36mConnection._exec_single_context\u001b[39m\u001b[34m(self, dialect, context, statement, parameters)\u001b[39m\n\u001b[32m   1963\u001b[39m     \u001b[38;5;28;01mif\u001b[39;00m \u001b[38;5;129;01mnot\u001b[39;00m evt_handled:\n\u001b[32m-> \u001b[39m\u001b[32m1964\u001b[39m         \u001b[38;5;28;43mself\u001b[39;49m\u001b[43m.\u001b[49m\u001b[43mdialect\u001b[49m\u001b[43m.\u001b[49m\u001b[43mdo_execute\u001b[49m\u001b[43m(\u001b[49m\n\u001b[32m   1965\u001b[39m \u001b[43m            \u001b[49m\u001b[43mcursor\u001b[49m\u001b[43m,\u001b[49m\u001b[43m \u001b[49m\u001b[43mstr_statement\u001b[49m\u001b[43m,\u001b[49m\u001b[43m \u001b[49m\u001b[43meffective_parameters\u001b[49m\u001b[43m,\u001b[49m\u001b[43m \u001b[49m\u001b[43mcontext\u001b[49m\n\u001b[32m   1966\u001b[39m \u001b[43m        \u001b[49m\u001b[43m)\u001b[49m\n\u001b[32m   1968\u001b[39m \u001b[38;5;28;01mif\u001b[39;00m \u001b[38;5;28mself\u001b[39m._has_events \u001b[38;5;129;01mor\u001b[39;00m \u001b[38;5;28mself\u001b[39m.engine._has_events:\n",
      "\u001b[36mFile \u001b[39m\u001b[32m/usr/local/lib/python3.12/site-packages/trino/sqlalchemy/dialect.py:442\u001b[39m, in \u001b[36mTrinoDialect.do_execute\u001b[39m\u001b[34m(self, cursor, statement, parameters, context)\u001b[39m\n\u001b[32m    439\u001b[39m \u001b[38;5;28;01mdef\u001b[39;00m\u001b[38;5;250m \u001b[39m\u001b[34mdo_execute\u001b[39m(\n\u001b[32m    440\u001b[39m     \u001b[38;5;28mself\u001b[39m, cursor: Cursor, statement: \u001b[38;5;28mstr\u001b[39m, parameters: Tuple[Any, ...], context: DefaultExecutionContext = \u001b[38;5;28;01mNone\u001b[39;00m\n\u001b[32m    441\u001b[39m ):\n\u001b[32m--> \u001b[39m\u001b[32m442\u001b[39m     \u001b[43mcursor\u001b[49m\u001b[43m.\u001b[49m\u001b[43mexecute\u001b[49m\u001b[43m(\u001b[49m\u001b[43mstatement\u001b[49m\u001b[43m,\u001b[49m\u001b[43m \u001b[49m\u001b[43mparameters\u001b[49m\u001b[43m)\u001b[49m\n",
      "\u001b[36mFile \u001b[39m\u001b[32m/usr/local/lib/python3.12/site-packages/trino/dbapi.py:629\u001b[39m, in \u001b[36mCursor.execute\u001b[39m\u001b[34m(self, operation, params)\u001b[39m\n\u001b[32m    627\u001b[39m     \u001b[38;5;28mself\u001b[39m._query = trino.client.TrinoQuery(\u001b[38;5;28mself\u001b[39m._request, query=operation,\n\u001b[32m    628\u001b[39m                                           legacy_primitive_types=\u001b[38;5;28mself\u001b[39m._legacy_primitive_types)\n\u001b[32m--> \u001b[39m\u001b[32m629\u001b[39m     \u001b[38;5;28mself\u001b[39m._iterator = \u001b[38;5;28miter\u001b[39m(\u001b[38;5;28;43mself\u001b[39;49m\u001b[43m.\u001b[49m\u001b[43m_query\u001b[49m\u001b[43m.\u001b[49m\u001b[43mexecute\u001b[49m\u001b[43m(\u001b[49m\u001b[43m)\u001b[49m)\n\u001b[32m    630\u001b[39m \u001b[38;5;28;01mreturn\u001b[39;00m \u001b[38;5;28mself\u001b[39m\n",
      "\u001b[36mFile \u001b[39m\u001b[32m/usr/local/lib/python3.12/site-packages/trino/client.py:900\u001b[39m, in \u001b[36mTrinoQuery.execute\u001b[39m\u001b[34m(self, additional_http_headers)\u001b[39m\n\u001b[32m    899\u001b[39m \u001b[38;5;28;01mwhile\u001b[39;00m \u001b[38;5;129;01mnot\u001b[39;00m \u001b[38;5;28mself\u001b[39m.finished \u001b[38;5;129;01mand\u001b[39;00m \u001b[38;5;129;01mnot\u001b[39;00m \u001b[38;5;28mself\u001b[39m.cancelled \u001b[38;5;129;01mand\u001b[39;00m \u001b[38;5;28mlen\u001b[39m(\u001b[38;5;28mself\u001b[39m._result.rows) == \u001b[32m0\u001b[39m:\n\u001b[32m--> \u001b[39m\u001b[32m900\u001b[39m     \u001b[38;5;28mself\u001b[39m._result.rows += \u001b[38;5;28;43mself\u001b[39;49m\u001b[43m.\u001b[49m\u001b[43mfetch\u001b[49m\u001b[43m(\u001b[49m\u001b[43m)\u001b[49m\n\u001b[32m    901\u001b[39m \u001b[38;5;28;01mreturn\u001b[39;00m \u001b[38;5;28mself\u001b[39m._result\n",
      "\u001b[36mFile \u001b[39m\u001b[32m/usr/local/lib/python3.12/site-packages/trino/client.py:920\u001b[39m, in \u001b[36mTrinoQuery.fetch\u001b[39m\u001b[34m(self)\u001b[39m\n\u001b[32m    919\u001b[39m     \u001b[38;5;28;01mraise\u001b[39;00m trino.exceptions.TrinoConnectionError(\u001b[33m\"\u001b[39m\u001b[33mfailed to fetch: \u001b[39m\u001b[38;5;132;01m{}\u001b[39;00m\u001b[33m\"\u001b[39m.format(e))\n\u001b[32m--> \u001b[39m\u001b[32m920\u001b[39m status = \u001b[38;5;28;43mself\u001b[39;49m\u001b[43m.\u001b[49m\u001b[43m_request\u001b[49m\u001b[43m.\u001b[49m\u001b[43mprocess\u001b[49m\u001b[43m(\u001b[49m\u001b[43mresponse\u001b[49m\u001b[43m)\u001b[49m\n\u001b[32m    921\u001b[39m \u001b[38;5;28mself\u001b[39m._update_state(status)\n",
      "\u001b[36mFile \u001b[39m\u001b[32m/usr/local/lib/python3.12/site-packages/trino/client.py:689\u001b[39m, in \u001b[36mTrinoRequest.process\u001b[39m\u001b[34m(self, http_response)\u001b[39m\n\u001b[32m    688\u001b[39m \u001b[38;5;28;01mif\u001b[39;00m \u001b[33m\"\u001b[39m\u001b[33merror\u001b[39m\u001b[33m\"\u001b[39m \u001b[38;5;129;01min\u001b[39;00m response \u001b[38;5;129;01mand\u001b[39;00m response[\u001b[33m\"\u001b[39m\u001b[33merror\u001b[39m\u001b[33m\"\u001b[39m]:\n\u001b[32m--> \u001b[39m\u001b[32m689\u001b[39m     \u001b[38;5;28;01mraise\u001b[39;00m \u001b[38;5;28mself\u001b[39m._process_error(response[\u001b[33m\"\u001b[39m\u001b[33merror\u001b[39m\u001b[33m\"\u001b[39m], response.get(\u001b[33m\"\u001b[39m\u001b[33mid\u001b[39m\u001b[33m\"\u001b[39m))\n\u001b[32m    691\u001b[39m \u001b[38;5;28;01mif\u001b[39;00m constants.HEADER_CLEAR_SESSION \u001b[38;5;129;01min\u001b[39;00m http_response.headers:\n",
      "\u001b[31mTrinoQueryError\u001b[39m: TrinoQueryError(type=INTERNAL_ERROR, name=GENERIC_INTERNAL_ERROR, message=\"io.trino.spi.TrinoException: Error processing metadata for table house_prices.raw\", query_id=20250508_205051_00006_cpaje)",
      "\nThe above exception was the direct cause of the following exception:\n",
      "\u001b[31mDBAPIError\u001b[39m                                Traceback (most recent call last)",
      "\u001b[36mCell\u001b[39m\u001b[36m \u001b[39m\u001b[32mIn[4]\u001b[39m\u001b[32m, line 8\u001b[39m\n\u001b[32m      1\u001b[39m null_count_sql = \u001b[33m\"\"\"\u001b[39m\n\u001b[32m      2\u001b[39m \u001b[33mSELECT\u001b[39m\n\u001b[32m      3\u001b[39m \u001b[33m    COUNT(*) as total_rows,\u001b[39m\n\u001b[32m      4\u001b[39m \u001b[33m    COUNT_IF(_loaded_at IS NULL) as null_count\u001b[39m\n\u001b[32m      5\u001b[39m \u001b[33mFROM house_prices.raw\u001b[39m\n\u001b[32m      6\u001b[39m \u001b[33m    \u001b[39m\u001b[33m\"\"\"\u001b[39m\n\u001b[32m      7\u001b[39m \u001b[38;5;28;01mwith\u001b[39;00m engine.connect() \u001b[38;5;28;01mas\u001b[39;00m conn:\n\u001b[32m----> \u001b[39m\u001b[32m8\u001b[39m     df = \u001b[43mpl\u001b[49m\u001b[43m.\u001b[49m\u001b[43mread_database\u001b[49m\u001b[43m(\u001b[49m\u001b[43mnull_count_sql\u001b[49m\u001b[43m,\u001b[49m\u001b[43m \u001b[49m\u001b[43mconn\u001b[49m\u001b[43m)\u001b[49m\n\u001b[32m      9\u001b[39m df\n",
      "\u001b[36mFile \u001b[39m\u001b[32m/usr/local/lib/python3.12/site-packages/polars/io/database/functions.py:249\u001b[39m, in \u001b[36mread_database\u001b[39m\u001b[34m(query, connection, iter_batches, batch_size, schema_overrides, infer_schema_length, execute_options)\u001b[39m\n\u001b[32m    247\u001b[39m \u001b[38;5;66;03m# return frame from arbitrary connections using the executor abstraction\u001b[39;00m\n\u001b[32m    248\u001b[39m \u001b[38;5;28;01mwith\u001b[39;00m ConnectionExecutor(connection) \u001b[38;5;28;01mas\u001b[39;00m cx:\n\u001b[32m--> \u001b[39m\u001b[32m249\u001b[39m     \u001b[38;5;28;01mreturn\u001b[39;00m \u001b[43mcx\u001b[49m\u001b[43m.\u001b[49m\u001b[43mexecute\u001b[49m\u001b[43m(\u001b[49m\n\u001b[32m    250\u001b[39m \u001b[43m        \u001b[49m\u001b[43mquery\u001b[49m\u001b[43m=\u001b[49m\u001b[43mquery\u001b[49m\u001b[43m,\u001b[49m\n\u001b[32m    251\u001b[39m \u001b[43m        \u001b[49m\u001b[43moptions\u001b[49m\u001b[43m=\u001b[49m\u001b[43mexecute_options\u001b[49m\u001b[43m,\u001b[49m\n\u001b[32m    252\u001b[39m \u001b[43m    \u001b[49m\u001b[43m)\u001b[49m.to_polars(\n\u001b[32m    253\u001b[39m         batch_size=batch_size,\n\u001b[32m    254\u001b[39m         iter_batches=iter_batches,\n\u001b[32m    255\u001b[39m         schema_overrides=schema_overrides,\n\u001b[32m    256\u001b[39m         infer_schema_length=infer_schema_length,\n\u001b[32m    257\u001b[39m     )\n",
      "\u001b[36mFile \u001b[39m\u001b[32m/usr/local/lib/python3.12/site-packages/polars/io/database/_executor.py:501\u001b[39m, in \u001b[36mConnectionExecutor.execute\u001b[39m\u001b[34m(self, query, options, select_queries_only)\u001b[39m\n\u001b[32m    495\u001b[39m     params = {}  \u001b[38;5;66;03m# type: ignore[assignment]\u001b[39;00m\n\u001b[32m    497\u001b[39m \u001b[38;5;28;01mif\u001b[39;00m \u001b[38;5;129;01mnot\u001b[39;00m options \u001b[38;5;129;01mor\u001b[39;00m \u001b[38;5;28many\u001b[39m(\n\u001b[32m    498\u001b[39m     p.kind \u001b[38;5;129;01min\u001b[39;00m (Parameter.KEYWORD_ONLY, Parameter.POSITIONAL_OR_KEYWORD)\n\u001b[32m    499\u001b[39m     \u001b[38;5;28;01mfor\u001b[39;00m p \u001b[38;5;129;01min\u001b[39;00m params.values()\n\u001b[32m    500\u001b[39m ):\n\u001b[32m--> \u001b[39m\u001b[32m501\u001b[39m     result = \u001b[43mcursor_execute\u001b[49m\u001b[43m(\u001b[49m\u001b[43mquery\u001b[49m\u001b[43m,\u001b[49m\u001b[43m \u001b[49m\u001b[43m*\u001b[49m\u001b[43m*\u001b[49m\u001b[43moptions\u001b[49m\u001b[43m)\u001b[49m\n\u001b[32m    502\u001b[39m \u001b[38;5;28;01melse\u001b[39;00m:\n\u001b[32m    503\u001b[39m     positional_options = (\n\u001b[32m    504\u001b[39m         options[o] \u001b[38;5;28;01mfor\u001b[39;00m o \u001b[38;5;129;01min\u001b[39;00m (params \u001b[38;5;129;01mor\u001b[39;00m options) \u001b[38;5;28;01mif\u001b[39;00m (\u001b[38;5;129;01mnot\u001b[39;00m options \u001b[38;5;129;01mor\u001b[39;00m o \u001b[38;5;129;01min\u001b[39;00m options)\n\u001b[32m    505\u001b[39m     )\n",
      "\u001b[36mFile \u001b[39m\u001b[32m/usr/local/lib/python3.12/site-packages/sqlalchemy/engine/base.py:1416\u001b[39m, in \u001b[36mConnection.execute\u001b[39m\u001b[34m(self, statement, parameters, execution_options)\u001b[39m\n\u001b[32m   1414\u001b[39m     \u001b[38;5;28;01mraise\u001b[39;00m exc.ObjectNotExecutableError(statement) \u001b[38;5;28;01mfrom\u001b[39;00m\u001b[38;5;250m \u001b[39m\u001b[34;01merr\u001b[39;00m\n\u001b[32m   1415\u001b[39m \u001b[38;5;28;01melse\u001b[39;00m:\n\u001b[32m-> \u001b[39m\u001b[32m1416\u001b[39m     \u001b[38;5;28;01mreturn\u001b[39;00m \u001b[43mmeth\u001b[49m\u001b[43m(\u001b[49m\n\u001b[32m   1417\u001b[39m \u001b[43m        \u001b[49m\u001b[38;5;28;43mself\u001b[39;49m\u001b[43m,\u001b[49m\n\u001b[32m   1418\u001b[39m \u001b[43m        \u001b[49m\u001b[43mdistilled_parameters\u001b[49m\u001b[43m,\u001b[49m\n\u001b[32m   1419\u001b[39m \u001b[43m        \u001b[49m\u001b[43mexecution_options\u001b[49m\u001b[43m \u001b[49m\u001b[38;5;129;43;01mor\u001b[39;49;00m\u001b[43m \u001b[49m\u001b[43mNO_OPTIONS\u001b[49m\u001b[43m,\u001b[49m\n\u001b[32m   1420\u001b[39m \u001b[43m    \u001b[49m\u001b[43m)\u001b[49m\n",
      "\u001b[36mFile \u001b[39m\u001b[32m/usr/local/lib/python3.12/site-packages/sqlalchemy/sql/elements.py:523\u001b[39m, in \u001b[36mClauseElement._execute_on_connection\u001b[39m\u001b[34m(self, connection, distilled_params, execution_options)\u001b[39m\n\u001b[32m    521\u001b[39m     \u001b[38;5;28;01mif\u001b[39;00m TYPE_CHECKING:\n\u001b[32m    522\u001b[39m         \u001b[38;5;28;01massert\u001b[39;00m \u001b[38;5;28misinstance\u001b[39m(\u001b[38;5;28mself\u001b[39m, Executable)\n\u001b[32m--> \u001b[39m\u001b[32m523\u001b[39m     \u001b[38;5;28;01mreturn\u001b[39;00m \u001b[43mconnection\u001b[49m\u001b[43m.\u001b[49m\u001b[43m_execute_clauseelement\u001b[49m\u001b[43m(\u001b[49m\n\u001b[32m    524\u001b[39m \u001b[43m        \u001b[49m\u001b[38;5;28;43mself\u001b[39;49m\u001b[43m,\u001b[49m\u001b[43m \u001b[49m\u001b[43mdistilled_params\u001b[49m\u001b[43m,\u001b[49m\u001b[43m \u001b[49m\u001b[43mexecution_options\u001b[49m\n\u001b[32m    525\u001b[39m \u001b[43m    \u001b[49m\u001b[43m)\u001b[49m\n\u001b[32m    526\u001b[39m \u001b[38;5;28;01melse\u001b[39;00m:\n\u001b[32m    527\u001b[39m     \u001b[38;5;28;01mraise\u001b[39;00m exc.ObjectNotExecutableError(\u001b[38;5;28mself\u001b[39m)\n",
      "\u001b[36mFile \u001b[39m\u001b[32m/usr/local/lib/python3.12/site-packages/sqlalchemy/engine/base.py:1638\u001b[39m, in \u001b[36mConnection._execute_clauseelement\u001b[39m\u001b[34m(self, elem, distilled_parameters, execution_options)\u001b[39m\n\u001b[32m   1626\u001b[39m compiled_cache: Optional[CompiledCacheType] = execution_options.get(\n\u001b[32m   1627\u001b[39m     \u001b[33m\"\u001b[39m\u001b[33mcompiled_cache\u001b[39m\u001b[33m\"\u001b[39m, \u001b[38;5;28mself\u001b[39m.engine._compiled_cache\n\u001b[32m   1628\u001b[39m )\n\u001b[32m   1630\u001b[39m compiled_sql, extracted_params, cache_hit = elem._compile_w_cache(\n\u001b[32m   1631\u001b[39m     dialect=dialect,\n\u001b[32m   1632\u001b[39m     compiled_cache=compiled_cache,\n\u001b[32m   (...)\u001b[39m\u001b[32m   1636\u001b[39m     linting=\u001b[38;5;28mself\u001b[39m.dialect.compiler_linting | compiler.WARN_LINTING,\n\u001b[32m   1637\u001b[39m )\n\u001b[32m-> \u001b[39m\u001b[32m1638\u001b[39m ret = \u001b[38;5;28;43mself\u001b[39;49m\u001b[43m.\u001b[49m\u001b[43m_execute_context\u001b[49m\u001b[43m(\u001b[49m\n\u001b[32m   1639\u001b[39m \u001b[43m    \u001b[49m\u001b[43mdialect\u001b[49m\u001b[43m,\u001b[49m\n\u001b[32m   1640\u001b[39m \u001b[43m    \u001b[49m\u001b[43mdialect\u001b[49m\u001b[43m.\u001b[49m\u001b[43mexecution_ctx_cls\u001b[49m\u001b[43m.\u001b[49m\u001b[43m_init_compiled\u001b[49m\u001b[43m,\u001b[49m\n\u001b[32m   1641\u001b[39m \u001b[43m    \u001b[49m\u001b[43mcompiled_sql\u001b[49m\u001b[43m,\u001b[49m\n\u001b[32m   1642\u001b[39m \u001b[43m    \u001b[49m\u001b[43mdistilled_parameters\u001b[49m\u001b[43m,\u001b[49m\n\u001b[32m   1643\u001b[39m \u001b[43m    \u001b[49m\u001b[43mexecution_options\u001b[49m\u001b[43m,\u001b[49m\n\u001b[32m   1644\u001b[39m \u001b[43m    \u001b[49m\u001b[43mcompiled_sql\u001b[49m\u001b[43m,\u001b[49m\n\u001b[32m   1645\u001b[39m \u001b[43m    \u001b[49m\u001b[43mdistilled_parameters\u001b[49m\u001b[43m,\u001b[49m\n\u001b[32m   1646\u001b[39m \u001b[43m    \u001b[49m\u001b[43melem\u001b[49m\u001b[43m,\u001b[49m\n\u001b[32m   1647\u001b[39m \u001b[43m    \u001b[49m\u001b[43mextracted_params\u001b[49m\u001b[43m,\u001b[49m\n\u001b[32m   1648\u001b[39m \u001b[43m    \u001b[49m\u001b[43mcache_hit\u001b[49m\u001b[43m=\u001b[49m\u001b[43mcache_hit\u001b[49m\u001b[43m,\u001b[49m\n\u001b[32m   1649\u001b[39m \u001b[43m\u001b[49m\u001b[43m)\u001b[49m\n\u001b[32m   1650\u001b[39m \u001b[38;5;28;01mif\u001b[39;00m has_events:\n\u001b[32m   1651\u001b[39m     \u001b[38;5;28mself\u001b[39m.dispatch.after_execute(\n\u001b[32m   1652\u001b[39m         \u001b[38;5;28mself\u001b[39m,\n\u001b[32m   1653\u001b[39m         elem,\n\u001b[32m   (...)\u001b[39m\u001b[32m   1657\u001b[39m         ret,\n\u001b[32m   1658\u001b[39m     )\n",
      "\u001b[36mFile \u001b[39m\u001b[32m/usr/local/lib/python3.12/site-packages/sqlalchemy/engine/base.py:1843\u001b[39m, in \u001b[36mConnection._execute_context\u001b[39m\u001b[34m(self, dialect, constructor, statement, parameters, execution_options, *args, **kw)\u001b[39m\n\u001b[32m   1841\u001b[39m     \u001b[38;5;28;01mreturn\u001b[39;00m \u001b[38;5;28mself\u001b[39m._exec_insertmany_context(dialect, context)\n\u001b[32m   1842\u001b[39m \u001b[38;5;28;01melse\u001b[39;00m:\n\u001b[32m-> \u001b[39m\u001b[32m1843\u001b[39m     \u001b[38;5;28;01mreturn\u001b[39;00m \u001b[38;5;28;43mself\u001b[39;49m\u001b[43m.\u001b[49m\u001b[43m_exec_single_context\u001b[49m\u001b[43m(\u001b[49m\n\u001b[32m   1844\u001b[39m \u001b[43m        \u001b[49m\u001b[43mdialect\u001b[49m\u001b[43m,\u001b[49m\u001b[43m \u001b[49m\u001b[43mcontext\u001b[49m\u001b[43m,\u001b[49m\u001b[43m \u001b[49m\u001b[43mstatement\u001b[49m\u001b[43m,\u001b[49m\u001b[43m \u001b[49m\u001b[43mparameters\u001b[49m\n\u001b[32m   1845\u001b[39m \u001b[43m    \u001b[49m\u001b[43m)\u001b[49m\n",
      "\u001b[36mFile \u001b[39m\u001b[32m/usr/local/lib/python3.12/site-packages/sqlalchemy/engine/base.py:1983\u001b[39m, in \u001b[36mConnection._exec_single_context\u001b[39m\u001b[34m(self, dialect, context, statement, parameters)\u001b[39m\n\u001b[32m   1980\u001b[39m     result = context._setup_result_proxy()\n\u001b[32m   1982\u001b[39m \u001b[38;5;28;01mexcept\u001b[39;00m \u001b[38;5;167;01mBaseException\u001b[39;00m \u001b[38;5;28;01mas\u001b[39;00m e:\n\u001b[32m-> \u001b[39m\u001b[32m1983\u001b[39m     \u001b[38;5;28;43mself\u001b[39;49m\u001b[43m.\u001b[49m\u001b[43m_handle_dbapi_exception\u001b[49m\u001b[43m(\u001b[49m\n\u001b[32m   1984\u001b[39m \u001b[43m        \u001b[49m\u001b[43me\u001b[49m\u001b[43m,\u001b[49m\u001b[43m \u001b[49m\u001b[43mstr_statement\u001b[49m\u001b[43m,\u001b[49m\u001b[43m \u001b[49m\u001b[43meffective_parameters\u001b[49m\u001b[43m,\u001b[49m\u001b[43m \u001b[49m\u001b[43mcursor\u001b[49m\u001b[43m,\u001b[49m\u001b[43m \u001b[49m\u001b[43mcontext\u001b[49m\n\u001b[32m   1985\u001b[39m \u001b[43m    \u001b[49m\u001b[43m)\u001b[49m\n\u001b[32m   1987\u001b[39m \u001b[38;5;28;01mreturn\u001b[39;00m result\n",
      "\u001b[36mFile \u001b[39m\u001b[32m/usr/local/lib/python3.12/site-packages/sqlalchemy/engine/base.py:2352\u001b[39m, in \u001b[36mConnection._handle_dbapi_exception\u001b[39m\u001b[34m(self, e, statement, parameters, cursor, context, is_sub_exec)\u001b[39m\n\u001b[32m   2350\u001b[39m \u001b[38;5;28;01melif\u001b[39;00m should_wrap:\n\u001b[32m   2351\u001b[39m     \u001b[38;5;28;01massert\u001b[39;00m sqlalchemy_exception \u001b[38;5;129;01mis\u001b[39;00m \u001b[38;5;129;01mnot\u001b[39;00m \u001b[38;5;28;01mNone\u001b[39;00m\n\u001b[32m-> \u001b[39m\u001b[32m2352\u001b[39m     \u001b[38;5;28;01mraise\u001b[39;00m sqlalchemy_exception.with_traceback(exc_info[\u001b[32m2\u001b[39m]) \u001b[38;5;28;01mfrom\u001b[39;00m\u001b[38;5;250m \u001b[39m\u001b[34;01me\u001b[39;00m\n\u001b[32m   2353\u001b[39m \u001b[38;5;28;01melse\u001b[39;00m:\n\u001b[32m   2354\u001b[39m     \u001b[38;5;28;01massert\u001b[39;00m exc_info[\u001b[32m1\u001b[39m] \u001b[38;5;129;01mis\u001b[39;00m \u001b[38;5;129;01mnot\u001b[39;00m \u001b[38;5;28;01mNone\u001b[39;00m\n",
      "\u001b[36mFile \u001b[39m\u001b[32m/usr/local/lib/python3.12/site-packages/sqlalchemy/engine/base.py:1964\u001b[39m, in \u001b[36mConnection._exec_single_context\u001b[39m\u001b[34m(self, dialect, context, statement, parameters)\u001b[39m\n\u001b[32m   1962\u001b[39m                 \u001b[38;5;28;01mbreak\u001b[39;00m\n\u001b[32m   1963\u001b[39m     \u001b[38;5;28;01mif\u001b[39;00m \u001b[38;5;129;01mnot\u001b[39;00m evt_handled:\n\u001b[32m-> \u001b[39m\u001b[32m1964\u001b[39m         \u001b[38;5;28;43mself\u001b[39;49m\u001b[43m.\u001b[49m\u001b[43mdialect\u001b[49m\u001b[43m.\u001b[49m\u001b[43mdo_execute\u001b[49m\u001b[43m(\u001b[49m\n\u001b[32m   1965\u001b[39m \u001b[43m            \u001b[49m\u001b[43mcursor\u001b[49m\u001b[43m,\u001b[49m\u001b[43m \u001b[49m\u001b[43mstr_statement\u001b[49m\u001b[43m,\u001b[49m\u001b[43m \u001b[49m\u001b[43meffective_parameters\u001b[49m\u001b[43m,\u001b[49m\u001b[43m \u001b[49m\u001b[43mcontext\u001b[49m\n\u001b[32m   1966\u001b[39m \u001b[43m        \u001b[49m\u001b[43m)\u001b[49m\n\u001b[32m   1968\u001b[39m \u001b[38;5;28;01mif\u001b[39;00m \u001b[38;5;28mself\u001b[39m._has_events \u001b[38;5;129;01mor\u001b[39;00m \u001b[38;5;28mself\u001b[39m.engine._has_events:\n\u001b[32m   1969\u001b[39m     \u001b[38;5;28mself\u001b[39m.dispatch.after_cursor_execute(\n\u001b[32m   1970\u001b[39m         \u001b[38;5;28mself\u001b[39m,\n\u001b[32m   1971\u001b[39m         cursor,\n\u001b[32m   (...)\u001b[39m\u001b[32m   1975\u001b[39m         context.executemany,\n\u001b[32m   1976\u001b[39m     )\n",
      "\u001b[36mFile \u001b[39m\u001b[32m/usr/local/lib/python3.12/site-packages/trino/sqlalchemy/dialect.py:442\u001b[39m, in \u001b[36mTrinoDialect.do_execute\u001b[39m\u001b[34m(self, cursor, statement, parameters, context)\u001b[39m\n\u001b[32m    439\u001b[39m \u001b[38;5;28;01mdef\u001b[39;00m\u001b[38;5;250m \u001b[39m\u001b[34mdo_execute\u001b[39m(\n\u001b[32m    440\u001b[39m     \u001b[38;5;28mself\u001b[39m, cursor: Cursor, statement: \u001b[38;5;28mstr\u001b[39m, parameters: Tuple[Any, ...], context: DefaultExecutionContext = \u001b[38;5;28;01mNone\u001b[39;00m\n\u001b[32m    441\u001b[39m ):\n\u001b[32m--> \u001b[39m\u001b[32m442\u001b[39m     \u001b[43mcursor\u001b[49m\u001b[43m.\u001b[49m\u001b[43mexecute\u001b[49m\u001b[43m(\u001b[49m\u001b[43mstatement\u001b[49m\u001b[43m,\u001b[49m\u001b[43m \u001b[49m\u001b[43mparameters\u001b[49m\u001b[43m)\u001b[49m\n",
      "\u001b[36mFile \u001b[39m\u001b[32m/usr/local/lib/python3.12/site-packages/trino/dbapi.py:629\u001b[39m, in \u001b[36mCursor.execute\u001b[39m\u001b[34m(self, operation, params)\u001b[39m\n\u001b[32m    626\u001b[39m \u001b[38;5;28;01melse\u001b[39;00m:\n\u001b[32m    627\u001b[39m     \u001b[38;5;28mself\u001b[39m._query = trino.client.TrinoQuery(\u001b[38;5;28mself\u001b[39m._request, query=operation,\n\u001b[32m    628\u001b[39m                                           legacy_primitive_types=\u001b[38;5;28mself\u001b[39m._legacy_primitive_types)\n\u001b[32m--> \u001b[39m\u001b[32m629\u001b[39m     \u001b[38;5;28mself\u001b[39m._iterator = \u001b[38;5;28miter\u001b[39m(\u001b[38;5;28;43mself\u001b[39;49m\u001b[43m.\u001b[49m\u001b[43m_query\u001b[49m\u001b[43m.\u001b[49m\u001b[43mexecute\u001b[49m\u001b[43m(\u001b[49m\u001b[43m)\u001b[49m)\n\u001b[32m    630\u001b[39m \u001b[38;5;28;01mreturn\u001b[39;00m \u001b[38;5;28mself\u001b[39m\n",
      "\u001b[36mFile \u001b[39m\u001b[32m/usr/local/lib/python3.12/site-packages/trino/client.py:900\u001b[39m, in \u001b[36mTrinoQuery.execute\u001b[39m\u001b[34m(self, additional_http_headers)\u001b[39m\n\u001b[32m    898\u001b[39m \u001b[38;5;66;03m# Execute should block until at least one row is received or query is finished or cancelled\u001b[39;00m\n\u001b[32m    899\u001b[39m \u001b[38;5;28;01mwhile\u001b[39;00m \u001b[38;5;129;01mnot\u001b[39;00m \u001b[38;5;28mself\u001b[39m.finished \u001b[38;5;129;01mand\u001b[39;00m \u001b[38;5;129;01mnot\u001b[39;00m \u001b[38;5;28mself\u001b[39m.cancelled \u001b[38;5;129;01mand\u001b[39;00m \u001b[38;5;28mlen\u001b[39m(\u001b[38;5;28mself\u001b[39m._result.rows) == \u001b[32m0\u001b[39m:\n\u001b[32m--> \u001b[39m\u001b[32m900\u001b[39m     \u001b[38;5;28mself\u001b[39m._result.rows += \u001b[38;5;28;43mself\u001b[39;49m\u001b[43m.\u001b[49m\u001b[43mfetch\u001b[49m\u001b[43m(\u001b[49m\u001b[43m)\u001b[49m\n\u001b[32m    901\u001b[39m \u001b[38;5;28;01mreturn\u001b[39;00m \u001b[38;5;28mself\u001b[39m._result\n",
      "\u001b[36mFile \u001b[39m\u001b[32m/usr/local/lib/python3.12/site-packages/trino/client.py:920\u001b[39m, in \u001b[36mTrinoQuery.fetch\u001b[39m\u001b[34m(self)\u001b[39m\n\u001b[32m    918\u001b[39m \u001b[38;5;28;01mexcept\u001b[39;00m requests.exceptions.RequestException \u001b[38;5;28;01mas\u001b[39;00m e:\n\u001b[32m    919\u001b[39m     \u001b[38;5;28;01mraise\u001b[39;00m trino.exceptions.TrinoConnectionError(\u001b[33m\"\u001b[39m\u001b[33mfailed to fetch: \u001b[39m\u001b[38;5;132;01m{}\u001b[39;00m\u001b[33m\"\u001b[39m.format(e))\n\u001b[32m--> \u001b[39m\u001b[32m920\u001b[39m status = \u001b[38;5;28;43mself\u001b[39;49m\u001b[43m.\u001b[49m\u001b[43m_request\u001b[49m\u001b[43m.\u001b[49m\u001b[43mprocess\u001b[49m\u001b[43m(\u001b[49m\u001b[43mresponse\u001b[49m\u001b[43m)\u001b[49m\n\u001b[32m    921\u001b[39m \u001b[38;5;28mself\u001b[39m._update_state(status)\n\u001b[32m    922\u001b[39m \u001b[38;5;28;01mif\u001b[39;00m status.next_uri \u001b[38;5;129;01mis\u001b[39;00m \u001b[38;5;28;01mNone\u001b[39;00m:\n",
      "\u001b[36mFile \u001b[39m\u001b[32m/usr/local/lib/python3.12/site-packages/trino/client.py:689\u001b[39m, in \u001b[36mTrinoRequest.process\u001b[39m\u001b[34m(self, http_response)\u001b[39m\n\u001b[32m    687\u001b[39m response = http_response.json()\n\u001b[32m    688\u001b[39m \u001b[38;5;28;01mif\u001b[39;00m \u001b[33m\"\u001b[39m\u001b[33merror\u001b[39m\u001b[33m\"\u001b[39m \u001b[38;5;129;01min\u001b[39;00m response \u001b[38;5;129;01mand\u001b[39;00m response[\u001b[33m\"\u001b[39m\u001b[33merror\u001b[39m\u001b[33m\"\u001b[39m]:\n\u001b[32m--> \u001b[39m\u001b[32m689\u001b[39m     \u001b[38;5;28;01mraise\u001b[39;00m \u001b[38;5;28mself\u001b[39m._process_error(response[\u001b[33m\"\u001b[39m\u001b[33merror\u001b[39m\u001b[33m\"\u001b[39m], response.get(\u001b[33m\"\u001b[39m\u001b[33mid\u001b[39m\u001b[33m\"\u001b[39m))\n\u001b[32m    691\u001b[39m \u001b[38;5;28;01mif\u001b[39;00m constants.HEADER_CLEAR_SESSION \u001b[38;5;129;01min\u001b[39;00m http_response.headers:\n\u001b[32m    692\u001b[39m     \u001b[38;5;28;01mfor\u001b[39;00m prop \u001b[38;5;129;01min\u001b[39;00m get_header_values(\n\u001b[32m    693\u001b[39m         http_response.headers, constants.HEADER_CLEAR_SESSION\n\u001b[32m    694\u001b[39m     ):\n",
      "\u001b[31mDBAPIError\u001b[39m: (trino.exceptions.TrinoQueryError) TrinoQueryError(type=INTERNAL_ERROR, name=GENERIC_INTERNAL_ERROR, message=\"io.trino.spi.TrinoException: Error processing metadata for table house_prices.raw\", query_id=20250508_205051_00006_cpaje)\n[SQL: \nSELECT\n    COUNT(*) as total_rows,\n    COUNT_IF(_loaded_at IS NULL) as null_count\nFROM house_prices.raw\n    ]\n(Background on this error at: https://sqlalche.me/e/20/dbapi)"
     ]
    }
   ],
   "source": [
    "null_count_sql = \"\"\"\n",
    "SELECT\n",
    "    COUNT(*) as total_rows,\n",
    "    COUNT_IF(_loaded_at IS NULL) as null_count\n",
    "FROM house_prices.raw\n",
    "    \"\"\"\n",
    "with engine.connect() as conn:\n",
    "    df = pl.read_database(null_count_sql, conn)\n",
    "df"
   ]
  },
  {
   "cell_type": "markdown",
   "id": "e2bb8623-bcbf-4824-9c3d-d27036e19b20",
   "metadata": {},
   "source": [
    "A simple UPDATE in SQL saves us many lines of Python code"
   ]
  },
  {
   "cell_type": "code",
   "execution_count": null,
   "id": "nWHF",
   "metadata": {},
   "outputs": [],
   "source": [
    "with engine.connect() as conn:\n",
    "    sql = f\"UPDATE house_prices.raw SET _loaded_at = from_iso8601_timestamp('{timestamp.isoformat()}') WHERE _loaded_at is null\"\n",
    "    result = conn.execute(sa.text(sql))\n",
    "    print(result.fetchone())"
   ]
  },
  {
   "cell_type": "code",
   "execution_count": 13,
   "id": "iLit",
   "metadata": {},
   "outputs": [
    {
     "data": {
      "text/html": [
       "<div><style>\n",
       ".dataframe > thead > tr,\n",
       ".dataframe > tbody > tr {\n",
       "  text-align: right;\n",
       "  white-space: pre-wrap;\n",
       "}\n",
       "</style>\n",
       "<small>shape: (1, 2)</small><table border=\"1\" class=\"dataframe\"><thead><tr><th>total_rows</th><th>null_count</th></tr><tr><td>i64</td><td>i64</td></tr></thead><tbody><tr><td>1546116</td><td>0</td></tr></tbody></table></div>"
      ],
      "text/plain": [
       "shape: (1, 2)\n",
       "┌────────────┬────────────┐\n",
       "│ total_rows ┆ null_count │\n",
       "│ ---        ┆ ---        │\n",
       "│ i64        ┆ i64        │\n",
       "╞════════════╪════════════╡\n",
       "│ 1546116    ┆ 0          │\n",
       "└────────────┴────────────┘"
      ]
     },
     "execution_count": 13,
     "metadata": {},
     "output_type": "execute_result"
    }
   ],
   "source": [
    "with engine.connect() as conn:\n",
    "    df = pl.read_database(null_count_sql, conn)\n",
    "df"
   ]
  },
  {
   "cell_type": "markdown",
   "id": "ZHCJ",
   "metadata": {},
   "source": [
    "We should now have a new snapshot - let's have a peek"
   ]
  },
  {
   "cell_type": "code",
   "execution_count": 15,
   "id": "ROlb",
   "metadata": {},
   "outputs": [
    {
     "data": {
      "application/json": {
       "current-schema-id": 1,
       "current-snapshot-id": 6910125867099050000,
       "default-sort-order-id": 0,
       "default-spec-id": 0,
       "format-version": 2,
       "last-column-id": 17,
       "last-partition-id": 999,
       "last-sequence-number": 9,
       "last-updated-ms": 1746127041296,
       "location": "s3://warehouse/house_prices/raw",
       "metadata-log": [
        {
         "metadata-file": "s3://warehouse/house_prices/raw/metadata/00000-01968838-cc69-7d11-9c69-2c6a24f44c03.gz.metadata.json",
         "timestamp-ms": 1746042145898
        },
        {
         "metadata-file": "s3://warehouse/house_prices/raw/metadata/00001-01968839-f40c-7d01-aa04-3c311e5c1c4f.gz.metadata.json",
         "timestamp-ms": 1746042221559
        },
        {
         "metadata-file": "s3://warehouse/house_prices/raw/metadata/00002-0196883c-3431-7552-a492-a1f738d30d4f.gz.metadata.json",
         "timestamp-ms": 1746042369052
        },
        {
         "metadata-file": "s3://warehouse/house_prices/raw/metadata/00003-01968851-2572-70b3-b798-49f74555de06.gz.metadata.json",
         "timestamp-ms": 1746043741554
        },
        {
         "metadata-file": "s3://warehouse/house_prices/raw/metadata/00004-01968851-c505-71d1-b92e-a8563f4e905e.gz.metadata.json",
         "timestamp-ms": 1746043782346
        },
        {
         "metadata-file": "s3://warehouse/house_prices/raw/metadata/00005-01968859-6407-7110-9864-62131bf46c7c.gz.metadata.json",
         "timestamp-ms": 1746044281857
        },
        {
         "metadata-file": "s3://warehouse/house_prices/raw/metadata/00006-01968861-a969-7c00-809b-33765f8a70a5.gz.metadata.json",
         "timestamp-ms": 1746044818422
        }
       ],
       "partition-specs": [
        {
         "fields": [],
         "spec-id": 0
        }
       ],
       "refs": {
        "main": {
         "snapshot-id": 6910125867099050000,
         "type": "branch"
        }
       },
       "schemas": [
        {
         "fields": [
          {
           "doc": "A reference number which is generated automatically recording each published sale. The number is unique and will change each time a sale is recorded.",
           "id": 1,
           "name": "transaction_id",
           "required": true,
           "type": "string"
          },
          {
           "doc": "Sale price stated on the transfer deed.",
           "id": 2,
           "name": "price",
           "required": true,
           "type": "int"
          },
          {
           "doc": "Date when the sale was completed, as stated on the transfer deed.",
           "id": 3,
           "name": "date_of_transfer",
           "required": true,
           "type": "date"
          },
          {
           "doc": "This is the postcode used at the time of the original transaction. Note that postcodes can be reallocated and these changes are not reflected in the Price Paid Dataset.",
           "id": 4,
           "name": "postcode",
           "required": true,
           "type": "string"
          },
          {
           "doc": "D = Detached, S = Semi-Detached, T = Terraced, F = Flats/Maisonettes, O = Other",
           "id": 5,
           "name": "property_type",
           "required": true,
           "type": "string"
          },
          {
           "doc": "Indicates the age of the property and applies to all price paid transactions, residential and non-residential. Y = a newly built property, N = an established residential building",
           "id": 6,
           "name": "new_property",
           "required": true,
           "type": "string"
          },
          {
           "doc": "Relates to the tenure: F = Freehold, L= Leasehold etc. Note that HM Land Registry does not record leases of 7 years or less in the Price Paid Dataset.",
           "id": 7,
           "name": "duration",
           "required": true,
           "type": "string"
          },
          {
           "doc": "Primary Addressable Object Name. Typically the house number or name",
           "id": 8,
           "name": "paon",
           "required": false,
           "type": "string"
          },
          {
           "doc": "Secondary Addressable Object Name. Where a property has been divided into separate units (for example, flats), the PAON (above) will identify the building and a SAON will be specified that identifies the separate unit/flat.",
           "id": 9,
           "name": "saon",
           "required": false,
           "type": "string"
          },
          {
           "id": 10,
           "name": "street",
           "required": false,
           "type": "string"
          },
          {
           "id": 11,
           "name": "locality",
           "required": false,
           "type": "string"
          },
          {
           "id": 12,
           "name": "town",
           "required": false,
           "type": "string"
          },
          {
           "id": 13,
           "name": "district",
           "required": false,
           "type": "string"
          },
          {
           "id": 14,
           "name": "county",
           "required": false,
           "type": "string"
          },
          {
           "doc": "Indicates the type of Price Paid transaction. A = Standard Price Paid entry, includes single residential property sold for value. B = Additional Price Paid entry including transfers under a power of sale/repossessions, buy-to-lets (where they can be identified by a Mortgage), transfers to non-private individuals and sales where the property type is classed as ‘Other’.",
           "id": 15,
           "name": "ppd_category_type",
           "required": false,
           "type": "string"
          },
          {
           "doc": "Indicates additions, changes and deletions to the records. A = Addition C = Change D = Delete",
           "id": 16,
           "name": "record_status",
           "required": false,
           "type": "string"
          }
         ],
         "identifier-field-ids": [
          1
         ],
         "schema-id": 0,
         "type": "struct"
        },
        {
         "fields": [
          {
           "doc": "A reference number which is generated automatically recording each published sale. The number is unique and will change each time a sale is recorded.",
           "id": 1,
           "name": "transaction_id",
           "required": true,
           "type": "string"
          },
          {
           "doc": "Sale price stated on the transfer deed.",
           "id": 2,
           "name": "price",
           "required": true,
           "type": "int"
          },
          {
           "doc": "Date when the sale was completed, as stated on the transfer deed.",
           "id": 3,
           "name": "date_of_transfer",
           "required": true,
           "type": "date"
          },
          {
           "doc": "This is the postcode used at the time of the original transaction. Note that postcodes can be reallocated and these changes are not reflected in the Price Paid Dataset.",
           "id": 4,
           "name": "postcode",
           "required": true,
           "type": "string"
          },
          {
           "doc": "D = Detached, S = Semi-Detached, T = Terraced, F = Flats/Maisonettes, O = Other",
           "id": 5,
           "name": "property_type",
           "required": true,
           "type": "string"
          },
          {
           "doc": "Indicates the age of the property and applies to all price paid transactions, residential and non-residential. Y = a newly built property, N = an established residential building",
           "id": 6,
           "name": "new_property",
           "required": true,
           "type": "string"
          },
          {
           "doc": "Relates to the tenure: F = Freehold, L= Leasehold etc. Note that HM Land Registry does not record leases of 7 years or less in the Price Paid Dataset.",
           "id": 7,
           "name": "duration",
           "required": true,
           "type": "string"
          },
          {
           "doc": "Primary Addressable Object Name. Typically the house number or name",
           "id": 8,
           "name": "paon",
           "required": false,
           "type": "string"
          },
          {
           "doc": "Secondary Addressable Object Name. Where a property has been divided into separate units (for example, flats), the PAON (above) will identify the building and a SAON will be specified that identifies the separate unit/flat.",
           "id": 9,
           "name": "saon",
           "required": false,
           "type": "string"
          },
          {
           "id": 10,
           "name": "street",
           "required": false,
           "type": "string"
          },
          {
           "id": 11,
           "name": "locality",
           "required": false,
           "type": "string"
          },
          {
           "id": 12,
           "name": "town",
           "required": false,
           "type": "string"
          },
          {
           "id": 13,
           "name": "district",
           "required": false,
           "type": "string"
          },
          {
           "id": 14,
           "name": "county",
           "required": false,
           "type": "string"
          },
          {
           "doc": "Indicates the type of Price Paid transaction. A = Standard Price Paid entry, includes single residential property sold for value. B = Additional Price Paid entry including transfers under a power of sale/repossessions, buy-to-lets (where they can be identified by a Mortgage), transfers to non-private individuals and sales where the property type is classed as ‘Other’.",
           "id": 15,
           "name": "ppd_category_type",
           "required": false,
           "type": "string"
          },
          {
           "doc": "Indicates additions, changes and deletions to the records. A = Addition C = Change D = Delete",
           "id": 16,
           "name": "record_status",
           "required": false,
           "type": "string"
          },
          {
           "doc": "The date this row was loaded",
           "id": 17,
           "name": "_loaded_at",
           "required": false,
           "type": "timestamptz"
          }
         ],
         "identifier-field-ids": [
          1
         ],
         "schema-id": 1,
         "type": "struct"
        }
       ],
       "snapshot-log": [
        {
         "snapshot-id": 3870307059191543000,
         "timestamp-ms": 1746042221559
        },
        {
         "snapshot-id": 6160762292259832000,
         "timestamp-ms": 1746042369052
        },
        {
         "snapshot-id": 4389943633381866500,
         "timestamp-ms": 1746043782346
        },
        {
         "snapshot-id": 7243334300264101000,
         "timestamp-ms": 1746044281857
        },
        {
         "snapshot-id": 5618685459824119000,
         "timestamp-ms": 1746044818422
        },
        {
         "snapshot-id": 6910125867099050000,
         "timestamp-ms": 1746127041296
        }
       ],
       "snapshots": [
        {
         "manifest-list": "s3://warehouse/house_prices/raw/metadata/snap-6910125867099050337-1-cea3f2bb-02a4-4204-b33a-9caa50de8b30.avro",
         "parent-snapshot-id": 5618685459824119000,
         "schema-id": 1,
         "sequence-number": 9,
         "snapshot-id": 6910125867099050000,
         "summary": {
          "added-data-files": "1",
          "added-delete-files": "1",
          "added-files-size": "19156388",
          "added-position-delete-files": "1",
          "added-position-deletes": "841772",
          "added-records": "841772",
          "changed-partition-count": "1",
          "engine-name": "trino",
          "engine-version": "475",
          "iceberg-version": "Apache Iceberg 1.8.1 (commit 9ce0fcf0af7becf25ad9fc996c3bad2afdcfd33d)",
          "operation": "overwrite",
          "total-data-files": "3",
          "total-delete-files": "1",
          "total-equality-deletes": "0",
          "total-files-size": "54192605",
          "total-position-deletes": "841772",
          "total-records": "2387888",
          "trino_query_id": "20250501_191715_00006_hpuqw",
          "trino_user": "trino"
         },
         "timestamp-ms": 1746127041296
        },
        {
         "manifest-list": "s3://warehouse/house_prices/raw/metadata/snap-122416445074455388-0-93a24c82-35f7-41a6-a086-3f5a5f80f71f.avro",
         "parent-snapshot-id": 6160762292259832000,
         "schema-id": 1,
         "sequence-number": 3,
         "snapshot-id": 122416445074455400,
         "summary": {
          "operation": "append",
          "total-data-files": "2",
          "total-delete-files": "0",
          "total-equality-deletes": "0",
          "total-files-size": "34931712",
          "total-position-deletes": "0",
          "total-records": "1546116"
         },
         "timestamp-ms": 1746043777002
        },
        {
         "manifest-list": "s3://warehouse/house_prices/raw/metadata/snap-6160762292259832203-0-0ab09c23-d71c-4686-968a-f5ebd7b2e32a.avro",
         "parent-snapshot-id": 3870307059191543000,
         "schema-id": 0,
         "sequence-number": 2,
         "snapshot-id": 6160762292259832000,
         "summary": {
          "added-data-files": "1",
          "added-files-size": "19093353",
          "added-records": "841772",
          "operation": "append",
          "total-data-files": "2",
          "total-delete-files": "0",
          "total-equality-deletes": "0",
          "total-files-size": "34931712",
          "total-position-deletes": "0",
          "total-records": "1546116"
         },
         "timestamp-ms": 1746042369052
        },
        {
         "manifest-list": "s3://warehouse/house_prices/raw/metadata/snap-5618685459824118337-0-7bf798c2-eb25-4ed2-bd60-763a05f01b68.avro",
         "parent-snapshot-id": 1092067571415845100,
         "schema-id": 1,
         "sequence-number": 8,
         "snapshot-id": 5618685459824119000,
         "summary": {
          "added-data-files": "1",
          "added-files-size": "15942864",
          "added-records": "704344",
          "operation": "append",
          "total-data-files": "2",
          "total-delete-files": "0",
          "total-equality-deletes": "0",
          "total-files-size": "35036217",
          "total-position-deletes": "0",
          "total-records": "1546116"
         },
         "timestamp-ms": 1746044818422
        },
        {
         "manifest-list": "s3://warehouse/house_prices/raw/metadata/snap-4996382859333512033-0-82452e34-89b7-4a80-9918-10bf35efe7d5.avro",
         "parent-snapshot-id": 4389943633381866500,
         "schema-id": 1,
         "sequence-number": 5,
         "snapshot-id": 4996382859333512000,
         "summary": {
          "operation": "append",
          "total-data-files": "2",
          "total-delete-files": "0",
          "total-equality-deletes": "0",
          "total-files-size": "34931712",
          "total-position-deletes": "0",
          "total-records": "1546116"
         },
         "timestamp-ms": 1746044276555
        },
        {
         "manifest-list": "s3://warehouse/house_prices/raw/metadata/snap-7243334300264100548-0-6b4ec6d0-53cd-468c-a583-7e2ea18ceeea.avro",
         "parent-snapshot-id": 4996382859333512000,
         "schema-id": 1,
         "sequence-number": 6,
         "snapshot-id": 7243334300264101000,
         "summary": {
          "operation": "append",
          "total-data-files": "2",
          "total-delete-files": "0",
          "total-equality-deletes": "0",
          "total-files-size": "34931712",
          "total-position-deletes": "0",
          "total-records": "1546116"
         },
         "timestamp-ms": 1746044281857
        },
        {
         "manifest-list": "s3://warehouse/house_prices/raw/metadata/snap-3870307059191542653-0-7262a90a-be35-49a5-9331-c3fc7ae49ae2.avro",
         "schema-id": 0,
         "sequence-number": 1,
         "snapshot-id": 3870307059191543000,
         "summary": {
          "added-data-files": "1",
          "added-files-size": "15838359",
          "added-records": "704344",
          "operation": "append",
          "total-data-files": "1",
          "total-delete-files": "0",
          "total-equality-deletes": "0",
          "total-files-size": "15838359",
          "total-position-deletes": "0",
          "total-records": "704344"
         },
         "timestamp-ms": 1746042221559
        },
        {
         "manifest-list": "s3://warehouse/house_prices/raw/metadata/snap-1092067571415845178-0-76964b56-f1a2-48f7-9ef5-0df4ffc7d9b3.avro",
         "parent-snapshot-id": 7243334300264101000,
         "schema-id": 1,
         "sequence-number": 7,
         "snapshot-id": 1092067571415845100,
         "summary": {
          "deleted-data-files": "1",
          "deleted-records": "704344",
          "operation": "overwrite",
          "removed-files-size": "15838359",
          "total-data-files": "1",
          "total-delete-files": "0",
          "total-equality-deletes": "0",
          "total-files-size": "19093353",
          "total-position-deletes": "0",
          "total-records": "841772"
         },
         "timestamp-ms": 1746044817891
        },
        {
         "manifest-list": "s3://warehouse/house_prices/raw/metadata/snap-4389943633381866277-0-29107d24-950b-4a91-89be-01cae9c8fb09.avro",
         "parent-snapshot-id": 122416445074455400,
         "schema-id": 1,
         "sequence-number": 4,
         "snapshot-id": 4389943633381866500,
         "summary": {
          "operation": "append",
          "total-data-files": "2",
          "total-delete-files": "0",
          "total-equality-deletes": "0",
          "total-files-size": "34931712",
          "total-position-deletes": "0",
          "total-records": "1546116"
         },
         "timestamp-ms": 1746043782346
        }
       ],
       "sort-orders": [
        {
         "fields": [],
         "order-id": 0
        }
       ],
       "table-uuid": "01968838-cc69-7d11-9c69-2c58aa2bc8bc"
      },
      "text/plain": [
       "<IPython.core.display.JSON object>"
      ]
     },
     "execution_count": 15,
     "metadata": {
      "application/json": {
       "expanded": false,
       "root": "root"
      }
     },
     "output_type": "execute_result"
    }
   ],
   "source": [
    "JSON(get_iceberg_metadata(fs, house_prices))"
   ]
  },
  {
   "cell_type": "markdown",
   "id": "qnkX",
   "metadata": {},
   "source": [
    "## Deletes\n",
    "\n",
    "We have a new operation `overwrite` - Parquet is immutable, so we have to physically write out a new file and delete the old one. That is expensive, so Iceberg uses delete files to avoid having to up-front do the work of actually deleting data.\n",
    "\n",
    "In Iceberg V2, there are positional-deletes and equality-deletes. These are both represented by a new delete file, which is just a parquet file which specifies rows to mark as deleted, either by a filter like `transaction_id = '{045A1898-4ABF-9A24-E063-4804A8C048EA}'` or by position, like in this example\n",
    "\n",
    "```{code} parquet\n",
    ":filename: some_random_id.parquet\n",
    "file_path,pos\n",
    "s3://warehouse/house_prices/raw/data/00000-0-0ab09c23-d71c-4686-968a-f5ebd7b2e32a.parquet,0\n",
    "s3://warehouse/house_prices/raw/data/00000-0-0ab09c23-d71c-4686-968a-f5ebd7b2e32a.parquet,1\n",
    "s3://warehouse/house_prices/raw/data/00000-0-0ab09c23-d71c-4686-968a-f5ebd7b2e32a.parquet,2\n",
    "s3://warehouse/house_prices/raw/data/00000-0-0ab09c23-d71c-4686-968a-f5ebd7b2e32a.parquet,3\n",
    "```\n",
    "\n",
    "```{warning} Deprecation Warning\n",
    "Positional deletes will be replaced by deletion vectors in Iceberg V3\n",
    "```"
   ]
  },
  {
   "cell_type": "code",
   "execution_count": null,
   "id": "Vxnm",
   "metadata": {},
   "outputs": [],
   "source": [
    "get_iceberg_manifest_list(fs, house_prices)"
   ]
  }
 ],
 "metadata": {
  "kernelspec": {
   "display_name": "Python 3 (ipykernel)",
   "language": "python",
   "name": "python3"
  },
  "language_info": {
   "codemirror_mode": {
    "name": "ipython",
    "version": 3
   },
   "file_extension": ".py",
   "mimetype": "text/x-python",
   "name": "python",
   "nbconvert_exporter": "python",
   "pygments_lexer": "ipython3",
   "version": "3.12.10"
  }
 },
 "nbformat": 4,
 "nbformat_minor": 5
}
